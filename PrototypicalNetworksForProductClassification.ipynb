{
  "nbformat": 4,
  "nbformat_minor": 0,
  "metadata": {
    "colab": {
      "provenance": [],
      "authorship_tag": "ABX9TyOKtgJJD69uHIZCVZDJ/MsG",
      "include_colab_link": true
    },
    "kernelspec": {
      "name": "python3",
      "display_name": "Python 3"
    },
    "language_info": {
      "name": "python"
    }
  },
  "cells": [
    {
      "cell_type": "markdown",
      "metadata": {
        "id": "view-in-github",
        "colab_type": "text"
      },
      "source": [
        "<a href=\"https://colab.research.google.com/github/AbhirKarande/OCRandProductRecognition/blob/main/PrototypicalNetworksForProductClassification.ipynb\" target=\"_parent\"><img src=\"https://colab.research.google.com/assets/colab-badge.svg\" alt=\"Open In Colab\"/></a>"
      ]
    },
    {
      "cell_type": "code",
      "source": [
        "!git clone https://github.com/AbhirKarande/OCRandProductRecognition.git"
      ],
      "metadata": {
        "colab": {
          "base_uri": "https://localhost:8080/"
        },
        "id": "MKQoXSJa5V3D",
        "outputId": "178f4b3b-80b4-4243-9ac3-495b27057df2"
      },
      "execution_count": 1,
      "outputs": [
        {
          "output_type": "stream",
          "name": "stdout",
          "text": [
            "Cloning into 'OCRandProductRecognition'...\n",
            "remote: Enumerating objects: 87, done.\u001b[K\n",
            "remote: Counting objects: 100% (38/38), done.\u001b[K\n",
            "remote: Compressing objects: 100% (35/35), done.\u001b[K\n",
            "remote: Total 87 (delta 10), reused 0 (delta 0), pack-reused 49\u001b[K\n",
            "Unpacking objects: 100% (87/87), 6.79 MiB | 12.18 MiB/s, done.\n"
          ]
        }
      ]
    },
    {
      "cell_type": "code",
      "source": [
        "!pip install learn2learn"
      ],
      "metadata": {
        "colab": {
          "base_uri": "https://localhost:8080/"
        },
        "id": "fB_DB84b_wi2",
        "outputId": "b6990b20-2364-472a-8c9e-38940d403fcb"
      },
      "execution_count": 6,
      "outputs": [
        {
          "output_type": "stream",
          "name": "stdout",
          "text": [
            "Looking in indexes: https://pypi.org/simple, https://us-python.pkg.dev/colab-wheels/public/simple/\n",
            "Collecting learn2learn\n",
            "  Using cached learn2learn-0.1.7.tar.gz (841 kB)\n",
            "  Preparing metadata (setup.py) ... \u001b[?25l\u001b[?25hdone\n",
            "Requirement already satisfied: numpy>=1.15.4 in /usr/local/lib/python3.10/dist-packages (from learn2learn) (1.22.4)\n",
            "Requirement already satisfied: gym>=0.14.0 in /usr/local/lib/python3.10/dist-packages (from learn2learn) (0.25.2)\n",
            "Requirement already satisfied: torch>=1.1.0 in /usr/local/lib/python3.10/dist-packages (from learn2learn) (2.0.1+cu118)\n",
            "Requirement already satisfied: torchvision>=0.3.0 in /usr/local/lib/python3.10/dist-packages (from learn2learn) (0.15.2+cu118)\n",
            "Requirement already satisfied: scipy in /usr/local/lib/python3.10/dist-packages (from learn2learn) (1.10.1)\n",
            "Requirement already satisfied: requests in /usr/local/lib/python3.10/dist-packages (from learn2learn) (2.27.1)\n",
            "Collecting gsutil (from learn2learn)\n",
            "  Using cached gsutil-5.24.tar.gz (3.0 MB)\n",
            "  Preparing metadata (setup.py) ... \u001b[?25l\u001b[?25hdone\n",
            "Requirement already satisfied: tqdm in /usr/local/lib/python3.10/dist-packages (from learn2learn) (4.65.0)\n",
            "Collecting qpth>=0.0.15 (from learn2learn)\n",
            "  Using cached qpth-0.0.15.tar.gz (11 kB)\n",
            "  \u001b[1;31merror\u001b[0m: \u001b[1msubprocess-exited-with-error\u001b[0m\n",
            "  \n",
            "  \u001b[31m×\u001b[0m \u001b[32mpython setup.py egg_info\u001b[0m did not run successfully.\n",
            "  \u001b[31m│\u001b[0m exit code: \u001b[1;36m1\u001b[0m\n",
            "  \u001b[31m╰─>\u001b[0m See above for output.\n",
            "  \n",
            "  \u001b[1;35mnote\u001b[0m: This error originates from a subprocess, and is likely not a problem with pip.\n",
            "  Preparing metadata (setup.py) ... \u001b[?25l\u001b[?25herror\n",
            "\u001b[1;31merror\u001b[0m: \u001b[1mmetadata-generation-failed\u001b[0m\n",
            "\n",
            "\u001b[31m×\u001b[0m Encountered error while generating package metadata.\n",
            "\u001b[31m╰─>\u001b[0m See above for output.\n",
            "\n",
            "\u001b[1;35mnote\u001b[0m: This is an issue with the package mentioned above, not pip.\n",
            "\u001b[1;36mhint\u001b[0m: See above for details.\n"
          ]
        }
      ]
    },
    {
      "cell_type": "code",
      "execution_count": 14,
      "metadata": {
        "id": "LB04PhT4Nvm4"
      },
      "outputs": [],
      "source": [
        "import torch\n",
        "import torch.nn as nn\n",
        "import torch.optim as optim\n",
        "import torchvision.transforms as transforms\n",
        "from torch.utils.data import DataLoader\n",
        "from torchvision.datasets import ImageFolder\n",
        "import argparse\n",
        "import numpy as np\n"
      ]
    },
    {
      "cell_type": "code",
      "source": [
        "!pip install --quiet pytorch-lightning>=1.4\n"
      ],
      "metadata": {
        "id": "-sbOcM_CNUFu"
      },
      "execution_count": 12,
      "outputs": []
    },
    {
      "cell_type": "code",
      "source": [
        "import pytorch_lightning as pl"
      ],
      "metadata": {
        "id": "mB5dKKswNYeO"
      },
      "execution_count": 13,
      "outputs": []
    },
    {
      "cell_type": "code",
      "source": [
        "from pytorch_lightning.callbacks import LearningRateMonitor, ModelCheckpoint\n"
      ],
      "metadata": {
        "id": "pfTqLcr7Nt0k"
      },
      "execution_count": 16,
      "outputs": []
    },
    {
      "cell_type": "code",
      "source": [
        "# Path to the folder where the datasets are/should be downloaded (e.g. CIFAR10)\n",
        "DATASET_PATH = \"/data\"\n",
        "# Path to the folder where the pretrained models are saved\n",
        "CHECKPOINT_PATH = \"../saved_models/tutorial16\""
      ],
      "metadata": {
        "id": "4rRlSApDRd6c"
      },
      "execution_count": 20,
      "outputs": []
    },
    {
      "cell_type": "code",
      "source": [
        "from torchvision.datasets import CIFAR100, SVHN\n",
        "\n",
        "CIFAR_train_set = CIFAR100(root=DATASET_PATH, train=True, download=True, transform=transforms.ToTensor())\n",
        "CIFAR_test_set = CIFAR100(root=DATASET_PATH, train=False, download=True, transform=transforms.ToTensor())\n"
      ],
      "metadata": {
        "colab": {
          "base_uri": "https://localhost:8080/"
        },
        "id": "6hd9thaySQy4",
        "outputId": "4a3b0141-a0f1-447a-906b-3a104e979b20"
      },
      "execution_count": 21,
      "outputs": [
        {
          "output_type": "stream",
          "name": "stdout",
          "text": [
            "Files already downloaded and verified\n",
            "Files already downloaded and verified\n"
          ]
        }
      ]
    },
    {
      "cell_type": "code",
      "source": [],
      "metadata": {
        "id": "AdyvVaiPXv_9"
      },
      "execution_count": null,
      "outputs": []
    },
    {
      "cell_type": "code",
      "source": [
        "def get_convnet(output_size):\n",
        "    convnet = torchvision.models.DenseNet(growth_rate=32,\n",
        "                                          block_config=(6, 6, 6, 6),\n",
        "                                          bn_size=2,\n",
        "                                          num_init_features=64,\n",
        "                                          num_classes=output_size  # Output dimensionality\n",
        "                                         )\n",
        "    return convnet"
      ],
      "metadata": {
        "id": "YHOO8YuZ9TMn"
      },
      "execution_count": 9,
      "outputs": []
    },
    {
      "cell_type": "code",
      "source": [
        "class ProtoNet(pl.LightningModule):\n",
        "  def __init__(self, proto_dim, lr):\n",
        "    super().__init__()\n",
        "    self.save_hyperparameters()\n",
        "    self.model = get_convnet(output_size=self.hparams.proto_dim)\n",
        "  def configure_optimizers(self):\n",
        "    optimizer = optim.AdamW(self.parameters(), lr = self.hparams.lr)\n",
        "    scheduler = optim.lr_scheduler.MultiStepLR(optimizer, milestones=[140,180], gamma = 0.1)\n",
        "    return [optimizer], [scheduler]\n",
        "\n",
        "  @staticmethod\n",
        "  def calculate_prototypes(features, targets):\n",
        "    classes, _ = torch.unique(targets).sort()\n",
        "    prototypes = []\n",
        "    for c in classes:\n",
        "      p = features[torch.where(targets == c)[0]].mean(dim=0)\n",
        "      prototypes.append(p)\n",
        "    prototypes = torch.stack(prototypes, dim = 0)\n",
        "    return prototypes, classes\n",
        "\n",
        "  def classify_feats(self, prototypes, classes, feats, targets):\n",
        "    dist = torch.pow(prototypes[None,:] - feats[:, None], 2).sum(dim=2)\n",
        "    preds = F.log_softmax(-dist, dim=1)\n",
        "    labels = (classes.argmax(dim=1) == labels).float().mean()\n",
        "    acc = (preds.argmax(dim=1) == labels).float().mean()\n",
        "    return preds, labels, acc\n",
        "\n",
        "  def calculate_loss(self, batch, mode):\n",
        "      # Determine training loss for a given support and query set\n",
        "      imgs, targets = batch\n",
        "      features = self.model(imgs)  # Encode all images of support and query set\n",
        "      support_feats, query_feats, support_targets, query_targets = split_batch(features, targets)\n",
        "      prototypes, classes = ProtoNet.calculate_prototypes(support_feats, support_targets)\n",
        "      preds, labels, acc = self.classify_feats(prototypes, classes, query_feats, query_targets)\n",
        "      loss = F.cross_entropy(preds, labels)\n",
        "\n",
        "      self.log(f\"{mode}_loss\", loss)\n",
        "      self.log(f\"{mode}_acc\", acc)\n",
        "      return loss\n",
        "\n",
        "  def training_step(self, batch, batch_idx):\n",
        "      return self.calculate_loss(batch, mode=\"train\")\n",
        "\n",
        "  def validation_step(self, batch, batch_idx):\n",
        "      _ = self.calculate_loss(batch, mode=\"val\")"
      ],
      "metadata": {
        "id": "6kSun8MBF2WZ"
      },
      "execution_count": 15,
      "outputs": []
    },
    {
      "cell_type": "code",
      "source": [
        "def train_model(model_class, train_loader, val_loader, **kwargs):\n",
        "    trainer = pl.Trainer(default_root_dir=os.path.join(CHECKPOINT_PATH, model_class.__name__),\n",
        "                         accelerator=\"gpu\" if str(device).startswith(\"cuda\") else \"cpu\",\n",
        "                         devices=1,\n",
        "                         max_epochs=200,\n",
        "                         callbacks=[ModelCheckpoint(save_weights_only=True, mode=\"max\", monitor=\"val_acc\"),\n",
        "                                    LearningRateMonitor(\"epoch\")],\n",
        "                         enable_progress_bar=False)\n",
        "    trainer.logger._default_hp_metric = None\n",
        "\n",
        "    # Check whether pretrained model exists. If yes, load it and skip training\n",
        "    pretrained_filename = os.path.join(\n",
        "        CHECKPOINT_PATH, model_class.__name__ + \".ckpt\")\n",
        "    if os.path.isfile(pretrained_filename):\n",
        "        print(f\"Found pretrained model at {pretrained_filename}, loading...\")\n",
        "        # Automatically loads the model with the saved hyperparameters\n",
        "        model = model_class.load_from_checkpoint(pretrained_filename)\n",
        "    else:\n",
        "        pl.seed_everything(42)  # To be reproducable\n",
        "        model = model_class(**kwargs)\n",
        "        trainer.fit(model, train_loader, val_loader)\n",
        "        model = model_class.load_from_checkpoint(\n",
        "            trainer.checkpoint_callback.best_model_path)  # Load best checkpoint after training\n",
        "\n",
        "    return model"
      ],
      "metadata": {
        "id": "rLfAAWgFMM7n"
      },
      "execution_count": null,
      "outputs": []
    },
    {
      "cell_type": "code",
      "source": [
        "protonet_model = train_model(ProtoNet,\n",
        "                             proto_dim=64,\n",
        "                             lr=2e-4,\n",
        "                             train_loader=train_data_loader,\n",
        "                             val_loader=val_data_loader)"
      ],
      "metadata": {
        "id": "NTCjStVgMSwD"
      },
      "execution_count": null,
      "outputs": []
    },
    {
      "cell_type": "code",
      "source": [
        "@torch.no_grad()\n",
        "def test_proto_net(model, dataset, data_feats=None, k_shot=4):\n",
        "    \"\"\"\n",
        "    Inputs\n",
        "        model - Pretrained ProtoNet model\n",
        "        dataset - The dataset on which the test should be performed.\n",
        "                  Should be instance of ImageDataset\n",
        "        data_feats - The encoded features of all images in the dataset.\n",
        "                     If None, they will be newly calculated, and returned\n",
        "                     for later usage.\n",
        "        k_shot - Number of examples per class in the support set.\n",
        "    \"\"\"\n",
        "    model = model.to(device)\n",
        "    model.eval()\n",
        "    num_classes = dataset.targets.unique().shape[0]\n",
        "    exmps_per_class = dataset.targets.shape[0]//num_classes  # We assume uniform example distribution here\n",
        "\n",
        "    # The encoder network remains unchanged across k-shot settings. Hence, we only need\n",
        "    # to extract the features for all images once.\n",
        "    if data_feats is None:\n",
        "        # Dataset preparation\n",
        "        dataloader = data.DataLoader(dataset, batch_size=128, num_workers=4, shuffle=False, drop_last=False)\n",
        "\n",
        "        img_features = []\n",
        "        img_targets = []\n",
        "        for imgs, targets in tqdm(dataloader, \"Extracting image features\", leave=False):\n",
        "            imgs = imgs.to(device)\n",
        "            feats = model.model(imgs)\n",
        "            img_features.append(feats.detach().cpu())\n",
        "            img_targets.append(targets)\n",
        "        img_features = torch.cat(img_features, dim=0)\n",
        "        img_targets = torch.cat(img_targets, dim=0)\n",
        "        # Sort by classes, so that we obtain tensors of shape [num_classes, exmps_per_class, ...]\n",
        "        # Makes it easier to process later\n",
        "        img_targets, sort_idx = img_targets.sort()\n",
        "        img_targets = img_targets.reshape(num_classes, exmps_per_class).transpose(0, 1)\n",
        "        img_features = img_features[sort_idx].reshape(num_classes, exmps_per_class, -1).transpose(0, 1)\n",
        "    else:\n",
        "        img_features, img_targets = data_feats\n",
        "\n",
        "    # We iterate through the full dataset in two manners. First, to select the k-shot batch.\n",
        "    # Second, the evaluate the model on all other examples\n",
        "    accuracies = []\n",
        "    for k_idx in tqdm(range(0, img_features.shape[0], k_shot), \"Evaluating prototype classification\", leave=False):\n",
        "        # Select support set and calculate prototypes\n",
        "        k_img_feats, k_targets = img_features[k_idx:k_idx+k_shot].flatten(0,1), img_targets[k_idx:k_idx+k_shot].flatten(0,1)\n",
        "        prototypes, proto_classes = model.calculate_prototypes(k_img_feats, k_targets)\n",
        "        # Evaluate accuracy on the rest of the dataset\n",
        "        batch_acc = 0\n",
        "        for e_idx in range(0, img_features.shape[0], k_shot):\n",
        "            if k_idx == e_idx:  # Do not evaluate on the support set examples\n",
        "                continue\n",
        "            e_img_feats, e_targets = img_features[e_idx:e_idx+k_shot].flatten(0,1), img_targets[e_idx:e_idx+k_shot].flatten(0,1)\n",
        "            _, _, acc = model.classify_feats(prototypes, proto_classes, e_img_feats, e_targets)\n",
        "            batch_acc += acc.item()\n",
        "        batch_acc /= img_features.shape[0]//k_shot-1\n",
        "        accuracies.append(batch_acc)\n",
        "\n",
        "    return (mean(accuracies), stdev(accuracies)), (img_features, img_targets)"
      ],
      "metadata": {
        "id": "h6fFxt1fMeIS"
      },
      "execution_count": null,
      "outputs": []
    },
    {
      "cell_type": "code",
      "source": [
        "protonet_accuracies = dict()\n",
        "data_feats = None\n",
        "for k in [2, 4, 8, 16, 32]:\n",
        "    protonet_accuracies[k], data_feats = test_proto_net(protonet_model, test_set, data_feats=data_feats, k_shot=k)\n",
        "    print(f\"Accuracy for k={k}: {100.0*protonet_accuracies[k][0]:4.2f}% (+-{100*protonet_accuracies[k][1]:4.2f}%)\")\n"
      ],
      "metadata": {
        "id": "1mmll8m_Mq7r"
      },
      "execution_count": null,
      "outputs": []
    }
  ]
}