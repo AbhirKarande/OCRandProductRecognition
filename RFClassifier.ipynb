{
  "nbformat": 4,
  "nbformat_minor": 0,
  "metadata": {
    "colab": {
      "provenance": [],
      "gpuType": "T4",
      "include_colab_link": true
    },
    "kernelspec": {
      "name": "python3",
      "display_name": "Python 3"
    },
    "language_info": {
      "name": "python"
    },
    "accelerator": "GPU"
  },
  "cells": [
    {
      "cell_type": "markdown",
      "metadata": {
        "id": "view-in-github",
        "colab_type": "text"
      },
      "source": [
        "<a href=\"https://colab.research.google.com/github/AbhirKarande/OCRandProductRecognition/blob/main/RFClassifier.ipynb\" target=\"_parent\"><img src=\"https://colab.research.google.com/assets/colab-badge.svg\" alt=\"Open In Colab\"/></a>"
      ]
    },
    {
      "cell_type": "code",
      "source": [
        "!sudo apt-get install python3.9\n"
      ],
      "metadata": {
        "colab": {
          "base_uri": "https://localhost:8080/"
        },
        "id": "dQsc_P6hwFto",
        "outputId": "c13a1804-1664-4fb0-db11-47b380f092ff"
      },
      "execution_count": null,
      "outputs": [
        {
          "output_type": "stream",
          "name": "stdout",
          "text": [
            "Reading package lists... Done\n",
            "Building dependency tree       \n",
            "Reading state information... Done\n",
            "The following additional packages will be installed:\n",
            "  libpython3.9-minimal libpython3.9-stdlib python3.9-minimal\n",
            "Suggested packages:\n",
            "  python3.9-venv binfmt-support\n",
            "The following NEW packages will be installed:\n",
            "  libpython3.9-minimal libpython3.9-stdlib python3.9 python3.9-minimal\n",
            "0 upgraded, 4 newly installed, 0 to remove and 15 not upgraded.\n",
            "Need to get 5,030 kB of archives.\n",
            "After this operation, 19.7 MB of additional disk space will be used.\n",
            "Get:1 http://ppa.launchpad.net/deadsnakes/ppa/ubuntu focal/main amd64 libpython3.9-minimal amd64 3.9.17-1+focal1 [805 kB]\n",
            "Get:2 http://ppa.launchpad.net/deadsnakes/ppa/ubuntu focal/main amd64 python3.9-minimal amd64 3.9.17-1+focal1 [2,064 kB]\n",
            "Get:3 http://ppa.launchpad.net/deadsnakes/ppa/ubuntu focal/main amd64 libpython3.9-stdlib amd64 3.9.17-1+focal1 [1,666 kB]\n",
            "Get:4 http://ppa.launchpad.net/deadsnakes/ppa/ubuntu focal/main amd64 python3.9 amd64 3.9.17-1+focal1 [495 kB]\n",
            "Fetched 5,030 kB in 4s (1,138 kB/s)\n",
            "debconf: unable to initialize frontend: Dialog\n",
            "debconf: (No usable dialog-like program is installed, so the dialog based frontend cannot be used. at /usr/share/perl5/Debconf/FrontEnd/Dialog.pm line 76, <> line 4.)\n",
            "debconf: falling back to frontend: Readline\n",
            "debconf: unable to initialize frontend: Readline\n",
            "debconf: (This frontend requires a controlling tty.)\n",
            "debconf: falling back to frontend: Teletype\n",
            "dpkg-preconfigure: unable to re-open stdin: \n",
            "Selecting previously unselected package libpython3.9-minimal:amd64.\n",
            "(Reading database ... 123105 files and directories currently installed.)\n",
            "Preparing to unpack .../libpython3.9-minimal_3.9.17-1+focal1_amd64.deb ...\n",
            "Unpacking libpython3.9-minimal:amd64 (3.9.17-1+focal1) ...\n",
            "Selecting previously unselected package python3.9-minimal.\n",
            "Preparing to unpack .../python3.9-minimal_3.9.17-1+focal1_amd64.deb ...\n",
            "Unpacking python3.9-minimal (3.9.17-1+focal1) ...\n",
            "Selecting previously unselected package libpython3.9-stdlib:amd64.\n",
            "Preparing to unpack .../libpython3.9-stdlib_3.9.17-1+focal1_amd64.deb ...\n",
            "Unpacking libpython3.9-stdlib:amd64 (3.9.17-1+focal1) ...\n",
            "Selecting previously unselected package python3.9.\n",
            "Preparing to unpack .../python3.9_3.9.17-1+focal1_amd64.deb ...\n",
            "Unpacking python3.9 (3.9.17-1+focal1) ...\n",
            "Setting up libpython3.9-minimal:amd64 (3.9.17-1+focal1) ...\n",
            "Setting up python3.9-minimal (3.9.17-1+focal1) ...\n",
            "Setting up libpython3.9-stdlib:amd64 (3.9.17-1+focal1) ...\n",
            "Setting up python3.9 (3.9.17-1+focal1) ...\n",
            "Processing triggers for man-db (2.9.1-1) ...\n",
            "Processing triggers for mime-support (3.64ubuntu1) ...\n"
          ]
        }
      ]
    },
    {
      "cell_type": "code",
      "source": [
        "!sudo update-alternatives --install /usr/bin/python3 python3 /usr/bin/python3.10 1"
      ],
      "metadata": {
        "id": "AjH4sKSawMmS"
      },
      "execution_count": null,
      "outputs": []
    },
    {
      "cell_type": "code",
      "source": [
        "!sudo update-alternatives --install /usr/bin/python3 python3 /usr/bin/python3.9 2"
      ],
      "metadata": {
        "colab": {
          "base_uri": "https://localhost:8080/"
        },
        "id": "q4XlM7zHwOlI",
        "outputId": "6c401b77-cd2d-4d3d-911a-6f97dcf90430"
      },
      "execution_count": null,
      "outputs": [
        {
          "output_type": "stream",
          "name": "stdout",
          "text": [
            "update-alternatives: using /usr/bin/python3.9 to provide /usr/bin/python3 (python3) in auto mode\n"
          ]
        }
      ]
    },
    {
      "cell_type": "code",
      "source": [
        "!python --version\n"
      ],
      "metadata": {
        "colab": {
          "base_uri": "https://localhost:8080/"
        },
        "id": "jF2puFAbwQXg",
        "outputId": "98a1b083-8c9c-4695-932b-c42b1657ecb7"
      },
      "execution_count": null,
      "outputs": [
        {
          "output_type": "stream",
          "name": "stdout",
          "text": [
            "Python 3.9.17\n"
          ]
        }
      ]
    },
    {
      "cell_type": "code",
      "execution_count": null,
      "metadata": {
        "colab": {
          "base_uri": "https://localhost:8080/"
        },
        "id": "XtkH0hPaSpT2",
        "outputId": "c5ef4dd6-c0c3-4ea3-af20-0a9a6f50784c"
      },
      "outputs": [
        {
          "output_type": "stream",
          "name": "stdout",
          "text": [
            "Cloning into 'OCRandProductRecognition'...\n",
            "remote: Enumerating objects: 176, done.\u001b[K\n",
            "remote: Counting objects: 100% (12/12), done.\u001b[K\n",
            "remote: Compressing objects: 100% (12/12), done.\u001b[K\n",
            "remote: Total 176 (delta 4), reused 0 (delta 0), pack-reused 164\u001b[K\n",
            "Receiving objects: 100% (176/176), 50.54 MiB | 34.57 MiB/s, done.\n",
            "Resolving deltas: 100% (37/37), done.\n"
          ]
        }
      ],
      "source": [
        "!git clone https://github.com/AbhirKarande/OCRandProductRecognition.git"
      ]
    },
    {
      "cell_type": "code",
      "source": [
        "import shutil\n",
        "\n",
        "# Specify the path of the directory you want to download\n",
        "directory_path = \"/content/OCRandProductRecognition/WholeFoodsTrainingImages/train\"\n",
        "\n",
        "# Create a zip file of the directory\n",
        "shutil.make_archive(\"/content/whole_foods_training_images\", \"zip\", directory_path)\n",
        "\n",
        "# Download the zip file\n",
        "from google.colab import files\n",
        "files.download(\"/content/whole_foods_training_images.zip\")\n"
      ],
      "metadata": {
        "colab": {
          "base_uri": "https://localhost:8080/",
          "height": 17
        },
        "id": "1NJ5f1R-7Rrg",
        "outputId": "84aaa7a0-871b-40c9-81d8-0ba5685f171b"
      },
      "execution_count": null,
      "outputs": [
        {
          "output_type": "display_data",
          "data": {
            "text/plain": [
              "<IPython.core.display.Javascript object>"
            ],
            "application/javascript": [
              "\n",
              "    async function download(id, filename, size) {\n",
              "      if (!google.colab.kernel.accessAllowed) {\n",
              "        return;\n",
              "      }\n",
              "      const div = document.createElement('div');\n",
              "      const label = document.createElement('label');\n",
              "      label.textContent = `Downloading \"${filename}\": `;\n",
              "      div.appendChild(label);\n",
              "      const progress = document.createElement('progress');\n",
              "      progress.max = size;\n",
              "      div.appendChild(progress);\n",
              "      document.body.appendChild(div);\n",
              "\n",
              "      const buffers = [];\n",
              "      let downloaded = 0;\n",
              "\n",
              "      const channel = await google.colab.kernel.comms.open(id);\n",
              "      // Send a message to notify the kernel that we're ready.\n",
              "      channel.send({})\n",
              "\n",
              "      for await (const message of channel.messages) {\n",
              "        // Send a message to notify the kernel that we're ready.\n",
              "        channel.send({})\n",
              "        if (message.buffers) {\n",
              "          for (const buffer of message.buffers) {\n",
              "            buffers.push(buffer);\n",
              "            downloaded += buffer.byteLength;\n",
              "            progress.value = downloaded;\n",
              "          }\n",
              "        }\n",
              "      }\n",
              "      const blob = new Blob(buffers, {type: 'application/binary'});\n",
              "      const a = document.createElement('a');\n",
              "      a.href = window.URL.createObjectURL(blob);\n",
              "      a.download = filename;\n",
              "      div.appendChild(a);\n",
              "      a.click();\n",
              "      div.remove();\n",
              "    }\n",
              "  "
            ]
          },
          "metadata": {}
        },
        {
          "output_type": "display_data",
          "data": {
            "text/plain": [
              "<IPython.core.display.Javascript object>"
            ],
            "application/javascript": [
              "download(\"download_c1c7115a-d441-42ca-b290-d70433c904c3\", \"whole_foods_training_images.zip\", 22)"
            ]
          },
          "metadata": {}
        }
      ]
    },
    {
      "cell_type": "code",
      "source": [
        "!mkdir basil"
      ],
      "metadata": {
        "colab": {
          "base_uri": "https://localhost:8080/"
        },
        "id": "QZHP3Mr7qnpN",
        "outputId": "5e0253a0-9844-4859-bd37-df5de8ac623e"
      },
      "execution_count": null,
      "outputs": [
        {
          "output_type": "stream",
          "name": "stdout",
          "text": [
            "mkdir: cannot create directory ‘basil’: File exists\n"
          ]
        }
      ]
    },
    {
      "cell_type": "code",
      "source": [
        "import os\n",
        "import cv2\n",
        "import numpy as np\n",
        "from sklearn.ensemble import RandomForestClassifier\n",
        "from sklearn.model_selection import train_test_split\n",
        "from sklearn.metrics import accuracy_score"
      ],
      "metadata": {
        "id": "RGgYMWkOSsxb"
      },
      "execution_count": null,
      "outputs": []
    },
    {
      "cell_type": "code",
      "source": [
        "!pip install sklearn"
      ],
      "metadata": {
        "colab": {
          "base_uri": "https://localhost:8080/"
        },
        "id": "xFDA82OQ5bYQ",
        "outputId": "e031b350-5f22-45a7-aced-3b723408d5e5"
      },
      "execution_count": null,
      "outputs": [
        {
          "output_type": "stream",
          "name": "stdout",
          "text": [
            "Collecting sklearn\n",
            "  Downloading sklearn-0.0.post5.tar.gz (3.7 kB)\n",
            "  Preparing metadata (setup.py) ... \u001b[?25l\u001b[?25hdone\n",
            "Building wheels for collected packages: sklearn\n",
            "  Building wheel for sklearn (setup.py) ... \u001b[?25l\u001b[?25hdone\n",
            "  Created wheel for sklearn: filename=sklearn-0.0.post5-py3-none-any.whl size=2950 sha256=2057bc65990b05ff9d13f84812adaa1a52fe4cb952c56b744b75ad82671e6234\n",
            "  Stored in directory: /root/.cache/pip/wheels/38/1f/8d/4f812c590e074c1e928f5cec67bf5053b71f38e2648739403a\n",
            "Successfully built sklearn\n",
            "Installing collected packages: sklearn\n",
            "Successfully installed sklearn-0.0.post5\n"
          ]
        }
      ]
    },
    {
      "cell_type": "code",
      "source": [
        "import sklearn\n",
        "\n",
        "print('The scikit-learn version is {}.'.format(sklearn.__version__))\n"
      ],
      "metadata": {
        "colab": {
          "base_uri": "https://localhost:8080/"
        },
        "id": "yMjlX08T5nJ1",
        "outputId": "34072840-f6ba-41a3-ca4b-9a270f6323e1"
      },
      "execution_count": null,
      "outputs": [
        {
          "output_type": "stream",
          "name": "stdout",
          "text": [
            "The scikit-learn version is 1.2.2.\n"
          ]
        }
      ]
    },
    {
      "cell_type": "code",
      "source": [
        "# Define the path to your training images\n",
        "training_path = \"/content/OCRandProductRecognition/whole_foods_training_images\"\n",
        "\n",
        "# Initialize empty lists for images and labels\n",
        "images = []\n",
        "labels = []"
      ],
      "metadata": {
        "id": "Inmh4la4S1n5"
      },
      "execution_count": null,
      "outputs": []
    },
    {
      "cell_type": "code",
      "source": [
        "print(labels)"
      ],
      "metadata": {
        "colab": {
          "base_uri": "https://localhost:8080/"
        },
        "id": "LdgU8Rmq1Bf0",
        "outputId": "0c255303-00a5-4ecd-aa70-45e4d2466549"
      },
      "execution_count": null,
      "outputs": [
        {
          "output_type": "stream",
          "name": "stdout",
          "text": [
            "[]\n"
          ]
        }
      ]
    },
    {
      "cell_type": "code",
      "source": [
        "for subdir in os.listdir(training_path):\n",
        "    subdir_path = os.path.join(training_path, subdir)\n",
        "    if os.path.isdir(subdir_path):\n",
        "        # Read and preprocess images within each subdirectory\n",
        "        for filename in os.listdir(subdir_path):\n",
        "            file_path = os.path.join(subdir_path, filename)\n",
        "            if os.path.isfile(file_path):\n",
        "                image = cv2.imread(file_path)\n",
        "                print(file_path)\n",
        "                image = cv2.cvtColor(image, cv2.COLOR_BGR2GRAY)\n",
        "                image = cv2.resize(image, (100, 100))  # Resize images if needed\n",
        "                images.append(image)\n",
        "                labels.append(subdir)"
      ],
      "metadata": {
        "id": "owW1Fq1kS4yk",
        "colab": {
          "base_uri": "https://localhost:8080/"
        },
        "outputId": "55159070-3024-4dad-cb6f-f4e79ac454bf"
      },
      "execution_count": null,
      "outputs": [
        {
          "output_type": "stream",
          "name": "stdout",
          "text": [
            "/content/OCRandProductRecognition/whole_foods_training_images/s1/13.jpg\n",
            "/content/OCRandProductRecognition/whole_foods_training_images/s1/11.jpg\n",
            "/content/OCRandProductRecognition/whole_foods_training_images/s1/2.jpg\n",
            "/content/OCRandProductRecognition/whole_foods_training_images/s1/5.jpg\n",
            "/content/OCRandProductRecognition/whole_foods_training_images/s1/3.jpg\n",
            "/content/OCRandProductRecognition/whole_foods_training_images/s1/10.jpg\n",
            "/content/OCRandProductRecognition/whole_foods_training_images/s1/7.jpg\n",
            "/content/OCRandProductRecognition/whole_foods_training_images/s1/4.jpg\n",
            "/content/OCRandProductRecognition/whole_foods_training_images/s1/9.jpg\n",
            "/content/OCRandProductRecognition/whole_foods_training_images/s1/8.jpg\n",
            "/content/OCRandProductRecognition/whole_foods_training_images/s1/6.jpg\n",
            "/content/OCRandProductRecognition/whole_foods_training_images/s1/1.jpg\n",
            "/content/OCRandProductRecognition/whole_foods_training_images/s1/12.jpg\n",
            "/content/OCRandProductRecognition/whole_foods_training_images/s3/13.jpg\n",
            "/content/OCRandProductRecognition/whole_foods_training_images/s3/11.jpg\n",
            "/content/OCRandProductRecognition/whole_foods_training_images/s3/2.jpg\n",
            "/content/OCRandProductRecognition/whole_foods_training_images/s3/5.jpg\n",
            "/content/OCRandProductRecognition/whole_foods_training_images/s3/3.jpg\n",
            "/content/OCRandProductRecognition/whole_foods_training_images/s3/10.jpg\n",
            "/content/OCRandProductRecognition/whole_foods_training_images/s3/7.jpg\n",
            "/content/OCRandProductRecognition/whole_foods_training_images/s3/4.jpg\n",
            "/content/OCRandProductRecognition/whole_foods_training_images/s3/9.jpg\n",
            "/content/OCRandProductRecognition/whole_foods_training_images/s3/8.jpg\n",
            "/content/OCRandProductRecognition/whole_foods_training_images/s3/6.jpg\n",
            "/content/OCRandProductRecognition/whole_foods_training_images/s3/1.jpg\n",
            "/content/OCRandProductRecognition/whole_foods_training_images/s3/12.jpg\n",
            "/content/OCRandProductRecognition/whole_foods_training_images/s4/13.jpg\n",
            "/content/OCRandProductRecognition/whole_foods_training_images/s4/11.jpg\n",
            "/content/OCRandProductRecognition/whole_foods_training_images/s4/2.jpg\n",
            "/content/OCRandProductRecognition/whole_foods_training_images/s4/5.jpg\n",
            "/content/OCRandProductRecognition/whole_foods_training_images/s4/3.jpg\n",
            "/content/OCRandProductRecognition/whole_foods_training_images/s4/10.jpg\n",
            "/content/OCRandProductRecognition/whole_foods_training_images/s4/7.jpg\n",
            "/content/OCRandProductRecognition/whole_foods_training_images/s4/4.jpg\n",
            "/content/OCRandProductRecognition/whole_foods_training_images/s4/9.jpg\n",
            "/content/OCRandProductRecognition/whole_foods_training_images/s4/8.jpg\n",
            "/content/OCRandProductRecognition/whole_foods_training_images/s4/6.jpg\n",
            "/content/OCRandProductRecognition/whole_foods_training_images/s4/1.jpg\n",
            "/content/OCRandProductRecognition/whole_foods_training_images/s4/12.jpg\n",
            "/content/OCRandProductRecognition/whole_foods_training_images/s2/13.jpg\n",
            "/content/OCRandProductRecognition/whole_foods_training_images/s2/11.jpg\n",
            "/content/OCRandProductRecognition/whole_foods_training_images/s2/2.jpg\n",
            "/content/OCRandProductRecognition/whole_foods_training_images/s2/5.jpg\n",
            "/content/OCRandProductRecognition/whole_foods_training_images/s2/3.jpg\n",
            "/content/OCRandProductRecognition/whole_foods_training_images/s2/10.jpg\n",
            "/content/OCRandProductRecognition/whole_foods_training_images/s2/7.jpg\n",
            "/content/OCRandProductRecognition/whole_foods_training_images/s2/4.jpg\n",
            "/content/OCRandProductRecognition/whole_foods_training_images/s2/9.jpg\n",
            "/content/OCRandProductRecognition/whole_foods_training_images/s2/8.jpg\n",
            "/content/OCRandProductRecognition/whole_foods_training_images/s2/6.jpg\n",
            "/content/OCRandProductRecognition/whole_foods_training_images/s2/1.jpg\n",
            "/content/OCRandProductRecognition/whole_foods_training_images/s2/12.jpg\n"
          ]
        }
      ]
    },
    {
      "cell_type": "code",
      "source": [
        "# Convert lists to numpy arrays\n",
        "images = np.array(images)\n",
        "labels = np.array(labels)\n"
      ],
      "metadata": {
        "id": "VbS8qihYS8X_"
      },
      "execution_count": null,
      "outputs": []
    },
    {
      "cell_type": "code",
      "source": [
        "# Flatten the image arrays\n",
        "images = images.reshape(images.shape[0], -1)\n"
      ],
      "metadata": {
        "id": "UF-UABjUS-oR"
      },
      "execution_count": null,
      "outputs": []
    },
    {
      "cell_type": "code",
      "source": [
        "# Split the data into training and testing sets\n",
        "X_train, X_test, y_train, y_test = train_test_split(images, labels, test_size=0.1, random_state=42)\n"
      ],
      "metadata": {
        "id": "zu9gPKD9TB1y"
      },
      "execution_count": null,
      "outputs": []
    },
    {
      "cell_type": "code",
      "source": [
        "# Create and train the Random Forest classifier\n",
        "rf_classifier = RandomForestClassifier(n_estimators=135)\n",
        "rf_classifier.fit(images, labels)\n"
      ],
      "metadata": {
        "colab": {
          "base_uri": "https://localhost:8080/",
          "height": 75
        },
        "id": "SZq4h9hiTEPs",
        "outputId": "fee929de-68d2-4522-c2a3-f3f457b89ae7"
      },
      "execution_count": null,
      "outputs": [
        {
          "output_type": "execute_result",
          "data": {
            "text/plain": [
              "RandomForestClassifier(n_estimators=135)"
            ],
            "text/html": [
              "<style>#sk-container-id-1 {color: black;background-color: white;}#sk-container-id-1 pre{padding: 0;}#sk-container-id-1 div.sk-toggleable {background-color: white;}#sk-container-id-1 label.sk-toggleable__label {cursor: pointer;display: block;width: 100%;margin-bottom: 0;padding: 0.3em;box-sizing: border-box;text-align: center;}#sk-container-id-1 label.sk-toggleable__label-arrow:before {content: \"▸\";float: left;margin-right: 0.25em;color: #696969;}#sk-container-id-1 label.sk-toggleable__label-arrow:hover:before {color: black;}#sk-container-id-1 div.sk-estimator:hover label.sk-toggleable__label-arrow:before {color: black;}#sk-container-id-1 div.sk-toggleable__content {max-height: 0;max-width: 0;overflow: hidden;text-align: left;background-color: #f0f8ff;}#sk-container-id-1 div.sk-toggleable__content pre {margin: 0.2em;color: black;border-radius: 0.25em;background-color: #f0f8ff;}#sk-container-id-1 input.sk-toggleable__control:checked~div.sk-toggleable__content {max-height: 200px;max-width: 100%;overflow: auto;}#sk-container-id-1 input.sk-toggleable__control:checked~label.sk-toggleable__label-arrow:before {content: \"▾\";}#sk-container-id-1 div.sk-estimator input.sk-toggleable__control:checked~label.sk-toggleable__label {background-color: #d4ebff;}#sk-container-id-1 div.sk-label input.sk-toggleable__control:checked~label.sk-toggleable__label {background-color: #d4ebff;}#sk-container-id-1 input.sk-hidden--visually {border: 0;clip: rect(1px 1px 1px 1px);clip: rect(1px, 1px, 1px, 1px);height: 1px;margin: -1px;overflow: hidden;padding: 0;position: absolute;width: 1px;}#sk-container-id-1 div.sk-estimator {font-family: monospace;background-color: #f0f8ff;border: 1px dotted black;border-radius: 0.25em;box-sizing: border-box;margin-bottom: 0.5em;}#sk-container-id-1 div.sk-estimator:hover {background-color: #d4ebff;}#sk-container-id-1 div.sk-parallel-item::after {content: \"\";width: 100%;border-bottom: 1px solid gray;flex-grow: 1;}#sk-container-id-1 div.sk-label:hover label.sk-toggleable__label {background-color: #d4ebff;}#sk-container-id-1 div.sk-serial::before {content: \"\";position: absolute;border-left: 1px solid gray;box-sizing: border-box;top: 0;bottom: 0;left: 50%;z-index: 0;}#sk-container-id-1 div.sk-serial {display: flex;flex-direction: column;align-items: center;background-color: white;padding-right: 0.2em;padding-left: 0.2em;position: relative;}#sk-container-id-1 div.sk-item {position: relative;z-index: 1;}#sk-container-id-1 div.sk-parallel {display: flex;align-items: stretch;justify-content: center;background-color: white;position: relative;}#sk-container-id-1 div.sk-item::before, #sk-container-id-1 div.sk-parallel-item::before {content: \"\";position: absolute;border-left: 1px solid gray;box-sizing: border-box;top: 0;bottom: 0;left: 50%;z-index: -1;}#sk-container-id-1 div.sk-parallel-item {display: flex;flex-direction: column;z-index: 1;position: relative;background-color: white;}#sk-container-id-1 div.sk-parallel-item:first-child::after {align-self: flex-end;width: 50%;}#sk-container-id-1 div.sk-parallel-item:last-child::after {align-self: flex-start;width: 50%;}#sk-container-id-1 div.sk-parallel-item:only-child::after {width: 0;}#sk-container-id-1 div.sk-dashed-wrapped {border: 1px dashed gray;margin: 0 0.4em 0.5em 0.4em;box-sizing: border-box;padding-bottom: 0.4em;background-color: white;}#sk-container-id-1 div.sk-label label {font-family: monospace;font-weight: bold;display: inline-block;line-height: 1.2em;}#sk-container-id-1 div.sk-label-container {text-align: center;}#sk-container-id-1 div.sk-container {/* jupyter's `normalize.less` sets `[hidden] { display: none; }` but bootstrap.min.css set `[hidden] { display: none !important; }` so we also need the `!important` here to be able to override the default hidden behavior on the sphinx rendered scikit-learn.org. See: https://github.com/scikit-learn/scikit-learn/issues/21755 */display: inline-block !important;position: relative;}#sk-container-id-1 div.sk-text-repr-fallback {display: none;}</style><div id=\"sk-container-id-1\" class=\"sk-top-container\"><div class=\"sk-text-repr-fallback\"><pre>RandomForestClassifier(n_estimators=135)</pre><b>In a Jupyter environment, please rerun this cell to show the HTML representation or trust the notebook. <br />On GitHub, the HTML representation is unable to render, please try loading this page with nbviewer.org.</b></div><div class=\"sk-container\" hidden><div class=\"sk-item\"><div class=\"sk-estimator sk-toggleable\"><input class=\"sk-toggleable__control sk-hidden--visually\" id=\"sk-estimator-id-1\" type=\"checkbox\" checked><label for=\"sk-estimator-id-1\" class=\"sk-toggleable__label sk-toggleable__label-arrow\">RandomForestClassifier</label><div class=\"sk-toggleable__content\"><pre>RandomForestClassifier(n_estimators=135)</pre></div></div></div></div></div>"
            ]
          },
          "metadata": {},
          "execution_count": 15
        }
      ]
    },
    {
      "cell_type": "code",
      "source": [
        "# Predict the labels for the test set\n",
        "y_pred = rf_classifier.predict(X_test)"
      ],
      "metadata": {
        "id": "Y-5RuxQ4THsz"
      },
      "execution_count": null,
      "outputs": []
    },
    {
      "cell_type": "code",
      "source": [
        "print(images)"
      ],
      "metadata": {
        "colab": {
          "base_uri": "https://localhost:8080/"
        },
        "id": "e1K0PwFgdss4",
        "outputId": "8c67b195-59b3-45d8-f1d3-73f76aa9ad71"
      },
      "execution_count": null,
      "outputs": [
        {
          "output_type": "stream",
          "name": "stdout",
          "text": [
            "[[247 247 247 ... 247 247 247]\n",
            " [155 151 156 ... 198 188 185]\n",
            " [160 162 166 ... 182 178 172]\n",
            " ...\n",
            " [190 189 184 ...  31  69  86]\n",
            " [177 182 192 ... 107  53 101]\n",
            " [ 53  57  37 ... 159 157 154]]\n"
          ]
        }
      ]
    },
    {
      "cell_type": "code",
      "source": [
        "print(y_pred)"
      ],
      "metadata": {
        "colab": {
          "base_uri": "https://localhost:8080/"
        },
        "id": "0VvV0moCdm0s",
        "outputId": "13de23ec-1c7f-4c46-8e54-a834affa2d4a"
      },
      "execution_count": null,
      "outputs": [
        {
          "output_type": "stream",
          "name": "stdout",
          "text": [
            "['s2' 's3' 's3' 's1' 's3' 's1']\n"
          ]
        }
      ]
    },
    {
      "cell_type": "code",
      "source": [
        "# Calculate and print the accuracy of the classifier\n",
        "accuracy = accuracy_score(y_test, y_pred)\n",
        "print(\"Accuracy:\", accuracy)"
      ],
      "metadata": {
        "colab": {
          "base_uri": "https://localhost:8080/"
        },
        "id": "khi7grmQTJgd",
        "outputId": "6e064188-5238-4406-d79f-a7393a1c054e"
      },
      "execution_count": null,
      "outputs": [
        {
          "output_type": "stream",
          "name": "stdout",
          "text": [
            "Accuracy: 1.0\n"
          ]
        }
      ]
    },
    {
      "cell_type": "code",
      "source": [
        "!python --version"
      ],
      "metadata": {
        "colab": {
          "base_uri": "https://localhost:8080/"
        },
        "id": "VzsCoQSX693O",
        "outputId": "10159fe8-2130-4d35-bd7f-eba175db7ac5"
      },
      "execution_count": null,
      "outputs": [
        {
          "output_type": "stream",
          "name": "stdout",
          "text": [
            "Python 3.9.17\n"
          ]
        }
      ]
    },
    {
      "cell_type": "code",
      "source": [
        "print(y_test)"
      ],
      "metadata": {
        "colab": {
          "base_uri": "https://localhost:8080/"
        },
        "id": "UJDTa6P7gRdj",
        "outputId": "622d0d1f-8224-48e4-f7d3-e21d2045be54"
      },
      "execution_count": null,
      "outputs": [
        {
          "output_type": "stream",
          "name": "stdout",
          "text": [
            "['s2' 's3' 's3' 's1' 's3' 's1']\n"
          ]
        }
      ]
    },
    {
      "cell_type": "code",
      "source": [
        "print(y_pred)"
      ],
      "metadata": {
        "colab": {
          "base_uri": "https://localhost:8080/"
        },
        "id": "1XEDLYaPgT87",
        "outputId": "073f24ad-c125-4fb5-fe04-80d58c224c48"
      },
      "execution_count": null,
      "outputs": [
        {
          "output_type": "stream",
          "name": "stdout",
          "text": [
            "['s2' 's3' 's3' 's1' 's3' 's1']\n"
          ]
        }
      ]
    },
    {
      "cell_type": "code",
      "source": [
        "import joblib\n",
        "model_filename = \"rfmodelnew2.pkl\"\n",
        "joblib.dump(rf_classifier, model_filename)"
      ],
      "metadata": {
        "colab": {
          "base_uri": "https://localhost:8080/",
          "height": 204
        },
        "id": "IE8tVLMVtfRl",
        "outputId": "985bb425-d8d3-477c-a38e-cfeac1d7b6ce"
      },
      "execution_count": null,
      "outputs": [
        {
          "output_type": "error",
          "ename": "NameError",
          "evalue": "ignored",
          "traceback": [
            "\u001b[0;31m---------------------------------------------------------------------------\u001b[0m",
            "\u001b[0;31mNameError\u001b[0m                                 Traceback (most recent call last)",
            "\u001b[0;32m<ipython-input-1-79b07f1ca090>\u001b[0m in \u001b[0;36m<cell line: 3>\u001b[0;34m()\u001b[0m\n\u001b[1;32m      1\u001b[0m \u001b[0;32mimport\u001b[0m \u001b[0mjoblib\u001b[0m\u001b[0;34m\u001b[0m\u001b[0;34m\u001b[0m\u001b[0m\n\u001b[1;32m      2\u001b[0m \u001b[0mmodel_filename\u001b[0m \u001b[0;34m=\u001b[0m \u001b[0;34m\"rfmodelnew2.pkl\"\u001b[0m\u001b[0;34m\u001b[0m\u001b[0;34m\u001b[0m\u001b[0m\n\u001b[0;32m----> 3\u001b[0;31m \u001b[0mjoblib\u001b[0m\u001b[0;34m.\u001b[0m\u001b[0mdump\u001b[0m\u001b[0;34m(\u001b[0m\u001b[0mrf_classifier\u001b[0m\u001b[0;34m,\u001b[0m \u001b[0mmodel_filename\u001b[0m\u001b[0;34m)\u001b[0m\u001b[0;34m\u001b[0m\u001b[0;34m\u001b[0m\u001b[0m\n\u001b[0m",
            "\u001b[0;31mNameError\u001b[0m: name 'rf_classifier' is not defined"
          ]
        }
      ]
    },
    {
      "cell_type": "code",
      "source": [
        "import pickle\n",
        "\n",
        "model_filename = \"rfmodelnew10.pkl\"\n",
        "with open(model_filename, 'wb') as file:\n",
        "    pickle.dump(rf_classifier, file)\n"
      ],
      "metadata": {
        "id": "NGVJrQuhJ8RT"
      },
      "execution_count": null,
      "outputs": []
    },
    {
      "cell_type": "code",
      "source": [
        "import pickle\n",
        "\n",
        "model_filename = \"/content/rfmodelnew10.pkl\"\n",
        "\n",
        "with open(model_filename, \"rb\") as file:\n",
        "    loaded_model = pickle.load(file)\n",
        "\n",
        "protocol_version = loaded_model.__reduce__()[2]\n",
        "print(\"Protocol Version:\", protocol_version)\n"
      ],
      "metadata": {
        "colab": {
          "base_uri": "https://localhost:8080/"
        },
        "id": "8QJJ66vdD4DV",
        "outputId": "9759b949-b556-497d-d7ad-503d73730c05"
      },
      "execution_count": 1,
      "outputs": [
        {
          "output_type": "stream",
          "name": "stdout",
          "text": [
            "Protocol Version: {'estimator': DecisionTreeClassifier(), 'n_estimators': 135, 'estimator_params': ('criterion', 'max_depth', 'min_samples_split', 'min_samples_leaf', 'min_weight_fraction_leaf', 'max_features', 'max_leaf_nodes', 'min_impurity_decrease', 'random_state', 'ccp_alpha'), 'base_estimator': 'deprecated', 'bootstrap': True, 'oob_score': False, 'n_jobs': None, 'random_state': None, 'verbose': 0, 'warm_start': False, 'class_weight': None, 'max_samples': None, 'criterion': 'gini', 'max_depth': None, 'min_samples_split': 2, 'min_samples_leaf': 1, 'min_weight_fraction_leaf': 0.0, 'max_features': 'sqrt', 'max_leaf_nodes': None, 'min_impurity_decrease': 0.0, 'ccp_alpha': 0.0, 'n_features_in_': 10000, 'n_outputs_': 1, 'classes_': array(['s1', 's2', 's3', 's4'], dtype='<U2'), 'n_classes_': 4, 'estimator_': DecisionTreeClassifier(), 'estimators_': [DecisionTreeClassifier(max_features='sqrt', random_state=588935430), DecisionTreeClassifier(max_features='sqrt', random_state=549901515), DecisionTreeClassifier(max_features='sqrt', random_state=1915416155), DecisionTreeClassifier(max_features='sqrt', random_state=1059697029), DecisionTreeClassifier(max_features='sqrt', random_state=1490501023), DecisionTreeClassifier(max_features='sqrt', random_state=1040230343), DecisionTreeClassifier(max_features='sqrt', random_state=718441439), DecisionTreeClassifier(max_features='sqrt', random_state=592912854), DecisionTreeClassifier(max_features='sqrt', random_state=1328152834), DecisionTreeClassifier(max_features='sqrt', random_state=1992848657), DecisionTreeClassifier(max_features='sqrt', random_state=1336732124), DecisionTreeClassifier(max_features='sqrt', random_state=1105270184), DecisionTreeClassifier(max_features='sqrt', random_state=1964300212), DecisionTreeClassifier(max_features='sqrt', random_state=253434039), DecisionTreeClassifier(max_features='sqrt', random_state=1801952318), DecisionTreeClassifier(max_features='sqrt', random_state=2052223256), DecisionTreeClassifier(max_features='sqrt', random_state=1658529043), DecisionTreeClassifier(max_features='sqrt', random_state=739164866), DecisionTreeClassifier(max_features='sqrt', random_state=780408170), DecisionTreeClassifier(max_features='sqrt', random_state=1065028627), DecisionTreeClassifier(max_features='sqrt', random_state=1994541048), DecisionTreeClassifier(max_features='sqrt', random_state=589661659), DecisionTreeClassifier(max_features='sqrt', random_state=1217470839), DecisionTreeClassifier(max_features='sqrt', random_state=694867395), DecisionTreeClassifier(max_features='sqrt', random_state=1317219423), DecisionTreeClassifier(max_features='sqrt', random_state=855397162), DecisionTreeClassifier(max_features='sqrt', random_state=1064594913), DecisionTreeClassifier(max_features='sqrt', random_state=1486161533), DecisionTreeClassifier(max_features='sqrt', random_state=765521379), DecisionTreeClassifier(max_features='sqrt', random_state=1291145897), DecisionTreeClassifier(max_features='sqrt', random_state=2042298647), DecisionTreeClassifier(max_features='sqrt', random_state=299271868), DecisionTreeClassifier(max_features='sqrt', random_state=1187759810), DecisionTreeClassifier(max_features='sqrt', random_state=1560651276), DecisionTreeClassifier(max_features='sqrt', random_state=196089958), DecisionTreeClassifier(max_features='sqrt', random_state=2122436202), DecisionTreeClassifier(max_features='sqrt', random_state=950370111), DecisionTreeClassifier(max_features='sqrt', random_state=511152153), DecisionTreeClassifier(max_features='sqrt', random_state=1782452449), DecisionTreeClassifier(max_features='sqrt', random_state=1177884811), DecisionTreeClassifier(max_features='sqrt', random_state=73384354), DecisionTreeClassifier(max_features='sqrt', random_state=1635192829), DecisionTreeClassifier(max_features='sqrt', random_state=1772034954), DecisionTreeClassifier(max_features='sqrt', random_state=1413688503), DecisionTreeClassifier(max_features='sqrt', random_state=342286051), DecisionTreeClassifier(max_features='sqrt', random_state=1264766756), DecisionTreeClassifier(max_features='sqrt', random_state=1360221552), DecisionTreeClassifier(max_features='sqrt', random_state=1987876844), DecisionTreeClassifier(max_features='sqrt', random_state=1336650115), DecisionTreeClassifier(max_features='sqrt', random_state=834314199), DecisionTreeClassifier(max_features='sqrt', random_state=1254429189), DecisionTreeClassifier(max_features='sqrt', random_state=1807005678), DecisionTreeClassifier(max_features='sqrt', random_state=1604172408), DecisionTreeClassifier(max_features='sqrt', random_state=157857007), DecisionTreeClassifier(max_features='sqrt', random_state=1478637172), DecisionTreeClassifier(max_features='sqrt', random_state=1550000929), DecisionTreeClassifier(max_features='sqrt', random_state=1014546227), DecisionTreeClassifier(max_features='sqrt', random_state=1481754373), DecisionTreeClassifier(max_features='sqrt', random_state=404088203), DecisionTreeClassifier(max_features='sqrt', random_state=1931445186), DecisionTreeClassifier(max_features='sqrt', random_state=496027995), DecisionTreeClassifier(max_features='sqrt', random_state=1653440577), DecisionTreeClassifier(max_features='sqrt', random_state=1954468458), DecisionTreeClassifier(max_features='sqrt', random_state=1280422179), DecisionTreeClassifier(max_features='sqrt', random_state=522987602), DecisionTreeClassifier(max_features='sqrt', random_state=1726372783), DecisionTreeClassifier(max_features='sqrt', random_state=428927481), DecisionTreeClassifier(max_features='sqrt', random_state=2027008227), DecisionTreeClassifier(max_features='sqrt', random_state=737790460), DecisionTreeClassifier(max_features='sqrt', random_state=1595110673), DecisionTreeClassifier(max_features='sqrt', random_state=7516101), DecisionTreeClassifier(max_features='sqrt', random_state=777370576), DecisionTreeClassifier(max_features='sqrt', random_state=43882942), DecisionTreeClassifier(max_features='sqrt', random_state=955291623), DecisionTreeClassifier(max_features='sqrt', random_state=1062441878), DecisionTreeClassifier(max_features='sqrt', random_state=1777575961), DecisionTreeClassifier(max_features='sqrt', random_state=627389251), DecisionTreeClassifier(max_features='sqrt', random_state=248520221), DecisionTreeClassifier(max_features='sqrt', random_state=2077550083), DecisionTreeClassifier(max_features='sqrt', random_state=1195053887), DecisionTreeClassifier(max_features='sqrt', random_state=82398765), DecisionTreeClassifier(max_features='sqrt', random_state=2141781925), DecisionTreeClassifier(max_features='sqrt', random_state=1115911777), DecisionTreeClassifier(max_features='sqrt', random_state=1348441765), DecisionTreeClassifier(max_features='sqrt', random_state=942632708), DecisionTreeClassifier(max_features='sqrt', random_state=2045509107), DecisionTreeClassifier(max_features='sqrt', random_state=106363112), DecisionTreeClassifier(max_features='sqrt', random_state=1983026013), DecisionTreeClassifier(max_features='sqrt', random_state=645808350), DecisionTreeClassifier(max_features='sqrt', random_state=1205431423), DecisionTreeClassifier(max_features='sqrt', random_state=1062712934), DecisionTreeClassifier(max_features='sqrt', random_state=1731604428), DecisionTreeClassifier(max_features='sqrt', random_state=498005090), DecisionTreeClassifier(max_features='sqrt', random_state=1850568472), DecisionTreeClassifier(max_features='sqrt', random_state=468773080), DecisionTreeClassifier(max_features='sqrt', random_state=769474749), DecisionTreeClassifier(max_features='sqrt', random_state=1172906857), DecisionTreeClassifier(max_features='sqrt', random_state=230285118), DecisionTreeClassifier(max_features='sqrt', random_state=285002522), DecisionTreeClassifier(max_features='sqrt', random_state=1684396344), DecisionTreeClassifier(max_features='sqrt', random_state=1796099920), DecisionTreeClassifier(max_features='sqrt', random_state=1024723457), DecisionTreeClassifier(max_features='sqrt', random_state=1331602517), DecisionTreeClassifier(max_features='sqrt', random_state=2124086825), DecisionTreeClassifier(max_features='sqrt', random_state=1017020606), DecisionTreeClassifier(max_features='sqrt', random_state=779799854), DecisionTreeClassifier(max_features='sqrt', random_state=1810198381), DecisionTreeClassifier(max_features='sqrt', random_state=256804475), DecisionTreeClassifier(max_features='sqrt', random_state=451480338), DecisionTreeClassifier(max_features='sqrt', random_state=509704794), DecisionTreeClassifier(max_features='sqrt', random_state=1406011283), DecisionTreeClassifier(max_features='sqrt', random_state=1807719388), DecisionTreeClassifier(max_features='sqrt', random_state=233172933), DecisionTreeClassifier(max_features='sqrt', random_state=1992083787), DecisionTreeClassifier(max_features='sqrt', random_state=1976429403), DecisionTreeClassifier(max_features='sqrt', random_state=926540332), DecisionTreeClassifier(max_features='sqrt', random_state=246609507), DecisionTreeClassifier(max_features='sqrt', random_state=1858230594), DecisionTreeClassifier(max_features='sqrt', random_state=783048016), DecisionTreeClassifier(max_features='sqrt', random_state=509800484), DecisionTreeClassifier(max_features='sqrt', random_state=295330331), DecisionTreeClassifier(max_features='sqrt', random_state=1202015534), DecisionTreeClassifier(max_features='sqrt', random_state=1523825505), DecisionTreeClassifier(max_features='sqrt', random_state=969601579), DecisionTreeClassifier(max_features='sqrt', random_state=1782151274), DecisionTreeClassifier(max_features='sqrt', random_state=772023777), DecisionTreeClassifier(max_features='sqrt', random_state=2048016670), DecisionTreeClassifier(max_features='sqrt', random_state=659586983), DecisionTreeClassifier(max_features='sqrt', random_state=376600241), DecisionTreeClassifier(max_features='sqrt', random_state=1510412327), DecisionTreeClassifier(max_features='sqrt', random_state=571996187), DecisionTreeClassifier(max_features='sqrt', random_state=251103154), DecisionTreeClassifier(max_features='sqrt', random_state=1047359419), DecisionTreeClassifier(max_features='sqrt', random_state=1999688468), DecisionTreeClassifier(max_features='sqrt', random_state=733301357)], '_sklearn_version': '1.2.2'}\n"
          ]
        }
      ]
    },
    {
      "cell_type": "code",
      "source": [
        "!python --version"
      ],
      "metadata": {
        "id": "AbO-R4kRSSEm",
        "outputId": "e140bc0f-bf79-4618-e8e7-da88076f771c",
        "colab": {
          "base_uri": "https://localhost:8080/"
        }
      },
      "execution_count": null,
      "outputs": [
        {
          "output_type": "stream",
          "name": "stdout",
          "text": [
            "Python 3.9.17\n"
          ]
        }
      ]
    },
    {
      "cell_type": "code",
      "source": [
        "import joblib\n",
        "import pickle\n",
        "model_filename = \"/content/rfmodelnew2.pkl\"\n",
        "\n",
        "loaded_model = pickle.load(open(model_filename, \"rb\"))"
      ],
      "metadata": {
        "id": "hEQS-v_Rtwlp",
        "colab": {
          "base_uri": "https://localhost:8080/",
          "height": 204
        },
        "outputId": "d3adcc5d-41e6-4d53-9eae-4b62073556a8"
      },
      "execution_count": null,
      "outputs": [
        {
          "output_type": "error",
          "ename": "UnpicklingError",
          "evalue": "ignored",
          "traceback": [
            "\u001b[0;31m---------------------------------------------------------------------------\u001b[0m",
            "\u001b[0;31mUnpicklingError\u001b[0m                           Traceback (most recent call last)",
            "\u001b[0;32m<ipython-input-4-8f5b64fc2d45>\u001b[0m in \u001b[0;36m<cell line: 5>\u001b[0;34m()\u001b[0m\n\u001b[1;32m      3\u001b[0m \u001b[0mmodel_filename\u001b[0m \u001b[0;34m=\u001b[0m \u001b[0;34m\"/content/rfmodelnew2.pkl\"\u001b[0m\u001b[0;34m\u001b[0m\u001b[0;34m\u001b[0m\u001b[0m\n\u001b[1;32m      4\u001b[0m \u001b[0;34m\u001b[0m\u001b[0m\n\u001b[0;32m----> 5\u001b[0;31m \u001b[0mloaded_model\u001b[0m \u001b[0;34m=\u001b[0m \u001b[0mpickle\u001b[0m\u001b[0;34m.\u001b[0m\u001b[0mload\u001b[0m\u001b[0;34m(\u001b[0m\u001b[0mopen\u001b[0m\u001b[0;34m(\u001b[0m\u001b[0mmodel_filename\u001b[0m\u001b[0;34m,\u001b[0m \u001b[0;34m\"rb\"\u001b[0m\u001b[0;34m)\u001b[0m\u001b[0;34m)\u001b[0m\u001b[0;34m\u001b[0m\u001b[0;34m\u001b[0m\u001b[0m\n\u001b[0m",
            "\u001b[0;31mUnpicklingError\u001b[0m: invalid load key, '\\x02'."
          ]
        }
      ]
    },
    {
      "cell_type": "code",
      "source": [
        "import pickle\n",
        "\n",
        "model_filename = \"/content/rfmodelnew2.pkl\"\n",
        "protocols = range(pickle.HIGHEST_PROTOCOL + 1)\n",
        "loaded_model = None\n",
        "\n",
        "for protocol in protocols:\n",
        "    try:\n",
        "        with open(model_filename, \"rb\") as file:\n",
        "            loaded_model = pickle.load(file)\n",
        "        break\n",
        "    except pickle.UnpicklingError:\n",
        "        continue\n",
        "    except EOFError:\n",
        "        break\n",
        "\n",
        "if loaded_model is None:\n",
        "    print(\"Unable to load the pickled file.\")\n",
        "\n",
        "# Use the loaded_model object as needed\n"
      ],
      "metadata": {
        "colab": {
          "base_uri": "https://localhost:8080/"
        },
        "id": "qpDlCwRkDClk",
        "outputId": "dd9c8f4f-9c04-48ba-d563-ab90a2d38913"
      },
      "execution_count": null,
      "outputs": [
        {
          "output_type": "stream",
          "name": "stdout",
          "text": [
            "Unable to load the pickled file.\n"
          ]
        }
      ]
    },
    {
      "cell_type": "code",
      "source": [
        "!wget https://bootstrap.pypa.io/get-pip.py\n"
      ],
      "metadata": {
        "colab": {
          "base_uri": "https://localhost:8080/"
        },
        "id": "IKh5BlzjM74K",
        "outputId": "06d352b8-7a69-447e-abe3-4294dbe3b794"
      },
      "execution_count": null,
      "outputs": [
        {
          "output_type": "stream",
          "name": "stdout",
          "text": [
            "--2023-07-10 19:07:46--  https://bootstrap.pypa.io/get-pip.py\n",
            "Resolving bootstrap.pypa.io (bootstrap.pypa.io)... 151.101.0.175, 151.101.64.175, 151.101.128.175, ...\n",
            "Connecting to bootstrap.pypa.io (bootstrap.pypa.io)|151.101.0.175|:443... connected.\n",
            "HTTP request sent, awaiting response... 200 OK\n",
            "Length: 2578580 (2.5M) [text/x-python]\n",
            "Saving to: ‘get-pip.py’\n",
            "\n",
            "\rget-pip.py            0%[                    ]       0  --.-KB/s               \rget-pip.py          100%[===================>]   2.46M  --.-KB/s    in 0.03s   \n",
            "\n",
            "2023-07-10 19:07:46 (77.7 MB/s) - ‘get-pip.py’ saved [2578580/2578580]\n",
            "\n"
          ]
        }
      ]
    },
    {
      "cell_type": "code",
      "source": [
        "!sudo python3.9 get-pip.py"
      ],
      "metadata": {
        "colab": {
          "base_uri": "https://localhost:8080/"
        },
        "id": "L-N3r-T6MzLG",
        "outputId": "6a96240e-b897-4544-85e5-e726075e946e"
      },
      "execution_count": null,
      "outputs": [
        {
          "output_type": "stream",
          "name": "stdout",
          "text": [
            "Collecting pip\n",
            "  Downloading pip-23.1.2-py3-none-any.whl (2.1 MB)\n",
            "\u001b[2K     \u001b[90m━━━━━━━━━━━━━━━━━━━━━━━━━━━━━━━━━━━━━━━━\u001b[0m \u001b[32m2.1/2.1 MB\u001b[0m \u001b[31m65.9 MB/s\u001b[0m eta \u001b[36m0:00:00\u001b[0m\n",
            "\u001b[?25hCollecting setuptools\n",
            "  Downloading setuptools-68.0.0-py3-none-any.whl (804 kB)\n",
            "\u001b[2K     \u001b[90m━━━━━━━━━━━━━━━━━━━━━━━━━━━━━━━━━━━━━━\u001b[0m \u001b[32m804.0/804.0 kB\u001b[0m \u001b[31m62.8 MB/s\u001b[0m eta \u001b[36m0:00:00\u001b[0m\n",
            "\u001b[?25hCollecting wheel\n",
            "  Downloading wheel-0.40.0-py3-none-any.whl (64 kB)\n",
            "\u001b[2K     \u001b[90m━━━━━━━━━━━━━━━━━━━━━━━━━━━━━━━━━━━━━━━━\u001b[0m \u001b[32m64.5/64.5 kB\u001b[0m \u001b[31m7.9 MB/s\u001b[0m eta \u001b[36m0:00:00\u001b[0m\n",
            "\u001b[?25hInstalling collected packages: wheel, setuptools, pip\n",
            "Successfully installed pip-23.1.2 setuptools-68.0.0 wheel-0.40.0\n",
            "\u001b[33mWARNING: Running pip as the 'root' user can result in broken permissions and conflicting behaviour with the system package manager. It is recommended to use a virtual environment instead: https://pip.pypa.io/warnings/venv\u001b[0m\u001b[33m\n",
            "\u001b[0m"
          ]
        }
      ]
    },
    {
      "cell_type": "code",
      "source": [
        "!python -m pip install --upgrade pip"
      ],
      "metadata": {
        "colab": {
          "base_uri": "https://localhost:8080/"
        },
        "id": "BVu4IQc9MibE",
        "outputId": "3c1a02a9-389e-485e-ef72-60edc56f2ab0"
      },
      "execution_count": null,
      "outputs": [
        {
          "output_type": "stream",
          "name": "stdout",
          "text": [
            "/usr/bin/python3: No module named pip\n"
          ]
        }
      ]
    },
    {
      "cell_type": "code",
      "source": [
        "!pip install chassisml"
      ],
      "metadata": {
        "colab": {
          "base_uri": "https://localhost:8080/",
          "height": 1000
        },
        "id": "2y12iv9_yeSv",
        "outputId": "10ffd4f0-8432-4c6e-8c93-912eca032122"
      },
      "execution_count": 2,
      "outputs": [
        {
          "output_type": "stream",
          "name": "stdout",
          "text": [
            "Collecting chassisml\n",
            "  Downloading chassisml-1.4.13-py3-none-any.whl (35 kB)\n",
            "Requirement already satisfied: requests in /usr/local/lib/python3.10/dist-packages (from chassisml) (2.27.1)\n",
            "Collecting mlflow (from chassisml)\n",
            "  Downloading mlflow-2.4.2-py3-none-any.whl (18.1 MB)\n",
            "\u001b[2K     \u001b[90m━━━━━━━━━━━━━━━━━━━━━━━━━━━━━━━━━━━━━━━━\u001b[0m \u001b[32m18.1/18.1 MB\u001b[0m \u001b[31m79.0 MB/s\u001b[0m eta \u001b[36m0:00:00\u001b[0m\n",
            "\u001b[?25hRequirement already satisfied: numpy in /usr/local/lib/python3.10/dist-packages (from chassisml) (1.22.4)\n",
            "Requirement already satisfied: pyyaml in /usr/local/lib/python3.10/dist-packages (from chassisml) (6.0)\n",
            "Collecting validators (from chassisml)\n",
            "  Downloading validators-0.20.0.tar.gz (30 kB)\n",
            "  Preparing metadata (setup.py) ... \u001b[?25l\u001b[?25hdone\n",
            "Collecting grpc-requests (from chassisml)\n",
            "  Downloading grpc_requests-0.1.10-py3-none-any.whl (28 kB)\n",
            "Requirement already satisfied: grpcio in /usr/local/lib/python3.10/dist-packages (from chassisml) (1.56.0)\n",
            "Collecting docker (from chassisml)\n",
            "  Downloading docker-6.1.3-py3-none-any.whl (148 kB)\n",
            "\u001b[2K     \u001b[90m━━━━━━━━━━━━━━━━━━━━━━━━━━━━━━━━━━━━━━\u001b[0m \u001b[32m148.1/148.1 kB\u001b[0m \u001b[31m17.8 MB/s\u001b[0m eta \u001b[36m0:00:00\u001b[0m\n",
            "\u001b[?25hCollecting protobuf==3.19.4 (from chassisml)\n",
            "  Downloading protobuf-3.19.4-cp310-cp310-manylinux_2_17_x86_64.manylinux2014_x86_64.whl (1.1 MB)\n",
            "\u001b[2K     \u001b[90m━━━━━━━━━━━━━━━━━━━━━━━━━━━━━━━━━━━━━━━━\u001b[0m \u001b[32m1.1/1.1 MB\u001b[0m \u001b[31m71.9 MB/s\u001b[0m eta \u001b[36m0:00:00\u001b[0m\n",
            "\u001b[?25hRequirement already satisfied: packaging>=14.0 in /usr/local/lib/python3.10/dist-packages (from docker->chassisml) (23.1)\n",
            "Requirement already satisfied: urllib3>=1.26.0 in /usr/local/lib/python3.10/dist-packages (from docker->chassisml) (1.26.16)\n",
            "Requirement already satisfied: websocket-client>=0.32.0 in /usr/local/lib/python3.10/dist-packages (from docker->chassisml) (1.6.0)\n",
            "Requirement already satisfied: certifi>=2017.4.17 in /usr/local/lib/python3.10/dist-packages (from requests->chassisml) (2023.5.7)\n",
            "Requirement already satisfied: charset-normalizer~=2.0.0 in /usr/local/lib/python3.10/dist-packages (from requests->chassisml) (2.0.12)\n",
            "Requirement already satisfied: idna<4,>=2.5 in /usr/local/lib/python3.10/dist-packages (from requests->chassisml) (3.4)\n",
            "Collecting grpcio-reflection>=1.49.1 (from grpc-requests->chassisml)\n",
            "  Downloading grpcio_reflection-1.56.0-py3-none-any.whl (11 kB)\n",
            "Requirement already satisfied: google-api-core>=2.9.0 in /usr/local/lib/python3.10/dist-packages (from grpc-requests->chassisml) (2.11.1)\n",
            "Collecting cryptography>=39.0.1 (from grpc-requests->chassisml)\n",
            "  Downloading cryptography-41.0.1-cp37-abi3-manylinux_2_28_x86_64.whl (4.3 MB)\n",
            "\u001b[2K     \u001b[90m━━━━━━━━━━━━━━━━━━━━━━━━━━━━━━━━━━━━━━━━\u001b[0m \u001b[32m4.3/4.3 MB\u001b[0m \u001b[31m96.0 MB/s\u001b[0m eta \u001b[36m0:00:00\u001b[0m\n",
            "\u001b[?25hRequirement already satisfied: click<9,>=7.0 in /usr/local/lib/python3.10/dist-packages (from mlflow->chassisml) (8.1.3)\n",
            "Requirement already satisfied: cloudpickle<3 in /usr/local/lib/python3.10/dist-packages (from mlflow->chassisml) (2.2.1)\n",
            "Collecting databricks-cli<1,>=0.8.7 (from mlflow->chassisml)\n",
            "  Downloading databricks-cli-0.17.7.tar.gz (83 kB)\n",
            "\u001b[2K     \u001b[90m━━━━━━━━━━━━━━━━━━━━━━━━━━━━━━━━━━━━━━━━\u001b[0m \u001b[32m83.5/83.5 kB\u001b[0m \u001b[31m9.5 MB/s\u001b[0m eta \u001b[36m0:00:00\u001b[0m\n",
            "\u001b[?25h  Preparing metadata (setup.py) ... \u001b[?25l\u001b[?25hdone\n",
            "Requirement already satisfied: entrypoints<1 in /usr/local/lib/python3.10/dist-packages (from mlflow->chassisml) (0.4)\n",
            "Collecting gitpython<4,>=2.1.0 (from mlflow->chassisml)\n",
            "  Downloading GitPython-3.1.32-py3-none-any.whl (188 kB)\n",
            "\u001b[2K     \u001b[90m━━━━━━━━━━━━━━━━━━━━━━━━━━━━━━━━━━━━━━\u001b[0m \u001b[32m188.5/188.5 kB\u001b[0m \u001b[31m22.0 MB/s\u001b[0m eta \u001b[36m0:00:00\u001b[0m\n",
            "\u001b[?25hRequirement already satisfied: pytz<2024 in /usr/local/lib/python3.10/dist-packages (from mlflow->chassisml) (2022.7.1)\n",
            "Collecting importlib-metadata!=4.7.0,<7,>=3.7.0 (from mlflow->chassisml)\n",
            "  Downloading importlib_metadata-6.8.0-py3-none-any.whl (22 kB)\n",
            "Requirement already satisfied: sqlparse<1,>=0.4.0 in /usr/local/lib/python3.10/dist-packages (from mlflow->chassisml) (0.4.4)\n",
            "Collecting alembic!=1.10.0,<2 (from mlflow->chassisml)\n",
            "  Downloading alembic-1.11.1-py3-none-any.whl (224 kB)\n",
            "\u001b[2K     \u001b[90m━━━━━━━━━━━━━━━━━━━━━━━━━━━━━━━━━━━━━━\u001b[0m \u001b[32m224.5/224.5 kB\u001b[0m \u001b[31m23.6 MB/s\u001b[0m eta \u001b[36m0:00:00\u001b[0m\n",
            "\u001b[?25hRequirement already satisfied: Flask<3 in /usr/local/lib/python3.10/dist-packages (from mlflow->chassisml) (2.2.5)\n",
            "Requirement already satisfied: scipy<2 in /usr/local/lib/python3.10/dist-packages (from mlflow->chassisml) (1.10.1)\n",
            "Requirement already satisfied: pandas<3 in /usr/local/lib/python3.10/dist-packages (from mlflow->chassisml) (1.5.3)\n",
            "Collecting querystring-parser<2 (from mlflow->chassisml)\n",
            "  Downloading querystring_parser-1.2.4-py2.py3-none-any.whl (7.9 kB)\n",
            "Requirement already satisfied: sqlalchemy<3,>=1.4.0 in /usr/local/lib/python3.10/dist-packages (from mlflow->chassisml) (2.0.16)\n",
            "Requirement already satisfied: scikit-learn<2 in /usr/local/lib/python3.10/dist-packages (from mlflow->chassisml) (1.2.2)\n",
            "Requirement already satisfied: pyarrow<13,>=4.0.0 in /usr/local/lib/python3.10/dist-packages (from mlflow->chassisml) (9.0.0)\n",
            "Requirement already satisfied: markdown<4,>=3.3 in /usr/local/lib/python3.10/dist-packages (from mlflow->chassisml) (3.4.3)\n",
            "Requirement already satisfied: matplotlib<4 in /usr/local/lib/python3.10/dist-packages (from mlflow->chassisml) (3.7.1)\n",
            "Collecting gunicorn<21 (from mlflow->chassisml)\n",
            "  Downloading gunicorn-20.1.0-py3-none-any.whl (79 kB)\n",
            "\u001b[2K     \u001b[90m━━━━━━━━━━━━━━━━━━━━━━━━━━━━━━━━━━━━━━━━\u001b[0m \u001b[32m79.5/79.5 kB\u001b[0m \u001b[31m9.5 MB/s\u001b[0m eta \u001b[36m0:00:00\u001b[0m\n",
            "\u001b[?25hRequirement already satisfied: Jinja2<4,>=2.11 in /usr/local/lib/python3.10/dist-packages (from mlflow->chassisml) (3.1.2)\n",
            "Requirement already satisfied: decorator>=3.4.0 in /usr/local/lib/python3.10/dist-packages (from validators->chassisml) (4.4.2)\n",
            "Collecting Mako (from alembic!=1.10.0,<2->mlflow->chassisml)\n",
            "  Downloading Mako-1.2.4-py3-none-any.whl (78 kB)\n",
            "\u001b[2K     \u001b[90m━━━━━━━━━━━━━━━━━━━━━━━━━━━━━━━━━━━━━━━━\u001b[0m \u001b[32m78.7/78.7 kB\u001b[0m \u001b[31m5.8 MB/s\u001b[0m eta \u001b[36m0:00:00\u001b[0m\n",
            "\u001b[?25hRequirement already satisfied: typing-extensions>=4 in /usr/local/lib/python3.10/dist-packages (from alembic!=1.10.0,<2->mlflow->chassisml) (4.6.3)\n",
            "Requirement already satisfied: cffi>=1.12 in /usr/local/lib/python3.10/dist-packages (from cryptography>=39.0.1->grpc-requests->chassisml) (1.15.1)\n",
            "Collecting pyjwt>=1.7.0 (from databricks-cli<1,>=0.8.7->mlflow->chassisml)\n",
            "  Downloading PyJWT-2.7.0-py3-none-any.whl (22 kB)\n",
            "Requirement already satisfied: oauthlib>=3.1.0 in /usr/local/lib/python3.10/dist-packages (from databricks-cli<1,>=0.8.7->mlflow->chassisml) (3.2.2)\n",
            "Requirement already satisfied: tabulate>=0.7.7 in /usr/local/lib/python3.10/dist-packages (from databricks-cli<1,>=0.8.7->mlflow->chassisml) (0.8.10)\n",
            "Requirement already satisfied: six>=1.10.0 in /usr/local/lib/python3.10/dist-packages (from databricks-cli<1,>=0.8.7->mlflow->chassisml) (1.16.0)\n",
            "Requirement already satisfied: Werkzeug>=2.2.2 in /usr/local/lib/python3.10/dist-packages (from Flask<3->mlflow->chassisml) (2.3.6)\n",
            "Requirement already satisfied: itsdangerous>=2.0 in /usr/local/lib/python3.10/dist-packages (from Flask<3->mlflow->chassisml) (2.1.2)\n",
            "Collecting gitdb<5,>=4.0.1 (from gitpython<4,>=2.1.0->mlflow->chassisml)\n",
            "  Downloading gitdb-4.0.10-py3-none-any.whl (62 kB)\n",
            "\u001b[2K     \u001b[90m━━━━━━━━━━━━━━━━━━━━━━━━━━━━━━━━━━━━━━━━\u001b[0m \u001b[32m62.7/62.7 kB\u001b[0m \u001b[31m7.9 MB/s\u001b[0m eta \u001b[36m0:00:00\u001b[0m\n",
            "\u001b[?25hRequirement already satisfied: googleapis-common-protos<2.0.dev0,>=1.56.2 in /usr/local/lib/python3.10/dist-packages (from google-api-core>=2.9.0->grpc-requests->chassisml) (1.59.1)\n",
            "INFO: pip is looking at multiple versions of google-api-core to determine which version is compatible with other requirements. This could take a while.\n",
            "Collecting google-api-core>=2.9.0 (from grpc-requests->chassisml)\n",
            "  Downloading google_api_core-2.11.0-py3-none-any.whl (120 kB)\n",
            "\u001b[2K     \u001b[90m━━━━━━━━━━━━━━━━━━━━━━━━━━━━━━━━━━━━━━\u001b[0m \u001b[32m120.3/120.3 kB\u001b[0m \u001b[31m15.1 MB/s\u001b[0m eta \u001b[36m0:00:00\u001b[0m\n",
            "\u001b[?25h  Downloading google_api_core-2.10.2-py3-none-any.whl (115 kB)\n",
            "\u001b[2K     \u001b[90m━━━━━━━━━━━━━━━━━━━━━━━━━━━━━━━━━━━━━━\u001b[0m \u001b[32m115.6/115.6 kB\u001b[0m \u001b[31m15.3 MB/s\u001b[0m eta \u001b[36m0:00:00\u001b[0m\n",
            "\u001b[?25h  Downloading google_api_core-2.10.1-py3-none-any.whl (115 kB)\n",
            "\u001b[2K     \u001b[90m━━━━━━━━━━━━━━━━━━━━━━━━━━━━━━━━━━━━━━\u001b[0m \u001b[32m115.5/115.5 kB\u001b[0m \u001b[31m14.6 MB/s\u001b[0m eta \u001b[36m0:00:00\u001b[0m\n",
            "\u001b[?25h  Downloading google_api_core-2.10.0-py3-none-any.whl (115 kB)\n",
            "\u001b[2K     \u001b[90m━━━━━━━━━━━━━━━━━━━━━━━━━━━━━━━━━━━━━━\u001b[0m \u001b[32m115.3/115.3 kB\u001b[0m \u001b[31m14.8 MB/s\u001b[0m eta \u001b[36m0:00:00\u001b[0m\n",
            "\u001b[?25h  Downloading google_api_core-2.9.0-py3-none-any.whl (115 kB)\n",
            "\u001b[2K     \u001b[90m━━━━━━━━━━━━━━━━━━━━━━━━━━━━━━━━━━━━━━\u001b[0m \u001b[32m115.1/115.1 kB\u001b[0m \u001b[31m14.8 MB/s\u001b[0m eta \u001b[36m0:00:00\u001b[0m\n",
            "\u001b[?25hCollecting mlflow (from chassisml)\n",
            "  Downloading mlflow-2.4.1-py3-none-any.whl (18.1 MB)\n",
            "\u001b[2K     \u001b[90m━━━━━━━━━━━━━━━━━━━━━━━━━━━━━━━━━━━━━━━━\u001b[0m \u001b[32m18.1/18.1 MB\u001b[0m \u001b[31m79.6 MB/s\u001b[0m eta \u001b[36m0:00:00\u001b[0m\n",
            "\u001b[?25hINFO: pip is looking at multiple versions of google-api-core to determine which version is compatible with other requirements. This could take a while.\n",
            "  Downloading mlflow-2.4.0-py3-none-any.whl (18.1 MB)\n",
            "\u001b[2K     \u001b[90m━━━━━━━━━━━━━━━━━━━━━━━━━━━━━━━━━━━━━━━━\u001b[0m \u001b[32m18.1/18.1 MB\u001b[0m \u001b[31m76.5 MB/s\u001b[0m eta \u001b[36m0:00:00\u001b[0m\n",
            "\u001b[?25hINFO: This is taking longer than usual. You might need to provide the dependency resolver with stricter constraints to reduce runtime. See https://pip.pypa.io/warnings/backtracking for guidance. If you want to abort this run, press Ctrl + C.\n",
            "  Downloading mlflow-2.3.2-py3-none-any.whl (17.7 MB)\n",
            "\u001b[2K     \u001b[90m━━━━━━━━━━━━━━━━━━━━━━━━━━━━━━━━━━━━━━━━\u001b[0m \u001b[32m17.7/17.7 MB\u001b[0m \u001b[31m84.0 MB/s\u001b[0m eta \u001b[36m0:00:00\u001b[0m\n",
            "\u001b[?25h  Downloading mlflow-2.3.1-py3-none-any.whl (17.7 MB)\n",
            "\u001b[2K     \u001b[90m━━━━━━━━━━━━━━━━━━━━━━━━━━━━━━━━━━━━━━━━\u001b[0m \u001b[32m17.7/17.7 MB\u001b[0m \u001b[31m37.8 MB/s\u001b[0m eta \u001b[36m0:00:00\u001b[0m\n",
            "\u001b[?25h  Downloading mlflow-2.3.0-py3-none-any.whl (17.7 MB)\n",
            "\u001b[2K     \u001b[90m━━━━━━━━━━━━━━━━━━━━━━━━━━━━━━━━━━━━━━━━\u001b[0m \u001b[32m17.7/17.7 MB\u001b[0m \u001b[31m16.0 MB/s\u001b[0m eta \u001b[36m0:00:00\u001b[0m\n",
            "\u001b[?25h  Downloading mlflow-2.2.2-py3-none-any.whl (17.6 MB)\n",
            "\u001b[2K     \u001b[90m━━━━━━━━━━━━━━━━━━━━━━━━━━━━━━━━━━━━━━━━\u001b[0m \u001b[32m17.6/17.6 MB\u001b[0m \u001b[31m63.2 MB/s\u001b[0m eta \u001b[36m0:00:00\u001b[0m\n",
            "\u001b[?25hCollecting shap<1,>=0.40 (from mlflow->chassisml)\n",
            "  Downloading shap-0.42.0-cp310-cp310-manylinux_2_12_x86_64.manylinux2010_x86_64.manylinux_2_17_x86_64.manylinux2014_x86_64.whl (547 kB)\n",
            "\u001b[2K     \u001b[90m━━━━━━━━━━━━━━━━━━━━━━━━━━━━━━━━━━━━━━\u001b[0m \u001b[32m547.1/547.1 kB\u001b[0m \u001b[31m41.6 MB/s\u001b[0m eta \u001b[36m0:00:00\u001b[0m\n",
            "\u001b[?25hCollecting mlflow (from chassisml)\n",
            "  Downloading mlflow-2.2.1-py3-none-any.whl (17.6 MB)\n",
            "\u001b[2K     \u001b[90m━━━━━━━━━━━━━━━━━━━━━━━━━━━━━━━━━━━━━━━━\u001b[0m \u001b[32m17.6/17.6 MB\u001b[0m \u001b[31m60.8 MB/s\u001b[0m eta \u001b[36m0:00:00\u001b[0m\n",
            "\u001b[?25h  Downloading mlflow-2.2.0-py3-none-any.whl (17.6 MB)\n",
            "\u001b[2K     \u001b[90m━━━━━━━━━━━━━━━━━━━━━━━━━━━━━━━━━━━━━━━━\u001b[0m \u001b[32m17.6/17.6 MB\u001b[0m \u001b[31m64.3 MB/s\u001b[0m eta \u001b[36m0:00:00\u001b[0m\n",
            "\u001b[?25h  Downloading mlflow-2.1.1-py3-none-any.whl (16.7 MB)\n",
            "\u001b[2K     \u001b[90m━━━━━━━━━━━━━━━━━━━━━━━━━━━━━━━━━━━━━━━━\u001b[0m \u001b[32m16.7/16.7 MB\u001b[0m \u001b[31m85.4 MB/s\u001b[0m eta \u001b[36m0:00:00\u001b[0m\n",
            "\u001b[?25hCollecting importlib-metadata!=4.7.0,<6,>=3.7.0 (from mlflow->chassisml)\n",
            "  Downloading importlib_metadata-5.2.0-py3-none-any.whl (21 kB)\n",
            "Collecting packaging>=14.0 (from docker->chassisml)\n",
            "  Downloading packaging-22.0-py3-none-any.whl (42 kB)\n",
            "\u001b[2K     \u001b[90m━━━━━━━━━━━━━━━━━━━━━━━━━━━━━━━━━━━━━━━━\u001b[0m \u001b[32m42.6/42.6 kB\u001b[0m \u001b[31m4.9 MB/s\u001b[0m eta \u001b[36m0:00:00\u001b[0m\n",
            "\u001b[?25hCollecting sqlalchemy<2,>=1.4.0 (from mlflow->chassisml)\n",
            "  Downloading SQLAlchemy-1.4.49-cp310-cp310-manylinux_2_5_x86_64.manylinux1_x86_64.manylinux_2_17_x86_64.manylinux2014_x86_64.whl (1.6 MB)\n",
            "\u001b[2K     \u001b[90m━━━━━━━━━━━━━━━━━━━━━━━━━━━━━━━━━━━━━━━━\u001b[0m \u001b[32m1.6/1.6 MB\u001b[0m \u001b[31m82.7 MB/s\u001b[0m eta \u001b[36m0:00:00\u001b[0m\n",
            "\u001b[?25hCollecting mlflow (from chassisml)\n",
            "  Downloading mlflow-2.1.0-py3-none-any.whl (16.7 MB)\n",
            "\u001b[2K     \u001b[90m━━━━━━━━━━━━━━━━━━━━━━━━━━━━━━━━━━━━━━━━\u001b[0m \u001b[32m16.7/16.7 MB\u001b[0m \u001b[31m17.8 MB/s\u001b[0m eta \u001b[36m0:00:00\u001b[0m\n",
            "\u001b[?25h  Downloading mlflow-2.0.1-py3-none-any.whl (16.5 MB)\n",
            "\u001b[2K     \u001b[90m━━━━━━━━━━━━━━━━━━━━━━━━━━━━━━━━━━━━━━━━\u001b[0m \u001b[32m16.5/16.5 MB\u001b[0m \u001b[31m87.6 MB/s\u001b[0m eta \u001b[36m0:00:00\u001b[0m\n",
            "\u001b[?25hCollecting packaging>=14.0 (from docker->chassisml)\n",
            "  Downloading packaging-21.3-py3-none-any.whl (40 kB)\n",
            "\u001b[2K     \u001b[90m━━━━━━━━━━━━━━━━━━━━━━━━━━━━━━━━━━━━━━━━\u001b[0m \u001b[32m40.8/40.8 kB\u001b[0m \u001b[31m4.1 MB/s\u001b[0m eta \u001b[36m0:00:00\u001b[0m\n",
            "\u001b[?25hCollecting mlflow (from chassisml)\n",
            "  Downloading mlflow-1.30.1-py3-none-any.whl (17.0 MB)\n",
            "\u001b[2K     \u001b[90m━━━━━━━━━━━━━━━━━━━━━━━━━━━━━━━━━━━━━━━━\u001b[0m \u001b[32m17.0/17.0 MB\u001b[0m \u001b[31m82.0 MB/s\u001b[0m eta \u001b[36m0:00:00\u001b[0m\n",
            "\u001b[?25hCollecting prometheus-flask-exporter<1 (from mlflow->chassisml)\n",
            "  Downloading prometheus_flask_exporter-0.22.4-py3-none-any.whl (18 kB)\n",
            "Collecting mlflow (from chassisml)\n",
            "  Downloading mlflow-1.30.0-py3-none-any.whl (17.0 MB)\n",
            "\u001b[2K     \u001b[90m━━━━━━━━━━━━━━━━━━━━━━━━━━━━━━━━━━━━━━━━\u001b[0m \u001b[32m17.0/17.0 MB\u001b[0m \u001b[31m64.7 MB/s\u001b[0m eta \u001b[36m0:00:00\u001b[0m\n",
            "\u001b[?25h  Downloading mlflow-1.29.0-py3-none-any.whl (16.9 MB)\n",
            "\u001b[2K     \u001b[90m━━━━━━━━━━━━━━━━━━━━━━━━━━━━━━━━━━━━━━━━\u001b[0m \u001b[32m16.9/16.9 MB\u001b[0m \u001b[31m86.7 MB/s\u001b[0m eta \u001b[36m0:00:00\u001b[0m\n",
            "\u001b[?25hCollecting importlib-metadata!=4.7.0,<5,>=3.7.0 (from mlflow->chassisml)\n",
            "  Downloading importlib_metadata-4.13.0-py3-none-any.whl (23 kB)\n",
            "Collecting mlflow (from chassisml)\n",
            "  Downloading mlflow-1.28.0-py3-none-any.whl (17.0 MB)\n",
            "\u001b[2K     \u001b[90m━━━━━━━━━━━━━━━━━━━━━━━━━━━━━━━━━━━━━━━━\u001b[0m \u001b[32m17.0/17.0 MB\u001b[0m \u001b[31m82.7 MB/s\u001b[0m eta \u001b[36m0:00:00\u001b[0m\n",
            "\u001b[?25hCollecting docker (from chassisml)\n",
            "  Downloading docker-5.0.3-py2.py3-none-any.whl (146 kB)\n",
            "\u001b[2K     \u001b[90m━━━━━━━━━━━━━━━━━━━━━━━━━━━━━━━━━━━━━━\u001b[0m \u001b[32m146.2/146.2 kB\u001b[0m \u001b[31m15.5 MB/s\u001b[0m eta \u001b[36m0:00:00\u001b[0m\n",
            "\u001b[?25hCollecting mlflow (from chassisml)\n",
            "  Downloading mlflow-1.27.0-py3-none-any.whl (17.9 MB)\n",
            "\u001b[2K     \u001b[90m━━━━━━━━━━━━━━━━━━━━━━━━━━━━━━━━━━━━━━━━\u001b[0m \u001b[32m17.9/17.9 MB\u001b[0m \u001b[31m15.0 MB/s\u001b[0m eta \u001b[36m0:00:00\u001b[0m\n",
            "\u001b[?25h  Downloading mlflow-1.26.1-py3-none-any.whl (17.8 MB)\n",
            "\u001b[2K     \u001b[90m━━━━━━━━━━━━━━━━━━━━━━━━━━━━━━━━━━━━━━━━\u001b[0m \u001b[32m17.8/17.8 MB\u001b[0m \u001b[31m68.1 MB/s\u001b[0m eta \u001b[36m0:00:00\u001b[0m\n",
            "\u001b[?25h  Downloading mlflow-1.26.0-py3-none-any.whl (17.8 MB)\n",
            "\u001b[2K     \u001b[90m━━━━━━━━━━━━━━━━━━━━━━━━━━━━━━━━━━━━━━━━\u001b[0m \u001b[32m17.8/17.8 MB\u001b[0m \u001b[31m54.9 MB/s\u001b[0m eta \u001b[36m0:00:00\u001b[0m\n",
            "\u001b[?25h  Downloading mlflow-1.25.1-py3-none-any.whl (16.8 MB)\n",
            "\u001b[2K     \u001b[90m━━━━━━━━━━━━━━━━━━━━━━━━━━━━━━━━━━━━━━━━\u001b[0m \u001b[32m16.8/16.8 MB\u001b[0m \u001b[31m69.1 MB/s\u001b[0m eta \u001b[36m0:00:00\u001b[0m\n",
            "\u001b[?25h  Downloading mlflow-1.25.0-py3-none-any.whl (16.7 MB)\n",
            "\u001b[2K     \u001b[90m━━━━━━━━━━━━━━━━━━━━━━━━━━━━━━━━━━━━━━━━\u001b[0m \u001b[32m16.7/16.7 MB\u001b[0m \u001b[31m81.0 MB/s\u001b[0m eta \u001b[36m0:00:00\u001b[0m\n",
            "\u001b[?25h  Downloading mlflow-1.24.0-py3-none-any.whl (16.5 MB)\n",
            "\u001b[2K     \u001b[90m━━━━━━━━━━━━━━━━━━━━━━━━━━━━━━━━━━━━━━━━\u001b[0m \u001b[32m16.5/16.5 MB\u001b[0m \u001b[31m76.9 MB/s\u001b[0m eta \u001b[36m0:00:00\u001b[0m\n",
            "\u001b[?25h  Downloading mlflow-1.23.1-py3-none-any.whl (15.6 MB)\n",
            "\u001b[2K     \u001b[90m━━━━━━━━━━━━━━━━━━━━━━━━━━━━━━━━━━━━━━━━\u001b[0m \u001b[32m15.6/15.6 MB\u001b[0m \u001b[31m21.7 MB/s\u001b[0m eta \u001b[36m0:00:00\u001b[0m\n",
            "\u001b[?25h  Downloading mlflow-1.23.0-py3-none-any.whl (15.6 MB)\n",
            "\u001b[2K     \u001b[90m━━━━━━━━━━━━━━━━━━━━━━━━━━━━━━━━━━━━━━━━\u001b[0m \u001b[32m15.6/15.6 MB\u001b[0m \u001b[31m65.9 MB/s\u001b[0m eta \u001b[36m0:00:00\u001b[0m\n",
            "\u001b[?25h  Downloading mlflow-1.22.0-py3-none-any.whl (15.5 MB)\n",
            "\u001b[2K     \u001b[90m━━━━━━━━━━━━━━━━━━━━━━━━━━━━━━━━━━━━━━━━\u001b[0m \u001b[32m15.5/15.5 MB\u001b[0m \u001b[31m77.7 MB/s\u001b[0m eta \u001b[36m0:00:00\u001b[0m\n",
            "\u001b[?25hCollecting alembic<=1.4.1 (from mlflow->chassisml)\n",
            "  Downloading alembic-1.4.1.tar.gz (1.1 MB)\n",
            "\u001b[2K     \u001b[90m━━━━━━━━━━━━━━━━━━━━━━━━━━━━━━━━━━━━━━━━\u001b[0m \u001b[32m1.1/1.1 MB\u001b[0m \u001b[31m72.2 MB/s\u001b[0m eta \u001b[36m0:00:00\u001b[0m\n",
            "\u001b[?25h  Preparing metadata (setup.py) ... \u001b[?25l\u001b[?25hdone\n",
            "Collecting mlflow (from chassisml)\n",
            "  Downloading mlflow-1.21.0-py3-none-any.whl (16.9 MB)\n",
            "\u001b[2K     \u001b[90m━━━━━━━━━━━━━━━━━━━━━━━━━━━━━━━━━━━━━━━━\u001b[0m \u001b[32m16.9/16.9 MB\u001b[0m \u001b[31m86.3 MB/s\u001b[0m eta \u001b[36m0:00:00\u001b[0m\n",
            "\u001b[?25h  Downloading mlflow-1.20.2-py3-none-any.whl (14.6 MB)\n",
            "\u001b[2K     \u001b[90m━━━━━━━━━━━━━━━━━━━━━━━━━━━━━━━━━━━━━━━\u001b[0m \u001b[32m14.6/14.6 MB\u001b[0m \u001b[31m109.9 MB/s\u001b[0m eta \u001b[36m0:00:00\u001b[0m\n",
            "\u001b[?25h  Downloading mlflow-1.20.1-py3-none-any.whl (14.6 MB)\n",
            "\u001b[2K     \u001b[90m━━━━━━━━━━━━━━━━━━━━━━━━━━━━━━━━━━━━━━━━\u001b[0m \u001b[32m14.6/14.6 MB\u001b[0m \u001b[31m15.2 MB/s\u001b[0m eta \u001b[36m0:00:00\u001b[0m\n",
            "\u001b[?25h  Downloading mlflow-1.20.0-py3-none-any.whl (14.6 MB)\n",
            "\u001b[2K     \u001b[90m━━━━━━━━━━━━━━━━━━━━━━━━━━━━━━━━━━━━━━━━\u001b[0m \u001b[32m14.6/14.6 MB\u001b[0m \u001b[31m78.5 MB/s\u001b[0m eta \u001b[36m0:00:00\u001b[0m\n",
            "\u001b[?25h  Downloading mlflow-1.19.0-py3-none-any.whl (14.4 MB)\n",
            "\u001b[2K     \u001b[90m━━━━━━━━━━━━━━━━━━━━━━━━━━━━━━━━━━━━━━━━\u001b[0m \u001b[32m14.4/14.4 MB\u001b[0m \u001b[31m73.1 MB/s\u001b[0m eta \u001b[36m0:00:00\u001b[0m\n",
            "\u001b[?25h  Downloading mlflow-1.18.0-py3-none-any.whl (14.2 MB)\n",
            "\u001b[2K     \u001b[90m━━━━━━━━━━━━━━━━━━━━━━━━━━━━━━━━━━━━━━━━\u001b[0m \u001b[32m14.2/14.2 MB\u001b[0m \u001b[31m69.5 MB/s\u001b[0m eta \u001b[36m0:00:00\u001b[0m\n",
            "\u001b[?25h  Downloading mlflow-1.17.0-py3-none-any.whl (14.2 MB)\n",
            "\u001b[2K     \u001b[90m━━━━━━━━━━━━━━━━━━━━━━━━━━━━━━━━━━━━━━━━\u001b[0m \u001b[32m14.2/14.2 MB\u001b[0m \u001b[31m80.1 MB/s\u001b[0m eta \u001b[36m0:00:00\u001b[0m\n",
            "\u001b[?25h  Downloading mlflow-1.16.0-py3-none-any.whl (14.2 MB)\n",
            "\u001b[2K     \u001b[90m━━━━━━━━━━━━━━━━━━━━━━━━━━━━━━━━━━━━━━━━\u001b[0m \u001b[32m14.2/14.2 MB\u001b[0m \u001b[31m50.8 MB/s\u001b[0m eta \u001b[36m0:00:00\u001b[0m\n",
            "\u001b[?25h  Downloading mlflow-1.15.0-py3-none-any.whl (14.2 MB)\n",
            "\u001b[2K     \u001b[90m━━━━━━━━━━━━━━━━━━━━━━━━━━━━━━━━━━━━━━━━\u001b[0m \u001b[32m14.2/14.2 MB\u001b[0m \u001b[31m72.4 MB/s\u001b[0m eta \u001b[36m0:00:00\u001b[0m\n",
            "\u001b[?25h  Downloading mlflow-1.14.1-py3-none-any.whl (14.2 MB)\n",
            "\u001b[2K     \u001b[90m━━━━━━━━━━━━━━━━━━━━━━━━━━━━━━━━━━━━━━━━\u001b[0m \u001b[32m14.2/14.2 MB\u001b[0m \u001b[31m16.3 MB/s\u001b[0m eta \u001b[36m0:00:00\u001b[0m\n",
            "\u001b[?25h  Downloading mlflow-1.14.0-py3-none-any.whl (14.2 MB)\n",
            "\u001b[2K     \u001b[90m━━━━━━━━━━━━━━━━━━━━━━━━━━━━━━━━━━━━━━━━\u001b[0m \u001b[32m14.2/14.2 MB\u001b[0m \u001b[31m91.0 MB/s\u001b[0m eta \u001b[36m0:00:00\u001b[0m\n",
            "\u001b[?25h  Downloading mlflow-1.13.1-py3-none-any.whl (14.1 MB)\n",
            "\u001b[2K     \u001b[90m━━━━━━━━━━━━━━━━━━━━━━━━━━━━━━━━━━━━━━━\u001b[0m \u001b[32m14.1/14.1 MB\u001b[0m \u001b[31m100.2 MB/s\u001b[0m eta \u001b[36m0:00:00\u001b[0m\n",
            "\u001b[?25hCollecting azure-storage-blob>=12.0.0 (from mlflow->chassisml)\n",
            "  Downloading azure_storage_blob-12.16.0-py3-none-any.whl (387 kB)\n",
            "\u001b[2K     \u001b[90m━━━━━━━━━━━━━━━━━━━━━━━━━━━━━━━━━━━━━━\u001b[0m \u001b[32m388.0/388.0 kB\u001b[0m \u001b[31m41.3 MB/s\u001b[0m eta \u001b[36m0:00:00\u001b[0m\n",
            "\u001b[?25hRequirement already satisfied: python-dateutil in /usr/local/lib/python3.10/dist-packages (from mlflow->chassisml) (2.8.2)\n",
            "Collecting mlflow (from chassisml)\n",
            "  Downloading mlflow-1.13-py3-none-any.whl (14.1 MB)\n",
            "\u001b[2K     \u001b[90m━━━━━━━━━━━━━━━━━━━━━━━━━━━━━━━━━━━━━━━━\u001b[0m \u001b[32m14.1/14.1 MB\u001b[0m \u001b[31m80.5 MB/s\u001b[0m eta \u001b[36m0:00:00\u001b[0m\n",
            "\u001b[?25h  Downloading mlflow-1.12.1-py3-none-any.whl (13.9 MB)\n",
            "\u001b[2K     \u001b[90m━━━━━━━━━━━━━━━━━━━━━━━━━━━━━━━━━━━━━━━\u001b[0m \u001b[32m13.9/13.9 MB\u001b[0m \u001b[31m110.5 MB/s\u001b[0m eta \u001b[36m0:00:00\u001b[0m\n",
            "\u001b[?25h  Downloading mlflow-1.12.0-py3-none-any.whl (13.9 MB)\n",
            "\u001b[2K     \u001b[90m━━━━━━━━━━━━━━━━━━━━━━━━━━━━━━━━━━━━━━━━\u001b[0m \u001b[32m13.9/13.9 MB\u001b[0m \u001b[31m98.1 MB/s\u001b[0m eta \u001b[36m0:00:00\u001b[0m\n",
            "\u001b[?25h  Downloading mlflow-1.11.0-py3-none-any.whl (13.9 MB)\n",
            "\u001b[2K     \u001b[90m━━━━━━━━━━━━━━━━━━━━━━━━━━━━━━━━━━━━━━━━\u001b[0m \u001b[32m13.9/13.9 MB\u001b[0m \u001b[31m17.5 MB/s\u001b[0m eta \u001b[36m0:00:00\u001b[0m\n",
            "\u001b[?25hCollecting sqlalchemy<=1.3.13 (from mlflow->chassisml)\n",
            "  Downloading SQLAlchemy-1.3.13.tar.gz (6.0 MB)\n",
            "\u001b[2K     \u001b[90m━━━━━━━━━━━━━━━━━━━━━━━━━━━━━━━━━━━━━━━━\u001b[0m \u001b[32m6.0/6.0 MB\u001b[0m \u001b[31m91.0 MB/s\u001b[0m eta \u001b[36m0:00:00\u001b[0m\n",
            "\u001b[?25h  Preparing metadata (setup.py) ... \u001b[?25l\u001b[?25hdone\n",
            "Collecting gorilla (from mlflow->chassisml)\n",
            "  Downloading gorilla-0.4.0-py2.py3-none-any.whl (9.6 kB)\n",
            "Collecting mlflow (from chassisml)\n",
            "  Downloading mlflow-1.10.0-py3-none-any.whl (12.4 MB)\n",
            "\u001b[2K     \u001b[90m━━━━━━━━━━━━━━━━━━━━━━━━━━━━━━━━━━━━━━━\u001b[0m \u001b[32m12.4/12.4 MB\u001b[0m \u001b[31m111.5 MB/s\u001b[0m eta \u001b[36m0:00:00\u001b[0m\n",
            "\u001b[?25h  Downloading mlflow-1.9.1-py3-none-any.whl (11.9 MB)\n",
            "\u001b[2K     \u001b[90m━━━━━━━━━━━━━━━━━━━━━━━━━━━━━━━━━━━━━━━━\u001b[0m \u001b[32m11.9/11.9 MB\u001b[0m \u001b[31m83.3 MB/s\u001b[0m eta \u001b[36m0:00:00\u001b[0m\n",
            "\u001b[?25h  Downloading mlflow-1.9.0-py3-none-any.whl (11.9 MB)\n",
            "\u001b[2K     \u001b[90m━━━━━━━━━━━━━━━━━━━━━━━━━━━━━━━━━━━━━━━\u001b[0m \u001b[32m11.9/11.9 MB\u001b[0m \u001b[31m105.6 MB/s\u001b[0m eta \u001b[36m0:00:00\u001b[0m\n",
            "\u001b[?25h  Downloading mlflow-1.8.0-py3-none-any.whl (10.4 MB)\n",
            "\u001b[2K     \u001b[90m━━━━━━━━━━━━━━━━━━━━━━━━━━━━━━━━━━━━━━━\u001b[0m \u001b[32m10.4/10.4 MB\u001b[0m \u001b[31m107.6 MB/s\u001b[0m eta \u001b[36m0:00:00\u001b[0m\n",
            "\u001b[?25hCollecting simplejson (from mlflow->chassisml)\n",
            "  Downloading simplejson-3.19.1-cp310-cp310-manylinux_2_5_x86_64.manylinux1_x86_64.manylinux_2_17_x86_64.manylinux2014_x86_64.whl (137 kB)\n",
            "\u001b[2K     \u001b[90m━━━━━━━━━━━━━━━━━━━━━━━━━━━━━━━━━━━━━━\u001b[0m \u001b[32m137.9/137.9 kB\u001b[0m \u001b[31m16.7 MB/s\u001b[0m eta \u001b[36m0:00:00\u001b[0m\n",
            "\u001b[?25hCollecting mlflow (from chassisml)\n",
            "  Downloading mlflow-1.7.2-py3-none-any.whl (16.0 MB)\n",
            "\u001b[2K     \u001b[90m━━━━━━━━━━━━━━━━━━━━━━━━━━━━━━━━━━━━━━━━\u001b[0m \u001b[32m16.0/16.0 MB\u001b[0m \u001b[31m43.8 MB/s\u001b[0m eta \u001b[36m0:00:00\u001b[0m\n",
            "\u001b[?25h  Downloading mlflow-1.7.1-py3-none-any.whl (16.0 MB)\n",
            "\u001b[2K     \u001b[90m━━━━━━━━━━━━━━━━━━━━━━━━━━━━━━━━━━━━━━━━\u001b[0m \u001b[32m16.0/16.0 MB\u001b[0m \u001b[31m19.1 MB/s\u001b[0m eta \u001b[36m0:00:00\u001b[0m\n",
            "\u001b[?25h  Downloading mlflow-1.7.0.tar.gz (15.8 MB)\n",
            "\u001b[2K     \u001b[90m━━━━━━━━━━━━━━━━━━━━━━━━━━━━━━━━━━━━━━━\u001b[0m \u001b[32m15.8/15.8 MB\u001b[0m \u001b[31m102.9 MB/s\u001b[0m eta \u001b[36m0:00:00\u001b[0m\n",
            "\u001b[?25h  Preparing metadata (setup.py) ... \u001b[?25l\u001b[?25hdone\n",
            "  Downloading mlflow-1.6.0.tar.gz (15.9 MB)\n",
            "\u001b[2K     \u001b[90m━━━━━━━━━━━━━━━━━━━━━━━━━━━━━━━━━━━━━━━━\u001b[0m \u001b[32m15.9/15.9 MB\u001b[0m \u001b[31m25.8 MB/s\u001b[0m eta \u001b[36m0:00:00\u001b[0m\n",
            "\u001b[?25h  Preparing metadata (setup.py) ... \u001b[?25l\u001b[?25hdone\n",
            "  Downloading mlflow-1.5.0.tar.gz (14.6 MB)\n",
            "\u001b[2K     \u001b[90m━━━━━━━━━━━━━━━━━━━━━━━━━━━━━━━━━━━━━━━━\u001b[0m \u001b[32m14.6/14.6 MB\u001b[0m \u001b[31m22.1 MB/s\u001b[0m eta \u001b[36m0:00:00\u001b[0m\n",
            "\u001b[?25h  Preparing metadata (setup.py) ... \u001b[?25l\u001b[?25hdone\n",
            "  Downloading mlflow-1.4.0.tar.gz (14.6 MB)\n",
            "\u001b[2K     \u001b[90m━━━━━━━━━━━━━━━━━━━━━━━━━━━━━━━━━━━━━━━━\u001b[0m \u001b[32m14.6/14.6 MB\u001b[0m \u001b[31m22.9 MB/s\u001b[0m eta \u001b[36m0:00:00\u001b[0m\n",
            "\u001b[?25h  Preparing metadata (setup.py) ... \u001b[?25l\u001b[?25hdone\n",
            "  Downloading mlflow-1.3.0.tar.gz (14.4 MB)\n",
            "\u001b[2K     \u001b[90m━━━━━━━━━━━━━━━━━━━━━━━━━━━━━━━━━━━━━━━━\u001b[0m \u001b[32m14.4/14.4 MB\u001b[0m \u001b[31m22.4 MB/s\u001b[0m eta \u001b[36m0:00:00\u001b[0m\n",
            "\u001b[?25h  Preparing metadata (setup.py) ... \u001b[?25l\u001b[?25hdone\n",
            "  Downloading mlflow-1.2.0.tar.gz (14.0 MB)\n",
            "\u001b[2K     \u001b[90m━━━━━━━━━━━━━━━━━━━━━━━━━━━━━━━━━━━━━━━━\u001b[0m \u001b[32m14.0/14.0 MB\u001b[0m \u001b[31m22.9 MB/s\u001b[0m eta \u001b[36m0:00:00\u001b[0m\n",
            "\u001b[?25h  Preparing metadata (setup.py) ... \u001b[?25l\u001b[?25hdone\n",
            "  Downloading mlflow-1.1.0-py3-none-any.whl (26.2 MB)\n",
            "\u001b[2K     \u001b[90m━━━━━━━━━━━━━━━━━━━━━━━━━━━━━━━━━━━━━━━━\u001b[0m \u001b[32m26.2/26.2 MB\u001b[0m \u001b[31m13.0 MB/s\u001b[0m eta \u001b[36m0:00:00\u001b[0m\n",
            "\u001b[?25h  Downloading mlflow-1.0.0-py3-none-any.whl (47.7 MB)\n",
            "\u001b[2K     \u001b[90m━━━━━━━━━━━━━━━━━━━━━━━━━━━━━━━━━━━━━━━━\u001b[0m \u001b[32m47.7/47.7 MB\u001b[0m \u001b[31m16.1 MB/s\u001b[0m eta \u001b[36m0:00:00\u001b[0m\n",
            "\u001b[?25h  Downloading mlflow-0.9.1-py3-none-any.whl (11.8 MB)\n",
            "\u001b[2K     \u001b[90m━━━━━━━━━━━━━━━━━━━━━━━━━━━━━━━━━━━━━━━━\u001b[0m \u001b[32m11.8/11.8 MB\u001b[0m \u001b[31m77.0 MB/s\u001b[0m eta \u001b[36m0:00:00\u001b[0m\n",
            "\u001b[?25hCollecting boto3>=1.7.12 (from mlflow->chassisml)\n",
            "  Downloading boto3-1.28.1-py3-none-any.whl (135 kB)\n",
            "\u001b[2K     \u001b[90m━━━━━━━━━━━━━━━━━━━━━━━━━━━━━━━━━━━━━━\u001b[0m \u001b[32m135.7/135.7 kB\u001b[0m \u001b[31m17.1 MB/s\u001b[0m eta \u001b[36m0:00:00\u001b[0m\n",
            "\u001b[?25hCollecting mleap>=0.8.1 (from mlflow->chassisml)\n",
            "  Downloading mleap-0.23.0-py3-none-any.whl (58 kB)\n",
            "\u001b[2K     \u001b[90m━━━━━━━━━━━━━━━━━━━━━━━━━━━━━━━━━━━━━━━━\u001b[0m \u001b[32m59.0/59.0 kB\u001b[0m \u001b[31m7.1 MB/s\u001b[0m eta \u001b[36m0:00:00\u001b[0m\n",
            "\u001b[?25hCollecting mlflow (from chassisml)\n",
            "  Downloading mlflow-0.9.0.1-py3-none-any.whl (11.8 MB)\n",
            "\u001b[2K     \u001b[90m━━━━━━━━━━━━━━━━━━━━━━━━━━━━━━━━━━━━━━━━\u001b[0m \u001b[32m11.8/11.8 MB\u001b[0m \u001b[31m97.5 MB/s\u001b[0m eta \u001b[36m0:00:00\u001b[0m\n",
            "\u001b[?25hCollecting cloudpickle==0.6.1 (from mlflow->chassisml)\n",
            "  Downloading cloudpickle-0.6.1-py2.py3-none-any.whl (14 kB)\n",
            "Collecting mlflow (from chassisml)\n",
            "  Downloading mlflow-0.9.0-py3-none-any.whl (11.7 MB)\n",
            "\u001b[2K     \u001b[90m━━━━━━━━━━━━━━━━━━━━━━━━━━━━━━━━━━━━━━━━\u001b[0m \u001b[32m11.7/11.7 MB\u001b[0m \u001b[31m90.1 MB/s\u001b[0m eta \u001b[36m0:00:00\u001b[0m\n",
            "\u001b[?25h  Downloading mlflow-0.8.2.tar.gz (11.6 MB)\n",
            "\u001b[2K     \u001b[90m━━━━━━━━━━━━━━━━━━━━━━━━━━━━━━━━━━━━━━━━\u001b[0m \u001b[32m11.6/11.6 MB\u001b[0m \u001b[31m97.8 MB/s\u001b[0m eta \u001b[36m0:00:00\u001b[0m\n",
            "\u001b[?25h  Preparing metadata (setup.py) ... \u001b[?25l\u001b[?25hdone\n",
            "  Downloading mlflow-0.8.1.tar.gz (11.6 MB)\n",
            "\u001b[2K     \u001b[90m━━━━━━━━━━━━━━━━━━━━━━━━━━━━━━━━━━━━━━━━\u001b[0m \u001b[32m11.6/11.6 MB\u001b[0m \u001b[31m16.5 MB/s\u001b[0m eta \u001b[36m0:00:00\u001b[0m\n",
            "\u001b[?25h  Preparing metadata (setup.py) ... \u001b[?25l\u001b[?25hdone\n",
            "  Downloading mlflow-0.8.0.tar.gz (6.3 MB)\n",
            "\u001b[2K     \u001b[90m━━━━━━━━━━━━━━━━━━━━━━━━━━━━━━━━━━━━━━━━\u001b[0m \u001b[32m6.3/6.3 MB\u001b[0m \u001b[31m80.6 MB/s\u001b[0m eta \u001b[36m0:00:00\u001b[0m\n",
            "\u001b[?25h  Preparing metadata (setup.py) ... \u001b[?25l\u001b[?25hdone\n",
            "  Downloading mlflow-0.7.0.tar.gz (6.2 MB)\n",
            "\u001b[2K     \u001b[90m━━━━━━━━━━━━━━━━━━━━━━━━━━━━━━━━━━━━━━━━\u001b[0m \u001b[32m6.2/6.2 MB\u001b[0m \u001b[31m82.4 MB/s\u001b[0m eta \u001b[36m0:00:00\u001b[0m\n",
            "\u001b[?25h  Preparing metadata (setup.py) ... \u001b[?25l\u001b[?25hdone\n",
            "  Downloading mlflow-0.6.0.tar.gz (4.6 MB)\n",
            "\u001b[2K     \u001b[90m━━━━━━━━━━━━━━━━━━━━━━━━━━━━━━━━━━━━━━━━\u001b[0m \u001b[32m4.6/4.6 MB\u001b[0m \u001b[31m76.6 MB/s\u001b[0m eta \u001b[36m0:00:00\u001b[0m\n",
            "\u001b[?25h  Preparing metadata (setup.py) ... \u001b[?25l\u001b[?25hdone\n",
            "  Downloading mlflow-0.5.2.tar.gz (4.4 MB)\n",
            "\u001b[2K     \u001b[90m━━━━━━━━━━━━━━━━━━━━━━━━━━━━━━━━━━━━━━━━\u001b[0m \u001b[32m4.4/4.4 MB\u001b[0m \u001b[31m8.4 MB/s\u001b[0m eta \u001b[36m0:00:00\u001b[0m\n",
            "\u001b[?25h  Preparing metadata (setup.py) ... \u001b[?25l\u001b[?25hdone\n",
            "Collecting awscli (from mlflow->chassisml)\n",
            "  Downloading awscli-1.29.1-py3-none-any.whl (4.1 MB)\n",
            "\u001b[2K     \u001b[90m━━━━━━━━━━━━━━━━━━━━━━━━━━━━━━━━━━━━━━━━\u001b[0m \u001b[32m4.1/4.1 MB\u001b[0m \u001b[31m49.5 MB/s\u001b[0m eta \u001b[36m0:00:00\u001b[0m\n",
            "\u001b[?25hCollecting uuid (from mlflow->chassisml)\n",
            "  Downloading uuid-1.30.tar.gz (5.8 kB)\n",
            "  Preparing metadata (setup.py) ... \u001b[?25l\u001b[?25hdone\n",
            "Collecting mlflow (from chassisml)\n",
            "  Downloading mlflow-0.5.1-py3-none-any.whl (11.6 MB)\n",
            "\u001b[2K     \u001b[90m━━━━━━━━━━━━━━━━━━━━━━━━━━━━━━━━━━━━━━━\u001b[0m \u001b[32m11.6/11.6 MB\u001b[0m \u001b[31m102.9 MB/s\u001b[0m eta \u001b[36m0:00:00\u001b[0m\n",
            "\u001b[?25h  Downloading mlflow-0.5.0-py3-none-any.whl (9.2 MB)\n",
            "\u001b[2K     \u001b[90m━━━━━━━━━━━━━━━━━━━━━━━━━━━━━━━━━━━━━━━━\u001b[0m \u001b[32m9.2/9.2 MB\u001b[0m \u001b[31m112.7 MB/s\u001b[0m eta \u001b[36m0:00:00\u001b[0m\n",
            "\u001b[?25h  Downloading mlflow-0.4.2.tar.gz (4.4 MB)\n",
            "\u001b[2K     \u001b[90m━━━━━━━━━━━━━━━━━━━━━━━━━━━━━━━━━━━━━━━━\u001b[0m \u001b[32m4.4/4.4 MB\u001b[0m \u001b[31m95.5 MB/s\u001b[0m eta \u001b[36m0:00:00\u001b[0m\n",
            "\u001b[?25h  Preparing metadata (setup.py) ... \u001b[?25l\u001b[?25hdone\n",
            "  Downloading mlflow-0.4.1-py3-none-any.whl (4.4 MB)\n",
            "\u001b[2K     \u001b[90m━━━━━━━━━━━━━━━━━━━━━━━━━━━━━━━━━━━━━━━━\u001b[0m \u001b[32m4.4/4.4 MB\u001b[0m \u001b[31m114.1 MB/s\u001b[0m eta \u001b[36m0:00:00\u001b[0m\n",
            "\u001b[?25h  Downloading mlflow-0.4.0-py3-none-any.whl (4.4 MB)\n",
            "\u001b[2K     \u001b[90m━━━━━━━━━━━━━━━━━━━━━━━━━━━━━━━━━━━━━━━━\u001b[0m \u001b[32m4.4/4.4 MB\u001b[0m \u001b[31m102.0 MB/s\u001b[0m eta \u001b[36m0:00:00\u001b[0m\n",
            "\u001b[?25h  Downloading mlflow-0.3.0.tar.gz (4.3 MB)\n",
            "\u001b[2K     \u001b[90m━━━━━━━━━━━━━━━━━━━━━━━━━━━━━━━━━━━━━━━━\u001b[0m \u001b[32m4.3/4.3 MB\u001b[0m \u001b[31m95.7 MB/s\u001b[0m eta \u001b[36m0:00:00\u001b[0m\n",
            "\u001b[?25h  Preparing metadata (setup.py) ... \u001b[?25l\u001b[?25hdone\n",
            "Requirement already satisfied: google-cloud-storage in /usr/local/lib/python3.10/dist-packages (from mlflow->chassisml) (2.8.0)\n",
            "  Downloading mlflow-0.2.1.tar.gz (4.3 MB)\n",
            "\u001b[2K     \u001b[90m━━━━━━━━━━━━━━━━━━━━━━━━━━━━━━━━━━━━━━━━\u001b[0m \u001b[32m4.3/4.3 MB\u001b[0m \u001b[31m103.7 MB/s\u001b[0m eta \u001b[36m0:00:00\u001b[0m\n",
            "\u001b[?25h  Preparing metadata (setup.py) ... \u001b[?25l\u001b[?25hdone\n",
            "  Downloading mlflow-0.2.0.tar.gz (4.3 MB)\n",
            "\u001b[2K     \u001b[90m━━━━━━━━━━━━━━━━━━━━━━━━━━━━━━━━━━━━━━━━\u001b[0m \u001b[32m4.3/4.3 MB\u001b[0m \u001b[31m13.4 MB/s\u001b[0m eta \u001b[36m0:00:00\u001b[0m\n",
            "\u001b[?25h  Preparing metadata (setup.py) ... \u001b[?25l\u001b[?25hdone\n",
            "  Downloading mlflow-0.1.0.tar.gz (4.3 MB)\n",
            "\u001b[2K     \u001b[90m━━━━━━━━━━━━━━━━━━━━━━━━━━━━━━━━━━━━━━━━\u001b[0m \u001b[32m4.3/4.3 MB\u001b[0m \u001b[31m87.9 MB/s\u001b[0m eta \u001b[36m0:00:00\u001b[0m\n",
            "\u001b[?25h  Preparing metadata (setup.py) ... \u001b[?25l\u001b[?25hdone\n",
            "Collecting pygal (from mlflow->chassisml)\n",
            "  Downloading pygal-3.0.0-py2.py3-none-any.whl (129 kB)\n",
            "\u001b[2K     \u001b[90m━━━━━━━━━━━━━━━━━━━━━━━━━━━━━━━━━━━━━━\u001b[0m \u001b[32m129.4/129.4 kB\u001b[0m \u001b[31m16.6 MB/s\u001b[0m eta \u001b[36m0:00:00\u001b[0m\n",
            "\u001b[?25hCollecting zipstream (from mlflow->chassisml)\n",
            "  Downloading zipstream-1.1.4.tar.gz (5.8 kB)\n",
            "  Preparing metadata (setup.py) ... \u001b[?25l\u001b[?25hdone\n",
            "Collecting mlflow (from chassisml)\n",
            "  Downloading mlflow-0.0.1.tar.gz (4.3 MB)\n",
            "\u001b[2K     \u001b[90m━━━━━━━━━━━━━━━━━━━━━━━━━━━━━━━━━━━━━━━━\u001b[0m \u001b[32m4.3/4.3 MB\u001b[0m \u001b[31m104.3 MB/s\u001b[0m eta \u001b[36m0:00:00\u001b[0m\n",
            "\u001b[?25h  Preparing metadata (setup.py) ... \u001b[?25l\u001b[?25hdone\n",
            "Collecting grpc-requests (from chassisml)\n",
            "  Downloading grpc_requests-0.1.9-py3-none-any.whl (28 kB)\n",
            "INFO: pip is looking at multiple versions of grpc-requests to determine which version is compatible with other requirements. This could take a while.\n",
            "  Downloading grpc_requests-0.1.8-py3-none-any.whl (27 kB)\n",
            "  Downloading grpc_requests-0.1.7-py3-none-any.whl (27 kB)\n",
            "Collecting google-api-core>=1.31.0 (from grpc-requests->chassisml)\n",
            "  Downloading google_api_core-2.8.2-py3-none-any.whl (114 kB)\n",
            "\u001b[2K     \u001b[90m━━━━━━━━━━━━━━━━━━━━━━━━━━━━━━━━━━━━━━\u001b[0m \u001b[32m114.6/114.6 kB\u001b[0m \u001b[31m14.0 MB/s\u001b[0m eta \u001b[36m0:00:00\u001b[0m\n",
            "\u001b[?25hRequirement already satisfied: google-auth<3.0dev,>=1.25.0 in /usr/local/lib/python3.10/dist-packages (from google-api-core>=1.31.0->grpc-requests->chassisml) (2.17.3)\n",
            "INFO: pip is looking at multiple versions of grpcio-reflection to determine which version is compatible with other requirements. This could take a while.\n",
            "Collecting grpcio-reflection>=1.39.0 (from grpc-requests->chassisml)\n",
            "  Downloading grpcio_reflection-1.54.2-py3-none-any.whl (11 kB)\n",
            "  Downloading grpcio_reflection-1.54.0-py3-none-any.whl (11 kB)\n",
            "  Downloading grpcio_reflection-1.53.1-py3-none-any.whl (11 kB)\n",
            "  Downloading grpcio_reflection-1.53.0-py3-none-any.whl (11 kB)\n",
            "  Downloading grpcio_reflection-1.51.3-py3-none-any.whl (11 kB)\n",
            "  Downloading grpcio_reflection-1.51.1-py3-none-any.whl (11 kB)\n",
            "  Downloading grpcio_reflection-1.50.0-py3-none-any.whl (20 kB)\n",
            "INFO: pip is looking at multiple versions of grpcio-reflection to determine which version is compatible with other requirements. This could take a while.\n",
            "  Downloading grpcio_reflection-1.49.1-py3-none-any.whl (20 kB)\n",
            "  Downloading grpcio_reflection-1.48.2-py3-none-any.whl (21 kB)\n",
            "Requirement already satisfied: setuptools>=3.0 in /usr/local/lib/python3.10/dist-packages (from gunicorn<21->mlflow->chassisml) (67.7.2)\n",
            "Requirement already satisfied: zipp>=0.5 in /usr/local/lib/python3.10/dist-packages (from importlib-metadata!=4.7.0,<7,>=3.7.0->mlflow->chassisml) (3.15.0)\n",
            "Requirement already satisfied: MarkupSafe>=2.0 in /usr/local/lib/python3.10/dist-packages (from Jinja2<4,>=2.11->mlflow->chassisml) (2.1.3)\n",
            "Requirement already satisfied: contourpy>=1.0.1 in /usr/local/lib/python3.10/dist-packages (from matplotlib<4->mlflow->chassisml) (1.1.0)\n",
            "Requirement already satisfied: cycler>=0.10 in /usr/local/lib/python3.10/dist-packages (from matplotlib<4->mlflow->chassisml) (0.11.0)\n",
            "Requirement already satisfied: fonttools>=4.22.0 in /usr/local/lib/python3.10/dist-packages (from matplotlib<4->mlflow->chassisml) (4.40.0)\n",
            "Requirement already satisfied: kiwisolver>=1.0.1 in /usr/local/lib/python3.10/dist-packages (from matplotlib<4->mlflow->chassisml) (1.4.4)\n",
            "Requirement already satisfied: pillow>=6.2.0 in /usr/local/lib/python3.10/dist-packages (from matplotlib<4->mlflow->chassisml) (8.4.0)\n",
            "Requirement already satisfied: pyparsing>=2.3.1 in /usr/local/lib/python3.10/dist-packages (from matplotlib<4->mlflow->chassisml) (3.1.0)\n",
            "Requirement already satisfied: joblib>=1.1.1 in /usr/local/lib/python3.10/dist-packages (from scikit-learn<2->mlflow->chassisml) (1.2.0)\n",
            "Requirement already satisfied: threadpoolctl>=2.0.0 in /usr/local/lib/python3.10/dist-packages (from scikit-learn<2->mlflow->chassisml) (3.1.0)\n",
            "Requirement already satisfied: greenlet!=0.4.17 in /usr/local/lib/python3.10/dist-packages (from sqlalchemy<3,>=1.4.0->mlflow->chassisml) (2.0.2)\n",
            "Requirement already satisfied: pycparser in /usr/local/lib/python3.10/dist-packages (from cffi>=1.12->cryptography>=39.0.1->grpc-requests->chassisml) (2.21)\n",
            "Collecting smmap<6,>=3.0.1 (from gitdb<5,>=4.0.1->gitpython<4,>=2.1.0->mlflow->chassisml)\n",
            "  Downloading smmap-5.0.0-py3-none-any.whl (24 kB)\n",
            "Requirement already satisfied: cachetools<6.0,>=2.0.0 in /usr/local/lib/python3.10/dist-packages (from google-auth<3.0dev,>=1.25.0->google-api-core>=1.31.0->grpc-requests->chassisml) (5.3.1)\n",
            "Requirement already satisfied: pyasn1-modules>=0.2.1 in /usr/local/lib/python3.10/dist-packages (from google-auth<3.0dev,>=1.25.0->google-api-core>=1.31.0->grpc-requests->chassisml) (0.3.0)\n",
            "Requirement already satisfied: rsa<5,>=3.1.4 in /usr/local/lib/python3.10/dist-packages (from google-auth<3.0dev,>=1.25.0->google-api-core>=1.31.0->grpc-requests->chassisml) (4.9)\n",
            "INFO: pip is looking at multiple versions of googleapis-common-protos to determine which version is compatible with other requirements. This could take a while.\n",
            "Collecting googleapis-common-protos<2.0dev,>=1.56.2 (from google-api-core>=1.31.0->grpc-requests->chassisml)\n",
            "  Downloading googleapis_common_protos-1.59.0-py2.py3-none-any.whl (223 kB)\n",
            "\u001b[2K     \u001b[90m━━━━━━━━━━━━━━━━━━━━━━━━━━━━━━━━━━━━━━\u001b[0m \u001b[32m223.6/223.6 kB\u001b[0m \u001b[31m23.1 MB/s\u001b[0m eta \u001b[36m0:00:00\u001b[0m\n",
            "\u001b[?25h  Downloading googleapis_common_protos-1.58.0-py2.py3-none-any.whl (223 kB)\n",
            "\u001b[2K     \u001b[90m━━━━━━━━━━━━━━━━━━━━━━━━━━━━━━━━━━━━━━\u001b[0m \u001b[32m223.0/223.0 kB\u001b[0m \u001b[31m16.0 MB/s\u001b[0m eta \u001b[36m0:00:00\u001b[0m\n",
            "\u001b[?25h  Downloading googleapis_common_protos-1.57.1-py2.py3-none-any.whl (218 kB)\n",
            "\u001b[2K     \u001b[90m━━━━━━━━━━━━━━━━━━━━━━━━━━━━━━━━━━━━━━\u001b[0m \u001b[32m218.0/218.0 kB\u001b[0m \u001b[31m22.7 MB/s\u001b[0m eta \u001b[36m0:00:00\u001b[0m\n",
            "\u001b[?25h  Downloading googleapis_common_protos-1.57.0-py2.py3-none-any.whl (217 kB)\n",
            "\u001b[2K     \u001b[90m━━━━━━━━━━━━━━━━━━━━━━━━━━━━━━━━━━━━━━\u001b[0m \u001b[32m218.0/218.0 kB\u001b[0m \u001b[31m19.5 MB/s\u001b[0m eta \u001b[36m0:00:00\u001b[0m\n",
            "\u001b[?25h  Downloading googleapis_common_protos-1.56.4-py2.py3-none-any.whl (211 kB)\n",
            "\u001b[2K     \u001b[90m━━━━━━━━━━━━━━━━━━━━━━━━━━━━━━━━━━━━━━\u001b[0m \u001b[32m211.7/211.7 kB\u001b[0m \u001b[31m22.5 MB/s\u001b[0m eta \u001b[36m0:00:00\u001b[0m\n",
            "\u001b[?25hRequirement already satisfied: pyasn1<0.6.0,>=0.4.6 in /usr/local/lib/python3.10/dist-packages (from pyasn1-modules>=0.2.1->google-auth<3.0dev,>=1.25.0->google-api-core>=1.31.0->grpc-requests->chassisml) (0.5.0)\n",
            "Building wheels for collected packages: validators, databricks-cli\n",
            "  Building wheel for validators (setup.py) ... \u001b[?25l\u001b[?25hdone\n",
            "  Created wheel for validators: filename=validators-0.20.0-py3-none-any.whl size=19579 sha256=94c4c3b2af4026181f721b1664080146cd785660b2710ef74035cbf8b0fccafc\n",
            "  Stored in directory: /root/.cache/pip/wheels/f2/ed/dd/d3a556ad245ef9dc570c6bcd2f22886d17b0b408dd3bbb9ac3\n",
            "  Building wheel for databricks-cli (setup.py) ... \u001b[?25l\u001b[?25hdone\n",
            "  Created wheel for databricks-cli: filename=databricks_cli-0.17.7-py3-none-any.whl size=143860 sha256=ffd8415ecafc4efb8eff42160b4ce7e78ddf97acc23407f2e94b84f5d5cd665c\n",
            "  Stored in directory: /root/.cache/pip/wheels/ae/63/93/5402c1a09c1868a59d0b05013484e07af97a9d7b3dbd5bd39a\n",
            "Successfully built validators databricks-cli\n",
            "Installing collected packages: validators, smmap, querystring-parser, pyjwt, protobuf, Mako, importlib-metadata, gunicorn, grpcio-reflection, googleapis-common-protos, gitdb, docker, databricks-cli, cryptography, alembic, google-api-core, gitpython, mlflow, grpc-requests, chassisml\n",
            "  Attempting uninstall: protobuf\n",
            "    Found existing installation: protobuf 3.20.3\n",
            "    Uninstalling protobuf-3.20.3:\n",
            "      Successfully uninstalled protobuf-3.20.3\n",
            "  Attempting uninstall: googleapis-common-protos\n",
            "    Found existing installation: googleapis-common-protos 1.59.1\n",
            "    Uninstalling googleapis-common-protos-1.59.1:\n",
            "      Successfully uninstalled googleapis-common-protos-1.59.1\n",
            "  Attempting uninstall: google-api-core\n",
            "    Found existing installation: google-api-core 2.11.1\n",
            "    Uninstalling google-api-core-2.11.1:\n",
            "      Successfully uninstalled google-api-core-2.11.1\n",
            "\u001b[31mERROR: pip's dependency resolver does not currently take into account all the packages that are installed. This behaviour is the source of the following dependency conflicts.\n",
            "google-cloud-bigquery 3.10.0 requires protobuf!=3.20.0,!=3.20.1,!=4.21.0,!=4.21.1,!=4.21.2,!=4.21.3,!=4.21.4,!=4.21.5,<5.0.0dev,>=3.19.5, but you have protobuf 3.19.4 which is incompatible.\n",
            "google-cloud-bigquery-connection 1.12.0 requires google-api-core[grpc]!=2.0.*,!=2.1.*,!=2.10.*,!=2.2.*,!=2.3.*,!=2.4.*,!=2.5.*,!=2.6.*,!=2.7.*,!=2.8.*,!=2.9.*,<3.0.0dev,>=1.34.0, but you have google-api-core 2.8.2 which is incompatible.\n",
            "google-cloud-bigquery-connection 1.12.0 requires protobuf!=3.20.0,!=3.20.1,!=4.21.0,!=4.21.1,!=4.21.2,!=4.21.3,!=4.21.4,!=4.21.5,<5.0.0dev,>=3.19.5, but you have protobuf 3.19.4 which is incompatible.\n",
            "google-cloud-bigquery-storage 2.20.0 requires google-api-core[grpc]!=2.0.*,!=2.1.*,!=2.10.*,!=2.2.*,!=2.3.*,!=2.4.*,!=2.5.*,!=2.6.*,!=2.7.*,!=2.8.*,!=2.9.*,<3.0.0dev,>=1.34.0, but you have google-api-core 2.8.2 which is incompatible.\n",
            "google-cloud-bigquery-storage 2.20.0 requires protobuf!=3.20.0,!=3.20.1,!=4.21.0,!=4.21.1,!=4.21.2,!=4.21.3,!=4.21.4,!=4.21.5,<5.0.0dev,>=3.19.5, but you have protobuf 3.19.4 which is incompatible.\n",
            "google-cloud-datastore 2.15.2 requires google-api-core[grpc]!=2.0.*,!=2.1.*,!=2.10.*,!=2.2.*,!=2.3.*,!=2.4.*,!=2.5.*,!=2.6.*,!=2.7.*,!=2.8.*,!=2.9.*,<3.0.0dev,>=1.34.0, but you have google-api-core 2.8.2 which is incompatible.\n",
            "google-cloud-datastore 2.15.2 requires protobuf!=3.20.0,!=3.20.1,!=4.21.0,!=4.21.1,!=4.21.2,!=4.21.3,!=4.21.4,!=4.21.5,<5.0.0dev,>=3.19.5, but you have protobuf 3.19.4 which is incompatible.\n",
            "google-cloud-firestore 2.11.1 requires google-api-core[grpc]!=2.0.*,!=2.1.*,!=2.10.*,!=2.2.*,!=2.3.*,!=2.4.*,!=2.5.*,!=2.6.*,!=2.7.*,!=2.8.*,!=2.9.*,<3.0.0dev,>=1.34.0, but you have google-api-core 2.8.2 which is incompatible.\n",
            "google-cloud-firestore 2.11.1 requires protobuf!=3.20.0,!=3.20.1,!=4.21.0,!=4.21.1,!=4.21.2,!=4.21.3,!=4.21.4,!=4.21.5,<5.0.0dev,>=3.19.5, but you have protobuf 3.19.4 which is incompatible.\n",
            "google-cloud-functions 1.13.0 requires google-api-core[grpc]!=2.0.*,!=2.1.*,!=2.10.*,!=2.2.*,!=2.3.*,!=2.4.*,!=2.5.*,!=2.6.*,!=2.7.*,!=2.8.*,!=2.9.*,<3.0.0dev,>=1.34.0, but you have google-api-core 2.8.2 which is incompatible.\n",
            "google-cloud-functions 1.13.0 requires protobuf!=3.20.0,!=3.20.1,!=4.21.0,!=4.21.1,!=4.21.2,!=4.21.3,!=4.21.4,!=4.21.5,<5.0.0dev,>=3.19.5, but you have protobuf 3.19.4 which is incompatible.\n",
            "google-cloud-language 2.9.1 requires google-api-core[grpc]!=2.0.*,!=2.1.*,!=2.10.*,!=2.2.*,!=2.3.*,!=2.4.*,!=2.5.*,!=2.6.*,!=2.7.*,!=2.8.*,!=2.9.*,<3.0.0dev,>=1.34.0, but you have google-api-core 2.8.2 which is incompatible.\n",
            "google-cloud-language 2.9.1 requires protobuf!=3.20.0,!=3.20.1,!=4.21.0,!=4.21.1,!=4.21.2,!=4.21.3,!=4.21.4,!=4.21.5,<5.0.0dev,>=3.19.5, but you have protobuf 3.19.4 which is incompatible.\n",
            "google-cloud-translate 3.11.1 requires google-api-core[grpc]!=2.0.*,!=2.1.*,!=2.10.*,!=2.2.*,!=2.3.*,!=2.4.*,!=2.5.*,!=2.6.*,!=2.7.*,!=2.8.*,!=2.9.*,<3.0.0dev,>=1.34.0, but you have google-api-core 2.8.2 which is incompatible.\n",
            "google-cloud-translate 3.11.1 requires protobuf!=3.20.0,!=3.20.1,!=4.21.0,!=4.21.1,!=4.21.2,!=4.21.3,!=4.21.4,!=4.21.5,<5.0.0dev,>=3.19.5, but you have protobuf 3.19.4 which is incompatible.\n",
            "grpc-google-iam-v1 0.12.6 requires protobuf!=3.20.0,!=3.20.1,!=4.21.1,!=4.21.2,!=4.21.3,!=4.21.4,!=4.21.5,<5.0.0dev,>=3.19.5, but you have protobuf 3.19.4 which is incompatible.\n",
            "tensorboard 2.12.3 requires protobuf>=3.19.6, but you have protobuf 3.19.4 which is incompatible.\n",
            "tensorflow 2.12.0 requires protobuf!=4.21.0,!=4.21.1,!=4.21.2,!=4.21.3,!=4.21.4,!=4.21.5,<5.0.0dev,>=3.20.3, but you have protobuf 3.19.4 which is incompatible.\n",
            "tensorflow-datasets 4.9.2 requires protobuf>=3.20, but you have protobuf 3.19.4 which is incompatible.\n",
            "tensorflow-hub 0.13.0 requires protobuf>=3.19.6, but you have protobuf 3.19.4 which is incompatible.\n",
            "tensorflow-metadata 1.13.1 requires protobuf<5,>=3.20.3, but you have protobuf 3.19.4 which is incompatible.\u001b[0m\u001b[31m\n",
            "\u001b[0mSuccessfully installed Mako-1.2.4 alembic-1.11.1 chassisml-1.4.13 cryptography-41.0.1 databricks-cli-0.17.7 docker-6.1.3 gitdb-4.0.10 gitpython-3.1.32 google-api-core-2.8.2 googleapis-common-protos-1.56.4 grpc-requests-0.1.7 grpcio-reflection-1.48.2 gunicorn-20.1.0 importlib-metadata-6.8.0 mlflow-2.4.2 protobuf-3.19.4 pyjwt-2.7.0 querystring-parser-1.2.4 smmap-5.0.0 validators-0.20.0\n"
          ]
        },
        {
          "output_type": "display_data",
          "data": {
            "application/vnd.colab-display-data+json": {
              "pip_warning": {
                "packages": [
                  "google"
                ]
              }
            }
          },
          "metadata": {}
        }
      ]
    },
    {
      "cell_type": "code",
      "source": [
        "import json\n",
        "import pickle\n",
        "import chassisml\n"
      ],
      "metadata": {
        "id": "Eg63gr5_wf1J"
      },
      "execution_count": 3,
      "outputs": []
    },
    {
      "cell_type": "code",
      "source": [
        "env = {\n",
        "        \"name\": \"chassis\",\n",
        "    \"channels\": ['conda-forge'],\n",
        "    \"dependencies\": [\n",
        "        \"python=3.9\",\n",
        "        {\n",
        "            \"pip\": [\n",
        "                \"cv2\",\n",
        "                \"sklearn\",\n",
        "                \"numpy\",\n",
        "                \"chassisml\"\n",
        "            ]\n",
        "        }\n",
        "    ]\n",
        "\n",
        "}"
      ],
      "metadata": {
        "id": "orVK6Y2i09nq"
      },
      "execution_count": null,
      "outputs": []
    },
    {
      "cell_type": "code",
      "source": [
        "labels = [\"s1\", \"s2\", \"s3\", \"s4\"]"
      ],
      "metadata": {
        "id": "lR7MyYiYWdvk"
      },
      "execution_count": 6,
      "outputs": []
    },
    {
      "cell_type": "code",
      "source": [
        "print(loaded_model)"
      ],
      "metadata": {
        "colab": {
          "base_uri": "https://localhost:8080/"
        },
        "id": "OUDN_uAVSjwK",
        "outputId": "cd8df654-618b-4908-90f4-4e52d173bb38"
      },
      "execution_count": 4,
      "outputs": [
        {
          "output_type": "stream",
          "name": "stdout",
          "text": [
            "RandomForestClassifier(n_estimators=135)\n"
          ]
        }
      ]
    },
    {
      "cell_type": "code",
      "source": [
        "import cv2\n",
        "import numpy as np\n",
        "\n",
        "def process(input_bytes):\n",
        "  img = cv2.imdecode(np.frombuffer(input_bytes, np.uint8),-1)\n",
        "  img = cv2.cvtColor(img, cv2.COLOR_BGR2GRAY)\n",
        "  img = cv2.resize(img, (100, 100))  # Resize if needed\n",
        "  img = img.reshape(1, -1)\n",
        "  preds = loaded_model.predict_proba(img)\n",
        "  inference_result = {\n",
        "        \"classPredictions\": [\n",
        "            {\"row\": i+1, \"class\": labels[np.argmax(pred)], \"score\": np.max(pred)} for i, pred in enumerate(preds)\n",
        "        ]\n",
        "    }\n",
        "\n",
        "  structured_output = {\n",
        "        \"data\": {\n",
        "            \"result\": inference_result,\n",
        "            \"explanation\": None,\n",
        "            \"drift\": None,\n",
        "        }\n",
        "    }\n",
        "\n",
        "# Print the predicted class\n",
        "\n",
        "  return structured_output"
      ],
      "metadata": {
        "id": "r861QxXUwkET"
      },
      "execution_count": 7,
      "outputs": []
    },
    {
      "cell_type": "code",
      "source": [
        "env1 = {\n",
        "    \"name\": \"chassis-conda-env\",\n",
        "    \"channels\": ['conda-forge'],\n",
        "    \"dependencies\": [\n",
        "        \"python=3.9\", # or whatever python version you are using\n",
        "        {\n",
        "            \"pip\": [\n",
        "                \"chassisml\",\n",
        "                \"opencv-python-headless\",\n",
        "                \"numpy\",\n",
        "                \"scikit-learn==1.2.2\"\n",
        "            ]\n",
        "        }\n",
        "    ]\n",
        "}"
      ],
      "metadata": {
        "id": "HQWsf81IVCPD"
      },
      "execution_count": 8,
      "outputs": []
    },
    {
      "cell_type": "code",
      "source": [
        "chassis_client = chassisml.ChassisClient(\"https://chassis.app.modzy.com/\")\n",
        "\n",
        "# create Chassis model\n",
        "chassis_model = chassis_client.create_model(process_fn=process)\n",
        "sample_filepath = '/eggs.jpg'\n",
        "results = chassis_model.test(sample_filepath)\n",
        "print(results)\n"
      ],
      "metadata": {
        "id": "2uVVGPwyxBJX",
        "colab": {
          "base_uri": "https://localhost:8080/"
        },
        "outputId": "d4224aa8-be4f-4b17-aa00-b6bde03cd7de"
      },
      "execution_count": 10,
      "outputs": [
        {
          "output_type": "stream",
          "name": "stdout",
          "text": [
            "b'{\"data\":{\"result\":{\"classPredictions\":[{\"row\":1,\"class\":\"s3\",\"score\":0.6370370370370371}]},\"explanation\":null,\"drift\":null}}'\n"
          ]
        }
      ]
    },
    {
      "cell_type": "code",
      "source": [
        "sample_filepath = '/9.jpeg'\n",
        "results = chassis_model.test(sample_filepath)\n",
        "print(results)"
      ],
      "metadata": {
        "colab": {
          "base_uri": "https://localhost:8080/"
        },
        "id": "nGpSTPiZ2vvE",
        "outputId": "0f654ecd-5045-4334-cc9a-640287e6d365"
      },
      "execution_count": null,
      "outputs": [
        {
          "output_type": "stream",
          "name": "stdout",
          "text": [
            "b'{\"data\":{\"result\":{\"classPredictions\":[{\"row\":1,\"class\":\"s1\",\"score\":0.37333333333333335}]},\"explanation\":null,\"drift\":null}}'\n"
          ]
        }
      ]
    },
    {
      "cell_type": "code",
      "source": [
        "docker_user = \"abhirkarande3\"\n",
        "docker_pass = \"BiggerBear13$$\"\n",
        "model_name = \"Grocery Item Classification10\"\n",
        "\n",
        "response = chassis_model.publish(\n",
        "    model_name=model_name,\n",
        "    model_version=\"0.0.1\",\n",
        "    registry_user=docker_user,\n",
        "    registry_pass=docker_pass,\n",
        "    conda_env=env1\n",
        ")"
      ],
      "metadata": {
        "colab": {
          "base_uri": "https://localhost:8080/"
        },
        "id": "FqDDh84e-pRj",
        "outputId": "5c6034e8-da0e-4b88-ed13-aaa46c4f0f5c"
      },
      "execution_count": 11,
      "outputs": [
        {
          "output_type": "stream",
          "name": "stdout",
          "text": [
            "Starting build job... "
          ]
        },
        {
          "output_type": "stream",
          "name": "stderr",
          "text": [
            "/usr/local/lib/python3.10/dist-packages/_distutils_hack/__init__.py:33: UserWarning: Setuptools is replacing distutils.\n",
            "  warnings.warn(\"Setuptools is replacing distutils.\")\n"
          ]
        },
        {
          "output_type": "stream",
          "name": "stdout",
          "text": [
            "Ok!\n"
          ]
        }
      ]
    },
    {
      "cell_type": "code",
      "source": [
        "job_id = response.get('job_id')\n",
        "final_status = chassis_client.block_until_complete(job_id)\n",
        "if final_status['status']['succeeded'] == 1:\n",
        "    print(\"Job Completed. \")\n",
        "else:\n",
        "    print(\"Job Failed. See logs below:\\n\\n{}\".format(final_status['logs']))"
      ],
      "metadata": {
        "colab": {
          "base_uri": "https://localhost:8080/"
        },
        "id": "RGt9RXqSNOFI",
        "outputId": "11fa7e71-ec7c-4640-9e35-c148e474893c"
      },
      "execution_count": 12,
      "outputs": [
        {
          "output_type": "stream",
          "name": "stdout",
          "text": [
            "Job Completed. \n"
          ]
        }
      ]
    },
    {
      "cell_type": "code",
      "source": [
        "!pip install modzy-sdk"
      ],
      "metadata": {
        "colab": {
          "base_uri": "https://localhost:8080/"
        },
        "id": "S8i8aCjsuY8e",
        "outputId": "c5c7157b-f710-4c9f-c2b0-b3257eff474d"
      },
      "execution_count": null,
      "outputs": [
        {
          "output_type": "stream",
          "name": "stdout",
          "text": [
            "Collecting modzy-sdk\n",
            "  Downloading modzy_sdk-0.11.3-py2.py3-none-any.whl (105 kB)\n",
            "\u001b[?25l     \u001b[90m━━━━━━━━━━━━━━━━━━━━━━━━━━━━━━━━━━━━━━━━\u001b[0m \u001b[32m0.0/105.5 kB\u001b[0m \u001b[31m?\u001b[0m eta \u001b[36m-:--:--\u001b[0m\r\u001b[2K     \u001b[90m━━━━━━━━━━━━━━━━━━━━━━━━━━━━━━━━━━━━━━━\u001b[0m \u001b[32m105.5/105.5 kB\u001b[0m \u001b[31m3.6 MB/s\u001b[0m eta \u001b[36m0:00:00\u001b[0m\n",
            "\u001b[?25hRequirement already satisfied: requests in /usr/local/lib/python3.10/dist-packages (from modzy-sdk) (2.27.1)\n",
            "Collecting python-dotenv (from modzy-sdk)\n",
            "  Downloading python_dotenv-1.0.0-py3-none-any.whl (19 kB)\n",
            "Collecting deprecation (from modzy-sdk)\n",
            "  Downloading deprecation-2.1.0-py2.py3-none-any.whl (11 kB)\n",
            "Collecting protobuf~=4.21.10 (from modzy-sdk)\n",
            "  Downloading protobuf-4.21.12-cp37-abi3-manylinux2014_x86_64.whl (409 kB)\n",
            "\u001b[2K     \u001b[90m━━━━━━━━━━━━━━━━━━━━━━━━━━━━━━━━━━━━━━\u001b[0m \u001b[32m409.8/409.8 kB\u001b[0m \u001b[31m17.2 MB/s\u001b[0m eta \u001b[36m0:00:00\u001b[0m\n",
            "\u001b[?25hRequirement already satisfied: grpcio in /usr/local/lib/python3.10/dist-packages (from modzy-sdk) (1.56.0)\n",
            "Requirement already satisfied: google-api-python-client in /usr/local/lib/python3.10/dist-packages (from modzy-sdk) (2.84.0)\n",
            "Collecting boto3 (from modzy-sdk)\n",
            "  Using cached boto3-1.27.1-py3-none-any.whl (135 kB)\n",
            "Collecting botocore<1.31.0,>=1.30.1 (from boto3->modzy-sdk)\n",
            "  Downloading botocore-1.30.1-py3-none-any.whl (11.0 MB)\n",
            "\u001b[2K     \u001b[90m━━━━━━━━━━━━━━━━━━━━━━━━━━━━━━━━━━━━━━━━\u001b[0m \u001b[32m11.0/11.0 MB\u001b[0m \u001b[31m31.4 MB/s\u001b[0m eta \u001b[36m0:00:00\u001b[0m\n",
            "\u001b[?25hCollecting jmespath<2.0.0,>=0.7.1 (from boto3->modzy-sdk)\n",
            "  Downloading jmespath-1.0.1-py3-none-any.whl (20 kB)\n",
            "Collecting s3transfer<0.7.0,>=0.6.0 (from boto3->modzy-sdk)\n",
            "  Downloading s3transfer-0.6.1-py3-none-any.whl (79 kB)\n",
            "\u001b[2K     \u001b[90m━━━━━━━━━━━━━━━━━━━━━━━━━━━━━━━━━━━━━━━━\u001b[0m \u001b[32m79.8/79.8 kB\u001b[0m \u001b[31m7.5 MB/s\u001b[0m eta \u001b[36m0:00:00\u001b[0m\n",
            "\u001b[?25hRequirement already satisfied: packaging in /usr/local/lib/python3.10/dist-packages (from deprecation->modzy-sdk) (23.1)\n",
            "Requirement already satisfied: httplib2<1dev,>=0.15.0 in /usr/local/lib/python3.10/dist-packages (from google-api-python-client->modzy-sdk) (0.21.0)\n",
            "Requirement already satisfied: google-auth<3.0.0dev,>=1.19.0 in /usr/local/lib/python3.10/dist-packages (from google-api-python-client->modzy-sdk) (2.17.3)\n",
            "Requirement already satisfied: google-auth-httplib2>=0.1.0 in /usr/local/lib/python3.10/dist-packages (from google-api-python-client->modzy-sdk) (0.1.0)\n",
            "Requirement already satisfied: google-api-core!=2.0.*,!=2.1.*,!=2.2.*,!=2.3.0,<3.0.0dev,>=1.31.5 in /usr/local/lib/python3.10/dist-packages (from google-api-python-client->modzy-sdk) (2.8.2)\n",
            "Requirement already satisfied: uritemplate<5,>=3.0.1 in /usr/local/lib/python3.10/dist-packages (from google-api-python-client->modzy-sdk) (4.1.1)\n",
            "Requirement already satisfied: urllib3<1.27,>=1.21.1 in /usr/local/lib/python3.10/dist-packages (from requests->modzy-sdk) (1.26.16)\n",
            "Requirement already satisfied: certifi>=2017.4.17 in /usr/local/lib/python3.10/dist-packages (from requests->modzy-sdk) (2023.5.7)\n",
            "Requirement already satisfied: charset-normalizer~=2.0.0 in /usr/local/lib/python3.10/dist-packages (from requests->modzy-sdk) (2.0.12)\n",
            "Requirement already satisfied: idna<4,>=2.5 in /usr/local/lib/python3.10/dist-packages (from requests->modzy-sdk) (3.4)\n",
            "Requirement already satisfied: python-dateutil<3.0.0,>=2.1 in /usr/local/lib/python3.10/dist-packages (from botocore<1.31.0,>=1.30.1->boto3->modzy-sdk) (2.8.2)\n",
            "Requirement already satisfied: googleapis-common-protos<2.0dev,>=1.56.2 in /usr/local/lib/python3.10/dist-packages (from google-api-core!=2.0.*,!=2.1.*,!=2.2.*,!=2.3.0,<3.0.0dev,>=1.31.5->google-api-python-client->modzy-sdk) (1.56.4)\n",
            "Requirement already satisfied: cachetools<6.0,>=2.0.0 in /usr/local/lib/python3.10/dist-packages (from google-auth<3.0.0dev,>=1.19.0->google-api-python-client->modzy-sdk) (5.3.1)\n",
            "Requirement already satisfied: pyasn1-modules>=0.2.1 in /usr/local/lib/python3.10/dist-packages (from google-auth<3.0.0dev,>=1.19.0->google-api-python-client->modzy-sdk) (0.3.0)\n",
            "Requirement already satisfied: six>=1.9.0 in /usr/local/lib/python3.10/dist-packages (from google-auth<3.0.0dev,>=1.19.0->google-api-python-client->modzy-sdk) (1.16.0)\n",
            "Requirement already satisfied: rsa<5,>=3.1.4 in /usr/local/lib/python3.10/dist-packages (from google-auth<3.0.0dev,>=1.19.0->google-api-python-client->modzy-sdk) (4.9)\n",
            "Requirement already satisfied: pyparsing!=3.0.0,!=3.0.1,!=3.0.2,!=3.0.3,<4,>=2.4.2 in /usr/local/lib/python3.10/dist-packages (from httplib2<1dev,>=0.15.0->google-api-python-client->modzy-sdk) (3.1.0)\n",
            "Requirement already satisfied: pyasn1<0.6.0,>=0.4.6 in /usr/local/lib/python3.10/dist-packages (from pyasn1-modules>=0.2.1->google-auth<3.0.0dev,>=1.19.0->google-api-python-client->modzy-sdk) (0.5.0)\n",
            "Installing collected packages: python-dotenv, protobuf, jmespath, deprecation, botocore, s3transfer, boto3, modzy-sdk\n",
            "  Attempting uninstall: protobuf\n",
            "    Found existing installation: protobuf 3.19.4\n",
            "    Uninstalling protobuf-3.19.4:\n",
            "      Successfully uninstalled protobuf-3.19.4\n",
            "\u001b[31mERROR: pip's dependency resolver does not currently take into account all the packages that are installed. This behaviour is the source of the following dependency conflicts.\n",
            "chassisml 1.4.13 requires protobuf==3.19.4, but you have protobuf 4.21.12 which is incompatible.\n",
            "google-cloud-bigquery-connection 1.12.0 requires google-api-core[grpc]!=2.0.*,!=2.1.*,!=2.10.*,!=2.2.*,!=2.3.*,!=2.4.*,!=2.5.*,!=2.6.*,!=2.7.*,!=2.8.*,!=2.9.*,<3.0.0dev,>=1.34.0, but you have google-api-core 2.8.2 which is incompatible.\n",
            "google-cloud-bigquery-storage 2.20.0 requires google-api-core[grpc]!=2.0.*,!=2.1.*,!=2.10.*,!=2.2.*,!=2.3.*,!=2.4.*,!=2.5.*,!=2.6.*,!=2.7.*,!=2.8.*,!=2.9.*,<3.0.0dev,>=1.34.0, but you have google-api-core 2.8.2 which is incompatible.\n",
            "google-cloud-datastore 2.15.2 requires google-api-core[grpc]!=2.0.*,!=2.1.*,!=2.10.*,!=2.2.*,!=2.3.*,!=2.4.*,!=2.5.*,!=2.6.*,!=2.7.*,!=2.8.*,!=2.9.*,<3.0.0dev,>=1.34.0, but you have google-api-core 2.8.2 which is incompatible.\n",
            "google-cloud-firestore 2.11.1 requires google-api-core[grpc]!=2.0.*,!=2.1.*,!=2.10.*,!=2.2.*,!=2.3.*,!=2.4.*,!=2.5.*,!=2.6.*,!=2.7.*,!=2.8.*,!=2.9.*,<3.0.0dev,>=1.34.0, but you have google-api-core 2.8.2 which is incompatible.\n",
            "google-cloud-functions 1.13.0 requires google-api-core[grpc]!=2.0.*,!=2.1.*,!=2.10.*,!=2.2.*,!=2.3.*,!=2.4.*,!=2.5.*,!=2.6.*,!=2.7.*,!=2.8.*,!=2.9.*,<3.0.0dev,>=1.34.0, but you have google-api-core 2.8.2 which is incompatible.\n",
            "google-cloud-language 2.9.1 requires google-api-core[grpc]!=2.0.*,!=2.1.*,!=2.10.*,!=2.2.*,!=2.3.*,!=2.4.*,!=2.5.*,!=2.6.*,!=2.7.*,!=2.8.*,!=2.9.*,<3.0.0dev,>=1.34.0, but you have google-api-core 2.8.2 which is incompatible.\n",
            "google-cloud-translate 3.11.1 requires google-api-core[grpc]!=2.0.*,!=2.1.*,!=2.10.*,!=2.2.*,!=2.3.*,!=2.4.*,!=2.5.*,!=2.6.*,!=2.7.*,!=2.8.*,!=2.9.*,<3.0.0dev,>=1.34.0, but you have google-api-core 2.8.2 which is incompatible.\u001b[0m\u001b[31m\n",
            "\u001b[0mSuccessfully installed boto3-1.27.1 botocore-1.30.1 deprecation-2.1.0 jmespath-1.0.1 modzy-sdk-0.11.3 protobuf-4.21.12 python-dotenv-1.0.0 s3transfer-0.6.1\n"
          ]
        }
      ]
    },
    {
      "cell_type": "code",
      "source": [
        "from modzy import ApiClient, error\n",
        "BASE_URL=\"https://tenant18.bot.5goil.tmobile.com/\"\n",
        "API_KEY=\"wZr4nkIAtLFPNUPySOdC.DYqB3325zWPXIDxdrZIH\"\n",
        "client=ApiClient(base_url=BASE_URL, api_key=API_KEY)"
      ],
      "metadata": {
        "colab": {
          "base_uri": "https://localhost:8080/",
          "height": 1000
        },
        "id": "21-eSvLVuBUp",
        "outputId": "59ec4ee2-c4be-4d41-fcd3-44421fe2c6e0"
      },
      "execution_count": null,
      "outputs": [
        {
          "output_type": "stream",
          "name": "stderr",
          "text": [
            "ERROR:modzy.http:unable to make network request\n",
            "Traceback (most recent call last):\n",
            "  File \"/usr/local/lib/python3.10/dist-packages/urllib3/connection.py\", line 174, in _new_conn\n",
            "    conn = connection.create_connection(\n",
            "  File \"/usr/local/lib/python3.10/dist-packages/urllib3/util/connection.py\", line 72, in create_connection\n",
            "    for res in socket.getaddrinfo(host, port, family, socket.SOCK_STREAM):\n",
            "  File \"/usr/lib/python3.10/socket.py\", line 955, in getaddrinfo\n",
            "    for res in _socket.getaddrinfo(host, port, family, type, proto, flags):\n",
            "socket.gaierror: [Errno -2] Name or service not known\n",
            "\n",
            "During handling of the above exception, another exception occurred:\n",
            "\n",
            "Traceback (most recent call last):\n",
            "  File \"/usr/local/lib/python3.10/dist-packages/urllib3/connectionpool.py\", line 714, in urlopen\n",
            "    httplib_response = self._make_request(\n",
            "  File \"/usr/local/lib/python3.10/dist-packages/urllib3/connectionpool.py\", line 403, in _make_request\n",
            "    self._validate_conn(conn)\n",
            "  File \"/usr/local/lib/python3.10/dist-packages/urllib3/connectionpool.py\", line 1053, in _validate_conn\n",
            "    conn.connect()\n",
            "  File \"/usr/local/lib/python3.10/dist-packages/urllib3/connection.py\", line 363, in connect\n",
            "    self.sock = conn = self._new_conn()\n",
            "  File \"/usr/local/lib/python3.10/dist-packages/urllib3/connection.py\", line 186, in _new_conn\n",
            "    raise NewConnectionError(\n",
            "urllib3.exceptions.NewConnectionError: <urllib3.connection.HTTPSConnection object at 0x7fb1765f1690>: Failed to establish a new connection: [Errno -2] Name or service not known\n",
            "\n",
            "During handling of the above exception, another exception occurred:\n",
            "\n",
            "Traceback (most recent call last):\n",
            "  File \"/usr/local/lib/python3.10/dist-packages/requests/adapters.py\", line 440, in send\n",
            "    resp = conn.urlopen(\n",
            "  File \"/usr/local/lib/python3.10/dist-packages/urllib3/connectionpool.py\", line 798, in urlopen\n",
            "    retries = retries.increment(\n",
            "  File \"/usr/local/lib/python3.10/dist-packages/urllib3/util/retry.py\", line 592, in increment\n",
            "    raise MaxRetryError(_pool, url, error or ResponseError(cause))\n",
            "urllib3.exceptions.MaxRetryError: HTTPSConnectionPool(host='tenant18.bot.5goil.tmobile.com', port=443): Max retries exceeded with url: /models (Caused by NewConnectionError('<urllib3.connection.HTTPSConnection object at 0x7fb1765f1690>: Failed to establish a new connection: [Errno -2] Name or service not known'))\n",
            "\n",
            "During handling of the above exception, another exception occurred:\n",
            "\n",
            "Traceback (most recent call last):\n",
            "  File \"/usr/local/lib/python3.10/dist-packages/modzy/http.py\", line 85, in request\n",
            "    response = self.session.request(method, url, data=data, headers=headers, files=file_data, verify=self._api_client.cert, params=params)\n",
            "  File \"/usr/local/lib/python3.10/dist-packages/requests/sessions.py\", line 529, in request\n",
            "    resp = self.send(prep, **send_kwargs)\n",
            "  File \"/usr/local/lib/python3.10/dist-packages/requests/sessions.py\", line 645, in send\n",
            "    r = adapter.send(request, **kwargs)\n",
            "  File \"/usr/local/lib/python3.10/dist-packages/requests/adapters.py\", line 519, in send\n",
            "    raise ConnectionError(e, request=request)\n",
            "requests.exceptions.ConnectionError: HTTPSConnectionPool(host='tenant18.bot.5goil.tmobile.com', port=443): Max retries exceeded with url: /models (Caused by NewConnectionError('<urllib3.connection.HTTPSConnection object at 0x7fb1765f1690>: Failed to establish a new connection: [Errno -2] Name or service not known'))\n",
            "ERROR:modzy.http:unable to make network request\n",
            "Traceback (most recent call last):\n",
            "  File \"/usr/local/lib/python3.10/dist-packages/urllib3/connection.py\", line 174, in _new_conn\n",
            "    conn = connection.create_connection(\n",
            "  File \"/usr/local/lib/python3.10/dist-packages/urllib3/util/connection.py\", line 72, in create_connection\n",
            "    for res in socket.getaddrinfo(host, port, family, socket.SOCK_STREAM):\n",
            "  File \"/usr/lib/python3.10/socket.py\", line 955, in getaddrinfo\n",
            "    for res in _socket.getaddrinfo(host, port, family, type, proto, flags):\n",
            "socket.gaierror: [Errno -2] Name or service not known\n",
            "\n",
            "During handling of the above exception, another exception occurred:\n",
            "\n",
            "Traceback (most recent call last):\n",
            "  File \"/usr/local/lib/python3.10/dist-packages/urllib3/connectionpool.py\", line 714, in urlopen\n",
            "    httplib_response = self._make_request(\n",
            "  File \"/usr/local/lib/python3.10/dist-packages/urllib3/connectionpool.py\", line 403, in _make_request\n",
            "    self._validate_conn(conn)\n",
            "  File \"/usr/local/lib/python3.10/dist-packages/urllib3/connectionpool.py\", line 1053, in _validate_conn\n",
            "    conn.connect()\n",
            "  File \"/usr/local/lib/python3.10/dist-packages/urllib3/connection.py\", line 363, in connect\n",
            "    self.sock = conn = self._new_conn()\n",
            "  File \"/usr/local/lib/python3.10/dist-packages/urllib3/connection.py\", line 186, in _new_conn\n",
            "    raise NewConnectionError(\n",
            "urllib3.exceptions.NewConnectionError: <urllib3.connection.HTTPSConnection object at 0x7fb1765f1690>: Failed to establish a new connection: [Errno -2] Name or service not known\n",
            "\n",
            "During handling of the above exception, another exception occurred:\n",
            "\n",
            "Traceback (most recent call last):\n",
            "  File \"/usr/local/lib/python3.10/dist-packages/requests/adapters.py\", line 440, in send\n",
            "    resp = conn.urlopen(\n",
            "  File \"/usr/local/lib/python3.10/dist-packages/urllib3/connectionpool.py\", line 798, in urlopen\n",
            "    retries = retries.increment(\n",
            "  File \"/usr/local/lib/python3.10/dist-packages/urllib3/util/retry.py\", line 592, in increment\n",
            "    raise MaxRetryError(_pool, url, error or ResponseError(cause))\n",
            "urllib3.exceptions.MaxRetryError: HTTPSConnectionPool(host='tenant18.bot.5goil.tmobile.com', port=443): Max retries exceeded with url: /models (Caused by NewConnectionError('<urllib3.connection.HTTPSConnection object at 0x7fb1765f1690>: Failed to establish a new connection: [Errno -2] Name or service not known'))\n",
            "\n",
            "During handling of the above exception, another exception occurred:\n",
            "\n",
            "Traceback (most recent call last):\n",
            "  File \"/usr/local/lib/python3.10/dist-packages/modzy/http.py\", line 85, in request\n",
            "    response = self.session.request(method, url, data=data, headers=headers, files=file_data, verify=self._api_client.cert, params=params)\n",
            "  File \"/usr/local/lib/python3.10/dist-packages/requests/sessions.py\", line 529, in request\n",
            "    resp = self.send(prep, **send_kwargs)\n",
            "  File \"/usr/local/lib/python3.10/dist-packages/requests/sessions.py\", line 645, in send\n",
            "    r = adapter.send(request, **kwargs)\n",
            "  File \"/usr/local/lib/python3.10/dist-packages/requests/adapters.py\", line 519, in send\n",
            "    raise ConnectionError(e, request=request)\n",
            "requests.exceptions.ConnectionError: HTTPSConnectionPool(host='tenant18.bot.5goil.tmobile.com', port=443): Max retries exceeded with url: /models (Caused by NewConnectionError('<urllib3.connection.HTTPSConnection object at 0x7fb1765f1690>: Failed to establish a new connection: [Errno -2] Name or service not known'))\n",
            "\n",
            "During handling of the above exception, another exception occurred:\n",
            "\n",
            "Traceback (most recent call last):\n",
            "  File \"/usr/local/lib/python3.10/dist-packages/modzy/client.py\", line 63, in check_client\n",
            "    self.http.get('/models')\n",
            "  File \"/usr/local/lib/python3.10/dist-packages/modzy/http.py\", line 127, in get\n",
            "    return self.request('GET', url)\n",
            "  File \"/usr/local/lib/python3.10/dist-packages/modzy/http.py\", line 89, in request\n",
            "    raise NetworkError(str(ex), url, reason=ex)\n",
            "modzy.error.NetworkError: HTTPSConnectionPool(host='tenant18.bot.5goil.tmobile.com', port=443): Max retries exceeded with url: /models (Caused by NewConnectionError('<urllib3.connection.HTTPSConnection object at 0x7fb1765f1690>: Failed to establish a new connection: [Errno -2] Name or service not known'))\n",
            "\n",
            "During handling of the above exception, another exception occurred:\n",
            "\n",
            "Traceback (most recent call last):\n",
            "  File \"/usr/local/lib/python3.10/dist-packages/urllib3/connection.py\", line 174, in _new_conn\n",
            "    conn = connection.create_connection(\n",
            "  File \"/usr/local/lib/python3.10/dist-packages/urllib3/util/connection.py\", line 72, in create_connection\n",
            "    for res in socket.getaddrinfo(host, port, family, socket.SOCK_STREAM):\n",
            "  File \"/usr/lib/python3.10/socket.py\", line 955, in getaddrinfo\n",
            "    for res in _socket.getaddrinfo(host, port, family, type, proto, flags):\n",
            "socket.gaierror: [Errno -2] Name or service not known\n",
            "\n",
            "During handling of the above exception, another exception occurred:\n",
            "\n",
            "Traceback (most recent call last):\n",
            "  File \"/usr/local/lib/python3.10/dist-packages/urllib3/connectionpool.py\", line 714, in urlopen\n",
            "    httplib_response = self._make_request(\n",
            "  File \"/usr/local/lib/python3.10/dist-packages/urllib3/connectionpool.py\", line 403, in _make_request\n",
            "    self._validate_conn(conn)\n",
            "  File \"/usr/local/lib/python3.10/dist-packages/urllib3/connectionpool.py\", line 1053, in _validate_conn\n",
            "    conn.connect()\n",
            "  File \"/usr/local/lib/python3.10/dist-packages/urllib3/connection.py\", line 363, in connect\n",
            "    self.sock = conn = self._new_conn()\n",
            "  File \"/usr/local/lib/python3.10/dist-packages/urllib3/connection.py\", line 186, in _new_conn\n",
            "    raise NewConnectionError(\n",
            "urllib3.exceptions.NewConnectionError: <urllib3.connection.HTTPSConnection object at 0x7fb1765f1a80>: Failed to establish a new connection: [Errno -2] Name or service not known\n",
            "\n",
            "During handling of the above exception, another exception occurred:\n",
            "\n",
            "Traceback (most recent call last):\n",
            "  File \"/usr/local/lib/python3.10/dist-packages/requests/adapters.py\", line 440, in send\n",
            "    resp = conn.urlopen(\n",
            "  File \"/usr/local/lib/python3.10/dist-packages/urllib3/connectionpool.py\", line 798, in urlopen\n",
            "    retries = retries.increment(\n",
            "  File \"/usr/local/lib/python3.10/dist-packages/urllib3/util/retry.py\", line 592, in increment\n",
            "    raise MaxRetryError(_pool, url, error or ResponseError(cause))\n",
            "urllib3.exceptions.MaxRetryError: HTTPSConnectionPool(host='tenant18.bot.5goil.tmobile.com', port=443): Max retries exceeded with url: /api/models (Caused by NewConnectionError('<urllib3.connection.HTTPSConnection object at 0x7fb1765f1a80>: Failed to establish a new connection: [Errno -2] Name or service not known'))\n",
            "\n",
            "During handling of the above exception, another exception occurred:\n",
            "\n",
            "Traceback (most recent call last):\n",
            "  File \"/usr/local/lib/python3.10/dist-packages/modzy/http.py\", line 85, in request\n",
            "    response = self.session.request(method, url, data=data, headers=headers, files=file_data, verify=self._api_client.cert, params=params)\n",
            "  File \"/usr/local/lib/python3.10/dist-packages/requests/sessions.py\", line 529, in request\n",
            "    resp = self.send(prep, **send_kwargs)\n",
            "  File \"/usr/local/lib/python3.10/dist-packages/requests/sessions.py\", line 645, in send\n",
            "    r = adapter.send(request, **kwargs)\n",
            "  File \"/usr/local/lib/python3.10/dist-packages/requests/adapters.py\", line 519, in send\n",
            "    raise ConnectionError(e, request=request)\n",
            "requests.exceptions.ConnectionError: HTTPSConnectionPool(host='tenant18.bot.5goil.tmobile.com', port=443): Max retries exceeded with url: /api/models (Caused by NewConnectionError('<urllib3.connection.HTTPSConnection object at 0x7fb1765f1a80>: Failed to establish a new connection: [Errno -2] Name or service not known'))\n"
          ]
        },
        {
          "output_type": "error",
          "ename": "ValueError",
          "evalue": "ignored",
          "traceback": [
            "\u001b[0;31m---------------------------------------------------------------------------\u001b[0m",
            "\u001b[0;31mgaierror\u001b[0m                                  Traceback (most recent call last)",
            "\u001b[0;32m/usr/local/lib/python3.10/dist-packages/urllib3/connection.py\u001b[0m in \u001b[0;36m_new_conn\u001b[0;34m(self)\u001b[0m\n\u001b[1;32m    173\u001b[0m         \u001b[0;32mtry\u001b[0m\u001b[0;34m:\u001b[0m\u001b[0;34m\u001b[0m\u001b[0;34m\u001b[0m\u001b[0m\n\u001b[0;32m--> 174\u001b[0;31m             conn = connection.create_connection(\n\u001b[0m\u001b[1;32m    175\u001b[0m                 \u001b[0;34m(\u001b[0m\u001b[0mself\u001b[0m\u001b[0;34m.\u001b[0m\u001b[0m_dns_host\u001b[0m\u001b[0;34m,\u001b[0m \u001b[0mself\u001b[0m\u001b[0;34m.\u001b[0m\u001b[0mport\u001b[0m\u001b[0;34m)\u001b[0m\u001b[0;34m,\u001b[0m \u001b[0mself\u001b[0m\u001b[0;34m.\u001b[0m\u001b[0mtimeout\u001b[0m\u001b[0;34m,\u001b[0m \u001b[0;34m**\u001b[0m\u001b[0mextra_kw\u001b[0m\u001b[0;34m\u001b[0m\u001b[0;34m\u001b[0m\u001b[0m\n",
            "\u001b[0;32m/usr/local/lib/python3.10/dist-packages/urllib3/util/connection.py\u001b[0m in \u001b[0;36mcreate_connection\u001b[0;34m(address, timeout, source_address, socket_options)\u001b[0m\n\u001b[1;32m     71\u001b[0m \u001b[0;34m\u001b[0m\u001b[0m\n\u001b[0;32m---> 72\u001b[0;31m     \u001b[0;32mfor\u001b[0m \u001b[0mres\u001b[0m \u001b[0;32min\u001b[0m \u001b[0msocket\u001b[0m\u001b[0;34m.\u001b[0m\u001b[0mgetaddrinfo\u001b[0m\u001b[0;34m(\u001b[0m\u001b[0mhost\u001b[0m\u001b[0;34m,\u001b[0m \u001b[0mport\u001b[0m\u001b[0;34m,\u001b[0m \u001b[0mfamily\u001b[0m\u001b[0;34m,\u001b[0m \u001b[0msocket\u001b[0m\u001b[0;34m.\u001b[0m\u001b[0mSOCK_STREAM\u001b[0m\u001b[0;34m)\u001b[0m\u001b[0;34m:\u001b[0m\u001b[0;34m\u001b[0m\u001b[0;34m\u001b[0m\u001b[0m\n\u001b[0m\u001b[1;32m     73\u001b[0m         \u001b[0maf\u001b[0m\u001b[0;34m,\u001b[0m \u001b[0msocktype\u001b[0m\u001b[0;34m,\u001b[0m \u001b[0mproto\u001b[0m\u001b[0;34m,\u001b[0m \u001b[0mcanonname\u001b[0m\u001b[0;34m,\u001b[0m \u001b[0msa\u001b[0m \u001b[0;34m=\u001b[0m \u001b[0mres\u001b[0m\u001b[0;34m\u001b[0m\u001b[0;34m\u001b[0m\u001b[0m\n",
            "\u001b[0;32m/usr/lib/python3.10/socket.py\u001b[0m in \u001b[0;36mgetaddrinfo\u001b[0;34m(host, port, family, type, proto, flags)\u001b[0m\n\u001b[1;32m    954\u001b[0m     \u001b[0maddrlist\u001b[0m \u001b[0;34m=\u001b[0m \u001b[0;34m[\u001b[0m\u001b[0;34m]\u001b[0m\u001b[0;34m\u001b[0m\u001b[0;34m\u001b[0m\u001b[0m\n\u001b[0;32m--> 955\u001b[0;31m     \u001b[0;32mfor\u001b[0m \u001b[0mres\u001b[0m \u001b[0;32min\u001b[0m \u001b[0m_socket\u001b[0m\u001b[0;34m.\u001b[0m\u001b[0mgetaddrinfo\u001b[0m\u001b[0;34m(\u001b[0m\u001b[0mhost\u001b[0m\u001b[0;34m,\u001b[0m \u001b[0mport\u001b[0m\u001b[0;34m,\u001b[0m \u001b[0mfamily\u001b[0m\u001b[0;34m,\u001b[0m \u001b[0mtype\u001b[0m\u001b[0;34m,\u001b[0m \u001b[0mproto\u001b[0m\u001b[0;34m,\u001b[0m \u001b[0mflags\u001b[0m\u001b[0;34m)\u001b[0m\u001b[0;34m:\u001b[0m\u001b[0;34m\u001b[0m\u001b[0;34m\u001b[0m\u001b[0m\n\u001b[0m\u001b[1;32m    956\u001b[0m         \u001b[0maf\u001b[0m\u001b[0;34m,\u001b[0m \u001b[0msocktype\u001b[0m\u001b[0;34m,\u001b[0m \u001b[0mproto\u001b[0m\u001b[0;34m,\u001b[0m \u001b[0mcanonname\u001b[0m\u001b[0;34m,\u001b[0m \u001b[0msa\u001b[0m \u001b[0;34m=\u001b[0m \u001b[0mres\u001b[0m\u001b[0;34m\u001b[0m\u001b[0;34m\u001b[0m\u001b[0m\n",
            "\u001b[0;31mgaierror\u001b[0m: [Errno -2] Name or service not known",
            "\nDuring handling of the above exception, another exception occurred:\n",
            "\u001b[0;31mNewConnectionError\u001b[0m                        Traceback (most recent call last)",
            "\u001b[0;32m/usr/local/lib/python3.10/dist-packages/urllib3/connectionpool.py\u001b[0m in \u001b[0;36murlopen\u001b[0;34m(self, method, url, body, headers, retries, redirect, assert_same_host, timeout, pool_timeout, release_conn, chunked, body_pos, **response_kw)\u001b[0m\n\u001b[1;32m    713\u001b[0m             \u001b[0;31m# Make the request on the httplib connection object.\u001b[0m\u001b[0;34m\u001b[0m\u001b[0;34m\u001b[0m\u001b[0m\n\u001b[0;32m--> 714\u001b[0;31m             httplib_response = self._make_request(\n\u001b[0m\u001b[1;32m    715\u001b[0m                 \u001b[0mconn\u001b[0m\u001b[0;34m,\u001b[0m\u001b[0;34m\u001b[0m\u001b[0;34m\u001b[0m\u001b[0m\n",
            "\u001b[0;32m/usr/local/lib/python3.10/dist-packages/urllib3/connectionpool.py\u001b[0m in \u001b[0;36m_make_request\u001b[0;34m(self, conn, method, url, timeout, chunked, **httplib_request_kw)\u001b[0m\n\u001b[1;32m    402\u001b[0m         \u001b[0;32mtry\u001b[0m\u001b[0;34m:\u001b[0m\u001b[0;34m\u001b[0m\u001b[0;34m\u001b[0m\u001b[0m\n\u001b[0;32m--> 403\u001b[0;31m             \u001b[0mself\u001b[0m\u001b[0;34m.\u001b[0m\u001b[0m_validate_conn\u001b[0m\u001b[0;34m(\u001b[0m\u001b[0mconn\u001b[0m\u001b[0;34m)\u001b[0m\u001b[0;34m\u001b[0m\u001b[0;34m\u001b[0m\u001b[0m\n\u001b[0m\u001b[1;32m    404\u001b[0m         \u001b[0;32mexcept\u001b[0m \u001b[0;34m(\u001b[0m\u001b[0mSocketTimeout\u001b[0m\u001b[0;34m,\u001b[0m \u001b[0mBaseSSLError\u001b[0m\u001b[0;34m)\u001b[0m \u001b[0;32mas\u001b[0m \u001b[0me\u001b[0m\u001b[0;34m:\u001b[0m\u001b[0;34m\u001b[0m\u001b[0;34m\u001b[0m\u001b[0m\n",
            "\u001b[0;32m/usr/local/lib/python3.10/dist-packages/urllib3/connectionpool.py\u001b[0m in \u001b[0;36m_validate_conn\u001b[0;34m(self, conn)\u001b[0m\n\u001b[1;32m   1052\u001b[0m         \u001b[0;32mif\u001b[0m \u001b[0;32mnot\u001b[0m \u001b[0mgetattr\u001b[0m\u001b[0;34m(\u001b[0m\u001b[0mconn\u001b[0m\u001b[0;34m,\u001b[0m \u001b[0;34m\"sock\"\u001b[0m\u001b[0;34m,\u001b[0m \u001b[0;32mNone\u001b[0m\u001b[0;34m)\u001b[0m\u001b[0;34m:\u001b[0m  \u001b[0;31m# AppEngine might not have  `.sock`\u001b[0m\u001b[0;34m\u001b[0m\u001b[0;34m\u001b[0m\u001b[0m\n\u001b[0;32m-> 1053\u001b[0;31m             \u001b[0mconn\u001b[0m\u001b[0;34m.\u001b[0m\u001b[0mconnect\u001b[0m\u001b[0;34m(\u001b[0m\u001b[0;34m)\u001b[0m\u001b[0;34m\u001b[0m\u001b[0;34m\u001b[0m\u001b[0m\n\u001b[0m\u001b[1;32m   1054\u001b[0m \u001b[0;34m\u001b[0m\u001b[0m\n",
            "\u001b[0;32m/usr/local/lib/python3.10/dist-packages/urllib3/connection.py\u001b[0m in \u001b[0;36mconnect\u001b[0;34m(self)\u001b[0m\n\u001b[1;32m    362\u001b[0m         \u001b[0;31m# Add certificate verification\u001b[0m\u001b[0;34m\u001b[0m\u001b[0;34m\u001b[0m\u001b[0m\n\u001b[0;32m--> 363\u001b[0;31m         \u001b[0mself\u001b[0m\u001b[0;34m.\u001b[0m\u001b[0msock\u001b[0m \u001b[0;34m=\u001b[0m \u001b[0mconn\u001b[0m \u001b[0;34m=\u001b[0m \u001b[0mself\u001b[0m\u001b[0;34m.\u001b[0m\u001b[0m_new_conn\u001b[0m\u001b[0;34m(\u001b[0m\u001b[0;34m)\u001b[0m\u001b[0;34m\u001b[0m\u001b[0;34m\u001b[0m\u001b[0m\n\u001b[0m\u001b[1;32m    364\u001b[0m         \u001b[0mhostname\u001b[0m \u001b[0;34m=\u001b[0m \u001b[0mself\u001b[0m\u001b[0;34m.\u001b[0m\u001b[0mhost\u001b[0m\u001b[0;34m\u001b[0m\u001b[0;34m\u001b[0m\u001b[0m\n",
            "\u001b[0;32m/usr/local/lib/python3.10/dist-packages/urllib3/connection.py\u001b[0m in \u001b[0;36m_new_conn\u001b[0;34m(self)\u001b[0m\n\u001b[1;32m    185\u001b[0m         \u001b[0;32mexcept\u001b[0m \u001b[0mSocketError\u001b[0m \u001b[0;32mas\u001b[0m \u001b[0me\u001b[0m\u001b[0;34m:\u001b[0m\u001b[0;34m\u001b[0m\u001b[0;34m\u001b[0m\u001b[0m\n\u001b[0;32m--> 186\u001b[0;31m             raise NewConnectionError(\n\u001b[0m\u001b[1;32m    187\u001b[0m                 \u001b[0mself\u001b[0m\u001b[0;34m,\u001b[0m \u001b[0;34m\"Failed to establish a new connection: %s\"\u001b[0m \u001b[0;34m%\u001b[0m \u001b[0me\u001b[0m\u001b[0;34m\u001b[0m\u001b[0;34m\u001b[0m\u001b[0m\n",
            "\u001b[0;31mNewConnectionError\u001b[0m: <urllib3.connection.HTTPSConnection object at 0x7fb1765f1690>: Failed to establish a new connection: [Errno -2] Name or service not known",
            "\nDuring handling of the above exception, another exception occurred:\n",
            "\u001b[0;31mMaxRetryError\u001b[0m                             Traceback (most recent call last)",
            "\u001b[0;32m/usr/local/lib/python3.10/dist-packages/requests/adapters.py\u001b[0m in \u001b[0;36msend\u001b[0;34m(self, request, stream, timeout, verify, cert, proxies)\u001b[0m\n\u001b[1;32m    439\u001b[0m             \u001b[0;32mif\u001b[0m \u001b[0;32mnot\u001b[0m \u001b[0mchunked\u001b[0m\u001b[0;34m:\u001b[0m\u001b[0;34m\u001b[0m\u001b[0;34m\u001b[0m\u001b[0m\n\u001b[0;32m--> 440\u001b[0;31m                 resp = conn.urlopen(\n\u001b[0m\u001b[1;32m    441\u001b[0m                     \u001b[0mmethod\u001b[0m\u001b[0;34m=\u001b[0m\u001b[0mrequest\u001b[0m\u001b[0;34m.\u001b[0m\u001b[0mmethod\u001b[0m\u001b[0;34m,\u001b[0m\u001b[0;34m\u001b[0m\u001b[0;34m\u001b[0m\u001b[0m\n",
            "\u001b[0;32m/usr/local/lib/python3.10/dist-packages/urllib3/connectionpool.py\u001b[0m in \u001b[0;36murlopen\u001b[0;34m(self, method, url, body, headers, retries, redirect, assert_same_host, timeout, pool_timeout, release_conn, chunked, body_pos, **response_kw)\u001b[0m\n\u001b[1;32m    797\u001b[0m \u001b[0;34m\u001b[0m\u001b[0m\n\u001b[0;32m--> 798\u001b[0;31m             retries = retries.increment(\n\u001b[0m\u001b[1;32m    799\u001b[0m                 \u001b[0mmethod\u001b[0m\u001b[0;34m,\u001b[0m \u001b[0murl\u001b[0m\u001b[0;34m,\u001b[0m \u001b[0merror\u001b[0m\u001b[0;34m=\u001b[0m\u001b[0me\u001b[0m\u001b[0;34m,\u001b[0m \u001b[0m_pool\u001b[0m\u001b[0;34m=\u001b[0m\u001b[0mself\u001b[0m\u001b[0;34m,\u001b[0m \u001b[0m_stacktrace\u001b[0m\u001b[0;34m=\u001b[0m\u001b[0msys\u001b[0m\u001b[0;34m.\u001b[0m\u001b[0mexc_info\u001b[0m\u001b[0;34m(\u001b[0m\u001b[0;34m)\u001b[0m\u001b[0;34m[\u001b[0m\u001b[0;36m2\u001b[0m\u001b[0;34m]\u001b[0m\u001b[0;34m\u001b[0m\u001b[0;34m\u001b[0m\u001b[0m\n",
            "\u001b[0;32m/usr/local/lib/python3.10/dist-packages/urllib3/util/retry.py\u001b[0m in \u001b[0;36mincrement\u001b[0;34m(self, method, url, response, error, _pool, _stacktrace)\u001b[0m\n\u001b[1;32m    591\u001b[0m         \u001b[0;32mif\u001b[0m \u001b[0mnew_retry\u001b[0m\u001b[0;34m.\u001b[0m\u001b[0mis_exhausted\u001b[0m\u001b[0;34m(\u001b[0m\u001b[0;34m)\u001b[0m\u001b[0;34m:\u001b[0m\u001b[0;34m\u001b[0m\u001b[0;34m\u001b[0m\u001b[0m\n\u001b[0;32m--> 592\u001b[0;31m             \u001b[0;32mraise\u001b[0m \u001b[0mMaxRetryError\u001b[0m\u001b[0;34m(\u001b[0m\u001b[0m_pool\u001b[0m\u001b[0;34m,\u001b[0m \u001b[0murl\u001b[0m\u001b[0;34m,\u001b[0m \u001b[0merror\u001b[0m \u001b[0;32mor\u001b[0m \u001b[0mResponseError\u001b[0m\u001b[0;34m(\u001b[0m\u001b[0mcause\u001b[0m\u001b[0;34m)\u001b[0m\u001b[0;34m)\u001b[0m\u001b[0;34m\u001b[0m\u001b[0;34m\u001b[0m\u001b[0m\n\u001b[0m\u001b[1;32m    593\u001b[0m \u001b[0;34m\u001b[0m\u001b[0m\n",
            "\u001b[0;31mMaxRetryError\u001b[0m: HTTPSConnectionPool(host='tenant18.bot.5goil.tmobile.com', port=443): Max retries exceeded with url: /models (Caused by NewConnectionError('<urllib3.connection.HTTPSConnection object at 0x7fb1765f1690>: Failed to establish a new connection: [Errno -2] Name or service not known'))",
            "\nDuring handling of the above exception, another exception occurred:\n",
            "\u001b[0;31mConnectionError\u001b[0m                           Traceback (most recent call last)",
            "\u001b[0;32m/usr/local/lib/python3.10/dist-packages/modzy/http.py\u001b[0m in \u001b[0;36mrequest\u001b[0;34m(self, method, url, json_data, file_data, params)\u001b[0m\n\u001b[1;32m     84\u001b[0m         \u001b[0;32mtry\u001b[0m\u001b[0;34m:\u001b[0m\u001b[0;34m\u001b[0m\u001b[0;34m\u001b[0m\u001b[0m\n\u001b[0;32m---> 85\u001b[0;31m             \u001b[0mresponse\u001b[0m \u001b[0;34m=\u001b[0m \u001b[0mself\u001b[0m\u001b[0;34m.\u001b[0m\u001b[0msession\u001b[0m\u001b[0;34m.\u001b[0m\u001b[0mrequest\u001b[0m\u001b[0;34m(\u001b[0m\u001b[0mmethod\u001b[0m\u001b[0;34m,\u001b[0m \u001b[0murl\u001b[0m\u001b[0;34m,\u001b[0m \u001b[0mdata\u001b[0m\u001b[0;34m=\u001b[0m\u001b[0mdata\u001b[0m\u001b[0;34m,\u001b[0m \u001b[0mheaders\u001b[0m\u001b[0;34m=\u001b[0m\u001b[0mheaders\u001b[0m\u001b[0;34m,\u001b[0m \u001b[0mfiles\u001b[0m\u001b[0;34m=\u001b[0m\u001b[0mfile_data\u001b[0m\u001b[0;34m,\u001b[0m \u001b[0mverify\u001b[0m\u001b[0;34m=\u001b[0m\u001b[0mself\u001b[0m\u001b[0;34m.\u001b[0m\u001b[0m_api_client\u001b[0m\u001b[0;34m.\u001b[0m\u001b[0mcert\u001b[0m\u001b[0;34m,\u001b[0m \u001b[0mparams\u001b[0m\u001b[0;34m=\u001b[0m\u001b[0mparams\u001b[0m\u001b[0;34m)\u001b[0m\u001b[0;34m\u001b[0m\u001b[0;34m\u001b[0m\u001b[0m\n\u001b[0m\u001b[1;32m     86\u001b[0m             \u001b[0mself\u001b[0m\u001b[0;34m.\u001b[0m\u001b[0mlogger\u001b[0m\u001b[0;34m.\u001b[0m\u001b[0mdebug\u001b[0m\u001b[0;34m(\u001b[0m\u001b[0;34m\"response %s - length %s\"\u001b[0m\u001b[0;34m,\u001b[0m \u001b[0mresponse\u001b[0m\u001b[0;34m.\u001b[0m\u001b[0mstatus_code\u001b[0m\u001b[0;34m,\u001b[0m \u001b[0mlen\u001b[0m\u001b[0;34m(\u001b[0m\u001b[0mresponse\u001b[0m\u001b[0;34m.\u001b[0m\u001b[0mcontent\u001b[0m\u001b[0;34m)\u001b[0m\u001b[0;34m)\u001b[0m\u001b[0;34m\u001b[0m\u001b[0;34m\u001b[0m\u001b[0m\n",
            "\u001b[0;32m/usr/local/lib/python3.10/dist-packages/requests/sessions.py\u001b[0m in \u001b[0;36mrequest\u001b[0;34m(self, method, url, params, data, headers, cookies, files, auth, timeout, allow_redirects, proxies, hooks, stream, verify, cert, json)\u001b[0m\n\u001b[1;32m    528\u001b[0m         \u001b[0msend_kwargs\u001b[0m\u001b[0;34m.\u001b[0m\u001b[0mupdate\u001b[0m\u001b[0;34m(\u001b[0m\u001b[0msettings\u001b[0m\u001b[0;34m)\u001b[0m\u001b[0;34m\u001b[0m\u001b[0;34m\u001b[0m\u001b[0m\n\u001b[0;32m--> 529\u001b[0;31m         \u001b[0mresp\u001b[0m \u001b[0;34m=\u001b[0m \u001b[0mself\u001b[0m\u001b[0;34m.\u001b[0m\u001b[0msend\u001b[0m\u001b[0;34m(\u001b[0m\u001b[0mprep\u001b[0m\u001b[0;34m,\u001b[0m \u001b[0;34m**\u001b[0m\u001b[0msend_kwargs\u001b[0m\u001b[0;34m)\u001b[0m\u001b[0;34m\u001b[0m\u001b[0;34m\u001b[0m\u001b[0m\n\u001b[0m\u001b[1;32m    530\u001b[0m \u001b[0;34m\u001b[0m\u001b[0m\n",
            "\u001b[0;32m/usr/local/lib/python3.10/dist-packages/requests/sessions.py\u001b[0m in \u001b[0;36msend\u001b[0;34m(self, request, **kwargs)\u001b[0m\n\u001b[1;32m    644\u001b[0m         \u001b[0;31m# Send the request\u001b[0m\u001b[0;34m\u001b[0m\u001b[0;34m\u001b[0m\u001b[0m\n\u001b[0;32m--> 645\u001b[0;31m         \u001b[0mr\u001b[0m \u001b[0;34m=\u001b[0m \u001b[0madapter\u001b[0m\u001b[0;34m.\u001b[0m\u001b[0msend\u001b[0m\u001b[0;34m(\u001b[0m\u001b[0mrequest\u001b[0m\u001b[0;34m,\u001b[0m \u001b[0;34m**\u001b[0m\u001b[0mkwargs\u001b[0m\u001b[0;34m)\u001b[0m\u001b[0;34m\u001b[0m\u001b[0;34m\u001b[0m\u001b[0m\n\u001b[0m\u001b[1;32m    646\u001b[0m \u001b[0;34m\u001b[0m\u001b[0m\n",
            "\u001b[0;32m/usr/local/lib/python3.10/dist-packages/requests/adapters.py\u001b[0m in \u001b[0;36msend\u001b[0;34m(self, request, stream, timeout, verify, cert, proxies)\u001b[0m\n\u001b[1;32m    518\u001b[0m \u001b[0;34m\u001b[0m\u001b[0m\n\u001b[0;32m--> 519\u001b[0;31m             \u001b[0;32mraise\u001b[0m \u001b[0mConnectionError\u001b[0m\u001b[0;34m(\u001b[0m\u001b[0me\u001b[0m\u001b[0;34m,\u001b[0m \u001b[0mrequest\u001b[0m\u001b[0;34m=\u001b[0m\u001b[0mrequest\u001b[0m\u001b[0;34m)\u001b[0m\u001b[0;34m\u001b[0m\u001b[0;34m\u001b[0m\u001b[0m\n\u001b[0m\u001b[1;32m    520\u001b[0m \u001b[0;34m\u001b[0m\u001b[0m\n",
            "\u001b[0;31mConnectionError\u001b[0m: HTTPSConnectionPool(host='tenant18.bot.5goil.tmobile.com', port=443): Max retries exceeded with url: /models (Caused by NewConnectionError('<urllib3.connection.HTTPSConnection object at 0x7fb1765f1690>: Failed to establish a new connection: [Errno -2] Name or service not known'))",
            "\nDuring handling of the above exception, another exception occurred:\n",
            "\u001b[0;31mNetworkError\u001b[0m                              Traceback (most recent call last)",
            "\u001b[0;32m/usr/local/lib/python3.10/dist-packages/modzy/client.py\u001b[0m in \u001b[0;36mcheck_client\u001b[0;34m(self)\u001b[0m\n\u001b[1;32m     62\u001b[0m         \u001b[0;32mtry\u001b[0m\u001b[0;34m:\u001b[0m\u001b[0;34m\u001b[0m\u001b[0;34m\u001b[0m\u001b[0m\n\u001b[0;32m---> 63\u001b[0;31m             \u001b[0mself\u001b[0m\u001b[0;34m.\u001b[0m\u001b[0mhttp\u001b[0m\u001b[0;34m.\u001b[0m\u001b[0mget\u001b[0m\u001b[0;34m(\u001b[0m\u001b[0;34m'/models'\u001b[0m\u001b[0;34m)\u001b[0m\u001b[0;34m\u001b[0m\u001b[0;34m\u001b[0m\u001b[0m\n\u001b[0m\u001b[1;32m     64\u001b[0m             \u001b[0mreq_check\u001b[0m \u001b[0;34m=\u001b[0m \u001b[0;32mTrue\u001b[0m\u001b[0;34m\u001b[0m\u001b[0;34m\u001b[0m\u001b[0m\n",
            "\u001b[0;32m/usr/local/lib/python3.10/dist-packages/modzy/http.py\u001b[0m in \u001b[0;36mget\u001b[0;34m(self, url)\u001b[0m\n\u001b[1;32m    126\u001b[0m         \"\"\"\n\u001b[0;32m--> 127\u001b[0;31m         \u001b[0;32mreturn\u001b[0m \u001b[0mself\u001b[0m\u001b[0;34m.\u001b[0m\u001b[0mrequest\u001b[0m\u001b[0;34m(\u001b[0m\u001b[0;34m'GET'\u001b[0m\u001b[0;34m,\u001b[0m \u001b[0murl\u001b[0m\u001b[0;34m)\u001b[0m\u001b[0;34m\u001b[0m\u001b[0;34m\u001b[0m\u001b[0m\n\u001b[0m\u001b[1;32m    128\u001b[0m \u001b[0;34m\u001b[0m\u001b[0m\n",
            "\u001b[0;32m/usr/local/lib/python3.10/dist-packages/modzy/http.py\u001b[0m in \u001b[0;36mrequest\u001b[0;34m(self, method, url, json_data, file_data, params)\u001b[0m\n\u001b[1;32m     88\u001b[0m             \u001b[0mself\u001b[0m\u001b[0;34m.\u001b[0m\u001b[0mlogger\u001b[0m\u001b[0;34m.\u001b[0m\u001b[0mexception\u001b[0m\u001b[0;34m(\u001b[0m\u001b[0;34m'unable to make network request'\u001b[0m\u001b[0;34m)\u001b[0m\u001b[0;34m\u001b[0m\u001b[0;34m\u001b[0m\u001b[0m\n\u001b[0;32m---> 89\u001b[0;31m             \u001b[0;32mraise\u001b[0m \u001b[0mNetworkError\u001b[0m\u001b[0;34m(\u001b[0m\u001b[0mstr\u001b[0m\u001b[0;34m(\u001b[0m\u001b[0mex\u001b[0m\u001b[0;34m)\u001b[0m\u001b[0;34m,\u001b[0m \u001b[0murl\u001b[0m\u001b[0;34m,\u001b[0m \u001b[0mreason\u001b[0m\u001b[0;34m=\u001b[0m\u001b[0mex\u001b[0m\u001b[0;34m)\u001b[0m\u001b[0;34m\u001b[0m\u001b[0;34m\u001b[0m\u001b[0m\n\u001b[0m\u001b[1;32m     90\u001b[0m \u001b[0;34m\u001b[0m\u001b[0m\n",
            "\u001b[0;31mNetworkError\u001b[0m: HTTPSConnectionPool(host='tenant18.bot.5goil.tmobile.com', port=443): Max retries exceeded with url: /models (Caused by NewConnectionError('<urllib3.connection.HTTPSConnection object at 0x7fb1765f1690>: Failed to establish a new connection: [Errno -2] Name or service not known'))",
            "\nDuring handling of the above exception, another exception occurred:\n",
            "\u001b[0;31mValueError\u001b[0m                                Traceback (most recent call last)",
            "\u001b[0;32m<ipython-input-15-48863a902625>\u001b[0m in \u001b[0;36m<cell line: 4>\u001b[0;34m()\u001b[0m\n\u001b[1;32m      2\u001b[0m \u001b[0mBASE_URL\u001b[0m\u001b[0;34m=\u001b[0m\u001b[0;34m\"https://tenant18.bot.5goil.tmobile.com/\"\u001b[0m\u001b[0;34m\u001b[0m\u001b[0;34m\u001b[0m\u001b[0m\n\u001b[1;32m      3\u001b[0m \u001b[0mAPI_KEY\u001b[0m\u001b[0;34m=\u001b[0m\u001b[0;34m\"wZr4nkIAtLFPNUPySOdC.DYqB3325zWPXIDxdrZIH\"\u001b[0m\u001b[0;34m\u001b[0m\u001b[0;34m\u001b[0m\u001b[0m\n\u001b[0;32m----> 4\u001b[0;31m \u001b[0mclient\u001b[0m\u001b[0;34m=\u001b[0m\u001b[0mApiClient\u001b[0m\u001b[0;34m(\u001b[0m\u001b[0mbase_url\u001b[0m\u001b[0;34m=\u001b[0m\u001b[0mBASE_URL\u001b[0m\u001b[0;34m,\u001b[0m \u001b[0mapi_key\u001b[0m\u001b[0;34m=\u001b[0m\u001b[0mAPI_KEY\u001b[0m\u001b[0;34m)\u001b[0m\u001b[0;34m\u001b[0m\u001b[0;34m\u001b[0m\u001b[0m\n\u001b[0m",
            "\u001b[0;32m/usr/local/lib/python3.10/dist-packages/modzy/client.py\u001b[0m in \u001b[0;36m__init__\u001b[0;34m(self, base_url, api_key, cert)\u001b[0m\n\u001b[1;32m     46\u001b[0m \u001b[0;34m\u001b[0m\u001b[0m\n\u001b[1;32m     47\u001b[0m         \u001b[0mself\u001b[0m\u001b[0;34m.\u001b[0m\u001b[0mhttp\u001b[0m \u001b[0;34m=\u001b[0m \u001b[0mHttpClient\u001b[0m\u001b[0;34m(\u001b[0m\u001b[0mself\u001b[0m\u001b[0;34m)\u001b[0m\u001b[0;34m\u001b[0m\u001b[0;34m\u001b[0m\u001b[0m\n\u001b[0;32m---> 48\u001b[0;31m         \u001b[0mself\u001b[0m\u001b[0;34m.\u001b[0m\u001b[0mcheck_client\u001b[0m\u001b[0;34m(\u001b[0m\u001b[0;34m)\u001b[0m\u001b[0;34m\u001b[0m\u001b[0;34m\u001b[0m\u001b[0m\n\u001b[0m\u001b[1;32m     49\u001b[0m \u001b[0;34m\u001b[0m\u001b[0m\n\u001b[1;32m     50\u001b[0m         \u001b[0mself\u001b[0m\u001b[0;34m.\u001b[0m\u001b[0mmodels\u001b[0m \u001b[0;34m=\u001b[0m \u001b[0mModels\u001b[0m\u001b[0;34m(\u001b[0m\u001b[0mself\u001b[0m\u001b[0;34m)\u001b[0m\u001b[0;34m\u001b[0m\u001b[0;34m\u001b[0m\u001b[0m\n",
            "\u001b[0;32m/usr/local/lib/python3.10/dist-packages/modzy/client.py\u001b[0m in \u001b[0;36mcheck_client\u001b[0;34m(self)\u001b[0m\n\u001b[1;32m     67\u001b[0m                 \u001b[0mself\u001b[0m\u001b[0;34m.\u001b[0m\u001b[0mbase_url\u001b[0m \u001b[0;34m=\u001b[0m \u001b[0mself\u001b[0m\u001b[0;34m.\u001b[0m\u001b[0mbase_url\u001b[0m \u001b[0;34m+\u001b[0m \u001b[0;34m(\u001b[0m\u001b[0;34m\"\"\u001b[0m \u001b[0;32mif\u001b[0m \u001b[0mself\u001b[0m\u001b[0;34m.\u001b[0m\u001b[0mbase_url\u001b[0m\u001b[0;34m.\u001b[0m\u001b[0mendswith\u001b[0m\u001b[0;34m(\u001b[0m\u001b[0;34m\"/\"\u001b[0m\u001b[0;34m)\u001b[0m \u001b[0;32melse\u001b[0m \u001b[0;34m\"/\"\u001b[0m\u001b[0;34m)\u001b[0m \u001b[0;34m+\u001b[0m \u001b[0;34m\"api/\"\u001b[0m\u001b[0;34m\u001b[0m\u001b[0;34m\u001b[0m\u001b[0m\n\u001b[1;32m     68\u001b[0m                 \u001b[0;31m# Try again with the new URL\u001b[0m\u001b[0;34m\u001b[0m\u001b[0;34m\u001b[0m\u001b[0m\n\u001b[0;32m---> 69\u001b[0;31m                 \u001b[0mself\u001b[0m\u001b[0;34m.\u001b[0m\u001b[0mcheck_client\u001b[0m\u001b[0;34m(\u001b[0m\u001b[0;34m)\u001b[0m\u001b[0;34m\u001b[0m\u001b[0;34m\u001b[0m\u001b[0m\n\u001b[0m\u001b[1;32m     70\u001b[0m                 \u001b[0mreq_check\u001b[0m \u001b[0;34m=\u001b[0m \u001b[0;32mTrue\u001b[0m\u001b[0;34m\u001b[0m\u001b[0;34m\u001b[0m\u001b[0m\n\u001b[1;32m     71\u001b[0m \u001b[0;34m\u001b[0m\u001b[0m\n",
            "\u001b[0;32m/usr/local/lib/python3.10/dist-packages/modzy/client.py\u001b[0m in \u001b[0;36mcheck_client\u001b[0;34m(self)\u001b[0m\n\u001b[1;32m     71\u001b[0m \u001b[0;34m\u001b[0m\u001b[0m\n\u001b[1;32m     72\u001b[0m         \u001b[0;32mif\u001b[0m \u001b[0;32mnot\u001b[0m \u001b[0mreq_check\u001b[0m\u001b[0;34m:\u001b[0m\u001b[0;34m\u001b[0m\u001b[0;34m\u001b[0m\u001b[0m\n\u001b[0;32m---> 73\u001b[0;31m             raise ValueError(\"Cannot initialize the modzy client: the base_url param should point to a valid API \"\n\u001b[0m\u001b[1;32m     74\u001b[0m                              \"endpoint and the api_key should be a valid key for the env\")\n\u001b[1;32m     75\u001b[0m \u001b[0;34m\u001b[0m\u001b[0m\n",
            "\u001b[0;31mValueError\u001b[0m: Cannot initialize the modzy client: the base_url param should point to a valid API endpoint and the api_key should be a valid key for the env"
          ]
        }
      ]
    },
    {
      "cell_type": "code",
      "source": [
        "!pip install pyheif"
      ],
      "metadata": {
        "colab": {
          "base_uri": "https://localhost:8080/"
        },
        "id": "V4F59giQUFKo",
        "outputId": "185ab476-986f-4224-a4f7-f7a5a1a3f07d"
      },
      "execution_count": null,
      "outputs": [
        {
          "output_type": "stream",
          "name": "stdout",
          "text": [
            "Requirement already satisfied: pyheif in /usr/local/lib/python3.10/dist-packages (0.7.1)\n",
            "Requirement already satisfied: cffi>=1.0.0 in /usr/local/lib/python3.10/dist-packages (from pyheif) (1.15.1)\n",
            "Requirement already satisfied: pycparser in /usr/local/lib/python3.10/dist-packages (from cffi>=1.0.0->pyheif) (2.21)\n"
          ]
        }
      ]
    },
    {
      "cell_type": "code",
      "source": [
        "import os\n",
        "from PIL import Image\n",
        "import pyheif\n",
        "\n",
        "\n",
        "def convert_heic_to_jpg(heic_file, output_folder):\n",
        "    # Load the HEIC image\n",
        "    heif_file = pyheif.read(heic_file)\n",
        "    image = Image.frombytes(\n",
        "        heif_file.mode,\n",
        "        heif_file.size,\n",
        "        heif_file.data,\n",
        "        \"raw\",\n",
        "        heif_file.mode,\n",
        "        heif_file.stride,\n",
        "    )\n",
        "\n",
        "    # Generate the output file path\n",
        "    filename = os.path.splitext(os.path.basename(heic_file))[0]\n",
        "    output_file = os.path.join(output_folder, f\"{filename}.jpg\")\n",
        "\n",
        "    # Save the image as JPG\n",
        "    image.save(output_file, \"JPEG\")\n",
        "\n",
        "\n",
        "def batch_convert_heic_to_jpg(input_folder, output_folder):\n",
        "    # Create the output folder if it doesn't exist\n",
        "    os.makedirs(output_folder, exist_ok=True)\n",
        "\n",
        "    # Get a list of HEIC files in the input folder\n",
        "    heic_files = [\n",
        "        file for file in os.listdir(input_folder)\n",
        "        if file.lower().endswith(\".heic\")\n",
        "    ]\n",
        "\n",
        "    # Convert each HEIC file to JPG\n",
        "    for heic_file in heic_files:\n",
        "        heic_path = os.path.join(input_folder, heic_file)\n",
        "        convert_heic_to_jpg(heic_path, output_folder)\n",
        "\n",
        "\n",
        "# Specify the input and output folders\n",
        "input_folder = \"/content\"\n",
        "output_folder = \"/content/test_images\"\n",
        "\n",
        "# Convert HEIC files to JPG\n",
        "batch_convert_heic_to_jpg(input_folder, output_folder)\n"
      ],
      "metadata": {
        "id": "RmITnm1aTrQQ"
      },
      "execution_count": null,
      "outputs": []
    },
    {
      "cell_type": "code",
      "source": [
        "import cv2\n",
        "import numpy as np\n",
        "import joblib\n",
        "\n",
        "# Load the saved model from the file\n",
        "loaded_model = joblib.load(model_filename)\n",
        "\n",
        "# Preprocess the test image\n",
        "test_image_path = \"/content/test_images/IMG_3864.jpg\"\n",
        "test_image = cv2.imread(test_image_path)\n",
        "test_image = cv2.cvtColor(test_image, cv2.COLOR_BGR2GRAY)\n",
        "test_image = cv2.resize(test_image, (100, 100))  # Resize if needed\n",
        "test_image = test_image.reshape(1, -1)  # Flatten the image array\n",
        "\n",
        "# Make predictions on the test image\n",
        "predicted_class = loaded_model.predict(test_image)\n",
        "\n",
        "# Print the predicted class\n",
        "print(\"Predicted class:\", predicted_class[0])"
      ],
      "metadata": {
        "colab": {
          "base_uri": "https://localhost:8080/"
        },
        "id": "7SArZRkWt17n",
        "outputId": "666c88b5-4a89-44b8-95bd-46032fddfeff"
      },
      "execution_count": null,
      "outputs": [
        {
          "output_type": "stream",
          "name": "stdout",
          "text": [
            "Predicted class: s3\n"
          ]
        }
      ]
    },
    {
      "cell_type": "code",
      "source": [
        "!pip install chassisml"
      ],
      "metadata": {
        "colab": {
          "base_uri": "https://localhost:8080/"
        },
        "id": "Oz1ACLtcW6V9",
        "outputId": "c9350b80-645c-4cb9-84e8-441e9bcc144a"
      },
      "execution_count": null,
      "outputs": [
        {
          "output_type": "stream",
          "name": "stdout",
          "text": [
            "Requirement already satisfied: chassisml in /usr/local/lib/python3.10/dist-packages (1.4.13)\n",
            "Requirement already satisfied: requests in /usr/local/lib/python3.10/dist-packages (from chassisml) (2.27.1)\n",
            "Requirement already satisfied: mlflow in /usr/local/lib/python3.10/dist-packages (from chassisml) (2.4.1)\n",
            "Requirement already satisfied: numpy in /usr/local/lib/python3.10/dist-packages (from chassisml) (1.22.4)\n",
            "Requirement already satisfied: pyyaml in /usr/local/lib/python3.10/dist-packages (from chassisml) (6.0)\n",
            "Requirement already satisfied: validators in /usr/local/lib/python3.10/dist-packages (from chassisml) (0.20.0)\n",
            "Requirement already satisfied: grpc-requests in /usr/local/lib/python3.10/dist-packages (from chassisml) (0.1.7)\n",
            "Requirement already satisfied: grpcio in /usr/local/lib/python3.10/dist-packages (from chassisml) (1.56.0)\n",
            "Requirement already satisfied: docker in /usr/local/lib/python3.10/dist-packages (from chassisml) (6.1.3)\n",
            "Requirement already satisfied: protobuf==3.19.4 in /usr/local/lib/python3.10/dist-packages (from chassisml) (3.19.4)\n",
            "Requirement already satisfied: packaging>=14.0 in /usr/local/lib/python3.10/dist-packages (from docker->chassisml) (23.1)\n",
            "Requirement already satisfied: urllib3>=1.26.0 in /usr/local/lib/python3.10/dist-packages (from docker->chassisml) (1.26.16)\n",
            "Requirement already satisfied: websocket-client>=0.32.0 in /usr/local/lib/python3.10/dist-packages (from docker->chassisml) (1.6.0)\n",
            "Requirement already satisfied: certifi>=2017.4.17 in /usr/local/lib/python3.10/dist-packages (from requests->chassisml) (2023.5.7)\n",
            "Requirement already satisfied: charset-normalizer~=2.0.0 in /usr/local/lib/python3.10/dist-packages (from requests->chassisml) (2.0.12)\n",
            "Requirement already satisfied: idna<4,>=2.5 in /usr/local/lib/python3.10/dist-packages (from requests->chassisml) (3.4)\n",
            "Requirement already satisfied: grpcio-reflection>=1.39.0 in /usr/local/lib/python3.10/dist-packages (from grpc-requests->chassisml) (1.48.2)\n",
            "Requirement already satisfied: google-api-core>=1.31.0 in /usr/local/lib/python3.10/dist-packages (from grpc-requests->chassisml) (2.8.2)\n",
            "Requirement already satisfied: cryptography>=3.1.1 in /usr/local/lib/python3.10/dist-packages (from grpc-requests->chassisml) (41.0.1)\n",
            "Requirement already satisfied: click<9,>=7.0 in /usr/local/lib/python3.10/dist-packages (from mlflow->chassisml) (8.1.3)\n",
            "Requirement already satisfied: cloudpickle<3 in /usr/local/lib/python3.10/dist-packages (from mlflow->chassisml) (2.2.1)\n",
            "Requirement already satisfied: databricks-cli<1,>=0.8.7 in /usr/local/lib/python3.10/dist-packages (from mlflow->chassisml) (0.17.7)\n",
            "Requirement already satisfied: entrypoints<1 in /usr/local/lib/python3.10/dist-packages (from mlflow->chassisml) (0.4)\n",
            "Requirement already satisfied: gitpython<4,>=2.1.0 in /usr/local/lib/python3.10/dist-packages (from mlflow->chassisml) (3.1.31)\n",
            "Requirement already satisfied: pytz<2024 in /usr/local/lib/python3.10/dist-packages (from mlflow->chassisml) (2022.7.1)\n",
            "Requirement already satisfied: importlib-metadata!=4.7.0,<7,>=3.7.0 in /usr/local/lib/python3.10/dist-packages (from mlflow->chassisml) (6.7.0)\n",
            "Requirement already satisfied: sqlparse<1,>=0.4.0 in /usr/local/lib/python3.10/dist-packages (from mlflow->chassisml) (0.4.4)\n",
            "Requirement already satisfied: alembic!=1.10.0,<2 in /usr/local/lib/python3.10/dist-packages (from mlflow->chassisml) (1.11.1)\n",
            "Requirement already satisfied: Flask<3 in /usr/local/lib/python3.10/dist-packages (from mlflow->chassisml) (2.2.5)\n",
            "Requirement already satisfied: scipy<2 in /usr/local/lib/python3.10/dist-packages (from mlflow->chassisml) (1.10.1)\n",
            "Requirement already satisfied: pandas<3 in /usr/local/lib/python3.10/dist-packages (from mlflow->chassisml) (1.5.3)\n",
            "Requirement already satisfied: querystring-parser<2 in /usr/local/lib/python3.10/dist-packages (from mlflow->chassisml) (1.2.4)\n",
            "Requirement already satisfied: sqlalchemy<3,>=1.4.0 in /usr/local/lib/python3.10/dist-packages (from mlflow->chassisml) (2.0.16)\n",
            "Requirement already satisfied: scikit-learn<2 in /usr/local/lib/python3.10/dist-packages (from mlflow->chassisml) (1.2.2)\n",
            "Requirement already satisfied: pyarrow<13,>=4.0.0 in /usr/local/lib/python3.10/dist-packages (from mlflow->chassisml) (9.0.0)\n",
            "Requirement already satisfied: markdown<4,>=3.3 in /usr/local/lib/python3.10/dist-packages (from mlflow->chassisml) (3.4.3)\n",
            "Requirement already satisfied: matplotlib<4 in /usr/local/lib/python3.10/dist-packages (from mlflow->chassisml) (3.7.1)\n",
            "Requirement already satisfied: gunicorn<21 in /usr/local/lib/python3.10/dist-packages (from mlflow->chassisml) (20.1.0)\n",
            "Requirement already satisfied: Jinja2<4,>=2.11 in /usr/local/lib/python3.10/dist-packages (from mlflow->chassisml) (3.1.2)\n",
            "Requirement already satisfied: decorator>=3.4.0 in /usr/local/lib/python3.10/dist-packages (from validators->chassisml) (4.4.2)\n",
            "Requirement already satisfied: Mako in /usr/local/lib/python3.10/dist-packages (from alembic!=1.10.0,<2->mlflow->chassisml) (1.2.4)\n",
            "Requirement already satisfied: typing-extensions>=4 in /usr/local/lib/python3.10/dist-packages (from alembic!=1.10.0,<2->mlflow->chassisml) (4.6.3)\n",
            "Requirement already satisfied: cffi>=1.12 in /usr/local/lib/python3.10/dist-packages (from cryptography>=3.1.1->grpc-requests->chassisml) (1.15.1)\n",
            "Requirement already satisfied: pyjwt>=1.7.0 in /usr/local/lib/python3.10/dist-packages (from databricks-cli<1,>=0.8.7->mlflow->chassisml) (2.7.0)\n",
            "Requirement already satisfied: oauthlib>=3.1.0 in /usr/local/lib/python3.10/dist-packages (from databricks-cli<1,>=0.8.7->mlflow->chassisml) (3.2.2)\n",
            "Requirement already satisfied: tabulate>=0.7.7 in /usr/local/lib/python3.10/dist-packages (from databricks-cli<1,>=0.8.7->mlflow->chassisml) (0.8.10)\n",
            "Requirement already satisfied: six>=1.10.0 in /usr/local/lib/python3.10/dist-packages (from databricks-cli<1,>=0.8.7->mlflow->chassisml) (1.16.0)\n",
            "Requirement already satisfied: Werkzeug>=2.2.2 in /usr/local/lib/python3.10/dist-packages (from Flask<3->mlflow->chassisml) (2.3.6)\n",
            "Requirement already satisfied: itsdangerous>=2.0 in /usr/local/lib/python3.10/dist-packages (from Flask<3->mlflow->chassisml) (2.1.2)\n",
            "Requirement already satisfied: gitdb<5,>=4.0.1 in /usr/local/lib/python3.10/dist-packages (from gitpython<4,>=2.1.0->mlflow->chassisml) (4.0.10)\n",
            "Requirement already satisfied: googleapis-common-protos<2.0dev,>=1.56.2 in /usr/local/lib/python3.10/dist-packages (from google-api-core>=1.31.0->grpc-requests->chassisml) (1.56.4)\n",
            "Requirement already satisfied: google-auth<3.0dev,>=1.25.0 in /usr/local/lib/python3.10/dist-packages (from google-api-core>=1.31.0->grpc-requests->chassisml) (2.17.3)\n",
            "Requirement already satisfied: setuptools>=3.0 in /usr/local/lib/python3.10/dist-packages (from gunicorn<21->mlflow->chassisml) (67.7.2)\n",
            "Requirement already satisfied: zipp>=0.5 in /usr/local/lib/python3.10/dist-packages (from importlib-metadata!=4.7.0,<7,>=3.7.0->mlflow->chassisml) (3.15.0)\n",
            "Requirement already satisfied: MarkupSafe>=2.0 in /usr/local/lib/python3.10/dist-packages (from Jinja2<4,>=2.11->mlflow->chassisml) (2.1.3)\n",
            "Requirement already satisfied: contourpy>=1.0.1 in /usr/local/lib/python3.10/dist-packages (from matplotlib<4->mlflow->chassisml) (1.1.0)\n",
            "Requirement already satisfied: cycler>=0.10 in /usr/local/lib/python3.10/dist-packages (from matplotlib<4->mlflow->chassisml) (0.11.0)\n",
            "Requirement already satisfied: fonttools>=4.22.0 in /usr/local/lib/python3.10/dist-packages (from matplotlib<4->mlflow->chassisml) (4.40.0)\n",
            "Requirement already satisfied: kiwisolver>=1.0.1 in /usr/local/lib/python3.10/dist-packages (from matplotlib<4->mlflow->chassisml) (1.4.4)\n",
            "Requirement already satisfied: pillow>=6.2.0 in /usr/local/lib/python3.10/dist-packages (from matplotlib<4->mlflow->chassisml) (8.4.0)\n",
            "Requirement already satisfied: pyparsing>=2.3.1 in /usr/local/lib/python3.10/dist-packages (from matplotlib<4->mlflow->chassisml) (3.1.0)\n",
            "Requirement already satisfied: python-dateutil>=2.7 in /usr/local/lib/python3.10/dist-packages (from matplotlib<4->mlflow->chassisml) (2.8.2)\n",
            "Requirement already satisfied: joblib>=1.1.1 in /usr/local/lib/python3.10/dist-packages (from scikit-learn<2->mlflow->chassisml) (1.2.0)\n",
            "Requirement already satisfied: threadpoolctl>=2.0.0 in /usr/local/lib/python3.10/dist-packages (from scikit-learn<2->mlflow->chassisml) (3.1.0)\n",
            "Requirement already satisfied: greenlet!=0.4.17 in /usr/local/lib/python3.10/dist-packages (from sqlalchemy<3,>=1.4.0->mlflow->chassisml) (2.0.2)\n",
            "Requirement already satisfied: pycparser in /usr/local/lib/python3.10/dist-packages (from cffi>=1.12->cryptography>=3.1.1->grpc-requests->chassisml) (2.21)\n",
            "Requirement already satisfied: smmap<6,>=3.0.1 in /usr/local/lib/python3.10/dist-packages (from gitdb<5,>=4.0.1->gitpython<4,>=2.1.0->mlflow->chassisml) (5.0.0)\n",
            "Requirement already satisfied: cachetools<6.0,>=2.0.0 in /usr/local/lib/python3.10/dist-packages (from google-auth<3.0dev,>=1.25.0->google-api-core>=1.31.0->grpc-requests->chassisml) (5.3.1)\n",
            "Requirement already satisfied: pyasn1-modules>=0.2.1 in /usr/local/lib/python3.10/dist-packages (from google-auth<3.0dev,>=1.25.0->google-api-core>=1.31.0->grpc-requests->chassisml) (0.3.0)\n",
            "Requirement already satisfied: rsa<5,>=3.1.4 in /usr/local/lib/python3.10/dist-packages (from google-auth<3.0dev,>=1.25.0->google-api-core>=1.31.0->grpc-requests->chassisml) (4.9)\n",
            "Requirement already satisfied: pyasn1<0.6.0,>=0.4.6 in /usr/local/lib/python3.10/dist-packages (from pyasn1-modules>=0.2.1->google-auth<3.0dev,>=1.25.0->google-api-core>=1.31.0->grpc-requests->chassisml) (0.5.0)\n"
          ]
        }
      ]
    },
    {
      "cell_type": "code",
      "source": [
        "import chassisml"
      ],
      "metadata": {
        "id": "Itebva4xXp9F"
      },
      "execution_count": null,
      "outputs": []
    },
    {
      "cell_type": "code",
      "source": [
        "def process(input_bytes):\n",
        "  img = cv2.imdecode(np.frombuffer(input_bytes, np.uint8),-1)\n",
        "  img = cv2.cvtColor(img, cv2.COLOR_BGR2GRAY)\n",
        "  img = cv2.resize(img, (100, 100))  # Resize if needed\n",
        "  img = img.reshape(1, -1)\n",
        "  predicted_class = loaded_model.predict(test_image)\n",
        "\n",
        "# Print the predicted class\n",
        "  return predicted_class[0]"
      ],
      "metadata": {
        "id": "iSC2_e8XWUOH"
      },
      "execution_count": null,
      "outputs": []
    },
    {
      "cell_type": "code",
      "source": [
        "chassis_client = chassisml.ChassisClient(\"https://chassis.app.modzy.com/\")\n",
        "chassis_model = chassis_client.create_model(process_fn=process)\n",
        "\n",
        "dockerhub_user = 'abhirkarande3'\n",
        "dockerhub_pass = 'BiggerBear13$$'\n",
        "\n",
        "response = chassis_model.publish(\n",
        "   model_name=\"Sample ML Model\",\n",
        "   model_version=\"0.0.1\",\n",
        "   registry_user=dockerhub_user,\n",
        "   registry_pass=dockerhub_pass\n",
        ")\n",
        "\n",
        "job_id = response.get('job_id')\n",
        "print(job_id)\n",
        "final_status = chassis_client.block_until_complete(job_id)"
      ],
      "metadata": {
        "id": "qTA4ZXfjgq9U",
        "colab": {
          "base_uri": "https://localhost:8080/"
        },
        "outputId": "3d15d1ec-3825-4bcd-9500-81fa460786a5"
      },
      "execution_count": null,
      "outputs": [
        {
          "output_type": "stream",
          "name": "stdout",
          "text": [
            "Starting build job... Ok!\n",
            "chassis-builder-job-323a9a49-2ee0-4c09-a852-8ee6f692e366\n"
          ]
        }
      ]
    },
    {
      "cell_type": "code",
      "source": [
        "print(final_status)"
      ],
      "metadata": {
        "colab": {
          "base_uri": "https://localhost:8080/"
        },
        "id": "XiaOQt-iIR_L",
        "outputId": "8909b59c-37ea-41d2-c712-eaf9bd19e0f7"
      },
      "execution_count": null,
      "outputs": [
        {
          "output_type": "stream",
          "name": "stdout",
          "text": [
            "{'logs': '\\x1b[36mINFO\\x1b[0m[0000] Retrieving image manifest continuumio/miniconda3:4.12.0 \\n\\x1b[36mINFO\\x1b[0m[0000] Retrieving image continuumio/miniconda3:4.12.0 from registry index.docker.io \\n\\x1b[36mINFO\\x1b[0m[0000] Built cross stage deps: map[]                \\n\\x1b[36mINFO\\x1b[0m[0000] Retrieving image manifest continuumio/miniconda3:4.12.0 \\n\\x1b[36mINFO\\x1b[0m[0000] Returning cached image manifest              \\n\\x1b[36mINFO\\x1b[0m[0000] Executing 0 build triggers                   \\n\\x1b[36mINFO\\x1b[0m[0000] Unpacking rootfs as cmd RUN apt-get update && apt-get install -y build-essential cmake requires it. \\n\\x1b[36mINFO\\x1b[0m[0006] Taking snapshot of full filesystem...        \\n\\x1b[36mINFO\\x1b[0m[0010] ARG MODEL_DIR                                \\n\\x1b[36mINFO\\x1b[0m[0010] ARG MODEL_NAME                               \\n\\x1b[36mINFO\\x1b[0m[0010] ARG MODEL_CLASS                              \\n\\x1b[36mINFO\\x1b[0m[0010] ARG INTERFACE                                \\n\\x1b[36mINFO\\x1b[0m[0010] ARG MODZY_METADATA_PATH                      \\n\\x1b[36mINFO\\x1b[0m[0010] LABEL ml.openmodel.interfaces=[\"${INTERFACE}\"] \\n\\x1b[36mINFO\\x1b[0m[0010] Applying label ml.openmodel.interfaces=[modzy] \\n\\x1b[36mINFO\\x1b[0m[0010] LABEL ml.openml.model_name=\"${MODEL_NAME}\"   \\n\\x1b[36mINFO\\x1b[0m[0010] Applying label ml.openml.model_name=Sample ML Model \\n\\x1b[36mINFO\\x1b[0m[0010] LABEL ml.openmodel.protocols=[[\"v2\"]]        \\n\\x1b[36mINFO\\x1b[0m[0010] Applying label ml.openmodel.protocols=[[v2]] \\n\\x1b[36mINFO\\x1b[0m[0010] LABEL ml.openmodel.port=\"45000\"              \\n\\x1b[36mINFO\\x1b[0m[0010] Applying label ml.openmodel.port=45000       \\n\\x1b[36mINFO\\x1b[0m[0010] WORKDIR /app                                 \\n\\x1b[36mINFO\\x1b[0m[0010] cmd: workdir                                 \\n\\x1b[36mINFO\\x1b[0m[0010] Changed working directory to /app            \\n\\x1b[36mINFO\\x1b[0m[0010] Creating directory /app                      \\n\\x1b[36mINFO\\x1b[0m[0010] Taking snapshot of files...                  \\n\\x1b[36mINFO\\x1b[0m[0010] RUN apt-get update && apt-get install -y build-essential cmake \\n\\x1b[36mINFO\\x1b[0m[0010] cmd: /bin/sh                                 \\n\\x1b[36mINFO\\x1b[0m[0010] args: [-c apt-get update && apt-get install -y build-essential cmake] \\n\\x1b[36mINFO\\x1b[0m[0010] Running: [/bin/sh -c apt-get update && apt-get install -y build-essential cmake] \\nGet:1 http://security.debian.org/debian-security bullseye-security InRelease [48.4 kB]\\nGet:2 http://deb.debian.org/debian bullseye InRelease [116 kB]\\nGet:3 http://deb.debian.org/debian bullseye-updates InRelease [44.1 kB]\\nGet:4 http://security.debian.org/debian-security bullseye-security/main amd64 Packages [252 kB]\\nGet:5 http://deb.debian.org/debian bullseye/main amd64 Packages [8183 kB]\\nGet:6 http://deb.debian.org/debian bullseye-updates/main amd64 Packages [14.8 kB]\\nFetched 8658 kB in 1s (7059 kB/s)\\nReading package lists...\\nReading package lists...\\nBuilding dependency tree...\\nReading state information...\\nThe following additional packages will be installed:\\n  binutils binutils-common binutils-x86-64-linux-gnu cmake-data cpp cpp-10\\n  dirmngr dpkg-dev fakeroot fontconfig-config fonts-dejavu-core g++ g++-10 gcc\\n  gcc-10 gnupg gnupg-l10n gnupg-utils gpg gpg-agent gpg-wks-client\\n  gpg-wks-server gpgconf gpgsm gpgv libalgorithm-diff-perl\\n  libalgorithm-diff-xs-perl libalgorithm-merge-perl libarchive13 libasan6\\n  libassuan0 libatomic1 libbinutils libc-dev-bin libc-devtools libc6 libc6-dev\\n  libcc1-0 libcrypt-dev libctf-nobfd0 libctf0 libcurl4 libdeflate0\\n  libdpkg-perl libfakeroot libfile-fcntllock-perl libfontconfig1 libfreetype6\\n  libgcc-10-dev libgd3 libgomp1 libicu67 libisl23 libitm1 libjbig0\\n  libjpeg62-turbo libjsoncpp24 libksba8 liblocale-gettext-perl liblsan0\\n  libmpc3 libmpfr6 libnpth0 libnsl-dev libpng16-16 libquadmath0 librhash0\\n  libstdc++-10-dev libtiff5 libtirpc-common libtirpc-dev libtirpc3 libtsan0\\n  libubsan1 libuv1 libwebp6 libxml2 libxpm4 linux-libc-dev make manpages\\n  manpages-dev patch pinentry-curses xz-utils\\nSuggested packages:\\n  binutils-doc cmake-doc ninja-build cpp-doc gcc-10-locales dbus-user-session\\n  libpam-systemd pinentry-gnome3 tor debian-keyring g++-multilib\\n  g++-10-multilib gcc-10-doc gcc-multilib autoconf automake libtool flex bison\\n  gdb gcc-doc gcc-10-multilib parcimonie xloadimage scdaemon lrzip glibc-doc\\n  libc-l10n locales bzr libgd-tools libstdc++-10-doc make-doc man-browser ed\\n  diffutils-doc pinentry-doc\\nRecommended packages:\\n  libnss-nis libnss-nisplus\\nThe following NEW packages will be installed:\\n  binutils binutils-common binutils-x86-64-linux-gnu build-essential cmake\\n  cmake-data cpp cpp-10 dirmngr dpkg-dev fakeroot fontconfig-config\\n  fonts-dejavu-core g++ g++-10 gcc gcc-10 gnupg gnupg-l10n gnupg-utils gpg\\n  gpg-agent gpg-wks-client gpg-wks-server gpgconf gpgsm libalgorithm-diff-perl\\n  libalgorithm-diff-xs-perl libalgorithm-merge-perl libarchive13 libasan6\\n  libassuan0 libatomic1 libbinutils libc-dev-bin libc-devtools libc6-dev\\n  libcc1-0 libcrypt-dev libctf-nobfd0 libctf0 libcurl4 libdeflate0\\n  libdpkg-perl libfakeroot libfile-fcntllock-perl libfontconfig1 libfreetype6\\n  libgcc-10-dev libgd3 libgomp1 libicu67 libisl23 libitm1 libjbig0\\n  libjpeg62-turbo libjsoncpp24 libksba8 liblocale-gettext-perl liblsan0\\n  libmpc3 libmpfr6 libnpth0 libnsl-dev libpng16-16 libquadmath0 librhash0\\n  libstdc++-10-dev libtiff5 libtirpc-dev libtsan0 libubsan1 libuv1 libwebp6\\n  libxml2 libxpm4 linux-libc-dev make manpages manpages-dev patch\\n  pinentry-curses xz-utils\\nThe following packages will be upgraded:\\n  gpgv libc6 libtirpc-common libtirpc3\\n4 upgraded, 83 newly installed, 0 to remove and 33 not upgraded.\\nNeed to get 98.3 MB of archives.\\nAfter this operation, 329 MB of additional disk space will be used.\\nGet:1 http://deb.debian.org/debian bullseye/main amd64 libc6 amd64 2.31-13+deb11u6 [2827 kB]\\nGet:2 http://security.debian.org/debian-security bullseye-security/main amd64 linux-libc-dev amd64 5.10.179-1 [1618 kB]\\nGet:3 http://deb.debian.org/debian bullseye/main amd64 liblocale-gettext-perl amd64 1.07-4+b1 [19.0 kB]\\nGet:4 http://deb.debian.org/debian bullseye/main amd64 gpgv amd64 2.2.27-2+deb11u2 [626 kB]\\nGet:5 http://deb.debian.org/debian bullseye/main amd64 libtirpc-common all 1.3.1-1+deb11u1 [13.5 kB]\\nGet:6 http://deb.debian.org/debian bullseye/main amd64 libtirpc3 amd64 1.3.1-1+deb11u1 [84.1 kB]\\nGet:7 http://deb.debian.org/debian bullseye/main amd64 manpages all 5.10-1 [1412 kB]\\nGet:8 http://deb.debian.org/debian bullseye/main amd64 xz-utils amd64 5.2.5-2.1~deb11u1 [220 kB]\\nGet:9 http://deb.debian.org/debian bullseye/main amd64 binutils-common amd64 2.35.2-2 [2220 kB]\\nGet:10 http://deb.debian.org/debian bullseye/main amd64 libbinutils amd64 2.35.2-2 [570 kB]\\nGet:11 http://deb.debian.org/debian bullseye/main amd64 libctf-nobfd0 amd64 2.35.2-2 [110 kB]\\nGet:12 http://deb.debian.org/debian bullseye/main amd64 libctf0 amd64 2.35.2-2 [53.2 kB]\\nGet:13 http://deb.debian.org/debian bullseye/main amd64 binutils-x86-64-linux-gnu amd64 2.35.2-2 [1809 kB]\\nGet:14 http://deb.debian.org/debian bullseye/main amd64 binutils amd64 2.35.2-2 [61.2 kB]\\nGet:15 http://deb.debian.org/debian bullseye/main amd64 libc-dev-bin amd64 2.31-13+deb11u6 [276 kB]\\nGet:16 http://deb.debian.org/debian bullseye/main amd64 libcrypt-dev amd64 1:4.4.18-4 [104 kB]\\nGet:17 http://deb.debian.org/debian bullseye/main amd64 libtirpc-dev amd64 1.3.1-1+deb11u1 [191 kB]\\nGet:18 http://deb.debian.org/debian bullseye/main amd64 libnsl-dev amd64 1.3.0-2 [66.4 kB]\\nGet:19 http://deb.debian.org/debian bullseye/main amd64 libc6-dev amd64 2.31-13+deb11u6 [2360 kB]\\nGet:20 http://deb.debian.org/debian bullseye/main amd64 libisl23 amd64 0.23-1 [676 kB]\\nGet:21 http://deb.debian.org/debian bullseye/main amd64 libmpfr6 amd64 4.1.0-3 [2012 kB]\\nGet:22 http://deb.debian.org/debian bullseye/main amd64 libmpc3 amd64 1.2.0-1 [45.0 kB]\\nGet:23 http://deb.debian.org/debian bullseye/main amd64 cpp-10 amd64 10.2.1-6 [8528 kB]\\nGet:24 http://security.debian.org/debian-security bullseye-security/main amd64 libwebp6 amd64 0.6.1-2.1+deb11u1 [258 kB]\\nGet:25 http://deb.debian.org/debian bullseye/main amd64 cpp amd64 4:10.2.1-1 [19.7 kB]\\nGet:26 http://deb.debian.org/debian bullseye/main amd64 libcc1-0 amd64 10.2.1-6 [47.0 kB]\\nGet:27 http://deb.debian.org/debian bullseye/main amd64 libgomp1 amd64 10.2.1-6 [99.9 kB]\\nGet:28 http://deb.debian.org/debian bullseye/main amd64 libitm1 amd64 10.2.1-6 [25.8 kB]\\nGet:29 http://deb.debian.org/debian bullseye/main amd64 libatomic1 amd64 10.2.1-6 [9008 B]\\nGet:30 http://deb.debian.org/debian bullseye/main amd64 libasan6 amd64 10.2.1-6 [2065 kB]\\nGet:31 http://deb.debian.org/debian bullseye/main amd64 liblsan0 amd64 10.2.1-6 [828 kB]\\nGet:32 http://deb.debian.org/debian bullseye/main amd64 libtsan0 amd64 10.2.1-6 [2000 kB]\\nGet:33 http://deb.debian.org/debian bullseye/main amd64 libubsan1 amd64 10.2.1-6 [777 kB]\\nGet:34 http://deb.debian.org/debian bullseye/main amd64 libquadmath0 amd64 10.2.1-6 [145 kB]\\nGet:35 http://deb.debian.org/debian bullseye/main amd64 libgcc-10-dev amd64 10.2.1-6 [2328 kB]\\nGet:36 http://deb.debian.org/debian bullseye/main amd64 gcc-10 amd64 10.2.1-6 [17.0 MB]\\nGet:37 http://deb.debian.org/debian bullseye/main amd64 gcc amd64 4:10.2.1-1 [5192 B]\\nGet:38 http://deb.debian.org/debian bullseye/main amd64 libstdc++-10-dev amd64 10.2.1-6 [1741 kB]\\nGet:39 http://deb.debian.org/debian bullseye/main amd64 g++-10 amd64 10.2.1-6 [9380 kB]\\nGet:40 http://deb.debian.org/debian bullseye/main amd64 g++ amd64 4:10.2.1-1 [1644 B]\\nGet:41 http://deb.debian.org/debian bullseye/main amd64 make amd64 4.3-4.1 [396 kB]\\nGet:42 http://deb.debian.org/debian bullseye/main amd64 libdpkg-perl all 1.20.12 [1551 kB]\\nGet:43 http://deb.debian.org/debian bullseye/main amd64 patch amd64 2.7.6-7 [128 kB]\\nGet:44 http://deb.debian.org/debian bullseye/main amd64 dpkg-dev all 1.20.12 [2312 kB]\\nGet:45 http://deb.debian.org/debian bullseye/main amd64 build-essential amd64 12.9 [7704 B]\\nGet:46 http://deb.debian.org/debian bullseye/main amd64 cmake-data all 3.18.4-2+deb11u1 [1725 kB]\\nGet:47 http://deb.debian.org/debian bullseye/main amd64 libicu67 amd64 67.1-7 [8622 kB]\\nGet:48 http://deb.debian.org/debian bullseye/main amd64 libxml2 amd64 2.9.10+dfsg-6.7+deb11u4 [693 kB]\\nGet:49 http://deb.debian.org/debian bullseye/main amd64 libarchive13 amd64 3.4.3-2+deb11u1 [343 kB]\\nGet:50 http://deb.debian.org/debian bullseye/main amd64 libcurl4 amd64 7.74.0-1.3+deb11u7 [346 kB]\\nGet:51 http://deb.debian.org/debian bullseye/main amd64 libjsoncpp24 amd64 1.9.4-4 [78.9 kB]\\nGet:52 http://deb.debian.org/debian bullseye/main amd64 librhash0 amd64 1.4.1-2 [129 kB]\\nGet:53 http://deb.debian.org/debian bullseye/main amd64 libuv1 amd64 1.40.0-2 [132 kB]\\nGet:54 http://deb.debian.org/debian bullseye/main amd64 cmake amd64 3.18.4-2+deb11u1 [5593 kB]\\nGet:55 http://deb.debian.org/debian bullseye/main amd64 libassuan0 amd64 2.5.3-7.1 [50.5 kB]\\nGet:56 http://deb.debian.org/debian bullseye/main amd64 gpgconf amd64 2.2.27-2+deb11u2 [548 kB]\\nGet:57 http://deb.debian.org/debian bullseye/main amd64 libksba8 amd64 1.5.0-3+deb11u2 [123 kB]\\nGet:58 http://deb.debian.org/debian bullseye/main amd64 libnpth0 amd64 1.6-3 [19.0 kB]\\nGet:59 http://deb.debian.org/debian bullseye/main amd64 dirmngr amd64 2.2.27-2+deb11u2 [763 kB]\\nGet:60 http://deb.debian.org/debian bullseye/main amd64 libfakeroot amd64 1.25.3-1.1 [47.0 kB]\\nGet:61 http://deb.debian.org/debian bullseye/main amd64 fakeroot amd64 1.25.3-1.1 [87.0 kB]\\nGet:62 http://deb.debian.org/debian bullseye/main amd64 fonts-dejavu-core all 2.37-2 [1069 kB]\\nGet:63 http://deb.debian.org/debian bullseye/main amd64 fontconfig-config all 2.13.1-4.2 [281 kB]\\nGet:64 http://deb.debian.org/debian bullseye/main amd64 gnupg-l10n all 2.2.27-2+deb11u2 [1086 kB]\\nGet:65 http://deb.debian.org/debian bullseye/main amd64 gnupg-utils amd64 2.2.27-2+deb11u2 [905 kB]\\nGet:66 http://deb.debian.org/debian bullseye/main amd64 gpg amd64 2.2.27-2+deb11u2 [928 kB]\\nGet:67 http://deb.debian.org/debian bullseye/main amd64 pinentry-curses amd64 1.1.0-4 [64.9 kB]\\nGet:68 http://deb.debian.org/debian bullseye/main amd64 gpg-agent amd64 2.2.27-2+deb11u2 [669 kB]\\nGet:69 http://deb.debian.org/debian bullseye/main amd64 gpg-wks-client amd64 2.2.27-2+deb11u2 [524 kB]\\nGet:70 http://deb.debian.org/debian bullseye/main amd64 gpg-wks-server amd64 2.2.27-2+deb11u2 [516 kB]\\nGet:71 http://deb.debian.org/debian bullseye/main amd64 gpgsm amd64 2.2.27-2+deb11u2 [645 kB]\\nGet:72 http://deb.debian.org/debian bullseye/main amd64 gnupg all 2.2.27-2+deb11u2 [825 kB]\\nGet:73 http://deb.debian.org/debian bullseye/main amd64 libalgorithm-diff-perl all 1.201-1 [43.3 kB]\\nGet:74 http://deb.debian.org/debian bullseye/main amd64 libalgorithm-diff-xs-perl amd64 0.04-6+b1 [12.0 kB]\\nGet:75 http://deb.debian.org/debian bullseye/main amd64 libalgorithm-merge-perl all 0.08-3 [12.7 kB]\\nGet:76 http://deb.debian.org/debian bullseye/main amd64 libpng16-16 amd64 1.6.37-3 [294 kB]\\nGet:77 http://deb.debian.org/debian bullseye/main amd64 libfreetype6 amd64 2.10.4+dfsg-1+deb11u1 [418 kB]\\nGet:78 http://deb.debian.org/debian bullseye/main amd64 libfontconfig1 amd64 2.13.1-4.2 [347 kB]\\nGet:79 http://deb.debian.org/debian bullseye/main amd64 libjpeg62-turbo amd64 1:2.0.6-4 [151 kB]\\nGet:80 http://deb.debian.org/debian bullseye/main amd64 libdeflate0 amd64 1.7-1 [53.1 kB]\\nGet:81 http://deb.debian.org/debian bullseye/main amd64 libjbig0 amd64 2.1-3.1+b2 [31.0 kB]\\nGet:82 http://deb.debian.org/debian bullseye/main amd64 libtiff5 amd64 4.2.0-1+deb11u4 [290 kB]\\nGet:83 http://deb.debian.org/debian bullseye/main amd64 libxpm4 amd64 1:3.5.12-1.1~deb11u1 [49.6 kB]\\nGet:84 http://deb.debian.org/debian bullseye/main amd64 libgd3 amd64 2.3.0-2 [137 kB]\\nGet:85 http://deb.debian.org/debian bullseye/main amd64 libc-devtools amd64 2.31-13+deb11u6 [246 kB]\\nGet:86 http://deb.debian.org/debian bullseye/main amd64 libfile-fcntllock-perl amd64 0.22-3+b7 [35.5 kB]\\nGet:87 http://deb.debian.org/debian bullseye/main amd64 manpages-dev all 5.10-1 [2309 kB]\\ndebconf: delaying package configuration, since apt-utils is not installed\\nFetched 98.3 MB in 1s (171 MB/s)\\n(Reading database ... \\r(Reading database ... 5%\\r(Reading database ... 10%\\r(Reading database ... 15%\\r(Reading database ... 20%\\r(Reading database ... 25%\\r(Reading database ... 30%\\r(Reading database ... 35%\\r(Reading database ... 40%\\r(Reading database ... 45%\\r(Reading database ... 50%\\r(Reading database ... 55%\\r(Reading database ... 60%\\r(Reading database ... 65%\\r(Reading database ... 70%\\r(Reading database ... 75%\\r(Reading database ... 80%\\r(Reading database ... 85%\\r(Reading database ... 90%\\r(Reading database ... 95%\\r(Reading database ... 100%\\r(Reading database ... 12441 files and directories currently installed.)\\r\\nPreparing to unpack .../libc6_2.31-13+deb11u6_amd64.deb ...\\r\\ndebconf: unable to initialize frontend: Dialog\\r\\ndebconf: (TERM is not set, so the dialog frontend is not usable.)\\r\\ndebconf: falling back to frontend: Readline\\r\\ndebconf: unable to initialize frontend: Dialog\\r\\ndebconf: (TERM is not set, so the dialog frontend is not usable.)\\r\\ndebconf: falling back to frontend: Readline\\r\\nUnpacking libc6:amd64 (2.31-13+deb11u6) over (2.31-13+deb11u3) ...\\r\\nSetting up libc6:amd64 (2.31-13+deb11u6) ...\\r\\ndebconf: unable to initialize frontend: Dialog\\r\\ndebconf: (TERM is not set, so the dialog frontend is not usable.)\\r\\ndebconf: falling back to frontend: Readline\\r\\nSelecting previously unselected package liblocale-gettext-perl.\\r\\n(Reading database ... \\r(Reading database ... 5%\\r(Reading database ... 10%\\r(Reading database ... 15%\\r(Reading database ... 20%\\r(Reading database ... 25%\\r(Reading database ... 30%\\r(Reading database ... 35%\\r(Reading database ... 40%\\r(Reading database ... 45%\\r(Reading database ... 50%\\r(Reading database ... 55%\\r(Reading database ... 60%\\r(Reading database ... 65%\\r(Reading database ... 70%\\r(Reading database ... 75%\\r(Reading database ... 80%\\r(Reading database ... 85%\\r(Reading database ... 90%\\r(Reading database ... 95%\\r(Reading database ... 100%\\r(Reading database ... 12441 files and directories currently installed.)\\r\\nPreparing to unpack .../liblocale-gettext-perl_1.07-4+b1_amd64.deb ...\\r\\nUnpacking liblocale-gettext-perl (1.07-4+b1) ...\\r\\nPreparing to unpack .../gpgv_2.2.27-2+deb11u2_amd64.deb ...\\r\\nUnpacking gpgv (2.2.27-2+deb11u2) over (2.2.27-2+deb11u1) ...\\r\\nSetting up gpgv (2.2.27-2+deb11u2) ...\\r\\n(Reading database ... \\r(Reading database ... 5%\\r(Reading database ... 10%\\r(Reading database ... 15%\\r(Reading database ... 20%\\r(Reading database ... 25%\\r(Reading database ... 30%\\r(Reading database ... 35%\\r(Reading database ... 40%\\r(Reading database ... 45%\\r(Reading database ... 50%\\r(Reading database ... 55%\\r(Reading database ... 60%\\r(Reading database ... 65%\\r(Reading database ... 70%\\r(Reading database ... 75%\\r(Reading database ... 80%\\r(Reading database ... 85%\\r(Reading database ... 90%\\r(Reading database ... 95%\\r(Reading database ... 100%\\r(Reading database ... 12456 files and directories currently installed.)\\r\\nPreparing to unpack .../libtirpc-common_1.3.1-1+deb11u1_all.deb ...\\r\\nUnpacking libtirpc-common (1.3.1-1+deb11u1) over (1.3.1-1) ...\\r\\nSetting up libtirpc-common (1.3.1-1+deb11u1) ...\\r\\n(Reading database ... \\r(Reading database ... 5%\\r(Reading database ... 10%\\r(Reading database ... 15%\\r(Reading database ... 20%\\r(Reading database ... 25%\\r(Reading database ... 30%\\r(Reading database ... 35%\\r(Reading database ... 40%\\r(Reading database ... 45%\\r(Reading database ... 50%\\r(Reading database ... 55%\\r(Reading database ... 60%\\r(Reading database ... 65%\\r(Reading database ... 70%\\r(Reading database ... 75%\\r(Reading database ... 80%\\r(Reading database ... 85%\\r(Reading database ... 90%\\r(Reading database ... 95%\\r(Reading database ... 100%\\r(Reading database ... 12456 files and directories currently installed.)\\r\\nPreparing to unpack .../libtirpc3_1.3.1-1+deb11u1_amd64.deb ...\\r\\nUnpacking libtirpc3:amd64 (1.3.1-1+deb11u1) over (1.3.1-1) ...\\r\\nSetting up libtirpc3:amd64 (1.3.1-1+deb11u1) ...\\r\\nSelecting previously unselected package manpages.\\r\\n(Reading database ... \\r(Reading database ... 5%\\r(Reading database ... 10%\\r(Reading database ... 15%\\r(Reading database ... 20%\\r(Reading database ... 25%\\r(Reading database ... 30%\\r(Reading database ... 35%\\r(Reading database ... 40%\\r(Reading database ... 45%\\r(Reading database ... 50%\\r(Reading database ... 55%\\r(Reading database ... 60%\\r(Reading database ... 65%\\r(Reading database ... 70%\\r(Reading database ... 75%\\r(Reading database ... 80%\\r(Reading database ... 85%\\r(Reading database ... 90%\\r(Reading database ... 95%\\r(Reading database ... 100%\\r(Reading database ... 12456 files and directories currently installed.)\\r\\nPreparing to unpack .../00-manpages_5.10-1_all.deb ...\\r\\nUnpacking manpages (5.10-1) ...\\r\\nSelecting previously unselected package xz-utils.\\r\\nPreparing to unpack .../01-xz-utils_5.2.5-2.1~deb11u1_amd64.deb ...\\r\\nUnpacking xz-utils (5.2.5-2.1~deb11u1) ...\\r\\nSelecting previously unselected package binutils-common:amd64.\\r\\nPreparing to unpack .../02-binutils-common_2.35.2-2_amd64.deb ...\\r\\nUnpacking binutils-common:amd64 (2.35.2-2) ...\\r\\nSelecting previously unselected package libbinutils:amd64.\\r\\nPreparing to unpack .../03-libbinutils_2.35.2-2_amd64.deb ...\\r\\nUnpacking libbinutils:amd64 (2.35.2-2) ...\\r\\nSelecting previously unselected package libctf-nobfd0:amd64.\\r\\nPreparing to unpack .../04-libctf-nobfd0_2.35.2-2_amd64.deb ...\\r\\nUnpacking libctf-nobfd0:amd64 (2.35.2-2) ...\\r\\nSelecting previously unselected package libctf0:amd64.\\r\\nPreparing to unpack .../05-libctf0_2.35.2-2_amd64.deb ...\\r\\nUnpacking libctf0:amd64 (2.35.2-2) ...\\r\\nSelecting previously unselected package binutils-x86-64-linux-gnu.\\r\\nPreparing to unpack .../06-binutils-x86-64-linux-gnu_2.35.2-2_amd64.deb ...\\r\\nUnpacking binutils-x86-64-linux-gnu (2.35.2-2) ...\\r\\nSelecting previously unselected package binutils.\\r\\nPreparing to unpack .../07-binutils_2.35.2-2_amd64.deb ...\\r\\nUnpacking binutils (2.35.2-2) ...\\r\\nSelecting previously unselected package libc-dev-bin.\\r\\nPreparing to unpack .../08-libc-dev-bin_2.31-13+deb11u6_amd64.deb ...\\r\\nUnpacking libc-dev-bin (2.31-13+deb11u6) ...\\r\\nSelecting previously unselected package linux-libc-dev:amd64.\\r\\nPreparing to unpack .../09-linux-libc-dev_5.10.179-1_amd64.deb ...\\r\\nUnpacking linux-libc-dev:amd64 (5.10.179-1) ...\\r\\nSelecting previously unselected package libcrypt-dev:amd64.\\r\\nPreparing to unpack .../10-libcrypt-dev_1%3a4.4.18-4_amd64.deb ...\\r\\nUnpacking libcrypt-dev:amd64 (1:4.4.18-4) ...\\r\\nSelecting previously unselected package libtirpc-dev:amd64.\\r\\nPreparing to unpack .../11-libtirpc-dev_1.3.1-1+deb11u1_amd64.deb ...\\r\\nUnpacking libtirpc-dev:amd64 (1.3.1-1+deb11u1) ...\\r\\nSelecting previously unselected package libnsl-dev:amd64.\\r\\nPreparing to unpack .../12-libnsl-dev_1.3.0-2_amd64.deb ...\\r\\nUnpacking libnsl-dev:amd64 (1.3.0-2) ...\\r\\nSelecting previously unselected package libc6-dev:amd64.\\r\\nPreparing to unpack .../13-libc6-dev_2.31-13+deb11u6_amd64.deb ...\\r\\nUnpacking libc6-dev:amd64 (2.31-13+deb11u6) ...\\r\\nSelecting previously unselected package libisl23:amd64.\\r\\nPreparing to unpack .../14-libisl23_0.23-1_amd64.deb ...\\r\\nUnpacking libisl23:amd64 (0.23-1) ...\\r\\nSelecting previously unselected package libmpfr6:amd64.\\r\\nPreparing to unpack .../15-libmpfr6_4.1.0-3_amd64.deb ...\\r\\nUnpacking libmpfr6:amd64 (4.1.0-3) ...\\r\\nSelecting previously unselected package libmpc3:amd64.\\r\\nPreparing to unpack .../16-libmpc3_1.2.0-1_amd64.deb ...\\r\\nUnpacking libmpc3:amd64 (1.2.0-1) ...\\r\\nSelecting previously unselected package cpp-10.\\r\\nPreparing to unpack .../17-cpp-10_10.2.1-6_amd64.deb ...\\r\\nUnpacking cpp-10 (10.2.1-6) ...\\r\\nSelecting previously unselected package cpp.\\r\\nPreparing to unpack .../18-cpp_4%3a10.2.1-1_amd64.deb ...\\r\\nUnpacking cpp (4:10.2.1-1) ...\\r\\nSelecting previously unselected package libcc1-0:amd64.\\r\\nPreparing to unpack .../19-libcc1-0_10.2.1-6_amd64.deb ...\\r\\nUnpacking libcc1-0:amd64 (10.2.1-6) ...\\r\\nSelecting previously unselected package libgomp1:amd64.\\r\\nPreparing to unpack .../20-libgomp1_10.2.1-6_amd64.deb ...\\r\\nUnpacking libgomp1:amd64 (10.2.1-6) ...\\r\\nSelecting previously unselected package libitm1:amd64.\\r\\nPreparing to unpack .../21-libitm1_10.2.1-6_amd64.deb ...\\r\\nUnpacking libitm1:amd64 (10.2.1-6) ...\\r\\nSelecting previously unselected package libatomic1:amd64.\\r\\nPreparing to unpack .../22-libatomic1_10.2.1-6_amd64.deb ...\\r\\nUnpacking libatomic1:amd64 (10.2.1-6) ...\\r\\nSelecting previously unselected package libasan6:amd64.\\r\\nPreparing to unpack .../23-libasan6_10.2.1-6_amd64.deb ...\\r\\nUnpacking libasan6:amd64 (10.2.1-6) ...\\r\\nSelecting previously unselected package liblsan0:amd64.\\r\\nPreparing to unpack .../24-liblsan0_10.2.1-6_amd64.deb ...\\r\\nUnpacking liblsan0:amd64 (10.2.1-6) ...\\r\\nSelecting previously unselected package libtsan0:amd64.\\r\\nPreparing to unpack .../25-libtsan0_10.2.1-6_amd64.deb ...\\r\\nUnpacking libtsan0:amd64 (10.2.1-6) ...\\r\\nSelecting previously unselected package libubsan1:amd64.\\r\\nPreparing to unpack .../26-libubsan1_10.2.1-6_amd64.deb ...\\r\\nUnpacking libubsan1:amd64 (10.2.1-6) ...\\r\\nSelecting previously unselected package libquadmath0:amd64.\\r\\nPreparing to unpack .../27-libquadmath0_10.2.1-6_amd64.deb ...\\r\\nUnpacking libquadmath0:amd64 (10.2.1-6) ...\\r\\nSelecting previously unselected package libgcc-10-dev:amd64.\\r\\nPreparing to unpack .../28-libgcc-10-dev_10.2.1-6_amd64.deb ...\\r\\nUnpacking libgcc-10-dev:amd64 (10.2.1-6) ...\\r\\nSelecting previously unselected package gcc-10.\\r\\nPreparing to unpack .../29-gcc-10_10.2.1-6_amd64.deb ...\\r\\nUnpacking gcc-10 (10.2.1-6) ...\\r\\nSelecting previously unselected package gcc.\\r\\nPreparing to unpack .../30-gcc_4%3a10.2.1-1_amd64.deb ...\\r\\nUnpacking gcc (4:10.2.1-1) ...\\r\\nSelecting previously unselected package libstdc++-10-dev:amd64.\\r\\nPreparing to unpack .../31-libstdc++-10-dev_10.2.1-6_amd64.deb ...\\r\\nUnpacking libstdc++-10-dev:amd64 (10.2.1-6) ...\\r\\nSelecting previously unselected package g++-10.\\r\\nPreparing to unpack .../32-g++-10_10.2.1-6_amd64.deb ...\\r\\nUnpacking g++-10 (10.2.1-6) ...\\r\\nSelecting previously unselected package g++.\\r\\nPreparing to unpack .../33-g++_4%3a10.2.1-1_amd64.deb ...\\r\\nUnpacking g++ (4:10.2.1-1) ...\\r\\nSelecting previously unselected package make.\\r\\nPreparing to unpack .../34-make_4.3-4.1_amd64.deb ...\\r\\nUnpacking make (4.3-4.1) ...\\r\\nSelecting previously unselected package libdpkg-perl.\\r\\nPreparing to unpack .../35-libdpkg-perl_1.20.12_all.deb ...\\r\\nUnpacking libdpkg-perl (1.20.12) ...\\r\\nSelecting previously unselected package patch.\\r\\nPreparing to unpack .../36-patch_2.7.6-7_amd64.deb ...\\r\\nUnpacking patch (2.7.6-7) ...\\r\\nSelecting previously unselected package dpkg-dev.\\r\\nPreparing to unpack .../37-dpkg-dev_1.20.12_all.deb ...\\r\\nUnpacking dpkg-dev (1.20.12) ...\\r\\nSelecting previously unselected package build-essential.\\r\\nPreparing to unpack .../38-build-essential_12.9_amd64.deb ...\\r\\nUnpacking build-essential (12.9) ...\\r\\nSelecting previously unselected package cmake-data.\\r\\nPreparing to unpack .../39-cmake-data_3.18.4-2+deb11u1_all.deb ...\\r\\nUnpacking cmake-data (3.18.4-2+deb11u1) ...\\r\\nSelecting previously unselected package libicu67:amd64.\\r\\nPreparing to unpack .../40-libicu67_67.1-7_amd64.deb ...\\r\\nUnpacking libicu67:amd64 (67.1-7) ...\\r\\nSelecting previously unselected package libxml2:amd64.\\r\\nPreparing to unpack .../41-libxml2_2.9.10+dfsg-6.7+deb11u4_amd64.deb ...\\r\\nUnpacking libxml2:amd64 (2.9.10+dfsg-6.7+deb11u4) ...\\r\\nSelecting previously unselected package libarchive13:amd64.\\r\\nPreparing to unpack .../42-libarchive13_3.4.3-2+deb11u1_amd64.deb ...\\r\\nUnpacking libarchive13:amd64 (3.4.3-2+deb11u1) ...\\r\\nSelecting previously unselected package libcurl4:amd64.\\r\\nPreparing to unpack .../43-libcurl4_7.74.0-1.3+deb11u7_amd64.deb ...\\r\\nUnpacking libcurl4:amd64 (7.74.0-1.3+deb11u7) ...\\r\\nSelecting previously unselected package libjsoncpp24:amd64.\\r\\nPreparing to unpack .../44-libjsoncpp24_1.9.4-4_amd64.deb ...\\r\\nUnpacking libjsoncpp24:amd64 (1.9.4-4) ...\\r\\nSelecting previously unselected package librhash0:amd64.\\r\\nPreparing to unpack .../45-librhash0_1.4.1-2_amd64.deb ...\\r\\nUnpacking librhash0:amd64 (1.4.1-2) ...\\r\\nSelecting previously unselected package libuv1:amd64.\\r\\nPreparing to unpack .../46-libuv1_1.40.0-2_amd64.deb ...\\r\\nUnpacking libuv1:amd64 (1.40.0-2) ...\\r\\nSelecting previously unselected package cmake.\\r\\nPreparing to unpack .../47-cmake_3.18.4-2+deb11u1_amd64.deb ...\\r\\nUnpacking cmake (3.18.4-2+deb11u1) ...\\r\\nSelecting previously unselected package libassuan0:amd64.\\r\\nPreparing to unpack .../48-libassuan0_2.5.3-7.1_amd64.deb ...\\r\\nUnpacking libassuan0:amd64 (2.5.3-7.1) ...\\r\\nSelecting previously unselected package gpgconf.\\r\\nPreparing to unpack .../49-gpgconf_2.2.27-2+deb11u2_amd64.deb ...\\r\\nUnpacking gpgconf (2.2.27-2+deb11u2) ...\\r\\nSelecting previously unselected package libksba8:amd64.\\r\\nPreparing to unpack .../50-libksba8_1.5.0-3+deb11u2_amd64.deb ...\\r\\nUnpacking libksba8:amd64 (1.5.0-3+deb11u2) ...\\r\\nSelecting previously unselected package libnpth0:amd64.\\r\\nPreparing to unpack .../51-libnpth0_1.6-3_amd64.deb ...\\r\\nUnpacking libnpth0:amd64 (1.6-3) ...\\r\\nSelecting previously unselected package dirmngr.\\r\\nPreparing to unpack .../52-dirmngr_2.2.27-2+deb11u2_amd64.deb ...\\r\\nUnpacking dirmngr (2.2.27-2+deb11u2) ...\\r\\nSelecting previously unselected package libfakeroot:amd64.\\r\\nPreparing to unpack .../53-libfakeroot_1.25.3-1.1_amd64.deb ...\\r\\nUnpacking libfakeroot:amd64 (1.25.3-1.1) ...\\r\\nSelecting previously unselected package fakeroot.\\r\\nPreparing to unpack .../54-fakeroot_1.25.3-1.1_amd64.deb ...\\r\\nUnpacking fakeroot (1.25.3-1.1) ...\\r\\nSelecting previously unselected package fonts-dejavu-core.\\r\\nPreparing to unpack .../55-fonts-dejavu-core_2.37-2_all.deb ...\\r\\nUnpacking fonts-dejavu-core (2.37-2) ...\\r\\nSelecting previously unselected package fontconfig-config.\\r\\nPreparing to unpack .../56-fontconfig-config_2.13.1-4.2_all.deb ...\\r\\nUnpacking fontconfig-config (2.13.1-4.2) ...\\r\\nSelecting previously unselected package gnupg-l10n.\\r\\nPreparing to unpack .../57-gnupg-l10n_2.2.27-2+deb11u2_all.deb ...\\r\\nUnpacking gnupg-l10n (2.2.27-2+deb11u2) ...\\r\\nSelecting previously unselected package gnupg-utils.\\r\\nPreparing to unpack .../58-gnupg-utils_2.2.27-2+deb11u2_amd64.deb ...\\r\\nUnpacking gnupg-utils (2.2.27-2+deb11u2) ...\\r\\nSelecting previously unselected package gpg.\\r\\nPreparing to unpack .../59-gpg_2.2.27-2+deb11u2_amd64.deb ...\\r\\nUnpacking gpg (2.2.27-2+deb11u2) ...\\r\\nSelecting previously unselected package pinentry-curses.\\r\\nPreparing to unpack .../60-pinentry-curses_1.1.0-4_amd64.deb ...\\r\\nUnpacking pinentry-curses (1.1.0-4) ...\\r\\nSelecting previously unselected package gpg-agent.\\r\\nPreparing to unpack .../61-gpg-agent_2.2.27-2+deb11u2_amd64.deb ...\\r\\nUnpacking gpg-agent (2.2.27-2+deb11u2) ...\\r\\nSelecting previously unselected package gpg-wks-client.\\r\\nPreparing to unpack .../62-gpg-wks-client_2.2.27-2+deb11u2_amd64.deb ...\\r\\nUnpacking gpg-wks-client (2.2.27-2+deb11u2) ...\\r\\nSelecting previously unselected package gpg-wks-server.\\r\\nPreparing to unpack .../63-gpg-wks-server_2.2.27-2+deb11u2_amd64.deb ...\\r\\nUnpacking gpg-wks-server (2.2.27-2+deb11u2) ...\\r\\nSelecting previously unselected package gpgsm.\\r\\nPreparing to unpack .../64-gpgsm_2.2.27-2+deb11u2_amd64.deb ...\\r\\nUnpacking gpgsm (2.2.27-2+deb11u2) ...\\r\\nSelecting previously unselected package gnupg.\\r\\nPreparing to unpack .../65-gnupg_2.2.27-2+deb11u2_all.deb ...\\r\\nUnpacking gnupg (2.2.27-2+deb11u2) ...\\r\\nSelecting previously unselected package libalgorithm-diff-perl.\\r\\nPreparing to unpack .../66-libalgorithm-diff-perl_1.201-1_all.deb ...\\r\\nUnpacking libalgorithm-diff-perl (1.201-1) ...\\r\\nSelecting previously unselected package libalgorithm-diff-xs-perl.\\r\\nPreparing to unpack .../67-libalgorithm-diff-xs-perl_0.04-6+b1_amd64.deb ...\\r\\nUnpacking libalgorithm-diff-xs-perl (0.04-6+b1) ...\\r\\nSelecting previously unselected package libalgorithm-merge-perl.\\r\\nPreparing to unpack .../68-libalgorithm-merge-perl_0.08-3_all.deb ...\\r\\nUnpacking libalgorithm-merge-perl (0.08-3) ...\\r\\nSelecting previously unselected package libpng16-16:amd64.\\r\\nPreparing to unpack .../69-libpng16-16_1.6.37-3_amd64.deb ...\\r\\nUnpacking libpng16-16:amd64 (1.6.37-3) ...\\r\\nSelecting previously unselected package libfreetype6:amd64.\\r\\nPreparing to unpack .../70-libfreetype6_2.10.4+dfsg-1+deb11u1_amd64.deb ...\\r\\nUnpacking libfreetype6:amd64 (2.10.4+dfsg-1+deb11u1) ...\\r\\nSelecting previously unselected package libfontconfig1:amd64.\\r\\nPreparing to unpack .../71-libfontconfig1_2.13.1-4.2_amd64.deb ...\\r\\nUnpacking libfontconfig1:amd64 (2.13.1-4.2) ...\\r\\nSelecting previously unselected package libjpeg62-turbo:amd64.\\r\\nPreparing to unpack .../72-libjpeg62-turbo_1%3a2.0.6-4_amd64.deb ...\\r\\nUnpacking libjpeg62-turbo:amd64 (1:2.0.6-4) ...\\r\\nSelecting previously unselected package libdeflate0:amd64.\\r\\nPreparing to unpack .../73-libdeflate0_1.7-1_amd64.deb ...\\r\\nUnpacking libdeflate0:amd64 (1.7-1) ...\\r\\nSelecting previously unselected package libjbig0:amd64.\\r\\nPreparing to unpack .../74-libjbig0_2.1-3.1+b2_amd64.deb ...\\r\\nUnpacking libjbig0:amd64 (2.1-3.1+b2) ...\\r\\nSelecting previously unselected package libwebp6:amd64.\\r\\nPreparing to unpack .../75-libwebp6_0.6.1-2.1+deb11u1_amd64.deb ...\\r\\nUnpacking libwebp6:amd64 (0.6.1-2.1+deb11u1) ...\\r\\nSelecting previously unselected package libtiff5:amd64.\\r\\nPreparing to unpack .../76-libtiff5_4.2.0-1+deb11u4_amd64.deb ...\\r\\nUnpacking libtiff5:amd64 (4.2.0-1+deb11u4) ...\\r\\nSelecting previously unselected package libxpm4:amd64.\\r\\nPreparing to unpack .../77-libxpm4_1%3a3.5.12-1.1~deb11u1_amd64.deb ...\\r\\nUnpacking libxpm4:amd64 (1:3.5.12-1.1~deb11u1) ...\\r\\nSelecting previously unselected package libgd3:amd64.\\r\\nPreparing to unpack .../78-libgd3_2.3.0-2_amd64.deb ...\\r\\nUnpacking libgd3:amd64 (2.3.0-2) ...\\r\\nSelecting previously unselected package libc-devtools.\\r\\nPreparing to unpack .../79-libc-devtools_2.31-13+deb11u6_amd64.deb ...\\r\\nUnpacking libc-devtools (2.31-13+deb11u6) ...\\r\\nSelecting previously unselected package libfile-fcntllock-perl.\\r\\nPreparing to unpack .../80-libfile-fcntllock-perl_0.22-3+b7_amd64.deb ...\\r\\nUnpacking libfile-fcntllock-perl (0.22-3+b7) ...\\r\\nSelecting previously unselected package manpages-dev.\\r\\nPreparing to unpack .../81-manpages-dev_5.10-1_all.deb ...\\r\\nUnpacking manpages-dev (5.10-1) ...\\r\\nSetting up libksba8:amd64 (1.5.0-3+deb11u2) ...\\r\\nSetting up libxpm4:amd64 (1:3.5.12-1.1~deb11u1) ...\\r\\nSetting up libicu67:amd64 (67.1-7) ...\\r\\nSetting up libfile-fcntllock-perl (0.22-3+b7) ...\\r\\nSetting up libalgorithm-diff-perl (1.201-1) ...\\r\\nSetting up manpages (5.10-1) ...\\r\\nSetting up binutils-common:amd64 (2.35.2-2) ...\\r\\nSetting up libdeflate0:amd64 (1.7-1) ...\\r\\nSetting up linux-libc-dev:amd64 (5.10.179-1) ...\\r\\nSetting up libctf-nobfd0:amd64 (2.35.2-2) ...\\r\\nSetting up libnpth0:amd64 (1.6-3) ...\\r\\nSetting up libassuan0:amd64 (2.5.3-7.1) ...\\r\\nSetting up libgomp1:amd64 (10.2.1-6) ...\\r\\nSetting up libjbig0:amd64 (2.1-3.1+b2) ...\\r\\nSetting up libfakeroot:amd64 (1.25.3-1.1) ...\\r\\nSetting up libasan6:amd64 (10.2.1-6) ...\\r\\nSetting up fakeroot (1.25.3-1.1) ...\\r\\nupdate-alternatives: using /usr/bin/fakeroot-sysv to provide /usr/bin/fakeroot (fakeroot) in auto mode\\r\\nupdate-alternatives: warning: skip creation of /usr/share/man/man1/fakeroot.1.gz because associated file /usr/share/man/man1/fakeroot-sysv.1.gz (of link group fakeroot) doesn\\'t exist\\r\\nupdate-alternatives: warning: skip creation of /usr/share/man/man1/faked.1.gz because associated file /usr/share/man/man1/faked-sysv.1.gz (of link group fakeroot) doesn\\'t exist\\r\\nupdate-alternatives: warning: skip creation of /usr/share/man/es/man1/fakeroot.1.gz because associated file /usr/share/man/es/man1/fakeroot-sysv.1.gz (of link group fakeroot) doesn\\'t exist\\r\\nupdate-alternatives: warning: skip creation of /usr/share/man/es/man1/faked.1.gz because associated file /usr/share/man/es/man1/faked-sysv.1.gz (of link group fakeroot) doesn\\'t exist\\r\\nupdate-alternatives: warning: skip creation of /usr/share/man/fr/man1/fakeroot.1.gz because associated file /usr/share/man/fr/man1/fakeroot-sysv.1.gz (of link group fakeroot) doesn\\'t exist\\r\\nupdate-alternatives: warning: skip creation of /usr/share/man/fr/man1/faked.1.gz because associated file /usr/share/man/fr/man1/faked-sysv.1.gz (of link group fakeroot) doesn\\'t exist\\r\\nupdate-alternatives: warning: skip creation of /usr/share/man/sv/man1/fakeroot.1.gz because associated file /usr/share/man/sv/man1/fakeroot-sysv.1.gz (of link group fakeroot) doesn\\'t exist\\r\\nupdate-alternatives: warning: skip creation of /usr/share/man/sv/man1/faked.1.gz because associated file /usr/share/man/sv/man1/faked-sysv.1.gz (of link group fakeroot) doesn\\'t exist\\r\\nSetting up libtirpc-dev:amd64 (1.3.1-1+deb11u1) ...\\r\\nSetting up libuv1:amd64 (1.40.0-2) ...\\r\\nSetting up libjpeg62-turbo:amd64 (1:2.0.6-4) ...\\r\\nSetting up make (4.3-4.1) ...\\r\\nSetting up libmpfr6:amd64 (4.1.0-3) ...\\r\\nSetting up gnupg-l10n (2.2.27-2+deb11u2) ...\\r\\nSetting up xz-utils (5.2.5-2.1~deb11u1) ...\\r\\nupdate-alternatives: using /usr/bin/xz to provide /usr/bin/lzma (lzma) in auto mode\\r\\nupdate-alternatives: warning: skip creation of /usr/share/man/man1/lzma.1.gz because associated file /usr/share/man/man1/xz.1.gz (of link group lzma) doesn\\'t exist\\r\\nupdate-alternatives: warning: skip creation of /usr/share/man/man1/unlzma.1.gz because associated file /usr/share/man/man1/unxz.1.gz (of link group lzma) doesn\\'t exist\\r\\nupdate-alternatives: warning: skip creation of /usr/share/man/man1/lzcat.1.gz because associated file /usr/share/man/man1/xzcat.1.gz (of link group lzma) doesn\\'t exist\\r\\nupdate-alternatives: warning: skip creation of /usr/share/man/man1/lzmore.1.gz because associated file /usr/share/man/man1/xzmore.1.gz (of link group lzma) doesn\\'t exist\\r\\nupdate-alternatives: warning: skip creation of /usr/share/man/man1/lzless.1.gz because associated file /usr/share/man/man1/xzless.1.gz (of link group lzma) doesn\\'t exist\\r\\nupdate-alternatives: warning: skip creation of /usr/share/man/man1/lzdiff.1.gz because associated file /usr/share/man/man1/xzdiff.1.gz (of link group lzma) doesn\\'t exist\\r\\nupdate-alternatives: warning: skip creation of /usr/share/man/man1/lzcmp.1.gz because associated file /usr/share/man/man1/xzcmp.1.gz (of link group lzma) doesn\\'t exist\\r\\nupdate-alternatives: warning: skip creation of /usr/share/man/man1/lzgrep.1.gz because associated file /usr/share/man/man1/xzgrep.1.gz (of link group lzma) doesn\\'t exist\\r\\nupdate-alternatives: warning: skip creation of /usr/share/man/man1/lzegrep.1.gz because associated file /usr/share/man/man1/xzegrep.1.gz (of link group lzma) doesn\\'t exist\\r\\nupdate-alternatives: warning: skip creation of /usr/share/man/man1/lzfgrep.1.gz because associated file /usr/share/man/man1/xzfgrep.1.gz (of link group lzma) doesn\\'t exist\\r\\nSetting up libquadmath0:amd64 (10.2.1-6) ...\\r\\nSetting up libpng16-16:amd64 (1.6.37-3) ...\\r\\nSetting up libmpc3:amd64 (1.2.0-1) ...\\r\\nSetting up libatomic1:amd64 (10.2.1-6) ...\\r\\nSetting up patch (2.7.6-7) ...\\r\\nSetting up libwebp6:amd64 (0.6.1-2.1+deb11u1) ...\\r\\nSetting up fonts-dejavu-core (2.37-2) ...\\r\\nSetting up libdpkg-perl (1.20.12) ...\\r\\nSetting up libjsoncpp24:amd64 (1.9.4-4) ...\\r\\nSetting up libubsan1:amd64 (10.2.1-6) ...\\r\\nSetting up libnsl-dev:amd64 (1.3.0-2) ...\\r\\nSetting up librhash0:amd64 (1.4.1-2) ...\\r\\nSetting up libcrypt-dev:amd64 (1:4.4.18-4) ...\\r\\nSetting up gpgconf (2.2.27-2+deb11u2) ...\\r\\nSetting up libcurl4:amd64 (7.74.0-1.3+deb11u7) ...\\r\\nSetting up cmake-data (3.18.4-2+deb11u1) ...\\r\\nSetting up libtiff5:amd64 (4.2.0-1+deb11u4) ...\\r\\nSetting up libbinutils:amd64 (2.35.2-2) ...\\r\\nSetting up libisl23:amd64 (0.23-1) ...\\r\\nSetting up libc-dev-bin (2.31-13+deb11u6) ...\\r\\nSetting up libalgorithm-diff-xs-perl (0.04-6+b1) ...\\r\\nSetting up libxml2:amd64 (2.9.10+dfsg-6.7+deb11u4) ...\\r\\nSetting up libcc1-0:amd64 (10.2.1-6) ...\\r\\nSetting up liblocale-gettext-perl (1.07-4+b1) ...\\r\\nSetting up gpg (2.2.27-2+deb11u2) ...\\r\\nSetting up liblsan0:amd64 (10.2.1-6) ...\\r\\nSetting up cpp-10 (10.2.1-6) ...\\r\\nSetting up libitm1:amd64 (10.2.1-6) ...\\r\\nSetting up libalgorithm-merge-perl (0.08-3) ...\\r\\nSetting up gnupg-utils (2.2.27-2+deb11u2) ...\\r\\nSetting up libtsan0:amd64 (10.2.1-6) ...\\r\\nSetting up libctf0:amd64 (2.35.2-2) ...\\r\\nSetting up pinentry-curses (1.1.0-4) ...\\r\\nSetting up manpages-dev (5.10-1) ...\\r\\nSetting up gpg-agent (2.2.27-2+deb11u2) ...\\r\\nSetting up libarchive13:amd64 (3.4.3-2+deb11u1) ...\\r\\nSetting up fontconfig-config (2.13.1-4.2) ...\\r\\ndebconf: unable to initialize frontend: Dialog\\r\\ndebconf: (TERM is not set, so the dialog frontend is not usable.)\\r\\ndebconf: falling back to frontend: Readline\\r\\nSetting up libgcc-10-dev:amd64 (10.2.1-6) ...\\r\\nSetting up gpgsm (2.2.27-2+deb11u2) ...\\r\\nSetting up dirmngr (2.2.27-2+deb11u2) ...\\r\\nSetting up libfreetype6:amd64 (2.10.4+dfsg-1+deb11u1) ...\\r\\nSetting up gpg-wks-server (2.2.27-2+deb11u2) ...\\r\\nSetting up cpp (4:10.2.1-1) ...\\r\\nSetting up cmake (3.18.4-2+deb11u1) ...\\r\\nSetting up libc6-dev:amd64 (2.31-13+deb11u6) ...\\r\\nSetting up libfontconfig1:amd64 (2.13.1-4.2) ...\\r\\nSetting up binutils-x86-64-linux-gnu (2.35.2-2) ...\\r\\nSetting up libstdc++-10-dev:amd64 (10.2.1-6) ...\\r\\nSetting up gpg-wks-client (2.2.27-2+deb11u2) ...\\r\\nSetting up binutils (2.35.2-2) ...\\r\\nSetting up dpkg-dev (1.20.12) ...\\r\\nSetting up libgd3:amd64 (2.3.0-2) ...\\r\\nSetting up gcc-10 (10.2.1-6) ...\\r\\nSetting up gnupg (2.2.27-2+deb11u2) ...\\r\\nSetting up libc-devtools (2.31-13+deb11u6) ...\\r\\nSetting up g++-10 (10.2.1-6) ...\\r\\nSetting up gcc (4:10.2.1-1) ...\\r\\nSetting up g++ (4:10.2.1-1) ...\\r\\nupdate-alternatives: using /usr/bin/g++ to provide /usr/bin/c++ (c++) in auto mode\\r\\nSetting up build-essential (12.9) ...\\r\\nProcessing triggers for libc-bin (2.31-13+deb11u3) ...\\r\\n\\x1b[36mINFO\\x1b[0m[0027] Taking snapshot of files...                  \\n\\x1b[36mINFO\\x1b[0m[0033] ENV CONDA_ENV chassis-env                    \\n\\x1b[36mINFO\\x1b[0m[0033] COPY flavours/${MODEL_CLASS}/${MODEL_DIR}/conda.yaml ./conda.yaml \\n\\x1b[36mINFO\\x1b[0m[0033] Taking snapshot of files...                  \\n\\x1b[36mINFO\\x1b[0m[0033] RUN conda env create --name $CONDA_ENV --file ./conda.yaml \\n\\x1b[36mINFO\\x1b[0m[0034] cmd: /bin/sh                                 \\n\\x1b[36mINFO\\x1b[0m[0034] args: [-c conda env create --name $CONDA_ENV --file ./conda.yaml] \\n\\x1b[36mINFO\\x1b[0m[0034] Running: [/bin/sh -c conda env create --name $CONDA_ENV --file ./conda.yaml] \\nCollecting package metadata (repodata.json): ...working... done\\nSolving environment: ...working... done\\n\\n\\n==> WARNING: A newer version of conda exists. <==\\n  current version: 4.12.0\\n  latest version: 23.5.0\\n\\nPlease update conda by running\\n\\n    $ conda update -n base -c defaults conda\\n\\n\\n\\nDownloading and Extracting Packages\\n\\rtzdata-2023c         | 115 KB    |            |   0% \\rtzdata-2023c         | 115 KB    | ########## | 100% \\rtzdata-2023c         | 115 KB    | ########## | 100% \\n\\r_libgcc_mutex-0.1    | 3 KB      |            |   0% \\r_libgcc_mutex-0.1    | 3 KB      | ########## | 100% \\n\\rlibnsl-2.0.0         | 31 KB     |            |   0% \\rlibnsl-2.0.0         | 31 KB     | ########## | 100% \\n\\rpython-3.10.12       | 24.4 MB   |            |   0% \\rpython-3.10.12       | 24.4 MB   | ####6      |  47% \\rpython-3.10.12       | 24.4 MB   | ########## | 100% \\rpython-3.10.12       | 24.4 MB   | ########## | 100% \\n\\rbzip2-1.0.8          | 484 KB    |            |   0% \\rbzip2-1.0.8          | 484 KB    | ########## | 100% \\n\\rlibsqlite-3.42.0     | 809 KB    |            |   0% \\rlibsqlite-3.42.0     | 809 KB    | ########## | 100% \\n\\rlibgcc-ng-13.1.0     | 758 KB    |            |   0% \\rlibgcc-ng-13.1.0     | 758 KB    | ########## | 100% \\n\\rsetuptools-68.0.0    | 453 KB    |            |   0% \\rsetuptools-68.0.0    | 453 KB    | ########## | 100% \\n\\rlibffi-3.4.2         | 57 KB     |            |   0% \\rlibffi-3.4.2         | 57 KB     | ########## | 100% \\n\\rlibgomp-13.1.0       | 409 KB    |            |   0% \\rlibgomp-13.1.0       | 409 KB    | ########## | 100% \\n\\rxz-5.2.6             | 409 KB    |            |   0% \\rxz-5.2.6             | 409 KB    | ########## | 100% \\rxz-5.2.6             | 409 KB    | ########## | 100% \\n\\rwheel-0.40.0         | 54 KB     |            |   0% \\rwheel-0.40.0         | 54 KB     | ########## | 100% \\n\\rtk-8.6.12            | 3.3 MB    |            |   0% \\rtk-8.6.12            | 3.3 MB    | ########## | 100% \\rtk-8.6.12            | 3.3 MB    | ########## | 100% \\n\\rld_impl_linux-64-2.4 | 688 KB    |            |   0% \\rld_impl_linux-64-2.4 | 688 KB    | ########## | 100% \\n\\rlibzlib-1.2.13       | 60 KB     |            |   0% \\rlibzlib-1.2.13       | 60 KB     | ########## | 100% \\n\\ropenssl-3.1.1        | 2.5 MB    |            |   0% \\ropenssl-3.1.1        | 2.5 MB    | ########## | 100% \\n\\r_openmp_mutex-4.5    | 23 KB     |            |   0% \\r_openmp_mutex-4.5    | 23 KB     | ########## | 100% \\n\\rca-certificates-2023 | 145 KB    |            |   0% \\rca-certificates-2023 | 145 KB    | ########## | 100% \\n\\rlibuuid-2.38.1       | 33 KB     |            |   0% \\rlibuuid-2.38.1       | 33 KB     | ########## | 100% \\n\\rreadline-8.2         | 275 KB    |            |   0% \\rreadline-8.2         | 275 KB    | ########## | 100% \\n\\rpip-23.1.2           | 1.3 MB    |            |   0% \\rpip-23.1.2           | 1.3 MB    | ########## | 100% \\n\\rncurses-6.4          | 860 KB    |            |   0% \\rncurses-6.4          | 860 KB    | ########## | 100% \\rncurses-6.4          | 860 KB    | ########## | 100% \\nPreparing transaction: ...working... done\\nVerifying transaction: ...working... done\\nExecuting transaction: ...working... done\\nInstalling pip dependencies: ...working... Ran pip subprocess with arguments:\\n[\\'/opt/conda/envs/chassis-env/bin/python\\', \\'-m\\', \\'pip\\', \\'install\\', \\'-U\\', \\'-r\\', \\'/app/condaenv.53_0pqm9.requirements.txt\\']\\nPip subprocess output:\\nCollecting mlflow==2.4 (from -r /app/condaenv.53_0pqm9.requirements.txt (line 1))\\n  Downloading mlflow-2.4.0-py3-none-any.whl (18.1 MB)\\nPip subprocess error:\\nERROR: Cannot install -r /app/condaenv.53_0pqm9.requirements.txt (line 1), -r /app/condaenv.53_0pqm9.requirements.txt (line 2), -r /app/condaenv.53_0pqm9.requirements.txt (line 5) and protobuf==3.19.4 because these package versions have conflicting dependencies.\\nERROR: ResolutionImpossible: for help visit https://pip.pypa.io/en/latest/topics/dependency-resolution/#dealing-with-dependency-conflicts\\n\\n     ━━━━━━━━━━━━━━━━━━━━━━━━━━━━━━━━━━━━━━━━ 18.1/18.1 MB 71.5 MB/s eta 0:00:00\\nCollecting chassisml==1.4.13 (from -r /app/condaenv.53_0pqm9.requirements.txt (line 2))\\n  Downloading chassisml-1.4.13-py3-none-any.whl (35 kB)\\nCollecting cloudpickle==2.2.1 (from -r /app/condaenv.53_0pqm9.requirements.txt (line 3))\\n  Downloading cloudpickle-2.2.1-py3-none-any.whl (25 kB)\\nCollecting docker==6.1.3 (from -r /app/condaenv.53_0pqm9.requirements.txt (line 4))\\n  Downloading docker-6.1.3-py3-none-any.whl (148 kB)\\n     ━━━━━━━━━━━━━━━━━━━━━━━━━━━━━━━━━━━━━━ 148.1/148.1 kB 44.6 MB/s eta 0:00:00\\nCollecting google-cloud-bigquery-connection==1.12.0 (from -r /app/condaenv.53_0pqm9.requirements.txt (line 5))\\n  Downloading google_cloud_bigquery_connection-1.12.0-py2.py3-none-any.whl (56 kB)\\n     ━━━━━━━━━━━━━━━━━━━━━━━━━━━━━━━━━━━━━━━━ 56.6/56.6 kB 21.7 MB/s eta 0:00:00\\nCollecting google-cloud-bigquery-storage==2.20.0 (from -r /app/condaenv.53_0pqm9.requirements.txt (line 6))\\n  Downloading google_cloud_bigquery_storage-2.20.0-py2.py3-none-any.whl (190 kB)\\n     ━━━━━━━━━━━━━━━━━━━━━━━━━━━━━━━━━━━━━━ 190.6/190.6 kB 49.6 MB/s eta 0:00:00\\nCollecting google-cloud-bigquery==3.10.0 (from -r /app/condaenv.53_0pqm9.requirements.txt (line 7))\\n  Downloading google_cloud_bigquery-3.10.0-py2.py3-none-any.whl (218 kB)\\n     ━━━━━━━━━━━━━━━━━━━━━━━━━━━━━━━━━━━━━━ 218.4/218.4 kB 57.4 MB/s eta 0:00:00\\nCollecting google-cloud-datastore==2.15.2 (from -r /app/condaenv.53_0pqm9.requirements.txt (line 8))\\n  Downloading google_cloud_datastore-2.15.2-py2.py3-none-any.whl (175 kB)\\n     ━━━━━━━━━━━━━━━━━━━━━━━━━━━━━━━━━━━━━━ 175.4/175.4 kB 51.3 MB/s eta 0:00:00\\nCollecting google-cloud-firestore==2.11.1 (from -r /app/condaenv.53_0pqm9.requirements.txt (line 9))\\n  Downloading google_cloud_firestore-2.11.1-py2.py3-none-any.whl (283 kB)\\n     ━━━━━━━━━━━━━━━━━━━━━━━━━━━━━━━━━━━━━━ 283.8/283.8 kB 61.6 MB/s eta 0:00:00\\nCollecting google-cloud-functions==1.13.0 (from -r /app/condaenv.53_0pqm9.requirements.txt (line 10))\\n  Downloading google_cloud_functions-1.13.0-py2.py3-none-any.whl (129 kB)\\n     ━━━━━━━━━━━━━━━━━━━━━━━━━━━━━━━━━━━━━━ 129.0/129.0 kB 40.4 MB/s eta 0:00:00\\nCollecting google-cloud-language==2.9.1 (from -r /app/condaenv.53_0pqm9.requirements.txt (line 11))\\n  Downloading google_cloud_language-2.9.1-py2.py3-none-any.whl (99 kB)\\n     ━━━━━━━━━━━━━━━━━━━━━━━━━━━━━━━━━━━━━━━━ 99.2/99.2 kB 34.0 MB/s eta 0:00:00\\nCollecting google-cloud-translate==3.11.1 (from -r /app/condaenv.53_0pqm9.requirements.txt (line 12))\\n  Downloading google_cloud_translate-3.11.1-py2.py3-none-any.whl (128 kB)\\n     ━━━━━━━━━━━━━━━━━━━━━━━━━━━━━━━━━━━━━━ 128.4/128.4 kB 37.3 MB/s eta 0:00:00\\nCollecting numpy==1.22.4 (from -r /app/condaenv.53_0pqm9.requirements.txt (line 13))\\n  Downloading numpy-1.22.4-cp310-cp310-manylinux_2_17_x86_64.manylinux2014_x86_64.whl (16.8 MB)\\n     ━━━━━━━━━━━━━━━━━━━━━━━━━━━━━━━━━━━━━━━━ 16.8/16.8 MB 82.6 MB/s eta 0:00:00\\nCollecting opencv-contrib-python==4.7.0.72 (from -r /app/condaenv.53_0pqm9.requirements.txt (line 14))\\n  Downloading opencv_contrib_python-4.7.0.72-cp37-abi3-manylinux_2_17_x86_64.manylinux2014_x86_64.whl (67.9 MB)\\n     ━━━━━━━━━━━━━━━━━━━━━━━━━━━━━━━━━━━━━━━━ 67.9/67.9 MB 28.7 MB/s eta 0:00:00\\nCollecting opencv-python-headless==4.7.0.72 (from -r /app/condaenv.53_0pqm9.requirements.txt (line 15))\\n  Downloading opencv_python_headless-4.7.0.72-cp37-abi3-manylinux_2_17_x86_64.manylinux2014_x86_64.whl (49.2 MB)\\n     ━━━━━━━━━━━━━━━━━━━━━━━━━━━━━━━━━━━━━━━━ 49.2/49.2 MB 43.9 MB/s eta 0:00:00\\nCollecting packaging==23.1 (from -r /app/condaenv.53_0pqm9.requirements.txt (line 16))\\n  Downloading packaging-23.1-py3-none-any.whl (48 kB)\\n     ━━━━━━━━━━━━━━━━━━━━━━━━━━━━━━━━━━━━━━━━ 48.9/48.9 kB 17.9 MB/s eta 0:00:00\\nCollecting pathlib==1.0.1 (from -r /app/condaenv.53_0pqm9.requirements.txt (line 17))\\n  Downloading pathlib-1.0.1-py3-none-any.whl (14 kB)\\nCollecting protobuf==3.19.4 (from -r /app/condaenv.53_0pqm9.requirements.txt (line 18))\\n  Downloading protobuf-3.19.4-cp310-cp310-manylinux_2_17_x86_64.manylinux2014_x86_64.whl (1.1 MB)\\n     ━━━━━━━━━━━━━━━━━━━━━━━━━━━━━━━━━━━━━━━━ 1.1/1.1 MB 117.1 MB/s eta 0:00:00\\nCollecting pyyaml==6.0 (from -r /app/condaenv.53_0pqm9.requirements.txt (line 19))\\n  Downloading PyYAML-6.0-cp310-cp310-manylinux_2_5_x86_64.manylinux1_x86_64.manylinux_2_12_x86_64.manylinux2010_x86_64.whl (682 kB)\\n     ━━━━━━━━━━━━━━━━━━━━━━━━━━━━━━━━━━━━━ 682.2/682.2 kB 100.2 MB/s eta 0:00:00\\nCollecting requests==2.27.1 (from -r /app/condaenv.53_0pqm9.requirements.txt (line 20))\\n  Downloading requests-2.27.1-py2.py3-none-any.whl (63 kB)\\n     ━━━━━━━━━━━━━━━━━━━━━━━━━━━━━━━━━━━━━━━━ 63.1/63.1 kB 24.5 MB/s eta 0:00:00\\nCollecting scikit-learn==1.2.2 (from -r /app/condaenv.53_0pqm9.requirements.txt (line 21))\\n  Downloading scikit_learn-1.2.2-cp310-cp310-manylinux_2_17_x86_64.manylinux2014_x86_64.whl (9.6 MB)\\n     ━━━━━━━━━━━━━━━━━━━━━━━━━━━━━━━━━━━━━━━━ 9.6/9.6 MB 111.6 MB/s eta 0:00:00\\nCollecting scipy==1.10.1 (from -r /app/condaenv.53_0pqm9.requirements.txt (line 22))\\n  Downloading scipy-1.10.1-cp310-cp310-manylinux_2_17_x86_64.manylinux2014_x86_64.whl (34.4 MB)\\n     ━━━━━━━━━━━━━━━━━━━━━━━━━━━━━━━━━━━━━━━━ 34.4/34.4 MB 51.7 MB/s eta 0:00:00\\nCollecting click<9,>=7.0 (from mlflow==2.4->-r /app/condaenv.53_0pqm9.requirements.txt (line 1))\\n  Downloading click-8.1.3-py3-none-any.whl (96 kB)\\n     ━━━━━━━━━━━━━━━━━━━━━━━━━━━━━━━━━━━━━━━━ 96.6/96.6 kB 34.9 MB/s eta 0:00:00\\nCollecting databricks-cli<1,>=0.8.7 (from mlflow==2.4->-r /app/condaenv.53_0pqm9.requirements.txt (line 1))\\n  Downloading databricks-cli-0.17.7.tar.gz (83 kB)\\n     ━━━━━━━━━━━━━━━━━━━━━━━━━━━━━━━━━━━━━━━━ 83.5/83.5 kB 31.4 MB/s eta 0:00:00\\n  Preparing metadata (setup.py): started\\n  Preparing metadata (setup.py): finished with status \\'done\\'\\nCollecting entrypoints<1 (from mlflow==2.4->-r /app/condaenv.53_0pqm9.requirements.txt (line 1))\\n  Downloading entrypoints-0.4-py3-none-any.whl (5.3 kB)\\nCollecting gitpython<4,>=2.1.0 (from mlflow==2.4->-r /app/condaenv.53_0pqm9.requirements.txt (line 1))\\n  Downloading GitPython-3.1.31-py3-none-any.whl (184 kB)\\n     ━━━━━━━━━━━━━━━━━━━━━━━━━━━━━━━━━━━━━━ 184.3/184.3 kB 48.6 MB/s eta 0:00:00\\nCollecting pytz<2024 (from mlflow==2.4->-r /app/condaenv.53_0pqm9.requirements.txt (line 1))\\n  Downloading pytz-2023.3-py2.py3-none-any.whl (502 kB)\\n     ━━━━━━━━━━━━━━━━━━━━━━━━━━━━━━━━━━━━━━ 502.3/502.3 kB 90.6 MB/s eta 0:00:00\\nCollecting importlib-metadata!=4.7.0,<7,>=3.7.0 (from mlflow==2.4->-r /app/condaenv.53_0pqm9.requirements.txt (line 1))\\n  Downloading importlib_metadata-6.7.0-py3-none-any.whl (22 kB)\\nCollecting sqlparse<1,>=0.4.0 (from mlflow==2.4->-r /app/condaenv.53_0pqm9.requirements.txt (line 1))\\n  Downloading sqlparse-0.4.4-py3-none-any.whl (41 kB)\\n     ━━━━━━━━━━━━━━━━━━━━━━━━━━━━━━━━━━━━━━━━ 41.2/41.2 kB 14.4 MB/s eta 0:00:00\\nCollecting alembic!=1.10.0,<2 (from mlflow==2.4->-r /app/condaenv.53_0pqm9.requirements.txt (line 1))\\n  Downloading alembic-1.11.1-py3-none-any.whl (224 kB)\\n     ━━━━━━━━━━━━━━━━━━━━━━━━━━━━━━━━━━━━━━ 224.5/224.5 kB 55.9 MB/s eta 0:00:00\\nCollecting Flask<3 (from mlflow==2.4->-r /app/condaenv.53_0pqm9.requirements.txt (line 1))\\n  Downloading Flask-2.3.2-py3-none-any.whl (96 kB)\\n     ━━━━━━━━━━━━━━━━━━━━━━━━━━━━━━━━━━━━━━━━ 96.9/96.9 kB 35.2 MB/s eta 0:00:00\\nCollecting pandas<3 (from mlflow==2.4->-r /app/condaenv.53_0pqm9.requirements.txt (line 1))\\n  Downloading pandas-2.0.3-cp310-cp310-manylinux_2_17_x86_64.manylinux2014_x86_64.whl (12.3 MB)\\n     ━━━━━━━━━━━━━━━━━━━━━━━━━━━━━━━━━━━━━━━ 12.3/12.3 MB 119.5 MB/s eta 0:00:00\\nCollecting querystring-parser<2 (from mlflow==2.4->-r /app/condaenv.53_0pqm9.requirements.txt (line 1))\\n  Downloading querystring_parser-1.2.4-py2.py3-none-any.whl (7.9 kB)\\nCollecting sqlalchemy<3,>=1.4.0 (from mlflow==2.4->-r /app/condaenv.53_0pqm9.requirements.txt (line 1))\\n  Downloading SQLAlchemy-2.0.17-cp310-cp310-manylinux_2_17_x86_64.manylinux2014_x86_64.whl (2.7 MB)\\n     ━━━━━━━━━━━━━━━━━━━━━━━━━━━━━━━━━━━━━━━━ 2.7/2.7 MB 112.2 MB/s eta 0:00:00\\nCollecting pyarrow<13,>=4.0.0 (from mlflow==2.4->-r /app/condaenv.53_0pqm9.requirements.txt (line 1))\\n  Downloading pyarrow-12.0.1-cp310-cp310-manylinux_2_17_x86_64.manylinux2014_x86_64.whl (38.9 MB)\\n     ━━━━━━━━━━━━━━━━━━━━━━━━━━━━━━━━━━━━━━━━ 38.9/38.9 MB 49.8 MB/s eta 0:00:00\\nCollecting markdown<4,>=3.3 (from mlflow==2.4->-r /app/condaenv.53_0pqm9.requirements.txt (line 1))\\n  Downloading Markdown-3.4.3-py3-none-any.whl (93 kB)\\n     ━━━━━━━━━━━━━━━━━━━━━━━━━━━━━━━━━━━━━━━━ 93.9/93.9 kB 33.0 MB/s eta 0:00:00\\nCollecting matplotlib<4 (from mlflow==2.4->-r /app/condaenv.53_0pqm9.requirements.txt (line 1))\\n  Downloading matplotlib-3.7.1-cp310-cp310-manylinux_2_17_x86_64.manylinux2014_x86_64.whl (11.6 MB)\\n     ━━━━━━━━━━━━━━━━━━━━━━━━━━━━━━━━━━━━━━━ 11.6/11.6 MB 101.4 MB/s eta 0:00:00\\nCollecting gunicorn<21 (from mlflow==2.4->-r /app/condaenv.53_0pqm9.requirements.txt (line 1))\\n  Downloading gunicorn-20.1.0-py3-none-any.whl (79 kB)\\n     ━━━━━━━━━━━━━━━━━━━━━━━━━━━━━━━━━━━━━━━━ 79.5/79.5 kB 28.8 MB/s eta 0:00:00\\nCollecting Jinja2<4,>=2.11 (from mlflow==2.4->-r /app/condaenv.53_0pqm9.requirements.txt (line 1))\\n  Downloading Jinja2-3.1.2-py3-none-any.whl (133 kB)\\n     ━━━━━━━━━━━━━━━━━━━━━━━━━━━━━━━━━━━━━━ 133.1/133.1 kB 42.9 MB/s eta 0:00:00\\nCollecting validators (from chassisml==1.4.13->-r /app/condaenv.53_0pqm9.requirements.txt (line 2))\\n  Downloading validators-0.20.0.tar.gz (30 kB)\\n  Preparing metadata (setup.py): started\\n  Preparing metadata (setup.py): finished with status \\'done\\'\\nCollecting grpc-requests (from chassisml==1.4.13->-r /app/condaenv.53_0pqm9.requirements.txt (line 2))\\n  Downloading grpc_requests-0.1.10-py3-none-any.whl (28 kB)\\nCollecting grpcio (from chassisml==1.4.13->-r /app/condaenv.53_0pqm9.requirements.txt (line 2))\\n  Downloading grpcio-1.56.0-cp310-cp310-manylinux_2_17_x86_64.manylinux2014_x86_64.whl (5.2 MB)\\n     ━━━━━━━━━━━━━━━━━━━━━━━━━━━━━━━━━━━━━━━━ 5.2/5.2 MB 137.7 MB/s eta 0:00:00\\nCollecting urllib3>=1.26.0 (from docker==6.1.3->-r /app/condaenv.53_0pqm9.requirements.txt (line 4))\\n  Downloading urllib3-2.0.3-py3-none-any.whl (123 kB)\\n     ━━━━━━━━━━━━━━━━━━━━━━━━━━━━━━━━━━━━━━ 123.6/123.6 kB 42.2 MB/s eta 0:00:00\\nCollecting websocket-client>=0.32.0 (from docker==6.1.3->-r /app/condaenv.53_0pqm9.requirements.txt (line 4))\\n  Downloading websocket_client-1.6.1-py3-none-any.whl (56 kB)\\n     ━━━━━━━━━━━━━━━━━━━━━━━━━━━━━━━━━━━━━━━━ 56.9/56.9 kB 22.2 MB/s eta 0:00:00\\nCollecting google-api-core[grpc]!=2.0.*,!=2.1.*,!=2.10.*,!=2.2.*,!=2.3.*,!=2.4.*,!=2.5.*,!=2.6.*,!=2.7.*,!=2.8.*,!=2.9.*,<3.0.0dev,>=1.34.0 (from google-cloud-bigquery-connection==1.12.0->-r /app/condaenv.53_0pqm9.requirements.txt (line 5))\\n  Downloading google_api_core-2.11.1-py3-none-any.whl (120 kB)\\n     ━━━━━━━━━━━━━━━━━━━━━━━━━━━━━━━━━━━━━━ 120.5/120.5 kB 37.1 MB/s eta 0:00:00\\nCollecting proto-plus<2.0.0dev,>=1.22.0 (from google-cloud-bigquery-connection==1.12.0->-r /app/condaenv.53_0pqm9.requirements.txt (line 5))\\n  Downloading proto_plus-1.22.3-py3-none-any.whl (48 kB)\\n     ━━━━━━━━━━━━━━━━━━━━━━━━━━━━━━━━━━━━━━━━ 48.1/48.1 kB 17.5 MB/s eta 0:00:00\\nINFO: pip is looking at multiple versions of google-cloud-bigquery-connection to determine which version is compatible with other requirements. This could take a while.\\n\\nThe conflict is caused by:\\n    The user requested protobuf==3.19.4\\n    mlflow 2.4.0 depends on protobuf<5 and >=3.12.0\\n    chassisml 1.4.13 depends on protobuf==3.19.4\\n    google-cloud-bigquery-connection 1.12.0 depends on protobuf!=3.20.0, !=3.20.1, !=4.21.0, !=4.21.1, !=4.21.2, !=4.21.3, !=4.21.4, !=4.21.5, <5.0.0dev and >=3.19.5\\n\\nTo fix this you could try to:\\n1. loosen the range of package versions you\\'ve specified\\n2. remove package versions to allow pip attempt to solve the dependency conflict\\n\\n\\nfailed\\n\\nCondaEnvException: Pip failed\\n\\nerror building image: error building stage: failed to execute command: waiting for process to exit: exit status 1\\n', 'result': None, 'status': {'active': None, 'completion_time': None, 'conditions': [{'last_probe_time': 'Mon, 03 Jul 2023 19:02:49 GMT', 'last_transition_time': 'Mon, 03 Jul 2023 19:02:49 GMT', 'message': 'Job has reached the specified backoff limit', 'reason': 'BackoffLimitExceeded', 'status': 'True', 'type': 'Failed'}], 'failed': 1, 'start_time': 'Mon, 03 Jul 2023 19:00:37 GMT', 'succeeded': None}}\n"
          ]
        }
      ]
    },
    {
      "cell_type": "markdown",
      "source": [],
      "metadata": {
        "id": "bB7Q6u3OOPgi"
      }
    },
    {
      "cell_type": "code",
      "source": [
        "print(final_status)"
      ],
      "metadata": {
        "colab": {
          "base_uri": "https://localhost:8080/"
        },
        "id": "8_KMVBDaOIhq",
        "outputId": "9501d421-6dd6-45a4-f18e-4b23582513c7"
      },
      "execution_count": null,
      "outputs": [
        {
          "output_type": "stream",
          "name": "stdout",
          "text": [
            "{'logs': '\\x1b[36mINFO\\x1b[0m[0000] Retrieving image manifest continuumio/miniconda3:4.12.0 \\n\\x1b[36mINFO\\x1b[0m[0000] Retrieving image continuumio/miniconda3:4.12.0 from registry index.docker.io \\n\\x1b[36mINFO\\x1b[0m[0000] Built cross stage deps: map[]                \\n\\x1b[36mINFO\\x1b[0m[0000] Retrieving image manifest continuumio/miniconda3:4.12.0 \\n\\x1b[36mINFO\\x1b[0m[0000] Returning cached image manifest              \\n\\x1b[36mINFO\\x1b[0m[0000] Executing 0 build triggers                   \\n\\x1b[36mINFO\\x1b[0m[0000] Unpacking rootfs as cmd RUN apt-get update && apt-get install -y build-essential cmake requires it. \\n\\x1b[36mINFO\\x1b[0m[0005] Taking snapshot of full filesystem...        \\n\\x1b[36mINFO\\x1b[0m[0009] ARG MODEL_DIR                                \\n\\x1b[36mINFO\\x1b[0m[0009] ARG MODEL_NAME                               \\n\\x1b[36mINFO\\x1b[0m[0009] ARG MODEL_CLASS                              \\n\\x1b[36mINFO\\x1b[0m[0009] ARG INTERFACE                                \\n\\x1b[36mINFO\\x1b[0m[0009] ARG MODZY_METADATA_PATH                      \\n\\x1b[36mINFO\\x1b[0m[0009] LABEL ml.openmodel.interfaces=[\"${INTERFACE}\"] \\n\\x1b[36mINFO\\x1b[0m[0009] Applying label ml.openmodel.interfaces=[modzy] \\n\\x1b[36mINFO\\x1b[0m[0009] LABEL ml.openml.model_name=\"${MODEL_NAME}\"   \\n\\x1b[36mINFO\\x1b[0m[0009] Applying label ml.openml.model_name=Sample ML Model \\n\\x1b[36mINFO\\x1b[0m[0009] LABEL ml.openmodel.protocols=[[\"v2\"]]        \\n\\x1b[36mINFO\\x1b[0m[0009] Applying label ml.openmodel.protocols=[[v2]] \\n\\x1b[36mINFO\\x1b[0m[0009] LABEL ml.openmodel.port=\"45000\"              \\n\\x1b[36mINFO\\x1b[0m[0009] Applying label ml.openmodel.port=45000       \\n\\x1b[36mINFO\\x1b[0m[0009] WORKDIR /app                                 \\n\\x1b[36mINFO\\x1b[0m[0009] cmd: workdir                                 \\n\\x1b[36mINFO\\x1b[0m[0009] Changed working directory to /app            \\n\\x1b[36mINFO\\x1b[0m[0009] Creating directory /app                      \\n\\x1b[36mINFO\\x1b[0m[0009] Taking snapshot of files...                  \\n\\x1b[36mINFO\\x1b[0m[0009] RUN apt-get update && apt-get install -y build-essential cmake \\n\\x1b[36mINFO\\x1b[0m[0010] cmd: /bin/sh                                 \\n\\x1b[36mINFO\\x1b[0m[0010] args: [-c apt-get update && apt-get install -y build-essential cmake] \\n\\x1b[36mINFO\\x1b[0m[0010] Running: [/bin/sh -c apt-get update && apt-get install -y build-essential cmake] \\nGet:1 http://deb.debian.org/debian bullseye InRelease [116 kB]\\nGet:2 http://security.debian.org/debian-security bullseye-security InRelease [48.4 kB]\\nGet:3 http://deb.debian.org/debian bullseye-updates InRelease [44.1 kB]\\nGet:4 http://security.debian.org/debian-security bullseye-security/main amd64 Packages [246 kB]\\nGet:5 http://deb.debian.org/debian bullseye/main amd64 Packages [8183 kB]\\nGet:6 http://deb.debian.org/debian bullseye-updates/main amd64 Packages [14.8 kB]\\nFetched 8652 kB in 1s (7104 kB/s)\\nReading package lists...\\nReading package lists...\\nBuilding dependency tree...\\nReading state information...\\nThe following additional packages will be installed:\\n  binutils binutils-common binutils-x86-64-linux-gnu cmake-data cpp cpp-10\\n  dirmngr dpkg-dev fakeroot fontconfig-config fonts-dejavu-core g++ g++-10 gcc\\n  gcc-10 gnupg gnupg-l10n gnupg-utils gpg gpg-agent gpg-wks-client\\n  gpg-wks-server gpgconf gpgsm gpgv libalgorithm-diff-perl\\n  libalgorithm-diff-xs-perl libalgorithm-merge-perl libarchive13 libasan6\\n  libassuan0 libatomic1 libbinutils libc-dev-bin libc-devtools libc6 libc6-dev\\n  libcc1-0 libcrypt-dev libctf-nobfd0 libctf0 libcurl4 libdeflate0\\n  libdpkg-perl libfakeroot libfile-fcntllock-perl libfontconfig1 libfreetype6\\n  libgcc-10-dev libgd3 libgomp1 libicu67 libisl23 libitm1 libjbig0\\n  libjpeg62-turbo libjsoncpp24 libksba8 liblocale-gettext-perl liblsan0\\n  libmpc3 libmpfr6 libnpth0 libnsl-dev libpng16-16 libquadmath0 librhash0\\n  libstdc++-10-dev libtiff5 libtirpc-common libtirpc-dev libtirpc3 libtsan0\\n  libubsan1 libuv1 libwebp6 libxml2 libxpm4 linux-libc-dev make manpages\\n  manpages-dev patch pinentry-curses xz-utils\\nSuggested packages:\\n  binutils-doc cmake-doc ninja-build cpp-doc gcc-10-locales dbus-user-session\\n  libpam-systemd pinentry-gnome3 tor debian-keyring g++-multilib\\n  g++-10-multilib gcc-10-doc gcc-multilib autoconf automake libtool flex bison\\n  gdb gcc-doc gcc-10-multilib parcimonie xloadimage scdaemon lrzip glibc-doc\\n  libc-l10n locales bzr libgd-tools libstdc++-10-doc make-doc man-browser ed\\n  diffutils-doc pinentry-doc\\nRecommended packages:\\n  libnss-nis libnss-nisplus\\nThe following NEW packages will be installed:\\n  binutils binutils-common binutils-x86-64-linux-gnu build-essential cmake\\n  cmake-data cpp cpp-10 dirmngr dpkg-dev fakeroot fontconfig-config\\n  fonts-dejavu-core g++ g++-10 gcc gcc-10 gnupg gnupg-l10n gnupg-utils gpg\\n  gpg-agent gpg-wks-client gpg-wks-server gpgconf gpgsm libalgorithm-diff-perl\\n  libalgorithm-diff-xs-perl libalgorithm-merge-perl libarchive13 libasan6\\n  libassuan0 libatomic1 libbinutils libc-dev-bin libc-devtools libc6-dev\\n  libcc1-0 libcrypt-dev libctf-nobfd0 libctf0 libcurl4 libdeflate0\\n  libdpkg-perl libfakeroot libfile-fcntllock-perl libfontconfig1 libfreetype6\\n  libgcc-10-dev libgd3 libgomp1 libicu67 libisl23 libitm1 libjbig0\\n  libjpeg62-turbo libjsoncpp24 libksba8 liblocale-gettext-perl liblsan0\\n  libmpc3 libmpfr6 libnpth0 libnsl-dev libpng16-16 libquadmath0 librhash0\\n  libstdc++-10-dev libtiff5 libtirpc-dev libtsan0 libubsan1 libuv1 libwebp6\\n  libxml2 libxpm4 linux-libc-dev make manpages manpages-dev patch\\n  pinentry-curses xz-utils\\nThe following packages will be upgraded:\\n  gpgv libc6 libtirpc-common libtirpc3\\n4 upgraded, 83 newly installed, 0 to remove and 33 not upgraded.\\nNeed to get 98.3 MB of archives.\\nAfter this operation, 329 MB of additional disk space will be used.\\nGet:1 http://deb.debian.org/debian bullseye/main amd64 libc6 amd64 2.31-13+deb11u6 [2827 kB]\\nGet:2 http://security.debian.org/debian-security bullseye-security/main amd64 linux-libc-dev amd64 5.10.179-1 [1618 kB]\\nGet:3 http://security.debian.org/debian-security bullseye-security/main amd64 libwebp6 amd64 0.6.1-2.1+deb11u1 [258 kB]\\nGet:4 http://deb.debian.org/debian bullseye/main amd64 liblocale-gettext-perl amd64 1.07-4+b1 [19.0 kB]\\nGet:5 http://deb.debian.org/debian bullseye/main amd64 gpgv amd64 2.2.27-2+deb11u2 [626 kB]\\nGet:6 http://deb.debian.org/debian bullseye/main amd64 libtirpc-common all 1.3.1-1+deb11u1 [13.5 kB]\\nGet:7 http://deb.debian.org/debian bullseye/main amd64 libtirpc3 amd64 1.3.1-1+deb11u1 [84.1 kB]\\nGet:8 http://deb.debian.org/debian bullseye/main amd64 manpages all 5.10-1 [1412 kB]\\nGet:9 http://deb.debian.org/debian bullseye/main amd64 xz-utils amd64 5.2.5-2.1~deb11u1 [220 kB]\\nGet:10 http://deb.debian.org/debian bullseye/main amd64 binutils-common amd64 2.35.2-2 [2220 kB]\\nGet:11 http://deb.debian.org/debian bullseye/main amd64 libbinutils amd64 2.35.2-2 [570 kB]\\nGet:12 http://deb.debian.org/debian bullseye/main amd64 libctf-nobfd0 amd64 2.35.2-2 [110 kB]\\nGet:13 http://deb.debian.org/debian bullseye/main amd64 libctf0 amd64 2.35.2-2 [53.2 kB]\\nGet:14 http://deb.debian.org/debian bullseye/main amd64 binutils-x86-64-linux-gnu amd64 2.35.2-2 [1809 kB]\\nGet:15 http://deb.debian.org/debian bullseye/main amd64 binutils amd64 2.35.2-2 [61.2 kB]\\nGet:16 http://deb.debian.org/debian bullseye/main amd64 libc-dev-bin amd64 2.31-13+deb11u6 [276 kB]\\nGet:17 http://deb.debian.org/debian bullseye/main amd64 libcrypt-dev amd64 1:4.4.18-4 [104 kB]\\nGet:18 http://deb.debian.org/debian bullseye/main amd64 libtirpc-dev amd64 1.3.1-1+deb11u1 [191 kB]\\nGet:19 http://deb.debian.org/debian bullseye/main amd64 libnsl-dev amd64 1.3.0-2 [66.4 kB]\\nGet:20 http://deb.debian.org/debian bullseye/main amd64 libc6-dev amd64 2.31-13+deb11u6 [2360 kB]\\nGet:21 http://deb.debian.org/debian bullseye/main amd64 libisl23 amd64 0.23-1 [676 kB]\\nGet:22 http://deb.debian.org/debian bullseye/main amd64 libmpfr6 amd64 4.1.0-3 [2012 kB]\\nGet:23 http://deb.debian.org/debian bullseye/main amd64 libmpc3 amd64 1.2.0-1 [45.0 kB]\\nGet:24 http://deb.debian.org/debian bullseye/main amd64 cpp-10 amd64 10.2.1-6 [8528 kB]\\nGet:25 http://deb.debian.org/debian bullseye/main amd64 cpp amd64 4:10.2.1-1 [19.7 kB]\\nGet:26 http://deb.debian.org/debian bullseye/main amd64 libcc1-0 amd64 10.2.1-6 [47.0 kB]\\nGet:27 http://deb.debian.org/debian bullseye/main amd64 libgomp1 amd64 10.2.1-6 [99.9 kB]\\nGet:28 http://deb.debian.org/debian bullseye/main amd64 libitm1 amd64 10.2.1-6 [25.8 kB]\\nGet:29 http://deb.debian.org/debian bullseye/main amd64 libatomic1 amd64 10.2.1-6 [9008 B]\\nGet:30 http://deb.debian.org/debian bullseye/main amd64 libasan6 amd64 10.2.1-6 [2065 kB]\\nGet:31 http://deb.debian.org/debian bullseye/main amd64 liblsan0 amd64 10.2.1-6 [828 kB]\\nGet:32 http://deb.debian.org/debian bullseye/main amd64 libtsan0 amd64 10.2.1-6 [2000 kB]\\nGet:33 http://deb.debian.org/debian bullseye/main amd64 libubsan1 amd64 10.2.1-6 [777 kB]\\nGet:34 http://deb.debian.org/debian bullseye/main amd64 libquadmath0 amd64 10.2.1-6 [145 kB]\\nGet:35 http://deb.debian.org/debian bullseye/main amd64 libgcc-10-dev amd64 10.2.1-6 [2328 kB]\\nGet:36 http://deb.debian.org/debian bullseye/main amd64 gcc-10 amd64 10.2.1-6 [17.0 MB]\\nGet:37 http://deb.debian.org/debian bullseye/main amd64 gcc amd64 4:10.2.1-1 [5192 B]\\nGet:38 http://deb.debian.org/debian bullseye/main amd64 libstdc++-10-dev amd64 10.2.1-6 [1741 kB]\\nGet:39 http://deb.debian.org/debian bullseye/main amd64 g++-10 amd64 10.2.1-6 [9380 kB]\\nGet:40 http://deb.debian.org/debian bullseye/main amd64 g++ amd64 4:10.2.1-1 [1644 B]\\nGet:41 http://deb.debian.org/debian bullseye/main amd64 make amd64 4.3-4.1 [396 kB]\\nGet:42 http://deb.debian.org/debian bullseye/main amd64 libdpkg-perl all 1.20.12 [1551 kB]\\nGet:43 http://deb.debian.org/debian bullseye/main amd64 patch amd64 2.7.6-7 [128 kB]\\nGet:44 http://deb.debian.org/debian bullseye/main amd64 dpkg-dev all 1.20.12 [2312 kB]\\nGet:45 http://deb.debian.org/debian bullseye/main amd64 build-essential amd64 12.9 [7704 B]\\nGet:46 http://deb.debian.org/debian bullseye/main amd64 cmake-data all 3.18.4-2+deb11u1 [1725 kB]\\nGet:47 http://deb.debian.org/debian bullseye/main amd64 libicu67 amd64 67.1-7 [8622 kB]\\nGet:48 http://deb.debian.org/debian bullseye/main amd64 libxml2 amd64 2.9.10+dfsg-6.7+deb11u4 [693 kB]\\nGet:49 http://deb.debian.org/debian bullseye/main amd64 libarchive13 amd64 3.4.3-2+deb11u1 [343 kB]\\nGet:50 http://deb.debian.org/debian bullseye/main amd64 libcurl4 amd64 7.74.0-1.3+deb11u7 [346 kB]\\nGet:51 http://deb.debian.org/debian bullseye/main amd64 libjsoncpp24 amd64 1.9.4-4 [78.9 kB]\\nGet:52 http://deb.debian.org/debian bullseye/main amd64 librhash0 amd64 1.4.1-2 [129 kB]\\nGet:53 http://deb.debian.org/debian bullseye/main amd64 libuv1 amd64 1.40.0-2 [132 kB]\\nGet:54 http://deb.debian.org/debian bullseye/main amd64 cmake amd64 3.18.4-2+deb11u1 [5593 kB]\\nGet:55 http://deb.debian.org/debian bullseye/main amd64 libassuan0 amd64 2.5.3-7.1 [50.5 kB]\\nGet:56 http://deb.debian.org/debian bullseye/main amd64 gpgconf amd64 2.2.27-2+deb11u2 [548 kB]\\nGet:57 http://deb.debian.org/debian bullseye/main amd64 libksba8 amd64 1.5.0-3+deb11u2 [123 kB]\\nGet:58 http://deb.debian.org/debian bullseye/main amd64 libnpth0 amd64 1.6-3 [19.0 kB]\\nGet:59 http://deb.debian.org/debian bullseye/main amd64 dirmngr amd64 2.2.27-2+deb11u2 [763 kB]\\nGet:60 http://deb.debian.org/debian bullseye/main amd64 libfakeroot amd64 1.25.3-1.1 [47.0 kB]\\nGet:61 http://deb.debian.org/debian bullseye/main amd64 fakeroot amd64 1.25.3-1.1 [87.0 kB]\\nGet:62 http://deb.debian.org/debian bullseye/main amd64 fonts-dejavu-core all 2.37-2 [1069 kB]\\nGet:63 http://deb.debian.org/debian bullseye/main amd64 fontconfig-config all 2.13.1-4.2 [281 kB]\\nGet:64 http://deb.debian.org/debian bullseye/main amd64 gnupg-l10n all 2.2.27-2+deb11u2 [1086 kB]\\nGet:65 http://deb.debian.org/debian bullseye/main amd64 gnupg-utils amd64 2.2.27-2+deb11u2 [905 kB]\\nGet:66 http://deb.debian.org/debian bullseye/main amd64 gpg amd64 2.2.27-2+deb11u2 [928 kB]\\nGet:67 http://deb.debian.org/debian bullseye/main amd64 pinentry-curses amd64 1.1.0-4 [64.9 kB]\\nGet:68 http://deb.debian.org/debian bullseye/main amd64 gpg-agent amd64 2.2.27-2+deb11u2 [669 kB]\\nGet:69 http://deb.debian.org/debian bullseye/main amd64 gpg-wks-client amd64 2.2.27-2+deb11u2 [524 kB]\\nGet:70 http://deb.debian.org/debian bullseye/main amd64 gpg-wks-server amd64 2.2.27-2+deb11u2 [516 kB]\\nGet:71 http://deb.debian.org/debian bullseye/main amd64 gpgsm amd64 2.2.27-2+deb11u2 [645 kB]\\nGet:72 http://deb.debian.org/debian bullseye/main amd64 gnupg all 2.2.27-2+deb11u2 [825 kB]\\nGet:73 http://deb.debian.org/debian bullseye/main amd64 libalgorithm-diff-perl all 1.201-1 [43.3 kB]\\nGet:74 http://deb.debian.org/debian bullseye/main amd64 libalgorithm-diff-xs-perl amd64 0.04-6+b1 [12.0 kB]\\nGet:75 http://deb.debian.org/debian bullseye/main amd64 libalgorithm-merge-perl all 0.08-3 [12.7 kB]\\nGet:76 http://deb.debian.org/debian bullseye/main amd64 libpng16-16 amd64 1.6.37-3 [294 kB]\\nGet:77 http://deb.debian.org/debian bullseye/main amd64 libfreetype6 amd64 2.10.4+dfsg-1+deb11u1 [418 kB]\\nGet:78 http://deb.debian.org/debian bullseye/main amd64 libfontconfig1 amd64 2.13.1-4.2 [347 kB]\\nGet:79 http://deb.debian.org/debian bullseye/main amd64 libjpeg62-turbo amd64 1:2.0.6-4 [151 kB]\\nGet:80 http://deb.debian.org/debian bullseye/main amd64 libdeflate0 amd64 1.7-1 [53.1 kB]\\nGet:81 http://deb.debian.org/debian bullseye/main amd64 libjbig0 amd64 2.1-3.1+b2 [31.0 kB]\\nGet:82 http://deb.debian.org/debian bullseye/main amd64 libtiff5 amd64 4.2.0-1+deb11u4 [290 kB]\\nGet:83 http://deb.debian.org/debian bullseye/main amd64 libxpm4 amd64 1:3.5.12-1.1~deb11u1 [49.6 kB]\\nGet:84 http://deb.debian.org/debian bullseye/main amd64 libgd3 amd64 2.3.0-2 [137 kB]\\nGet:85 http://deb.debian.org/debian bullseye/main amd64 libc-devtools amd64 2.31-13+deb11u6 [246 kB]\\nGet:86 http://deb.debian.org/debian bullseye/main amd64 libfile-fcntllock-perl amd64 0.22-3+b7 [35.5 kB]\\nGet:87 http://deb.debian.org/debian bullseye/main amd64 manpages-dev all 5.10-1 [2309 kB]\\ndebconf: delaying package configuration, since apt-utils is not installed\\nFetched 98.3 MB in 1s (171 MB/s)\\n(Reading database ... \\r(Reading database ... 5%\\r(Reading database ... 10%\\r(Reading database ... 15%\\r(Reading database ... 20%\\r(Reading database ... 25%\\r(Reading database ... 30%\\r(Reading database ... 35%\\r(Reading database ... 40%\\r(Reading database ... 45%\\r(Reading database ... 50%\\r(Reading database ... 55%\\r(Reading database ... 60%\\r(Reading database ... 65%\\r(Reading database ... 70%\\r(Reading database ... 75%\\r(Reading database ... 80%\\r(Reading database ... 85%\\r(Reading database ... 90%\\r(Reading database ... 95%\\r(Reading database ... 100%\\r(Reading database ... 12441 files and directories currently installed.)\\r\\nPreparing to unpack .../libc6_2.31-13+deb11u6_amd64.deb ...\\r\\ndebconf: unable to initialize frontend: Dialog\\r\\ndebconf: (TERM is not set, so the dialog frontend is not usable.)\\r\\ndebconf: falling back to frontend: Readline\\r\\ndebconf: unable to initialize frontend: Dialog\\r\\ndebconf: (TERM is not set, so the dialog frontend is not usable.)\\r\\ndebconf: falling back to frontend: Readline\\r\\nUnpacking libc6:amd64 (2.31-13+deb11u6) over (2.31-13+deb11u3) ...\\r\\nSetting up libc6:amd64 (2.31-13+deb11u6) ...\\r\\ndebconf: unable to initialize frontend: Dialog\\r\\ndebconf: (TERM is not set, so the dialog frontend is not usable.)\\r\\ndebconf: falling back to frontend: Readline\\r\\nSelecting previously unselected package liblocale-gettext-perl.\\r\\n(Reading database ... \\r(Reading database ... 5%\\r(Reading database ... 10%\\r(Reading database ... 15%\\r(Reading database ... 20%\\r(Reading database ... 25%\\r(Reading database ... 30%\\r(Reading database ... 35%\\r(Reading database ... 40%\\r(Reading database ... 45%\\r(Reading database ... 50%\\r(Reading database ... 55%\\r(Reading database ... 60%\\r(Reading database ... 65%\\r(Reading database ... 70%\\r(Reading database ... 75%\\r(Reading database ... 80%\\r(Reading database ... 85%\\r(Reading database ... 90%\\r(Reading database ... 95%\\r(Reading database ... 100%\\r(Reading database ... 12441 files and directories currently installed.)\\r\\nPreparing to unpack .../liblocale-gettext-perl_1.07-4+b1_amd64.deb ...\\r\\nUnpacking liblocale-gettext-perl (1.07-4+b1) ...\\r\\nPreparing to unpack .../gpgv_2.2.27-2+deb11u2_amd64.deb ...\\r\\nUnpacking gpgv (2.2.27-2+deb11u2) over (2.2.27-2+deb11u1) ...\\r\\nSetting up gpgv (2.2.27-2+deb11u2) ...\\r\\n(Reading database ... \\r(Reading database ... 5%\\r(Reading database ... 10%\\r(Reading database ... 15%\\r(Reading database ... 20%\\r(Reading database ... 25%\\r(Reading database ... 30%\\r(Reading database ... 35%\\r(Reading database ... 40%\\r(Reading database ... 45%\\r(Reading database ... 50%\\r(Reading database ... 55%\\r(Reading database ... 60%\\r(Reading database ... 65%\\r(Reading database ... 70%\\r(Reading database ... 75%\\r(Reading database ... 80%\\r(Reading database ... 85%\\r(Reading database ... 90%\\r(Reading database ... 95%\\r(Reading database ... 100%\\r(Reading database ... 12456 files and directories currently installed.)\\r\\nPreparing to unpack .../libtirpc-common_1.3.1-1+deb11u1_all.deb ...\\r\\nUnpacking libtirpc-common (1.3.1-1+deb11u1) over (1.3.1-1) ...\\r\\nSetting up libtirpc-common (1.3.1-1+deb11u1) ...\\r\\n(Reading database ... \\r(Reading database ... 5%\\r(Reading database ... 10%\\r(Reading database ... 15%\\r(Reading database ... 20%\\r(Reading database ... 25%\\r(Reading database ... 30%\\r(Reading database ... 35%\\r(Reading database ... 40%\\r(Reading database ... 45%\\r(Reading database ... 50%\\r(Reading database ... 55%\\r(Reading database ... 60%\\r(Reading database ... 65%\\r(Reading database ... 70%\\r(Reading database ... 75%\\r(Reading database ... 80%\\r(Reading database ... 85%\\r(Reading database ... 90%\\r(Reading database ... 95%\\r(Reading database ... 100%\\r(Reading database ... 12456 files and directories currently installed.)\\r\\nPreparing to unpack .../libtirpc3_1.3.1-1+deb11u1_amd64.deb ...\\r\\nUnpacking libtirpc3:amd64 (1.3.1-1+deb11u1) over (1.3.1-1) ...\\r\\nSetting up libtirpc3:amd64 (1.3.1-1+deb11u1) ...\\r\\nSelecting previously unselected package manpages.\\r\\n(Reading database ... \\r(Reading database ... 5%\\r(Reading database ... 10%\\r(Reading database ... 15%\\r(Reading database ... 20%\\r(Reading database ... 25%\\r(Reading database ... 30%\\r(Reading database ... 35%\\r(Reading database ... 40%\\r(Reading database ... 45%\\r(Reading database ... 50%\\r(Reading database ... 55%\\r(Reading database ... 60%\\r(Reading database ... 65%\\r(Reading database ... 70%\\r(Reading database ... 75%\\r(Reading database ... 80%\\r(Reading database ... 85%\\r(Reading database ... 90%\\r(Reading database ... 95%\\r(Reading database ... 100%\\r(Reading database ... 12456 files and directories currently installed.)\\r\\nPreparing to unpack .../00-manpages_5.10-1_all.deb ...\\r\\nUnpacking manpages (5.10-1) ...\\r\\nSelecting previously unselected package xz-utils.\\r\\nPreparing to unpack .../01-xz-utils_5.2.5-2.1~deb11u1_amd64.deb ...\\r\\nUnpacking xz-utils (5.2.5-2.1~deb11u1) ...\\r\\nSelecting previously unselected package binutils-common:amd64.\\r\\nPreparing to unpack .../02-binutils-common_2.35.2-2_amd64.deb ...\\r\\nUnpacking binutils-common:amd64 (2.35.2-2) ...\\r\\nSelecting previously unselected package libbinutils:amd64.\\r\\nPreparing to unpack .../03-libbinutils_2.35.2-2_amd64.deb ...\\r\\nUnpacking libbinutils:amd64 (2.35.2-2) ...\\r\\nSelecting previously unselected package libctf-nobfd0:amd64.\\r\\nPreparing to unpack .../04-libctf-nobfd0_2.35.2-2_amd64.deb ...\\r\\nUnpacking libctf-nobfd0:amd64 (2.35.2-2) ...\\r\\nSelecting previously unselected package libctf0:amd64.\\r\\nPreparing to unpack .../05-libctf0_2.35.2-2_amd64.deb ...\\r\\nUnpacking libctf0:amd64 (2.35.2-2) ...\\r\\nSelecting previously unselected package binutils-x86-64-linux-gnu.\\r\\nPreparing to unpack .../06-binutils-x86-64-linux-gnu_2.35.2-2_amd64.deb ...\\r\\nUnpacking binutils-x86-64-linux-gnu (2.35.2-2) ...\\r\\nSelecting previously unselected package binutils.\\r\\nPreparing to unpack .../07-binutils_2.35.2-2_amd64.deb ...\\r\\nUnpacking binutils (2.35.2-2) ...\\r\\nSelecting previously unselected package libc-dev-bin.\\r\\nPreparing to unpack .../08-libc-dev-bin_2.31-13+deb11u6_amd64.deb ...\\r\\nUnpacking libc-dev-bin (2.31-13+deb11u6) ...\\r\\nSelecting previously unselected package linux-libc-dev:amd64.\\r\\nPreparing to unpack .../09-linux-libc-dev_5.10.179-1_amd64.deb ...\\r\\nUnpacking linux-libc-dev:amd64 (5.10.179-1) ...\\r\\nSelecting previously unselected package libcrypt-dev:amd64.\\r\\nPreparing to unpack .../10-libcrypt-dev_1%3a4.4.18-4_amd64.deb ...\\r\\nUnpacking libcrypt-dev:amd64 (1:4.4.18-4) ...\\r\\nSelecting previously unselected package libtirpc-dev:amd64.\\r\\nPreparing to unpack .../11-libtirpc-dev_1.3.1-1+deb11u1_amd64.deb ...\\r\\nUnpacking libtirpc-dev:amd64 (1.3.1-1+deb11u1) ...\\r\\nSelecting previously unselected package libnsl-dev:amd64.\\r\\nPreparing to unpack .../12-libnsl-dev_1.3.0-2_amd64.deb ...\\r\\nUnpacking libnsl-dev:amd64 (1.3.0-2) ...\\r\\nSelecting previously unselected package libc6-dev:amd64.\\r\\nPreparing to unpack .../13-libc6-dev_2.31-13+deb11u6_amd64.deb ...\\r\\nUnpacking libc6-dev:amd64 (2.31-13+deb11u6) ...\\r\\nSelecting previously unselected package libisl23:amd64.\\r\\nPreparing to unpack .../14-libisl23_0.23-1_amd64.deb ...\\r\\nUnpacking libisl23:amd64 (0.23-1) ...\\r\\nSelecting previously unselected package libmpfr6:amd64.\\r\\nPreparing to unpack .../15-libmpfr6_4.1.0-3_amd64.deb ...\\r\\nUnpacking libmpfr6:amd64 (4.1.0-3) ...\\r\\nSelecting previously unselected package libmpc3:amd64.\\r\\nPreparing to unpack .../16-libmpc3_1.2.0-1_amd64.deb ...\\r\\nUnpacking libmpc3:amd64 (1.2.0-1) ...\\r\\nSelecting previously unselected package cpp-10.\\r\\nPreparing to unpack .../17-cpp-10_10.2.1-6_amd64.deb ...\\r\\nUnpacking cpp-10 (10.2.1-6) ...\\r\\nSelecting previously unselected package cpp.\\r\\nPreparing to unpack .../18-cpp_4%3a10.2.1-1_amd64.deb ...\\r\\nUnpacking cpp (4:10.2.1-1) ...\\r\\nSelecting previously unselected package libcc1-0:amd64.\\r\\nPreparing to unpack .../19-libcc1-0_10.2.1-6_amd64.deb ...\\r\\nUnpacking libcc1-0:amd64 (10.2.1-6) ...\\r\\nSelecting previously unselected package libgomp1:amd64.\\r\\nPreparing to unpack .../20-libgomp1_10.2.1-6_amd64.deb ...\\r\\nUnpacking libgomp1:amd64 (10.2.1-6) ...\\r\\nSelecting previously unselected package libitm1:amd64.\\r\\nPreparing to unpack .../21-libitm1_10.2.1-6_amd64.deb ...\\r\\nUnpacking libitm1:amd64 (10.2.1-6) ...\\r\\nSelecting previously unselected package libatomic1:amd64.\\r\\nPreparing to unpack .../22-libatomic1_10.2.1-6_amd64.deb ...\\r\\nUnpacking libatomic1:amd64 (10.2.1-6) ...\\r\\nSelecting previously unselected package libasan6:amd64.\\r\\nPreparing to unpack .../23-libasan6_10.2.1-6_amd64.deb ...\\r\\nUnpacking libasan6:amd64 (10.2.1-6) ...\\r\\nSelecting previously unselected package liblsan0:amd64.\\r\\nPreparing to unpack .../24-liblsan0_10.2.1-6_amd64.deb ...\\r\\nUnpacking liblsan0:amd64 (10.2.1-6) ...\\r\\nSelecting previously unselected package libtsan0:amd64.\\r\\nPreparing to unpack .../25-libtsan0_10.2.1-6_amd64.deb ...\\r\\nUnpacking libtsan0:amd64 (10.2.1-6) ...\\r\\nSelecting previously unselected package libubsan1:amd64.\\r\\nPreparing to unpack .../26-libubsan1_10.2.1-6_amd64.deb ...\\r\\nUnpacking libubsan1:amd64 (10.2.1-6) ...\\r\\nSelecting previously unselected package libquadmath0:amd64.\\r\\nPreparing to unpack .../27-libquadmath0_10.2.1-6_amd64.deb ...\\r\\nUnpacking libquadmath0:amd64 (10.2.1-6) ...\\r\\nSelecting previously unselected package libgcc-10-dev:amd64.\\r\\nPreparing to unpack .../28-libgcc-10-dev_10.2.1-6_amd64.deb ...\\r\\nUnpacking libgcc-10-dev:amd64 (10.2.1-6) ...\\r\\nSelecting previously unselected package gcc-10.\\r\\nPreparing to unpack .../29-gcc-10_10.2.1-6_amd64.deb ...\\r\\nUnpacking gcc-10 (10.2.1-6) ...\\r\\nSelecting previously unselected package gcc.\\r\\nPreparing to unpack .../30-gcc_4%3a10.2.1-1_amd64.deb ...\\r\\nUnpacking gcc (4:10.2.1-1) ...\\r\\nSelecting previously unselected package libstdc++-10-dev:amd64.\\r\\nPreparing to unpack .../31-libstdc++-10-dev_10.2.1-6_amd64.deb ...\\r\\nUnpacking libstdc++-10-dev:amd64 (10.2.1-6) ...\\r\\nSelecting previously unselected package g++-10.\\r\\nPreparing to unpack .../32-g++-10_10.2.1-6_amd64.deb ...\\r\\nUnpacking g++-10 (10.2.1-6) ...\\r\\nSelecting previously unselected package g++.\\r\\nPreparing to unpack .../33-g++_4%3a10.2.1-1_amd64.deb ...\\r\\nUnpacking g++ (4:10.2.1-1) ...\\r\\nSelecting previously unselected package make.\\r\\nPreparing to unpack .../34-make_4.3-4.1_amd64.deb ...\\r\\nUnpacking make (4.3-4.1) ...\\r\\nSelecting previously unselected package libdpkg-perl.\\r\\nPreparing to unpack .../35-libdpkg-perl_1.20.12_all.deb ...\\r\\nUnpacking libdpkg-perl (1.20.12) ...\\r\\nSelecting previously unselected package patch.\\r\\nPreparing to unpack .../36-patch_2.7.6-7_amd64.deb ...\\r\\nUnpacking patch (2.7.6-7) ...\\r\\nSelecting previously unselected package dpkg-dev.\\r\\nPreparing to unpack .../37-dpkg-dev_1.20.12_all.deb ...\\r\\nUnpacking dpkg-dev (1.20.12) ...\\r\\nSelecting previously unselected package build-essential.\\r\\nPreparing to unpack .../38-build-essential_12.9_amd64.deb ...\\r\\nUnpacking build-essential (12.9) ...\\r\\nSelecting previously unselected package cmake-data.\\r\\nPreparing to unpack .../39-cmake-data_3.18.4-2+deb11u1_all.deb ...\\r\\nUnpacking cmake-data (3.18.4-2+deb11u1) ...\\r\\nSelecting previously unselected package libicu67:amd64.\\r\\nPreparing to unpack .../40-libicu67_67.1-7_amd64.deb ...\\r\\nUnpacking libicu67:amd64 (67.1-7) ...\\r\\nSelecting previously unselected package libxml2:amd64.\\r\\nPreparing to unpack .../41-libxml2_2.9.10+dfsg-6.7+deb11u4_amd64.deb ...\\r\\nUnpacking libxml2:amd64 (2.9.10+dfsg-6.7+deb11u4) ...\\r\\nSelecting previously unselected package libarchive13:amd64.\\r\\nPreparing to unpack .../42-libarchive13_3.4.3-2+deb11u1_amd64.deb ...\\r\\nUnpacking libarchive13:amd64 (3.4.3-2+deb11u1) ...\\r\\nSelecting previously unselected package libcurl4:amd64.\\r\\nPreparing to unpack .../43-libcurl4_7.74.0-1.3+deb11u7_amd64.deb ...\\r\\nUnpacking libcurl4:amd64 (7.74.0-1.3+deb11u7) ...\\r\\nSelecting previously unselected package libjsoncpp24:amd64.\\r\\nPreparing to unpack .../44-libjsoncpp24_1.9.4-4_amd64.deb ...\\r\\nUnpacking libjsoncpp24:amd64 (1.9.4-4) ...\\r\\nSelecting previously unselected package librhash0:amd64.\\r\\nPreparing to unpack .../45-librhash0_1.4.1-2_amd64.deb ...\\r\\nUnpacking librhash0:amd64 (1.4.1-2) ...\\r\\nSelecting previously unselected package libuv1:amd64.\\r\\nPreparing to unpack .../46-libuv1_1.40.0-2_amd64.deb ...\\r\\nUnpacking libuv1:amd64 (1.40.0-2) ...\\r\\nSelecting previously unselected package cmake.\\r\\nPreparing to unpack .../47-cmake_3.18.4-2+deb11u1_amd64.deb ...\\r\\nUnpacking cmake (3.18.4-2+deb11u1) ...\\r\\nSelecting previously unselected package libassuan0:amd64.\\r\\nPreparing to unpack .../48-libassuan0_2.5.3-7.1_amd64.deb ...\\r\\nUnpacking libassuan0:amd64 (2.5.3-7.1) ...\\r\\nSelecting previously unselected package gpgconf.\\r\\nPreparing to unpack .../49-gpgconf_2.2.27-2+deb11u2_amd64.deb ...\\r\\nUnpacking gpgconf (2.2.27-2+deb11u2) ...\\r\\nSelecting previously unselected package libksba8:amd64.\\r\\nPreparing to unpack .../50-libksba8_1.5.0-3+deb11u2_amd64.deb ...\\r\\nUnpacking libksba8:amd64 (1.5.0-3+deb11u2) ...\\r\\nSelecting previously unselected package libnpth0:amd64.\\r\\nPreparing to unpack .../51-libnpth0_1.6-3_amd64.deb ...\\r\\nUnpacking libnpth0:amd64 (1.6-3) ...\\r\\nSelecting previously unselected package dirmngr.\\r\\nPreparing to unpack .../52-dirmngr_2.2.27-2+deb11u2_amd64.deb ...\\r\\nUnpacking dirmngr (2.2.27-2+deb11u2) ...\\r\\nSelecting previously unselected package libfakeroot:amd64.\\r\\nPreparing to unpack .../53-libfakeroot_1.25.3-1.1_amd64.deb ...\\r\\nUnpacking libfakeroot:amd64 (1.25.3-1.1) ...\\r\\nSelecting previously unselected package fakeroot.\\r\\nPreparing to unpack .../54-fakeroot_1.25.3-1.1_amd64.deb ...\\r\\nUnpacking fakeroot (1.25.3-1.1) ...\\r\\nSelecting previously unselected package fonts-dejavu-core.\\r\\nPreparing to unpack .../55-fonts-dejavu-core_2.37-2_all.deb ...\\r\\nUnpacking fonts-dejavu-core (2.37-2) ...\\r\\nSelecting previously unselected package fontconfig-config.\\r\\nPreparing to unpack .../56-fontconfig-config_2.13.1-4.2_all.deb ...\\r\\nUnpacking fontconfig-config (2.13.1-4.2) ...\\r\\nSelecting previously unselected package gnupg-l10n.\\r\\nPreparing to unpack .../57-gnupg-l10n_2.2.27-2+deb11u2_all.deb ...\\r\\nUnpacking gnupg-l10n (2.2.27-2+deb11u2) ...\\r\\nSelecting previously unselected package gnupg-utils.\\r\\nPreparing to unpack .../58-gnupg-utils_2.2.27-2+deb11u2_amd64.deb ...\\r\\nUnpacking gnupg-utils (2.2.27-2+deb11u2) ...\\r\\nSelecting previously unselected package gpg.\\r\\nPreparing to unpack .../59-gpg_2.2.27-2+deb11u2_amd64.deb ...\\r\\nUnpacking gpg (2.2.27-2+deb11u2) ...\\r\\nSelecting previously unselected package pinentry-curses.\\r\\nPreparing to unpack .../60-pinentry-curses_1.1.0-4_amd64.deb ...\\r\\nUnpacking pinentry-curses (1.1.0-4) ...\\r\\nSelecting previously unselected package gpg-agent.\\r\\nPreparing to unpack .../61-gpg-agent_2.2.27-2+deb11u2_amd64.deb ...\\r\\nUnpacking gpg-agent (2.2.27-2+deb11u2) ...\\r\\nSelecting previously unselected package gpg-wks-client.\\r\\nPreparing to unpack .../62-gpg-wks-client_2.2.27-2+deb11u2_amd64.deb ...\\r\\nUnpacking gpg-wks-client (2.2.27-2+deb11u2) ...\\r\\nSelecting previously unselected package gpg-wks-server.\\r\\nPreparing to unpack .../63-gpg-wks-server_2.2.27-2+deb11u2_amd64.deb ...\\r\\nUnpacking gpg-wks-server (2.2.27-2+deb11u2) ...\\r\\nSelecting previously unselected package gpgsm.\\r\\nPreparing to unpack .../64-gpgsm_2.2.27-2+deb11u2_amd64.deb ...\\r\\nUnpacking gpgsm (2.2.27-2+deb11u2) ...\\r\\nSelecting previously unselected package gnupg.\\r\\nPreparing to unpack .../65-gnupg_2.2.27-2+deb11u2_all.deb ...\\r\\nUnpacking gnupg (2.2.27-2+deb11u2) ...\\r\\nSelecting previously unselected package libalgorithm-diff-perl.\\r\\nPreparing to unpack .../66-libalgorithm-diff-perl_1.201-1_all.deb ...\\r\\nUnpacking libalgorithm-diff-perl (1.201-1) ...\\r\\nSelecting previously unselected package libalgorithm-diff-xs-perl.\\r\\nPreparing to unpack .../67-libalgorithm-diff-xs-perl_0.04-6+b1_amd64.deb ...\\r\\nUnpacking libalgorithm-diff-xs-perl (0.04-6+b1) ...\\r\\nSelecting previously unselected package libalgorithm-merge-perl.\\r\\nPreparing to unpack .../68-libalgorithm-merge-perl_0.08-3_all.deb ...\\r\\nUnpacking libalgorithm-merge-perl (0.08-3) ...\\r\\nSelecting previously unselected package libpng16-16:amd64.\\r\\nPreparing to unpack .../69-libpng16-16_1.6.37-3_amd64.deb ...\\r\\nUnpacking libpng16-16:amd64 (1.6.37-3) ...\\r\\nSelecting previously unselected package libfreetype6:amd64.\\r\\nPreparing to unpack .../70-libfreetype6_2.10.4+dfsg-1+deb11u1_amd64.deb ...\\r\\nUnpacking libfreetype6:amd64 (2.10.4+dfsg-1+deb11u1) ...\\r\\nSelecting previously unselected package libfontconfig1:amd64.\\r\\nPreparing to unpack .../71-libfontconfig1_2.13.1-4.2_amd64.deb ...\\r\\nUnpacking libfontconfig1:amd64 (2.13.1-4.2) ...\\r\\nSelecting previously unselected package libjpeg62-turbo:amd64.\\r\\nPreparing to unpack .../72-libjpeg62-turbo_1%3a2.0.6-4_amd64.deb ...\\r\\nUnpacking libjpeg62-turbo:amd64 (1:2.0.6-4) ...\\r\\nSelecting previously unselected package libdeflate0:amd64.\\r\\nPreparing to unpack .../73-libdeflate0_1.7-1_amd64.deb ...\\r\\nUnpacking libdeflate0:amd64 (1.7-1) ...\\r\\nSelecting previously unselected package libjbig0:amd64.\\r\\nPreparing to unpack .../74-libjbig0_2.1-3.1+b2_amd64.deb ...\\r\\nUnpacking libjbig0:amd64 (2.1-3.1+b2) ...\\r\\nSelecting previously unselected package libwebp6:amd64.\\r\\nPreparing to unpack .../75-libwebp6_0.6.1-2.1+deb11u1_amd64.deb ...\\r\\nUnpacking libwebp6:amd64 (0.6.1-2.1+deb11u1) ...\\r\\nSelecting previously unselected package libtiff5:amd64.\\r\\nPreparing to unpack .../76-libtiff5_4.2.0-1+deb11u4_amd64.deb ...\\r\\nUnpacking libtiff5:amd64 (4.2.0-1+deb11u4) ...\\r\\nSelecting previously unselected package libxpm4:amd64.\\r\\nPreparing to unpack .../77-libxpm4_1%3a3.5.12-1.1~deb11u1_amd64.deb ...\\r\\nUnpacking libxpm4:amd64 (1:3.5.12-1.1~deb11u1) ...\\r\\nSelecting previously unselected package libgd3:amd64.\\r\\nPreparing to unpack .../78-libgd3_2.3.0-2_amd64.deb ...\\r\\nUnpacking libgd3:amd64 (2.3.0-2) ...\\r\\nSelecting previously unselected package libc-devtools.\\r\\nPreparing to unpack .../79-libc-devtools_2.31-13+deb11u6_amd64.deb ...\\r\\nUnpacking libc-devtools (2.31-13+deb11u6) ...\\r\\nSelecting previously unselected package libfile-fcntllock-perl.\\r\\nPreparing to unpack .../80-libfile-fcntllock-perl_0.22-3+b7_amd64.deb ...\\r\\nUnpacking libfile-fcntllock-perl (0.22-3+b7) ...\\r\\nSelecting previously unselected package manpages-dev.\\r\\nPreparing to unpack .../81-manpages-dev_5.10-1_all.deb ...\\r\\nUnpacking manpages-dev (5.10-1) ...\\r\\nSetting up libksba8:amd64 (1.5.0-3+deb11u2) ...\\r\\nSetting up libxpm4:amd64 (1:3.5.12-1.1~deb11u1) ...\\r\\nSetting up libicu67:amd64 (67.1-7) ...\\r\\nSetting up libfile-fcntllock-perl (0.22-3+b7) ...\\r\\nSetting up libalgorithm-diff-perl (1.201-1) ...\\r\\nSetting up manpages (5.10-1) ...\\r\\nSetting up binutils-common:amd64 (2.35.2-2) ...\\r\\nSetting up libdeflate0:amd64 (1.7-1) ...\\r\\nSetting up linux-libc-dev:amd64 (5.10.179-1) ...\\r\\nSetting up libctf-nobfd0:amd64 (2.35.2-2) ...\\r\\nSetting up libnpth0:amd64 (1.6-3) ...\\r\\nSetting up libassuan0:amd64 (2.5.3-7.1) ...\\r\\nSetting up libgomp1:amd64 (10.2.1-6) ...\\r\\nSetting up libjbig0:amd64 (2.1-3.1+b2) ...\\r\\nSetting up libfakeroot:amd64 (1.25.3-1.1) ...\\r\\nSetting up libasan6:amd64 (10.2.1-6) ...\\r\\nSetting up fakeroot (1.25.3-1.1) ...\\r\\nupdate-alternatives: using /usr/bin/fakeroot-sysv to provide /usr/bin/fakeroot (fakeroot) in auto mode\\r\\nupdate-alternatives: warning: skip creation of /usr/share/man/man1/fakeroot.1.gz because associated file /usr/share/man/man1/fakeroot-sysv.1.gz (of link group fakeroot) doesn\\'t exist\\r\\nupdate-alternatives: warning: skip creation of /usr/share/man/man1/faked.1.gz because associated file /usr/share/man/man1/faked-sysv.1.gz (of link group fakeroot) doesn\\'t exist\\r\\nupdate-alternatives: warning: skip creation of /usr/share/man/es/man1/fakeroot.1.gz because associated file /usr/share/man/es/man1/fakeroot-sysv.1.gz (of link group fakeroot) doesn\\'t exist\\r\\nupdate-alternatives: warning: skip creation of /usr/share/man/es/man1/faked.1.gz because associated file /usr/share/man/es/man1/faked-sysv.1.gz (of link group fakeroot) doesn\\'t exist\\r\\nupdate-alternatives: warning: skip creation of /usr/share/man/fr/man1/fakeroot.1.gz because associated file /usr/share/man/fr/man1/fakeroot-sysv.1.gz (of link group fakeroot) doesn\\'t exist\\r\\nupdate-alternatives: warning: skip creation of /usr/share/man/fr/man1/faked.1.gz because associated file /usr/share/man/fr/man1/faked-sysv.1.gz (of link group fakeroot) doesn\\'t exist\\r\\nupdate-alternatives: warning: skip creation of /usr/share/man/sv/man1/fakeroot.1.gz because associated file /usr/share/man/sv/man1/fakeroot-sysv.1.gz (of link group fakeroot) doesn\\'t exist\\r\\nupdate-alternatives: warning: skip creation of /usr/share/man/sv/man1/faked.1.gz because associated file /usr/share/man/sv/man1/faked-sysv.1.gz (of link group fakeroot) doesn\\'t exist\\r\\nSetting up libtirpc-dev:amd64 (1.3.1-1+deb11u1) ...\\r\\nSetting up libuv1:amd64 (1.40.0-2) ...\\r\\nSetting up libjpeg62-turbo:amd64 (1:2.0.6-4) ...\\r\\nSetting up make (4.3-4.1) ...\\r\\nSetting up libmpfr6:amd64 (4.1.0-3) ...\\r\\nSetting up gnupg-l10n (2.2.27-2+deb11u2) ...\\r\\nSetting up xz-utils (5.2.5-2.1~deb11u1) ...\\r\\nupdate-alternatives: using /usr/bin/xz to provide /usr/bin/lzma (lzma) in auto mode\\r\\nupdate-alternatives: warning: skip creation of /usr/share/man/man1/lzma.1.gz because associated file /usr/share/man/man1/xz.1.gz (of link group lzma) doesn\\'t exist\\r\\nupdate-alternatives: warning: skip creation of /usr/share/man/man1/unlzma.1.gz because associated file /usr/share/man/man1/unxz.1.gz (of link group lzma) doesn\\'t exist\\r\\nupdate-alternatives: warning: skip creation of /usr/share/man/man1/lzcat.1.gz because associated file /usr/share/man/man1/xzcat.1.gz (of link group lzma) doesn\\'t exist\\r\\nupdate-alternatives: warning: skip creation of /usr/share/man/man1/lzmore.1.gz because associated file /usr/share/man/man1/xzmore.1.gz (of link group lzma) doesn\\'t exist\\r\\nupdate-alternatives: warning: skip creation of /usr/share/man/man1/lzless.1.gz because associated file /usr/share/man/man1/xzless.1.gz (of link group lzma) doesn\\'t exist\\r\\nupdate-alternatives: warning: skip creation of /usr/share/man/man1/lzdiff.1.gz because associated file /usr/share/man/man1/xzdiff.1.gz (of link group lzma) doesn\\'t exist\\r\\nupdate-alternatives: warning: skip creation of /usr/share/man/man1/lzcmp.1.gz because associated file /usr/share/man/man1/xzcmp.1.gz (of link group lzma) doesn\\'t exist\\r\\nupdate-alternatives: warning: skip creation of /usr/share/man/man1/lzgrep.1.gz because associated file /usr/share/man/man1/xzgrep.1.gz (of link group lzma) doesn\\'t exist\\r\\nupdate-alternatives: warning: skip creation of /usr/share/man/man1/lzegrep.1.gz because associated file /usr/share/man/man1/xzegrep.1.gz (of link group lzma) doesn\\'t exist\\r\\nupdate-alternatives: warning: skip creation of /usr/share/man/man1/lzfgrep.1.gz because associated file /usr/share/man/man1/xzfgrep.1.gz (of link group lzma) doesn\\'t exist\\r\\nSetting up libquadmath0:amd64 (10.2.1-6) ...\\r\\nSetting up libpng16-16:amd64 (1.6.37-3) ...\\r\\nSetting up libmpc3:amd64 (1.2.0-1) ...\\r\\nSetting up libatomic1:amd64 (10.2.1-6) ...\\r\\nSetting up patch (2.7.6-7) ...\\r\\nSetting up libwebp6:amd64 (0.6.1-2.1+deb11u1) ...\\r\\nSetting up fonts-dejavu-core (2.37-2) ...\\r\\nSetting up libdpkg-perl (1.20.12) ...\\r\\nSetting up libjsoncpp24:amd64 (1.9.4-4) ...\\r\\nSetting up libubsan1:amd64 (10.2.1-6) ...\\r\\nSetting up libnsl-dev:amd64 (1.3.0-2) ...\\r\\nSetting up librhash0:amd64 (1.4.1-2) ...\\r\\nSetting up libcrypt-dev:amd64 (1:4.4.18-4) ...\\r\\nSetting up gpgconf (2.2.27-2+deb11u2) ...\\r\\nSetting up libcurl4:amd64 (7.74.0-1.3+deb11u7) ...\\r\\nSetting up cmake-data (3.18.4-2+deb11u1) ...\\r\\nSetting up libtiff5:amd64 (4.2.0-1+deb11u4) ...\\r\\nSetting up libbinutils:amd64 (2.35.2-2) ...\\r\\nSetting up libisl23:amd64 (0.23-1) ...\\r\\nSetting up libc-dev-bin (2.31-13+deb11u6) ...\\r\\nSetting up libalgorithm-diff-xs-perl (0.04-6+b1) ...\\r\\nSetting up libxml2:amd64 (2.9.10+dfsg-6.7+deb11u4) ...\\r\\nSetting up libcc1-0:amd64 (10.2.1-6) ...\\r\\nSetting up liblocale-gettext-perl (1.07-4+b1) ...\\r\\nSetting up gpg (2.2.27-2+deb11u2) ...\\r\\nSetting up liblsan0:amd64 (10.2.1-6) ...\\r\\nSetting up cpp-10 (10.2.1-6) ...\\r\\nSetting up libitm1:amd64 (10.2.1-6) ...\\r\\nSetting up libalgorithm-merge-perl (0.08-3) ...\\r\\nSetting up gnupg-utils (2.2.27-2+deb11u2) ...\\r\\nSetting up libtsan0:amd64 (10.2.1-6) ...\\r\\nSetting up libctf0:amd64 (2.35.2-2) ...\\r\\nSetting up pinentry-curses (1.1.0-4) ...\\r\\nSetting up manpages-dev (5.10-1) ...\\r\\nSetting up gpg-agent (2.2.27-2+deb11u2) ...\\r\\nSetting up libarchive13:amd64 (3.4.3-2+deb11u1) ...\\r\\nSetting up fontconfig-config (2.13.1-4.2) ...\\r\\ndebconf: unable to initialize frontend: Dialog\\r\\ndebconf: (TERM is not set, so the dialog frontend is not usable.)\\r\\ndebconf: falling back to frontend: Readline\\r\\nSetting up libgcc-10-dev:amd64 (10.2.1-6) ...\\r\\nSetting up gpgsm (2.2.27-2+deb11u2) ...\\r\\nSetting up dirmngr (2.2.27-2+deb11u2) ...\\r\\nSetting up libfreetype6:amd64 (2.10.4+dfsg-1+deb11u1) ...\\r\\nSetting up gpg-wks-server (2.2.27-2+deb11u2) ...\\r\\nSetting up cpp (4:10.2.1-1) ...\\r\\nSetting up cmake (3.18.4-2+deb11u1) ...\\r\\nSetting up libc6-dev:amd64 (2.31-13+deb11u6) ...\\r\\nSetting up libfontconfig1:amd64 (2.13.1-4.2) ...\\r\\nSetting up binutils-x86-64-linux-gnu (2.35.2-2) ...\\r\\nSetting up libstdc++-10-dev:amd64 (10.2.1-6) ...\\r\\nSetting up gpg-wks-client (2.2.27-2+deb11u2) ...\\r\\nSetting up binutils (2.35.2-2) ...\\r\\nSetting up dpkg-dev (1.20.12) ...\\r\\nSetting up libgd3:amd64 (2.3.0-2) ...\\r\\nSetting up gcc-10 (10.2.1-6) ...\\r\\nSetting up gnupg (2.2.27-2+deb11u2) ...\\r\\nSetting up libc-devtools (2.31-13+deb11u6) ...\\r\\nSetting up g++-10 (10.2.1-6) ...\\r\\nSetting up gcc (4:10.2.1-1) ...\\r\\nSetting up g++ (4:10.2.1-1) ...\\r\\nupdate-alternatives: using /usr/bin/g++ to provide /usr/bin/c++ (c++) in auto mode\\r\\nSetting up build-essential (12.9) ...\\r\\nProcessing triggers for libc-bin (2.31-13+deb11u3) ...\\r\\n\\x1b[36mINFO\\x1b[0m[0027] Taking snapshot of files...                  \\n\\x1b[36mINFO\\x1b[0m[0033] ENV CONDA_ENV chassis-env                    \\n\\x1b[36mINFO\\x1b[0m[0033] COPY flavours/${MODEL_CLASS}/${MODEL_DIR}/conda.yaml ./conda.yaml \\n\\x1b[36mINFO\\x1b[0m[0033] Taking snapshot of files...                  \\n\\x1b[36mINFO\\x1b[0m[0033] RUN conda env create --name $CONDA_ENV --file ./conda.yaml \\n\\x1b[36mINFO\\x1b[0m[0033] cmd: /bin/sh                                 \\n\\x1b[36mINFO\\x1b[0m[0033] args: [-c conda env create --name $CONDA_ENV --file ./conda.yaml] \\n\\x1b[36mINFO\\x1b[0m[0033] Running: [/bin/sh -c conda env create --name $CONDA_ENV --file ./conda.yaml] \\nCollecting package metadata (repodata.json): ...working... done\\nSolving environment: ...working... done\\n\\n\\n==> WARNING: A newer version of conda exists. <==\\n  current version: 4.12.0\\n  latest version: 23.5.0\\n\\nPlease update conda by running\\n\\n    $ conda update -n base -c defaults conda\\n\\n\\n\\nDownloading and Extracting Packages\\n\\rpip-23.1.2           | 1.3 MB    |            |   0% \\rpip-23.1.2           | 1.3 MB    | ########## | 100% \\rpip-23.1.2           | 1.3 MB    | ########## | 100% \\n\\ropenssl-3.1.1        | 2.5 MB    |            |   0% \\ropenssl-3.1.1        | 2.5 MB    | ########## | 100% \\n\\rwheel-0.40.0         | 54 KB     |            |   0% \\rwheel-0.40.0         | 54 KB     | ########## | 100% \\n\\rbzip2-1.0.8          | 484 KB    |            |   0% \\rbzip2-1.0.8          | 484 KB    | ########## | 100% \\n\\rlibzlib-1.2.13       | 60 KB     |            |   0% \\rlibzlib-1.2.13       | 60 KB     | ########## | 100% \\n\\r_libgcc_mutex-0.1    | 3 KB      |            |   0% \\r_libgcc_mutex-0.1    | 3 KB      | ########## | 100% \\n\\rlibgcc-ng-13.1.0     | 758 KB    |            |   0% \\rlibgcc-ng-13.1.0     | 758 KB    | ########## | 100% \\n\\rncurses-6.4          | 860 KB    |            |   0% \\rncurses-6.4          | 860 KB    | ########## | 100% \\rncurses-6.4          | 860 KB    | ########## | 100% \\n\\rtk-8.6.12            | 3.3 MB    |            |   0% \\rtk-8.6.12            | 3.3 MB    | ########## | 100% \\rtk-8.6.12            | 3.3 MB    | ########## | 100% \\n\\rca-certificates-2023 | 145 KB    |            |   0% \\rca-certificates-2023 | 145 KB    | ########## | 100% \\n\\rsetuptools-68.0.0    | 453 KB    |            |   0% \\rsetuptools-68.0.0    | 453 KB    | ########## | 100% \\n\\rlibnsl-2.0.0         | 31 KB     |            |   0% \\rlibnsl-2.0.0         | 31 KB     | #####2     |  52% \\rlibnsl-2.0.0         | 31 KB     | ########## | 100% \\n\\rlibsqlite-3.42.0     | 809 KB    |            |   0% \\rlibsqlite-3.42.0     | 809 KB    | ########## | 100% \\n\\rlibffi-3.4.2         | 57 KB     |            |   0% \\rlibffi-3.4.2         | 57 KB     | ########## | 100% \\n\\rld_impl_linux-64-2.4 | 688 KB    |            |   0% \\rld_impl_linux-64-2.4 | 688 KB    | ########## | 100% \\n\\rxz-5.2.6             | 409 KB    |            |   0% \\rxz-5.2.6             | 409 KB    | ########## | 100% \\n\\rreadline-8.2         | 275 KB    |            |   0% \\rreadline-8.2         | 275 KB    | ########## | 100% \\n\\rtzdata-2023c         | 115 KB    |            |   0% \\rtzdata-2023c         | 115 KB    | ########## | 100% \\n\\rpython-3.10.12       | 24.4 MB   |            |   0% \\rpython-3.10.12       | 24.4 MB   | #####7     |  57% \\rpython-3.10.12       | 24.4 MB   | ########## | 100% \\n\\rlibgomp-13.1.0       | 409 KB    |            |   0% \\rlibgomp-13.1.0       | 409 KB    | ########## | 100% \\n\\rlibuuid-2.38.1       | 33 KB     |            |   0% \\rlibuuid-2.38.1       | 33 KB     | ########## | 100% \\n\\r_openmp_mutex-4.5    | 23 KB     |            |   0% \\r_openmp_mutex-4.5    | 23 KB     | ########## | 100% \\nPreparing transaction: ...working... done\\nVerifying transaction: ...working... done\\nExecuting transaction: ...working... done\\nInstalling pip dependencies: ...working... Ran pip subprocess with arguments:\\n[\\'/opt/conda/envs/chassis-env/bin/python\\', \\'-m\\', \\'pip\\', \\'install\\', \\'-U\\', \\'-r\\', \\'/app/condaenv.kw0m92ji.requirements.txt\\']\\nPip subprocess output:\\nCollecting mlflow==2.4 (from -r /app/condaenv.kw0m92ji.requirements.txt (line 1))\\n  Downloading mlflow-2.4.0-py3-none-any.whl (18.1 MB)\\n     ━━━━━━━━━━━━━━━━━━━━━━━━━━━━━━━━━━━━━━━━ 18.1/18.1 MB 84.6 MB/s eta 0:00:00\\nCollecting chassisml==1.4.13 (from -r /app/condaenv.kw0m92ji.requirements.txt (line 2))\\n  Downloading chassisml-1.4.13-py3-none-any.whl (35 kB)\\nCollecting cloudpickle==2.2.1 (from -r /app/condaenv.kw0m92ji.requirements.txt (line 3))\\n  Downloading cloudpickle-2.2.1-py3-none-any.whl (25 kB)\\nPip subprocess error:\\nERROR: Cannot install -r /app/condaenv.kw0m92ji.requirements.txt (line 1), -r /app/condaenv.kw0m92ji.requirements.txt (line 2), -r /app/condaenv.kw0m92ji.requirements.txt (line 5) and protobuf==3.19.4 because these package versions have conflicting dependencies.\\nERROR: ResolutionImpossible: for help visit https://pip.pypa.io/en/latest/topics/dependency-resolution/#dealing-with-dependency-conflicts\\n\\nCollecting docker==6.1.3 (from -r /app/condaenv.kw0m92ji.requirements.txt (line 4))\\n  Downloading docker-6.1.3-py3-none-any.whl (148 kB)\\n     ━━━━━━━━━━━━━━━━━━━━━━━━━━━━━━━━━━━━━━ 148.1/148.1 kB 40.1 MB/s eta 0:00:00\\nCollecting google-cloud-bigquery-connection==1.12.0 (from -r /app/condaenv.kw0m92ji.requirements.txt (line 5))\\n  Downloading google_cloud_bigquery_connection-1.12.0-py2.py3-none-any.whl (56 kB)\\n     ━━━━━━━━━━━━━━━━━━━━━━━━━━━━━━━━━━━━━━━━ 56.6/56.6 kB 21.3 MB/s eta 0:00:00\\nCollecting google-cloud-bigquery-storage==2.20.0 (from -r /app/condaenv.kw0m92ji.requirements.txt (line 6))\\n  Downloading google_cloud_bigquery_storage-2.20.0-py2.py3-none-any.whl (190 kB)\\n     ━━━━━━━━━━━━━━━━━━━━━━━━━━━━━━━━━━━━━━ 190.6/190.6 kB 53.8 MB/s eta 0:00:00\\nCollecting google-cloud-bigquery==3.10.0 (from -r /app/condaenv.kw0m92ji.requirements.txt (line 7))\\n  Downloading google_cloud_bigquery-3.10.0-py2.py3-none-any.whl (218 kB)\\n     ━━━━━━━━━━━━━━━━━━━━━━━━━━━━━━━━━━━━━━ 218.4/218.4 kB 55.3 MB/s eta 0:00:00\\nCollecting google-cloud-datastore==2.15.2 (from -r /app/condaenv.kw0m92ji.requirements.txt (line 8))\\n  Downloading google_cloud_datastore-2.15.2-py2.py3-none-any.whl (175 kB)\\n     ━━━━━━━━━━━━━━━━━━━━━━━━━━━━━━━━━━━━━━ 175.4/175.4 kB 48.2 MB/s eta 0:00:00\\nCollecting google-cloud-firestore==2.11.1 (from -r /app/condaenv.kw0m92ji.requirements.txt (line 9))\\n  Downloading google_cloud_firestore-2.11.1-py2.py3-none-any.whl (283 kB)\\n     ━━━━━━━━━━━━━━━━━━━━━━━━━━━━━━━━━━━━━━ 283.8/283.8 kB 61.4 MB/s eta 0:00:00\\nCollecting google-cloud-functions==1.13.0 (from -r /app/condaenv.kw0m92ji.requirements.txt (line 10))\\n  Downloading google_cloud_functions-1.13.0-py2.py3-none-any.whl (129 kB)\\n     ━━━━━━━━━━━━━━━━━━━━━━━━━━━━━━━━━━━━━━ 129.0/129.0 kB 40.6 MB/s eta 0:00:00\\nCollecting google-cloud-language==2.9.1 (from -r /app/condaenv.kw0m92ji.requirements.txt (line 11))\\n  Downloading google_cloud_language-2.9.1-py2.py3-none-any.whl (99 kB)\\n     ━━━━━━━━━━━━━━━━━━━━━━━━━━━━━━━━━━━━━━━━ 99.2/99.2 kB 34.6 MB/s eta 0:00:00\\nCollecting google-cloud-translate==3.11.1 (from -r /app/condaenv.kw0m92ji.requirements.txt (line 12))\\n  Downloading google_cloud_translate-3.11.1-py2.py3-none-any.whl (128 kB)\\n     ━━━━━━━━━━━━━━━━━━━━━━━━━━━━━━━━━━━━━━ 128.4/128.4 kB 33.5 MB/s eta 0:00:00\\nCollecting numpy==1.22.4 (from -r /app/condaenv.kw0m92ji.requirements.txt (line 13))\\n  Downloading numpy-1.22.4-cp310-cp310-manylinux_2_17_x86_64.manylinux2014_x86_64.whl (16.8 MB)\\n     ━━━━━━━━━━━━━━━━━━━━━━━━━━━━━━━━━━━━━━━━ 16.8/16.8 MB 93.1 MB/s eta 0:00:00\\nCollecting packaging==23.1 (from -r /app/condaenv.kw0m92ji.requirements.txt (line 14))\\n  Downloading packaging-23.1-py3-none-any.whl (48 kB)\\n     ━━━━━━━━━━━━━━━━━━━━━━━━━━━━━━━━━━━━━━━━ 48.9/48.9 kB 17.0 MB/s eta 0:00:00\\nCollecting pathlib==1.0.1 (from -r /app/condaenv.kw0m92ji.requirements.txt (line 15))\\n  Downloading pathlib-1.0.1-py3-none-any.whl (14 kB)\\nCollecting protobuf==3.19.4 (from -r /app/condaenv.kw0m92ji.requirements.txt (line 16))\\n  Downloading protobuf-3.19.4-cp310-cp310-manylinux_2_17_x86_64.manylinux2014_x86_64.whl (1.1 MB)\\n     ━━━━━━━━━━━━━━━━━━━━━━━━━━━━━━━━━━━━━━━━ 1.1/1.1 MB 109.1 MB/s eta 0:00:00\\nCollecting pyyaml==6.0 (from -r /app/condaenv.kw0m92ji.requirements.txt (line 17))\\n  Downloading PyYAML-6.0-cp310-cp310-manylinux_2_5_x86_64.manylinux1_x86_64.manylinux_2_12_x86_64.manylinux2010_x86_64.whl (682 kB)\\n     ━━━━━━━━━━━━━━━━━━━━━━━━━━━━━━━━━━━━━━ 682.2/682.2 kB 88.3 MB/s eta 0:00:00\\nCollecting requests==2.27.1 (from -r /app/condaenv.kw0m92ji.requirements.txt (line 18))\\n  Downloading requests-2.27.1-py2.py3-none-any.whl (63 kB)\\n     ━━━━━━━━━━━━━━━━━━━━━━━━━━━━━━━━━━━━━━━━ 63.1/63.1 kB 22.1 MB/s eta 0:00:00\\nCollecting scikit-learn==1.2.2 (from -r /app/condaenv.kw0m92ji.requirements.txt (line 19))\\n  Downloading scikit_learn-1.2.2-cp310-cp310-manylinux_2_17_x86_64.manylinux2014_x86_64.whl (9.6 MB)\\n     ━━━━━━━━━━━━━━━━━━━━━━━━━━━━━━━━━━━━━━━━ 9.6/9.6 MB 139.0 MB/s eta 0:00:00\\nCollecting scipy==1.10.1 (from -r /app/condaenv.kw0m92ji.requirements.txt (line 20))\\n  Downloading scipy-1.10.1-cp310-cp310-manylinux_2_17_x86_64.manylinux2014_x86_64.whl (34.4 MB)\\n     ━━━━━━━━━━━━━━━━━━━━━━━━━━━━━━━━━━━━━━━━ 34.4/34.4 MB 53.0 MB/s eta 0:00:00\\nCollecting click<9,>=7.0 (from mlflow==2.4->-r /app/condaenv.kw0m92ji.requirements.txt (line 1))\\n  Downloading click-8.1.3-py3-none-any.whl (96 kB)\\n     ━━━━━━━━━━━━━━━━━━━━━━━━━━━━━━━━━━━━━━━━ 96.6/96.6 kB 34.4 MB/s eta 0:00:00\\nCollecting databricks-cli<1,>=0.8.7 (from mlflow==2.4->-r /app/condaenv.kw0m92ji.requirements.txt (line 1))\\n  Downloading databricks-cli-0.17.7.tar.gz (83 kB)\\n     ━━━━━━━━━━━━━━━━━━━━━━━━━━━━━━━━━━━━━━━━ 83.5/83.5 kB 30.1 MB/s eta 0:00:00\\n  Preparing metadata (setup.py): started\\n  Preparing metadata (setup.py): finished with status \\'done\\'\\nCollecting entrypoints<1 (from mlflow==2.4->-r /app/condaenv.kw0m92ji.requirements.txt (line 1))\\n  Downloading entrypoints-0.4-py3-none-any.whl (5.3 kB)\\nCollecting gitpython<4,>=2.1.0 (from mlflow==2.4->-r /app/condaenv.kw0m92ji.requirements.txt (line 1))\\n  Downloading GitPython-3.1.31-py3-none-any.whl (184 kB)\\n     ━━━━━━━━━━━━━━━━━━━━━━━━━━━━━━━━━━━━━━ 184.3/184.3 kB 57.6 MB/s eta 0:00:00\\nCollecting pytz<2024 (from mlflow==2.4->-r /app/condaenv.kw0m92ji.requirements.txt (line 1))\\n  Downloading pytz-2023.3-py2.py3-none-any.whl (502 kB)\\n     ━━━━━━━━━━━━━━━━━━━━━━━━━━━━━━━━━━━━━━ 502.3/502.3 kB 86.5 MB/s eta 0:00:00\\nCollecting importlib-metadata!=4.7.0,<7,>=3.7.0 (from mlflow==2.4->-r /app/condaenv.kw0m92ji.requirements.txt (line 1))\\n  Downloading importlib_metadata-6.7.0-py3-none-any.whl (22 kB)\\nCollecting sqlparse<1,>=0.4.0 (from mlflow==2.4->-r /app/condaenv.kw0m92ji.requirements.txt (line 1))\\n  Downloading sqlparse-0.4.4-py3-none-any.whl (41 kB)\\n     ━━━━━━━━━━━━━━━━━━━━━━━━━━━━━━━━━━━━━━━━ 41.2/41.2 kB 14.1 MB/s eta 0:00:00\\nCollecting alembic!=1.10.0,<2 (from mlflow==2.4->-r /app/condaenv.kw0m92ji.requirements.txt (line 1))\\n  Downloading alembic-1.11.1-py3-none-any.whl (224 kB)\\n     ━━━━━━━━━━━━━━━━━━━━━━━━━━━━━━━━━━━━━━ 224.5/224.5 kB 52.3 MB/s eta 0:00:00\\nCollecting Flask<3 (from mlflow==2.4->-r /app/condaenv.kw0m92ji.requirements.txt (line 1))\\n  Downloading Flask-2.3.2-py3-none-any.whl (96 kB)\\n     ━━━━━━━━━━━━━━━━━━━━━━━━━━━━━━━━━━━━━━━━ 96.9/96.9 kB 32.5 MB/s eta 0:00:00\\nCollecting pandas<3 (from mlflow==2.4->-r /app/condaenv.kw0m92ji.requirements.txt (line 1))\\n  Downloading pandas-2.0.3-cp310-cp310-manylinux_2_17_x86_64.manylinux2014_x86_64.whl (12.3 MB)\\n     ━━━━━━━━━━━━━━━━━━━━━━━━━━━━━━━━━━━━━━━ 12.3/12.3 MB 125.3 MB/s eta 0:00:00\\nCollecting querystring-parser<2 (from mlflow==2.4->-r /app/condaenv.kw0m92ji.requirements.txt (line 1))\\n  Downloading querystring_parser-1.2.4-py2.py3-none-any.whl (7.9 kB)\\nCollecting sqlalchemy<3,>=1.4.0 (from mlflow==2.4->-r /app/condaenv.kw0m92ji.requirements.txt (line 1))\\n  Downloading SQLAlchemy-2.0.17-cp310-cp310-manylinux_2_17_x86_64.manylinux2014_x86_64.whl (2.7 MB)\\n     ━━━━━━━━━━━━━━━━━━━━━━━━━━━━━━━━━━━━━━━━ 2.7/2.7 MB 130.8 MB/s eta 0:00:00\\nCollecting pyarrow<13,>=4.0.0 (from mlflow==2.4->-r /app/condaenv.kw0m92ji.requirements.txt (line 1))\\n  Downloading pyarrow-12.0.1-cp310-cp310-manylinux_2_17_x86_64.manylinux2014_x86_64.whl (38.9 MB)\\n     ━━━━━━━━━━━━━━━━━━━━━━━━━━━━━━━━━━━━━━━━ 38.9/38.9 MB 50.8 MB/s eta 0:00:00\\nCollecting markdown<4,>=3.3 (from mlflow==2.4->-r /app/condaenv.kw0m92ji.requirements.txt (line 1))\\n  Downloading Markdown-3.4.3-py3-none-any.whl (93 kB)\\n     ━━━━━━━━━━━━━━━━━━━━━━━━━━━━━━━━━━━━━━━━ 93.9/93.9 kB 31.7 MB/s eta 0:00:00\\nCollecting matplotlib<4 (from mlflow==2.4->-r /app/condaenv.kw0m92ji.requirements.txt (line 1))\\n  Downloading matplotlib-3.7.1-cp310-cp310-manylinux_2_17_x86_64.manylinux2014_x86_64.whl (11.6 MB)\\n     ━━━━━━━━━━━━━━━━━━━━━━━━━━━━━━━━━━━━━━━ 11.6/11.6 MB 127.0 MB/s eta 0:00:00\\nCollecting gunicorn<21 (from mlflow==2.4->-r /app/condaenv.kw0m92ji.requirements.txt (line 1))\\n  Downloading gunicorn-20.1.0-py3-none-any.whl (79 kB)\\n     ━━━━━━━━━━━━━━━━━━━━━━━━━━━━━━━━━━━━━━━━ 79.5/79.5 kB 27.5 MB/s eta 0:00:00\\nCollecting Jinja2<4,>=2.11 (from mlflow==2.4->-r /app/condaenv.kw0m92ji.requirements.txt (line 1))\\n  Downloading Jinja2-3.1.2-py3-none-any.whl (133 kB)\\n     ━━━━━━━━━━━━━━━━━━━━━━━━━━━━━━━━━━━━━━ 133.1/133.1 kB 43.4 MB/s eta 0:00:00\\nCollecting validators (from chassisml==1.4.13->-r /app/condaenv.kw0m92ji.requirements.txt (line 2))\\n  Downloading validators-0.20.0.tar.gz (30 kB)\\n  Preparing metadata (setup.py): started\\n  Preparing metadata (setup.py): finished with status \\'done\\'\\nCollecting grpc-requests (from chassisml==1.4.13->-r /app/condaenv.kw0m92ji.requirements.txt (line 2))\\n  Downloading grpc_requests-0.1.10-py3-none-any.whl (28 kB)\\nCollecting grpcio (from chassisml==1.4.13->-r /app/condaenv.kw0m92ji.requirements.txt (line 2))\\n  Downloading grpcio-1.56.0-cp310-cp310-manylinux_2_17_x86_64.manylinux2014_x86_64.whl (5.2 MB)\\n     ━━━━━━━━━━━━━━━━━━━━━━━━━━━━━━━━━━━━━━━━ 5.2/5.2 MB 80.9 MB/s eta 0:00:00\\nCollecting urllib3>=1.26.0 (from docker==6.1.3->-r /app/condaenv.kw0m92ji.requirements.txt (line 4))\\n  Downloading urllib3-2.0.3-py3-none-any.whl (123 kB)\\n     ━━━━━━━━━━━━━━━━━━━━━━━━━━━━━━━━━━━━━━ 123.6/123.6 kB 36.7 MB/s eta 0:00:00\\nCollecting websocket-client>=0.32.0 (from docker==6.1.3->-r /app/condaenv.kw0m92ji.requirements.txt (line 4))\\n  Downloading websocket_client-1.6.1-py3-none-any.whl (56 kB)\\n     ━━━━━━━━━━━━━━━━━━━━━━━━━━━━━━━━━━━━━━━━ 56.9/56.9 kB 21.7 MB/s eta 0:00:00\\nCollecting google-api-core[grpc]!=2.0.*,!=2.1.*,!=2.10.*,!=2.2.*,!=2.3.*,!=2.4.*,!=2.5.*,!=2.6.*,!=2.7.*,!=2.8.*,!=2.9.*,<3.0.0dev,>=1.34.0 (from google-cloud-bigquery-connection==1.12.0->-r /app/condaenv.kw0m92ji.requirements.txt (line 5))\\n  Downloading google_api_core-2.11.1-py3-none-any.whl (120 kB)\\n     ━━━━━━━━━━━━━━━━━━━━━━━━━━━━━━━━━━━━━━ 120.5/120.5 kB 37.6 MB/s eta 0:00:00\\nCollecting proto-plus<2.0.0dev,>=1.22.0 (from google-cloud-bigquery-connection==1.12.0->-r /app/condaenv.kw0m92ji.requirements.txt (line 5))\\n  Downloading proto_plus-1.22.3-py3-none-any.whl (48 kB)\\n     ━━━━━━━━━━━━━━━━━━━━━━━━━━━━━━━━━━━━━━━━ 48.1/48.1 kB 17.0 MB/s eta 0:00:00\\nINFO: pip is looking at multiple versions of google-cloud-bigquery-connection to determine which version is compatible with other requirements. This could take a while.\\n\\nThe conflict is caused by:\\n    The user requested protobuf==3.19.4\\n    mlflow 2.4.0 depends on protobuf<5 and >=3.12.0\\n    chassisml 1.4.13 depends on protobuf==3.19.4\\n    google-cloud-bigquery-connection 1.12.0 depends on protobuf!=3.20.0, !=3.20.1, !=4.21.0, !=4.21.1, !=4.21.2, !=4.21.3, !=4.21.4, !=4.21.5, <5.0.0dev and >=3.19.5\\n\\nTo fix this you could try to:\\n1. loosen the range of package versions you\\'ve specified\\n2. remove package versions to allow pip attempt to solve the dependency conflict\\n\\n\\nfailed\\n\\nCondaEnvException: Pip failed\\n\\nerror building image: error building stage: failed to execute command: waiting for process to exit: exit status 1\\n', 'result': None, 'status': {'active': None, 'completion_time': None, 'conditions': [{'last_probe_time': 'Fri, 30 Jun 2023 16:51:33 GMT', 'last_transition_time': 'Fri, 30 Jun 2023 16:51:33 GMT', 'message': 'Job has reached the specified backoff limit', 'reason': 'BackoffLimitExceeded', 'status': 'True', 'type': 'Failed'}], 'failed': 1, 'start_time': 'Fri, 30 Jun 2023 16:49:24 GMT', 'succeeded': None}}\n"
          ]
        }
      ]
    },
    {
      "cell_type": "code",
      "source": [
        "!pip install modzy-sdk"
      ],
      "metadata": {
        "colab": {
          "base_uri": "https://localhost:8080/"
        },
        "id": "6mc5YPyTFDi-",
        "outputId": "865a90d7-8530-490a-ce98-cf4811512d83"
      },
      "execution_count": null,
      "outputs": [
        {
          "output_type": "stream",
          "name": "stdout",
          "text": [
            "Looking in indexes: https://pypi.org/simple, https://us-python.pkg.dev/colab-wheels/public/simple/\n",
            "Collecting modzy-sdk\n",
            "  Downloading modzy_sdk-0.11.3-py2.py3-none-any.whl (105 kB)\n",
            "\u001b[2K     \u001b[90m━━━━━━━━━━━━━━━━━━━━━━━━━━━━━━━━━━━━━━━\u001b[0m \u001b[32m105.5/105.5 kB\u001b[0m \u001b[31m4.0 MB/s\u001b[0m eta \u001b[36m0:00:00\u001b[0m\n",
            "\u001b[?25hRequirement already satisfied: requests in /usr/local/lib/python3.10/dist-packages (from modzy-sdk) (2.27.1)\n",
            "Collecting python-dotenv (from modzy-sdk)\n",
            "  Downloading python_dotenv-1.0.0-py3-none-any.whl (19 kB)\n",
            "Collecting deprecation (from modzy-sdk)\n",
            "  Downloading deprecation-2.1.0-py2.py3-none-any.whl (11 kB)\n",
            "Collecting protobuf~=4.21.10 (from modzy-sdk)\n",
            "  Downloading protobuf-4.21.12-cp37-abi3-manylinux2014_x86_64.whl (409 kB)\n",
            "\u001b[2K     \u001b[90m━━━━━━━━━━━━━━━━━━━━━━━━━━━━━━━━━━━━━━\u001b[0m \u001b[32m409.8/409.8 kB\u001b[0m \u001b[31m14.8 MB/s\u001b[0m eta \u001b[36m0:00:00\u001b[0m\n",
            "\u001b[?25hRequirement already satisfied: grpcio in /usr/local/lib/python3.10/dist-packages (from modzy-sdk) (1.54.2)\n",
            "Requirement already satisfied: google-api-python-client in /usr/local/lib/python3.10/dist-packages (from modzy-sdk) (2.84.0)\n",
            "Collecting boto3 (from modzy-sdk)\n",
            "  Downloading boto3-1.26.160-py3-none-any.whl (135 kB)\n",
            "\u001b[2K     \u001b[90m━━━━━━━━━━━━━━━━━━━━━━━━━━━━━━━━━━━━━━\u001b[0m \u001b[32m135.9/135.9 kB\u001b[0m \u001b[31m13.5 MB/s\u001b[0m eta \u001b[36m0:00:00\u001b[0m\n",
            "\u001b[?25hCollecting botocore<1.30.0,>=1.29.160 (from boto3->modzy-sdk)\n",
            "  Downloading botocore-1.29.160-py3-none-any.whl (10.9 MB)\n",
            "\u001b[2K     \u001b[90m━━━━━━━━━━━━━━━━━━━━━━━━━━━━━━━━━━━━━━━━\u001b[0m \u001b[32m10.9/10.9 MB\u001b[0m \u001b[31m26.9 MB/s\u001b[0m eta \u001b[36m0:00:00\u001b[0m\n",
            "\u001b[?25hCollecting jmespath<2.0.0,>=0.7.1 (from boto3->modzy-sdk)\n",
            "  Downloading jmespath-1.0.1-py3-none-any.whl (20 kB)\n",
            "Collecting s3transfer<0.7.0,>=0.6.0 (from boto3->modzy-sdk)\n",
            "  Downloading s3transfer-0.6.1-py3-none-any.whl (79 kB)\n",
            "\u001b[2K     \u001b[90m━━━━━━━━━━━━━━━━━━━━━━━━━━━━━━━━━━━━━━━━\u001b[0m \u001b[32m79.8/79.8 kB\u001b[0m \u001b[31m3.8 MB/s\u001b[0m eta \u001b[36m0:00:00\u001b[0m\n",
            "\u001b[?25hRequirement already satisfied: packaging in /usr/local/lib/python3.10/dist-packages (from deprecation->modzy-sdk) (23.1)\n",
            "Requirement already satisfied: httplib2<1dev,>=0.15.0 in /usr/local/lib/python3.10/dist-packages (from google-api-python-client->modzy-sdk) (0.21.0)\n",
            "Requirement already satisfied: google-auth<3.0.0dev,>=1.19.0 in /usr/local/lib/python3.10/dist-packages (from google-api-python-client->modzy-sdk) (2.17.3)\n",
            "Requirement already satisfied: google-auth-httplib2>=0.1.0 in /usr/local/lib/python3.10/dist-packages (from google-api-python-client->modzy-sdk) (0.1.0)\n",
            "Requirement already satisfied: google-api-core!=2.0.*,!=2.1.*,!=2.2.*,!=2.3.0,<3.0.0dev,>=1.31.5 in /usr/local/lib/python3.10/dist-packages (from google-api-python-client->modzy-sdk) (2.11.1)\n",
            "Requirement already satisfied: uritemplate<5,>=3.0.1 in /usr/local/lib/python3.10/dist-packages (from google-api-python-client->modzy-sdk) (4.1.1)\n",
            "Requirement already satisfied: urllib3<1.27,>=1.21.1 in /usr/local/lib/python3.10/dist-packages (from requests->modzy-sdk) (1.26.16)\n",
            "Requirement already satisfied: certifi>=2017.4.17 in /usr/local/lib/python3.10/dist-packages (from requests->modzy-sdk) (2023.5.7)\n",
            "Requirement already satisfied: charset-normalizer~=2.0.0 in /usr/local/lib/python3.10/dist-packages (from requests->modzy-sdk) (2.0.12)\n",
            "Requirement already satisfied: idna<4,>=2.5 in /usr/local/lib/python3.10/dist-packages (from requests->modzy-sdk) (3.4)\n",
            "Requirement already satisfied: python-dateutil<3.0.0,>=2.1 in /usr/local/lib/python3.10/dist-packages (from botocore<1.30.0,>=1.29.160->boto3->modzy-sdk) (2.8.2)\n",
            "Requirement already satisfied: googleapis-common-protos<2.0.dev0,>=1.56.2 in /usr/local/lib/python3.10/dist-packages (from google-api-core!=2.0.*,!=2.1.*,!=2.2.*,!=2.3.0,<3.0.0dev,>=1.31.5->google-api-python-client->modzy-sdk) (1.59.1)\n",
            "Requirement already satisfied: cachetools<6.0,>=2.0.0 in /usr/local/lib/python3.10/dist-packages (from google-auth<3.0.0dev,>=1.19.0->google-api-python-client->modzy-sdk) (5.3.1)\n",
            "Requirement already satisfied: pyasn1-modules>=0.2.1 in /usr/local/lib/python3.10/dist-packages (from google-auth<3.0.0dev,>=1.19.0->google-api-python-client->modzy-sdk) (0.3.0)\n",
            "Requirement already satisfied: six>=1.9.0 in /usr/local/lib/python3.10/dist-packages (from google-auth<3.0.0dev,>=1.19.0->google-api-python-client->modzy-sdk) (1.16.0)\n",
            "Requirement already satisfied: rsa<5,>=3.1.4 in /usr/local/lib/python3.10/dist-packages (from google-auth<3.0.0dev,>=1.19.0->google-api-python-client->modzy-sdk) (4.9)\n",
            "Requirement already satisfied: pyparsing!=3.0.0,!=3.0.1,!=3.0.2,!=3.0.3,<4,>=2.4.2 in /usr/local/lib/python3.10/dist-packages (from httplib2<1dev,>=0.15.0->google-api-python-client->modzy-sdk) (3.1.0)\n",
            "Requirement already satisfied: pyasn1<0.6.0,>=0.4.6 in /usr/local/lib/python3.10/dist-packages (from pyasn1-modules>=0.2.1->google-auth<3.0.0dev,>=1.19.0->google-api-python-client->modzy-sdk) (0.5.0)\n",
            "Installing collected packages: python-dotenv, protobuf, jmespath, deprecation, botocore, s3transfer, boto3, modzy-sdk\n",
            "  Attempting uninstall: protobuf\n",
            "    Found existing installation: protobuf 3.20.3\n",
            "    Uninstalling protobuf-3.20.3:\n",
            "      Successfully uninstalled protobuf-3.20.3\n",
            "Successfully installed boto3-1.26.160 botocore-1.29.160 deprecation-2.1.0 jmespath-1.0.1 modzy-sdk-0.11.3 protobuf-4.21.12 python-dotenv-1.0.0 s3transfer-0.6.1\n"
          ]
        }
      ]
    },
    {
      "cell_type": "code",
      "source": [
        "\n",
        "from modzy import ApiClient\n",
        "from modzy._util import file_to_bytes\n",
        "client = ApiClient(base_url=\"https://tenant18.bot.5goil.tmobile.com/api\", api_key=\"wZr4nkIAtLFPNUPySOdC\")\n",
        "sources = {}\n",
        "#Add any number of inputs\n",
        "sources[\"my-input\"] = {\n",
        "    \"input.txt\": \"Lorem ipsum dolor sit amet\",\n",
        "}\n",
        "#Once you are ready, submit the job\n",
        "job = client.jobs.submit_text(\"ed542963de\", \"1.0.1\", sources)\n",
        "print(f\"job: {job}\")\n",
        "\n"
      ],
      "metadata": {
        "id": "hgB-wB-KuiaX",
        "colab": {
          "base_uri": "https://localhost:8080/",
          "height": 1000
        },
        "outputId": "ed028930-8b6e-4ba2-aced-42c33de27b5e"
      },
      "execution_count": null,
      "outputs": [
        {
          "output_type": "stream",
          "name": "stderr",
          "text": [
            "ERROR:modzy.http:unable to make network request\n",
            "Traceback (most recent call last):\n",
            "  File \"/usr/local/lib/python3.10/dist-packages/urllib3/connection.py\", line 174, in _new_conn\n",
            "    conn = connection.create_connection(\n",
            "  File \"/usr/local/lib/python3.10/dist-packages/urllib3/util/connection.py\", line 72, in create_connection\n",
            "    for res in socket.getaddrinfo(host, port, family, socket.SOCK_STREAM):\n",
            "  File \"/usr/lib/python3.10/socket.py\", line 955, in getaddrinfo\n",
            "    for res in _socket.getaddrinfo(host, port, family, type, proto, flags):\n",
            "socket.gaierror: [Errno -2] Name or service not known\n",
            "\n",
            "During handling of the above exception, another exception occurred:\n",
            "\n",
            "Traceback (most recent call last):\n",
            "  File \"/usr/local/lib/python3.10/dist-packages/urllib3/connectionpool.py\", line 714, in urlopen\n",
            "    httplib_response = self._make_request(\n",
            "  File \"/usr/local/lib/python3.10/dist-packages/urllib3/connectionpool.py\", line 403, in _make_request\n",
            "    self._validate_conn(conn)\n",
            "  File \"/usr/local/lib/python3.10/dist-packages/urllib3/connectionpool.py\", line 1053, in _validate_conn\n",
            "    conn.connect()\n",
            "  File \"/usr/local/lib/python3.10/dist-packages/urllib3/connection.py\", line 363, in connect\n",
            "    self.sock = conn = self._new_conn()\n",
            "  File \"/usr/local/lib/python3.10/dist-packages/urllib3/connection.py\", line 186, in _new_conn\n",
            "    raise NewConnectionError(\n",
            "urllib3.exceptions.NewConnectionError: <urllib3.connection.HTTPSConnection object at 0x7f14f99bef20>: Failed to establish a new connection: [Errno -2] Name or service not known\n",
            "\n",
            "During handling of the above exception, another exception occurred:\n",
            "\n",
            "Traceback (most recent call last):\n",
            "  File \"/usr/local/lib/python3.10/dist-packages/requests/adapters.py\", line 440, in send\n",
            "    resp = conn.urlopen(\n",
            "  File \"/usr/local/lib/python3.10/dist-packages/urllib3/connectionpool.py\", line 798, in urlopen\n",
            "    retries = retries.increment(\n",
            "  File \"/usr/local/lib/python3.10/dist-packages/urllib3/util/retry.py\", line 592, in increment\n",
            "    raise MaxRetryError(_pool, url, error or ResponseError(cause))\n",
            "urllib3.exceptions.MaxRetryError: HTTPSConnectionPool(host='tenant18.bot.5goil.tmobile.com', port=443): Max retries exceeded with url: /api/models (Caused by NewConnectionError('<urllib3.connection.HTTPSConnection object at 0x7f14f99bef20>: Failed to establish a new connection: [Errno -2] Name or service not known'))\n",
            "\n",
            "During handling of the above exception, another exception occurred:\n",
            "\n",
            "Traceback (most recent call last):\n",
            "  File \"/usr/local/lib/python3.10/dist-packages/modzy/http.py\", line 85, in request\n",
            "    response = self.session.request(method, url, data=data, headers=headers, files=file_data, verify=self._api_client.cert, params=params)\n",
            "  File \"/usr/local/lib/python3.10/dist-packages/requests/sessions.py\", line 529, in request\n",
            "    resp = self.send(prep, **send_kwargs)\n",
            "  File \"/usr/local/lib/python3.10/dist-packages/requests/sessions.py\", line 645, in send\n",
            "    r = adapter.send(request, **kwargs)\n",
            "  File \"/usr/local/lib/python3.10/dist-packages/requests/adapters.py\", line 519, in send\n",
            "    raise ConnectionError(e, request=request)\n",
            "requests.exceptions.ConnectionError: HTTPSConnectionPool(host='tenant18.bot.5goil.tmobile.com', port=443): Max retries exceeded with url: /api/models (Caused by NewConnectionError('<urllib3.connection.HTTPSConnection object at 0x7f14f99bef20>: Failed to establish a new connection: [Errno -2] Name or service not known'))\n"
          ]
        },
        {
          "output_type": "error",
          "ename": "ValueError",
          "evalue": "ignored",
          "traceback": [
            "\u001b[0;31m---------------------------------------------------------------------------\u001b[0m",
            "\u001b[0;31mValueError\u001b[0m                                Traceback (most recent call last)",
            "\u001b[0;32m<ipython-input-2-f69c19fa5a3e>\u001b[0m in \u001b[0;36m<cell line: 3>\u001b[0;34m()\u001b[0m\n\u001b[1;32m      1\u001b[0m \u001b[0;32mfrom\u001b[0m \u001b[0mmodzy\u001b[0m \u001b[0;32mimport\u001b[0m \u001b[0mApiClient\u001b[0m\u001b[0;34m\u001b[0m\u001b[0;34m\u001b[0m\u001b[0m\n\u001b[1;32m      2\u001b[0m \u001b[0;32mfrom\u001b[0m \u001b[0mmodzy\u001b[0m\u001b[0;34m.\u001b[0m\u001b[0m_util\u001b[0m \u001b[0;32mimport\u001b[0m \u001b[0mfile_to_bytes\u001b[0m\u001b[0;34m\u001b[0m\u001b[0;34m\u001b[0m\u001b[0m\n\u001b[0;32m----> 3\u001b[0;31m \u001b[0mclient\u001b[0m \u001b[0;34m=\u001b[0m \u001b[0mApiClient\u001b[0m\u001b[0;34m(\u001b[0m\u001b[0mbase_url\u001b[0m\u001b[0;34m=\u001b[0m\u001b[0;34m\"https://tenant18.bot.5goil.tmobile.com/api\"\u001b[0m\u001b[0;34m,\u001b[0m \u001b[0mapi_key\u001b[0m\u001b[0;34m=\u001b[0m\u001b[0;34m\"wZr4nkIAtLFPNUPySOdC\"\u001b[0m\u001b[0;34m)\u001b[0m\u001b[0;34m\u001b[0m\u001b[0;34m\u001b[0m\u001b[0m\n\u001b[0m\u001b[1;32m      4\u001b[0m \u001b[0msources\u001b[0m \u001b[0;34m=\u001b[0m \u001b[0;34m{\u001b[0m\u001b[0;34m}\u001b[0m\u001b[0;34m\u001b[0m\u001b[0;34m\u001b[0m\u001b[0m\n\u001b[1;32m      5\u001b[0m \u001b[0;31m#Add any number of inputs\u001b[0m\u001b[0;34m\u001b[0m\u001b[0;34m\u001b[0m\u001b[0m\n",
            "\u001b[0;32m/usr/local/lib/python3.10/dist-packages/modzy/client.py\u001b[0m in \u001b[0;36m__init__\u001b[0;34m(self, base_url, api_key, cert)\u001b[0m\n\u001b[1;32m     46\u001b[0m \u001b[0;34m\u001b[0m\u001b[0m\n\u001b[1;32m     47\u001b[0m         \u001b[0mself\u001b[0m\u001b[0;34m.\u001b[0m\u001b[0mhttp\u001b[0m \u001b[0;34m=\u001b[0m \u001b[0mHttpClient\u001b[0m\u001b[0;34m(\u001b[0m\u001b[0mself\u001b[0m\u001b[0;34m)\u001b[0m\u001b[0;34m\u001b[0m\u001b[0;34m\u001b[0m\u001b[0m\n\u001b[0;32m---> 48\u001b[0;31m         \u001b[0mself\u001b[0m\u001b[0;34m.\u001b[0m\u001b[0mcheck_client\u001b[0m\u001b[0;34m(\u001b[0m\u001b[0;34m)\u001b[0m\u001b[0;34m\u001b[0m\u001b[0;34m\u001b[0m\u001b[0m\n\u001b[0m\u001b[1;32m     49\u001b[0m \u001b[0;34m\u001b[0m\u001b[0m\n\u001b[1;32m     50\u001b[0m         \u001b[0mself\u001b[0m\u001b[0;34m.\u001b[0m\u001b[0mmodels\u001b[0m \u001b[0;34m=\u001b[0m \u001b[0mModels\u001b[0m\u001b[0;34m(\u001b[0m\u001b[0mself\u001b[0m\u001b[0;34m)\u001b[0m\u001b[0;34m\u001b[0m\u001b[0;34m\u001b[0m\u001b[0m\n",
            "\u001b[0;32m/usr/local/lib/python3.10/dist-packages/modzy/client.py\u001b[0m in \u001b[0;36mcheck_client\u001b[0;34m(self)\u001b[0m\n\u001b[1;32m     71\u001b[0m \u001b[0;34m\u001b[0m\u001b[0m\n\u001b[1;32m     72\u001b[0m         \u001b[0;32mif\u001b[0m \u001b[0;32mnot\u001b[0m \u001b[0mreq_check\u001b[0m\u001b[0;34m:\u001b[0m\u001b[0;34m\u001b[0m\u001b[0;34m\u001b[0m\u001b[0m\n\u001b[0;32m---> 73\u001b[0;31m             raise ValueError(\"Cannot initialize the modzy client: the base_url param should point to a valid API \"\n\u001b[0m\u001b[1;32m     74\u001b[0m                              \"endpoint and the api_key should be a valid key for the env\")\n\u001b[1;32m     75\u001b[0m \u001b[0;34m\u001b[0m\u001b[0m\n",
            "\u001b[0;31mValueError\u001b[0m: Cannot initialize the modzy client: the base_url param should point to a valid API endpoint and the api_key should be a valid key for the env"
          ]
        }
      ]
    },
    {
      "cell_type": "code",
      "source": [
        "!pip install tinygrad"
      ],
      "metadata": {
        "colab": {
          "base_uri": "https://localhost:8080/"
        },
        "id": "5JxVLW-Krhg7",
        "outputId": "d425d793-5212-4f1c-a618-d51852d19163"
      },
      "execution_count": null,
      "outputs": [
        {
          "output_type": "stream",
          "name": "stdout",
          "text": [
            "Collecting tinygrad\n",
            "  Downloading tinygrad-0.6.0-py3-none-any.whl (67 kB)\n",
            "\u001b[?25l     \u001b[90m━━━━━━━━━━━━━━━━━━━━━━━━━━━━━━━━━━━━━━━━\u001b[0m \u001b[32m0.0/67.1 kB\u001b[0m \u001b[31m?\u001b[0m eta \u001b[36m-:--:--\u001b[0m\r\u001b[2K     \u001b[90m━━━━━━━━━━━━━━━━━━━━━━━━━━━━━━━━━━━━━━━━\u001b[0m \u001b[32m67.1/67.1 kB\u001b[0m \u001b[31m2.5 MB/s\u001b[0m eta \u001b[36m0:00:00\u001b[0m\n",
            "\u001b[?25hRequirement already satisfied: numpy in /usr/local/lib/python3.10/dist-packages (from tinygrad) (1.22.4)\n",
            "Requirement already satisfied: requests in /usr/local/lib/python3.10/dist-packages (from tinygrad) (2.27.1)\n",
            "Requirement already satisfied: pillow in /usr/local/lib/python3.10/dist-packages (from tinygrad) (8.4.0)\n",
            "Requirement already satisfied: tqdm in /usr/local/lib/python3.10/dist-packages (from tinygrad) (4.65.0)\n",
            "Requirement already satisfied: networkx in /usr/local/lib/python3.10/dist-packages (from tinygrad) (3.1)\n",
            "Collecting pyopencl (from tinygrad)\n",
            "  Downloading pyopencl-2023.1.1-cp310-cp310-manylinux_2_17_x86_64.manylinux2014_x86_64.whl (919 kB)\n",
            "\u001b[2K     \u001b[90m━━━━━━━━━━━━━━━━━━━━━━━━━━━━━━━━━━━━━━\u001b[0m \u001b[32m919.2/919.2 kB\u001b[0m \u001b[31m14.0 MB/s\u001b[0m eta \u001b[36m0:00:00\u001b[0m\n",
            "\u001b[?25hCollecting pytools>=2021.2.7 (from pyopencl->tinygrad)\n",
            "  Downloading pytools-2023.1-py2.py3-none-any.whl (70 kB)\n",
            "\u001b[2K     \u001b[90m━━━━━━━━━━━━━━━━━━━━━━━━━━━━━━━━━━━━━━━━\u001b[0m \u001b[32m70.4/70.4 kB\u001b[0m \u001b[31m5.7 MB/s\u001b[0m eta \u001b[36m0:00:00\u001b[0m\n",
            "\u001b[?25hRequirement already satisfied: platformdirs>=2.2.0 in /usr/local/lib/python3.10/dist-packages (from pyopencl->tinygrad) (3.7.0)\n",
            "Requirement already satisfied: urllib3<1.27,>=1.21.1 in /usr/local/lib/python3.10/dist-packages (from requests->tinygrad) (1.26.16)\n",
            "Requirement already satisfied: certifi>=2017.4.17 in /usr/local/lib/python3.10/dist-packages (from requests->tinygrad) (2023.5.7)\n",
            "Requirement already satisfied: charset-normalizer~=2.0.0 in /usr/local/lib/python3.10/dist-packages (from requests->tinygrad) (2.0.12)\n",
            "Requirement already satisfied: idna<4,>=2.5 in /usr/local/lib/python3.10/dist-packages (from requests->tinygrad) (3.4)\n",
            "Requirement already satisfied: typing-extensions>=4.0 in /usr/local/lib/python3.10/dist-packages (from pytools>=2021.2.7->pyopencl->tinygrad) (4.6.3)\n",
            "Installing collected packages: pytools, pyopencl, tinygrad\n",
            "Successfully installed pyopencl-2023.1.1 pytools-2023.1 tinygrad-0.6.0\n"
          ]
        }
      ]
    },
    {
      "cell_type": "code",
      "source": [],
      "metadata": {
        "id": "m0DZ_11lrj7A"
      },
      "execution_count": null,
      "outputs": []
    }
  ]
}