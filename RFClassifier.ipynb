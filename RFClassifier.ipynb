{
  "nbformat": 4,
  "nbformat_minor": 0,
  "metadata": {
    "colab": {
      "provenance": [],
      "gpuType": "T4",
      "include_colab_link": true
    },
    "kernelspec": {
      "name": "python3",
      "display_name": "Python 3"
    },
    "language_info": {
      "name": "python"
    },
    "accelerator": "GPU"
  },
  "cells": [
    {
      "cell_type": "markdown",
      "metadata": {
        "id": "view-in-github",
        "colab_type": "text"
      },
      "source": [
        "<a href=\"https://colab.research.google.com/github/AbhirKarande/OCRandProductRecognition/blob/main/RFClassifier.ipynb\" target=\"_parent\"><img src=\"https://colab.research.google.com/assets/colab-badge.svg\" alt=\"Open In Colab\"/></a>"
      ]
    },
    {
      "cell_type": "code",
      "source": [
        "!sudo apt-get install python3.9\n"
      ],
      "metadata": {
        "colab": {
          "base_uri": "https://localhost:8080/"
        },
        "id": "dQsc_P6hwFto",
        "outputId": "c13a1804-1664-4fb0-db11-47b380f092ff"
      },
      "execution_count": null,
      "outputs": [
        {
          "output_type": "stream",
          "name": "stdout",
          "text": [
            "Reading package lists... Done\n",
            "Building dependency tree       \n",
            "Reading state information... Done\n",
            "The following additional packages will be installed:\n",
            "  libpython3.9-minimal libpython3.9-stdlib python3.9-minimal\n",
            "Suggested packages:\n",
            "  python3.9-venv binfmt-support\n",
            "The following NEW packages will be installed:\n",
            "  libpython3.9-minimal libpython3.9-stdlib python3.9 python3.9-minimal\n",
            "0 upgraded, 4 newly installed, 0 to remove and 15 not upgraded.\n",
            "Need to get 5,030 kB of archives.\n",
            "After this operation, 19.7 MB of additional disk space will be used.\n",
            "Get:1 http://ppa.launchpad.net/deadsnakes/ppa/ubuntu focal/main amd64 libpython3.9-minimal amd64 3.9.17-1+focal1 [805 kB]\n",
            "Get:2 http://ppa.launchpad.net/deadsnakes/ppa/ubuntu focal/main amd64 python3.9-minimal amd64 3.9.17-1+focal1 [2,064 kB]\n",
            "Get:3 http://ppa.launchpad.net/deadsnakes/ppa/ubuntu focal/main amd64 libpython3.9-stdlib amd64 3.9.17-1+focal1 [1,666 kB]\n",
            "Get:4 http://ppa.launchpad.net/deadsnakes/ppa/ubuntu focal/main amd64 python3.9 amd64 3.9.17-1+focal1 [495 kB]\n",
            "Fetched 5,030 kB in 4s (1,138 kB/s)\n",
            "debconf: unable to initialize frontend: Dialog\n",
            "debconf: (No usable dialog-like program is installed, so the dialog based frontend cannot be used. at /usr/share/perl5/Debconf/FrontEnd/Dialog.pm line 76, <> line 4.)\n",
            "debconf: falling back to frontend: Readline\n",
            "debconf: unable to initialize frontend: Readline\n",
            "debconf: (This frontend requires a controlling tty.)\n",
            "debconf: falling back to frontend: Teletype\n",
            "dpkg-preconfigure: unable to re-open stdin: \n",
            "Selecting previously unselected package libpython3.9-minimal:amd64.\n",
            "(Reading database ... 123105 files and directories currently installed.)\n",
            "Preparing to unpack .../libpython3.9-minimal_3.9.17-1+focal1_amd64.deb ...\n",
            "Unpacking libpython3.9-minimal:amd64 (3.9.17-1+focal1) ...\n",
            "Selecting previously unselected package python3.9-minimal.\n",
            "Preparing to unpack .../python3.9-minimal_3.9.17-1+focal1_amd64.deb ...\n",
            "Unpacking python3.9-minimal (3.9.17-1+focal1) ...\n",
            "Selecting previously unselected package libpython3.9-stdlib:amd64.\n",
            "Preparing to unpack .../libpython3.9-stdlib_3.9.17-1+focal1_amd64.deb ...\n",
            "Unpacking libpython3.9-stdlib:amd64 (3.9.17-1+focal1) ...\n",
            "Selecting previously unselected package python3.9.\n",
            "Preparing to unpack .../python3.9_3.9.17-1+focal1_amd64.deb ...\n",
            "Unpacking python3.9 (3.9.17-1+focal1) ...\n",
            "Setting up libpython3.9-minimal:amd64 (3.9.17-1+focal1) ...\n",
            "Setting up python3.9-minimal (3.9.17-1+focal1) ...\n",
            "Setting up libpython3.9-stdlib:amd64 (3.9.17-1+focal1) ...\n",
            "Setting up python3.9 (3.9.17-1+focal1) ...\n",
            "Processing triggers for man-db (2.9.1-1) ...\n",
            "Processing triggers for mime-support (3.64ubuntu1) ...\n"
          ]
        }
      ]
    },
    {
      "cell_type": "code",
      "source": [
        "!sudo update-alternatives --install /usr/bin/python3 python3 /usr/bin/python3.10 1"
      ],
      "metadata": {
        "id": "AjH4sKSawMmS"
      },
      "execution_count": null,
      "outputs": []
    },
    {
      "cell_type": "code",
      "source": [
        "!sudo update-alternatives --install /usr/bin/python3 python3 /usr/bin/python3.9 2"
      ],
      "metadata": {
        "colab": {
          "base_uri": "https://localhost:8080/"
        },
        "id": "q4XlM7zHwOlI",
        "outputId": "6c401b77-cd2d-4d3d-911a-6f97dcf90430"
      },
      "execution_count": null,
      "outputs": [
        {
          "output_type": "stream",
          "name": "stdout",
          "text": [
            "update-alternatives: using /usr/bin/python3.9 to provide /usr/bin/python3 (python3) in auto mode\n"
          ]
        }
      ]
    },
    {
      "cell_type": "code",
      "source": [
        "!python --version\n"
      ],
      "metadata": {
        "colab": {
          "base_uri": "https://localhost:8080/"
        },
        "id": "jF2puFAbwQXg",
        "outputId": "98a1b083-8c9c-4695-932b-c42b1657ecb7"
      },
      "execution_count": null,
      "outputs": [
        {
          "output_type": "stream",
          "name": "stdout",
          "text": [
            "Python 3.9.17\n"
          ]
        }
      ]
    },
    {
      "cell_type": "code",
      "execution_count": null,
      "metadata": {
        "colab": {
          "base_uri": "https://localhost:8080/"
        },
        "id": "XtkH0hPaSpT2",
        "outputId": "c5ef4dd6-c0c3-4ea3-af20-0a9a6f50784c"
      },
      "outputs": [
        {
          "output_type": "stream",
          "name": "stdout",
          "text": [
            "Cloning into 'OCRandProductRecognition'...\n",
            "remote: Enumerating objects: 176, done.\u001b[K\n",
            "remote: Counting objects: 100% (12/12), done.\u001b[K\n",
            "remote: Compressing objects: 100% (12/12), done.\u001b[K\n",
            "remote: Total 176 (delta 4), reused 0 (delta 0), pack-reused 164\u001b[K\n",
            "Receiving objects: 100% (176/176), 50.54 MiB | 34.57 MiB/s, done.\n",
            "Resolving deltas: 100% (37/37), done.\n"
          ]
        }
      ],
      "source": [
        "!git clone https://github.com/AbhirKarande/OCRandProductRecognition.git"
      ]
    },
    {
      "cell_type": "code",
      "source": [
        "import shutil\n",
        "\n",
        "# Specify the path of the directory you want to download\n",
        "directory_path = \"/content/OCRandProductRecognition/WholeFoodsTrainingImages/train\"\n",
        "\n",
        "# Create a zip file of the directory\n",
        "shutil.make_archive(\"/content/whole_foods_training_images\", \"zip\", directory_path)\n",
        "\n",
        "# Download the zip file\n",
        "from google.colab import files\n",
        "files.download(\"/content/whole_foods_training_images.zip\")\n"
      ],
      "metadata": {
        "colab": {
          "base_uri": "https://localhost:8080/",
          "height": 17
        },
        "id": "1NJ5f1R-7Rrg",
        "outputId": "84aaa7a0-871b-40c9-81d8-0ba5685f171b"
      },
      "execution_count": null,
      "outputs": [
        {
          "output_type": "display_data",
          "data": {
            "text/plain": [
              "<IPython.core.display.Javascript object>"
            ],
            "application/javascript": [
              "\n",
              "    async function download(id, filename, size) {\n",
              "      if (!google.colab.kernel.accessAllowed) {\n",
              "        return;\n",
              "      }\n",
              "      const div = document.createElement('div');\n",
              "      const label = document.createElement('label');\n",
              "      label.textContent = `Downloading \"${filename}\": `;\n",
              "      div.appendChild(label);\n",
              "      const progress = document.createElement('progress');\n",
              "      progress.max = size;\n",
              "      div.appendChild(progress);\n",
              "      document.body.appendChild(div);\n",
              "\n",
              "      const buffers = [];\n",
              "      let downloaded = 0;\n",
              "\n",
              "      const channel = await google.colab.kernel.comms.open(id);\n",
              "      // Send a message to notify the kernel that we're ready.\n",
              "      channel.send({})\n",
              "\n",
              "      for await (const message of channel.messages) {\n",
              "        // Send a message to notify the kernel that we're ready.\n",
              "        channel.send({})\n",
              "        if (message.buffers) {\n",
              "          for (const buffer of message.buffers) {\n",
              "            buffers.push(buffer);\n",
              "            downloaded += buffer.byteLength;\n",
              "            progress.value = downloaded;\n",
              "          }\n",
              "        }\n",
              "      }\n",
              "      const blob = new Blob(buffers, {type: 'application/binary'});\n",
              "      const a = document.createElement('a');\n",
              "      a.href = window.URL.createObjectURL(blob);\n",
              "      a.download = filename;\n",
              "      div.appendChild(a);\n",
              "      a.click();\n",
              "      div.remove();\n",
              "    }\n",
              "  "
            ]
          },
          "metadata": {}
        },
        {
          "output_type": "display_data",
          "data": {
            "text/plain": [
              "<IPython.core.display.Javascript object>"
            ],
            "application/javascript": [
              "download(\"download_c1c7115a-d441-42ca-b290-d70433c904c3\", \"whole_foods_training_images.zip\", 22)"
            ]
          },
          "metadata": {}
        }
      ]
    },
    {
      "cell_type": "code",
      "source": [
        "!mkdir basil"
      ],
      "metadata": {
        "colab": {
          "base_uri": "https://localhost:8080/"
        },
        "id": "QZHP3Mr7qnpN",
        "outputId": "5e0253a0-9844-4859-bd37-df5de8ac623e"
      },
      "execution_count": null,
      "outputs": [
        {
          "output_type": "stream",
          "name": "stdout",
          "text": [
            "mkdir: cannot create directory ‘basil’: File exists\n"
          ]
        }
      ]
    },
    {
      "cell_type": "code",
      "source": [
        "import os\n",
        "import cv2\n",
        "import numpy as np\n",
        "from sklearn.ensemble import RandomForestClassifier\n",
        "from sklearn.model_selection import train_test_split\n",
        "from sklearn.metrics import accuracy_score"
      ],
      "metadata": {
        "id": "RGgYMWkOSsxb"
      },
      "execution_count": null,
      "outputs": []
    },
    {
      "cell_type": "code",
      "source": [
        "!pip install sklearn"
      ],
      "metadata": {
        "colab": {
          "base_uri": "https://localhost:8080/"
        },
        "id": "xFDA82OQ5bYQ",
        "outputId": "e031b350-5f22-45a7-aced-3b723408d5e5"
      },
      "execution_count": null,
      "outputs": [
        {
          "output_type": "stream",
          "name": "stdout",
          "text": [
            "Collecting sklearn\n",
            "  Downloading sklearn-0.0.post5.tar.gz (3.7 kB)\n",
            "  Preparing metadata (setup.py) ... \u001b[?25l\u001b[?25hdone\n",
            "Building wheels for collected packages: sklearn\n",
            "  Building wheel for sklearn (setup.py) ... \u001b[?25l\u001b[?25hdone\n",
            "  Created wheel for sklearn: filename=sklearn-0.0.post5-py3-none-any.whl size=2950 sha256=2057bc65990b05ff9d13f84812adaa1a52fe4cb952c56b744b75ad82671e6234\n",
            "  Stored in directory: /root/.cache/pip/wheels/38/1f/8d/4f812c590e074c1e928f5cec67bf5053b71f38e2648739403a\n",
            "Successfully built sklearn\n",
            "Installing collected packages: sklearn\n",
            "Successfully installed sklearn-0.0.post5\n"
          ]
        }
      ]
    },
    {
      "cell_type": "code",
      "source": [
        "import sklearn\n",
        "\n",
        "print('The scikit-learn version is {}.'.format(sklearn.__version__))\n"
      ],
      "metadata": {
        "colab": {
          "base_uri": "https://localhost:8080/"
        },
        "id": "yMjlX08T5nJ1",
        "outputId": "34072840-f6ba-41a3-ca4b-9a270f6323e1"
      },
      "execution_count": null,
      "outputs": [
        {
          "output_type": "stream",
          "name": "stdout",
          "text": [
            "The scikit-learn version is 1.2.2.\n"
          ]
        }
      ]
    },
    {
      "cell_type": "code",
      "source": [
        "# Define the path to your training images\n",
        "training_path = \"/content/OCRandProductRecognition/whole_foods_training_images\"\n",
        "\n",
        "# Initialize empty lists for images and labels\n",
        "images = []\n",
        "labels = []"
      ],
      "metadata": {
        "id": "Inmh4la4S1n5"
      },
      "execution_count": null,
      "outputs": []
    },
    {
      "cell_type": "code",
      "source": [
        "print(labels)"
      ],
      "metadata": {
        "colab": {
          "base_uri": "https://localhost:8080/"
        },
        "id": "LdgU8Rmq1Bf0",
        "outputId": "0c255303-00a5-4ecd-aa70-45e4d2466549"
      },
      "execution_count": null,
      "outputs": [
        {
          "output_type": "stream",
          "name": "stdout",
          "text": [
            "[]\n"
          ]
        }
      ]
    },
    {
      "cell_type": "code",
      "source": [
        "for subdir in os.listdir(training_path):\n",
        "    subdir_path = os.path.join(training_path, subdir)\n",
        "    if os.path.isdir(subdir_path):\n",
        "        # Read and preprocess images within each subdirectory\n",
        "        for filename in os.listdir(subdir_path):\n",
        "            file_path = os.path.join(subdir_path, filename)\n",
        "            if os.path.isfile(file_path):\n",
        "                image = cv2.imread(file_path)\n",
        "                print(file_path)\n",
        "                image = cv2.cvtColor(image, cv2.COLOR_BGR2GRAY)\n",
        "                image = cv2.resize(image, (100, 100))  # Resize images if needed\n",
        "                images.append(image)\n",
        "                labels.append(subdir)"
      ],
      "metadata": {
        "id": "owW1Fq1kS4yk",
        "colab": {
          "base_uri": "https://localhost:8080/"
        },
        "outputId": "55159070-3024-4dad-cb6f-f4e79ac454bf"
      },
      "execution_count": null,
      "outputs": [
        {
          "output_type": "stream",
          "name": "stdout",
          "text": [
            "/content/OCRandProductRecognition/whole_foods_training_images/s1/13.jpg\n",
            "/content/OCRandProductRecognition/whole_foods_training_images/s1/11.jpg\n",
            "/content/OCRandProductRecognition/whole_foods_training_images/s1/2.jpg\n",
            "/content/OCRandProductRecognition/whole_foods_training_images/s1/5.jpg\n",
            "/content/OCRandProductRecognition/whole_foods_training_images/s1/3.jpg\n",
            "/content/OCRandProductRecognition/whole_foods_training_images/s1/10.jpg\n",
            "/content/OCRandProductRecognition/whole_foods_training_images/s1/7.jpg\n",
            "/content/OCRandProductRecognition/whole_foods_training_images/s1/4.jpg\n",
            "/content/OCRandProductRecognition/whole_foods_training_images/s1/9.jpg\n",
            "/content/OCRandProductRecognition/whole_foods_training_images/s1/8.jpg\n",
            "/content/OCRandProductRecognition/whole_foods_training_images/s1/6.jpg\n",
            "/content/OCRandProductRecognition/whole_foods_training_images/s1/1.jpg\n",
            "/content/OCRandProductRecognition/whole_foods_training_images/s1/12.jpg\n",
            "/content/OCRandProductRecognition/whole_foods_training_images/s3/13.jpg\n",
            "/content/OCRandProductRecognition/whole_foods_training_images/s3/11.jpg\n",
            "/content/OCRandProductRecognition/whole_foods_training_images/s3/2.jpg\n",
            "/content/OCRandProductRecognition/whole_foods_training_images/s3/5.jpg\n",
            "/content/OCRandProductRecognition/whole_foods_training_images/s3/3.jpg\n",
            "/content/OCRandProductRecognition/whole_foods_training_images/s3/10.jpg\n",
            "/content/OCRandProductRecognition/whole_foods_training_images/s3/7.jpg\n",
            "/content/OCRandProductRecognition/whole_foods_training_images/s3/4.jpg\n",
            "/content/OCRandProductRecognition/whole_foods_training_images/s3/9.jpg\n",
            "/content/OCRandProductRecognition/whole_foods_training_images/s3/8.jpg\n",
            "/content/OCRandProductRecognition/whole_foods_training_images/s3/6.jpg\n",
            "/content/OCRandProductRecognition/whole_foods_training_images/s3/1.jpg\n",
            "/content/OCRandProductRecognition/whole_foods_training_images/s3/12.jpg\n",
            "/content/OCRandProductRecognition/whole_foods_training_images/s4/13.jpg\n",
            "/content/OCRandProductRecognition/whole_foods_training_images/s4/11.jpg\n",
            "/content/OCRandProductRecognition/whole_foods_training_images/s4/2.jpg\n",
            "/content/OCRandProductRecognition/whole_foods_training_images/s4/5.jpg\n",
            "/content/OCRandProductRecognition/whole_foods_training_images/s4/3.jpg\n",
            "/content/OCRandProductRecognition/whole_foods_training_images/s4/10.jpg\n",
            "/content/OCRandProductRecognition/whole_foods_training_images/s4/7.jpg\n",
            "/content/OCRandProductRecognition/whole_foods_training_images/s4/4.jpg\n",
            "/content/OCRandProductRecognition/whole_foods_training_images/s4/9.jpg\n",
            "/content/OCRandProductRecognition/whole_foods_training_images/s4/8.jpg\n",
            "/content/OCRandProductRecognition/whole_foods_training_images/s4/6.jpg\n",
            "/content/OCRandProductRecognition/whole_foods_training_images/s4/1.jpg\n",
            "/content/OCRandProductRecognition/whole_foods_training_images/s4/12.jpg\n",
            "/content/OCRandProductRecognition/whole_foods_training_images/s2/13.jpg\n",
            "/content/OCRandProductRecognition/whole_foods_training_images/s2/11.jpg\n",
            "/content/OCRandProductRecognition/whole_foods_training_images/s2/2.jpg\n",
            "/content/OCRandProductRecognition/whole_foods_training_images/s2/5.jpg\n",
            "/content/OCRandProductRecognition/whole_foods_training_images/s2/3.jpg\n",
            "/content/OCRandProductRecognition/whole_foods_training_images/s2/10.jpg\n",
            "/content/OCRandProductRecognition/whole_foods_training_images/s2/7.jpg\n",
            "/content/OCRandProductRecognition/whole_foods_training_images/s2/4.jpg\n",
            "/content/OCRandProductRecognition/whole_foods_training_images/s2/9.jpg\n",
            "/content/OCRandProductRecognition/whole_foods_training_images/s2/8.jpg\n",
            "/content/OCRandProductRecognition/whole_foods_training_images/s2/6.jpg\n",
            "/content/OCRandProductRecognition/whole_foods_training_images/s2/1.jpg\n",
            "/content/OCRandProductRecognition/whole_foods_training_images/s2/12.jpg\n"
          ]
        }
      ]
    },
    {
      "cell_type": "code",
      "source": [
        "# Convert lists to numpy arrays\n",
        "images = np.array(images)\n",
        "labels = np.array(labels)\n"
      ],
      "metadata": {
        "id": "VbS8qihYS8X_"
      },
      "execution_count": null,
      "outputs": []
    },
    {
      "cell_type": "code",
      "source": [
        "# Flatten the image arrays\n",
        "images = images.reshape(images.shape[0], -1)\n"
      ],
      "metadata": {
        "id": "UF-UABjUS-oR"
      },
      "execution_count": null,
      "outputs": []
    },
    {
      "cell_type": "code",
      "source": [
        "# Split the data into training and testing sets\n",
        "X_train, X_test, y_train, y_test = train_test_split(images, labels, test_size=0.1, random_state=42)\n"
      ],
      "metadata": {
        "id": "zu9gPKD9TB1y"
      },
      "execution_count": null,
      "outputs": []
    },
    {
      "cell_type": "code",
      "source": [
        "# Create and train the Random Forest classifier\n",
        "rf_classifier = RandomForestClassifier(n_estimators=135)\n",
        "rf_classifier.fit(images, labels)\n"
      ],
      "metadata": {
        "colab": {
          "base_uri": "https://localhost:8080/",
          "height": 75
        },
        "id": "SZq4h9hiTEPs",
        "outputId": "fee929de-68d2-4522-c2a3-f3f457b89ae7"
      },
      "execution_count": null,
      "outputs": [
        {
          "output_type": "execute_result",
          "data": {
            "text/plain": [
              "RandomForestClassifier(n_estimators=135)"
            ],
            "text/html": [
              "<style>#sk-container-id-1 {color: black;background-color: white;}#sk-container-id-1 pre{padding: 0;}#sk-container-id-1 div.sk-toggleable {background-color: white;}#sk-container-id-1 label.sk-toggleable__label {cursor: pointer;display: block;width: 100%;margin-bottom: 0;padding: 0.3em;box-sizing: border-box;text-align: center;}#sk-container-id-1 label.sk-toggleable__label-arrow:before {content: \"▸\";float: left;margin-right: 0.25em;color: #696969;}#sk-container-id-1 label.sk-toggleable__label-arrow:hover:before {color: black;}#sk-container-id-1 div.sk-estimator:hover label.sk-toggleable__label-arrow:before {color: black;}#sk-container-id-1 div.sk-toggleable__content {max-height: 0;max-width: 0;overflow: hidden;text-align: left;background-color: #f0f8ff;}#sk-container-id-1 div.sk-toggleable__content pre {margin: 0.2em;color: black;border-radius: 0.25em;background-color: #f0f8ff;}#sk-container-id-1 input.sk-toggleable__control:checked~div.sk-toggleable__content {max-height: 200px;max-width: 100%;overflow: auto;}#sk-container-id-1 input.sk-toggleable__control:checked~label.sk-toggleable__label-arrow:before {content: \"▾\";}#sk-container-id-1 div.sk-estimator input.sk-toggleable__control:checked~label.sk-toggleable__label {background-color: #d4ebff;}#sk-container-id-1 div.sk-label input.sk-toggleable__control:checked~label.sk-toggleable__label {background-color: #d4ebff;}#sk-container-id-1 input.sk-hidden--visually {border: 0;clip: rect(1px 1px 1px 1px);clip: rect(1px, 1px, 1px, 1px);height: 1px;margin: -1px;overflow: hidden;padding: 0;position: absolute;width: 1px;}#sk-container-id-1 div.sk-estimator {font-family: monospace;background-color: #f0f8ff;border: 1px dotted black;border-radius: 0.25em;box-sizing: border-box;margin-bottom: 0.5em;}#sk-container-id-1 div.sk-estimator:hover {background-color: #d4ebff;}#sk-container-id-1 div.sk-parallel-item::after {content: \"\";width: 100%;border-bottom: 1px solid gray;flex-grow: 1;}#sk-container-id-1 div.sk-label:hover label.sk-toggleable__label {background-color: #d4ebff;}#sk-container-id-1 div.sk-serial::before {content: \"\";position: absolute;border-left: 1px solid gray;box-sizing: border-box;top: 0;bottom: 0;left: 50%;z-index: 0;}#sk-container-id-1 div.sk-serial {display: flex;flex-direction: column;align-items: center;background-color: white;padding-right: 0.2em;padding-left: 0.2em;position: relative;}#sk-container-id-1 div.sk-item {position: relative;z-index: 1;}#sk-container-id-1 div.sk-parallel {display: flex;align-items: stretch;justify-content: center;background-color: white;position: relative;}#sk-container-id-1 div.sk-item::before, #sk-container-id-1 div.sk-parallel-item::before {content: \"\";position: absolute;border-left: 1px solid gray;box-sizing: border-box;top: 0;bottom: 0;left: 50%;z-index: -1;}#sk-container-id-1 div.sk-parallel-item {display: flex;flex-direction: column;z-index: 1;position: relative;background-color: white;}#sk-container-id-1 div.sk-parallel-item:first-child::after {align-self: flex-end;width: 50%;}#sk-container-id-1 div.sk-parallel-item:last-child::after {align-self: flex-start;width: 50%;}#sk-container-id-1 div.sk-parallel-item:only-child::after {width: 0;}#sk-container-id-1 div.sk-dashed-wrapped {border: 1px dashed gray;margin: 0 0.4em 0.5em 0.4em;box-sizing: border-box;padding-bottom: 0.4em;background-color: white;}#sk-container-id-1 div.sk-label label {font-family: monospace;font-weight: bold;display: inline-block;line-height: 1.2em;}#sk-container-id-1 div.sk-label-container {text-align: center;}#sk-container-id-1 div.sk-container {/* jupyter's `normalize.less` sets `[hidden] { display: none; }` but bootstrap.min.css set `[hidden] { display: none !important; }` so we also need the `!important` here to be able to override the default hidden behavior on the sphinx rendered scikit-learn.org. See: https://github.com/scikit-learn/scikit-learn/issues/21755 */display: inline-block !important;position: relative;}#sk-container-id-1 div.sk-text-repr-fallback {display: none;}</style><div id=\"sk-container-id-1\" class=\"sk-top-container\"><div class=\"sk-text-repr-fallback\"><pre>RandomForestClassifier(n_estimators=135)</pre><b>In a Jupyter environment, please rerun this cell to show the HTML representation or trust the notebook. <br />On GitHub, the HTML representation is unable to render, please try loading this page with nbviewer.org.</b></div><div class=\"sk-container\" hidden><div class=\"sk-item\"><div class=\"sk-estimator sk-toggleable\"><input class=\"sk-toggleable__control sk-hidden--visually\" id=\"sk-estimator-id-1\" type=\"checkbox\" checked><label for=\"sk-estimator-id-1\" class=\"sk-toggleable__label sk-toggleable__label-arrow\">RandomForestClassifier</label><div class=\"sk-toggleable__content\"><pre>RandomForestClassifier(n_estimators=135)</pre></div></div></div></div></div>"
            ]
          },
          "metadata": {},
          "execution_count": 15
        }
      ]
    },
    {
      "cell_type": "code",
      "source": [
        "# Predict the labels for the test set\n",
        "y_pred = rf_classifier.predict(X_test)"
      ],
      "metadata": {
        "id": "Y-5RuxQ4THsz"
      },
      "execution_count": null,
      "outputs": []
    },
    {
      "cell_type": "code",
      "source": [
        "print(images)"
      ],
      "metadata": {
        "colab": {
          "base_uri": "https://localhost:8080/"
        },
        "id": "e1K0PwFgdss4",
        "outputId": "8c67b195-59b3-45d8-f1d3-73f76aa9ad71"
      },
      "execution_count": null,
      "outputs": [
        {
          "output_type": "stream",
          "name": "stdout",
          "text": [
            "[[247 247 247 ... 247 247 247]\n",
            " [155 151 156 ... 198 188 185]\n",
            " [160 162 166 ... 182 178 172]\n",
            " ...\n",
            " [190 189 184 ...  31  69  86]\n",
            " [177 182 192 ... 107  53 101]\n",
            " [ 53  57  37 ... 159 157 154]]\n"
          ]
        }
      ]
    },
    {
      "cell_type": "code",
      "source": [
        "print(y_pred)"
      ],
      "metadata": {
        "colab": {
          "base_uri": "https://localhost:8080/"
        },
        "id": "0VvV0moCdm0s",
        "outputId": "13de23ec-1c7f-4c46-8e54-a834affa2d4a"
      },
      "execution_count": null,
      "outputs": [
        {
          "output_type": "stream",
          "name": "stdout",
          "text": [
            "['s2' 's3' 's3' 's1' 's3' 's1']\n"
          ]
        }
      ]
    },
    {
      "cell_type": "code",
      "source": [
        "# Calculate and print the accuracy of the classifier\n",
        "accuracy = accuracy_score(y_test, y_pred)\n",
        "print(\"Accuracy:\", accuracy)"
      ],
      "metadata": {
        "colab": {
          "base_uri": "https://localhost:8080/"
        },
        "id": "khi7grmQTJgd",
        "outputId": "6e064188-5238-4406-d79f-a7393a1c054e"
      },
      "execution_count": null,
      "outputs": [
        {
          "output_type": "stream",
          "name": "stdout",
          "text": [
            "Accuracy: 1.0\n"
          ]
        }
      ]
    },
    {
      "cell_type": "code",
      "source": [
        "!python --version"
      ],
      "metadata": {
        "colab": {
          "base_uri": "https://localhost:8080/"
        },
        "id": "VzsCoQSX693O",
        "outputId": "10159fe8-2130-4d35-bd7f-eba175db7ac5"
      },
      "execution_count": null,
      "outputs": [
        {
          "output_type": "stream",
          "name": "stdout",
          "text": [
            "Python 3.9.17\n"
          ]
        }
      ]
    },
    {
      "cell_type": "code",
      "source": [
        "print(y_test)"
      ],
      "metadata": {
        "colab": {
          "base_uri": "https://localhost:8080/"
        },
        "id": "UJDTa6P7gRdj",
        "outputId": "622d0d1f-8224-48e4-f7d3-e21d2045be54"
      },
      "execution_count": null,
      "outputs": [
        {
          "output_type": "stream",
          "name": "stdout",
          "text": [
            "['s2' 's3' 's3' 's1' 's3' 's1']\n"
          ]
        }
      ]
    },
    {
      "cell_type": "code",
      "source": [
        "print(y_pred)"
      ],
      "metadata": {
        "colab": {
          "base_uri": "https://localhost:8080/"
        },
        "id": "1XEDLYaPgT87",
        "outputId": "073f24ad-c125-4fb5-fe04-80d58c224c48"
      },
      "execution_count": null,
      "outputs": [
        {
          "output_type": "stream",
          "name": "stdout",
          "text": [
            "['s2' 's3' 's3' 's1' 's3' 's1']\n"
          ]
        }
      ]
    },
    {
      "cell_type": "code",
      "source": [
        "import joblib\n",
        "model_filename = \"rfmodelnew2.pkl\"\n",
        "joblib.dump(rf_classifier, model_filename)"
      ],
      "metadata": {
        "colab": {
          "base_uri": "https://localhost:8080/",
          "height": 204
        },
        "id": "IE8tVLMVtfRl",
        "outputId": "985bb425-d8d3-477c-a38e-cfeac1d7b6ce"
      },
      "execution_count": null,
      "outputs": [
        {
          "output_type": "error",
          "ename": "NameError",
          "evalue": "ignored",
          "traceback": [
            "\u001b[0;31m---------------------------------------------------------------------------\u001b[0m",
            "\u001b[0;31mNameError\u001b[0m                                 Traceback (most recent call last)",
            "\u001b[0;32m<ipython-input-1-79b07f1ca090>\u001b[0m in \u001b[0;36m<cell line: 3>\u001b[0;34m()\u001b[0m\n\u001b[1;32m      1\u001b[0m \u001b[0;32mimport\u001b[0m \u001b[0mjoblib\u001b[0m\u001b[0;34m\u001b[0m\u001b[0;34m\u001b[0m\u001b[0m\n\u001b[1;32m      2\u001b[0m \u001b[0mmodel_filename\u001b[0m \u001b[0;34m=\u001b[0m \u001b[0;34m\"rfmodelnew2.pkl\"\u001b[0m\u001b[0;34m\u001b[0m\u001b[0;34m\u001b[0m\u001b[0m\n\u001b[0;32m----> 3\u001b[0;31m \u001b[0mjoblib\u001b[0m\u001b[0;34m.\u001b[0m\u001b[0mdump\u001b[0m\u001b[0;34m(\u001b[0m\u001b[0mrf_classifier\u001b[0m\u001b[0;34m,\u001b[0m \u001b[0mmodel_filename\u001b[0m\u001b[0;34m)\u001b[0m\u001b[0;34m\u001b[0m\u001b[0;34m\u001b[0m\u001b[0m\n\u001b[0m",
            "\u001b[0;31mNameError\u001b[0m: name 'rf_classifier' is not defined"
          ]
        }
      ]
    },
    {
      "cell_type": "code",
      "source": [
        "import pickle\n",
        "\n",
        "model_filename = \"rfmodelnew1.pkl\"\n",
        "with open(model_filename, 'wb') as file:\n",
        "    pickle.dump(rf_classifier, file)\n"
      ],
      "metadata": {
        "id": "NGVJrQuhJ8RT",
        "outputId": "3b8b4c4a-d7dd-4b00-c8b2-27a2881dc552",
        "colab": {
          "base_uri": "https://localhost:8080/",
          "height": 204
        }
      },
      "execution_count": null,
      "outputs": [
        {
          "output_type": "error",
          "ename": "NameError",
          "evalue": "ignored",
          "traceback": [
            "\u001b[0;31m---------------------------------------------------------------------------\u001b[0m",
            "\u001b[0;31mNameError\u001b[0m                                 Traceback (most recent call last)",
            "\u001b[0;32m<ipython-input-1-a240499eba09>\u001b[0m in \u001b[0;36m<cell line: 4>\u001b[0;34m()\u001b[0m\n\u001b[1;32m      3\u001b[0m \u001b[0mmodel_filename\u001b[0m \u001b[0;34m=\u001b[0m \u001b[0;34m\"rfmodelnew1.pkl\"\u001b[0m\u001b[0;34m\u001b[0m\u001b[0;34m\u001b[0m\u001b[0m\n\u001b[1;32m      4\u001b[0m \u001b[0;32mwith\u001b[0m \u001b[0mopen\u001b[0m\u001b[0;34m(\u001b[0m\u001b[0mmodel_filename\u001b[0m\u001b[0;34m,\u001b[0m \u001b[0;34m'wb'\u001b[0m\u001b[0;34m)\u001b[0m \u001b[0;32mas\u001b[0m \u001b[0mfile\u001b[0m\u001b[0;34m:\u001b[0m\u001b[0;34m\u001b[0m\u001b[0;34m\u001b[0m\u001b[0m\n\u001b[0;32m----> 5\u001b[0;31m     \u001b[0mpickle\u001b[0m\u001b[0;34m.\u001b[0m\u001b[0mdump\u001b[0m\u001b[0;34m(\u001b[0m\u001b[0mrf_classifier\u001b[0m\u001b[0;34m,\u001b[0m \u001b[0mfile\u001b[0m\u001b[0;34m)\u001b[0m\u001b[0;34m\u001b[0m\u001b[0;34m\u001b[0m\u001b[0m\n\u001b[0m",
            "\u001b[0;31mNameError\u001b[0m: name 'rf_classifier' is not defined"
          ]
        }
      ]
    },
    {
      "cell_type": "code",
      "source": [
        "import pickle\n",
        "\n",
        "model_filename = \"/content/rfmodelnew1.pkl\"\n",
        "\n",
        "with open(model_filename, \"rb\") as file:\n",
        "    loaded_model = pickle.load(file)\n",
        "\n",
        "protocol_version = loaded_model.__reduce__()[2]\n",
        "print(\"Protocol Version:\", protocol_version)\n"
      ],
      "metadata": {
        "colab": {
          "base_uri": "https://localhost:8080/",
          "height": 240
        },
        "id": "8QJJ66vdD4DV",
        "outputId": "f405ed09-3618-4d96-e6c2-88856148e700"
      },
      "execution_count": null,
      "outputs": [
        {
          "output_type": "error",
          "ename": "EOFError",
          "evalue": "ignored",
          "traceback": [
            "\u001b[0;31m---------------------------------------------------------------------------\u001b[0m",
            "\u001b[0;31mEOFError\u001b[0m                                  Traceback (most recent call last)",
            "\u001b[0;32m<ipython-input-2-6e9316c8a629>\u001b[0m in \u001b[0;36m<cell line: 5>\u001b[0;34m()\u001b[0m\n\u001b[1;32m      4\u001b[0m \u001b[0;34m\u001b[0m\u001b[0m\n\u001b[1;32m      5\u001b[0m \u001b[0;32mwith\u001b[0m \u001b[0mopen\u001b[0m\u001b[0;34m(\u001b[0m\u001b[0mmodel_filename\u001b[0m\u001b[0;34m,\u001b[0m \u001b[0;34m\"rb\"\u001b[0m\u001b[0;34m)\u001b[0m \u001b[0;32mas\u001b[0m \u001b[0mfile\u001b[0m\u001b[0;34m:\u001b[0m\u001b[0;34m\u001b[0m\u001b[0;34m\u001b[0m\u001b[0m\n\u001b[0;32m----> 6\u001b[0;31m     \u001b[0mloaded_model\u001b[0m \u001b[0;34m=\u001b[0m \u001b[0mpickle\u001b[0m\u001b[0;34m.\u001b[0m\u001b[0mload\u001b[0m\u001b[0;34m(\u001b[0m\u001b[0mfile\u001b[0m\u001b[0;34m)\u001b[0m\u001b[0;34m\u001b[0m\u001b[0;34m\u001b[0m\u001b[0m\n\u001b[0m\u001b[1;32m      7\u001b[0m \u001b[0;34m\u001b[0m\u001b[0m\n\u001b[1;32m      8\u001b[0m \u001b[0mprotocol_version\u001b[0m \u001b[0;34m=\u001b[0m \u001b[0mloaded_model\u001b[0m\u001b[0;34m.\u001b[0m\u001b[0m__reduce__\u001b[0m\u001b[0;34m(\u001b[0m\u001b[0;34m)\u001b[0m\u001b[0;34m[\u001b[0m\u001b[0;36m2\u001b[0m\u001b[0;34m]\u001b[0m\u001b[0;34m\u001b[0m\u001b[0;34m\u001b[0m\u001b[0m\n",
            "\u001b[0;31mEOFError\u001b[0m: Ran out of input"
          ]
        }
      ]
    },
    {
      "cell_type": "code",
      "source": [
        "!python --version"
      ],
      "metadata": {
        "id": "AbO-R4kRSSEm",
        "outputId": "e140bc0f-bf79-4618-e8e7-da88076f771c",
        "colab": {
          "base_uri": "https://localhost:8080/"
        }
      },
      "execution_count": null,
      "outputs": [
        {
          "output_type": "stream",
          "name": "stdout",
          "text": [
            "Python 3.9.17\n"
          ]
        }
      ]
    },
    {
      "cell_type": "code",
      "source": [
        "import joblib\n",
        "import pickle\n",
        "model_filename = \"/content/rfmodelnew2.pkl\"\n",
        "\n",
        "loaded_model = pickle.load(open(model_filename, \"rb\"))"
      ],
      "metadata": {
        "id": "hEQS-v_Rtwlp",
        "colab": {
          "base_uri": "https://localhost:8080/",
          "height": 204
        },
        "outputId": "d3adcc5d-41e6-4d53-9eae-4b62073556a8"
      },
      "execution_count": null,
      "outputs": [
        {
          "output_type": "error",
          "ename": "UnpicklingError",
          "evalue": "ignored",
          "traceback": [
            "\u001b[0;31m---------------------------------------------------------------------------\u001b[0m",
            "\u001b[0;31mUnpicklingError\u001b[0m                           Traceback (most recent call last)",
            "\u001b[0;32m<ipython-input-4-8f5b64fc2d45>\u001b[0m in \u001b[0;36m<cell line: 5>\u001b[0;34m()\u001b[0m\n\u001b[1;32m      3\u001b[0m \u001b[0mmodel_filename\u001b[0m \u001b[0;34m=\u001b[0m \u001b[0;34m\"/content/rfmodelnew2.pkl\"\u001b[0m\u001b[0;34m\u001b[0m\u001b[0;34m\u001b[0m\u001b[0m\n\u001b[1;32m      4\u001b[0m \u001b[0;34m\u001b[0m\u001b[0m\n\u001b[0;32m----> 5\u001b[0;31m \u001b[0mloaded_model\u001b[0m \u001b[0;34m=\u001b[0m \u001b[0mpickle\u001b[0m\u001b[0;34m.\u001b[0m\u001b[0mload\u001b[0m\u001b[0;34m(\u001b[0m\u001b[0mopen\u001b[0m\u001b[0;34m(\u001b[0m\u001b[0mmodel_filename\u001b[0m\u001b[0;34m,\u001b[0m \u001b[0;34m\"rb\"\u001b[0m\u001b[0;34m)\u001b[0m\u001b[0;34m)\u001b[0m\u001b[0;34m\u001b[0m\u001b[0;34m\u001b[0m\u001b[0m\n\u001b[0m",
            "\u001b[0;31mUnpicklingError\u001b[0m: invalid load key, '\\x02'."
          ]
        }
      ]
    },
    {
      "cell_type": "code",
      "source": [
        "import pickle\n",
        "\n",
        "model_filename = \"/content/rfmodelnew2.pkl\"\n",
        "protocols = range(pickle.HIGHEST_PROTOCOL + 1)\n",
        "loaded_model = None\n",
        "\n",
        "for protocol in protocols:\n",
        "    try:\n",
        "        with open(model_filename, \"rb\") as file:\n",
        "            loaded_model = pickle.load(file)\n",
        "        break\n",
        "    except pickle.UnpicklingError:\n",
        "        continue\n",
        "    except EOFError:\n",
        "        break\n",
        "\n",
        "if loaded_model is None:\n",
        "    print(\"Unable to load the pickled file.\")\n",
        "\n",
        "# Use the loaded_model object as needed\n"
      ],
      "metadata": {
        "colab": {
          "base_uri": "https://localhost:8080/"
        },
        "id": "qpDlCwRkDClk",
        "outputId": "dd9c8f4f-9c04-48ba-d563-ab90a2d38913"
      },
      "execution_count": null,
      "outputs": [
        {
          "output_type": "stream",
          "name": "stdout",
          "text": [
            "Unable to load the pickled file.\n"
          ]
        }
      ]
    },
    {
      "cell_type": "code",
      "source": [
        "!wget https://bootstrap.pypa.io/get-pip.py\n"
      ],
      "metadata": {
        "colab": {
          "base_uri": "https://localhost:8080/"
        },
        "id": "IKh5BlzjM74K",
        "outputId": "06d352b8-7a69-447e-abe3-4294dbe3b794"
      },
      "execution_count": null,
      "outputs": [
        {
          "output_type": "stream",
          "name": "stdout",
          "text": [
            "--2023-07-10 19:07:46--  https://bootstrap.pypa.io/get-pip.py\n",
            "Resolving bootstrap.pypa.io (bootstrap.pypa.io)... 151.101.0.175, 151.101.64.175, 151.101.128.175, ...\n",
            "Connecting to bootstrap.pypa.io (bootstrap.pypa.io)|151.101.0.175|:443... connected.\n",
            "HTTP request sent, awaiting response... 200 OK\n",
            "Length: 2578580 (2.5M) [text/x-python]\n",
            "Saving to: ‘get-pip.py’\n",
            "\n",
            "\rget-pip.py            0%[                    ]       0  --.-KB/s               \rget-pip.py          100%[===================>]   2.46M  --.-KB/s    in 0.03s   \n",
            "\n",
            "2023-07-10 19:07:46 (77.7 MB/s) - ‘get-pip.py’ saved [2578580/2578580]\n",
            "\n"
          ]
        }
      ]
    },
    {
      "cell_type": "code",
      "source": [
        "!sudo python3.9 get-pip.py"
      ],
      "metadata": {
        "colab": {
          "base_uri": "https://localhost:8080/"
        },
        "id": "L-N3r-T6MzLG",
        "outputId": "6a96240e-b897-4544-85e5-e726075e946e"
      },
      "execution_count": null,
      "outputs": [
        {
          "output_type": "stream",
          "name": "stdout",
          "text": [
            "Collecting pip\n",
            "  Downloading pip-23.1.2-py3-none-any.whl (2.1 MB)\n",
            "\u001b[2K     \u001b[90m━━━━━━━━━━━━━━━━━━━━━━━━━━━━━━━━━━━━━━━━\u001b[0m \u001b[32m2.1/2.1 MB\u001b[0m \u001b[31m65.9 MB/s\u001b[0m eta \u001b[36m0:00:00\u001b[0m\n",
            "\u001b[?25hCollecting setuptools\n",
            "  Downloading setuptools-68.0.0-py3-none-any.whl (804 kB)\n",
            "\u001b[2K     \u001b[90m━━━━━━━━━━━━━━━━━━━━━━━━━━━━━━━━━━━━━━\u001b[0m \u001b[32m804.0/804.0 kB\u001b[0m \u001b[31m62.8 MB/s\u001b[0m eta \u001b[36m0:00:00\u001b[0m\n",
            "\u001b[?25hCollecting wheel\n",
            "  Downloading wheel-0.40.0-py3-none-any.whl (64 kB)\n",
            "\u001b[2K     \u001b[90m━━━━━━━━━━━━━━━━━━━━━━━━━━━━━━━━━━━━━━━━\u001b[0m \u001b[32m64.5/64.5 kB\u001b[0m \u001b[31m7.9 MB/s\u001b[0m eta \u001b[36m0:00:00\u001b[0m\n",
            "\u001b[?25hInstalling collected packages: wheel, setuptools, pip\n",
            "Successfully installed pip-23.1.2 setuptools-68.0.0 wheel-0.40.0\n",
            "\u001b[33mWARNING: Running pip as the 'root' user can result in broken permissions and conflicting behaviour with the system package manager. It is recommended to use a virtual environment instead: https://pip.pypa.io/warnings/venv\u001b[0m\u001b[33m\n",
            "\u001b[0m"
          ]
        }
      ]
    },
    {
      "cell_type": "code",
      "source": [
        "!python -m pip install --upgrade pip"
      ],
      "metadata": {
        "colab": {
          "base_uri": "https://localhost:8080/"
        },
        "id": "BVu4IQc9MibE",
        "outputId": "3c1a02a9-389e-485e-ef72-60edc56f2ab0"
      },
      "execution_count": null,
      "outputs": [
        {
          "output_type": "stream",
          "name": "stdout",
          "text": [
            "/usr/bin/python3: No module named pip\n"
          ]
        }
      ]
    },
    {
      "cell_type": "code",
      "source": [
        "!pip install chassisml"
      ],
      "metadata": {
        "colab": {
          "base_uri": "https://localhost:8080/",
          "height": 1000
        },
        "id": "2y12iv9_yeSv",
        "outputId": "10ffd4f0-8432-4c6e-8c93-912eca032122"
      },
      "execution_count": null,
      "outputs": [
        {
          "output_type": "stream",
          "name": "stdout",
          "text": [
            "Collecting chassisml\n",
            "  Downloading chassisml-1.4.13-py3-none-any.whl (35 kB)\n",
            "Requirement already satisfied: requests in /usr/local/lib/python3.10/dist-packages (from chassisml) (2.27.1)\n",
            "Collecting mlflow (from chassisml)\n",
            "  Downloading mlflow-2.4.2-py3-none-any.whl (18.1 MB)\n",
            "\u001b[2K     \u001b[90m━━━━━━━━━━━━━━━━━━━━━━━━━━━━━━━━━━━━━━━━\u001b[0m \u001b[32m18.1/18.1 MB\u001b[0m \u001b[31m79.0 MB/s\u001b[0m eta \u001b[36m0:00:00\u001b[0m\n",
            "\u001b[?25hRequirement already satisfied: numpy in /usr/local/lib/python3.10/dist-packages (from chassisml) (1.22.4)\n",
            "Requirement already satisfied: pyyaml in /usr/local/lib/python3.10/dist-packages (from chassisml) (6.0)\n",
            "Collecting validators (from chassisml)\n",
            "  Downloading validators-0.20.0.tar.gz (30 kB)\n",
            "  Preparing metadata (setup.py) ... \u001b[?25l\u001b[?25hdone\n",
            "Collecting grpc-requests (from chassisml)\n",
            "  Downloading grpc_requests-0.1.10-py3-none-any.whl (28 kB)\n",
            "Requirement already satisfied: grpcio in /usr/local/lib/python3.10/dist-packages (from chassisml) (1.56.0)\n",
            "Collecting docker (from chassisml)\n",
            "  Downloading docker-6.1.3-py3-none-any.whl (148 kB)\n",
            "\u001b[2K     \u001b[90m━━━━━━━━━━━━━━━━━━━━━━━━━━━━━━━━━━━━━━\u001b[0m \u001b[32m148.1/148.1 kB\u001b[0m \u001b[31m17.8 MB/s\u001b[0m eta \u001b[36m0:00:00\u001b[0m\n",
            "\u001b[?25hCollecting protobuf==3.19.4 (from chassisml)\n",
            "  Downloading protobuf-3.19.4-cp310-cp310-manylinux_2_17_x86_64.manylinux2014_x86_64.whl (1.1 MB)\n",
            "\u001b[2K     \u001b[90m━━━━━━━━━━━━━━━━━━━━━━━━━━━━━━━━━━━━━━━━\u001b[0m \u001b[32m1.1/1.1 MB\u001b[0m \u001b[31m71.9 MB/s\u001b[0m eta \u001b[36m0:00:00\u001b[0m\n",
            "\u001b[?25hRequirement already satisfied: packaging>=14.0 in /usr/local/lib/python3.10/dist-packages (from docker->chassisml) (23.1)\n",
            "Requirement already satisfied: urllib3>=1.26.0 in /usr/local/lib/python3.10/dist-packages (from docker->chassisml) (1.26.16)\n",
            "Requirement already satisfied: websocket-client>=0.32.0 in /usr/local/lib/python3.10/dist-packages (from docker->chassisml) (1.6.0)\n",
            "Requirement already satisfied: certifi>=2017.4.17 in /usr/local/lib/python3.10/dist-packages (from requests->chassisml) (2023.5.7)\n",
            "Requirement already satisfied: charset-normalizer~=2.0.0 in /usr/local/lib/python3.10/dist-packages (from requests->chassisml) (2.0.12)\n",
            "Requirement already satisfied: idna<4,>=2.5 in /usr/local/lib/python3.10/dist-packages (from requests->chassisml) (3.4)\n",
            "Collecting grpcio-reflection>=1.49.1 (from grpc-requests->chassisml)\n",
            "  Downloading grpcio_reflection-1.56.0-py3-none-any.whl (11 kB)\n",
            "Requirement already satisfied: google-api-core>=2.9.0 in /usr/local/lib/python3.10/dist-packages (from grpc-requests->chassisml) (2.11.1)\n",
            "Collecting cryptography>=39.0.1 (from grpc-requests->chassisml)\n",
            "  Downloading cryptography-41.0.1-cp37-abi3-manylinux_2_28_x86_64.whl (4.3 MB)\n",
            "\u001b[2K     \u001b[90m━━━━━━━━━━━━━━━━━━━━━━━━━━━━━━━━━━━━━━━━\u001b[0m \u001b[32m4.3/4.3 MB\u001b[0m \u001b[31m96.0 MB/s\u001b[0m eta \u001b[36m0:00:00\u001b[0m\n",
            "\u001b[?25hRequirement already satisfied: click<9,>=7.0 in /usr/local/lib/python3.10/dist-packages (from mlflow->chassisml) (8.1.3)\n",
            "Requirement already satisfied: cloudpickle<3 in /usr/local/lib/python3.10/dist-packages (from mlflow->chassisml) (2.2.1)\n",
            "Collecting databricks-cli<1,>=0.8.7 (from mlflow->chassisml)\n",
            "  Downloading databricks-cli-0.17.7.tar.gz (83 kB)\n",
            "\u001b[2K     \u001b[90m━━━━━━━━━━━━━━━━━━━━━━━━━━━━━━━━━━━━━━━━\u001b[0m \u001b[32m83.5/83.5 kB\u001b[0m \u001b[31m9.5 MB/s\u001b[0m eta \u001b[36m0:00:00\u001b[0m\n",
            "\u001b[?25h  Preparing metadata (setup.py) ... \u001b[?25l\u001b[?25hdone\n",
            "Requirement already satisfied: entrypoints<1 in /usr/local/lib/python3.10/dist-packages (from mlflow->chassisml) (0.4)\n",
            "Collecting gitpython<4,>=2.1.0 (from mlflow->chassisml)\n",
            "  Downloading GitPython-3.1.32-py3-none-any.whl (188 kB)\n",
            "\u001b[2K     \u001b[90m━━━━━━━━━━━━━━━━━━━━━━━━━━━━━━━━━━━━━━\u001b[0m \u001b[32m188.5/188.5 kB\u001b[0m \u001b[31m22.0 MB/s\u001b[0m eta \u001b[36m0:00:00\u001b[0m\n",
            "\u001b[?25hRequirement already satisfied: pytz<2024 in /usr/local/lib/python3.10/dist-packages (from mlflow->chassisml) (2022.7.1)\n",
            "Collecting importlib-metadata!=4.7.0,<7,>=3.7.0 (from mlflow->chassisml)\n",
            "  Downloading importlib_metadata-6.8.0-py3-none-any.whl (22 kB)\n",
            "Requirement already satisfied: sqlparse<1,>=0.4.0 in /usr/local/lib/python3.10/dist-packages (from mlflow->chassisml) (0.4.4)\n",
            "Collecting alembic!=1.10.0,<2 (from mlflow->chassisml)\n",
            "  Downloading alembic-1.11.1-py3-none-any.whl (224 kB)\n",
            "\u001b[2K     \u001b[90m━━━━━━━━━━━━━━━━━━━━━━━━━━━━━━━━━━━━━━\u001b[0m \u001b[32m224.5/224.5 kB\u001b[0m \u001b[31m23.6 MB/s\u001b[0m eta \u001b[36m0:00:00\u001b[0m\n",
            "\u001b[?25hRequirement already satisfied: Flask<3 in /usr/local/lib/python3.10/dist-packages (from mlflow->chassisml) (2.2.5)\n",
            "Requirement already satisfied: scipy<2 in /usr/local/lib/python3.10/dist-packages (from mlflow->chassisml) (1.10.1)\n",
            "Requirement already satisfied: pandas<3 in /usr/local/lib/python3.10/dist-packages (from mlflow->chassisml) (1.5.3)\n",
            "Collecting querystring-parser<2 (from mlflow->chassisml)\n",
            "  Downloading querystring_parser-1.2.4-py2.py3-none-any.whl (7.9 kB)\n",
            "Requirement already satisfied: sqlalchemy<3,>=1.4.0 in /usr/local/lib/python3.10/dist-packages (from mlflow->chassisml) (2.0.16)\n",
            "Requirement already satisfied: scikit-learn<2 in /usr/local/lib/python3.10/dist-packages (from mlflow->chassisml) (1.2.2)\n",
            "Requirement already satisfied: pyarrow<13,>=4.0.0 in /usr/local/lib/python3.10/dist-packages (from mlflow->chassisml) (9.0.0)\n",
            "Requirement already satisfied: markdown<4,>=3.3 in /usr/local/lib/python3.10/dist-packages (from mlflow->chassisml) (3.4.3)\n",
            "Requirement already satisfied: matplotlib<4 in /usr/local/lib/python3.10/dist-packages (from mlflow->chassisml) (3.7.1)\n",
            "Collecting gunicorn<21 (from mlflow->chassisml)\n",
            "  Downloading gunicorn-20.1.0-py3-none-any.whl (79 kB)\n",
            "\u001b[2K     \u001b[90m━━━━━━━━━━━━━━━━━━━━━━━━━━━━━━━━━━━━━━━━\u001b[0m \u001b[32m79.5/79.5 kB\u001b[0m \u001b[31m9.5 MB/s\u001b[0m eta \u001b[36m0:00:00\u001b[0m\n",
            "\u001b[?25hRequirement already satisfied: Jinja2<4,>=2.11 in /usr/local/lib/python3.10/dist-packages (from mlflow->chassisml) (3.1.2)\n",
            "Requirement already satisfied: decorator>=3.4.0 in /usr/local/lib/python3.10/dist-packages (from validators->chassisml) (4.4.2)\n",
            "Collecting Mako (from alembic!=1.10.0,<2->mlflow->chassisml)\n",
            "  Downloading Mako-1.2.4-py3-none-any.whl (78 kB)\n",
            "\u001b[2K     \u001b[90m━━━━━━━━━━━━━━━━━━━━━━━━━━━━━━━━━━━━━━━━\u001b[0m \u001b[32m78.7/78.7 kB\u001b[0m \u001b[31m5.8 MB/s\u001b[0m eta \u001b[36m0:00:00\u001b[0m\n",
            "\u001b[?25hRequirement already satisfied: typing-extensions>=4 in /usr/local/lib/python3.10/dist-packages (from alembic!=1.10.0,<2->mlflow->chassisml) (4.6.3)\n",
            "Requirement already satisfied: cffi>=1.12 in /usr/local/lib/python3.10/dist-packages (from cryptography>=39.0.1->grpc-requests->chassisml) (1.15.1)\n",
            "Collecting pyjwt>=1.7.0 (from databricks-cli<1,>=0.8.7->mlflow->chassisml)\n",
            "  Downloading PyJWT-2.7.0-py3-none-any.whl (22 kB)\n",
            "Requirement already satisfied: oauthlib>=3.1.0 in /usr/local/lib/python3.10/dist-packages (from databricks-cli<1,>=0.8.7->mlflow->chassisml) (3.2.2)\n",
            "Requirement already satisfied: tabulate>=0.7.7 in /usr/local/lib/python3.10/dist-packages (from databricks-cli<1,>=0.8.7->mlflow->chassisml) (0.8.10)\n",
            "Requirement already satisfied: six>=1.10.0 in /usr/local/lib/python3.10/dist-packages (from databricks-cli<1,>=0.8.7->mlflow->chassisml) (1.16.0)\n",
            "Requirement already satisfied: Werkzeug>=2.2.2 in /usr/local/lib/python3.10/dist-packages (from Flask<3->mlflow->chassisml) (2.3.6)\n",
            "Requirement already satisfied: itsdangerous>=2.0 in /usr/local/lib/python3.10/dist-packages (from Flask<3->mlflow->chassisml) (2.1.2)\n",
            "Collecting gitdb<5,>=4.0.1 (from gitpython<4,>=2.1.0->mlflow->chassisml)\n",
            "  Downloading gitdb-4.0.10-py3-none-any.whl (62 kB)\n",
            "\u001b[2K     \u001b[90m━━━━━━━━━━━━━━━━━━━━━━━━━━━━━━━━━━━━━━━━\u001b[0m \u001b[32m62.7/62.7 kB\u001b[0m \u001b[31m7.9 MB/s\u001b[0m eta \u001b[36m0:00:00\u001b[0m\n",
            "\u001b[?25hRequirement already satisfied: googleapis-common-protos<2.0.dev0,>=1.56.2 in /usr/local/lib/python3.10/dist-packages (from google-api-core>=2.9.0->grpc-requests->chassisml) (1.59.1)\n",
            "INFO: pip is looking at multiple versions of google-api-core to determine which version is compatible with other requirements. This could take a while.\n",
            "Collecting google-api-core>=2.9.0 (from grpc-requests->chassisml)\n",
            "  Downloading google_api_core-2.11.0-py3-none-any.whl (120 kB)\n",
            "\u001b[2K     \u001b[90m━━━━━━━━━━━━━━━━━━━━━━━━━━━━━━━━━━━━━━\u001b[0m \u001b[32m120.3/120.3 kB\u001b[0m \u001b[31m15.1 MB/s\u001b[0m eta \u001b[36m0:00:00\u001b[0m\n",
            "\u001b[?25h  Downloading google_api_core-2.10.2-py3-none-any.whl (115 kB)\n",
            "\u001b[2K     \u001b[90m━━━━━━━━━━━━━━━━━━━━━━━━━━━━━━━━━━━━━━\u001b[0m \u001b[32m115.6/115.6 kB\u001b[0m \u001b[31m15.3 MB/s\u001b[0m eta \u001b[36m0:00:00\u001b[0m\n",
            "\u001b[?25h  Downloading google_api_core-2.10.1-py3-none-any.whl (115 kB)\n",
            "\u001b[2K     \u001b[90m━━━━━━━━━━━━━━━━━━━━━━━━━━━━━━━━━━━━━━\u001b[0m \u001b[32m115.5/115.5 kB\u001b[0m \u001b[31m14.6 MB/s\u001b[0m eta \u001b[36m0:00:00\u001b[0m\n",
            "\u001b[?25h  Downloading google_api_core-2.10.0-py3-none-any.whl (115 kB)\n",
            "\u001b[2K     \u001b[90m━━━━━━━━━━━━━━━━━━━━━━━━━━━━━━━━━━━━━━\u001b[0m \u001b[32m115.3/115.3 kB\u001b[0m \u001b[31m14.8 MB/s\u001b[0m eta \u001b[36m0:00:00\u001b[0m\n",
            "\u001b[?25h  Downloading google_api_core-2.9.0-py3-none-any.whl (115 kB)\n",
            "\u001b[2K     \u001b[90m━━━━━━━━━━━━━━━━━━━━━━━━━━━━━━━━━━━━━━\u001b[0m \u001b[32m115.1/115.1 kB\u001b[0m \u001b[31m14.8 MB/s\u001b[0m eta \u001b[36m0:00:00\u001b[0m\n",
            "\u001b[?25hCollecting mlflow (from chassisml)\n",
            "  Downloading mlflow-2.4.1-py3-none-any.whl (18.1 MB)\n",
            "\u001b[2K     \u001b[90m━━━━━━━━━━━━━━━━━━━━━━━━━━━━━━━━━━━━━━━━\u001b[0m \u001b[32m18.1/18.1 MB\u001b[0m \u001b[31m79.6 MB/s\u001b[0m eta \u001b[36m0:00:00\u001b[0m\n",
            "\u001b[?25hINFO: pip is looking at multiple versions of google-api-core to determine which version is compatible with other requirements. This could take a while.\n",
            "  Downloading mlflow-2.4.0-py3-none-any.whl (18.1 MB)\n",
            "\u001b[2K     \u001b[90m━━━━━━━━━━━━━━━━━━━━━━━━━━━━━━━━━━━━━━━━\u001b[0m \u001b[32m18.1/18.1 MB\u001b[0m \u001b[31m76.5 MB/s\u001b[0m eta \u001b[36m0:00:00\u001b[0m\n",
            "\u001b[?25hINFO: This is taking longer than usual. You might need to provide the dependency resolver with stricter constraints to reduce runtime. See https://pip.pypa.io/warnings/backtracking for guidance. If you want to abort this run, press Ctrl + C.\n",
            "  Downloading mlflow-2.3.2-py3-none-any.whl (17.7 MB)\n",
            "\u001b[2K     \u001b[90m━━━━━━━━━━━━━━━━━━━━━━━━━━━━━━━━━━━━━━━━\u001b[0m \u001b[32m17.7/17.7 MB\u001b[0m \u001b[31m84.0 MB/s\u001b[0m eta \u001b[36m0:00:00\u001b[0m\n",
            "\u001b[?25h  Downloading mlflow-2.3.1-py3-none-any.whl (17.7 MB)\n",
            "\u001b[2K     \u001b[90m━━━━━━━━━━━━━━━━━━━━━━━━━━━━━━━━━━━━━━━━\u001b[0m \u001b[32m17.7/17.7 MB\u001b[0m \u001b[31m37.8 MB/s\u001b[0m eta \u001b[36m0:00:00\u001b[0m\n",
            "\u001b[?25h  Downloading mlflow-2.3.0-py3-none-any.whl (17.7 MB)\n",
            "\u001b[2K     \u001b[90m━━━━━━━━━━━━━━━━━━━━━━━━━━━━━━━━━━━━━━━━\u001b[0m \u001b[32m17.7/17.7 MB\u001b[0m \u001b[31m16.0 MB/s\u001b[0m eta \u001b[36m0:00:00\u001b[0m\n",
            "\u001b[?25h  Downloading mlflow-2.2.2-py3-none-any.whl (17.6 MB)\n",
            "\u001b[2K     \u001b[90m━━━━━━━━━━━━━━━━━━━━━━━━━━━━━━━━━━━━━━━━\u001b[0m \u001b[32m17.6/17.6 MB\u001b[0m \u001b[31m63.2 MB/s\u001b[0m eta \u001b[36m0:00:00\u001b[0m\n",
            "\u001b[?25hCollecting shap<1,>=0.40 (from mlflow->chassisml)\n",
            "  Downloading shap-0.42.0-cp310-cp310-manylinux_2_12_x86_64.manylinux2010_x86_64.manylinux_2_17_x86_64.manylinux2014_x86_64.whl (547 kB)\n",
            "\u001b[2K     \u001b[90m━━━━━━━━━━━━━━━━━━━━━━━━━━━━━━━━━━━━━━\u001b[0m \u001b[32m547.1/547.1 kB\u001b[0m \u001b[31m41.6 MB/s\u001b[0m eta \u001b[36m0:00:00\u001b[0m\n",
            "\u001b[?25hCollecting mlflow (from chassisml)\n",
            "  Downloading mlflow-2.2.1-py3-none-any.whl (17.6 MB)\n",
            "\u001b[2K     \u001b[90m━━━━━━━━━━━━━━━━━━━━━━━━━━━━━━━━━━━━━━━━\u001b[0m \u001b[32m17.6/17.6 MB\u001b[0m \u001b[31m60.8 MB/s\u001b[0m eta \u001b[36m0:00:00\u001b[0m\n",
            "\u001b[?25h  Downloading mlflow-2.2.0-py3-none-any.whl (17.6 MB)\n",
            "\u001b[2K     \u001b[90m━━━━━━━━━━━━━━━━━━━━━━━━━━━━━━━━━━━━━━━━\u001b[0m \u001b[32m17.6/17.6 MB\u001b[0m \u001b[31m64.3 MB/s\u001b[0m eta \u001b[36m0:00:00\u001b[0m\n",
            "\u001b[?25h  Downloading mlflow-2.1.1-py3-none-any.whl (16.7 MB)\n",
            "\u001b[2K     \u001b[90m━━━━━━━━━━━━━━━━━━━━━━━━━━━━━━━━━━━━━━━━\u001b[0m \u001b[32m16.7/16.7 MB\u001b[0m \u001b[31m85.4 MB/s\u001b[0m eta \u001b[36m0:00:00\u001b[0m\n",
            "\u001b[?25hCollecting importlib-metadata!=4.7.0,<6,>=3.7.0 (from mlflow->chassisml)\n",
            "  Downloading importlib_metadata-5.2.0-py3-none-any.whl (21 kB)\n",
            "Collecting packaging>=14.0 (from docker->chassisml)\n",
            "  Downloading packaging-22.0-py3-none-any.whl (42 kB)\n",
            "\u001b[2K     \u001b[90m━━━━━━━━━━━━━━━━━━━━━━━━━━━━━━━━━━━━━━━━\u001b[0m \u001b[32m42.6/42.6 kB\u001b[0m \u001b[31m4.9 MB/s\u001b[0m eta \u001b[36m0:00:00\u001b[0m\n",
            "\u001b[?25hCollecting sqlalchemy<2,>=1.4.0 (from mlflow->chassisml)\n",
            "  Downloading SQLAlchemy-1.4.49-cp310-cp310-manylinux_2_5_x86_64.manylinux1_x86_64.manylinux_2_17_x86_64.manylinux2014_x86_64.whl (1.6 MB)\n",
            "\u001b[2K     \u001b[90m━━━━━━━━━━━━━━━━━━━━━━━━━━━━━━━━━━━━━━━━\u001b[0m \u001b[32m1.6/1.6 MB\u001b[0m \u001b[31m82.7 MB/s\u001b[0m eta \u001b[36m0:00:00\u001b[0m\n",
            "\u001b[?25hCollecting mlflow (from chassisml)\n",
            "  Downloading mlflow-2.1.0-py3-none-any.whl (16.7 MB)\n",
            "\u001b[2K     \u001b[90m━━━━━━━━━━━━━━━━━━━━━━━━━━━━━━━━━━━━━━━━\u001b[0m \u001b[32m16.7/16.7 MB\u001b[0m \u001b[31m17.8 MB/s\u001b[0m eta \u001b[36m0:00:00\u001b[0m\n",
            "\u001b[?25h  Downloading mlflow-2.0.1-py3-none-any.whl (16.5 MB)\n",
            "\u001b[2K     \u001b[90m━━━━━━━━━━━━━━━━━━━━━━━━━━━━━━━━━━━━━━━━\u001b[0m \u001b[32m16.5/16.5 MB\u001b[0m \u001b[31m87.6 MB/s\u001b[0m eta \u001b[36m0:00:00\u001b[0m\n",
            "\u001b[?25hCollecting packaging>=14.0 (from docker->chassisml)\n",
            "  Downloading packaging-21.3-py3-none-any.whl (40 kB)\n",
            "\u001b[2K     \u001b[90m━━━━━━━━━━━━━━━━━━━━━━━━━━━━━━━━━━━━━━━━\u001b[0m \u001b[32m40.8/40.8 kB\u001b[0m \u001b[31m4.1 MB/s\u001b[0m eta \u001b[36m0:00:00\u001b[0m\n",
            "\u001b[?25hCollecting mlflow (from chassisml)\n",
            "  Downloading mlflow-1.30.1-py3-none-any.whl (17.0 MB)\n",
            "\u001b[2K     \u001b[90m━━━━━━━━━━━━━━━━━━━━━━━━━━━━━━━━━━━━━━━━\u001b[0m \u001b[32m17.0/17.0 MB\u001b[0m \u001b[31m82.0 MB/s\u001b[0m eta \u001b[36m0:00:00\u001b[0m\n",
            "\u001b[?25hCollecting prometheus-flask-exporter<1 (from mlflow->chassisml)\n",
            "  Downloading prometheus_flask_exporter-0.22.4-py3-none-any.whl (18 kB)\n",
            "Collecting mlflow (from chassisml)\n",
            "  Downloading mlflow-1.30.0-py3-none-any.whl (17.0 MB)\n",
            "\u001b[2K     \u001b[90m━━━━━━━━━━━━━━━━━━━━━━━━━━━━━━━━━━━━━━━━\u001b[0m \u001b[32m17.0/17.0 MB\u001b[0m \u001b[31m64.7 MB/s\u001b[0m eta \u001b[36m0:00:00\u001b[0m\n",
            "\u001b[?25h  Downloading mlflow-1.29.0-py3-none-any.whl (16.9 MB)\n",
            "\u001b[2K     \u001b[90m━━━━━━━━━━━━━━━━━━━━━━━━━━━━━━━━━━━━━━━━\u001b[0m \u001b[32m16.9/16.9 MB\u001b[0m \u001b[31m86.7 MB/s\u001b[0m eta \u001b[36m0:00:00\u001b[0m\n",
            "\u001b[?25hCollecting importlib-metadata!=4.7.0,<5,>=3.7.0 (from mlflow->chassisml)\n",
            "  Downloading importlib_metadata-4.13.0-py3-none-any.whl (23 kB)\n",
            "Collecting mlflow (from chassisml)\n",
            "  Downloading mlflow-1.28.0-py3-none-any.whl (17.0 MB)\n",
            "\u001b[2K     \u001b[90m━━━━━━━━━━━━━━━━━━━━━━━━━━━━━━━━━━━━━━━━\u001b[0m \u001b[32m17.0/17.0 MB\u001b[0m \u001b[31m82.7 MB/s\u001b[0m eta \u001b[36m0:00:00\u001b[0m\n",
            "\u001b[?25hCollecting docker (from chassisml)\n",
            "  Downloading docker-5.0.3-py2.py3-none-any.whl (146 kB)\n",
            "\u001b[2K     \u001b[90m━━━━━━━━━━━━━━━━━━━━━━━━━━━━━━━━━━━━━━\u001b[0m \u001b[32m146.2/146.2 kB\u001b[0m \u001b[31m15.5 MB/s\u001b[0m eta \u001b[36m0:00:00\u001b[0m\n",
            "\u001b[?25hCollecting mlflow (from chassisml)\n",
            "  Downloading mlflow-1.27.0-py3-none-any.whl (17.9 MB)\n",
            "\u001b[2K     \u001b[90m━━━━━━━━━━━━━━━━━━━━━━━━━━━━━━━━━━━━━━━━\u001b[0m \u001b[32m17.9/17.9 MB\u001b[0m \u001b[31m15.0 MB/s\u001b[0m eta \u001b[36m0:00:00\u001b[0m\n",
            "\u001b[?25h  Downloading mlflow-1.26.1-py3-none-any.whl (17.8 MB)\n",
            "\u001b[2K     \u001b[90m━━━━━━━━━━━━━━━━━━━━━━━━━━━━━━━━━━━━━━━━\u001b[0m \u001b[32m17.8/17.8 MB\u001b[0m \u001b[31m68.1 MB/s\u001b[0m eta \u001b[36m0:00:00\u001b[0m\n",
            "\u001b[?25h  Downloading mlflow-1.26.0-py3-none-any.whl (17.8 MB)\n",
            "\u001b[2K     \u001b[90m━━━━━━━━━━━━━━━━━━━━━━━━━━━━━━━━━━━━━━━━\u001b[0m \u001b[32m17.8/17.8 MB\u001b[0m \u001b[31m54.9 MB/s\u001b[0m eta \u001b[36m0:00:00\u001b[0m\n",
            "\u001b[?25h  Downloading mlflow-1.25.1-py3-none-any.whl (16.8 MB)\n",
            "\u001b[2K     \u001b[90m━━━━━━━━━━━━━━━━━━━━━━━━━━━━━━━━━━━━━━━━\u001b[0m \u001b[32m16.8/16.8 MB\u001b[0m \u001b[31m69.1 MB/s\u001b[0m eta \u001b[36m0:00:00\u001b[0m\n",
            "\u001b[?25h  Downloading mlflow-1.25.0-py3-none-any.whl (16.7 MB)\n",
            "\u001b[2K     \u001b[90m━━━━━━━━━━━━━━━━━━━━━━━━━━━━━━━━━━━━━━━━\u001b[0m \u001b[32m16.7/16.7 MB\u001b[0m \u001b[31m81.0 MB/s\u001b[0m eta \u001b[36m0:00:00\u001b[0m\n",
            "\u001b[?25h  Downloading mlflow-1.24.0-py3-none-any.whl (16.5 MB)\n",
            "\u001b[2K     \u001b[90m━━━━━━━━━━━━━━━━━━━━━━━━━━━━━━━━━━━━━━━━\u001b[0m \u001b[32m16.5/16.5 MB\u001b[0m \u001b[31m76.9 MB/s\u001b[0m eta \u001b[36m0:00:00\u001b[0m\n",
            "\u001b[?25h  Downloading mlflow-1.23.1-py3-none-any.whl (15.6 MB)\n",
            "\u001b[2K     \u001b[90m━━━━━━━━━━━━━━━━━━━━━━━━━━━━━━━━━━━━━━━━\u001b[0m \u001b[32m15.6/15.6 MB\u001b[0m \u001b[31m21.7 MB/s\u001b[0m eta \u001b[36m0:00:00\u001b[0m\n",
            "\u001b[?25h  Downloading mlflow-1.23.0-py3-none-any.whl (15.6 MB)\n",
            "\u001b[2K     \u001b[90m━━━━━━━━━━━━━━━━━━━━━━━━━━━━━━━━━━━━━━━━\u001b[0m \u001b[32m15.6/15.6 MB\u001b[0m \u001b[31m65.9 MB/s\u001b[0m eta \u001b[36m0:00:00\u001b[0m\n",
            "\u001b[?25h  Downloading mlflow-1.22.0-py3-none-any.whl (15.5 MB)\n",
            "\u001b[2K     \u001b[90m━━━━━━━━━━━━━━━━━━━━━━━━━━━━━━━━━━━━━━━━\u001b[0m \u001b[32m15.5/15.5 MB\u001b[0m \u001b[31m77.7 MB/s\u001b[0m eta \u001b[36m0:00:00\u001b[0m\n",
            "\u001b[?25hCollecting alembic<=1.4.1 (from mlflow->chassisml)\n",
            "  Downloading alembic-1.4.1.tar.gz (1.1 MB)\n",
            "\u001b[2K     \u001b[90m━━━━━━━━━━━━━━━━━━━━━━━━━━━━━━━━━━━━━━━━\u001b[0m \u001b[32m1.1/1.1 MB\u001b[0m \u001b[31m72.2 MB/s\u001b[0m eta \u001b[36m0:00:00\u001b[0m\n",
            "\u001b[?25h  Preparing metadata (setup.py) ... \u001b[?25l\u001b[?25hdone\n",
            "Collecting mlflow (from chassisml)\n",
            "  Downloading mlflow-1.21.0-py3-none-any.whl (16.9 MB)\n",
            "\u001b[2K     \u001b[90m━━━━━━━━━━━━━━━━━━━━━━━━━━━━━━━━━━━━━━━━\u001b[0m \u001b[32m16.9/16.9 MB\u001b[0m \u001b[31m86.3 MB/s\u001b[0m eta \u001b[36m0:00:00\u001b[0m\n",
            "\u001b[?25h  Downloading mlflow-1.20.2-py3-none-any.whl (14.6 MB)\n",
            "\u001b[2K     \u001b[90m━━━━━━━━━━━━━━━━━━━━━━━━━━━━━━━━━━━━━━━\u001b[0m \u001b[32m14.6/14.6 MB\u001b[0m \u001b[31m109.9 MB/s\u001b[0m eta \u001b[36m0:00:00\u001b[0m\n",
            "\u001b[?25h  Downloading mlflow-1.20.1-py3-none-any.whl (14.6 MB)\n",
            "\u001b[2K     \u001b[90m━━━━━━━━━━━━━━━━━━━━━━━━━━━━━━━━━━━━━━━━\u001b[0m \u001b[32m14.6/14.6 MB\u001b[0m \u001b[31m15.2 MB/s\u001b[0m eta \u001b[36m0:00:00\u001b[0m\n",
            "\u001b[?25h  Downloading mlflow-1.20.0-py3-none-any.whl (14.6 MB)\n",
            "\u001b[2K     \u001b[90m━━━━━━━━━━━━━━━━━━━━━━━━━━━━━━━━━━━━━━━━\u001b[0m \u001b[32m14.6/14.6 MB\u001b[0m \u001b[31m78.5 MB/s\u001b[0m eta \u001b[36m0:00:00\u001b[0m\n",
            "\u001b[?25h  Downloading mlflow-1.19.0-py3-none-any.whl (14.4 MB)\n",
            "\u001b[2K     \u001b[90m━━━━━━━━━━━━━━━━━━━━━━━━━━━━━━━━━━━━━━━━\u001b[0m \u001b[32m14.4/14.4 MB\u001b[0m \u001b[31m73.1 MB/s\u001b[0m eta \u001b[36m0:00:00\u001b[0m\n",
            "\u001b[?25h  Downloading mlflow-1.18.0-py3-none-any.whl (14.2 MB)\n",
            "\u001b[2K     \u001b[90m━━━━━━━━━━━━━━━━━━━━━━━━━━━━━━━━━━━━━━━━\u001b[0m \u001b[32m14.2/14.2 MB\u001b[0m \u001b[31m69.5 MB/s\u001b[0m eta \u001b[36m0:00:00\u001b[0m\n",
            "\u001b[?25h  Downloading mlflow-1.17.0-py3-none-any.whl (14.2 MB)\n",
            "\u001b[2K     \u001b[90m━━━━━━━━━━━━━━━━━━━━━━━━━━━━━━━━━━━━━━━━\u001b[0m \u001b[32m14.2/14.2 MB\u001b[0m \u001b[31m80.1 MB/s\u001b[0m eta \u001b[36m0:00:00\u001b[0m\n",
            "\u001b[?25h  Downloading mlflow-1.16.0-py3-none-any.whl (14.2 MB)\n",
            "\u001b[2K     \u001b[90m━━━━━━━━━━━━━━━━━━━━━━━━━━━━━━━━━━━━━━━━\u001b[0m \u001b[32m14.2/14.2 MB\u001b[0m \u001b[31m50.8 MB/s\u001b[0m eta \u001b[36m0:00:00\u001b[0m\n",
            "\u001b[?25h  Downloading mlflow-1.15.0-py3-none-any.whl (14.2 MB)\n",
            "\u001b[2K     \u001b[90m━━━━━━━━━━━━━━━━━━━━━━━━━━━━━━━━━━━━━━━━\u001b[0m \u001b[32m14.2/14.2 MB\u001b[0m \u001b[31m72.4 MB/s\u001b[0m eta \u001b[36m0:00:00\u001b[0m\n",
            "\u001b[?25h  Downloading mlflow-1.14.1-py3-none-any.whl (14.2 MB)\n",
            "\u001b[2K     \u001b[90m━━━━━━━━━━━━━━━━━━━━━━━━━━━━━━━━━━━━━━━━\u001b[0m \u001b[32m14.2/14.2 MB\u001b[0m \u001b[31m16.3 MB/s\u001b[0m eta \u001b[36m0:00:00\u001b[0m\n",
            "\u001b[?25h  Downloading mlflow-1.14.0-py3-none-any.whl (14.2 MB)\n",
            "\u001b[2K     \u001b[90m━━━━━━━━━━━━━━━━━━━━━━━━━━━━━━━━━━━━━━━━\u001b[0m \u001b[32m14.2/14.2 MB\u001b[0m \u001b[31m91.0 MB/s\u001b[0m eta \u001b[36m0:00:00\u001b[0m\n",
            "\u001b[?25h  Downloading mlflow-1.13.1-py3-none-any.whl (14.1 MB)\n",
            "\u001b[2K     \u001b[90m━━━━━━━━━━━━━━━━━━━━━━━━━━━━━━━━━━━━━━━\u001b[0m \u001b[32m14.1/14.1 MB\u001b[0m \u001b[31m100.2 MB/s\u001b[0m eta \u001b[36m0:00:00\u001b[0m\n",
            "\u001b[?25hCollecting azure-storage-blob>=12.0.0 (from mlflow->chassisml)\n",
            "  Downloading azure_storage_blob-12.16.0-py3-none-any.whl (387 kB)\n",
            "\u001b[2K     \u001b[90m━━━━━━━━━━━━━━━━━━━━━━━━━━━━━━━━━━━━━━\u001b[0m \u001b[32m388.0/388.0 kB\u001b[0m \u001b[31m41.3 MB/s\u001b[0m eta \u001b[36m0:00:00\u001b[0m\n",
            "\u001b[?25hRequirement already satisfied: python-dateutil in /usr/local/lib/python3.10/dist-packages (from mlflow->chassisml) (2.8.2)\n",
            "Collecting mlflow (from chassisml)\n",
            "  Downloading mlflow-1.13-py3-none-any.whl (14.1 MB)\n",
            "\u001b[2K     \u001b[90m━━━━━━━━━━━━━━━━━━━━━━━━━━━━━━━━━━━━━━━━\u001b[0m \u001b[32m14.1/14.1 MB\u001b[0m \u001b[31m80.5 MB/s\u001b[0m eta \u001b[36m0:00:00\u001b[0m\n",
            "\u001b[?25h  Downloading mlflow-1.12.1-py3-none-any.whl (13.9 MB)\n",
            "\u001b[2K     \u001b[90m━━━━━━━━━━━━━━━━━━━━━━━━━━━━━━━━━━━━━━━\u001b[0m \u001b[32m13.9/13.9 MB\u001b[0m \u001b[31m110.5 MB/s\u001b[0m eta \u001b[36m0:00:00\u001b[0m\n",
            "\u001b[?25h  Downloading mlflow-1.12.0-py3-none-any.whl (13.9 MB)\n",
            "\u001b[2K     \u001b[90m━━━━━━━━━━━━━━━━━━━━━━━━━━━━━━━━━━━━━━━━\u001b[0m \u001b[32m13.9/13.9 MB\u001b[0m \u001b[31m98.1 MB/s\u001b[0m eta \u001b[36m0:00:00\u001b[0m\n",
            "\u001b[?25h  Downloading mlflow-1.11.0-py3-none-any.whl (13.9 MB)\n",
            "\u001b[2K     \u001b[90m━━━━━━━━━━━━━━━━━━━━━━━━━━━━━━━━━━━━━━━━\u001b[0m \u001b[32m13.9/13.9 MB\u001b[0m \u001b[31m17.5 MB/s\u001b[0m eta \u001b[36m0:00:00\u001b[0m\n",
            "\u001b[?25hCollecting sqlalchemy<=1.3.13 (from mlflow->chassisml)\n",
            "  Downloading SQLAlchemy-1.3.13.tar.gz (6.0 MB)\n",
            "\u001b[2K     \u001b[90m━━━━━━━━━━━━━━━━━━━━━━━━━━━━━━━━━━━━━━━━\u001b[0m \u001b[32m6.0/6.0 MB\u001b[0m \u001b[31m91.0 MB/s\u001b[0m eta \u001b[36m0:00:00\u001b[0m\n",
            "\u001b[?25h  Preparing metadata (setup.py) ... \u001b[?25l\u001b[?25hdone\n",
            "Collecting gorilla (from mlflow->chassisml)\n",
            "  Downloading gorilla-0.4.0-py2.py3-none-any.whl (9.6 kB)\n",
            "Collecting mlflow (from chassisml)\n",
            "  Downloading mlflow-1.10.0-py3-none-any.whl (12.4 MB)\n",
            "\u001b[2K     \u001b[90m━━━━━━━━━━━━━━━━━━━━━━━━━━━━━━━━━━━━━━━\u001b[0m \u001b[32m12.4/12.4 MB\u001b[0m \u001b[31m111.5 MB/s\u001b[0m eta \u001b[36m0:00:00\u001b[0m\n",
            "\u001b[?25h  Downloading mlflow-1.9.1-py3-none-any.whl (11.9 MB)\n",
            "\u001b[2K     \u001b[90m━━━━━━━━━━━━━━━━━━━━━━━━━━━━━━━━━━━━━━━━\u001b[0m \u001b[32m11.9/11.9 MB\u001b[0m \u001b[31m83.3 MB/s\u001b[0m eta \u001b[36m0:00:00\u001b[0m\n",
            "\u001b[?25h  Downloading mlflow-1.9.0-py3-none-any.whl (11.9 MB)\n",
            "\u001b[2K     \u001b[90m━━━━━━━━━━━━━━━━━━━━━━━━━━━━━━━━━━━━━━━\u001b[0m \u001b[32m11.9/11.9 MB\u001b[0m \u001b[31m105.6 MB/s\u001b[0m eta \u001b[36m0:00:00\u001b[0m\n",
            "\u001b[?25h  Downloading mlflow-1.8.0-py3-none-any.whl (10.4 MB)\n",
            "\u001b[2K     \u001b[90m━━━━━━━━━━━━━━━━━━━━━━━━━━━━━━━━━━━━━━━\u001b[0m \u001b[32m10.4/10.4 MB\u001b[0m \u001b[31m107.6 MB/s\u001b[0m eta \u001b[36m0:00:00\u001b[0m\n",
            "\u001b[?25hCollecting simplejson (from mlflow->chassisml)\n",
            "  Downloading simplejson-3.19.1-cp310-cp310-manylinux_2_5_x86_64.manylinux1_x86_64.manylinux_2_17_x86_64.manylinux2014_x86_64.whl (137 kB)\n",
            "\u001b[2K     \u001b[90m━━━━━━━━━━━━━━━━━━━━━━━━━━━━━━━━━━━━━━\u001b[0m \u001b[32m137.9/137.9 kB\u001b[0m \u001b[31m16.7 MB/s\u001b[0m eta \u001b[36m0:00:00\u001b[0m\n",
            "\u001b[?25hCollecting mlflow (from chassisml)\n",
            "  Downloading mlflow-1.7.2-py3-none-any.whl (16.0 MB)\n",
            "\u001b[2K     \u001b[90m━━━━━━━━━━━━━━━━━━━━━━━━━━━━━━━━━━━━━━━━\u001b[0m \u001b[32m16.0/16.0 MB\u001b[0m \u001b[31m43.8 MB/s\u001b[0m eta \u001b[36m0:00:00\u001b[0m\n",
            "\u001b[?25h  Downloading mlflow-1.7.1-py3-none-any.whl (16.0 MB)\n",
            "\u001b[2K     \u001b[90m━━━━━━━━━━━━━━━━━━━━━━━━━━━━━━━━━━━━━━━━\u001b[0m \u001b[32m16.0/16.0 MB\u001b[0m \u001b[31m19.1 MB/s\u001b[0m eta \u001b[36m0:00:00\u001b[0m\n",
            "\u001b[?25h  Downloading mlflow-1.7.0.tar.gz (15.8 MB)\n",
            "\u001b[2K     \u001b[90m━━━━━━━━━━━━━━━━━━━━━━━━━━━━━━━━━━━━━━━\u001b[0m \u001b[32m15.8/15.8 MB\u001b[0m \u001b[31m102.9 MB/s\u001b[0m eta \u001b[36m0:00:00\u001b[0m\n",
            "\u001b[?25h  Preparing metadata (setup.py) ... \u001b[?25l\u001b[?25hdone\n",
            "  Downloading mlflow-1.6.0.tar.gz (15.9 MB)\n",
            "\u001b[2K     \u001b[90m━━━━━━━━━━━━━━━━━━━━━━━━━━━━━━━━━━━━━━━━\u001b[0m \u001b[32m15.9/15.9 MB\u001b[0m \u001b[31m25.8 MB/s\u001b[0m eta \u001b[36m0:00:00\u001b[0m\n",
            "\u001b[?25h  Preparing metadata (setup.py) ... \u001b[?25l\u001b[?25hdone\n",
            "  Downloading mlflow-1.5.0.tar.gz (14.6 MB)\n",
            "\u001b[2K     \u001b[90m━━━━━━━━━━━━━━━━━━━━━━━━━━━━━━━━━━━━━━━━\u001b[0m \u001b[32m14.6/14.6 MB\u001b[0m \u001b[31m22.1 MB/s\u001b[0m eta \u001b[36m0:00:00\u001b[0m\n",
            "\u001b[?25h  Preparing metadata (setup.py) ... \u001b[?25l\u001b[?25hdone\n",
            "  Downloading mlflow-1.4.0.tar.gz (14.6 MB)\n",
            "\u001b[2K     \u001b[90m━━━━━━━━━━━━━━━━━━━━━━━━━━━━━━━━━━━━━━━━\u001b[0m \u001b[32m14.6/14.6 MB\u001b[0m \u001b[31m22.9 MB/s\u001b[0m eta \u001b[36m0:00:00\u001b[0m\n",
            "\u001b[?25h  Preparing metadata (setup.py) ... \u001b[?25l\u001b[?25hdone\n",
            "  Downloading mlflow-1.3.0.tar.gz (14.4 MB)\n",
            "\u001b[2K     \u001b[90m━━━━━━━━━━━━━━━━━━━━━━━━━━━━━━━━━━━━━━━━\u001b[0m \u001b[32m14.4/14.4 MB\u001b[0m \u001b[31m22.4 MB/s\u001b[0m eta \u001b[36m0:00:00\u001b[0m\n",
            "\u001b[?25h  Preparing metadata (setup.py) ... \u001b[?25l\u001b[?25hdone\n",
            "  Downloading mlflow-1.2.0.tar.gz (14.0 MB)\n",
            "\u001b[2K     \u001b[90m━━━━━━━━━━━━━━━━━━━━━━━━━━━━━━━━━━━━━━━━\u001b[0m \u001b[32m14.0/14.0 MB\u001b[0m \u001b[31m22.9 MB/s\u001b[0m eta \u001b[36m0:00:00\u001b[0m\n",
            "\u001b[?25h  Preparing metadata (setup.py) ... \u001b[?25l\u001b[?25hdone\n",
            "  Downloading mlflow-1.1.0-py3-none-any.whl (26.2 MB)\n",
            "\u001b[2K     \u001b[90m━━━━━━━━━━━━━━━━━━━━━━━━━━━━━━━━━━━━━━━━\u001b[0m \u001b[32m26.2/26.2 MB\u001b[0m \u001b[31m13.0 MB/s\u001b[0m eta \u001b[36m0:00:00\u001b[0m\n",
            "\u001b[?25h  Downloading mlflow-1.0.0-py3-none-any.whl (47.7 MB)\n",
            "\u001b[2K     \u001b[90m━━━━━━━━━━━━━━━━━━━━━━━━━━━━━━━━━━━━━━━━\u001b[0m \u001b[32m47.7/47.7 MB\u001b[0m \u001b[31m16.1 MB/s\u001b[0m eta \u001b[36m0:00:00\u001b[0m\n",
            "\u001b[?25h  Downloading mlflow-0.9.1-py3-none-any.whl (11.8 MB)\n",
            "\u001b[2K     \u001b[90m━━━━━━━━━━━━━━━━━━━━━━━━━━━━━━━━━━━━━━━━\u001b[0m \u001b[32m11.8/11.8 MB\u001b[0m \u001b[31m77.0 MB/s\u001b[0m eta \u001b[36m0:00:00\u001b[0m\n",
            "\u001b[?25hCollecting boto3>=1.7.12 (from mlflow->chassisml)\n",
            "  Downloading boto3-1.28.1-py3-none-any.whl (135 kB)\n",
            "\u001b[2K     \u001b[90m━━━━━━━━━━━━━━━━━━━━━━━━━━━━━━━━━━━━━━\u001b[0m \u001b[32m135.7/135.7 kB\u001b[0m \u001b[31m17.1 MB/s\u001b[0m eta \u001b[36m0:00:00\u001b[0m\n",
            "\u001b[?25hCollecting mleap>=0.8.1 (from mlflow->chassisml)\n",
            "  Downloading mleap-0.23.0-py3-none-any.whl (58 kB)\n",
            "\u001b[2K     \u001b[90m━━━━━━━━━━━━━━━━━━━━━━━━━━━━━━━━━━━━━━━━\u001b[0m \u001b[32m59.0/59.0 kB\u001b[0m \u001b[31m7.1 MB/s\u001b[0m eta \u001b[36m0:00:00\u001b[0m\n",
            "\u001b[?25hCollecting mlflow (from chassisml)\n",
            "  Downloading mlflow-0.9.0.1-py3-none-any.whl (11.8 MB)\n",
            "\u001b[2K     \u001b[90m━━━━━━━━━━━━━━━━━━━━━━━━━━━━━━━━━━━━━━━━\u001b[0m \u001b[32m11.8/11.8 MB\u001b[0m \u001b[31m97.5 MB/s\u001b[0m eta \u001b[36m0:00:00\u001b[0m\n",
            "\u001b[?25hCollecting cloudpickle==0.6.1 (from mlflow->chassisml)\n",
            "  Downloading cloudpickle-0.6.1-py2.py3-none-any.whl (14 kB)\n",
            "Collecting mlflow (from chassisml)\n",
            "  Downloading mlflow-0.9.0-py3-none-any.whl (11.7 MB)\n",
            "\u001b[2K     \u001b[90m━━━━━━━━━━━━━━━━━━━━━━━━━━━━━━━━━━━━━━━━\u001b[0m \u001b[32m11.7/11.7 MB\u001b[0m \u001b[31m90.1 MB/s\u001b[0m eta \u001b[36m0:00:00\u001b[0m\n",
            "\u001b[?25h  Downloading mlflow-0.8.2.tar.gz (11.6 MB)\n",
            "\u001b[2K     \u001b[90m━━━━━━━━━━━━━━━━━━━━━━━━━━━━━━━━━━━━━━━━\u001b[0m \u001b[32m11.6/11.6 MB\u001b[0m \u001b[31m97.8 MB/s\u001b[0m eta \u001b[36m0:00:00\u001b[0m\n",
            "\u001b[?25h  Preparing metadata (setup.py) ... \u001b[?25l\u001b[?25hdone\n",
            "  Downloading mlflow-0.8.1.tar.gz (11.6 MB)\n",
            "\u001b[2K     \u001b[90m━━━━━━━━━━━━━━━━━━━━━━━━━━━━━━━━━━━━━━━━\u001b[0m \u001b[32m11.6/11.6 MB\u001b[0m \u001b[31m16.5 MB/s\u001b[0m eta \u001b[36m0:00:00\u001b[0m\n",
            "\u001b[?25h  Preparing metadata (setup.py) ... \u001b[?25l\u001b[?25hdone\n",
            "  Downloading mlflow-0.8.0.tar.gz (6.3 MB)\n",
            "\u001b[2K     \u001b[90m━━━━━━━━━━━━━━━━━━━━━━━━━━━━━━━━━━━━━━━━\u001b[0m \u001b[32m6.3/6.3 MB\u001b[0m \u001b[31m80.6 MB/s\u001b[0m eta \u001b[36m0:00:00\u001b[0m\n",
            "\u001b[?25h  Preparing metadata (setup.py) ... \u001b[?25l\u001b[?25hdone\n",
            "  Downloading mlflow-0.7.0.tar.gz (6.2 MB)\n",
            "\u001b[2K     \u001b[90m━━━━━━━━━━━━━━━━━━━━━━━━━━━━━━━━━━━━━━━━\u001b[0m \u001b[32m6.2/6.2 MB\u001b[0m \u001b[31m82.4 MB/s\u001b[0m eta \u001b[36m0:00:00\u001b[0m\n",
            "\u001b[?25h  Preparing metadata (setup.py) ... \u001b[?25l\u001b[?25hdone\n",
            "  Downloading mlflow-0.6.0.tar.gz (4.6 MB)\n",
            "\u001b[2K     \u001b[90m━━━━━━━━━━━━━━━━━━━━━━━━━━━━━━━━━━━━━━━━\u001b[0m \u001b[32m4.6/4.6 MB\u001b[0m \u001b[31m76.6 MB/s\u001b[0m eta \u001b[36m0:00:00\u001b[0m\n",
            "\u001b[?25h  Preparing metadata (setup.py) ... \u001b[?25l\u001b[?25hdone\n",
            "  Downloading mlflow-0.5.2.tar.gz (4.4 MB)\n",
            "\u001b[2K     \u001b[90m━━━━━━━━━━━━━━━━━━━━━━━━━━━━━━━━━━━━━━━━\u001b[0m \u001b[32m4.4/4.4 MB\u001b[0m \u001b[31m8.4 MB/s\u001b[0m eta \u001b[36m0:00:00\u001b[0m\n",
            "\u001b[?25h  Preparing metadata (setup.py) ... \u001b[?25l\u001b[?25hdone\n",
            "Collecting awscli (from mlflow->chassisml)\n",
            "  Downloading awscli-1.29.1-py3-none-any.whl (4.1 MB)\n",
            "\u001b[2K     \u001b[90m━━━━━━━━━━━━━━━━━━━━━━━━━━━━━━━━━━━━━━━━\u001b[0m \u001b[32m4.1/4.1 MB\u001b[0m \u001b[31m49.5 MB/s\u001b[0m eta \u001b[36m0:00:00\u001b[0m\n",
            "\u001b[?25hCollecting uuid (from mlflow->chassisml)\n",
            "  Downloading uuid-1.30.tar.gz (5.8 kB)\n",
            "  Preparing metadata (setup.py) ... \u001b[?25l\u001b[?25hdone\n",
            "Collecting mlflow (from chassisml)\n",
            "  Downloading mlflow-0.5.1-py3-none-any.whl (11.6 MB)\n",
            "\u001b[2K     \u001b[90m━━━━━━━━━━━━━━━━━━━━━━━━━━━━━━━━━━━━━━━\u001b[0m \u001b[32m11.6/11.6 MB\u001b[0m \u001b[31m102.9 MB/s\u001b[0m eta \u001b[36m0:00:00\u001b[0m\n",
            "\u001b[?25h  Downloading mlflow-0.5.0-py3-none-any.whl (9.2 MB)\n",
            "\u001b[2K     \u001b[90m━━━━━━━━━━━━━━━━━━━━━━━━━━━━━━━━━━━━━━━━\u001b[0m \u001b[32m9.2/9.2 MB\u001b[0m \u001b[31m112.7 MB/s\u001b[0m eta \u001b[36m0:00:00\u001b[0m\n",
            "\u001b[?25h  Downloading mlflow-0.4.2.tar.gz (4.4 MB)\n",
            "\u001b[2K     \u001b[90m━━━━━━━━━━━━━━━━━━━━━━━━━━━━━━━━━━━━━━━━\u001b[0m \u001b[32m4.4/4.4 MB\u001b[0m \u001b[31m95.5 MB/s\u001b[0m eta \u001b[36m0:00:00\u001b[0m\n",
            "\u001b[?25h  Preparing metadata (setup.py) ... \u001b[?25l\u001b[?25hdone\n",
            "  Downloading mlflow-0.4.1-py3-none-any.whl (4.4 MB)\n",
            "\u001b[2K     \u001b[90m━━━━━━━━━━━━━━━━━━━━━━━━━━━━━━━━━━━━━━━━\u001b[0m \u001b[32m4.4/4.4 MB\u001b[0m \u001b[31m114.1 MB/s\u001b[0m eta \u001b[36m0:00:00\u001b[0m\n",
            "\u001b[?25h  Downloading mlflow-0.4.0-py3-none-any.whl (4.4 MB)\n",
            "\u001b[2K     \u001b[90m━━━━━━━━━━━━━━━━━━━━━━━━━━━━━━━━━━━━━━━━\u001b[0m \u001b[32m4.4/4.4 MB\u001b[0m \u001b[31m102.0 MB/s\u001b[0m eta \u001b[36m0:00:00\u001b[0m\n",
            "\u001b[?25h  Downloading mlflow-0.3.0.tar.gz (4.3 MB)\n",
            "\u001b[2K     \u001b[90m━━━━━━━━━━━━━━━━━━━━━━━━━━━━━━━━━━━━━━━━\u001b[0m \u001b[32m4.3/4.3 MB\u001b[0m \u001b[31m95.7 MB/s\u001b[0m eta \u001b[36m0:00:00\u001b[0m\n",
            "\u001b[?25h  Preparing metadata (setup.py) ... \u001b[?25l\u001b[?25hdone\n",
            "Requirement already satisfied: google-cloud-storage in /usr/local/lib/python3.10/dist-packages (from mlflow->chassisml) (2.8.0)\n",
            "  Downloading mlflow-0.2.1.tar.gz (4.3 MB)\n",
            "\u001b[2K     \u001b[90m━━━━━━━━━━━━━━━━━━━━━━━━━━━━━━━━━━━━━━━━\u001b[0m \u001b[32m4.3/4.3 MB\u001b[0m \u001b[31m103.7 MB/s\u001b[0m eta \u001b[36m0:00:00\u001b[0m\n",
            "\u001b[?25h  Preparing metadata (setup.py) ... \u001b[?25l\u001b[?25hdone\n",
            "  Downloading mlflow-0.2.0.tar.gz (4.3 MB)\n",
            "\u001b[2K     \u001b[90m━━━━━━━━━━━━━━━━━━━━━━━━━━━━━━━━━━━━━━━━\u001b[0m \u001b[32m4.3/4.3 MB\u001b[0m \u001b[31m13.4 MB/s\u001b[0m eta \u001b[36m0:00:00\u001b[0m\n",
            "\u001b[?25h  Preparing metadata (setup.py) ... \u001b[?25l\u001b[?25hdone\n",
            "  Downloading mlflow-0.1.0.tar.gz (4.3 MB)\n",
            "\u001b[2K     \u001b[90m━━━━━━━━━━━━━━━━━━━━━━━━━━━━━━━━━━━━━━━━\u001b[0m \u001b[32m4.3/4.3 MB\u001b[0m \u001b[31m87.9 MB/s\u001b[0m eta \u001b[36m0:00:00\u001b[0m\n",
            "\u001b[?25h  Preparing metadata (setup.py) ... \u001b[?25l\u001b[?25hdone\n",
            "Collecting pygal (from mlflow->chassisml)\n",
            "  Downloading pygal-3.0.0-py2.py3-none-any.whl (129 kB)\n",
            "\u001b[2K     \u001b[90m━━━━━━━━━━━━━━━━━━━━━━━━━━━━━━━━━━━━━━\u001b[0m \u001b[32m129.4/129.4 kB\u001b[0m \u001b[31m16.6 MB/s\u001b[0m eta \u001b[36m0:00:00\u001b[0m\n",
            "\u001b[?25hCollecting zipstream (from mlflow->chassisml)\n",
            "  Downloading zipstream-1.1.4.tar.gz (5.8 kB)\n",
            "  Preparing metadata (setup.py) ... \u001b[?25l\u001b[?25hdone\n",
            "Collecting mlflow (from chassisml)\n",
            "  Downloading mlflow-0.0.1.tar.gz (4.3 MB)\n",
            "\u001b[2K     \u001b[90m━━━━━━━━━━━━━━━━━━━━━━━━━━━━━━━━━━━━━━━━\u001b[0m \u001b[32m4.3/4.3 MB\u001b[0m \u001b[31m104.3 MB/s\u001b[0m eta \u001b[36m0:00:00\u001b[0m\n",
            "\u001b[?25h  Preparing metadata (setup.py) ... \u001b[?25l\u001b[?25hdone\n",
            "Collecting grpc-requests (from chassisml)\n",
            "  Downloading grpc_requests-0.1.9-py3-none-any.whl (28 kB)\n",
            "INFO: pip is looking at multiple versions of grpc-requests to determine which version is compatible with other requirements. This could take a while.\n",
            "  Downloading grpc_requests-0.1.8-py3-none-any.whl (27 kB)\n",
            "  Downloading grpc_requests-0.1.7-py3-none-any.whl (27 kB)\n",
            "Collecting google-api-core>=1.31.0 (from grpc-requests->chassisml)\n",
            "  Downloading google_api_core-2.8.2-py3-none-any.whl (114 kB)\n",
            "\u001b[2K     \u001b[90m━━━━━━━━━━━━━━━━━━━━━━━━━━━━━━━━━━━━━━\u001b[0m \u001b[32m114.6/114.6 kB\u001b[0m \u001b[31m14.0 MB/s\u001b[0m eta \u001b[36m0:00:00\u001b[0m\n",
            "\u001b[?25hRequirement already satisfied: google-auth<3.0dev,>=1.25.0 in /usr/local/lib/python3.10/dist-packages (from google-api-core>=1.31.0->grpc-requests->chassisml) (2.17.3)\n",
            "INFO: pip is looking at multiple versions of grpcio-reflection to determine which version is compatible with other requirements. This could take a while.\n",
            "Collecting grpcio-reflection>=1.39.0 (from grpc-requests->chassisml)\n",
            "  Downloading grpcio_reflection-1.54.2-py3-none-any.whl (11 kB)\n",
            "  Downloading grpcio_reflection-1.54.0-py3-none-any.whl (11 kB)\n",
            "  Downloading grpcio_reflection-1.53.1-py3-none-any.whl (11 kB)\n",
            "  Downloading grpcio_reflection-1.53.0-py3-none-any.whl (11 kB)\n",
            "  Downloading grpcio_reflection-1.51.3-py3-none-any.whl (11 kB)\n",
            "  Downloading grpcio_reflection-1.51.1-py3-none-any.whl (11 kB)\n",
            "  Downloading grpcio_reflection-1.50.0-py3-none-any.whl (20 kB)\n",
            "INFO: pip is looking at multiple versions of grpcio-reflection to determine which version is compatible with other requirements. This could take a while.\n",
            "  Downloading grpcio_reflection-1.49.1-py3-none-any.whl (20 kB)\n",
            "  Downloading grpcio_reflection-1.48.2-py3-none-any.whl (21 kB)\n",
            "Requirement already satisfied: setuptools>=3.0 in /usr/local/lib/python3.10/dist-packages (from gunicorn<21->mlflow->chassisml) (67.7.2)\n",
            "Requirement already satisfied: zipp>=0.5 in /usr/local/lib/python3.10/dist-packages (from importlib-metadata!=4.7.0,<7,>=3.7.0->mlflow->chassisml) (3.15.0)\n",
            "Requirement already satisfied: MarkupSafe>=2.0 in /usr/local/lib/python3.10/dist-packages (from Jinja2<4,>=2.11->mlflow->chassisml) (2.1.3)\n",
            "Requirement already satisfied: contourpy>=1.0.1 in /usr/local/lib/python3.10/dist-packages (from matplotlib<4->mlflow->chassisml) (1.1.0)\n",
            "Requirement already satisfied: cycler>=0.10 in /usr/local/lib/python3.10/dist-packages (from matplotlib<4->mlflow->chassisml) (0.11.0)\n",
            "Requirement already satisfied: fonttools>=4.22.0 in /usr/local/lib/python3.10/dist-packages (from matplotlib<4->mlflow->chassisml) (4.40.0)\n",
            "Requirement already satisfied: kiwisolver>=1.0.1 in /usr/local/lib/python3.10/dist-packages (from matplotlib<4->mlflow->chassisml) (1.4.4)\n",
            "Requirement already satisfied: pillow>=6.2.0 in /usr/local/lib/python3.10/dist-packages (from matplotlib<4->mlflow->chassisml) (8.4.0)\n",
            "Requirement already satisfied: pyparsing>=2.3.1 in /usr/local/lib/python3.10/dist-packages (from matplotlib<4->mlflow->chassisml) (3.1.0)\n",
            "Requirement already satisfied: joblib>=1.1.1 in /usr/local/lib/python3.10/dist-packages (from scikit-learn<2->mlflow->chassisml) (1.2.0)\n",
            "Requirement already satisfied: threadpoolctl>=2.0.0 in /usr/local/lib/python3.10/dist-packages (from scikit-learn<2->mlflow->chassisml) (3.1.0)\n",
            "Requirement already satisfied: greenlet!=0.4.17 in /usr/local/lib/python3.10/dist-packages (from sqlalchemy<3,>=1.4.0->mlflow->chassisml) (2.0.2)\n",
            "Requirement already satisfied: pycparser in /usr/local/lib/python3.10/dist-packages (from cffi>=1.12->cryptography>=39.0.1->grpc-requests->chassisml) (2.21)\n",
            "Collecting smmap<6,>=3.0.1 (from gitdb<5,>=4.0.1->gitpython<4,>=2.1.0->mlflow->chassisml)\n",
            "  Downloading smmap-5.0.0-py3-none-any.whl (24 kB)\n",
            "Requirement already satisfied: cachetools<6.0,>=2.0.0 in /usr/local/lib/python3.10/dist-packages (from google-auth<3.0dev,>=1.25.0->google-api-core>=1.31.0->grpc-requests->chassisml) (5.3.1)\n",
            "Requirement already satisfied: pyasn1-modules>=0.2.1 in /usr/local/lib/python3.10/dist-packages (from google-auth<3.0dev,>=1.25.0->google-api-core>=1.31.0->grpc-requests->chassisml) (0.3.0)\n",
            "Requirement already satisfied: rsa<5,>=3.1.4 in /usr/local/lib/python3.10/dist-packages (from google-auth<3.0dev,>=1.25.0->google-api-core>=1.31.0->grpc-requests->chassisml) (4.9)\n",
            "INFO: pip is looking at multiple versions of googleapis-common-protos to determine which version is compatible with other requirements. This could take a while.\n",
            "Collecting googleapis-common-protos<2.0dev,>=1.56.2 (from google-api-core>=1.31.0->grpc-requests->chassisml)\n",
            "  Downloading googleapis_common_protos-1.59.0-py2.py3-none-any.whl (223 kB)\n",
            "\u001b[2K     \u001b[90m━━━━━━━━━━━━━━━━━━━━━━━━━━━━━━━━━━━━━━\u001b[0m \u001b[32m223.6/223.6 kB\u001b[0m \u001b[31m23.1 MB/s\u001b[0m eta \u001b[36m0:00:00\u001b[0m\n",
            "\u001b[?25h  Downloading googleapis_common_protos-1.58.0-py2.py3-none-any.whl (223 kB)\n",
            "\u001b[2K     \u001b[90m━━━━━━━━━━━━━━━━━━━━━━━━━━━━━━━━━━━━━━\u001b[0m \u001b[32m223.0/223.0 kB\u001b[0m \u001b[31m16.0 MB/s\u001b[0m eta \u001b[36m0:00:00\u001b[0m\n",
            "\u001b[?25h  Downloading googleapis_common_protos-1.57.1-py2.py3-none-any.whl (218 kB)\n",
            "\u001b[2K     \u001b[90m━━━━━━━━━━━━━━━━━━━━━━━━━━━━━━━━━━━━━━\u001b[0m \u001b[32m218.0/218.0 kB\u001b[0m \u001b[31m22.7 MB/s\u001b[0m eta \u001b[36m0:00:00\u001b[0m\n",
            "\u001b[?25h  Downloading googleapis_common_protos-1.57.0-py2.py3-none-any.whl (217 kB)\n",
            "\u001b[2K     \u001b[90m━━━━━━━━━━━━━━━━━━━━━━━━━━━━━━━━━━━━━━\u001b[0m \u001b[32m218.0/218.0 kB\u001b[0m \u001b[31m19.5 MB/s\u001b[0m eta \u001b[36m0:00:00\u001b[0m\n",
            "\u001b[?25h  Downloading googleapis_common_protos-1.56.4-py2.py3-none-any.whl (211 kB)\n",
            "\u001b[2K     \u001b[90m━━━━━━━━━━━━━━━━━━━━━━━━━━━━━━━━━━━━━━\u001b[0m \u001b[32m211.7/211.7 kB\u001b[0m \u001b[31m22.5 MB/s\u001b[0m eta \u001b[36m0:00:00\u001b[0m\n",
            "\u001b[?25hRequirement already satisfied: pyasn1<0.6.0,>=0.4.6 in /usr/local/lib/python3.10/dist-packages (from pyasn1-modules>=0.2.1->google-auth<3.0dev,>=1.25.0->google-api-core>=1.31.0->grpc-requests->chassisml) (0.5.0)\n",
            "Building wheels for collected packages: validators, databricks-cli\n",
            "  Building wheel for validators (setup.py) ... \u001b[?25l\u001b[?25hdone\n",
            "  Created wheel for validators: filename=validators-0.20.0-py3-none-any.whl size=19579 sha256=94c4c3b2af4026181f721b1664080146cd785660b2710ef74035cbf8b0fccafc\n",
            "  Stored in directory: /root/.cache/pip/wheels/f2/ed/dd/d3a556ad245ef9dc570c6bcd2f22886d17b0b408dd3bbb9ac3\n",
            "  Building wheel for databricks-cli (setup.py) ... \u001b[?25l\u001b[?25hdone\n",
            "  Created wheel for databricks-cli: filename=databricks_cli-0.17.7-py3-none-any.whl size=143860 sha256=ffd8415ecafc4efb8eff42160b4ce7e78ddf97acc23407f2e94b84f5d5cd665c\n",
            "  Stored in directory: /root/.cache/pip/wheels/ae/63/93/5402c1a09c1868a59d0b05013484e07af97a9d7b3dbd5bd39a\n",
            "Successfully built validators databricks-cli\n",
            "Installing collected packages: validators, smmap, querystring-parser, pyjwt, protobuf, Mako, importlib-metadata, gunicorn, grpcio-reflection, googleapis-common-protos, gitdb, docker, databricks-cli, cryptography, alembic, google-api-core, gitpython, mlflow, grpc-requests, chassisml\n",
            "  Attempting uninstall: protobuf\n",
            "    Found existing installation: protobuf 3.20.3\n",
            "    Uninstalling protobuf-3.20.3:\n",
            "      Successfully uninstalled protobuf-3.20.3\n",
            "  Attempting uninstall: googleapis-common-protos\n",
            "    Found existing installation: googleapis-common-protos 1.59.1\n",
            "    Uninstalling googleapis-common-protos-1.59.1:\n",
            "      Successfully uninstalled googleapis-common-protos-1.59.1\n",
            "  Attempting uninstall: google-api-core\n",
            "    Found existing installation: google-api-core 2.11.1\n",
            "    Uninstalling google-api-core-2.11.1:\n",
            "      Successfully uninstalled google-api-core-2.11.1\n",
            "\u001b[31mERROR: pip's dependency resolver does not currently take into account all the packages that are installed. This behaviour is the source of the following dependency conflicts.\n",
            "google-cloud-bigquery 3.10.0 requires protobuf!=3.20.0,!=3.20.1,!=4.21.0,!=4.21.1,!=4.21.2,!=4.21.3,!=4.21.4,!=4.21.5,<5.0.0dev,>=3.19.5, but you have protobuf 3.19.4 which is incompatible.\n",
            "google-cloud-bigquery-connection 1.12.0 requires google-api-core[grpc]!=2.0.*,!=2.1.*,!=2.10.*,!=2.2.*,!=2.3.*,!=2.4.*,!=2.5.*,!=2.6.*,!=2.7.*,!=2.8.*,!=2.9.*,<3.0.0dev,>=1.34.0, but you have google-api-core 2.8.2 which is incompatible.\n",
            "google-cloud-bigquery-connection 1.12.0 requires protobuf!=3.20.0,!=3.20.1,!=4.21.0,!=4.21.1,!=4.21.2,!=4.21.3,!=4.21.4,!=4.21.5,<5.0.0dev,>=3.19.5, but you have protobuf 3.19.4 which is incompatible.\n",
            "google-cloud-bigquery-storage 2.20.0 requires google-api-core[grpc]!=2.0.*,!=2.1.*,!=2.10.*,!=2.2.*,!=2.3.*,!=2.4.*,!=2.5.*,!=2.6.*,!=2.7.*,!=2.8.*,!=2.9.*,<3.0.0dev,>=1.34.0, but you have google-api-core 2.8.2 which is incompatible.\n",
            "google-cloud-bigquery-storage 2.20.0 requires protobuf!=3.20.0,!=3.20.1,!=4.21.0,!=4.21.1,!=4.21.2,!=4.21.3,!=4.21.4,!=4.21.5,<5.0.0dev,>=3.19.5, but you have protobuf 3.19.4 which is incompatible.\n",
            "google-cloud-datastore 2.15.2 requires google-api-core[grpc]!=2.0.*,!=2.1.*,!=2.10.*,!=2.2.*,!=2.3.*,!=2.4.*,!=2.5.*,!=2.6.*,!=2.7.*,!=2.8.*,!=2.9.*,<3.0.0dev,>=1.34.0, but you have google-api-core 2.8.2 which is incompatible.\n",
            "google-cloud-datastore 2.15.2 requires protobuf!=3.20.0,!=3.20.1,!=4.21.0,!=4.21.1,!=4.21.2,!=4.21.3,!=4.21.4,!=4.21.5,<5.0.0dev,>=3.19.5, but you have protobuf 3.19.4 which is incompatible.\n",
            "google-cloud-firestore 2.11.1 requires google-api-core[grpc]!=2.0.*,!=2.1.*,!=2.10.*,!=2.2.*,!=2.3.*,!=2.4.*,!=2.5.*,!=2.6.*,!=2.7.*,!=2.8.*,!=2.9.*,<3.0.0dev,>=1.34.0, but you have google-api-core 2.8.2 which is incompatible.\n",
            "google-cloud-firestore 2.11.1 requires protobuf!=3.20.0,!=3.20.1,!=4.21.0,!=4.21.1,!=4.21.2,!=4.21.3,!=4.21.4,!=4.21.5,<5.0.0dev,>=3.19.5, but you have protobuf 3.19.4 which is incompatible.\n",
            "google-cloud-functions 1.13.0 requires google-api-core[grpc]!=2.0.*,!=2.1.*,!=2.10.*,!=2.2.*,!=2.3.*,!=2.4.*,!=2.5.*,!=2.6.*,!=2.7.*,!=2.8.*,!=2.9.*,<3.0.0dev,>=1.34.0, but you have google-api-core 2.8.2 which is incompatible.\n",
            "google-cloud-functions 1.13.0 requires protobuf!=3.20.0,!=3.20.1,!=4.21.0,!=4.21.1,!=4.21.2,!=4.21.3,!=4.21.4,!=4.21.5,<5.0.0dev,>=3.19.5, but you have protobuf 3.19.4 which is incompatible.\n",
            "google-cloud-language 2.9.1 requires google-api-core[grpc]!=2.0.*,!=2.1.*,!=2.10.*,!=2.2.*,!=2.3.*,!=2.4.*,!=2.5.*,!=2.6.*,!=2.7.*,!=2.8.*,!=2.9.*,<3.0.0dev,>=1.34.0, but you have google-api-core 2.8.2 which is incompatible.\n",
            "google-cloud-language 2.9.1 requires protobuf!=3.20.0,!=3.20.1,!=4.21.0,!=4.21.1,!=4.21.2,!=4.21.3,!=4.21.4,!=4.21.5,<5.0.0dev,>=3.19.5, but you have protobuf 3.19.4 which is incompatible.\n",
            "google-cloud-translate 3.11.1 requires google-api-core[grpc]!=2.0.*,!=2.1.*,!=2.10.*,!=2.2.*,!=2.3.*,!=2.4.*,!=2.5.*,!=2.6.*,!=2.7.*,!=2.8.*,!=2.9.*,<3.0.0dev,>=1.34.0, but you have google-api-core 2.8.2 which is incompatible.\n",
            "google-cloud-translate 3.11.1 requires protobuf!=3.20.0,!=3.20.1,!=4.21.0,!=4.21.1,!=4.21.2,!=4.21.3,!=4.21.4,!=4.21.5,<5.0.0dev,>=3.19.5, but you have protobuf 3.19.4 which is incompatible.\n",
            "grpc-google-iam-v1 0.12.6 requires protobuf!=3.20.0,!=3.20.1,!=4.21.1,!=4.21.2,!=4.21.3,!=4.21.4,!=4.21.5,<5.0.0dev,>=3.19.5, but you have protobuf 3.19.4 which is incompatible.\n",
            "tensorboard 2.12.3 requires protobuf>=3.19.6, but you have protobuf 3.19.4 which is incompatible.\n",
            "tensorflow 2.12.0 requires protobuf!=4.21.0,!=4.21.1,!=4.21.2,!=4.21.3,!=4.21.4,!=4.21.5,<5.0.0dev,>=3.20.3, but you have protobuf 3.19.4 which is incompatible.\n",
            "tensorflow-datasets 4.9.2 requires protobuf>=3.20, but you have protobuf 3.19.4 which is incompatible.\n",
            "tensorflow-hub 0.13.0 requires protobuf>=3.19.6, but you have protobuf 3.19.4 which is incompatible.\n",
            "tensorflow-metadata 1.13.1 requires protobuf<5,>=3.20.3, but you have protobuf 3.19.4 which is incompatible.\u001b[0m\u001b[31m\n",
            "\u001b[0mSuccessfully installed Mako-1.2.4 alembic-1.11.1 chassisml-1.4.13 cryptography-41.0.1 databricks-cli-0.17.7 docker-6.1.3 gitdb-4.0.10 gitpython-3.1.32 google-api-core-2.8.2 googleapis-common-protos-1.56.4 grpc-requests-0.1.7 grpcio-reflection-1.48.2 gunicorn-20.1.0 importlib-metadata-6.8.0 mlflow-2.4.2 protobuf-3.19.4 pyjwt-2.7.0 querystring-parser-1.2.4 smmap-5.0.0 validators-0.20.0\n"
          ]
        },
        {
          "output_type": "display_data",
          "data": {
            "application/vnd.colab-display-data+json": {
              "pip_warning": {
                "packages": [
                  "google"
                ]
              }
            }
          },
          "metadata": {}
        }
      ]
    },
    {
      "cell_type": "code",
      "source": [
        "import json\n",
        "import pickle\n",
        "import chassisml\n"
      ],
      "metadata": {
        "id": "Eg63gr5_wf1J"
      },
      "execution_count": null,
      "outputs": []
    },
    {
      "cell_type": "code",
      "source": [
        "env = {\n",
        "        \"name\": \"chassis\",\n",
        "    \"channels\": ['conda-forge'],\n",
        "    \"dependencies\": [\n",
        "        \"python=3.9\",\n",
        "        {\n",
        "            \"pip\": [\n",
        "                \"cv2\",\n",
        "                \"sklearn\",\n",
        "                \"numpy\",\n",
        "                \"chassisml\"\n",
        "            ]\n",
        "        }\n",
        "    ]\n",
        "\n",
        "}"
      ],
      "metadata": {
        "id": "orVK6Y2i09nq"
      },
      "execution_count": null,
      "outputs": []
    },
    {
      "cell_type": "code",
      "source": [
        "labels = [\"s1\", \"s2\", \"s3\", \"s4\"]"
      ],
      "metadata": {
        "id": "lR7MyYiYWdvk"
      },
      "execution_count": null,
      "outputs": []
    },
    {
      "cell_type": "code",
      "source": [
        "print(loaded_model)"
      ],
      "metadata": {
        "colab": {
          "base_uri": "https://localhost:8080/"
        },
        "id": "OUDN_uAVSjwK",
        "outputId": "cd8df654-618b-4908-90f4-4e52d173bb38"
      },
      "execution_count": null,
      "outputs": [
        {
          "output_type": "stream",
          "name": "stdout",
          "text": [
            "RandomForestClassifier(n_estimators=135)\n"
          ]
        }
      ]
    },
    {
      "cell_type": "code",
      "source": [
        "import cv2\n",
        "import numpy as np\n",
        "\n",
        "def process(input_bytes):\n",
        "  img = cv2.imdecode(np.frombuffer(input_bytes, np.uint8),-1)\n",
        "  img = cv2.cvtColor(img, cv2.COLOR_BGR2GRAY)\n",
        "  img = cv2.resize(img, (100, 100))  # Resize if needed\n",
        "  img = img.reshape(1, -1)\n",
        "  preds = loaded_model.predict_proba(img)\n",
        "  inference_result = {\n",
        "        \"classPredictions\": [\n",
        "            {\"row\": i+1, \"class\": labels[np.argmax(pred)], \"score\": np.max(pred)} for i, pred in enumerate(preds)\n",
        "        ]\n",
        "    }\n",
        "\n",
        "  structured_output = {\n",
        "        \"data\": {\n",
        "            \"result\": inference_result,\n",
        "            \"explanation\": None,\n",
        "            \"drift\": None,\n",
        "        }\n",
        "    }\n",
        "\n",
        "# Print the predicted class\n",
        "\n",
        "  return structured_output"
      ],
      "metadata": {
        "id": "r861QxXUwkET"
      },
      "execution_count": null,
      "outputs": []
    },
    {
      "cell_type": "code",
      "source": [
        "env1 = {\n",
        "    \"name\": \"chassis-conda-env\",\n",
        "    \"channels\": ['conda-forge'],\n",
        "    \"dependencies\": [\n",
        "        \"python=3.9\", # or whatever python version you are using\n",
        "        {\n",
        "            \"pip\": [\n",
        "                \"chassisml\",\n",
        "                \"opencv-python-headless\",\n",
        "                \"numpy\",\n",
        "                \"scikit-learn==1.2.2\"\n",
        "            ]\n",
        "        }\n",
        "    ]\n",
        "}"
      ],
      "metadata": {
        "id": "HQWsf81IVCPD"
      },
      "execution_count": null,
      "outputs": []
    },
    {
      "cell_type": "code",
      "source": [
        "chassis_client = chassisml.ChassisClient(\"https://chassis.app.modzy.com/\")\n",
        "\n",
        "# create Chassis model\n",
        "chassis_model = chassis_client.create_model(process_fn=process)\n",
        "sample_filepath = '/eggs.jpg'\n",
        "results = chassis_model.test(sample_filepath)\n",
        "print(results)\n"
      ],
      "metadata": {
        "id": "2uVVGPwyxBJX",
        "colab": {
          "base_uri": "https://localhost:8080/"
        },
        "outputId": "d4224aa8-be4f-4b17-aa00-b6bde03cd7de"
      },
      "execution_count": null,
      "outputs": [
        {
          "output_type": "stream",
          "name": "stdout",
          "text": [
            "b'{\"data\":{\"result\":{\"classPredictions\":[{\"row\":1,\"class\":\"s3\",\"score\":0.6370370370370371}]},\"explanation\":null,\"drift\":null}}'\n"
          ]
        }
      ]
    },
    {
      "cell_type": "code",
      "source": [
        "sample_filepath = '/9.jpeg'\n",
        "results = chassis_model.test(sample_filepath)\n",
        "print(results)"
      ],
      "metadata": {
        "colab": {
          "base_uri": "https://localhost:8080/"
        },
        "id": "nGpSTPiZ2vvE",
        "outputId": "0f654ecd-5045-4334-cc9a-640287e6d365"
      },
      "execution_count": null,
      "outputs": [
        {
          "output_type": "stream",
          "name": "stdout",
          "text": [
            "b'{\"data\":{\"result\":{\"classPredictions\":[{\"row\":1,\"class\":\"s1\",\"score\":0.37333333333333335}]},\"explanation\":null,\"drift\":null}}'\n"
          ]
        }
      ]
    },
    {
      "cell_type": "code",
      "source": [
        "docker_user = \"\"\n",
        "docker_pass = \"\"\n",
        "model_name = \"Grocery Item Classification10\"\n",
        "\n",
        "response = chassis_model.publish(\n",
        "    model_name=model_name,\n",
        "    model_version=\"0.0.1\",\n",
        "    registry_user=docker_user,\n",
        "    registry_pass=docker_pass,\n",
        "    conda_env=env1\n",
        ")"
      ],
      "metadata": {
        "colab": {
          "base_uri": "https://localhost:8080/"
        },
        "id": "FqDDh84e-pRj",
        "outputId": "5c6034e8-da0e-4b88-ed13-aaa46c4f0f5c"
      },
      "execution_count": null,
      "outputs": [
        {
          "output_type": "stream",
          "name": "stdout",
          "text": [
            "Starting build job... "
          ]
        },
        {
          "output_type": "stream",
          "name": "stderr",
          "text": [
            "/usr/local/lib/python3.10/dist-packages/_distutils_hack/__init__.py:33: UserWarning: Setuptools is replacing distutils.\n",
            "  warnings.warn(\"Setuptools is replacing distutils.\")\n"
          ]
        },
        {
          "output_type": "stream",
          "name": "stdout",
          "text": [
            "Ok!\n"
          ]
        }
      ]
    },
    {
      "cell_type": "code",
      "source": [
        "job_id = response.get('job_id')\n",
        "final_status = chassis_client.block_until_complete(job_id)\n",
        "if final_status['status']['succeeded'] == 1:\n",
        "    print(\"Job Completed. \")\n",
        "else:\n",
        "    print(\"Job Failed. See logs below:\\n\\n{}\".format(final_status['logs']))"
      ],
      "metadata": {
        "colab": {
          "base_uri": "https://localhost:8080/"
        },
        "id": "RGt9RXqSNOFI",
        "outputId": "11fa7e71-ec7c-4640-9e35-c148e474893c"
      },
      "execution_count": null,
      "outputs": [
        {
          "output_type": "stream",
          "name": "stdout",
          "text": [
            "Job Completed. \n"
          ]
        }
      ]
    },
    {
      "cell_type": "code",
      "source": [
        "!pip install modzy-sdk"
      ],
      "metadata": {
        "colab": {
          "base_uri": "https://localhost:8080/"
        },
        "id": "S8i8aCjsuY8e",
        "outputId": "c5c7157b-f710-4c9f-c2b0-b3257eff474d"
      },
      "execution_count": null,
      "outputs": [
        {
          "output_type": "stream",
          "name": "stdout",
          "text": [
            "Collecting modzy-sdk\n",
            "  Downloading modzy_sdk-0.11.3-py2.py3-none-any.whl (105 kB)\n",
            "\u001b[?25l     \u001b[90m━━━━━━━━━━━━━━━━━━━━━━━━━━━━━━━━━━━━━━━━\u001b[0m \u001b[32m0.0/105.5 kB\u001b[0m \u001b[31m?\u001b[0m eta \u001b[36m-:--:--\u001b[0m\r\u001b[2K     \u001b[90m━━━━━━━━━━━━━━━━━━━━━━━━━━━━━━━━━━━━━━━\u001b[0m \u001b[32m105.5/105.5 kB\u001b[0m \u001b[31m3.6 MB/s\u001b[0m eta \u001b[36m0:00:00\u001b[0m\n",
            "\u001b[?25hRequirement already satisfied: requests in /usr/local/lib/python3.10/dist-packages (from modzy-sdk) (2.27.1)\n",
            "Collecting python-dotenv (from modzy-sdk)\n",
            "  Downloading python_dotenv-1.0.0-py3-none-any.whl (19 kB)\n",
            "Collecting deprecation (from modzy-sdk)\n",
            "  Downloading deprecation-2.1.0-py2.py3-none-any.whl (11 kB)\n",
            "Collecting protobuf~=4.21.10 (from modzy-sdk)\n",
            "  Downloading protobuf-4.21.12-cp37-abi3-manylinux2014_x86_64.whl (409 kB)\n",
            "\u001b[2K     \u001b[90m━━━━━━━━━━━━━━━━━━━━━━━━━━━━━━━━━━━━━━\u001b[0m \u001b[32m409.8/409.8 kB\u001b[0m \u001b[31m17.2 MB/s\u001b[0m eta \u001b[36m0:00:00\u001b[0m\n",
            "\u001b[?25hRequirement already satisfied: grpcio in /usr/local/lib/python3.10/dist-packages (from modzy-sdk) (1.56.0)\n",
            "Requirement already satisfied: google-api-python-client in /usr/local/lib/python3.10/dist-packages (from modzy-sdk) (2.84.0)\n",
            "Collecting boto3 (from modzy-sdk)\n",
            "  Using cached boto3-1.27.1-py3-none-any.whl (135 kB)\n",
            "Collecting botocore<1.31.0,>=1.30.1 (from boto3->modzy-sdk)\n",
            "  Downloading botocore-1.30.1-py3-none-any.whl (11.0 MB)\n",
            "\u001b[2K     \u001b[90m━━━━━━━━━━━━━━━━━━━━━━━━━━━━━━━━━━━━━━━━\u001b[0m \u001b[32m11.0/11.0 MB\u001b[0m \u001b[31m31.4 MB/s\u001b[0m eta \u001b[36m0:00:00\u001b[0m\n",
            "\u001b[?25hCollecting jmespath<2.0.0,>=0.7.1 (from boto3->modzy-sdk)\n",
            "  Downloading jmespath-1.0.1-py3-none-any.whl (20 kB)\n",
            "Collecting s3transfer<0.7.0,>=0.6.0 (from boto3->modzy-sdk)\n",
            "  Downloading s3transfer-0.6.1-py3-none-any.whl (79 kB)\n",
            "\u001b[2K     \u001b[90m━━━━━━━━━━━━━━━━━━━━━━━━━━━━━━━━━━━━━━━━\u001b[0m \u001b[32m79.8/79.8 kB\u001b[0m \u001b[31m7.5 MB/s\u001b[0m eta \u001b[36m0:00:00\u001b[0m\n",
            "\u001b[?25hRequirement already satisfied: packaging in /usr/local/lib/python3.10/dist-packages (from deprecation->modzy-sdk) (23.1)\n",
            "Requirement already satisfied: httplib2<1dev,>=0.15.0 in /usr/local/lib/python3.10/dist-packages (from google-api-python-client->modzy-sdk) (0.21.0)\n",
            "Requirement already satisfied: google-auth<3.0.0dev,>=1.19.0 in /usr/local/lib/python3.10/dist-packages (from google-api-python-client->modzy-sdk) (2.17.3)\n",
            "Requirement already satisfied: google-auth-httplib2>=0.1.0 in /usr/local/lib/python3.10/dist-packages (from google-api-python-client->modzy-sdk) (0.1.0)\n",
            "Requirement already satisfied: google-api-core!=2.0.*,!=2.1.*,!=2.2.*,!=2.3.0,<3.0.0dev,>=1.31.5 in /usr/local/lib/python3.10/dist-packages (from google-api-python-client->modzy-sdk) (2.8.2)\n",
            "Requirement already satisfied: uritemplate<5,>=3.0.1 in /usr/local/lib/python3.10/dist-packages (from google-api-python-client->modzy-sdk) (4.1.1)\n",
            "Requirement already satisfied: urllib3<1.27,>=1.21.1 in /usr/local/lib/python3.10/dist-packages (from requests->modzy-sdk) (1.26.16)\n",
            "Requirement already satisfied: certifi>=2017.4.17 in /usr/local/lib/python3.10/dist-packages (from requests->modzy-sdk) (2023.5.7)\n",
            "Requirement already satisfied: charset-normalizer~=2.0.0 in /usr/local/lib/python3.10/dist-packages (from requests->modzy-sdk) (2.0.12)\n",
            "Requirement already satisfied: idna<4,>=2.5 in /usr/local/lib/python3.10/dist-packages (from requests->modzy-sdk) (3.4)\n",
            "Requirement already satisfied: python-dateutil<3.0.0,>=2.1 in /usr/local/lib/python3.10/dist-packages (from botocore<1.31.0,>=1.30.1->boto3->modzy-sdk) (2.8.2)\n",
            "Requirement already satisfied: googleapis-common-protos<2.0dev,>=1.56.2 in /usr/local/lib/python3.10/dist-packages (from google-api-core!=2.0.*,!=2.1.*,!=2.2.*,!=2.3.0,<3.0.0dev,>=1.31.5->google-api-python-client->modzy-sdk) (1.56.4)\n",
            "Requirement already satisfied: cachetools<6.0,>=2.0.0 in /usr/local/lib/python3.10/dist-packages (from google-auth<3.0.0dev,>=1.19.0->google-api-python-client->modzy-sdk) (5.3.1)\n",
            "Requirement already satisfied: pyasn1-modules>=0.2.1 in /usr/local/lib/python3.10/dist-packages (from google-auth<3.0.0dev,>=1.19.0->google-api-python-client->modzy-sdk) (0.3.0)\n",
            "Requirement already satisfied: six>=1.9.0 in /usr/local/lib/python3.10/dist-packages (from google-auth<3.0.0dev,>=1.19.0->google-api-python-client->modzy-sdk) (1.16.0)\n",
            "Requirement already satisfied: rsa<5,>=3.1.4 in /usr/local/lib/python3.10/dist-packages (from google-auth<3.0.0dev,>=1.19.0->google-api-python-client->modzy-sdk) (4.9)\n",
            "Requirement already satisfied: pyparsing!=3.0.0,!=3.0.1,!=3.0.2,!=3.0.3,<4,>=2.4.2 in /usr/local/lib/python3.10/dist-packages (from httplib2<1dev,>=0.15.0->google-api-python-client->modzy-sdk) (3.1.0)\n",
            "Requirement already satisfied: pyasn1<0.6.0,>=0.4.6 in /usr/local/lib/python3.10/dist-packages (from pyasn1-modules>=0.2.1->google-auth<3.0.0dev,>=1.19.0->google-api-python-client->modzy-sdk) (0.5.0)\n",
            "Installing collected packages: python-dotenv, protobuf, jmespath, deprecation, botocore, s3transfer, boto3, modzy-sdk\n",
            "  Attempting uninstall: protobuf\n",
            "    Found existing installation: protobuf 3.19.4\n",
            "    Uninstalling protobuf-3.19.4:\n",
            "      Successfully uninstalled protobuf-3.19.4\n",
            "\u001b[31mERROR: pip's dependency resolver does not currently take into account all the packages that are installed. This behaviour is the source of the following dependency conflicts.\n",
            "chassisml 1.4.13 requires protobuf==3.19.4, but you have protobuf 4.21.12 which is incompatible.\n",
            "google-cloud-bigquery-connection 1.12.0 requires google-api-core[grpc]!=2.0.*,!=2.1.*,!=2.10.*,!=2.2.*,!=2.3.*,!=2.4.*,!=2.5.*,!=2.6.*,!=2.7.*,!=2.8.*,!=2.9.*,<3.0.0dev,>=1.34.0, but you have google-api-core 2.8.2 which is incompatible.\n",
            "google-cloud-bigquery-storage 2.20.0 requires google-api-core[grpc]!=2.0.*,!=2.1.*,!=2.10.*,!=2.2.*,!=2.3.*,!=2.4.*,!=2.5.*,!=2.6.*,!=2.7.*,!=2.8.*,!=2.9.*,<3.0.0dev,>=1.34.0, but you have google-api-core 2.8.2 which is incompatible.\n",
            "google-cloud-datastore 2.15.2 requires google-api-core[grpc]!=2.0.*,!=2.1.*,!=2.10.*,!=2.2.*,!=2.3.*,!=2.4.*,!=2.5.*,!=2.6.*,!=2.7.*,!=2.8.*,!=2.9.*,<3.0.0dev,>=1.34.0, but you have google-api-core 2.8.2 which is incompatible.\n",
            "google-cloud-firestore 2.11.1 requires google-api-core[grpc]!=2.0.*,!=2.1.*,!=2.10.*,!=2.2.*,!=2.3.*,!=2.4.*,!=2.5.*,!=2.6.*,!=2.7.*,!=2.8.*,!=2.9.*,<3.0.0dev,>=1.34.0, but you have google-api-core 2.8.2 which is incompatible.\n",
            "google-cloud-functions 1.13.0 requires google-api-core[grpc]!=2.0.*,!=2.1.*,!=2.10.*,!=2.2.*,!=2.3.*,!=2.4.*,!=2.5.*,!=2.6.*,!=2.7.*,!=2.8.*,!=2.9.*,<3.0.0dev,>=1.34.0, but you have google-api-core 2.8.2 which is incompatible.\n",
            "google-cloud-language 2.9.1 requires google-api-core[grpc]!=2.0.*,!=2.1.*,!=2.10.*,!=2.2.*,!=2.3.*,!=2.4.*,!=2.5.*,!=2.6.*,!=2.7.*,!=2.8.*,!=2.9.*,<3.0.0dev,>=1.34.0, but you have google-api-core 2.8.2 which is incompatible.\n",
            "google-cloud-translate 3.11.1 requires google-api-core[grpc]!=2.0.*,!=2.1.*,!=2.10.*,!=2.2.*,!=2.3.*,!=2.4.*,!=2.5.*,!=2.6.*,!=2.7.*,!=2.8.*,!=2.9.*,<3.0.0dev,>=1.34.0, but you have google-api-core 2.8.2 which is incompatible.\u001b[0m\u001b[31m\n",
            "\u001b[0mSuccessfully installed boto3-1.27.1 botocore-1.30.1 deprecation-2.1.0 jmespath-1.0.1 modzy-sdk-0.11.3 protobuf-4.21.12 python-dotenv-1.0.0 s3transfer-0.6.1\n"
          ]
        }
      ]
    },
    {
      "cell_type": "code",
      "source": [
        "from modzy import ApiClient, error\n",
        "BASE_URL=\"https://tenant18.bot.5goil.tmobile.com/\"\n",
        "API_KEY=\"wZr4nkIAtLFPNUPySOdC.DYqB3325zWPXIDxdrZIH\"\n",
        "client=ApiClient(base_url=BASE_URL, api_key=API_KEY)"
      ],
      "metadata": {
        "colab": {
          "base_uri": "https://localhost:8080/",
          "height": 1000
        },
        "id": "21-eSvLVuBUp",
        "outputId": "59ec4ee2-c4be-4d41-fcd3-44421fe2c6e0"
      },
      "execution_count": null,
      "outputs": [
        {
          "output_type": "stream",
          "name": "stderr",
          "text": [
            "ERROR:modzy.http:unable to make network request\n",
            "Traceback (most recent call last):\n",
            "  File \"/usr/local/lib/python3.10/dist-packages/urllib3/connection.py\", line 174, in _new_conn\n",
            "    conn = connection.create_connection(\n",
            "  File \"/usr/local/lib/python3.10/dist-packages/urllib3/util/connection.py\", line 72, in create_connection\n",
            "    for res in socket.getaddrinfo(host, port, family, socket.SOCK_STREAM):\n",
            "  File \"/usr/lib/python3.10/socket.py\", line 955, in getaddrinfo\n",
            "    for res in _socket.getaddrinfo(host, port, family, type, proto, flags):\n",
            "socket.gaierror: [Errno -2] Name or service not known\n",
            "\n",
            "During handling of the above exception, another exception occurred:\n",
            "\n",
            "Traceback (most recent call last):\n",
            "  File \"/usr/local/lib/python3.10/dist-packages/urllib3/connectionpool.py\", line 714, in urlopen\n",
            "    httplib_response = self._make_request(\n",
            "  File \"/usr/local/lib/python3.10/dist-packages/urllib3/connectionpool.py\", line 403, in _make_request\n",
            "    self._validate_conn(conn)\n",
            "  File \"/usr/local/lib/python3.10/dist-packages/urllib3/connectionpool.py\", line 1053, in _validate_conn\n",
            "    conn.connect()\n",
            "  File \"/usr/local/lib/python3.10/dist-packages/urllib3/connection.py\", line 363, in connect\n",
            "    self.sock = conn = self._new_conn()\n",
            "  File \"/usr/local/lib/python3.10/dist-packages/urllib3/connection.py\", line 186, in _new_conn\n",
            "    raise NewConnectionError(\n",
            "urllib3.exceptions.NewConnectionError: <urllib3.connection.HTTPSConnection object at 0x7fb1765f1690>: Failed to establish a new connection: [Errno -2] Name or service not known\n",
            "\n",
            "During handling of the above exception, another exception occurred:\n",
            "\n",
            "Traceback (most recent call last):\n",
            "  File \"/usr/local/lib/python3.10/dist-packages/requests/adapters.py\", line 440, in send\n",
            "    resp = conn.urlopen(\n",
            "  File \"/usr/local/lib/python3.10/dist-packages/urllib3/connectionpool.py\", line 798, in urlopen\n",
            "    retries = retries.increment(\n",
            "  File \"/usr/local/lib/python3.10/dist-packages/urllib3/util/retry.py\", line 592, in increment\n",
            "    raise MaxRetryError(_pool, url, error or ResponseError(cause))\n",
            "urllib3.exceptions.MaxRetryError: HTTPSConnectionPool(host='tenant18.bot.5goil.tmobile.com', port=443): Max retries exceeded with url: /models (Caused by NewConnectionError('<urllib3.connection.HTTPSConnection object at 0x7fb1765f1690>: Failed to establish a new connection: [Errno -2] Name or service not known'))\n",
            "\n",
            "During handling of the above exception, another exception occurred:\n",
            "\n",
            "Traceback (most recent call last):\n",
            "  File \"/usr/local/lib/python3.10/dist-packages/modzy/http.py\", line 85, in request\n",
            "    response = self.session.request(method, url, data=data, headers=headers, files=file_data, verify=self._api_client.cert, params=params)\n",
            "  File \"/usr/local/lib/python3.10/dist-packages/requests/sessions.py\", line 529, in request\n",
            "    resp = self.send(prep, **send_kwargs)\n",
            "  File \"/usr/local/lib/python3.10/dist-packages/requests/sessions.py\", line 645, in send\n",
            "    r = adapter.send(request, **kwargs)\n",
            "  File \"/usr/local/lib/python3.10/dist-packages/requests/adapters.py\", line 519, in send\n",
            "    raise ConnectionError(e, request=request)\n",
            "requests.exceptions.ConnectionError: HTTPSConnectionPool(host='tenant18.bot.5goil.tmobile.com', port=443): Max retries exceeded with url: /models (Caused by NewConnectionError('<urllib3.connection.HTTPSConnection object at 0x7fb1765f1690>: Failed to establish a new connection: [Errno -2] Name or service not known'))\n",
            "ERROR:modzy.http:unable to make network request\n",
            "Traceback (most recent call last):\n",
            "  File \"/usr/local/lib/python3.10/dist-packages/urllib3/connection.py\", line 174, in _new_conn\n",
            "    conn = connection.create_connection(\n",
            "  File \"/usr/local/lib/python3.10/dist-packages/urllib3/util/connection.py\", line 72, in create_connection\n",
            "    for res in socket.getaddrinfo(host, port, family, socket.SOCK_STREAM):\n",
            "  File \"/usr/lib/python3.10/socket.py\", line 955, in getaddrinfo\n",
            "    for res in _socket.getaddrinfo(host, port, family, type, proto, flags):\n",
            "socket.gaierror: [Errno -2] Name or service not known\n",
            "\n",
            "During handling of the above exception, another exception occurred:\n",
            "\n",
            "Traceback (most recent call last):\n",
            "  File \"/usr/local/lib/python3.10/dist-packages/urllib3/connectionpool.py\", line 714, in urlopen\n",
            "    httplib_response = self._make_request(\n",
            "  File \"/usr/local/lib/python3.10/dist-packages/urllib3/connectionpool.py\", line 403, in _make_request\n",
            "    self._validate_conn(conn)\n",
            "  File \"/usr/local/lib/python3.10/dist-packages/urllib3/connectionpool.py\", line 1053, in _validate_conn\n",
            "    conn.connect()\n",
            "  File \"/usr/local/lib/python3.10/dist-packages/urllib3/connection.py\", line 363, in connect\n",
            "    self.sock = conn = self._new_conn()\n",
            "  File \"/usr/local/lib/python3.10/dist-packages/urllib3/connection.py\", line 186, in _new_conn\n",
            "    raise NewConnectionError(\n",
            "urllib3.exceptions.NewConnectionError: <urllib3.connection.HTTPSConnection object at 0x7fb1765f1690>: Failed to establish a new connection: [Errno -2] Name or service not known\n",
            "\n",
            "During handling of the above exception, another exception occurred:\n",
            "\n",
            "Traceback (most recent call last):\n",
            "  File \"/usr/local/lib/python3.10/dist-packages/requests/adapters.py\", line 440, in send\n",
            "    resp = conn.urlopen(\n",
            "  File \"/usr/local/lib/python3.10/dist-packages/urllib3/connectionpool.py\", line 798, in urlopen\n",
            "    retries = retries.increment(\n",
            "  File \"/usr/local/lib/python3.10/dist-packages/urllib3/util/retry.py\", line 592, in increment\n",
            "    raise MaxRetryError(_pool, url, error or ResponseError(cause))\n",
            "urllib3.exceptions.MaxRetryError: HTTPSConnectionPool(host='tenant18.bot.5goil.tmobile.com', port=443): Max retries exceeded with url: /models (Caused by NewConnectionError('<urllib3.connection.HTTPSConnection object at 0x7fb1765f1690>: Failed to establish a new connection: [Errno -2] Name or service not known'))\n",
            "\n",
            "During handling of the above exception, another exception occurred:\n",
            "\n",
            "Traceback (most recent call last):\n",
            "  File \"/usr/local/lib/python3.10/dist-packages/modzy/http.py\", line 85, in request\n",
            "    response = self.session.request(method, url, data=data, headers=headers, files=file_data, verify=self._api_client.cert, params=params)\n",
            "  File \"/usr/local/lib/python3.10/dist-packages/requests/sessions.py\", line 529, in request\n",
            "    resp = self.send(prep, **send_kwargs)\n",
            "  File \"/usr/local/lib/python3.10/dist-packages/requests/sessions.py\", line 645, in send\n",
            "    r = adapter.send(request, **kwargs)\n",
            "  File \"/usr/local/lib/python3.10/dist-packages/requests/adapters.py\", line 519, in send\n",
            "    raise ConnectionError(e, request=request)\n",
            "requests.exceptions.ConnectionError: HTTPSConnectionPool(host='tenant18.bot.5goil.tmobile.com', port=443): Max retries exceeded with url: /models (Caused by NewConnectionError('<urllib3.connection.HTTPSConnection object at 0x7fb1765f1690>: Failed to establish a new connection: [Errno -2] Name or service not known'))\n",
            "\n",
            "During handling of the above exception, another exception occurred:\n",
            "\n",
            "Traceback (most recent call last):\n",
            "  File \"/usr/local/lib/python3.10/dist-packages/modzy/client.py\", line 63, in check_client\n",
            "    self.http.get('/models')\n",
            "  File \"/usr/local/lib/python3.10/dist-packages/modzy/http.py\", line 127, in get\n",
            "    return self.request('GET', url)\n",
            "  File \"/usr/local/lib/python3.10/dist-packages/modzy/http.py\", line 89, in request\n",
            "    raise NetworkError(str(ex), url, reason=ex)\n",
            "modzy.error.NetworkError: HTTPSConnectionPool(host='tenant18.bot.5goil.tmobile.com', port=443): Max retries exceeded with url: /models (Caused by NewConnectionError('<urllib3.connection.HTTPSConnection object at 0x7fb1765f1690>: Failed to establish a new connection: [Errno -2] Name or service not known'))\n",
            "\n",
            "During handling of the above exception, another exception occurred:\n",
            "\n",
            "Traceback (most recent call last):\n",
            "  File \"/usr/local/lib/python3.10/dist-packages/urllib3/connection.py\", line 174, in _new_conn\n",
            "    conn = connection.create_connection(\n",
            "  File \"/usr/local/lib/python3.10/dist-packages/urllib3/util/connection.py\", line 72, in create_connection\n",
            "    for res in socket.getaddrinfo(host, port, family, socket.SOCK_STREAM):\n",
            "  File \"/usr/lib/python3.10/socket.py\", line 955, in getaddrinfo\n",
            "    for res in _socket.getaddrinfo(host, port, family, type, proto, flags):\n",
            "socket.gaierror: [Errno -2] Name or service not known\n",
            "\n",
            "During handling of the above exception, another exception occurred:\n",
            "\n",
            "Traceback (most recent call last):\n",
            "  File \"/usr/local/lib/python3.10/dist-packages/urllib3/connectionpool.py\", line 714, in urlopen\n",
            "    httplib_response = self._make_request(\n",
            "  File \"/usr/local/lib/python3.10/dist-packages/urllib3/connectionpool.py\", line 403, in _make_request\n",
            "    self._validate_conn(conn)\n",
            "  File \"/usr/local/lib/python3.10/dist-packages/urllib3/connectionpool.py\", line 1053, in _validate_conn\n",
            "    conn.connect()\n",
            "  File \"/usr/local/lib/python3.10/dist-packages/urllib3/connection.py\", line 363, in connect\n",
            "    self.sock = conn = self._new_conn()\n",
            "  File \"/usr/local/lib/python3.10/dist-packages/urllib3/connection.py\", line 186, in _new_conn\n",
            "    raise NewConnectionError(\n",
            "urllib3.exceptions.NewConnectionError: <urllib3.connection.HTTPSConnection object at 0x7fb1765f1a80>: Failed to establish a new connection: [Errno -2] Name or service not known\n",
            "\n",
            "During handling of the above exception, another exception occurred:\n",
            "\n",
            "Traceback (most recent call last):\n",
            "  File \"/usr/local/lib/python3.10/dist-packages/requests/adapters.py\", line 440, in send\n",
            "    resp = conn.urlopen(\n",
            "  File \"/usr/local/lib/python3.10/dist-packages/urllib3/connectionpool.py\", line 798, in urlopen\n",
            "    retries = retries.increment(\n",
            "  File \"/usr/local/lib/python3.10/dist-packages/urllib3/util/retry.py\", line 592, in increment\n",
            "    raise MaxRetryError(_pool, url, error or ResponseError(cause))\n",
            "urllib3.exceptions.MaxRetryError: HTTPSConnectionPool(host='tenant18.bot.5goil.tmobile.com', port=443): Max retries exceeded with url: /api/models (Caused by NewConnectionError('<urllib3.connection.HTTPSConnection object at 0x7fb1765f1a80>: Failed to establish a new connection: [Errno -2] Name or service not known'))\n",
            "\n",
            "During handling of the above exception, another exception occurred:\n",
            "\n",
            "Traceback (most recent call last):\n",
            "  File \"/usr/local/lib/python3.10/dist-packages/modzy/http.py\", line 85, in request\n",
            "    response = self.session.request(method, url, data=data, headers=headers, files=file_data, verify=self._api_client.cert, params=params)\n",
            "  File \"/usr/local/lib/python3.10/dist-packages/requests/sessions.py\", line 529, in request\n",
            "    resp = self.send(prep, **send_kwargs)\n",
            "  File \"/usr/local/lib/python3.10/dist-packages/requests/sessions.py\", line 645, in send\n",
            "    r = adapter.send(request, **kwargs)\n",
            "  File \"/usr/local/lib/python3.10/dist-packages/requests/adapters.py\", line 519, in send\n",
            "    raise ConnectionError(e, request=request)\n",
            "requests.exceptions.ConnectionError: HTTPSConnectionPool(host='tenant18.bot.5goil.tmobile.com', port=443): Max retries exceeded with url: /api/models (Caused by NewConnectionError('<urllib3.connection.HTTPSConnection object at 0x7fb1765f1a80>: Failed to establish a new connection: [Errno -2] Name or service not known'))\n"
          ]
        },
        {
          "output_type": "error",
          "ename": "ValueError",
          "evalue": "ignored",
          "traceback": [
            "\u001b[0;31m---------------------------------------------------------------------------\u001b[0m",
            "\u001b[0;31mgaierror\u001b[0m                                  Traceback (most recent call last)",
            "\u001b[0;32m/usr/local/lib/python3.10/dist-packages/urllib3/connection.py\u001b[0m in \u001b[0;36m_new_conn\u001b[0;34m(self)\u001b[0m\n\u001b[1;32m    173\u001b[0m         \u001b[0;32mtry\u001b[0m\u001b[0;34m:\u001b[0m\u001b[0;34m\u001b[0m\u001b[0;34m\u001b[0m\u001b[0m\n\u001b[0;32m--> 174\u001b[0;31m             conn = connection.create_connection(\n\u001b[0m\u001b[1;32m    175\u001b[0m                 \u001b[0;34m(\u001b[0m\u001b[0mself\u001b[0m\u001b[0;34m.\u001b[0m\u001b[0m_dns_host\u001b[0m\u001b[0;34m,\u001b[0m \u001b[0mself\u001b[0m\u001b[0;34m.\u001b[0m\u001b[0mport\u001b[0m\u001b[0;34m)\u001b[0m\u001b[0;34m,\u001b[0m \u001b[0mself\u001b[0m\u001b[0;34m.\u001b[0m\u001b[0mtimeout\u001b[0m\u001b[0;34m,\u001b[0m \u001b[0;34m**\u001b[0m\u001b[0mextra_kw\u001b[0m\u001b[0;34m\u001b[0m\u001b[0;34m\u001b[0m\u001b[0m\n",
            "\u001b[0;32m/usr/local/lib/python3.10/dist-packages/urllib3/util/connection.py\u001b[0m in \u001b[0;36mcreate_connection\u001b[0;34m(address, timeout, source_address, socket_options)\u001b[0m\n\u001b[1;32m     71\u001b[0m \u001b[0;34m\u001b[0m\u001b[0m\n\u001b[0;32m---> 72\u001b[0;31m     \u001b[0;32mfor\u001b[0m \u001b[0mres\u001b[0m \u001b[0;32min\u001b[0m \u001b[0msocket\u001b[0m\u001b[0;34m.\u001b[0m\u001b[0mgetaddrinfo\u001b[0m\u001b[0;34m(\u001b[0m\u001b[0mhost\u001b[0m\u001b[0;34m,\u001b[0m \u001b[0mport\u001b[0m\u001b[0;34m,\u001b[0m \u001b[0mfamily\u001b[0m\u001b[0;34m,\u001b[0m \u001b[0msocket\u001b[0m\u001b[0;34m.\u001b[0m\u001b[0mSOCK_STREAM\u001b[0m\u001b[0;34m)\u001b[0m\u001b[0;34m:\u001b[0m\u001b[0;34m\u001b[0m\u001b[0;34m\u001b[0m\u001b[0m\n\u001b[0m\u001b[1;32m     73\u001b[0m         \u001b[0maf\u001b[0m\u001b[0;34m,\u001b[0m \u001b[0msocktype\u001b[0m\u001b[0;34m,\u001b[0m \u001b[0mproto\u001b[0m\u001b[0;34m,\u001b[0m \u001b[0mcanonname\u001b[0m\u001b[0;34m,\u001b[0m \u001b[0msa\u001b[0m \u001b[0;34m=\u001b[0m \u001b[0mres\u001b[0m\u001b[0;34m\u001b[0m\u001b[0;34m\u001b[0m\u001b[0m\n",
            "\u001b[0;32m/usr/lib/python3.10/socket.py\u001b[0m in \u001b[0;36mgetaddrinfo\u001b[0;34m(host, port, family, type, proto, flags)\u001b[0m\n\u001b[1;32m    954\u001b[0m     \u001b[0maddrlist\u001b[0m \u001b[0;34m=\u001b[0m \u001b[0;34m[\u001b[0m\u001b[0;34m]\u001b[0m\u001b[0;34m\u001b[0m\u001b[0;34m\u001b[0m\u001b[0m\n\u001b[0;32m--> 955\u001b[0;31m     \u001b[0;32mfor\u001b[0m \u001b[0mres\u001b[0m \u001b[0;32min\u001b[0m \u001b[0m_socket\u001b[0m\u001b[0;34m.\u001b[0m\u001b[0mgetaddrinfo\u001b[0m\u001b[0;34m(\u001b[0m\u001b[0mhost\u001b[0m\u001b[0;34m,\u001b[0m \u001b[0mport\u001b[0m\u001b[0;34m,\u001b[0m \u001b[0mfamily\u001b[0m\u001b[0;34m,\u001b[0m \u001b[0mtype\u001b[0m\u001b[0;34m,\u001b[0m \u001b[0mproto\u001b[0m\u001b[0;34m,\u001b[0m \u001b[0mflags\u001b[0m\u001b[0;34m)\u001b[0m\u001b[0;34m:\u001b[0m\u001b[0;34m\u001b[0m\u001b[0;34m\u001b[0m\u001b[0m\n\u001b[0m\u001b[1;32m    956\u001b[0m         \u001b[0maf\u001b[0m\u001b[0;34m,\u001b[0m \u001b[0msocktype\u001b[0m\u001b[0;34m,\u001b[0m \u001b[0mproto\u001b[0m\u001b[0;34m,\u001b[0m \u001b[0mcanonname\u001b[0m\u001b[0;34m,\u001b[0m \u001b[0msa\u001b[0m \u001b[0;34m=\u001b[0m \u001b[0mres\u001b[0m\u001b[0;34m\u001b[0m\u001b[0;34m\u001b[0m\u001b[0m\n",
            "\u001b[0;31mgaierror\u001b[0m: [Errno -2] Name or service not known",
            "\nDuring handling of the above exception, another exception occurred:\n",
            "\u001b[0;31mNewConnectionError\u001b[0m                        Traceback (most recent call last)",
            "\u001b[0;32m/usr/local/lib/python3.10/dist-packages/urllib3/connectionpool.py\u001b[0m in \u001b[0;36murlopen\u001b[0;34m(self, method, url, body, headers, retries, redirect, assert_same_host, timeout, pool_timeout, release_conn, chunked, body_pos, **response_kw)\u001b[0m\n\u001b[1;32m    713\u001b[0m             \u001b[0;31m# Make the request on the httplib connection object.\u001b[0m\u001b[0;34m\u001b[0m\u001b[0;34m\u001b[0m\u001b[0m\n\u001b[0;32m--> 714\u001b[0;31m             httplib_response = self._make_request(\n\u001b[0m\u001b[1;32m    715\u001b[0m                 \u001b[0mconn\u001b[0m\u001b[0;34m,\u001b[0m\u001b[0;34m\u001b[0m\u001b[0;34m\u001b[0m\u001b[0m\n",
            "\u001b[0;32m/usr/local/lib/python3.10/dist-packages/urllib3/connectionpool.py\u001b[0m in \u001b[0;36m_make_request\u001b[0;34m(self, conn, method, url, timeout, chunked, **httplib_request_kw)\u001b[0m\n\u001b[1;32m    402\u001b[0m         \u001b[0;32mtry\u001b[0m\u001b[0;34m:\u001b[0m\u001b[0;34m\u001b[0m\u001b[0;34m\u001b[0m\u001b[0m\n\u001b[0;32m--> 403\u001b[0;31m             \u001b[0mself\u001b[0m\u001b[0;34m.\u001b[0m\u001b[0m_validate_conn\u001b[0m\u001b[0;34m(\u001b[0m\u001b[0mconn\u001b[0m\u001b[0;34m)\u001b[0m\u001b[0;34m\u001b[0m\u001b[0;34m\u001b[0m\u001b[0m\n\u001b[0m\u001b[1;32m    404\u001b[0m         \u001b[0;32mexcept\u001b[0m \u001b[0;34m(\u001b[0m\u001b[0mSocketTimeout\u001b[0m\u001b[0;34m,\u001b[0m \u001b[0mBaseSSLError\u001b[0m\u001b[0;34m)\u001b[0m \u001b[0;32mas\u001b[0m \u001b[0me\u001b[0m\u001b[0;34m:\u001b[0m\u001b[0;34m\u001b[0m\u001b[0;34m\u001b[0m\u001b[0m\n",
            "\u001b[0;32m/usr/local/lib/python3.10/dist-packages/urllib3/connectionpool.py\u001b[0m in \u001b[0;36m_validate_conn\u001b[0;34m(self, conn)\u001b[0m\n\u001b[1;32m   1052\u001b[0m         \u001b[0;32mif\u001b[0m \u001b[0;32mnot\u001b[0m \u001b[0mgetattr\u001b[0m\u001b[0;34m(\u001b[0m\u001b[0mconn\u001b[0m\u001b[0;34m,\u001b[0m \u001b[0;34m\"sock\"\u001b[0m\u001b[0;34m,\u001b[0m \u001b[0;32mNone\u001b[0m\u001b[0;34m)\u001b[0m\u001b[0;34m:\u001b[0m  \u001b[0;31m# AppEngine might not have  `.sock`\u001b[0m\u001b[0;34m\u001b[0m\u001b[0;34m\u001b[0m\u001b[0m\n\u001b[0;32m-> 1053\u001b[0;31m             \u001b[0mconn\u001b[0m\u001b[0;34m.\u001b[0m\u001b[0mconnect\u001b[0m\u001b[0;34m(\u001b[0m\u001b[0;34m)\u001b[0m\u001b[0;34m\u001b[0m\u001b[0;34m\u001b[0m\u001b[0m\n\u001b[0m\u001b[1;32m   1054\u001b[0m \u001b[0;34m\u001b[0m\u001b[0m\n",
            "\u001b[0;32m/usr/local/lib/python3.10/dist-packages/urllib3/connection.py\u001b[0m in \u001b[0;36mconnect\u001b[0;34m(self)\u001b[0m\n\u001b[1;32m    362\u001b[0m         \u001b[0;31m# Add certificate verification\u001b[0m\u001b[0;34m\u001b[0m\u001b[0;34m\u001b[0m\u001b[0m\n\u001b[0;32m--> 363\u001b[0;31m         \u001b[0mself\u001b[0m\u001b[0;34m.\u001b[0m\u001b[0msock\u001b[0m \u001b[0;34m=\u001b[0m \u001b[0mconn\u001b[0m \u001b[0;34m=\u001b[0m \u001b[0mself\u001b[0m\u001b[0;34m.\u001b[0m\u001b[0m_new_conn\u001b[0m\u001b[0;34m(\u001b[0m\u001b[0;34m)\u001b[0m\u001b[0;34m\u001b[0m\u001b[0;34m\u001b[0m\u001b[0m\n\u001b[0m\u001b[1;32m    364\u001b[0m         \u001b[0mhostname\u001b[0m \u001b[0;34m=\u001b[0m \u001b[0mself\u001b[0m\u001b[0;34m.\u001b[0m\u001b[0mhost\u001b[0m\u001b[0;34m\u001b[0m\u001b[0;34m\u001b[0m\u001b[0m\n",
            "\u001b[0;32m/usr/local/lib/python3.10/dist-packages/urllib3/connection.py\u001b[0m in \u001b[0;36m_new_conn\u001b[0;34m(self)\u001b[0m\n\u001b[1;32m    185\u001b[0m         \u001b[0;32mexcept\u001b[0m \u001b[0mSocketError\u001b[0m \u001b[0;32mas\u001b[0m \u001b[0me\u001b[0m\u001b[0;34m:\u001b[0m\u001b[0;34m\u001b[0m\u001b[0;34m\u001b[0m\u001b[0m\n\u001b[0;32m--> 186\u001b[0;31m             raise NewConnectionError(\n\u001b[0m\u001b[1;32m    187\u001b[0m                 \u001b[0mself\u001b[0m\u001b[0;34m,\u001b[0m \u001b[0;34m\"Failed to establish a new connection: %s\"\u001b[0m \u001b[0;34m%\u001b[0m \u001b[0me\u001b[0m\u001b[0;34m\u001b[0m\u001b[0;34m\u001b[0m\u001b[0m\n",
            "\u001b[0;31mNewConnectionError\u001b[0m: <urllib3.connection.HTTPSConnection object at 0x7fb1765f1690>: Failed to establish a new connection: [Errno -2] Name or service not known",
            "\nDuring handling of the above exception, another exception occurred:\n",
            "\u001b[0;31mMaxRetryError\u001b[0m                             Traceback (most recent call last)",
            "\u001b[0;32m/usr/local/lib/python3.10/dist-packages/requests/adapters.py\u001b[0m in \u001b[0;36msend\u001b[0;34m(self, request, stream, timeout, verify, cert, proxies)\u001b[0m\n\u001b[1;32m    439\u001b[0m             \u001b[0;32mif\u001b[0m \u001b[0;32mnot\u001b[0m \u001b[0mchunked\u001b[0m\u001b[0;34m:\u001b[0m\u001b[0;34m\u001b[0m\u001b[0;34m\u001b[0m\u001b[0m\n\u001b[0;32m--> 440\u001b[0;31m                 resp = conn.urlopen(\n\u001b[0m\u001b[1;32m    441\u001b[0m                     \u001b[0mmethod\u001b[0m\u001b[0;34m=\u001b[0m\u001b[0mrequest\u001b[0m\u001b[0;34m.\u001b[0m\u001b[0mmethod\u001b[0m\u001b[0;34m,\u001b[0m\u001b[0;34m\u001b[0m\u001b[0;34m\u001b[0m\u001b[0m\n",
            "\u001b[0;32m/usr/local/lib/python3.10/dist-packages/urllib3/connectionpool.py\u001b[0m in \u001b[0;36murlopen\u001b[0;34m(self, method, url, body, headers, retries, redirect, assert_same_host, timeout, pool_timeout, release_conn, chunked, body_pos, **response_kw)\u001b[0m\n\u001b[1;32m    797\u001b[0m \u001b[0;34m\u001b[0m\u001b[0m\n\u001b[0;32m--> 798\u001b[0;31m             retries = retries.increment(\n\u001b[0m\u001b[1;32m    799\u001b[0m                 \u001b[0mmethod\u001b[0m\u001b[0;34m,\u001b[0m \u001b[0murl\u001b[0m\u001b[0;34m,\u001b[0m \u001b[0merror\u001b[0m\u001b[0;34m=\u001b[0m\u001b[0me\u001b[0m\u001b[0;34m,\u001b[0m \u001b[0m_pool\u001b[0m\u001b[0;34m=\u001b[0m\u001b[0mself\u001b[0m\u001b[0;34m,\u001b[0m \u001b[0m_stacktrace\u001b[0m\u001b[0;34m=\u001b[0m\u001b[0msys\u001b[0m\u001b[0;34m.\u001b[0m\u001b[0mexc_info\u001b[0m\u001b[0;34m(\u001b[0m\u001b[0;34m)\u001b[0m\u001b[0;34m[\u001b[0m\u001b[0;36m2\u001b[0m\u001b[0;34m]\u001b[0m\u001b[0;34m\u001b[0m\u001b[0;34m\u001b[0m\u001b[0m\n",
            "\u001b[0;32m/usr/local/lib/python3.10/dist-packages/urllib3/util/retry.py\u001b[0m in \u001b[0;36mincrement\u001b[0;34m(self, method, url, response, error, _pool, _stacktrace)\u001b[0m\n\u001b[1;32m    591\u001b[0m         \u001b[0;32mif\u001b[0m \u001b[0mnew_retry\u001b[0m\u001b[0;34m.\u001b[0m\u001b[0mis_exhausted\u001b[0m\u001b[0;34m(\u001b[0m\u001b[0;34m)\u001b[0m\u001b[0;34m:\u001b[0m\u001b[0;34m\u001b[0m\u001b[0;34m\u001b[0m\u001b[0m\n\u001b[0;32m--> 592\u001b[0;31m             \u001b[0;32mraise\u001b[0m \u001b[0mMaxRetryError\u001b[0m\u001b[0;34m(\u001b[0m\u001b[0m_pool\u001b[0m\u001b[0;34m,\u001b[0m \u001b[0murl\u001b[0m\u001b[0;34m,\u001b[0m \u001b[0merror\u001b[0m \u001b[0;32mor\u001b[0m \u001b[0mResponseError\u001b[0m\u001b[0;34m(\u001b[0m\u001b[0mcause\u001b[0m\u001b[0;34m)\u001b[0m\u001b[0;34m)\u001b[0m\u001b[0;34m\u001b[0m\u001b[0;34m\u001b[0m\u001b[0m\n\u001b[0m\u001b[1;32m    593\u001b[0m \u001b[0;34m\u001b[0m\u001b[0m\n",
            "\u001b[0;31mMaxRetryError\u001b[0m: HTTPSConnectionPool(host='tenant18.bot.5goil.tmobile.com', port=443): Max retries exceeded with url: /models (Caused by NewConnectionError('<urllib3.connection.HTTPSConnection object at 0x7fb1765f1690>: Failed to establish a new connection: [Errno -2] Name or service not known'))",
            "\nDuring handling of the above exception, another exception occurred:\n",
            "\u001b[0;31mConnectionError\u001b[0m                           Traceback (most recent call last)",
            "\u001b[0;32m/usr/local/lib/python3.10/dist-packages/modzy/http.py\u001b[0m in \u001b[0;36mrequest\u001b[0;34m(self, method, url, json_data, file_data, params)\u001b[0m\n\u001b[1;32m     84\u001b[0m         \u001b[0;32mtry\u001b[0m\u001b[0;34m:\u001b[0m\u001b[0;34m\u001b[0m\u001b[0;34m\u001b[0m\u001b[0m\n\u001b[0;32m---> 85\u001b[0;31m             \u001b[0mresponse\u001b[0m \u001b[0;34m=\u001b[0m \u001b[0mself\u001b[0m\u001b[0;34m.\u001b[0m\u001b[0msession\u001b[0m\u001b[0;34m.\u001b[0m\u001b[0mrequest\u001b[0m\u001b[0;34m(\u001b[0m\u001b[0mmethod\u001b[0m\u001b[0;34m,\u001b[0m \u001b[0murl\u001b[0m\u001b[0;34m,\u001b[0m \u001b[0mdata\u001b[0m\u001b[0;34m=\u001b[0m\u001b[0mdata\u001b[0m\u001b[0;34m,\u001b[0m \u001b[0mheaders\u001b[0m\u001b[0;34m=\u001b[0m\u001b[0mheaders\u001b[0m\u001b[0;34m,\u001b[0m \u001b[0mfiles\u001b[0m\u001b[0;34m=\u001b[0m\u001b[0mfile_data\u001b[0m\u001b[0;34m,\u001b[0m \u001b[0mverify\u001b[0m\u001b[0;34m=\u001b[0m\u001b[0mself\u001b[0m\u001b[0;34m.\u001b[0m\u001b[0m_api_client\u001b[0m\u001b[0;34m.\u001b[0m\u001b[0mcert\u001b[0m\u001b[0;34m,\u001b[0m \u001b[0mparams\u001b[0m\u001b[0;34m=\u001b[0m\u001b[0mparams\u001b[0m\u001b[0;34m)\u001b[0m\u001b[0;34m\u001b[0m\u001b[0;34m\u001b[0m\u001b[0m\n\u001b[0m\u001b[1;32m     86\u001b[0m             \u001b[0mself\u001b[0m\u001b[0;34m.\u001b[0m\u001b[0mlogger\u001b[0m\u001b[0;34m.\u001b[0m\u001b[0mdebug\u001b[0m\u001b[0;34m(\u001b[0m\u001b[0;34m\"response %s - length %s\"\u001b[0m\u001b[0;34m,\u001b[0m \u001b[0mresponse\u001b[0m\u001b[0;34m.\u001b[0m\u001b[0mstatus_code\u001b[0m\u001b[0;34m,\u001b[0m \u001b[0mlen\u001b[0m\u001b[0;34m(\u001b[0m\u001b[0mresponse\u001b[0m\u001b[0;34m.\u001b[0m\u001b[0mcontent\u001b[0m\u001b[0;34m)\u001b[0m\u001b[0;34m)\u001b[0m\u001b[0;34m\u001b[0m\u001b[0;34m\u001b[0m\u001b[0m\n",
            "\u001b[0;32m/usr/local/lib/python3.10/dist-packages/requests/sessions.py\u001b[0m in \u001b[0;36mrequest\u001b[0;34m(self, method, url, params, data, headers, cookies, files, auth, timeout, allow_redirects, proxies, hooks, stream, verify, cert, json)\u001b[0m\n\u001b[1;32m    528\u001b[0m         \u001b[0msend_kwargs\u001b[0m\u001b[0;34m.\u001b[0m\u001b[0mupdate\u001b[0m\u001b[0;34m(\u001b[0m\u001b[0msettings\u001b[0m\u001b[0;34m)\u001b[0m\u001b[0;34m\u001b[0m\u001b[0;34m\u001b[0m\u001b[0m\n\u001b[0;32m--> 529\u001b[0;31m         \u001b[0mresp\u001b[0m \u001b[0;34m=\u001b[0m \u001b[0mself\u001b[0m\u001b[0;34m.\u001b[0m\u001b[0msend\u001b[0m\u001b[0;34m(\u001b[0m\u001b[0mprep\u001b[0m\u001b[0;34m,\u001b[0m \u001b[0;34m**\u001b[0m\u001b[0msend_kwargs\u001b[0m\u001b[0;34m)\u001b[0m\u001b[0;34m\u001b[0m\u001b[0;34m\u001b[0m\u001b[0m\n\u001b[0m\u001b[1;32m    530\u001b[0m \u001b[0;34m\u001b[0m\u001b[0m\n",
            "\u001b[0;32m/usr/local/lib/python3.10/dist-packages/requests/sessions.py\u001b[0m in \u001b[0;36msend\u001b[0;34m(self, request, **kwargs)\u001b[0m\n\u001b[1;32m    644\u001b[0m         \u001b[0;31m# Send the request\u001b[0m\u001b[0;34m\u001b[0m\u001b[0;34m\u001b[0m\u001b[0m\n\u001b[0;32m--> 645\u001b[0;31m         \u001b[0mr\u001b[0m \u001b[0;34m=\u001b[0m \u001b[0madapter\u001b[0m\u001b[0;34m.\u001b[0m\u001b[0msend\u001b[0m\u001b[0;34m(\u001b[0m\u001b[0mrequest\u001b[0m\u001b[0;34m,\u001b[0m \u001b[0;34m**\u001b[0m\u001b[0mkwargs\u001b[0m\u001b[0;34m)\u001b[0m\u001b[0;34m\u001b[0m\u001b[0;34m\u001b[0m\u001b[0m\n\u001b[0m\u001b[1;32m    646\u001b[0m \u001b[0;34m\u001b[0m\u001b[0m\n",
            "\u001b[0;32m/usr/local/lib/python3.10/dist-packages/requests/adapters.py\u001b[0m in \u001b[0;36msend\u001b[0;34m(self, request, stream, timeout, verify, cert, proxies)\u001b[0m\n\u001b[1;32m    518\u001b[0m \u001b[0;34m\u001b[0m\u001b[0m\n\u001b[0;32m--> 519\u001b[0;31m             \u001b[0;32mraise\u001b[0m \u001b[0mConnectionError\u001b[0m\u001b[0;34m(\u001b[0m\u001b[0me\u001b[0m\u001b[0;34m,\u001b[0m \u001b[0mrequest\u001b[0m\u001b[0;34m=\u001b[0m\u001b[0mrequest\u001b[0m\u001b[0;34m)\u001b[0m\u001b[0;34m\u001b[0m\u001b[0;34m\u001b[0m\u001b[0m\n\u001b[0m\u001b[1;32m    520\u001b[0m \u001b[0;34m\u001b[0m\u001b[0m\n",
            "\u001b[0;31mConnectionError\u001b[0m: HTTPSConnectionPool(host='tenant18.bot.5goil.tmobile.com', port=443): Max retries exceeded with url: /models (Caused by NewConnectionError('<urllib3.connection.HTTPSConnection object at 0x7fb1765f1690>: Failed to establish a new connection: [Errno -2] Name or service not known'))",
            "\nDuring handling of the above exception, another exception occurred:\n",
            "\u001b[0;31mNetworkError\u001b[0m                              Traceback (most recent call last)",
            "\u001b[0;32m/usr/local/lib/python3.10/dist-packages/modzy/client.py\u001b[0m in \u001b[0;36mcheck_client\u001b[0;34m(self)\u001b[0m\n\u001b[1;32m     62\u001b[0m         \u001b[0;32mtry\u001b[0m\u001b[0;34m:\u001b[0m\u001b[0;34m\u001b[0m\u001b[0;34m\u001b[0m\u001b[0m\n\u001b[0;32m---> 63\u001b[0;31m             \u001b[0mself\u001b[0m\u001b[0;34m.\u001b[0m\u001b[0mhttp\u001b[0m\u001b[0;34m.\u001b[0m\u001b[0mget\u001b[0m\u001b[0;34m(\u001b[0m\u001b[0;34m'/models'\u001b[0m\u001b[0;34m)\u001b[0m\u001b[0;34m\u001b[0m\u001b[0;34m\u001b[0m\u001b[0m\n\u001b[0m\u001b[1;32m     64\u001b[0m             \u001b[0mreq_check\u001b[0m \u001b[0;34m=\u001b[0m \u001b[0;32mTrue\u001b[0m\u001b[0;34m\u001b[0m\u001b[0;34m\u001b[0m\u001b[0m\n",
            "\u001b[0;32m/usr/local/lib/python3.10/dist-packages/modzy/http.py\u001b[0m in \u001b[0;36mget\u001b[0;34m(self, url)\u001b[0m\n\u001b[1;32m    126\u001b[0m         \"\"\"\n\u001b[0;32m--> 127\u001b[0;31m         \u001b[0;32mreturn\u001b[0m \u001b[0mself\u001b[0m\u001b[0;34m.\u001b[0m\u001b[0mrequest\u001b[0m\u001b[0;34m(\u001b[0m\u001b[0;34m'GET'\u001b[0m\u001b[0;34m,\u001b[0m \u001b[0murl\u001b[0m\u001b[0;34m)\u001b[0m\u001b[0;34m\u001b[0m\u001b[0;34m\u001b[0m\u001b[0m\n\u001b[0m\u001b[1;32m    128\u001b[0m \u001b[0;34m\u001b[0m\u001b[0m\n",
            "\u001b[0;32m/usr/local/lib/python3.10/dist-packages/modzy/http.py\u001b[0m in \u001b[0;36mrequest\u001b[0;34m(self, method, url, json_data, file_data, params)\u001b[0m\n\u001b[1;32m     88\u001b[0m             \u001b[0mself\u001b[0m\u001b[0;34m.\u001b[0m\u001b[0mlogger\u001b[0m\u001b[0;34m.\u001b[0m\u001b[0mexception\u001b[0m\u001b[0;34m(\u001b[0m\u001b[0;34m'unable to make network request'\u001b[0m\u001b[0;34m)\u001b[0m\u001b[0;34m\u001b[0m\u001b[0;34m\u001b[0m\u001b[0m\n\u001b[0;32m---> 89\u001b[0;31m             \u001b[0;32mraise\u001b[0m \u001b[0mNetworkError\u001b[0m\u001b[0;34m(\u001b[0m\u001b[0mstr\u001b[0m\u001b[0;34m(\u001b[0m\u001b[0mex\u001b[0m\u001b[0;34m)\u001b[0m\u001b[0;34m,\u001b[0m \u001b[0murl\u001b[0m\u001b[0;34m,\u001b[0m \u001b[0mreason\u001b[0m\u001b[0;34m=\u001b[0m\u001b[0mex\u001b[0m\u001b[0;34m)\u001b[0m\u001b[0;34m\u001b[0m\u001b[0;34m\u001b[0m\u001b[0m\n\u001b[0m\u001b[1;32m     90\u001b[0m \u001b[0;34m\u001b[0m\u001b[0m\n",
            "\u001b[0;31mNetworkError\u001b[0m: HTTPSConnectionPool(host='tenant18.bot.5goil.tmobile.com', port=443): Max retries exceeded with url: /models (Caused by NewConnectionError('<urllib3.connection.HTTPSConnection object at 0x7fb1765f1690>: Failed to establish a new connection: [Errno -2] Name or service not known'))",
            "\nDuring handling of the above exception, another exception occurred:\n",
            "\u001b[0;31mValueError\u001b[0m                                Traceback (most recent call last)",
            "\u001b[0;32m<ipython-input-15-48863a902625>\u001b[0m in \u001b[0;36m<cell line: 4>\u001b[0;34m()\u001b[0m\n\u001b[1;32m      2\u001b[0m \u001b[0mBASE_URL\u001b[0m\u001b[0;34m=\u001b[0m\u001b[0;34m\"https://tenant18.bot.5goil.tmobile.com/\"\u001b[0m\u001b[0;34m\u001b[0m\u001b[0;34m\u001b[0m\u001b[0m\n\u001b[1;32m      3\u001b[0m \u001b[0mAPI_KEY\u001b[0m\u001b[0;34m=\u001b[0m\u001b[0;34m\"wZr4nkIAtLFPNUPySOdC.DYqB3325zWPXIDxdrZIH\"\u001b[0m\u001b[0;34m\u001b[0m\u001b[0;34m\u001b[0m\u001b[0m\n\u001b[0;32m----> 4\u001b[0;31m \u001b[0mclient\u001b[0m\u001b[0;34m=\u001b[0m\u001b[0mApiClient\u001b[0m\u001b[0;34m(\u001b[0m\u001b[0mbase_url\u001b[0m\u001b[0;34m=\u001b[0m\u001b[0mBASE_URL\u001b[0m\u001b[0;34m,\u001b[0m \u001b[0mapi_key\u001b[0m\u001b[0;34m=\u001b[0m\u001b[0mAPI_KEY\u001b[0m\u001b[0;34m)\u001b[0m\u001b[0;34m\u001b[0m\u001b[0;34m\u001b[0m\u001b[0m\n\u001b[0m",
            "\u001b[0;32m/usr/local/lib/python3.10/dist-packages/modzy/client.py\u001b[0m in \u001b[0;36m__init__\u001b[0;34m(self, base_url, api_key, cert)\u001b[0m\n\u001b[1;32m     46\u001b[0m \u001b[0;34m\u001b[0m\u001b[0m\n\u001b[1;32m     47\u001b[0m         \u001b[0mself\u001b[0m\u001b[0;34m.\u001b[0m\u001b[0mhttp\u001b[0m \u001b[0;34m=\u001b[0m \u001b[0mHttpClient\u001b[0m\u001b[0;34m(\u001b[0m\u001b[0mself\u001b[0m\u001b[0;34m)\u001b[0m\u001b[0;34m\u001b[0m\u001b[0;34m\u001b[0m\u001b[0m\n\u001b[0;32m---> 48\u001b[0;31m         \u001b[0mself\u001b[0m\u001b[0;34m.\u001b[0m\u001b[0mcheck_client\u001b[0m\u001b[0;34m(\u001b[0m\u001b[0;34m)\u001b[0m\u001b[0;34m\u001b[0m\u001b[0;34m\u001b[0m\u001b[0m\n\u001b[0m\u001b[1;32m     49\u001b[0m \u001b[0;34m\u001b[0m\u001b[0m\n\u001b[1;32m     50\u001b[0m         \u001b[0mself\u001b[0m\u001b[0;34m.\u001b[0m\u001b[0mmodels\u001b[0m \u001b[0;34m=\u001b[0m \u001b[0mModels\u001b[0m\u001b[0;34m(\u001b[0m\u001b[0mself\u001b[0m\u001b[0;34m)\u001b[0m\u001b[0;34m\u001b[0m\u001b[0;34m\u001b[0m\u001b[0m\n",
            "\u001b[0;32m/usr/local/lib/python3.10/dist-packages/modzy/client.py\u001b[0m in \u001b[0;36mcheck_client\u001b[0;34m(self)\u001b[0m\n\u001b[1;32m     67\u001b[0m                 \u001b[0mself\u001b[0m\u001b[0;34m.\u001b[0m\u001b[0mbase_url\u001b[0m \u001b[0;34m=\u001b[0m \u001b[0mself\u001b[0m\u001b[0;34m.\u001b[0m\u001b[0mbase_url\u001b[0m \u001b[0;34m+\u001b[0m \u001b[0;34m(\u001b[0m\u001b[0;34m\"\"\u001b[0m \u001b[0;32mif\u001b[0m \u001b[0mself\u001b[0m\u001b[0;34m.\u001b[0m\u001b[0mbase_url\u001b[0m\u001b[0;34m.\u001b[0m\u001b[0mendswith\u001b[0m\u001b[0;34m(\u001b[0m\u001b[0;34m\"/\"\u001b[0m\u001b[0;34m)\u001b[0m \u001b[0;32melse\u001b[0m \u001b[0;34m\"/\"\u001b[0m\u001b[0;34m)\u001b[0m \u001b[0;34m+\u001b[0m \u001b[0;34m\"api/\"\u001b[0m\u001b[0;34m\u001b[0m\u001b[0;34m\u001b[0m\u001b[0m\n\u001b[1;32m     68\u001b[0m                 \u001b[0;31m# Try again with the new URL\u001b[0m\u001b[0;34m\u001b[0m\u001b[0;34m\u001b[0m\u001b[0m\n\u001b[0;32m---> 69\u001b[0;31m                 \u001b[0mself\u001b[0m\u001b[0;34m.\u001b[0m\u001b[0mcheck_client\u001b[0m\u001b[0;34m(\u001b[0m\u001b[0;34m)\u001b[0m\u001b[0;34m\u001b[0m\u001b[0;34m\u001b[0m\u001b[0m\n\u001b[0m\u001b[1;32m     70\u001b[0m                 \u001b[0mreq_check\u001b[0m \u001b[0;34m=\u001b[0m \u001b[0;32mTrue\u001b[0m\u001b[0;34m\u001b[0m\u001b[0;34m\u001b[0m\u001b[0m\n\u001b[1;32m     71\u001b[0m \u001b[0;34m\u001b[0m\u001b[0m\n",
            "\u001b[0;32m/usr/local/lib/python3.10/dist-packages/modzy/client.py\u001b[0m in \u001b[0;36mcheck_client\u001b[0;34m(self)\u001b[0m\n\u001b[1;32m     71\u001b[0m \u001b[0;34m\u001b[0m\u001b[0m\n\u001b[1;32m     72\u001b[0m         \u001b[0;32mif\u001b[0m \u001b[0;32mnot\u001b[0m \u001b[0mreq_check\u001b[0m\u001b[0;34m:\u001b[0m\u001b[0;34m\u001b[0m\u001b[0;34m\u001b[0m\u001b[0m\n\u001b[0;32m---> 73\u001b[0;31m             raise ValueError(\"Cannot initialize the modzy client: the base_url param should point to a valid API \"\n\u001b[0m\u001b[1;32m     74\u001b[0m                              \"endpoint and the api_key should be a valid key for the env\")\n\u001b[1;32m     75\u001b[0m \u001b[0;34m\u001b[0m\u001b[0m\n",
            "\u001b[0;31mValueError\u001b[0m: Cannot initialize the modzy client: the base_url param should point to a valid API endpoint and the api_key should be a valid key for the env"
          ]
        }
      ]
    },
    {
      "cell_type": "code",
      "source": [
        "!pip install pyheif"
      ],
      "metadata": {
        "colab": {
          "base_uri": "https://localhost:8080/"
        },
        "id": "V4F59giQUFKo",
        "outputId": "185ab476-986f-4224-a4f7-f7a5a1a3f07d"
      },
      "execution_count": null,
      "outputs": [
        {
          "output_type": "stream",
          "name": "stdout",
          "text": [
            "Requirement already satisfied: pyheif in /usr/local/lib/python3.10/dist-packages (0.7.1)\n",
            "Requirement already satisfied: cffi>=1.0.0 in /usr/local/lib/python3.10/dist-packages (from pyheif) (1.15.1)\n",
            "Requirement already satisfied: pycparser in /usr/local/lib/python3.10/dist-packages (from cffi>=1.0.0->pyheif) (2.21)\n"
          ]
        }
      ]
    },
    {
      "cell_type": "code",
      "source": [
        "import os\n",
        "from PIL import Image\n",
        "import pyheif\n",
        "\n",
        "\n",
        "def convert_heic_to_jpg(heic_file, output_folder):\n",
        "    # Load the HEIC image\n",
        "    heif_file = pyheif.read(heic_file)\n",
        "    image = Image.frombytes(\n",
        "        heif_file.mode,\n",
        "        heif_file.size,\n",
        "        heif_file.data,\n",
        "        \"raw\",\n",
        "        heif_file.mode,\n",
        "        heif_file.stride,\n",
        "    )\n",
        "\n",
        "    # Generate the output file path\n",
        "    filename = os.path.splitext(os.path.basename(heic_file))[0]\n",
        "    output_file = os.path.join(output_folder, f\"{filename}.jpg\")\n",
        "\n",
        "    # Save the image as JPG\n",
        "    image.save(output_file, \"JPEG\")\n",
        "\n",
        "\n",
        "def batch_convert_heic_to_jpg(input_folder, output_folder):\n",
        "    # Create the output folder if it doesn't exist\n",
        "    os.makedirs(output_folder, exist_ok=True)\n",
        "\n",
        "    # Get a list of HEIC files in the input folder\n",
        "    heic_files = [\n",
        "        file for file in os.listdir(input_folder)\n",
        "        if file.lower().endswith(\".heic\")\n",
        "    ]\n",
        "\n",
        "    # Convert each HEIC file to JPG\n",
        "    for heic_file in heic_files:\n",
        "        heic_path = os.path.join(input_folder, heic_file)\n",
        "        convert_heic_to_jpg(heic_path, output_folder)\n",
        "\n",
        "\n",
        "# Specify the input and output folders\n",
        "input_folder = \"/content\"\n",
        "output_folder = \"/content/test_images\"\n",
        "\n",
        "# Convert HEIC files to JPG\n",
        "batch_convert_heic_to_jpg(input_folder, output_folder)\n"
      ],
      "metadata": {
        "id": "RmITnm1aTrQQ"
      },
      "execution_count": null,
      "outputs": []
    },
    {
      "cell_type": "code",
      "source": [
        "import cv2\n",
        "import numpy as np\n",
        "import joblib\n",
        "\n",
        "# Load the saved model from the file\n",
        "loaded_model = joblib.load(model_filename)\n",
        "\n",
        "# Preprocess the test image\n",
        "test_image_path = \"/content/test_images/IMG_3864.jpg\"\n",
        "test_image = cv2.imread(test_image_path)\n",
        "test_image = cv2.cvtColor(test_image, cv2.COLOR_BGR2GRAY)\n",
        "test_image = cv2.resize(test_image, (100, 100))  # Resize if needed\n",
        "test_image = test_image.reshape(1, -1)  # Flatten the image array\n",
        "\n",
        "# Make predictions on the test image\n",
        "predicted_class = loaded_model.predict(test_image)\n",
        "\n",
        "# Print the predicted class\n",
        "print(\"Predicted class:\", predicted_class[0])"
      ],
      "metadata": {
        "colab": {
          "base_uri": "https://localhost:8080/"
        },
        "id": "7SArZRkWt17n",
        "outputId": "666c88b5-4a89-44b8-95bd-46032fddfeff"
      },
      "execution_count": null,
      "outputs": [
        {
          "output_type": "stream",
          "name": "stdout",
          "text": [
            "Predicted class: s3\n"
          ]
        }
      ]
    },
    {
      "cell_type": "code",
      "source": [
        "!pip install chassisml"
      ],
      "metadata": {
        "colab": {
          "base_uri": "https://localhost:8080/"
        },
        "id": "Oz1ACLtcW6V9",
        "outputId": "c9350b80-645c-4cb9-84e8-441e9bcc144a"
      },
      "execution_count": null,
      "outputs": [
        {
          "output_type": "stream",
          "name": "stdout",
          "text": [
            "Requirement already satisfied: chassisml in /usr/local/lib/python3.10/dist-packages (1.4.13)\n",
            "Requirement already satisfied: requests in /usr/local/lib/python3.10/dist-packages (from chassisml) (2.27.1)\n",
            "Requirement already satisfied: mlflow in /usr/local/lib/python3.10/dist-packages (from chassisml) (2.4.1)\n",
            "Requirement already satisfied: numpy in /usr/local/lib/python3.10/dist-packages (from chassisml) (1.22.4)\n",
            "Requirement already satisfied: pyyaml in /usr/local/lib/python3.10/dist-packages (from chassisml) (6.0)\n",
            "Requirement already satisfied: validators in /usr/local/lib/python3.10/dist-packages (from chassisml) (0.20.0)\n",
            "Requirement already satisfied: grpc-requests in /usr/local/lib/python3.10/dist-packages (from chassisml) (0.1.7)\n",
            "Requirement already satisfied: grpcio in /usr/local/lib/python3.10/dist-packages (from chassisml) (1.56.0)\n",
            "Requirement already satisfied: docker in /usr/local/lib/python3.10/dist-packages (from chassisml) (6.1.3)\n",
            "Requirement already satisfied: protobuf==3.19.4 in /usr/local/lib/python3.10/dist-packages (from chassisml) (3.19.4)\n",
            "Requirement already satisfied: packaging>=14.0 in /usr/local/lib/python3.10/dist-packages (from docker->chassisml) (23.1)\n",
            "Requirement already satisfied: urllib3>=1.26.0 in /usr/local/lib/python3.10/dist-packages (from docker->chassisml) (1.26.16)\n",
            "Requirement already satisfied: websocket-client>=0.32.0 in /usr/local/lib/python3.10/dist-packages (from docker->chassisml) (1.6.0)\n",
            "Requirement already satisfied: certifi>=2017.4.17 in /usr/local/lib/python3.10/dist-packages (from requests->chassisml) (2023.5.7)\n",
            "Requirement already satisfied: charset-normalizer~=2.0.0 in /usr/local/lib/python3.10/dist-packages (from requests->chassisml) (2.0.12)\n",
            "Requirement already satisfied: idna<4,>=2.5 in /usr/local/lib/python3.10/dist-packages (from requests->chassisml) (3.4)\n",
            "Requirement already satisfied: grpcio-reflection>=1.39.0 in /usr/local/lib/python3.10/dist-packages (from grpc-requests->chassisml) (1.48.2)\n",
            "Requirement already satisfied: google-api-core>=1.31.0 in /usr/local/lib/python3.10/dist-packages (from grpc-requests->chassisml) (2.8.2)\n",
            "Requirement already satisfied: cryptography>=3.1.1 in /usr/local/lib/python3.10/dist-packages (from grpc-requests->chassisml) (41.0.1)\n",
            "Requirement already satisfied: click<9,>=7.0 in /usr/local/lib/python3.10/dist-packages (from mlflow->chassisml) (8.1.3)\n",
            "Requirement already satisfied: cloudpickle<3 in /usr/local/lib/python3.10/dist-packages (from mlflow->chassisml) (2.2.1)\n",
            "Requirement already satisfied: databricks-cli<1,>=0.8.7 in /usr/local/lib/python3.10/dist-packages (from mlflow->chassisml) (0.17.7)\n",
            "Requirement already satisfied: entrypoints<1 in /usr/local/lib/python3.10/dist-packages (from mlflow->chassisml) (0.4)\n",
            "Requirement already satisfied: gitpython<4,>=2.1.0 in /usr/local/lib/python3.10/dist-packages (from mlflow->chassisml) (3.1.31)\n",
            "Requirement already satisfied: pytz<2024 in /usr/local/lib/python3.10/dist-packages (from mlflow->chassisml) (2022.7.1)\n",
            "Requirement already satisfied: importlib-metadata!=4.7.0,<7,>=3.7.0 in /usr/local/lib/python3.10/dist-packages (from mlflow->chassisml) (6.7.0)\n",
            "Requirement already satisfied: sqlparse<1,>=0.4.0 in /usr/local/lib/python3.10/dist-packages (from mlflow->chassisml) (0.4.4)\n",
            "Requirement already satisfied: alembic!=1.10.0,<2 in /usr/local/lib/python3.10/dist-packages (from mlflow->chassisml) (1.11.1)\n",
            "Requirement already satisfied: Flask<3 in /usr/local/lib/python3.10/dist-packages (from mlflow->chassisml) (2.2.5)\n",
            "Requirement already satisfied: scipy<2 in /usr/local/lib/python3.10/dist-packages (from mlflow->chassisml) (1.10.1)\n",
            "Requirement already satisfied: pandas<3 in /usr/local/lib/python3.10/dist-packages (from mlflow->chassisml) (1.5.3)\n",
            "Requirement already satisfied: querystring-parser<2 in /usr/local/lib/python3.10/dist-packages (from mlflow->chassisml) (1.2.4)\n",
            "Requirement already satisfied: sqlalchemy<3,>=1.4.0 in /usr/local/lib/python3.10/dist-packages (from mlflow->chassisml) (2.0.16)\n",
            "Requirement already satisfied: scikit-learn<2 in /usr/local/lib/python3.10/dist-packages (from mlflow->chassisml) (1.2.2)\n",
            "Requirement already satisfied: pyarrow<13,>=4.0.0 in /usr/local/lib/python3.10/dist-packages (from mlflow->chassisml) (9.0.0)\n",
            "Requirement already satisfied: markdown<4,>=3.3 in /usr/local/lib/python3.10/dist-packages (from mlflow->chassisml) (3.4.3)\n",
            "Requirement already satisfied: matplotlib<4 in /usr/local/lib/python3.10/dist-packages (from mlflow->chassisml) (3.7.1)\n",
            "Requirement already satisfied: gunicorn<21 in /usr/local/lib/python3.10/dist-packages (from mlflow->chassisml) (20.1.0)\n",
            "Requirement already satisfied: Jinja2<4,>=2.11 in /usr/local/lib/python3.10/dist-packages (from mlflow->chassisml) (3.1.2)\n",
            "Requirement already satisfied: decorator>=3.4.0 in /usr/local/lib/python3.10/dist-packages (from validators->chassisml) (4.4.2)\n",
            "Requirement already satisfied: Mako in /usr/local/lib/python3.10/dist-packages (from alembic!=1.10.0,<2->mlflow->chassisml) (1.2.4)\n",
            "Requirement already satisfied: typing-extensions>=4 in /usr/local/lib/python3.10/dist-packages (from alembic!=1.10.0,<2->mlflow->chassisml) (4.6.3)\n",
            "Requirement already satisfied: cffi>=1.12 in /usr/local/lib/python3.10/dist-packages (from cryptography>=3.1.1->grpc-requests->chassisml) (1.15.1)\n",
            "Requirement already satisfied: pyjwt>=1.7.0 in /usr/local/lib/python3.10/dist-packages (from databricks-cli<1,>=0.8.7->mlflow->chassisml) (2.7.0)\n",
            "Requirement already satisfied: oauthlib>=3.1.0 in /usr/local/lib/python3.10/dist-packages (from databricks-cli<1,>=0.8.7->mlflow->chassisml) (3.2.2)\n",
            "Requirement already satisfied: tabulate>=0.7.7 in /usr/local/lib/python3.10/dist-packages (from databricks-cli<1,>=0.8.7->mlflow->chassisml) (0.8.10)\n",
            "Requirement already satisfied: six>=1.10.0 in /usr/local/lib/python3.10/dist-packages (from databricks-cli<1,>=0.8.7->mlflow->chassisml) (1.16.0)\n",
            "Requirement already satisfied: Werkzeug>=2.2.2 in /usr/local/lib/python3.10/dist-packages (from Flask<3->mlflow->chassisml) (2.3.6)\n",
            "Requirement already satisfied: itsdangerous>=2.0 in /usr/local/lib/python3.10/dist-packages (from Flask<3->mlflow->chassisml) (2.1.2)\n",
            "Requirement already satisfied: gitdb<5,>=4.0.1 in /usr/local/lib/python3.10/dist-packages (from gitpython<4,>=2.1.0->mlflow->chassisml) (4.0.10)\n",
            "Requirement already satisfied: googleapis-common-protos<2.0dev,>=1.56.2 in /usr/local/lib/python3.10/dist-packages (from google-api-core>=1.31.0->grpc-requests->chassisml) (1.56.4)\n",
            "Requirement already satisfied: google-auth<3.0dev,>=1.25.0 in /usr/local/lib/python3.10/dist-packages (from google-api-core>=1.31.0->grpc-requests->chassisml) (2.17.3)\n",
            "Requirement already satisfied: setuptools>=3.0 in /usr/local/lib/python3.10/dist-packages (from gunicorn<21->mlflow->chassisml) (67.7.2)\n",
            "Requirement already satisfied: zipp>=0.5 in /usr/local/lib/python3.10/dist-packages (from importlib-metadata!=4.7.0,<7,>=3.7.0->mlflow->chassisml) (3.15.0)\n",
            "Requirement already satisfied: MarkupSafe>=2.0 in /usr/local/lib/python3.10/dist-packages (from Jinja2<4,>=2.11->mlflow->chassisml) (2.1.3)\n",
            "Requirement already satisfied: contourpy>=1.0.1 in /usr/local/lib/python3.10/dist-packages (from matplotlib<4->mlflow->chassisml) (1.1.0)\n",
            "Requirement already satisfied: cycler>=0.10 in /usr/local/lib/python3.10/dist-packages (from matplotlib<4->mlflow->chassisml) (0.11.0)\n",
            "Requirement already satisfied: fonttools>=4.22.0 in /usr/local/lib/python3.10/dist-packages (from matplotlib<4->mlflow->chassisml) (4.40.0)\n",
            "Requirement already satisfied: kiwisolver>=1.0.1 in /usr/local/lib/python3.10/dist-packages (from matplotlib<4->mlflow->chassisml) (1.4.4)\n",
            "Requirement already satisfied: pillow>=6.2.0 in /usr/local/lib/python3.10/dist-packages (from matplotlib<4->mlflow->chassisml) (8.4.0)\n",
            "Requirement already satisfied: pyparsing>=2.3.1 in /usr/local/lib/python3.10/dist-packages (from matplotlib<4->mlflow->chassisml) (3.1.0)\n",
            "Requirement already satisfied: python-dateutil>=2.7 in /usr/local/lib/python3.10/dist-packages (from matplotlib<4->mlflow->chassisml) (2.8.2)\n",
            "Requirement already satisfied: joblib>=1.1.1 in /usr/local/lib/python3.10/dist-packages (from scikit-learn<2->mlflow->chassisml) (1.2.0)\n",
            "Requirement already satisfied: threadpoolctl>=2.0.0 in /usr/local/lib/python3.10/dist-packages (from scikit-learn<2->mlflow->chassisml) (3.1.0)\n",
            "Requirement already satisfied: greenlet!=0.4.17 in /usr/local/lib/python3.10/dist-packages (from sqlalchemy<3,>=1.4.0->mlflow->chassisml) (2.0.2)\n",
            "Requirement already satisfied: pycparser in /usr/local/lib/python3.10/dist-packages (from cffi>=1.12->cryptography>=3.1.1->grpc-requests->chassisml) (2.21)\n",
            "Requirement already satisfied: smmap<6,>=3.0.1 in /usr/local/lib/python3.10/dist-packages (from gitdb<5,>=4.0.1->gitpython<4,>=2.1.0->mlflow->chassisml) (5.0.0)\n",
            "Requirement already satisfied: cachetools<6.0,>=2.0.0 in /usr/local/lib/python3.10/dist-packages (from google-auth<3.0dev,>=1.25.0->google-api-core>=1.31.0->grpc-requests->chassisml) (5.3.1)\n",
            "Requirement already satisfied: pyasn1-modules>=0.2.1 in /usr/local/lib/python3.10/dist-packages (from google-auth<3.0dev,>=1.25.0->google-api-core>=1.31.0->grpc-requests->chassisml) (0.3.0)\n",
            "Requirement already satisfied: rsa<5,>=3.1.4 in /usr/local/lib/python3.10/dist-packages (from google-auth<3.0dev,>=1.25.0->google-api-core>=1.31.0->grpc-requests->chassisml) (4.9)\n",
            "Requirement already satisfied: pyasn1<0.6.0,>=0.4.6 in /usr/local/lib/python3.10/dist-packages (from pyasn1-modules>=0.2.1->google-auth<3.0dev,>=1.25.0->google-api-core>=1.31.0->grpc-requests->chassisml) (0.5.0)\n"
          ]
        }
      ]
    },
    {
      "cell_type": "code",
      "source": [
        "import chassisml"
      ],
      "metadata": {
        "id": "Itebva4xXp9F"
      },
      "execution_count": null,
      "outputs": []
    },
    {
      "cell_type": "code",
      "source": [
        "def process(input_bytes):\n",
        "  img = cv2.imdecode(np.frombuffer(input_bytes, np.uint8),-1)\n",
        "  img = cv2.cvtColor(img, cv2.COLOR_BGR2GRAY)\n",
        "  img = cv2.resize(img, (100, 100))  # Resize if needed\n",
        "  img = img.reshape(1, -1)\n",
        "  predicted_class = loaded_model.predict(test_image)\n",
        "\n",
        "# Print the predicted class\n",
        "  return predicted_class[0]"
      ],
      "metadata": {
        "id": "iSC2_e8XWUOH"
      },
      "execution_count": null,
      "outputs": []
    },
    {
      "cell_type": "code",
      "source": [
        "chassis_client = chassisml.ChassisClient(\"https://chassis.app.modzy.com/\")\n",
        "chassis_model = chassis_client.create_model(process_fn=process)\n",
        "\n",
        "dockerhub_user = ''\n",
        "dockerhub_pass = ''\n",
        "\n",
        "response = chassis_model.publish(\n",
        "   model_name=\"Sample ML Model\",\n",
        "   model_version=\"0.0.1\",\n",
        "   registry_user=dockerhub_user,\n",
        "   registry_pass=dockerhub_pass\n",
        ")\n",
        "\n",
        "job_id = response.get('job_id')\n",
        "print(job_id)\n",
        "final_status = chassis_client.block_until_complete(job_id)"
      ],
      "metadata": {
        "id": "qTA4ZXfjgq9U",
        "colab": {
          "base_uri": "https://localhost:8080/"
        },
        "outputId": "3d15d1ec-3825-4bcd-9500-81fa460786a5"
      },
      "execution_count": null,
      "outputs": [
        {
          "output_type": "stream",
          "name": "stdout",
          "text": [
            "Starting build job... Ok!\n",
            "chassis-builder-job-323a9a49-2ee0-4c09-a852-8ee6f692e366\n"
          ]
        }
      ]
    },
    {
      "cell_type": "code",
      "source": [
        "print(final_status)"
      ],
      "metadata": {
        "colab": {
          "base_uri": "https://localhost:8080/"
        },
        "id": "XiaOQt-iIR_L",
        "outputId": "8909b59c-37ea-41d2-c712-eaf9bd19e0f7"
      },
      "execution_count": null,
      "outputs": [
        {
          "output_type": "stream",
          "name": "stdout",
          "text": [
            "{'logs': '\\x1b[36mINFO\\x1b[0m[0000] Retrieving image manifest continuumio/miniconda3:4.12.0 \\n\\x1b[36mINFO\\x1b[0m[0000] Retrieving image continuumio/miniconda3:4.12.0 from registry index.docker.io \\n\\x1b[36mINFO\\x1b[0m[0000] Built cross stage deps: map[]                \\n\\x1b[36mINFO\\x1b[0m[0000] Retrieving image manifest continuumio/miniconda3:4.12.0 \\n\\x1b[36mINFO\\x1b[0m[0000] Returning cached image manifest              \\n\\x1b[36mINFO\\x1b[0m[0000] Executing 0 build triggers                   \\n\\x1b[36mINFO\\x1b[0m[0000] Unpacking rootfs as cmd RUN apt-get update && apt-get install -y build-essential cmake requires it. \\n\\x1b[36mINFO\\x1b[0m[0006] Taking snapshot of full filesystem...        \\n\\x1b[36mINFO\\x1b[0m[0010] ARG MODEL_DIR                                \\n\\x1b[36mINFO\\x1b[0m[0010] ARG MODEL_NAME                               \\n\\x1b[36mINFO\\x1b[0m[0010] ARG MODEL_CLASS                              \\n\\x1b[36mINFO\\x1b[0m[0010] ARG INTERFACE                                \\n\\x1b[36mINFO\\x1b[0m[0010] ARG MODZY_METADATA_PATH                      \\n\\x1b[36mINFO\\x1b[0m[0010] LABEL ml.openmodel.interfaces=[\"${INTERFACE}\"] \\n\\x1b[36mINFO\\x1b[0m[0010] Applying label ml.openmodel.interfaces=[modzy] \\n\\x1b[36mINFO\\x1b[0m[0010] LABEL ml.openml.model_name=\"${MODEL_NAME}\"   \\n\\x1b[36mINFO\\x1b[0m[0010] Applying label ml.openml.model_name=Sample ML Model \\n\\x1b[36mINFO\\x1b[0m[0010] LABEL ml.openmodel.protocols=[[\"v2\"]]        \\n\\x1b[36mINFO\\x1b[0m[0010] Applying label ml.openmodel.protocols=[[v2]] \\n\\x1b[36mINFO\\x1b[0m[0010] LABEL ml.openmodel.port=\"45000\"              \\n\\x1b[36mINFO\\x1b[0m[0010] Applying label ml.openmodel.port=45000       \\n\\x1b[36mINFO\\x1b[0m[0010] WORKDIR /app                                 \\n\\x1b[36mINFO\\x1b[0m[0010] cmd: workdir                                 \\n\\x1b[36mINFO\\x1b[0m[0010] Changed working directory to /app            \\n\\x1b[36mINFO\\x1b[0m[0010] Creating directory /app                      \\n\\x1b[36mINFO\\x1b[0m[0010] Taking snapshot of files...                  \\n\\x1b[36mINFO\\x1b[0m[0010] RUN apt-get update && apt-get install -y build-essential cmake \\n\\x1b[36mINFO\\x1b[0m[0010] cmd: /bin/sh                                 \\n\\x1b[36mINFO\\x1b[0m[0010] args: [-c apt-get update && apt-get install -y build-essential cmake] \\n\\x1b[36mINFO\\x1b[0m[0010] Running: [/bin/sh -c apt-get update && apt-get install -y build-essential cmake] \\nGet:1 http://security.debian.org/debian-security bullseye-security InRelease [48.4 kB]\\nGet:2 http://deb.debian.org/debian bullseye InRelease [116 kB]\\nGet:3 http://deb.debian.org/debian bullseye-updates InRelease [44.1 kB]\\nGet:4 http://security.debian.org/debian-security bullseye-security/main amd64 Packages [252 kB]\\nGet:5 http://deb.debian.org/debian bullseye/main amd64 Packages [8183 kB]\\nGet:6 http://deb.debian.org/debian bullseye-updates/main amd64 Packages [14.8 kB]\\nFetched 8658 kB in 1s (7059 kB/s)\\nReading package lists...\\nReading package lists...\\nBuilding dependency tree...\\nReading state information...\\nThe following additional packages will be installed:\\n  binutils binutils-common binutils-x86-64-linux-gnu cmake-data cpp cpp-10\\n  dirmngr dpkg-dev fakeroot fontconfig-config fonts-dejavu-core g++ g++-10 gcc\\n  gcc-10 gnupg gnupg-l10n gnupg-utils gpg gpg-agent gpg-wks-client\\n  gpg-wks-server gpgconf gpgsm gpgv libalgorithm-diff-perl\\n  libalgorithm-diff-xs-perl libalgorithm-merge-perl libarchive13 libasan6\\n  libassuan0 libatomic1 libbinutils libc-dev-bin libc-devtools libc6 libc6-dev\\n  libcc1-0 libcrypt-dev libctf-nobfd0 libctf0 libcurl4 libdeflate0\\n  libdpkg-perl libfakeroot libfile-fcntllock-perl libfontconfig1 libfreetype6\\n  libgcc-10-dev libgd3 libgomp1 libicu67 libisl23 libitm1 libjbig0\\n  libjpeg62-turbo libjsoncpp24 libksba8 liblocale-gettext-perl liblsan0\\n  libmpc3 libmpfr6 libnpth0 libnsl-dev libpng16-16 libquadmath0 librhash0\\n  libstdc++-10-dev libtiff5 libtirpc-common libtirpc-dev libtirpc3 libtsan0\\n  libubsan1 libuv1 libwebp6 libxml2 libxpm4 linux-libc-dev make manpages\\n  manpages-dev patch pinentry-curses xz-utils\\nSuggested packages:\\n  binutils-doc cmake-doc ninja-build cpp-doc gcc-10-locales dbus-user-session\\n  libpam-systemd pinentry-gnome3 tor debian-keyring g++-multilib\\n  g++-10-multilib gcc-10-doc gcc-multilib autoconf automake libtool flex bison\\n  gdb gcc-doc gcc-10-multilib parcimonie xloadimage scdaemon lrzip glibc-doc\\n  libc-l10n locales bzr libgd-tools libstdc++-10-doc make-doc man-browser ed\\n  diffutils-doc pinentry-doc\\nRecommended packages:\\n  libnss-nis libnss-nisplus\\nThe following NEW packages will be installed:\\n  binutils binutils-common binutils-x86-64-linux-gnu build-essential cmake\\n  cmake-data cpp cpp-10 dirmngr dpkg-dev fakeroot fontconfig-config\\n  fonts-dejavu-core g++ g++-10 gcc gcc-10 gnupg gnupg-l10n gnupg-utils gpg\\n  gpg-agent gpg-wks-client gpg-wks-server gpgconf gpgsm libalgorithm-diff-perl\\n  libalgorithm-diff-xs-perl libalgorithm-merge-perl libarchive13 libasan6\\n  libassuan0 libatomic1 libbinutils libc-dev-bin libc-devtools libc6-dev\\n  libcc1-0 libcrypt-dev libctf-nobfd0 libctf0 libcurl4 libdeflate0\\n  libdpkg-perl libfakeroot libfile-fcntllock-perl libfontconfig1 libfreetype6\\n  libgcc-10-dev libgd3 libgomp1 libicu67 libisl23 libitm1 libjbig0\\n  libjpeg62-turbo libjsoncpp24 libksba8 liblocale-gettext-perl liblsan0\\n  libmpc3 libmpfr6 libnpth0 libnsl-dev libpng16-16 libquadmath0 librhash0\\n  libstdc++-10-dev libtiff5 libtirpc-dev libtsan0 libubsan1 libuv1 libwebp6\\n  libxml2 libxpm4 linux-libc-dev make manpages manpages-dev patch\\n  pinentry-curses xz-utils\\nThe following packages will be upgraded:\\n  gpgv libc6 libtirpc-common libtirpc3\\n4 upgraded, 83 newly installed, 0 to remove and 33 not upgraded.\\nNeed to get 98.3 MB of archives.\\nAfter this operation, 329 MB of additional disk space will be used.\\nGet:1 http://deb.debian.org/debian bullseye/main amd64 libc6 amd64 2.31-13+deb11u6 [2827 kB]\\nGet:2 http://security.debian.org/debian-security bullseye-security/main amd64 linux-libc-dev amd64 5.10.179-1 [1618 kB]\\nGet:3 http://deb.debian.org/debian bullseye/main amd64 liblocale-gettext-perl amd64 1.07-4+b1 [19.0 kB]\\nGet:4 http://deb.debian.org/debian bullseye/main amd64 gpgv amd64 2.2.27-2+deb11u2 [626 kB]\\nGet:5 http://deb.debian.org/debian bullseye/main amd64 libtirpc-common all 1.3.1-1+deb11u1 [13.5 kB]\\nGet:6 http://deb.debian.org/debian bullseye/main amd64 libtirpc3 amd64 1.3.1-1+deb11u1 [84.1 kB]\\nGet:7 http://deb.debian.org/debian bullseye/main amd64 manpages all 5.10-1 [1412 kB]\\nGet:8 http://deb.debian.org/debian bullseye/main amd64 xz-utils amd64 5.2.5-2.1~deb11u1 [220 kB]\\nGet:9 http://deb.debian.org/debian bullseye/main amd64 binutils-common amd64 2.35.2-2 [2220 kB]\\nGet:10 http://deb.debian.org/debian bullseye/main amd64 libbinutils amd64 2.35.2-2 [570 kB]\\nGet:11 http://deb.debian.org/debian bullseye/main amd64 libctf-nobfd0 amd64 2.35.2-2 [110 kB]\\nGet:12 http://deb.debian.org/debian bullseye/main amd64 libctf0 amd64 2.35.2-2 [53.2 kB]\\nGet:13 http://deb.debian.org/debian bullseye/main amd64 binutils-x86-64-linux-gnu amd64 2.35.2-2 [1809 kB]\\nGet:14 http://deb.debian.org/debian bullseye/main amd64 binutils amd64 2.35.2-2 [61.2 kB]\\nGet:15 http://deb.debian.org/debian bullseye/main amd64 libc-dev-bin amd64 2.31-13+deb11u6 [276 kB]\\nGet:16 http://deb.debian.org/debian bullseye/main amd64 libcrypt-dev amd64 1:4.4.18-4 [104 kB]\\nGet:17 http://deb.debian.org/debian bullseye/main amd64 libtirpc-dev amd64 1.3.1-1+deb11u1 [191 kB]\\nGet:18 http://deb.debian.org/debian bullseye/main amd64 libnsl-dev amd64 1.3.0-2 [66.4 kB]\\nGet:19 http://deb.debian.org/debian bullseye/main amd64 libc6-dev amd64 2.31-13+deb11u6 [2360 kB]\\nGet:20 http://deb.debian.org/debian bullseye/main amd64 libisl23 amd64 0.23-1 [676 kB]\\nGet:21 http://deb.debian.org/debian bullseye/main amd64 libmpfr6 amd64 4.1.0-3 [2012 kB]\\nGet:22 http://deb.debian.org/debian bullseye/main amd64 libmpc3 amd64 1.2.0-1 [45.0 kB]\\nGet:23 http://deb.debian.org/debian bullseye/main amd64 cpp-10 amd64 10.2.1-6 [8528 kB]\\nGet:24 http://security.debian.org/debian-security bullseye-security/main amd64 libwebp6 amd64 0.6.1-2.1+deb11u1 [258 kB]\\nGet:25 http://deb.debian.org/debian bullseye/main amd64 cpp amd64 4:10.2.1-1 [19.7 kB]\\nGet:26 http://deb.debian.org/debian bullseye/main amd64 libcc1-0 amd64 10.2.1-6 [47.0 kB]\\nGet:27 http://deb.debian.org/debian bullseye/main amd64 libgomp1 amd64 10.2.1-6 [99.9 kB]\\nGet:28 http://deb.debian.org/debian bullseye/main amd64 libitm1 amd64 10.2.1-6 [25.8 kB]\\nGet:29 http://deb.debian.org/debian bullseye/main amd64 libatomic1 amd64 10.2.1-6 [9008 B]\\nGet:30 http://deb.debian.org/debian bullseye/main amd64 libasan6 amd64 10.2.1-6 [2065 kB]\\nGet:31 http://deb.debian.org/debian bullseye/main amd64 liblsan0 amd64 10.2.1-6 [828 kB]\\nGet:32 http://deb.debian.org/debian bullseye/main amd64 libtsan0 amd64 10.2.1-6 [2000 kB]\\nGet:33 http://deb.debian.org/debian bullseye/main amd64 libubsan1 amd64 10.2.1-6 [777 kB]\\nGet:34 http://deb.debian.org/debian bullseye/main amd64 libquadmath0 amd64 10.2.1-6 [145 kB]\\nGet:35 http://deb.debian.org/debian bullseye/main amd64 libgcc-10-dev amd64 10.2.1-6 [2328 kB]\\nGet:36 http://deb.debian.org/debian bullseye/main amd64 gcc-10 amd64 10.2.1-6 [17.0 MB]\\nGet:37 http://deb.debian.org/debian bullseye/main amd64 gcc amd64 4:10.2.1-1 [5192 B]\\nGet:38 http://deb.debian.org/debian bullseye/main amd64 libstdc++-10-dev amd64 10.2.1-6 [1741 kB]\\nGet:39 http://deb.debian.org/debian bullseye/main amd64 g++-10 amd64 10.2.1-6 [9380 kB]\\nGet:40 http://deb.debian.org/debian bullseye/main amd64 g++ amd64 4:10.2.1-1 [1644 B]\\nGet:41 http://deb.debian.org/debian bullseye/main amd64 make amd64 4.3-4.1 [396 kB]\\nGet:42 http://deb.debian.org/debian bullseye/main amd64 libdpkg-perl all 1.20.12 [1551 kB]\\nGet:43 http://deb.debian.org/debian bullseye/main amd64 patch amd64 2.7.6-7 [128 kB]\\nGet:44 http://deb.debian.org/debian bullseye/main amd64 dpkg-dev all 1.20.12 [2312 kB]\\nGet:45 http://deb.debian.org/debian bullseye/main amd64 build-essential amd64 12.9 [7704 B]\\nGet:46 http://deb.debian.org/debian bullseye/main amd64 cmake-data all 3.18.4-2+deb11u1 [1725 kB]\\nGet:47 http://deb.debian.org/debian bullseye/main amd64 libicu67 amd64 67.1-7 [8622 kB]\\nGet:48 http://deb.debian.org/debian bullseye/main amd64 libxml2 amd64 2.9.10+dfsg-6.7+deb11u4 [693 kB]\\nGet:49 http://deb.debian.org/debian bullseye/main amd64 libarchive13 amd64 3.4.3-2+deb11u1 [343 kB]\\nGet:50 http://deb.debian.org/debian bullseye/main amd64 libcurl4 amd64 7.74.0-1.3+deb11u7 [346 kB]\\nGet:51 http://deb.debian.org/debian bullseye/main amd64 libjsoncpp24 amd64 1.9.4-4 [78.9 kB]\\nGet:52 http://deb.debian.org/debian bullseye/main amd64 librhash0 amd64 1.4.1-2 [129 kB]\\nGet:53 http://deb.debian.org/debian bullseye/main amd64 libuv1 amd64 1.40.0-2 [132 kB]\\nGet:54 http://deb.debian.org/debian bullseye/main amd64 cmake amd64 3.18.4-2+deb11u1 [5593 kB]\\nGet:55 http://deb.debian.org/debian bullseye/main amd64 libassuan0 amd64 2.5.3-7.1 [50.5 kB]\\nGet:56 http://deb.debian.org/debian bullseye/main amd64 gpgconf amd64 2.2.27-2+deb11u2 [548 kB]\\nGet:57 http://deb.debian.org/debian bullseye/main amd64 libksba8 amd64 1.5.0-3+deb11u2 [123 kB]\\nGet:58 http://deb.debian.org/debian bullseye/main amd64 libnpth0 amd64 1.6-3 [19.0 kB]\\nGet:59 http://deb.debian.org/debian bullseye/main amd64 dirmngr amd64 2.2.27-2+deb11u2 [763 kB]\\nGet:60 http://deb.debian.org/debian bullseye/main amd64 libfakeroot amd64 1.25.3-1.1 [47.0 kB]\\nGet:61 http://deb.debian.org/debian bullseye/main amd64 fakeroot amd64 1.25.3-1.1 [87.0 kB]\\nGet:62 http://deb.debian.org/debian bullseye/main amd64 fonts-dejavu-core all 2.37-2 [1069 kB]\\nGet:63 http://deb.debian.org/debian bullseye/main amd64 fontconfig-config all 2.13.1-4.2 [281 kB]\\nGet:64 http://deb.debian.org/debian bullseye/main amd64 gnupg-l10n all 2.2.27-2+deb11u2 [1086 kB]\\nGet:65 http://deb.debian.org/debian bullseye/main amd64 gnupg-utils amd64 2.2.27-2+deb11u2 [905 kB]\\nGet:66 http://deb.debian.org/debian bullseye/main amd64 gpg amd64 2.2.27-2+deb11u2 [928 kB]\\nGet:67 http://deb.debian.org/debian bullseye/main amd64 pinentry-curses amd64 1.1.0-4 [64.9 kB]\\nGet:68 http://deb.debian.org/debian bullseye/main amd64 gpg-agent amd64 2.2.27-2+deb11u2 [669 kB]\\nGet:69 http://deb.debian.org/debian bullseye/main amd64 gpg-wks-client amd64 2.2.27-2+deb11u2 [524 kB]\\nGet:70 http://deb.debian.org/debian bullseye/main amd64 gpg-wks-server amd64 2.2.27-2+deb11u2 [516 kB]\\nGet:71 http://deb.debian.org/debian bullseye/main amd64 gpgsm amd64 2.2.27-2+deb11u2 [645 kB]\\nGet:72 http://deb.debian.org/debian bullseye/main amd64 gnupg all 2.2.27-2+deb11u2 [825 kB]\\nGet:73 http://deb.debian.org/debian bullseye/main amd64 libalgorithm-diff-perl all 1.201-1 [43.3 kB]\\nGet:74 http://deb.debian.org/debian bullseye/main amd64 libalgorithm-diff-xs-perl amd64 0.04-6+b1 [12.0 kB]\\nGet:75 http://deb.debian.org/debian bullseye/main amd64 libalgorithm-merge-perl all 0.08-3 [12.7 kB]\\nGet:76 http://deb.debian.org/debian bullseye/main amd64 libpng16-16 amd64 1.6.37-3 [294 kB]\\nGet:77 http://deb.debian.org/debian bullseye/main amd64 libfreetype6 amd64 2.10.4+dfsg-1+deb11u1 [418 kB]\\nGet:78 http://deb.debian.org/debian bullseye/main amd64 libfontconfig1 amd64 2.13.1-4.2 [347 kB]\\nGet:79 http://deb.debian.org/debian bullseye/main amd64 libjpeg62-turbo amd64 1:2.0.6-4 [151 kB]\\nGet:80 http://deb.debian.org/debian bullseye/main amd64 libdeflate0 amd64 1.7-1 [53.1 kB]\\nGet:81 http://deb.debian.org/debian bullseye/main amd64 libjbig0 amd64 2.1-3.1+b2 [31.0 kB]\\nGet:82 http://deb.debian.org/debian bullseye/main amd64 libtiff5 amd64 4.2.0-1+deb11u4 [290 kB]\\nGet:83 http://deb.debian.org/debian bullseye/main amd64 libxpm4 amd64 1:3.5.12-1.1~deb11u1 [49.6 kB]\\nGet:84 http://deb.debian.org/debian bullseye/main amd64 libgd3 amd64 2.3.0-2 [137 kB]\\nGet:85 http://deb.debian.org/debian bullseye/main amd64 libc-devtools amd64 2.31-13+deb11u6 [246 kB]\\nGet:86 http://deb.debian.org/debian bullseye/main amd64 libfile-fcntllock-perl amd64 0.22-3+b7 [35.5 kB]\\nGet:87 http://deb.debian.org/debian bullseye/main amd64 manpages-dev all 5.10-1 [2309 kB]\\ndebconf: delaying package configuration, since apt-utils is not installed\\nFetched 98.3 MB in 1s (171 MB/s)\\n(Reading database ... \\r(Reading database ... 5%\\r(Reading database ... 10%\\r(Reading database ... 15%\\r(Reading database ... 20%\\r(Reading database ... 25%\\r(Reading database ... 30%\\r(Reading database ... 35%\\r(Reading database ... 40%\\r(Reading database ... 45%\\r(Reading database ... 50%\\r(Reading database ... 55%\\r(Reading database ... 60%\\r(Reading database ... 65%\\r(Reading database ... 70%\\r(Reading database ... 75%\\r(Reading database ... 80%\\r(Reading database ... 85%\\r(Reading database ... 90%\\r(Reading database ... 95%\\r(Reading database ... 100%\\r(Reading database ... 12441 files and directories currently installed.)\\r\\nPreparing to unpack .../libc6_2.31-13+deb11u6_amd64.deb ...\\r\\ndebconf: unable to initialize frontend: Dialog\\r\\ndebconf: (TERM is not set, so the dialog frontend is not usable.)\\r\\ndebconf: falling back to frontend: Readline\\r\\ndebconf: unable to initialize frontend: Dialog\\r\\ndebconf: (TERM is not set, so the dialog frontend is not usable.)\\r\\ndebconf: falling back to frontend: Readline\\r\\nUnpacking libc6:amd64 (2.31-13+deb11u6) over (2.31-13+deb11u3) ...\\r\\nSetting up libc6:amd64 (2.31-13+deb11u6) ...\\r\\ndebconf: unable to initialize frontend: Dialog\\r\\ndebconf: (TERM is not set, so the dialog frontend is not usable.)\\r\\ndebconf: falling back to frontend: Readline\\r\\nSelecting previously unselected package liblocale-gettext-perl.\\r\\n(Reading database ... \\r(Reading database ... 5%\\r(Reading database ... 10%\\r(Reading database ... 15%\\r(Reading database ... 20%\\r(Reading database ... 25%\\r(Reading database ... 30%\\r(Reading database ... 35%\\r(Reading database ... 40%\\r(Reading database ... 45%\\r(Reading database ... 50%\\r(Reading database ... 55%\\r(Reading database ... 60%\\r(Reading database ... 65%\\r(Reading database ... 70%\\r(Reading database ... 75%\\r(Reading database ... 80%\\r(Reading database ... 85%\\r(Reading database ... 90%\\r(Reading database ... 95%\\r(Reading database ... 100%\\r(Reading database ... 12441 files and directories currently installed.)\\r\\nPreparing to unpack .../liblocale-gettext-perl_1.07-4+b1_amd64.deb ...\\r\\nUnpacking liblocale-gettext-perl (1.07-4+b1) ...\\r\\nPreparing to unpack .../gpgv_2.2.27-2+deb11u2_amd64.deb ...\\r\\nUnpacking gpgv (2.2.27-2+deb11u2) over (2.2.27-2+deb11u1) ...\\r\\nSetting up gpgv (2.2.27-2+deb11u2) ...\\r\\n(Reading database ... \\r(Reading database ... 5%\\r(Reading database ... 10%\\r(Reading database ... 15%\\r(Reading database ... 20%\\r(Reading database ... 25%\\r(Reading database ... 30%\\r(Reading database ... 35%\\r(Reading database ... 40%\\r(Reading database ... 45%\\r(Reading database ... 50%\\r(Reading database ... 55%\\r(Reading database ... 60%\\r(Reading database ... 65%\\r(Reading database ... 70%\\r(Reading database ... 75%\\r(Reading database ... 80%\\r(Reading database ... 85%\\r(Reading database ... 90%\\r(Reading database ... 95%\\r(Reading database ... 100%\\r(Reading database ... 12456 files and directories currently installed.)\\r\\nPreparing to unpack .../libtirpc-common_1.3.1-1+deb11u1_all.deb ...\\r\\nUnpacking libtirpc-common (1.3.1-1+deb11u1) over (1.3.1-1) ...\\r\\nSetting up libtirpc-common (1.3.1-1+deb11u1) ...\\r\\n(Reading database ... \\r(Reading database ... 5%\\r(Reading database ... 10%\\r(Reading database ... 15%\\r(Reading database ... 20%\\r(Reading database ... 25%\\r(Reading database ... 30%\\r(Reading database ... 35%\\r(Reading database ... 40%\\r(Reading database ... 45%\\r(Reading database ... 50%\\r(Reading database ... 55%\\r(Reading database ... 60%\\r(Reading database ... 65%\\r(Reading database ... 70%\\r(Reading database ... 75%\\r(Reading database ... 80%\\r(Reading database ... 85%\\r(Reading database ... 90%\\r(Reading database ... 95%\\r(Reading database ... 100%\\r(Reading database ... 12456 files and directories currently installed.)\\r\\nPreparing to unpack .../libtirpc3_1.3.1-1+deb11u1_amd64.deb ...\\r\\nUnpacking libtirpc3:amd64 (1.3.1-1+deb11u1) over (1.3.1-1) ...\\r\\nSetting up libtirpc3:amd64 (1.3.1-1+deb11u1) ...\\r\\nSelecting previously unselected package manpages.\\r\\n(Reading database ... \\r(Reading database ... 5%\\r(Reading database ... 10%\\r(Reading database ... 15%\\r(Reading database ... 20%\\r(Reading database ... 25%\\r(Reading database ... 30%\\r(Reading database ... 35%\\r(Reading database ... 40%\\r(Reading database ... 45%\\r(Reading database ... 50%\\r(Reading database ... 55%\\r(Reading database ... 60%\\r(Reading database ... 65%\\r(Reading database ... 70%\\r(Reading database ... 75%\\r(Reading database ... 80%\\r(Reading database ... 85%\\r(Reading database ... 90%\\r(Reading database ... 95%\\r(Reading database ... 100%\\r(Reading database ... 12456 files and directories currently installed.)\\r\\nPreparing to unpack .../00-manpages_5.10-1_all.deb ...\\r\\nUnpacking manpages (5.10-1) ...\\r\\nSelecting previously unselected package xz-utils.\\r\\nPreparing to unpack .../01-xz-utils_5.2.5-2.1~deb11u1_amd64.deb ...\\r\\nUnpacking xz-utils (5.2.5-2.1~deb11u1) ...\\r\\nSelecting previously unselected package binutils-common:amd64.\\r\\nPreparing to unpack .../02-binutils-common_2.35.2-2_amd64.deb ...\\r\\nUnpacking binutils-common:amd64 (2.35.2-2) ...\\r\\nSelecting previously unselected package libbinutils:amd64.\\r\\nPreparing to unpack .../03-libbinutils_2.35.2-2_amd64.deb ...\\r\\nUnpacking libbinutils:amd64 (2.35.2-2) ...\\r\\nSelecting previously unselected package libctf-nobfd0:amd64.\\r\\nPreparing to unpack .../04-libctf-nobfd0_2.35.2-2_amd64.deb ...\\r\\nUnpacking libctf-nobfd0:amd64 (2.35.2-2) ...\\r\\nSelecting previously unselected package libctf0:amd64.\\r\\nPreparing to unpack .../05-libctf0_2.35.2-2_amd64.deb ...\\r\\nUnpacking libctf0:amd64 (2.35.2-2) ...\\r\\nSelecting previously unselected package binutils-x86-64-linux-gnu.\\r\\nPreparing to unpack .../06-binutils-x86-64-linux-gnu_2.35.2-2_amd64.deb ...\\r\\nUnpacking binutils-x86-64-linux-gnu (2.35.2-2) ...\\r\\nSelecting previously unselected package binutils.\\r\\nPreparing to unpack .../07-binutils_2.35.2-2_amd64.deb ...\\r\\nUnpacking binutils (2.35.2-2) ...\\r\\nSelecting previously unselected package libc-dev-bin.\\r\\nPreparing to unpack .../08-libc-dev-bin_2.31-13+deb11u6_amd64.deb ...\\r\\nUnpacking libc-dev-bin (2.31-13+deb11u6) ...\\r\\nSelecting previously unselected package linux-libc-dev:amd64.\\r\\nPreparing to unpack .../09-linux-libc-dev_5.10.179-1_amd64.deb ...\\r\\nUnpacking linux-libc-dev:amd64 (5.10.179-1) ...\\r\\nSelecting previously unselected package libcrypt-dev:amd64.\\r\\nPreparing to unpack .../10-libcrypt-dev_1%3a4.4.18-4_amd64.deb ...\\r\\nUnpacking libcrypt-dev:amd64 (1:4.4.18-4) ...\\r\\nSelecting previously unselected package libtirpc-dev:amd64.\\r\\nPreparing to unpack .../11-libtirpc-dev_1.3.1-1+deb11u1_amd64.deb ...\\r\\nUnpacking libtirpc-dev:amd64 (1.3.1-1+deb11u1) ...\\r\\nSelecting previously unselected package libnsl-dev:amd64.\\r\\nPreparing to unpack .../12-libnsl-dev_1.3.0-2_amd64.deb ...\\r\\nUnpacking libnsl-dev:amd64 (1.3.0-2) ...\\r\\nSelecting previously unselected package libc6-dev:amd64.\\r\\nPreparing to unpack .../13-libc6-dev_2.31-13+deb11u6_amd64.deb ...\\r\\nUnpacking libc6-dev:amd64 (2.31-13+deb11u6) ...\\r\\nSelecting previously unselected package libisl23:amd64.\\r\\nPreparing to unpack .../14-libisl23_0.23-1_amd64.deb ...\\r\\nUnpacking libisl23:amd64 (0.23-1) ...\\r\\nSelecting previously unselected package libmpfr6:amd64.\\r\\nPreparing to unpack .../15-libmpfr6_4.1.0-3_amd64.deb ...\\r\\nUnpacking libmpfr6:amd64 (4.1.0-3) ...\\r\\nSelecting previously unselected package libmpc3:amd64.\\r\\nPreparing to unpack .../16-libmpc3_1.2.0-1_amd64.deb ...\\r\\nUnpacking libmpc3:amd64 (1.2.0-1) ...\\r\\nSelecting previously unselected package cpp-10.\\r\\nPreparing to unpack .../17-cpp-10_10.2.1-6_amd64.deb ...\\r\\nUnpacking cpp-10 (10.2.1-6) ...\\r\\nSelecting previously unselected package cpp.\\r\\nPreparing to unpack .../18-cpp_4%3a10.2.1-1_amd64.deb ...\\r\\nUnpacking cpp (4:10.2.1-1) ...\\r\\nSelecting previously unselected package libcc1-0:amd64.\\r\\nPreparing to unpack .../19-libcc1-0_10.2.1-6_amd64.deb ...\\r\\nUnpacking libcc1-0:amd64 (10.2.1-6) ...\\r\\nSelecting previously unselected package libgomp1:amd64.\\r\\nPreparing to unpack .../20-libgomp1_10.2.1-6_amd64.deb ...\\r\\nUnpacking libgomp1:amd64 (10.2.1-6) ...\\r\\nSelecting previously unselected package libitm1:amd64.\\r\\nPreparing to unpack .../21-libitm1_10.2.1-6_amd64.deb ...\\r\\nUnpacking libitm1:amd64 (10.2.1-6) ...\\r\\nSelecting previously unselected package libatomic1:amd64.\\r\\nPreparing to unpack .../22-libatomic1_10.2.1-6_amd64.deb ...\\r\\nUnpacking libatomic1:amd64 (10.2.1-6) ...\\r\\nSelecting previously unselected package libasan6:amd64.\\r\\nPreparing to unpack .../23-libasan6_10.2.1-6_amd64.deb ...\\r\\nUnpacking libasan6:amd64 (10.2.1-6) ...\\r\\nSelecting previously unselected package liblsan0:amd64.\\r\\nPreparing to unpack .../24-liblsan0_10.2.1-6_amd64.deb ...\\r\\nUnpacking liblsan0:amd64 (10.2.1-6) ...\\r\\nSelecting previously unselected package libtsan0:amd64.\\r\\nPreparing to unpack .../25-libtsan0_10.2.1-6_amd64.deb ...\\r\\nUnpacking libtsan0:amd64 (10.2.1-6) ...\\r\\nSelecting previously unselected package libubsan1:amd64.\\r\\nPreparing to unpack .../26-libubsan1_10.2.1-6_amd64.deb ...\\r\\nUnpacking libubsan1:amd64 (10.2.1-6) ...\\r\\nSelecting previously unselected package libquadmath0:amd64.\\r\\nPreparing to unpack .../27-libquadmath0_10.2.1-6_amd64.deb ...\\r\\nUnpacking libquadmath0:amd64 (10.2.1-6) ...\\r\\nSelecting previously unselected package libgcc-10-dev:amd64.\\r\\nPreparing to unpack .../28-libgcc-10-dev_10.2.1-6_amd64.deb ...\\r\\nUnpacking libgcc-10-dev:amd64 (10.2.1-6) ...\\r\\nSelecting previously unselected package gcc-10.\\r\\nPreparing to unpack .../29-gcc-10_10.2.1-6_amd64.deb ...\\r\\nUnpacking gcc-10 (10.2.1-6) ...\\r\\nSelecting previously unselected package gcc.\\r\\nPreparing to unpack .../30-gcc_4%3a10.2.1-1_amd64.deb ...\\r\\nUnpacking gcc (4:10.2.1-1) ...\\r\\nSelecting previously unselected package libstdc++-10-dev:amd64.\\r\\nPreparing to unpack .../31-libstdc++-10-dev_10.2.1-6_amd64.deb ...\\r\\nUnpacking libstdc++-10-dev:amd64 (10.2.1-6) ...\\r\\nSelecting previously unselected package g++-10.\\r\\nPreparing to unpack .../32-g++-10_10.2.1-6_amd64.deb ...\\r\\nUnpacking g++-10 (10.2.1-6) ...\\r\\nSelecting previously unselected package g++.\\r\\nPreparing to unpack .../33-g++_4%3a10.2.1-1_amd64.deb ...\\r\\nUnpacking g++ (4:10.2.1-1) ...\\r\\nSelecting previously unselected package make.\\r\\nPreparing to unpack .../34-make_4.3-4.1_amd64.deb ...\\r\\nUnpacking make (4.3-4.1) ...\\r\\nSelecting previously unselected package libdpkg-perl.\\r\\nPreparing to unpack .../35-libdpkg-perl_1.20.12_all.deb ...\\r\\nUnpacking libdpkg-perl (1.20.12) ...\\r\\nSelecting previously unselected package patch.\\r\\nPreparing to unpack .../36-patch_2.7.6-7_amd64.deb ...\\r\\nUnpacking patch (2.7.6-7) ...\\r\\nSelecting previously unselected package dpkg-dev.\\r\\nPreparing to unpack .../37-dpkg-dev_1.20.12_all.deb ...\\r\\nUnpacking dpkg-dev (1.20.12) ...\\r\\nSelecting previously unselected package build-essential.\\r\\nPreparing to unpack .../38-build-essential_12.9_amd64.deb ...\\r\\nUnpacking build-essential (12.9) ...\\r\\nSelecting previously unselected package cmake-data.\\r\\nPreparing to unpack .../39-cmake-data_3.18.4-2+deb11u1_all.deb ...\\r\\nUnpacking cmake-data (3.18.4-2+deb11u1) ...\\r\\nSelecting previously unselected package libicu67:amd64.\\r\\nPreparing to unpack .../40-libicu67_67.1-7_amd64.deb ...\\r\\nUnpacking libicu67:amd64 (67.1-7) ...\\r\\nSelecting previously unselected package libxml2:amd64.\\r\\nPreparing to unpack .../41-libxml2_2.9.10+dfsg-6.7+deb11u4_amd64.deb ...\\r\\nUnpacking libxml2:amd64 (2.9.10+dfsg-6.7+deb11u4) ...\\r\\nSelecting previously unselected package libarchive13:amd64.\\r\\nPreparing to unpack .../42-libarchive13_3.4.3-2+deb11u1_amd64.deb ...\\r\\nUnpacking libarchive13:amd64 (3.4.3-2+deb11u1) ...\\r\\nSelecting previously unselected package libcurl4:amd64.\\r\\nPreparing to unpack .../43-libcurl4_7.74.0-1.3+deb11u7_amd64.deb ...\\r\\nUnpacking libcurl4:amd64 (7.74.0-1.3+deb11u7) ...\\r\\nSelecting previously unselected package libjsoncpp24:amd64.\\r\\nPreparing to unpack .../44-libjsoncpp24_1.9.4-4_amd64.deb ...\\r\\nUnpacking libjsoncpp24:amd64 (1.9.4-4) ...\\r\\nSelecting previously unselected package librhash0:amd64.\\r\\nPreparing to unpack .../45-librhash0_1.4.1-2_amd64.deb ...\\r\\nUnpacking librhash0:amd64 (1.4.1-2) ...\\r\\nSelecting previously unselected package libuv1:amd64.\\r\\nPreparing to unpack .../46-libuv1_1.40.0-2_amd64.deb ...\\r\\nUnpacking libuv1:amd64 (1.40.0-2) ...\\r\\nSelecting previously unselected package cmake.\\r\\nPreparing to unpack .../47-cmake_3.18.4-2+deb11u1_amd64.deb ...\\r\\nUnpacking cmake (3.18.4-2+deb11u1) ...\\r\\nSelecting previously unselected package libassuan0:amd64.\\r\\nPreparing to unpack .../48-libassuan0_2.5.3-7.1_amd64.deb ...\\r\\nUnpacking libassuan0:amd64 (2.5.3-7.1) ...\\r\\nSelecting previously unselected package gpgconf.\\r\\nPreparing to unpack .../49-gpgconf_2.2.27-2+deb11u2_amd64.deb ...\\r\\nUnpacking gpgconf (2.2.27-2+deb11u2) ...\\r\\nSelecting previously unselected package libksba8:amd64.\\r\\nPreparing to unpack .../50-libksba8_1.5.0-3+deb11u2_amd64.deb ...\\r\\nUnpacking libksba8:amd64 (1.5.0-3+deb11u2) ...\\r\\nSelecting previously unselected package libnpth0:amd64.\\r\\nPreparing to unpack .../51-libnpth0_1.6-3_amd64.deb ...\\r\\nUnpacking libnpth0:amd64 (1.6-3) ...\\r\\nSelecting previously unselected package dirmngr.\\r\\nPreparing to unpack .../52-dirmngr_2.2.27-2+deb11u2_amd64.deb ...\\r\\nUnpacking dirmngr (2.2.27-2+deb11u2) ...\\r\\nSelecting previously unselected package libfakeroot:amd64.\\r\\nPreparing to unpack .../53-libfakeroot_1.25.3-1.1_amd64.deb ...\\r\\nUnpacking libfakeroot:amd64 (1.25.3-1.1) ...\\r\\nSelecting previously unselected package fakeroot.\\r\\nPreparing to unpack .../54-fakeroot_1.25.3-1.1_amd64.deb ...\\r\\nUnpacking fakeroot (1.25.3-1.1) ...\\r\\nSelecting previously unselected package fonts-dejavu-core.\\r\\nPreparing to unpack .../55-fonts-dejavu-core_2.37-2_all.deb ...\\r\\nUnpacking fonts-dejavu-core (2.37-2) ...\\r\\nSelecting previously unselected package fontconfig-config.\\r\\nPreparing to unpack .../56-fontconfig-config_2.13.1-4.2_all.deb ...\\r\\nUnpacking fontconfig-config (2.13.1-4.2) ...\\r\\nSelecting previously unselected package gnupg-l10n.\\r\\nPreparing to unpack .../57-gnupg-l10n_2.2.27-2+deb11u2_all.deb ...\\r\\nUnpacking gnupg-l10n (2.2.27-2+deb11u2) ...\\r\\nSelecting previously unselected package gnupg-utils.\\r\\nPreparing to unpack .../58-gnupg-utils_2.2.27-2+deb11u2_amd64.deb ...\\r\\nUnpacking gnupg-utils (2.2.27-2+deb11u2) ...\\r\\nSelecting previously unselected package gpg.\\r\\nPreparing to unpack .../59-gpg_2.2.27-2+deb11u2_amd64.deb ...\\r\\nUnpacking gpg (2.2.27-2+deb11u2) ...\\r\\nSelecting previously unselected package pinentry-curses.\\r\\nPreparing to unpack .../60-pinentry-curses_1.1.0-4_amd64.deb ...\\r\\nUnpacking pinentry-curses (1.1.0-4) ...\\r\\nSelecting previously unselected package gpg-agent.\\r\\nPreparing to unpack .../61-gpg-agent_2.2.27-2+deb11u2_amd64.deb ...\\r\\nUnpacking gpg-agent (2.2.27-2+deb11u2) ...\\r\\nSelecting previously unselected package gpg-wks-client.\\r\\nPreparing to unpack .../62-gpg-wks-client_2.2.27-2+deb11u2_amd64.deb ...\\r\\nUnpacking gpg-wks-client (2.2.27-2+deb11u2) ...\\r\\nSelecting previously unselected package gpg-wks-server.\\r\\nPreparing to unpack .../63-gpg-wks-server_2.2.27-2+deb11u2_amd64.deb ...\\r\\nUnpacking gpg-wks-server (2.2.27-2+deb11u2) ...\\r\\nSelecting previously unselected package gpgsm.\\r\\nPreparing to unpack .../64-gpgsm_2.2.27-2+deb11u2_amd64.deb ...\\r\\nUnpacking gpgsm (2.2.27-2+deb11u2) ...\\r\\nSelecting previously unselected package gnupg.\\r\\nPreparing to unpack .../65-gnupg_2.2.27-2+deb11u2_all.deb ...\\r\\nUnpacking gnupg (2.2.27-2+deb11u2) ...\\r\\nSelecting previously unselected package libalgorithm-diff-perl.\\r\\nPreparing to unpack .../66-libalgorithm-diff-perl_1.201-1_all.deb ...\\r\\nUnpacking libalgorithm-diff-perl (1.201-1) ...\\r\\nSelecting previously unselected package libalgorithm-diff-xs-perl.\\r\\nPreparing to unpack .../67-libalgorithm-diff-xs-perl_0.04-6+b1_amd64.deb ...\\r\\nUnpacking libalgorithm-diff-xs-perl (0.04-6+b1) ...\\r\\nSelecting previously unselected package libalgorithm-merge-perl.\\r\\nPreparing to unpack .../68-libalgorithm-merge-perl_0.08-3_all.deb ...\\r\\nUnpacking libalgorithm-merge-perl (0.08-3) ...\\r\\nSelecting previously unselected package libpng16-16:amd64.\\r\\nPreparing to unpack .../69-libpng16-16_1.6.37-3_amd64.deb ...\\r\\nUnpacking libpng16-16:amd64 (1.6.37-3) ...\\r\\nSelecting previously unselected package libfreetype6:amd64.\\r\\nPreparing to unpack .../70-libfreetype6_2.10.4+dfsg-1+deb11u1_amd64.deb ...\\r\\nUnpacking libfreetype6:amd64 (2.10.4+dfsg-1+deb11u1) ...\\r\\nSelecting previously unselected package libfontconfig1:amd64.\\r\\nPreparing to unpack .../71-libfontconfig1_2.13.1-4.2_amd64.deb ...\\r\\nUnpacking libfontconfig1:amd64 (2.13.1-4.2) ...\\r\\nSelecting previously unselected package libjpeg62-turbo:amd64.\\r\\nPreparing to unpack .../72-libjpeg62-turbo_1%3a2.0.6-4_amd64.deb ...\\r\\nUnpacking libjpeg62-turbo:amd64 (1:2.0.6-4) ...\\r\\nSelecting previously unselected package libdeflate0:amd64.\\r\\nPreparing to unpack .../73-libdeflate0_1.7-1_amd64.deb ...\\r\\nUnpacking libdeflate0:amd64 (1.7-1) ...\\r\\nSelecting previously unselected package libjbig0:amd64.\\r\\nPreparing to unpack .../74-libjbig0_2.1-3.1+b2_amd64.deb ...\\r\\nUnpacking libjbig0:amd64 (2.1-3.1+b2) ...\\r\\nSelecting previously unselected package libwebp6:amd64.\\r\\nPreparing to unpack .../75-libwebp6_0.6.1-2.1+deb11u1_amd64.deb ...\\r\\nUnpacking libwebp6:amd64 (0.6.1-2.1+deb11u1) ...\\r\\nSelecting previously unselected package libtiff5:amd64.\\r\\nPreparing to unpack .../76-libtiff5_4.2.0-1+deb11u4_amd64.deb ...\\r\\nUnpacking libtiff5:amd64 (4.2.0-1+deb11u4) ...\\r\\nSelecting previously unselected package libxpm4:amd64.\\r\\nPreparing to unpack .../77-libxpm4_1%3a3.5.12-1.1~deb11u1_amd64.deb ...\\r\\nUnpacking libxpm4:amd64 (1:3.5.12-1.1~deb11u1) ...\\r\\nSelecting previously unselected package libgd3:amd64.\\r\\nPreparing to unpack .../78-libgd3_2.3.0-2_amd64.deb ...\\r\\nUnpacking libgd3:amd64 (2.3.0-2) ...\\r\\nSelecting previously unselected package libc-devtools.\\r\\nPreparing to unpack .../79-libc-devtools_2.31-13+deb11u6_amd64.deb ...\\r\\nUnpacking libc-devtools (2.31-13+deb11u6) ...\\r\\nSelecting previously unselected package libfile-fcntllock-perl.\\r\\nPreparing to unpack .../80-libfile-fcntllock-perl_0.22-3+b7_amd64.deb ...\\r\\nUnpacking libfile-fcntllock-perl (0.22-3+b7) ...\\r\\nSelecting previously unselected package manpages-dev.\\r\\nPreparing to unpack .../81-manpages-dev_5.10-1_all.deb ...\\r\\nUnpacking manpages-dev (5.10-1) ...\\r\\nSetting up libksba8:amd64 (1.5.0-3+deb11u2) ...\\r\\nSetting up libxpm4:amd64 (1:3.5.12-1.1~deb11u1) ...\\r\\nSetting up libicu67:amd64 (67.1-7) ...\\r\\nSetting up libfile-fcntllock-perl (0.22-3+b7) ...\\r\\nSetting up libalgorithm-diff-perl (1.201-1) ...\\r\\nSetting up manpages (5.10-1) ...\\r\\nSetting up binutils-common:amd64 (2.35.2-2) ...\\r\\nSetting up libdeflate0:amd64 (1.7-1) ...\\r\\nSetting up linux-libc-dev:amd64 (5.10.179-1) ...\\r\\nSetting up libctf-nobfd0:amd64 (2.35.2-2) ...\\r\\nSetting up libnpth0:amd64 (1.6-3) ...\\r\\nSetting up libassuan0:amd64 (2.5.3-7.1) ...\\r\\nSetting up libgomp1:amd64 (10.2.1-6) ...\\r\\nSetting up libjbig0:amd64 (2.1-3.1+b2) ...\\r\\nSetting up libfakeroot:amd64 (1.25.3-1.1) ...\\r\\nSetting up libasan6:amd64 (10.2.1-6) ...\\r\\nSetting up fakeroot (1.25.3-1.1) ...\\r\\nupdate-alternatives: using /usr/bin/fakeroot-sysv to provide /usr/bin/fakeroot (fakeroot) in auto mode\\r\\nupdate-alternatives: warning: skip creation of /usr/share/man/man1/fakeroot.1.gz because associated file /usr/share/man/man1/fakeroot-sysv.1.gz (of link group fakeroot) doesn\\'t exist\\r\\nupdate-alternatives: warning: skip creation of /usr/share/man/man1/faked.1.gz because associated file /usr/share/man/man1/faked-sysv.1.gz (of link group fakeroot) doesn\\'t exist\\r\\nupdate-alternatives: warning: skip creation of /usr/share/man/es/man1/fakeroot.1.gz because associated file /usr/share/man/es/man1/fakeroot-sysv.1.gz (of link group fakeroot) doesn\\'t exist\\r\\nupdate-alternatives: warning: skip creation of /usr/share/man/es/man1/faked.1.gz because associated file /usr/share/man/es/man1/faked-sysv.1.gz (of link group fakeroot) doesn\\'t exist\\r\\nupdate-alternatives: warning: skip creation of /usr/share/man/fr/man1/fakeroot.1.gz because associated file /usr/share/man/fr/man1/fakeroot-sysv.1.gz (of link group fakeroot) doesn\\'t exist\\r\\nupdate-alternatives: warning: skip creation of /usr/share/man/fr/man1/faked.1.gz because associated file /usr/share/man/fr/man1/faked-sysv.1.gz (of link group fakeroot) doesn\\'t exist\\r\\nupdate-alternatives: warning: skip creation of /usr/share/man/sv/man1/fakeroot.1.gz because associated file /usr/share/man/sv/man1/fakeroot-sysv.1.gz (of link group fakeroot) doesn\\'t exist\\r\\nupdate-alternatives: warning: skip creation of /usr/share/man/sv/man1/faked.1.gz because associated file /usr/share/man/sv/man1/faked-sysv.1.gz (of link group fakeroot) doesn\\'t exist\\r\\nSetting up libtirpc-dev:amd64 (1.3.1-1+deb11u1) ...\\r\\nSetting up libuv1:amd64 (1.40.0-2) ...\\r\\nSetting up libjpeg62-turbo:amd64 (1:2.0.6-4) ...\\r\\nSetting up make (4.3-4.1) ...\\r\\nSetting up libmpfr6:amd64 (4.1.0-3) ...\\r\\nSetting up gnupg-l10n (2.2.27-2+deb11u2) ...\\r\\nSetting up xz-utils (5.2.5-2.1~deb11u1) ...\\r\\nupdate-alternatives: using /usr/bin/xz to provide /usr/bin/lzma (lzma) in auto mode\\r\\nupdate-alternatives: warning: skip creation of /usr/share/man/man1/lzma.1.gz because associated file /usr/share/man/man1/xz.1.gz (of link group lzma) doesn\\'t exist\\r\\nupdate-alternatives: warning: skip creation of /usr/share/man/man1/unlzma.1.gz because associated file /usr/share/man/man1/unxz.1.gz (of link group lzma) doesn\\'t exist\\r\\nupdate-alternatives: warning: skip creation of /usr/share/man/man1/lzcat.1.gz because associated file /usr/share/man/man1/xzcat.1.gz (of link group lzma) doesn\\'t exist\\r\\nupdate-alternatives: warning: skip creation of /usr/share/man/man1/lzmore.1.gz because associated file /usr/share/man/man1/xzmore.1.gz (of link group lzma) doesn\\'t exist\\r\\nupdate-alternatives: warning: skip creation of /usr/share/man/man1/lzless.1.gz because associated file /usr/share/man/man1/xzless.1.gz (of link group lzma) doesn\\'t exist\\r\\nupdate-alternatives: warning: skip creation of /usr/share/man/man1/lzdiff.1.gz because associated file /usr/share/man/man1/xzdiff.1.gz (of link group lzma) doesn\\'t exist\\r\\nupdate-alternatives: warning: skip creation of /usr/share/man/man1/lzcmp.1.gz because associated file /usr/share/man/man1/xzcmp.1.gz (of link group lzma) doesn\\'t exist\\r\\nupdate-alternatives: warning: skip creation of /usr/share/man/man1/lzgrep.1.gz because associated file /usr/share/man/man1/xzgrep.1.gz (of link group lzma) doesn\\'t exist\\r\\nupdate-alternatives: warning: skip creation of /usr/share/man/man1/lzegrep.1.gz because associated file /usr/share/man/man1/xzegrep.1.gz (of link group lzma) doesn\\'t exist\\r\\nupdate-alternatives: warning: skip creation of /usr/share/man/man1/lzfgrep.1.gz because associated file /usr/share/man/man1/xzfgrep.1.gz (of link group lzma) doesn\\'t exist\\r\\nSetting up libquadmath0:amd64 (10.2.1-6) ...\\r\\nSetting up libpng16-16:amd64 (1.6.37-3) ...\\r\\nSetting up libmpc3:amd64 (1.2.0-1) ...\\r\\nSetting up libatomic1:amd64 (10.2.1-6) ...\\r\\nSetting up patch (2.7.6-7) ...\\r\\nSetting up libwebp6:amd64 (0.6.1-2.1+deb11u1) ...\\r\\nSetting up fonts-dejavu-core (2.37-2) ...\\r\\nSetting up libdpkg-perl (1.20.12) ...\\r\\nSetting up libjsoncpp24:amd64 (1.9.4-4) ...\\r\\nSetting up libubsan1:amd64 (10.2.1-6) ...\\r\\nSetting up libnsl-dev:amd64 (1.3.0-2) ...\\r\\nSetting up librhash0:amd64 (1.4.1-2) ...\\r\\nSetting up libcrypt-dev:amd64 (1:4.4.18-4) ...\\r\\nSetting up gpgconf (2.2.27-2+deb11u2) ...\\r\\nSetting up libcurl4:amd64 (7.74.0-1.3+deb11u7) ...\\r\\nSetting up cmake-data (3.18.4-2+deb11u1) ...\\r\\nSetting up libtiff5:amd64 (4.2.0-1+deb11u4) ...\\r\\nSetting up libbinutils:amd64 (2.35.2-2) ...\\r\\nSetting up libisl23:amd64 (0.23-1) ...\\r\\nSetting up libc-dev-bin (2.31-13+deb11u6) ...\\r\\nSetting up libalgorithm-diff-xs-perl (0.04-6+b1) ...\\r\\nSetting up libxml2:amd64 (2.9.10+dfsg-6.7+deb11u4) ...\\r\\nSetting up libcc1-0:amd64 (10.2.1-6) ...\\r\\nSetting up liblocale-gettext-perl (1.07-4+b1) ...\\r\\nSetting up gpg (2.2.27-2+deb11u2) ...\\r\\nSetting up liblsan0:amd64 (10.2.1-6) ...\\r\\nSetting up cpp-10 (10.2.1-6) ...\\r\\nSetting up libitm1:amd64 (10.2.1-6) ...\\r\\nSetting up libalgorithm-merge-perl (0.08-3) ...\\r\\nSetting up gnupg-utils (2.2.27-2+deb11u2) ...\\r\\nSetting up libtsan0:amd64 (10.2.1-6) ...\\r\\nSetting up libctf0:amd64 (2.35.2-2) ...\\r\\nSetting up pinentry-curses (1.1.0-4) ...\\r\\nSetting up manpages-dev (5.10-1) ...\\r\\nSetting up gpg-agent (2.2.27-2+deb11u2) ...\\r\\nSetting up libarchive13:amd64 (3.4.3-2+deb11u1) ...\\r\\nSetting up fontconfig-config (2.13.1-4.2) ...\\r\\ndebconf: unable to initialize frontend: Dialog\\r\\ndebconf: (TERM is not set, so the dialog frontend is not usable.)\\r\\ndebconf: falling back to frontend: Readline\\r\\nSetting up libgcc-10-dev:amd64 (10.2.1-6) ...\\r\\nSetting up gpgsm (2.2.27-2+deb11u2) ...\\r\\nSetting up dirmngr (2.2.27-2+deb11u2) ...\\r\\nSetting up libfreetype6:amd64 (2.10.4+dfsg-1+deb11u1) ...\\r\\nSetting up gpg-wks-server (2.2.27-2+deb11u2) ...\\r\\nSetting up cpp (4:10.2.1-1) ...\\r\\nSetting up cmake (3.18.4-2+deb11u1) ...\\r\\nSetting up libc6-dev:amd64 (2.31-13+deb11u6) ...\\r\\nSetting up libfontconfig1:amd64 (2.13.1-4.2) ...\\r\\nSetting up binutils-x86-64-linux-gnu (2.35.2-2) ...\\r\\nSetting up libstdc++-10-dev:amd64 (10.2.1-6) ...\\r\\nSetting up gpg-wks-client (2.2.27-2+deb11u2) ...\\r\\nSetting up binutils (2.35.2-2) ...\\r\\nSetting up dpkg-dev (1.20.12) ...\\r\\nSetting up libgd3:amd64 (2.3.0-2) ...\\r\\nSetting up gcc-10 (10.2.1-6) ...\\r\\nSetting up gnupg (2.2.27-2+deb11u2) ...\\r\\nSetting up libc-devtools (2.31-13+deb11u6) ...\\r\\nSetting up g++-10 (10.2.1-6) ...\\r\\nSetting up gcc (4:10.2.1-1) ...\\r\\nSetting up g++ (4:10.2.1-1) ...\\r\\nupdate-alternatives: using /usr/bin/g++ to provide /usr/bin/c++ (c++) in auto mode\\r\\nSetting up build-essential (12.9) ...\\r\\nProcessing triggers for libc-bin (2.31-13+deb11u3) ...\\r\\n\\x1b[36mINFO\\x1b[0m[0027] Taking snapshot of files...                  \\n\\x1b[36mINFO\\x1b[0m[0033] ENV CONDA_ENV chassis-env                    \\n\\x1b[36mINFO\\x1b[0m[0033] COPY flavours/${MODEL_CLASS}/${MODEL_DIR}/conda.yaml ./conda.yaml \\n\\x1b[36mINFO\\x1b[0m[0033] Taking snapshot of files...                  \\n\\x1b[36mINFO\\x1b[0m[0033] RUN conda env create --name $CONDA_ENV --file ./conda.yaml \\n\\x1b[36mINFO\\x1b[0m[0034] cmd: /bin/sh                                 \\n\\x1b[36mINFO\\x1b[0m[0034] args: [-c conda env create --name $CONDA_ENV --file ./conda.yaml] \\n\\x1b[36mINFO\\x1b[0m[0034] Running: [/bin/sh -c conda env create --name $CONDA_ENV --file ./conda.yaml] \\nCollecting package metadata (repodata.json): ...working... done\\nSolving environment: ...working... done\\n\\n\\n==> WARNING: A newer version of conda exists. <==\\n  current version: 4.12.0\\n  latest version: 23.5.0\\n\\nPlease update conda by running\\n\\n    $ conda update -n base -c defaults conda\\n\\n\\n\\nDownloading and Extracting Packages\\n\\rtzdata-2023c         | 115 KB    |            |   0% \\rtzdata-2023c         | 115 KB    | ########## | 100% \\rtzdata-2023c         | 115 KB    | ########## | 100% \\n\\r_libgcc_mutex-0.1    | 3 KB      |            |   0% \\r_libgcc_mutex-0.1    | 3 KB      | ########## | 100% \\n\\rlibnsl-2.0.0         | 31 KB     |            |   0% \\rlibnsl-2.0.0         | 31 KB     | ########## | 100% \\n\\rpython-3.10.12       | 24.4 MB   |            |   0% \\rpython-3.10.12       | 24.4 MB   | ####6      |  47% \\rpython-3.10.12       | 24.4 MB   | ########## | 100% \\rpython-3.10.12       | 24.4 MB   | ########## | 100% \\n\\rbzip2-1.0.8          | 484 KB    |            |   0% \\rbzip2-1.0.8          | 484 KB    | ########## | 100% \\n\\rlibsqlite-3.42.0     | 809 KB    |            |   0% \\rlibsqlite-3.42.0     | 809 KB    | ########## | 100% \\n\\rlibgcc-ng-13.1.0     | 758 KB    |            |   0% \\rlibgcc-ng-13.1.0     | 758 KB    | ########## | 100% \\n\\rsetuptools-68.0.0    | 453 KB    |            |   0% \\rsetuptools-68.0.0    | 453 KB    | ########## | 100% \\n\\rlibffi-3.4.2         | 57 KB     |            |   0% \\rlibffi-3.4.2         | 57 KB     | ########## | 100% \\n\\rlibgomp-13.1.0       | 409 KB    |            |   0% \\rlibgomp-13.1.0       | 409 KB    | ########## | 100% \\n\\rxz-5.2.6             | 409 KB    |            |   0% \\rxz-5.2.6             | 409 KB    | ########## | 100% \\rxz-5.2.6             | 409 KB    | ########## | 100% \\n\\rwheel-0.40.0         | 54 KB     |            |   0% \\rwheel-0.40.0         | 54 KB     | ########## | 100% \\n\\rtk-8.6.12            | 3.3 MB    |            |   0% \\rtk-8.6.12            | 3.3 MB    | ########## | 100% \\rtk-8.6.12            | 3.3 MB    | ########## | 100% \\n\\rld_impl_linux-64-2.4 | 688 KB    |            |   0% \\rld_impl_linux-64-2.4 | 688 KB    | ########## | 100% \\n\\rlibzlib-1.2.13       | 60 KB     |            |   0% \\rlibzlib-1.2.13       | 60 KB     | ########## | 100% \\n\\ropenssl-3.1.1        | 2.5 MB    |            |   0% \\ropenssl-3.1.1        | 2.5 MB    | ########## | 100% \\n\\r_openmp_mutex-4.5    | 23 KB     |            |   0% \\r_openmp_mutex-4.5    | 23 KB     | ########## | 100% \\n\\rca-certificates-2023 | 145 KB    |            |   0% \\rca-certificates-2023 | 145 KB    | ########## | 100% \\n\\rlibuuid-2.38.1       | 33 KB     |            |   0% \\rlibuuid-2.38.1       | 33 KB     | ########## | 100% \\n\\rreadline-8.2         | 275 KB    |            |   0% \\rreadline-8.2         | 275 KB    | ########## | 100% \\n\\rpip-23.1.2           | 1.3 MB    |            |   0% \\rpip-23.1.2           | 1.3 MB    | ########## | 100% \\n\\rncurses-6.4          | 860 KB    |            |   0% \\rncurses-6.4          | 860 KB    | ########## | 100% \\rncurses-6.4          | 860 KB    | ########## | 100% \\nPreparing transaction: ...working... done\\nVerifying transaction: ...working... done\\nExecuting transaction: ...working... done\\nInstalling pip dependencies: ...working... Ran pip subprocess with arguments:\\n[\\'/opt/conda/envs/chassis-env/bin/python\\', \\'-m\\', \\'pip\\', \\'install\\', \\'-U\\', \\'-r\\', \\'/app/condaenv.53_0pqm9.requirements.txt\\']\\nPip subprocess output:\\nCollecting mlflow==2.4 (from -r /app/condaenv.53_0pqm9.requirements.txt (line 1))\\n  Downloading mlflow-2.4.0-py3-none-any.whl (18.1 MB)\\nPip subprocess error:\\nERROR: Cannot install -r /app/condaenv.53_0pqm9.requirements.txt (line 1), -r /app/condaenv.53_0pqm9.requirements.txt (line 2), -r /app/condaenv.53_0pqm9.requirements.txt (line 5) and protobuf==3.19.4 because these package versions have conflicting dependencies.\\nERROR: ResolutionImpossible: for help visit https://pip.pypa.io/en/latest/topics/dependency-resolution/#dealing-with-dependency-conflicts\\n\\n     ━━━━━━━━━━━━━━━━━━━━━━━━━━━━━━━━━━━━━━━━ 18.1/18.1 MB 71.5 MB/s eta 0:00:00\\nCollecting chassisml==1.4.13 (from -r /app/condaenv.53_0pqm9.requirements.txt (line 2))\\n  Downloading chassisml-1.4.13-py3-none-any.whl (35 kB)\\nCollecting cloudpickle==2.2.1 (from -r /app/condaenv.53_0pqm9.requirements.txt (line 3))\\n  Downloading cloudpickle-2.2.1-py3-none-any.whl (25 kB)\\nCollecting docker==6.1.3 (from -r /app/condaenv.53_0pqm9.requirements.txt (line 4))\\n  Downloading docker-6.1.3-py3-none-any.whl (148 kB)\\n     ━━━━━━━━━━━━━━━━━━━━━━━━━━━━━━━━━━━━━━ 148.1/148.1 kB 44.6 MB/s eta 0:00:00\\nCollecting google-cloud-bigquery-connection==1.12.0 (from -r /app/condaenv.53_0pqm9.requirements.txt (line 5))\\n  Downloading google_cloud_bigquery_connection-1.12.0-py2.py3-none-any.whl (56 kB)\\n     ━━━━━━━━━━━━━━━━━━━━━━━━━━━━━━━━━━━━━━━━ 56.6/56.6 kB 21.7 MB/s eta 0:00:00\\nCollecting google-cloud-bigquery-storage==2.20.0 (from -r /app/condaenv.53_0pqm9.requirements.txt (line 6))\\n  Downloading google_cloud_bigquery_storage-2.20.0-py2.py3-none-any.whl (190 kB)\\n     ━━━━━━━━━━━━━━━━━━━━━━━━━━━━━━━━━━━━━━ 190.6/190.6 kB 49.6 MB/s eta 0:00:00\\nCollecting google-cloud-bigquery==3.10.0 (from -r /app/condaenv.53_0pqm9.requirements.txt (line 7))\\n  Downloading google_cloud_bigquery-3.10.0-py2.py3-none-any.whl (218 kB)\\n     ━━━━━━━━━━━━━━━━━━━━━━━━━━━━━━━━━━━━━━ 218.4/218.4 kB 57.4 MB/s eta 0:00:00\\nCollecting google-cloud-datastore==2.15.2 (from -r /app/condaenv.53_0pqm9.requirements.txt (line 8))\\n  Downloading google_cloud_datastore-2.15.2-py2.py3-none-any.whl (175 kB)\\n     ━━━━━━━━━━━━━━━━━━━━━━━━━━━━━━━━━━━━━━ 175.4/175.4 kB 51.3 MB/s eta 0:00:00\\nCollecting google-cloud-firestore==2.11.1 (from -r /app/condaenv.53_0pqm9.requirements.txt (line 9))\\n  Downloading google_cloud_firestore-2.11.1-py2.py3-none-any.whl (283 kB)\\n     ━━━━━━━━━━━━━━━━━━━━━━━━━━━━━━━━━━━━━━ 283.8/283.8 kB 61.6 MB/s eta 0:00:00\\nCollecting google-cloud-functions==1.13.0 (from -r /app/condaenv.53_0pqm9.requirements.txt (line 10))\\n  Downloading google_cloud_functions-1.13.0-py2.py3-none-any.whl (129 kB)\\n     ━━━━━━━━━━━━━━━━━━━━━━━━━━━━━━━━━━━━━━ 129.0/129.0 kB 40.4 MB/s eta 0:00:00\\nCollecting google-cloud-language==2.9.1 (from -r /app/condaenv.53_0pqm9.requirements.txt (line 11))\\n  Downloading google_cloud_language-2.9.1-py2.py3-none-any.whl (99 kB)\\n     ━━━━━━━━━━━━━━━━━━━━━━━━━━━━━━━━━━━━━━━━ 99.2/99.2 kB 34.0 MB/s eta 0:00:00\\nCollecting google-cloud-translate==3.11.1 (from -r /app/condaenv.53_0pqm9.requirements.txt (line 12))\\n  Downloading google_cloud_translate-3.11.1-py2.py3-none-any.whl (128 kB)\\n     ━━━━━━━━━━━━━━━━━━━━━━━━━━━━━━━━━━━━━━ 128.4/128.4 kB 37.3 MB/s eta 0:00:00\\nCollecting numpy==1.22.4 (from -r /app/condaenv.53_0pqm9.requirements.txt (line 13))\\n  Downloading numpy-1.22.4-cp310-cp310-manylinux_2_17_x86_64.manylinux2014_x86_64.whl (16.8 MB)\\n     ━━━━━━━━━━━━━━━━━━━━━━━━━━━━━━━━━━━━━━━━ 16.8/16.8 MB 82.6 MB/s eta 0:00:00\\nCollecting opencv-contrib-python==4.7.0.72 (from -r /app/condaenv.53_0pqm9.requirements.txt (line 14))\\n  Downloading opencv_contrib_python-4.7.0.72-cp37-abi3-manylinux_2_17_x86_64.manylinux2014_x86_64.whl (67.9 MB)\\n     ━━━━━━━━━━━━━━━━━━━━━━━━━━━━━━━━━━━━━━━━ 67.9/67.9 MB 28.7 MB/s eta 0:00:00\\nCollecting opencv-python-headless==4.7.0.72 (from -r /app/condaenv.53_0pqm9.requirements.txt (line 15))\\n  Downloading opencv_python_headless-4.7.0.72-cp37-abi3-manylinux_2_17_x86_64.manylinux2014_x86_64.whl (49.2 MB)\\n     ━━━━━━━━━━━━━━━━━━━━━━━━━━━━━━━━━━━━━━━━ 49.2/49.2 MB 43.9 MB/s eta 0:00:00\\nCollecting packaging==23.1 (from -r /app/condaenv.53_0pqm9.requirements.txt (line 16))\\n  Downloading packaging-23.1-py3-none-any.whl (48 kB)\\n     ━━━━━━━━━━━━━━━━━━━━━━━━━━━━━━━━━━━━━━━━ 48.9/48.9 kB 17.9 MB/s eta 0:00:00\\nCollecting pathlib==1.0.1 (from -r /app/condaenv.53_0pqm9.requirements.txt (line 17))\\n  Downloading pathlib-1.0.1-py3-none-any.whl (14 kB)\\nCollecting protobuf==3.19.4 (from -r /app/condaenv.53_0pqm9.requirements.txt (line 18))\\n  Downloading protobuf-3.19.4-cp310-cp310-manylinux_2_17_x86_64.manylinux2014_x86_64.whl (1.1 MB)\\n     ━━━━━━━━━━━━━━━━━━━━━━━━━━━━━━━━━━━━━━━━ 1.1/1.1 MB 117.1 MB/s eta 0:00:00\\nCollecting pyyaml==6.0 (from -r /app/condaenv.53_0pqm9.requirements.txt (line 19))\\n  Downloading PyYAML-6.0-cp310-cp310-manylinux_2_5_x86_64.manylinux1_x86_64.manylinux_2_12_x86_64.manylinux2010_x86_64.whl (682 kB)\\n     ━━━━━━━━━━━━━━━━━━━━━━━━━━━━━━━━━━━━━ 682.2/682.2 kB 100.2 MB/s eta 0:00:00\\nCollecting requests==2.27.1 (from -r /app/condaenv.53_0pqm9.requirements.txt (line 20))\\n  Downloading requests-2.27.1-py2.py3-none-any.whl (63 kB)\\n     ━━━━━━━━━━━━━━━━━━━━━━━━━━━━━━━━━━━━━━━━ 63.1/63.1 kB 24.5 MB/s eta 0:00:00\\nCollecting scikit-learn==1.2.2 (from -r /app/condaenv.53_0pqm9.requirements.txt (line 21))\\n  Downloading scikit_learn-1.2.2-cp310-cp310-manylinux_2_17_x86_64.manylinux2014_x86_64.whl (9.6 MB)\\n     ━━━━━━━━━━━━━━━━━━━━━━━━━━━━━━━━━━━━━━━━ 9.6/9.6 MB 111.6 MB/s eta 0:00:00\\nCollecting scipy==1.10.1 (from -r /app/condaenv.53_0pqm9.requirements.txt (line 22))\\n  Downloading scipy-1.10.1-cp310-cp310-manylinux_2_17_x86_64.manylinux2014_x86_64.whl (34.4 MB)\\n     ━━━━━━━━━━━━━━━━━━━━━━━━━━━━━━━━━━━━━━━━ 34.4/34.4 MB 51.7 MB/s eta 0:00:00\\nCollecting click<9,>=7.0 (from mlflow==2.4->-r /app/condaenv.53_0pqm9.requirements.txt (line 1))\\n  Downloading click-8.1.3-py3-none-any.whl (96 kB)\\n     ━━━━━━━━━━━━━━━━━━━━━━━━━━━━━━━━━━━━━━━━ 96.6/96.6 kB 34.9 MB/s eta 0:00:00\\nCollecting databricks-cli<1,>=0.8.7 (from mlflow==2.4->-r /app/condaenv.53_0pqm9.requirements.txt (line 1))\\n  Downloading databricks-cli-0.17.7.tar.gz (83 kB)\\n     ━━━━━━━━━━━━━━━━━━━━━━━━━━━━━━━━━━━━━━━━ 83.5/83.5 kB 31.4 MB/s eta 0:00:00\\n  Preparing metadata (setup.py): started\\n  Preparing metadata (setup.py): finished with status \\'done\\'\\nCollecting entrypoints<1 (from mlflow==2.4->-r /app/condaenv.53_0pqm9.requirements.txt (line 1))\\n  Downloading entrypoints-0.4-py3-none-any.whl (5.3 kB)\\nCollecting gitpython<4,>=2.1.0 (from mlflow==2.4->-r /app/condaenv.53_0pqm9.requirements.txt (line 1))\\n  Downloading GitPython-3.1.31-py3-none-any.whl (184 kB)\\n     ━━━━━━━━━━━━━━━━━━━━━━━━━━━━━━━━━━━━━━ 184.3/184.3 kB 48.6 MB/s eta 0:00:00\\nCollecting pytz<2024 (from mlflow==2.4->-r /app/condaenv.53_0pqm9.requirements.txt (line 1))\\n  Downloading pytz-2023.3-py2.py3-none-any.whl (502 kB)\\n     ━━━━━━━━━━━━━━━━━━━━━━━━━━━━━━━━━━━━━━ 502.3/502.3 kB 90.6 MB/s eta 0:00:00\\nCollecting importlib-metadata!=4.7.0,<7,>=3.7.0 (from mlflow==2.4->-r /app/condaenv.53_0pqm9.requirements.txt (line 1))\\n  Downloading importlib_metadata-6.7.0-py3-none-any.whl (22 kB)\\nCollecting sqlparse<1,>=0.4.0 (from mlflow==2.4->-r /app/condaenv.53_0pqm9.requirements.txt (line 1))\\n  Downloading sqlparse-0.4.4-py3-none-any.whl (41 kB)\\n     ━━━━━━━━━━━━━━━━━━━━━━━━━━━━━━━━━━━━━━━━ 41.2/41.2 kB 14.4 MB/s eta 0:00:00\\nCollecting alembic!=1.10.0,<2 (from mlflow==2.4->-r /app/condaenv.53_0pqm9.requirements.txt (line 1))\\n  Downloading alembic-1.11.1-py3-none-any.whl (224 kB)\\n     ━━━━━━━━━━━━━━━━━━━━━━━━━━━━━━━━━━━━━━ 224.5/224.5 kB 55.9 MB/s eta 0:00:00\\nCollecting Flask<3 (from mlflow==2.4->-r /app/condaenv.53_0pqm9.requirements.txt (line 1))\\n  Downloading Flask-2.3.2-py3-none-any.whl (96 kB)\\n     ━━━━━━━━━━━━━━━━━━━━━━━━━━━━━━━━━━━━━━━━ 96.9/96.9 kB 35.2 MB/s eta 0:00:00\\nCollecting pandas<3 (from mlflow==2.4->-r /app/condaenv.53_0pqm9.requirements.txt (line 1))\\n  Downloading pandas-2.0.3-cp310-cp310-manylinux_2_17_x86_64.manylinux2014_x86_64.whl (12.3 MB)\\n     ━━━━━━━━━━━━━━━━━━━━━━━━━━━━━━━━━━━━━━━ 12.3/12.3 MB 119.5 MB/s eta 0:00:00\\nCollecting querystring-parser<2 (from mlflow==2.4->-r /app/condaenv.53_0pqm9.requirements.txt (line 1))\\n  Downloading querystring_parser-1.2.4-py2.py3-none-any.whl (7.9 kB)\\nCollecting sqlalchemy<3,>=1.4.0 (from mlflow==2.4->-r /app/condaenv.53_0pqm9.requirements.txt (line 1))\\n  Downloading SQLAlchemy-2.0.17-cp310-cp310-manylinux_2_17_x86_64.manylinux2014_x86_64.whl (2.7 MB)\\n     ━━━━━━━━━━━━━━━━━━━━━━━━━━━━━━━━━━━━━━━━ 2.7/2.7 MB 112.2 MB/s eta 0:00:00\\nCollecting pyarrow<13,>=4.0.0 (from mlflow==2.4->-r /app/condaenv.53_0pqm9.requirements.txt (line 1))\\n  Downloading pyarrow-12.0.1-cp310-cp310-manylinux_2_17_x86_64.manylinux2014_x86_64.whl (38.9 MB)\\n     ━━━━━━━━━━━━━━━━━━━━━━━━━━━━━━━━━━━━━━━━ 38.9/38.9 MB 49.8 MB/s eta 0:00:00\\nCollecting markdown<4,>=3.3 (from mlflow==2.4->-r /app/condaenv.53_0pqm9.requirements.txt (line 1))\\n  Downloading Markdown-3.4.3-py3-none-any.whl (93 kB)\\n     ━━━━━━━━━━━━━━━━━━━━━━━━━━━━━━━━━━━━━━━━ 93.9/93.9 kB 33.0 MB/s eta 0:00:00\\nCollecting matplotlib<4 (from mlflow==2.4->-r /app/condaenv.53_0pqm9.requirements.txt (line 1))\\n  Downloading matplotlib-3.7.1-cp310-cp310-manylinux_2_17_x86_64.manylinux2014_x86_64.whl (11.6 MB)\\n     ━━━━━━━━━━━━━━━━━━━━━━━━━━━━━━━━━━━━━━━ 11.6/11.6 MB 101.4 MB/s eta 0:00:00\\nCollecting gunicorn<21 (from mlflow==2.4->-r /app/condaenv.53_0pqm9.requirements.txt (line 1))\\n  Downloading gunicorn-20.1.0-py3-none-any.whl (79 kB)\\n     ━━━━━━━━━━━━━━━━━━━━━━━━━━━━━━━━━━━━━━━━ 79.5/79.5 kB 28.8 MB/s eta 0:00:00\\nCollecting Jinja2<4,>=2.11 (from mlflow==2.4->-r /app/condaenv.53_0pqm9.requirements.txt (line 1))\\n  Downloading Jinja2-3.1.2-py3-none-any.whl (133 kB)\\n     ━━━━━━━━━━━━━━━━━━━━━━━━━━━━━━━━━━━━━━ 133.1/133.1 kB 42.9 MB/s eta 0:00:00\\nCollecting validators (from chassisml==1.4.13->-r /app/condaenv.53_0pqm9.requirements.txt (line 2))\\n  Downloading validators-0.20.0.tar.gz (30 kB)\\n  Preparing metadata (setup.py): started\\n  Preparing metadata (setup.py): finished with status \\'done\\'\\nCollecting grpc-requests (from chassisml==1.4.13->-r /app/condaenv.53_0pqm9.requirements.txt (line 2))\\n  Downloading grpc_requests-0.1.10-py3-none-any.whl (28 kB)\\nCollecting grpcio (from chassisml==1.4.13->-r /app/condaenv.53_0pqm9.requirements.txt (line 2))\\n  Downloading grpcio-1.56.0-cp310-cp310-manylinux_2_17_x86_64.manylinux2014_x86_64.whl (5.2 MB)\\n     ━━━━━━━━━━━━━━━━━━━━━━━━━━━━━━━━━━━━━━━━ 5.2/5.2 MB 137.7 MB/s eta 0:00:00\\nCollecting urllib3>=1.26.0 (from docker==6.1.3->-r /app/condaenv.53_0pqm9.requirements.txt (line 4))\\n  Downloading urllib3-2.0.3-py3-none-any.whl (123 kB)\\n     ━━━━━━━━━━━━━━━━━━━━━━━━━━━━━━━━━━━━━━ 123.6/123.6 kB 42.2 MB/s eta 0:00:00\\nCollecting websocket-client>=0.32.0 (from docker==6.1.3->-r /app/condaenv.53_0pqm9.requirements.txt (line 4))\\n  Downloading websocket_client-1.6.1-py3-none-any.whl (56 kB)\\n     ━━━━━━━━━━━━━━━━━━━━━━━━━━━━━━━━━━━━━━━━ 56.9/56.9 kB 22.2 MB/s eta 0:00:00\\nCollecting google-api-core[grpc]!=2.0.*,!=2.1.*,!=2.10.*,!=2.2.*,!=2.3.*,!=2.4.*,!=2.5.*,!=2.6.*,!=2.7.*,!=2.8.*,!=2.9.*,<3.0.0dev,>=1.34.0 (from google-cloud-bigquery-connection==1.12.0->-r /app/condaenv.53_0pqm9.requirements.txt (line 5))\\n  Downloading google_api_core-2.11.1-py3-none-any.whl (120 kB)\\n     ━━━━━━━━━━━━━━━━━━━━━━━━━━━━━━━━━━━━━━ 120.5/120.5 kB 37.1 MB/s eta 0:00:00\\nCollecting proto-plus<2.0.0dev,>=1.22.0 (from google-cloud-bigquery-connection==1.12.0->-r /app/condaenv.53_0pqm9.requirements.txt (line 5))\\n  Downloading proto_plus-1.22.3-py3-none-any.whl (48 kB)\\n     ━━━━━━━━━━━━━━━━━━━━━━━━━━━━━━━━━━━━━━━━ 48.1/48.1 kB 17.5 MB/s eta 0:00:00\\nINFO: pip is looking at multiple versions of google-cloud-bigquery-connection to determine which version is compatible with other requirements. This could take a while.\\n\\nThe conflict is caused by:\\n    The user requested protobuf==3.19.4\\n    mlflow 2.4.0 depends on protobuf<5 and >=3.12.0\\n    chassisml 1.4.13 depends on protobuf==3.19.4\\n    google-cloud-bigquery-connection 1.12.0 depends on protobuf!=3.20.0, !=3.20.1, !=4.21.0, !=4.21.1, !=4.21.2, !=4.21.3, !=4.21.4, !=4.21.5, <5.0.0dev and >=3.19.5\\n\\nTo fix this you could try to:\\n1. loosen the range of package versions you\\'ve specified\\n2. remove package versions to allow pip attempt to solve the dependency conflict\\n\\n\\nfailed\\n\\nCondaEnvException: Pip failed\\n\\nerror building image: error building stage: failed to execute command: waiting for process to exit: exit status 1\\n', 'result': None, 'status': {'active': None, 'completion_time': None, 'conditions': [{'last_probe_time': 'Mon, 03 Jul 2023 19:02:49 GMT', 'last_transition_time': 'Mon, 03 Jul 2023 19:02:49 GMT', 'message': 'Job has reached the specified backoff limit', 'reason': 'BackoffLimitExceeded', 'status': 'True', 'type': 'Failed'}], 'failed': 1, 'start_time': 'Mon, 03 Jul 2023 19:00:37 GMT', 'succeeded': None}}\n"
          ]
        }
      ]
    },
    {
      "cell_type": "markdown",
      "source": [],
      "metadata": {
        "id": "bB7Q6u3OOPgi"
      }
    },
    {
      "cell_type": "code",
      "source": [
        "print(final_status)"
      ],
      "metadata": {
        "colab": {
          "base_uri": "https://localhost:8080/"
        },
        "id": "8_KMVBDaOIhq",
        "outputId": "9501d421-6dd6-45a4-f18e-4b23582513c7"
      },
      "execution_count": null,
      "outputs": [
        {
          "output_type": "stream",
          "name": "stdout",
          "text": [
            "{'logs': '\\x1b[36mINFO\\x1b[0m[0000] Retrieving image manifest continuumio/miniconda3:4.12.0 \\n\\x1b[36mINFO\\x1b[0m[0000] Retrieving image continuumio/miniconda3:4.12.0 from registry index.docker.io \\n\\x1b[36mINFO\\x1b[0m[0000] Built cross stage deps: map[]                \\n\\x1b[36mINFO\\x1b[0m[0000] Retrieving image manifest continuumio/miniconda3:4.12.0 \\n\\x1b[36mINFO\\x1b[0m[0000] Returning cached image manifest              \\n\\x1b[36mINFO\\x1b[0m[0000] Executing 0 build triggers                   \\n\\x1b[36mINFO\\x1b[0m[0000] Unpacking rootfs as cmd RUN apt-get update && apt-get install -y build-essential cmake requires it. \\n\\x1b[36mINFO\\x1b[0m[0005] Taking snapshot of full filesystem...        \\n\\x1b[36mINFO\\x1b[0m[0009] ARG MODEL_DIR                                \\n\\x1b[36mINFO\\x1b[0m[0009] ARG MODEL_NAME                               \\n\\x1b[36mINFO\\x1b[0m[0009] ARG MODEL_CLASS                              \\n\\x1b[36mINFO\\x1b[0m[0009] ARG INTERFACE                                \\n\\x1b[36mINFO\\x1b[0m[0009] ARG MODZY_METADATA_PATH                      \\n\\x1b[36mINFO\\x1b[0m[0009] LABEL ml.openmodel.interfaces=[\"${INTERFACE}\"] \\n\\x1b[36mINFO\\x1b[0m[0009] Applying label ml.openmodel.interfaces=[modzy] \\n\\x1b[36mINFO\\x1b[0m[0009] LABEL ml.openml.model_name=\"${MODEL_NAME}\"   \\n\\x1b[36mINFO\\x1b[0m[0009] Applying label ml.openml.model_name=Sample ML Model \\n\\x1b[36mINFO\\x1b[0m[0009] LABEL ml.openmodel.protocols=[[\"v2\"]]        \\n\\x1b[36mINFO\\x1b[0m[0009] Applying label ml.openmodel.protocols=[[v2]] \\n\\x1b[36mINFO\\x1b[0m[0009] LABEL ml.openmodel.port=\"45000\"              \\n\\x1b[36mINFO\\x1b[0m[0009] Applying label ml.openmodel.port=45000       \\n\\x1b[36mINFO\\x1b[0m[0009] WORKDIR /app                                 \\n\\x1b[36mINFO\\x1b[0m[0009] cmd: workdir                                 \\n\\x1b[36mINFO\\x1b[0m[0009] Changed working directory to /app            \\n\\x1b[36mINFO\\x1b[0m[0009] Creating directory /app                      \\n\\x1b[36mINFO\\x1b[0m[0009] Taking snapshot of files...                  \\n\\x1b[36mINFO\\x1b[0m[0009] RUN apt-get update && apt-get install -y build-essential cmake \\n\\x1b[36mINFO\\x1b[0m[0010] cmd: /bin/sh                                 \\n\\x1b[36mINFO\\x1b[0m[0010] args: [-c apt-get update && apt-get install -y build-essential cmake] \\n\\x1b[36mINFO\\x1b[0m[0010] Running: [/bin/sh -c apt-get update && apt-get install -y build-essential cmake] \\nGet:1 http://deb.debian.org/debian bullseye InRelease [116 kB]\\nGet:2 http://security.debian.org/debian-security bullseye-security InRelease [48.4 kB]\\nGet:3 http://deb.debian.org/debian bullseye-updates InRelease [44.1 kB]\\nGet:4 http://security.debian.org/debian-security bullseye-security/main amd64 Packages [246 kB]\\nGet:5 http://deb.debian.org/debian bullseye/main amd64 Packages [8183 kB]\\nGet:6 http://deb.debian.org/debian bullseye-updates/main amd64 Packages [14.8 kB]\\nFetched 8652 kB in 1s (7104 kB/s)\\nReading package lists...\\nReading package lists...\\nBuilding dependency tree...\\nReading state information...\\nThe following additional packages will be installed:\\n  binutils binutils-common binutils-x86-64-linux-gnu cmake-data cpp cpp-10\\n  dirmngr dpkg-dev fakeroot fontconfig-config fonts-dejavu-core g++ g++-10 gcc\\n  gcc-10 gnupg gnupg-l10n gnupg-utils gpg gpg-agent gpg-wks-client\\n  gpg-wks-server gpgconf gpgsm gpgv libalgorithm-diff-perl\\n  libalgorithm-diff-xs-perl libalgorithm-merge-perl libarchive13 libasan6\\n  libassuan0 libatomic1 libbinutils libc-dev-bin libc-devtools libc6 libc6-dev\\n  libcc1-0 libcrypt-dev libctf-nobfd0 libctf0 libcurl4 libdeflate0\\n  libdpkg-perl libfakeroot libfile-fcntllock-perl libfontconfig1 libfreetype6\\n  libgcc-10-dev libgd3 libgomp1 libicu67 libisl23 libitm1 libjbig0\\n  libjpeg62-turbo libjsoncpp24 libksba8 liblocale-gettext-perl liblsan0\\n  libmpc3 libmpfr6 libnpth0 libnsl-dev libpng16-16 libquadmath0 librhash0\\n  libstdc++-10-dev libtiff5 libtirpc-common libtirpc-dev libtirpc3 libtsan0\\n  libubsan1 libuv1 libwebp6 libxml2 libxpm4 linux-libc-dev make manpages\\n  manpages-dev patch pinentry-curses xz-utils\\nSuggested packages:\\n  binutils-doc cmake-doc ninja-build cpp-doc gcc-10-locales dbus-user-session\\n  libpam-systemd pinentry-gnome3 tor debian-keyring g++-multilib\\n  g++-10-multilib gcc-10-doc gcc-multilib autoconf automake libtool flex bison\\n  gdb gcc-doc gcc-10-multilib parcimonie xloadimage scdaemon lrzip glibc-doc\\n  libc-l10n locales bzr libgd-tools libstdc++-10-doc make-doc man-browser ed\\n  diffutils-doc pinentry-doc\\nRecommended packages:\\n  libnss-nis libnss-nisplus\\nThe following NEW packages will be installed:\\n  binutils binutils-common binutils-x86-64-linux-gnu build-essential cmake\\n  cmake-data cpp cpp-10 dirmngr dpkg-dev fakeroot fontconfig-config\\n  fonts-dejavu-core g++ g++-10 gcc gcc-10 gnupg gnupg-l10n gnupg-utils gpg\\n  gpg-agent gpg-wks-client gpg-wks-server gpgconf gpgsm libalgorithm-diff-perl\\n  libalgorithm-diff-xs-perl libalgorithm-merge-perl libarchive13 libasan6\\n  libassuan0 libatomic1 libbinutils libc-dev-bin libc-devtools libc6-dev\\n  libcc1-0 libcrypt-dev libctf-nobfd0 libctf0 libcurl4 libdeflate0\\n  libdpkg-perl libfakeroot libfile-fcntllock-perl libfontconfig1 libfreetype6\\n  libgcc-10-dev libgd3 libgomp1 libicu67 libisl23 libitm1 libjbig0\\n  libjpeg62-turbo libjsoncpp24 libksba8 liblocale-gettext-perl liblsan0\\n  libmpc3 libmpfr6 libnpth0 libnsl-dev libpng16-16 libquadmath0 librhash0\\n  libstdc++-10-dev libtiff5 libtirpc-dev libtsan0 libubsan1 libuv1 libwebp6\\n  libxml2 libxpm4 linux-libc-dev make manpages manpages-dev patch\\n  pinentry-curses xz-utils\\nThe following packages will be upgraded:\\n  gpgv libc6 libtirpc-common libtirpc3\\n4 upgraded, 83 newly installed, 0 to remove and 33 not upgraded.\\nNeed to get 98.3 MB of archives.\\nAfter this operation, 329 MB of additional disk space will be used.\\nGet:1 http://deb.debian.org/debian bullseye/main amd64 libc6 amd64 2.31-13+deb11u6 [2827 kB]\\nGet:2 http://security.debian.org/debian-security bullseye-security/main amd64 linux-libc-dev amd64 5.10.179-1 [1618 kB]\\nGet:3 http://security.debian.org/debian-security bullseye-security/main amd64 libwebp6 amd64 0.6.1-2.1+deb11u1 [258 kB]\\nGet:4 http://deb.debian.org/debian bullseye/main amd64 liblocale-gettext-perl amd64 1.07-4+b1 [19.0 kB]\\nGet:5 http://deb.debian.org/debian bullseye/main amd64 gpgv amd64 2.2.27-2+deb11u2 [626 kB]\\nGet:6 http://deb.debian.org/debian bullseye/main amd64 libtirpc-common all 1.3.1-1+deb11u1 [13.5 kB]\\nGet:7 http://deb.debian.org/debian bullseye/main amd64 libtirpc3 amd64 1.3.1-1+deb11u1 [84.1 kB]\\nGet:8 http://deb.debian.org/debian bullseye/main amd64 manpages all 5.10-1 [1412 kB]\\nGet:9 http://deb.debian.org/debian bullseye/main amd64 xz-utils amd64 5.2.5-2.1~deb11u1 [220 kB]\\nGet:10 http://deb.debian.org/debian bullseye/main amd64 binutils-common amd64 2.35.2-2 [2220 kB]\\nGet:11 http://deb.debian.org/debian bullseye/main amd64 libbinutils amd64 2.35.2-2 [570 kB]\\nGet:12 http://deb.debian.org/debian bullseye/main amd64 libctf-nobfd0 amd64 2.35.2-2 [110 kB]\\nGet:13 http://deb.debian.org/debian bullseye/main amd64 libctf0 amd64 2.35.2-2 [53.2 kB]\\nGet:14 http://deb.debian.org/debian bullseye/main amd64 binutils-x86-64-linux-gnu amd64 2.35.2-2 [1809 kB]\\nGet:15 http://deb.debian.org/debian bullseye/main amd64 binutils amd64 2.35.2-2 [61.2 kB]\\nGet:16 http://deb.debian.org/debian bullseye/main amd64 libc-dev-bin amd64 2.31-13+deb11u6 [276 kB]\\nGet:17 http://deb.debian.org/debian bullseye/main amd64 libcrypt-dev amd64 1:4.4.18-4 [104 kB]\\nGet:18 http://deb.debian.org/debian bullseye/main amd64 libtirpc-dev amd64 1.3.1-1+deb11u1 [191 kB]\\nGet:19 http://deb.debian.org/debian bullseye/main amd64 libnsl-dev amd64 1.3.0-2 [66.4 kB]\\nGet:20 http://deb.debian.org/debian bullseye/main amd64 libc6-dev amd64 2.31-13+deb11u6 [2360 kB]\\nGet:21 http://deb.debian.org/debian bullseye/main amd64 libisl23 amd64 0.23-1 [676 kB]\\nGet:22 http://deb.debian.org/debian bullseye/main amd64 libmpfr6 amd64 4.1.0-3 [2012 kB]\\nGet:23 http://deb.debian.org/debian bullseye/main amd64 libmpc3 amd64 1.2.0-1 [45.0 kB]\\nGet:24 http://deb.debian.org/debian bullseye/main amd64 cpp-10 amd64 10.2.1-6 [8528 kB]\\nGet:25 http://deb.debian.org/debian bullseye/main amd64 cpp amd64 4:10.2.1-1 [19.7 kB]\\nGet:26 http://deb.debian.org/debian bullseye/main amd64 libcc1-0 amd64 10.2.1-6 [47.0 kB]\\nGet:27 http://deb.debian.org/debian bullseye/main amd64 libgomp1 amd64 10.2.1-6 [99.9 kB]\\nGet:28 http://deb.debian.org/debian bullseye/main amd64 libitm1 amd64 10.2.1-6 [25.8 kB]\\nGet:29 http://deb.debian.org/debian bullseye/main amd64 libatomic1 amd64 10.2.1-6 [9008 B]\\nGet:30 http://deb.debian.org/debian bullseye/main amd64 libasan6 amd64 10.2.1-6 [2065 kB]\\nGet:31 http://deb.debian.org/debian bullseye/main amd64 liblsan0 amd64 10.2.1-6 [828 kB]\\nGet:32 http://deb.debian.org/debian bullseye/main amd64 libtsan0 amd64 10.2.1-6 [2000 kB]\\nGet:33 http://deb.debian.org/debian bullseye/main amd64 libubsan1 amd64 10.2.1-6 [777 kB]\\nGet:34 http://deb.debian.org/debian bullseye/main amd64 libquadmath0 amd64 10.2.1-6 [145 kB]\\nGet:35 http://deb.debian.org/debian bullseye/main amd64 libgcc-10-dev amd64 10.2.1-6 [2328 kB]\\nGet:36 http://deb.debian.org/debian bullseye/main amd64 gcc-10 amd64 10.2.1-6 [17.0 MB]\\nGet:37 http://deb.debian.org/debian bullseye/main amd64 gcc amd64 4:10.2.1-1 [5192 B]\\nGet:38 http://deb.debian.org/debian bullseye/main amd64 libstdc++-10-dev amd64 10.2.1-6 [1741 kB]\\nGet:39 http://deb.debian.org/debian bullseye/main amd64 g++-10 amd64 10.2.1-6 [9380 kB]\\nGet:40 http://deb.debian.org/debian bullseye/main amd64 g++ amd64 4:10.2.1-1 [1644 B]\\nGet:41 http://deb.debian.org/debian bullseye/main amd64 make amd64 4.3-4.1 [396 kB]\\nGet:42 http://deb.debian.org/debian bullseye/main amd64 libdpkg-perl all 1.20.12 [1551 kB]\\nGet:43 http://deb.debian.org/debian bullseye/main amd64 patch amd64 2.7.6-7 [128 kB]\\nGet:44 http://deb.debian.org/debian bullseye/main amd64 dpkg-dev all 1.20.12 [2312 kB]\\nGet:45 http://deb.debian.org/debian bullseye/main amd64 build-essential amd64 12.9 [7704 B]\\nGet:46 http://deb.debian.org/debian bullseye/main amd64 cmake-data all 3.18.4-2+deb11u1 [1725 kB]\\nGet:47 http://deb.debian.org/debian bullseye/main amd64 libicu67 amd64 67.1-7 [8622 kB]\\nGet:48 http://deb.debian.org/debian bullseye/main amd64 libxml2 amd64 2.9.10+dfsg-6.7+deb11u4 [693 kB]\\nGet:49 http://deb.debian.org/debian bullseye/main amd64 libarchive13 amd64 3.4.3-2+deb11u1 [343 kB]\\nGet:50 http://deb.debian.org/debian bullseye/main amd64 libcurl4 amd64 7.74.0-1.3+deb11u7 [346 kB]\\nGet:51 http://deb.debian.org/debian bullseye/main amd64 libjsoncpp24 amd64 1.9.4-4 [78.9 kB]\\nGet:52 http://deb.debian.org/debian bullseye/main amd64 librhash0 amd64 1.4.1-2 [129 kB]\\nGet:53 http://deb.debian.org/debian bullseye/main amd64 libuv1 amd64 1.40.0-2 [132 kB]\\nGet:54 http://deb.debian.org/debian bullseye/main amd64 cmake amd64 3.18.4-2+deb11u1 [5593 kB]\\nGet:55 http://deb.debian.org/debian bullseye/main amd64 libassuan0 amd64 2.5.3-7.1 [50.5 kB]\\nGet:56 http://deb.debian.org/debian bullseye/main amd64 gpgconf amd64 2.2.27-2+deb11u2 [548 kB]\\nGet:57 http://deb.debian.org/debian bullseye/main amd64 libksba8 amd64 1.5.0-3+deb11u2 [123 kB]\\nGet:58 http://deb.debian.org/debian bullseye/main amd64 libnpth0 amd64 1.6-3 [19.0 kB]\\nGet:59 http://deb.debian.org/debian bullseye/main amd64 dirmngr amd64 2.2.27-2+deb11u2 [763 kB]\\nGet:60 http://deb.debian.org/debian bullseye/main amd64 libfakeroot amd64 1.25.3-1.1 [47.0 kB]\\nGet:61 http://deb.debian.org/debian bullseye/main amd64 fakeroot amd64 1.25.3-1.1 [87.0 kB]\\nGet:62 http://deb.debian.org/debian bullseye/main amd64 fonts-dejavu-core all 2.37-2 [1069 kB]\\nGet:63 http://deb.debian.org/debian bullseye/main amd64 fontconfig-config all 2.13.1-4.2 [281 kB]\\nGet:64 http://deb.debian.org/debian bullseye/main amd64 gnupg-l10n all 2.2.27-2+deb11u2 [1086 kB]\\nGet:65 http://deb.debian.org/debian bullseye/main amd64 gnupg-utils amd64 2.2.27-2+deb11u2 [905 kB]\\nGet:66 http://deb.debian.org/debian bullseye/main amd64 gpg amd64 2.2.27-2+deb11u2 [928 kB]\\nGet:67 http://deb.debian.org/debian bullseye/main amd64 pinentry-curses amd64 1.1.0-4 [64.9 kB]\\nGet:68 http://deb.debian.org/debian bullseye/main amd64 gpg-agent amd64 2.2.27-2+deb11u2 [669 kB]\\nGet:69 http://deb.debian.org/debian bullseye/main amd64 gpg-wks-client amd64 2.2.27-2+deb11u2 [524 kB]\\nGet:70 http://deb.debian.org/debian bullseye/main amd64 gpg-wks-server amd64 2.2.27-2+deb11u2 [516 kB]\\nGet:71 http://deb.debian.org/debian bullseye/main amd64 gpgsm amd64 2.2.27-2+deb11u2 [645 kB]\\nGet:72 http://deb.debian.org/debian bullseye/main amd64 gnupg all 2.2.27-2+deb11u2 [825 kB]\\nGet:73 http://deb.debian.org/debian bullseye/main amd64 libalgorithm-diff-perl all 1.201-1 [43.3 kB]\\nGet:74 http://deb.debian.org/debian bullseye/main amd64 libalgorithm-diff-xs-perl amd64 0.04-6+b1 [12.0 kB]\\nGet:75 http://deb.debian.org/debian bullseye/main amd64 libalgorithm-merge-perl all 0.08-3 [12.7 kB]\\nGet:76 http://deb.debian.org/debian bullseye/main amd64 libpng16-16 amd64 1.6.37-3 [294 kB]\\nGet:77 http://deb.debian.org/debian bullseye/main amd64 libfreetype6 amd64 2.10.4+dfsg-1+deb11u1 [418 kB]\\nGet:78 http://deb.debian.org/debian bullseye/main amd64 libfontconfig1 amd64 2.13.1-4.2 [347 kB]\\nGet:79 http://deb.debian.org/debian bullseye/main amd64 libjpeg62-turbo amd64 1:2.0.6-4 [151 kB]\\nGet:80 http://deb.debian.org/debian bullseye/main amd64 libdeflate0 amd64 1.7-1 [53.1 kB]\\nGet:81 http://deb.debian.org/debian bullseye/main amd64 libjbig0 amd64 2.1-3.1+b2 [31.0 kB]\\nGet:82 http://deb.debian.org/debian bullseye/main amd64 libtiff5 amd64 4.2.0-1+deb11u4 [290 kB]\\nGet:83 http://deb.debian.org/debian bullseye/main amd64 libxpm4 amd64 1:3.5.12-1.1~deb11u1 [49.6 kB]\\nGet:84 http://deb.debian.org/debian bullseye/main amd64 libgd3 amd64 2.3.0-2 [137 kB]\\nGet:85 http://deb.debian.org/debian bullseye/main amd64 libc-devtools amd64 2.31-13+deb11u6 [246 kB]\\nGet:86 http://deb.debian.org/debian bullseye/main amd64 libfile-fcntllock-perl amd64 0.22-3+b7 [35.5 kB]\\nGet:87 http://deb.debian.org/debian bullseye/main amd64 manpages-dev all 5.10-1 [2309 kB]\\ndebconf: delaying package configuration, since apt-utils is not installed\\nFetched 98.3 MB in 1s (171 MB/s)\\n(Reading database ... \\r(Reading database ... 5%\\r(Reading database ... 10%\\r(Reading database ... 15%\\r(Reading database ... 20%\\r(Reading database ... 25%\\r(Reading database ... 30%\\r(Reading database ... 35%\\r(Reading database ... 40%\\r(Reading database ... 45%\\r(Reading database ... 50%\\r(Reading database ... 55%\\r(Reading database ... 60%\\r(Reading database ... 65%\\r(Reading database ... 70%\\r(Reading database ... 75%\\r(Reading database ... 80%\\r(Reading database ... 85%\\r(Reading database ... 90%\\r(Reading database ... 95%\\r(Reading database ... 100%\\r(Reading database ... 12441 files and directories currently installed.)\\r\\nPreparing to unpack .../libc6_2.31-13+deb11u6_amd64.deb ...\\r\\ndebconf: unable to initialize frontend: Dialog\\r\\ndebconf: (TERM is not set, so the dialog frontend is not usable.)\\r\\ndebconf: falling back to frontend: Readline\\r\\ndebconf: unable to initialize frontend: Dialog\\r\\ndebconf: (TERM is not set, so the dialog frontend is not usable.)\\r\\ndebconf: falling back to frontend: Readline\\r\\nUnpacking libc6:amd64 (2.31-13+deb11u6) over (2.31-13+deb11u3) ...\\r\\nSetting up libc6:amd64 (2.31-13+deb11u6) ...\\r\\ndebconf: unable to initialize frontend: Dialog\\r\\ndebconf: (TERM is not set, so the dialog frontend is not usable.)\\r\\ndebconf: falling back to frontend: Readline\\r\\nSelecting previously unselected package liblocale-gettext-perl.\\r\\n(Reading database ... \\r(Reading database ... 5%\\r(Reading database ... 10%\\r(Reading database ... 15%\\r(Reading database ... 20%\\r(Reading database ... 25%\\r(Reading database ... 30%\\r(Reading database ... 35%\\r(Reading database ... 40%\\r(Reading database ... 45%\\r(Reading database ... 50%\\r(Reading database ... 55%\\r(Reading database ... 60%\\r(Reading database ... 65%\\r(Reading database ... 70%\\r(Reading database ... 75%\\r(Reading database ... 80%\\r(Reading database ... 85%\\r(Reading database ... 90%\\r(Reading database ... 95%\\r(Reading database ... 100%\\r(Reading database ... 12441 files and directories currently installed.)\\r\\nPreparing to unpack .../liblocale-gettext-perl_1.07-4+b1_amd64.deb ...\\r\\nUnpacking liblocale-gettext-perl (1.07-4+b1) ...\\r\\nPreparing to unpack .../gpgv_2.2.27-2+deb11u2_amd64.deb ...\\r\\nUnpacking gpgv (2.2.27-2+deb11u2) over (2.2.27-2+deb11u1) ...\\r\\nSetting up gpgv (2.2.27-2+deb11u2) ...\\r\\n(Reading database ... \\r(Reading database ... 5%\\r(Reading database ... 10%\\r(Reading database ... 15%\\r(Reading database ... 20%\\r(Reading database ... 25%\\r(Reading database ... 30%\\r(Reading database ... 35%\\r(Reading database ... 40%\\r(Reading database ... 45%\\r(Reading database ... 50%\\r(Reading database ... 55%\\r(Reading database ... 60%\\r(Reading database ... 65%\\r(Reading database ... 70%\\r(Reading database ... 75%\\r(Reading database ... 80%\\r(Reading database ... 85%\\r(Reading database ... 90%\\r(Reading database ... 95%\\r(Reading database ... 100%\\r(Reading database ... 12456 files and directories currently installed.)\\r\\nPreparing to unpack .../libtirpc-common_1.3.1-1+deb11u1_all.deb ...\\r\\nUnpacking libtirpc-common (1.3.1-1+deb11u1) over (1.3.1-1) ...\\r\\nSetting up libtirpc-common (1.3.1-1+deb11u1) ...\\r\\n(Reading database ... \\r(Reading database ... 5%\\r(Reading database ... 10%\\r(Reading database ... 15%\\r(Reading database ... 20%\\r(Reading database ... 25%\\r(Reading database ... 30%\\r(Reading database ... 35%\\r(Reading database ... 40%\\r(Reading database ... 45%\\r(Reading database ... 50%\\r(Reading database ... 55%\\r(Reading database ... 60%\\r(Reading database ... 65%\\r(Reading database ... 70%\\r(Reading database ... 75%\\r(Reading database ... 80%\\r(Reading database ... 85%\\r(Reading database ... 90%\\r(Reading database ... 95%\\r(Reading database ... 100%\\r(Reading database ... 12456 files and directories currently installed.)\\r\\nPreparing to unpack .../libtirpc3_1.3.1-1+deb11u1_amd64.deb ...\\r\\nUnpacking libtirpc3:amd64 (1.3.1-1+deb11u1) over (1.3.1-1) ...\\r\\nSetting up libtirpc3:amd64 (1.3.1-1+deb11u1) ...\\r\\nSelecting previously unselected package manpages.\\r\\n(Reading database ... \\r(Reading database ... 5%\\r(Reading database ... 10%\\r(Reading database ... 15%\\r(Reading database ... 20%\\r(Reading database ... 25%\\r(Reading database ... 30%\\r(Reading database ... 35%\\r(Reading database ... 40%\\r(Reading database ... 45%\\r(Reading database ... 50%\\r(Reading database ... 55%\\r(Reading database ... 60%\\r(Reading database ... 65%\\r(Reading database ... 70%\\r(Reading database ... 75%\\r(Reading database ... 80%\\r(Reading database ... 85%\\r(Reading database ... 90%\\r(Reading database ... 95%\\r(Reading database ... 100%\\r(Reading database ... 12456 files and directories currently installed.)\\r\\nPreparing to unpack .../00-manpages_5.10-1_all.deb ...\\r\\nUnpacking manpages (5.10-1) ...\\r\\nSelecting previously unselected package xz-utils.\\r\\nPreparing to unpack .../01-xz-utils_5.2.5-2.1~deb11u1_amd64.deb ...\\r\\nUnpacking xz-utils (5.2.5-2.1~deb11u1) ...\\r\\nSelecting previously unselected package binutils-common:amd64.\\r\\nPreparing to unpack .../02-binutils-common_2.35.2-2_amd64.deb ...\\r\\nUnpacking binutils-common:amd64 (2.35.2-2) ...\\r\\nSelecting previously unselected package libbinutils:amd64.\\r\\nPreparing to unpack .../03-libbinutils_2.35.2-2_amd64.deb ...\\r\\nUnpacking libbinutils:amd64 (2.35.2-2) ...\\r\\nSelecting previously unselected package libctf-nobfd0:amd64.\\r\\nPreparing to unpack .../04-libctf-nobfd0_2.35.2-2_amd64.deb ...\\r\\nUnpacking libctf-nobfd0:amd64 (2.35.2-2) ...\\r\\nSelecting previously unselected package libctf0:amd64.\\r\\nPreparing to unpack .../05-libctf0_2.35.2-2_amd64.deb ...\\r\\nUnpacking libctf0:amd64 (2.35.2-2) ...\\r\\nSelecting previously unselected package binutils-x86-64-linux-gnu.\\r\\nPreparing to unpack .../06-binutils-x86-64-linux-gnu_2.35.2-2_amd64.deb ...\\r\\nUnpacking binutils-x86-64-linux-gnu (2.35.2-2) ...\\r\\nSelecting previously unselected package binutils.\\r\\nPreparing to unpack .../07-binutils_2.35.2-2_amd64.deb ...\\r\\nUnpacking binutils (2.35.2-2) ...\\r\\nSelecting previously unselected package libc-dev-bin.\\r\\nPreparing to unpack .../08-libc-dev-bin_2.31-13+deb11u6_amd64.deb ...\\r\\nUnpacking libc-dev-bin (2.31-13+deb11u6) ...\\r\\nSelecting previously unselected package linux-libc-dev:amd64.\\r\\nPreparing to unpack .../09-linux-libc-dev_5.10.179-1_amd64.deb ...\\r\\nUnpacking linux-libc-dev:amd64 (5.10.179-1) ...\\r\\nSelecting previously unselected package libcrypt-dev:amd64.\\r\\nPreparing to unpack .../10-libcrypt-dev_1%3a4.4.18-4_amd64.deb ...\\r\\nUnpacking libcrypt-dev:amd64 (1:4.4.18-4) ...\\r\\nSelecting previously unselected package libtirpc-dev:amd64.\\r\\nPreparing to unpack .../11-libtirpc-dev_1.3.1-1+deb11u1_amd64.deb ...\\r\\nUnpacking libtirpc-dev:amd64 (1.3.1-1+deb11u1) ...\\r\\nSelecting previously unselected package libnsl-dev:amd64.\\r\\nPreparing to unpack .../12-libnsl-dev_1.3.0-2_amd64.deb ...\\r\\nUnpacking libnsl-dev:amd64 (1.3.0-2) ...\\r\\nSelecting previously unselected package libc6-dev:amd64.\\r\\nPreparing to unpack .../13-libc6-dev_2.31-13+deb11u6_amd64.deb ...\\r\\nUnpacking libc6-dev:amd64 (2.31-13+deb11u6) ...\\r\\nSelecting previously unselected package libisl23:amd64.\\r\\nPreparing to unpack .../14-libisl23_0.23-1_amd64.deb ...\\r\\nUnpacking libisl23:amd64 (0.23-1) ...\\r\\nSelecting previously unselected package libmpfr6:amd64.\\r\\nPreparing to unpack .../15-libmpfr6_4.1.0-3_amd64.deb ...\\r\\nUnpacking libmpfr6:amd64 (4.1.0-3) ...\\r\\nSelecting previously unselected package libmpc3:amd64.\\r\\nPreparing to unpack .../16-libmpc3_1.2.0-1_amd64.deb ...\\r\\nUnpacking libmpc3:amd64 (1.2.0-1) ...\\r\\nSelecting previously unselected package cpp-10.\\r\\nPreparing to unpack .../17-cpp-10_10.2.1-6_amd64.deb ...\\r\\nUnpacking cpp-10 (10.2.1-6) ...\\r\\nSelecting previously unselected package cpp.\\r\\nPreparing to unpack .../18-cpp_4%3a10.2.1-1_amd64.deb ...\\r\\nUnpacking cpp (4:10.2.1-1) ...\\r\\nSelecting previously unselected package libcc1-0:amd64.\\r\\nPreparing to unpack .../19-libcc1-0_10.2.1-6_amd64.deb ...\\r\\nUnpacking libcc1-0:amd64 (10.2.1-6) ...\\r\\nSelecting previously unselected package libgomp1:amd64.\\r\\nPreparing to unpack .../20-libgomp1_10.2.1-6_amd64.deb ...\\r\\nUnpacking libgomp1:amd64 (10.2.1-6) ...\\r\\nSelecting previously unselected package libitm1:amd64.\\r\\nPreparing to unpack .../21-libitm1_10.2.1-6_amd64.deb ...\\r\\nUnpacking libitm1:amd64 (10.2.1-6) ...\\r\\nSelecting previously unselected package libatomic1:amd64.\\r\\nPreparing to unpack .../22-libatomic1_10.2.1-6_amd64.deb ...\\r\\nUnpacking libatomic1:amd64 (10.2.1-6) ...\\r\\nSelecting previously unselected package libasan6:amd64.\\r\\nPreparing to unpack .../23-libasan6_10.2.1-6_amd64.deb ...\\r\\nUnpacking libasan6:amd64 (10.2.1-6) ...\\r\\nSelecting previously unselected package liblsan0:amd64.\\r\\nPreparing to unpack .../24-liblsan0_10.2.1-6_amd64.deb ...\\r\\nUnpacking liblsan0:amd64 (10.2.1-6) ...\\r\\nSelecting previously unselected package libtsan0:amd64.\\r\\nPreparing to unpack .../25-libtsan0_10.2.1-6_amd64.deb ...\\r\\nUnpacking libtsan0:amd64 (10.2.1-6) ...\\r\\nSelecting previously unselected package libubsan1:amd64.\\r\\nPreparing to unpack .../26-libubsan1_10.2.1-6_amd64.deb ...\\r\\nUnpacking libubsan1:amd64 (10.2.1-6) ...\\r\\nSelecting previously unselected package libquadmath0:amd64.\\r\\nPreparing to unpack .../27-libquadmath0_10.2.1-6_amd64.deb ...\\r\\nUnpacking libquadmath0:amd64 (10.2.1-6) ...\\r\\nSelecting previously unselected package libgcc-10-dev:amd64.\\r\\nPreparing to unpack .../28-libgcc-10-dev_10.2.1-6_amd64.deb ...\\r\\nUnpacking libgcc-10-dev:amd64 (10.2.1-6) ...\\r\\nSelecting previously unselected package gcc-10.\\r\\nPreparing to unpack .../29-gcc-10_10.2.1-6_amd64.deb ...\\r\\nUnpacking gcc-10 (10.2.1-6) ...\\r\\nSelecting previously unselected package gcc.\\r\\nPreparing to unpack .../30-gcc_4%3a10.2.1-1_amd64.deb ...\\r\\nUnpacking gcc (4:10.2.1-1) ...\\r\\nSelecting previously unselected package libstdc++-10-dev:amd64.\\r\\nPreparing to unpack .../31-libstdc++-10-dev_10.2.1-6_amd64.deb ...\\r\\nUnpacking libstdc++-10-dev:amd64 (10.2.1-6) ...\\r\\nSelecting previously unselected package g++-10.\\r\\nPreparing to unpack .../32-g++-10_10.2.1-6_amd64.deb ...\\r\\nUnpacking g++-10 (10.2.1-6) ...\\r\\nSelecting previously unselected package g++.\\r\\nPreparing to unpack .../33-g++_4%3a10.2.1-1_amd64.deb ...\\r\\nUnpacking g++ (4:10.2.1-1) ...\\r\\nSelecting previously unselected package make.\\r\\nPreparing to unpack .../34-make_4.3-4.1_amd64.deb ...\\r\\nUnpacking make (4.3-4.1) ...\\r\\nSelecting previously unselected package libdpkg-perl.\\r\\nPreparing to unpack .../35-libdpkg-perl_1.20.12_all.deb ...\\r\\nUnpacking libdpkg-perl (1.20.12) ...\\r\\nSelecting previously unselected package patch.\\r\\nPreparing to unpack .../36-patch_2.7.6-7_amd64.deb ...\\r\\nUnpacking patch (2.7.6-7) ...\\r\\nSelecting previously unselected package dpkg-dev.\\r\\nPreparing to unpack .../37-dpkg-dev_1.20.12_all.deb ...\\r\\nUnpacking dpkg-dev (1.20.12) ...\\r\\nSelecting previously unselected package build-essential.\\r\\nPreparing to unpack .../38-build-essential_12.9_amd64.deb ...\\r\\nUnpacking build-essential (12.9) ...\\r\\nSelecting previously unselected package cmake-data.\\r\\nPreparing to unpack .../39-cmake-data_3.18.4-2+deb11u1_all.deb ...\\r\\nUnpacking cmake-data (3.18.4-2+deb11u1) ...\\r\\nSelecting previously unselected package libicu67:amd64.\\r\\nPreparing to unpack .../40-libicu67_67.1-7_amd64.deb ...\\r\\nUnpacking libicu67:amd64 (67.1-7) ...\\r\\nSelecting previously unselected package libxml2:amd64.\\r\\nPreparing to unpack .../41-libxml2_2.9.10+dfsg-6.7+deb11u4_amd64.deb ...\\r\\nUnpacking libxml2:amd64 (2.9.10+dfsg-6.7+deb11u4) ...\\r\\nSelecting previously unselected package libarchive13:amd64.\\r\\nPreparing to unpack .../42-libarchive13_3.4.3-2+deb11u1_amd64.deb ...\\r\\nUnpacking libarchive13:amd64 (3.4.3-2+deb11u1) ...\\r\\nSelecting previously unselected package libcurl4:amd64.\\r\\nPreparing to unpack .../43-libcurl4_7.74.0-1.3+deb11u7_amd64.deb ...\\r\\nUnpacking libcurl4:amd64 (7.74.0-1.3+deb11u7) ...\\r\\nSelecting previously unselected package libjsoncpp24:amd64.\\r\\nPreparing to unpack .../44-libjsoncpp24_1.9.4-4_amd64.deb ...\\r\\nUnpacking libjsoncpp24:amd64 (1.9.4-4) ...\\r\\nSelecting previously unselected package librhash0:amd64.\\r\\nPreparing to unpack .../45-librhash0_1.4.1-2_amd64.deb ...\\r\\nUnpacking librhash0:amd64 (1.4.1-2) ...\\r\\nSelecting previously unselected package libuv1:amd64.\\r\\nPreparing to unpack .../46-libuv1_1.40.0-2_amd64.deb ...\\r\\nUnpacking libuv1:amd64 (1.40.0-2) ...\\r\\nSelecting previously unselected package cmake.\\r\\nPreparing to unpack .../47-cmake_3.18.4-2+deb11u1_amd64.deb ...\\r\\nUnpacking cmake (3.18.4-2+deb11u1) ...\\r\\nSelecting previously unselected package libassuan0:amd64.\\r\\nPreparing to unpack .../48-libassuan0_2.5.3-7.1_amd64.deb ...\\r\\nUnpacking libassuan0:amd64 (2.5.3-7.1) ...\\r\\nSelecting previously unselected package gpgconf.\\r\\nPreparing to unpack .../49-gpgconf_2.2.27-2+deb11u2_amd64.deb ...\\r\\nUnpacking gpgconf (2.2.27-2+deb11u2) ...\\r\\nSelecting previously unselected package libksba8:amd64.\\r\\nPreparing to unpack .../50-libksba8_1.5.0-3+deb11u2_amd64.deb ...\\r\\nUnpacking libksba8:amd64 (1.5.0-3+deb11u2) ...\\r\\nSelecting previously unselected package libnpth0:amd64.\\r\\nPreparing to unpack .../51-libnpth0_1.6-3_amd64.deb ...\\r\\nUnpacking libnpth0:amd64 (1.6-3) ...\\r\\nSelecting previously unselected package dirmngr.\\r\\nPreparing to unpack .../52-dirmngr_2.2.27-2+deb11u2_amd64.deb ...\\r\\nUnpacking dirmngr (2.2.27-2+deb11u2) ...\\r\\nSelecting previously unselected package libfakeroot:amd64.\\r\\nPreparing to unpack .../53-libfakeroot_1.25.3-1.1_amd64.deb ...\\r\\nUnpacking libfakeroot:amd64 (1.25.3-1.1) ...\\r\\nSelecting previously unselected package fakeroot.\\r\\nPreparing to unpack .../54-fakeroot_1.25.3-1.1_amd64.deb ...\\r\\nUnpacking fakeroot (1.25.3-1.1) ...\\r\\nSelecting previously unselected package fonts-dejavu-core.\\r\\nPreparing to unpack .../55-fonts-dejavu-core_2.37-2_all.deb ...\\r\\nUnpacking fonts-dejavu-core (2.37-2) ...\\r\\nSelecting previously unselected package fontconfig-config.\\r\\nPreparing to unpack .../56-fontconfig-config_2.13.1-4.2_all.deb ...\\r\\nUnpacking fontconfig-config (2.13.1-4.2) ...\\r\\nSelecting previously unselected package gnupg-l10n.\\r\\nPreparing to unpack .../57-gnupg-l10n_2.2.27-2+deb11u2_all.deb ...\\r\\nUnpacking gnupg-l10n (2.2.27-2+deb11u2) ...\\r\\nSelecting previously unselected package gnupg-utils.\\r\\nPreparing to unpack .../58-gnupg-utils_2.2.27-2+deb11u2_amd64.deb ...\\r\\nUnpacking gnupg-utils (2.2.27-2+deb11u2) ...\\r\\nSelecting previously unselected package gpg.\\r\\nPreparing to unpack .../59-gpg_2.2.27-2+deb11u2_amd64.deb ...\\r\\nUnpacking gpg (2.2.27-2+deb11u2) ...\\r\\nSelecting previously unselected package pinentry-curses.\\r\\nPreparing to unpack .../60-pinentry-curses_1.1.0-4_amd64.deb ...\\r\\nUnpacking pinentry-curses (1.1.0-4) ...\\r\\nSelecting previously unselected package gpg-agent.\\r\\nPreparing to unpack .../61-gpg-agent_2.2.27-2+deb11u2_amd64.deb ...\\r\\nUnpacking gpg-agent (2.2.27-2+deb11u2) ...\\r\\nSelecting previously unselected package gpg-wks-client.\\r\\nPreparing to unpack .../62-gpg-wks-client_2.2.27-2+deb11u2_amd64.deb ...\\r\\nUnpacking gpg-wks-client (2.2.27-2+deb11u2) ...\\r\\nSelecting previously unselected package gpg-wks-server.\\r\\nPreparing to unpack .../63-gpg-wks-server_2.2.27-2+deb11u2_amd64.deb ...\\r\\nUnpacking gpg-wks-server (2.2.27-2+deb11u2) ...\\r\\nSelecting previously unselected package gpgsm.\\r\\nPreparing to unpack .../64-gpgsm_2.2.27-2+deb11u2_amd64.deb ...\\r\\nUnpacking gpgsm (2.2.27-2+deb11u2) ...\\r\\nSelecting previously unselected package gnupg.\\r\\nPreparing to unpack .../65-gnupg_2.2.27-2+deb11u2_all.deb ...\\r\\nUnpacking gnupg (2.2.27-2+deb11u2) ...\\r\\nSelecting previously unselected package libalgorithm-diff-perl.\\r\\nPreparing to unpack .../66-libalgorithm-diff-perl_1.201-1_all.deb ...\\r\\nUnpacking libalgorithm-diff-perl (1.201-1) ...\\r\\nSelecting previously unselected package libalgorithm-diff-xs-perl.\\r\\nPreparing to unpack .../67-libalgorithm-diff-xs-perl_0.04-6+b1_amd64.deb ...\\r\\nUnpacking libalgorithm-diff-xs-perl (0.04-6+b1) ...\\r\\nSelecting previously unselected package libalgorithm-merge-perl.\\r\\nPreparing to unpack .../68-libalgorithm-merge-perl_0.08-3_all.deb ...\\r\\nUnpacking libalgorithm-merge-perl (0.08-3) ...\\r\\nSelecting previously unselected package libpng16-16:amd64.\\r\\nPreparing to unpack .../69-libpng16-16_1.6.37-3_amd64.deb ...\\r\\nUnpacking libpng16-16:amd64 (1.6.37-3) ...\\r\\nSelecting previously unselected package libfreetype6:amd64.\\r\\nPreparing to unpack .../70-libfreetype6_2.10.4+dfsg-1+deb11u1_amd64.deb ...\\r\\nUnpacking libfreetype6:amd64 (2.10.4+dfsg-1+deb11u1) ...\\r\\nSelecting previously unselected package libfontconfig1:amd64.\\r\\nPreparing to unpack .../71-libfontconfig1_2.13.1-4.2_amd64.deb ...\\r\\nUnpacking libfontconfig1:amd64 (2.13.1-4.2) ...\\r\\nSelecting previously unselected package libjpeg62-turbo:amd64.\\r\\nPreparing to unpack .../72-libjpeg62-turbo_1%3a2.0.6-4_amd64.deb ...\\r\\nUnpacking libjpeg62-turbo:amd64 (1:2.0.6-4) ...\\r\\nSelecting previously unselected package libdeflate0:amd64.\\r\\nPreparing to unpack .../73-libdeflate0_1.7-1_amd64.deb ...\\r\\nUnpacking libdeflate0:amd64 (1.7-1) ...\\r\\nSelecting previously unselected package libjbig0:amd64.\\r\\nPreparing to unpack .../74-libjbig0_2.1-3.1+b2_amd64.deb ...\\r\\nUnpacking libjbig0:amd64 (2.1-3.1+b2) ...\\r\\nSelecting previously unselected package libwebp6:amd64.\\r\\nPreparing to unpack .../75-libwebp6_0.6.1-2.1+deb11u1_amd64.deb ...\\r\\nUnpacking libwebp6:amd64 (0.6.1-2.1+deb11u1) ...\\r\\nSelecting previously unselected package libtiff5:amd64.\\r\\nPreparing to unpack .../76-libtiff5_4.2.0-1+deb11u4_amd64.deb ...\\r\\nUnpacking libtiff5:amd64 (4.2.0-1+deb11u4) ...\\r\\nSelecting previously unselected package libxpm4:amd64.\\r\\nPreparing to unpack .../77-libxpm4_1%3a3.5.12-1.1~deb11u1_amd64.deb ...\\r\\nUnpacking libxpm4:amd64 (1:3.5.12-1.1~deb11u1) ...\\r\\nSelecting previously unselected package libgd3:amd64.\\r\\nPreparing to unpack .../78-libgd3_2.3.0-2_amd64.deb ...\\r\\nUnpacking libgd3:amd64 (2.3.0-2) ...\\r\\nSelecting previously unselected package libc-devtools.\\r\\nPreparing to unpack .../79-libc-devtools_2.31-13+deb11u6_amd64.deb ...\\r\\nUnpacking libc-devtools (2.31-13+deb11u6) ...\\r\\nSelecting previously unselected package libfile-fcntllock-perl.\\r\\nPreparing to unpack .../80-libfile-fcntllock-perl_0.22-3+b7_amd64.deb ...\\r\\nUnpacking libfile-fcntllock-perl (0.22-3+b7) ...\\r\\nSelecting previously unselected package manpages-dev.\\r\\nPreparing to unpack .../81-manpages-dev_5.10-1_all.deb ...\\r\\nUnpacking manpages-dev (5.10-1) ...\\r\\nSetting up libksba8:amd64 (1.5.0-3+deb11u2) ...\\r\\nSetting up libxpm4:amd64 (1:3.5.12-1.1~deb11u1) ...\\r\\nSetting up libicu67:amd64 (67.1-7) ...\\r\\nSetting up libfile-fcntllock-perl (0.22-3+b7) ...\\r\\nSetting up libalgorithm-diff-perl (1.201-1) ...\\r\\nSetting up manpages (5.10-1) ...\\r\\nSetting up binutils-common:amd64 (2.35.2-2) ...\\r\\nSetting up libdeflate0:amd64 (1.7-1) ...\\r\\nSetting up linux-libc-dev:amd64 (5.10.179-1) ...\\r\\nSetting up libctf-nobfd0:amd64 (2.35.2-2) ...\\r\\nSetting up libnpth0:amd64 (1.6-3) ...\\r\\nSetting up libassuan0:amd64 (2.5.3-7.1) ...\\r\\nSetting up libgomp1:amd64 (10.2.1-6) ...\\r\\nSetting up libjbig0:amd64 (2.1-3.1+b2) ...\\r\\nSetting up libfakeroot:amd64 (1.25.3-1.1) ...\\r\\nSetting up libasan6:amd64 (10.2.1-6) ...\\r\\nSetting up fakeroot (1.25.3-1.1) ...\\r\\nupdate-alternatives: using /usr/bin/fakeroot-sysv to provide /usr/bin/fakeroot (fakeroot) in auto mode\\r\\nupdate-alternatives: warning: skip creation of /usr/share/man/man1/fakeroot.1.gz because associated file /usr/share/man/man1/fakeroot-sysv.1.gz (of link group fakeroot) doesn\\'t exist\\r\\nupdate-alternatives: warning: skip creation of /usr/share/man/man1/faked.1.gz because associated file /usr/share/man/man1/faked-sysv.1.gz (of link group fakeroot) doesn\\'t exist\\r\\nupdate-alternatives: warning: skip creation of /usr/share/man/es/man1/fakeroot.1.gz because associated file /usr/share/man/es/man1/fakeroot-sysv.1.gz (of link group fakeroot) doesn\\'t exist\\r\\nupdate-alternatives: warning: skip creation of /usr/share/man/es/man1/faked.1.gz because associated file /usr/share/man/es/man1/faked-sysv.1.gz (of link group fakeroot) doesn\\'t exist\\r\\nupdate-alternatives: warning: skip creation of /usr/share/man/fr/man1/fakeroot.1.gz because associated file /usr/share/man/fr/man1/fakeroot-sysv.1.gz (of link group fakeroot) doesn\\'t exist\\r\\nupdate-alternatives: warning: skip creation of /usr/share/man/fr/man1/faked.1.gz because associated file /usr/share/man/fr/man1/faked-sysv.1.gz (of link group fakeroot) doesn\\'t exist\\r\\nupdate-alternatives: warning: skip creation of /usr/share/man/sv/man1/fakeroot.1.gz because associated file /usr/share/man/sv/man1/fakeroot-sysv.1.gz (of link group fakeroot) doesn\\'t exist\\r\\nupdate-alternatives: warning: skip creation of /usr/share/man/sv/man1/faked.1.gz because associated file /usr/share/man/sv/man1/faked-sysv.1.gz (of link group fakeroot) doesn\\'t exist\\r\\nSetting up libtirpc-dev:amd64 (1.3.1-1+deb11u1) ...\\r\\nSetting up libuv1:amd64 (1.40.0-2) ...\\r\\nSetting up libjpeg62-turbo:amd64 (1:2.0.6-4) ...\\r\\nSetting up make (4.3-4.1) ...\\r\\nSetting up libmpfr6:amd64 (4.1.0-3) ...\\r\\nSetting up gnupg-l10n (2.2.27-2+deb11u2) ...\\r\\nSetting up xz-utils (5.2.5-2.1~deb11u1) ...\\r\\nupdate-alternatives: using /usr/bin/xz to provide /usr/bin/lzma (lzma) in auto mode\\r\\nupdate-alternatives: warning: skip creation of /usr/share/man/man1/lzma.1.gz because associated file /usr/share/man/man1/xz.1.gz (of link group lzma) doesn\\'t exist\\r\\nupdate-alternatives: warning: skip creation of /usr/share/man/man1/unlzma.1.gz because associated file /usr/share/man/man1/unxz.1.gz (of link group lzma) doesn\\'t exist\\r\\nupdate-alternatives: warning: skip creation of /usr/share/man/man1/lzcat.1.gz because associated file /usr/share/man/man1/xzcat.1.gz (of link group lzma) doesn\\'t exist\\r\\nupdate-alternatives: warning: skip creation of /usr/share/man/man1/lzmore.1.gz because associated file /usr/share/man/man1/xzmore.1.gz (of link group lzma) doesn\\'t exist\\r\\nupdate-alternatives: warning: skip creation of /usr/share/man/man1/lzless.1.gz because associated file /usr/share/man/man1/xzless.1.gz (of link group lzma) doesn\\'t exist\\r\\nupdate-alternatives: warning: skip creation of /usr/share/man/man1/lzdiff.1.gz because associated file /usr/share/man/man1/xzdiff.1.gz (of link group lzma) doesn\\'t exist\\r\\nupdate-alternatives: warning: skip creation of /usr/share/man/man1/lzcmp.1.gz because associated file /usr/share/man/man1/xzcmp.1.gz (of link group lzma) doesn\\'t exist\\r\\nupdate-alternatives: warning: skip creation of /usr/share/man/man1/lzgrep.1.gz because associated file /usr/share/man/man1/xzgrep.1.gz (of link group lzma) doesn\\'t exist\\r\\nupdate-alternatives: warning: skip creation of /usr/share/man/man1/lzegrep.1.gz because associated file /usr/share/man/man1/xzegrep.1.gz (of link group lzma) doesn\\'t exist\\r\\nupdate-alternatives: warning: skip creation of /usr/share/man/man1/lzfgrep.1.gz because associated file /usr/share/man/man1/xzfgrep.1.gz (of link group lzma) doesn\\'t exist\\r\\nSetting up libquadmath0:amd64 (10.2.1-6) ...\\r\\nSetting up libpng16-16:amd64 (1.6.37-3) ...\\r\\nSetting up libmpc3:amd64 (1.2.0-1) ...\\r\\nSetting up libatomic1:amd64 (10.2.1-6) ...\\r\\nSetting up patch (2.7.6-7) ...\\r\\nSetting up libwebp6:amd64 (0.6.1-2.1+deb11u1) ...\\r\\nSetting up fonts-dejavu-core (2.37-2) ...\\r\\nSetting up libdpkg-perl (1.20.12) ...\\r\\nSetting up libjsoncpp24:amd64 (1.9.4-4) ...\\r\\nSetting up libubsan1:amd64 (10.2.1-6) ...\\r\\nSetting up libnsl-dev:amd64 (1.3.0-2) ...\\r\\nSetting up librhash0:amd64 (1.4.1-2) ...\\r\\nSetting up libcrypt-dev:amd64 (1:4.4.18-4) ...\\r\\nSetting up gpgconf (2.2.27-2+deb11u2) ...\\r\\nSetting up libcurl4:amd64 (7.74.0-1.3+deb11u7) ...\\r\\nSetting up cmake-data (3.18.4-2+deb11u1) ...\\r\\nSetting up libtiff5:amd64 (4.2.0-1+deb11u4) ...\\r\\nSetting up libbinutils:amd64 (2.35.2-2) ...\\r\\nSetting up libisl23:amd64 (0.23-1) ...\\r\\nSetting up libc-dev-bin (2.31-13+deb11u6) ...\\r\\nSetting up libalgorithm-diff-xs-perl (0.04-6+b1) ...\\r\\nSetting up libxml2:amd64 (2.9.10+dfsg-6.7+deb11u4) ...\\r\\nSetting up libcc1-0:amd64 (10.2.1-6) ...\\r\\nSetting up liblocale-gettext-perl (1.07-4+b1) ...\\r\\nSetting up gpg (2.2.27-2+deb11u2) ...\\r\\nSetting up liblsan0:amd64 (10.2.1-6) ...\\r\\nSetting up cpp-10 (10.2.1-6) ...\\r\\nSetting up libitm1:amd64 (10.2.1-6) ...\\r\\nSetting up libalgorithm-merge-perl (0.08-3) ...\\r\\nSetting up gnupg-utils (2.2.27-2+deb11u2) ...\\r\\nSetting up libtsan0:amd64 (10.2.1-6) ...\\r\\nSetting up libctf0:amd64 (2.35.2-2) ...\\r\\nSetting up pinentry-curses (1.1.0-4) ...\\r\\nSetting up manpages-dev (5.10-1) ...\\r\\nSetting up gpg-agent (2.2.27-2+deb11u2) ...\\r\\nSetting up libarchive13:amd64 (3.4.3-2+deb11u1) ...\\r\\nSetting up fontconfig-config (2.13.1-4.2) ...\\r\\ndebconf: unable to initialize frontend: Dialog\\r\\ndebconf: (TERM is not set, so the dialog frontend is not usable.)\\r\\ndebconf: falling back to frontend: Readline\\r\\nSetting up libgcc-10-dev:amd64 (10.2.1-6) ...\\r\\nSetting up gpgsm (2.2.27-2+deb11u2) ...\\r\\nSetting up dirmngr (2.2.27-2+deb11u2) ...\\r\\nSetting up libfreetype6:amd64 (2.10.4+dfsg-1+deb11u1) ...\\r\\nSetting up gpg-wks-server (2.2.27-2+deb11u2) ...\\r\\nSetting up cpp (4:10.2.1-1) ...\\r\\nSetting up cmake (3.18.4-2+deb11u1) ...\\r\\nSetting up libc6-dev:amd64 (2.31-13+deb11u6) ...\\r\\nSetting up libfontconfig1:amd64 (2.13.1-4.2) ...\\r\\nSetting up binutils-x86-64-linux-gnu (2.35.2-2) ...\\r\\nSetting up libstdc++-10-dev:amd64 (10.2.1-6) ...\\r\\nSetting up gpg-wks-client (2.2.27-2+deb11u2) ...\\r\\nSetting up binutils (2.35.2-2) ...\\r\\nSetting up dpkg-dev (1.20.12) ...\\r\\nSetting up libgd3:amd64 (2.3.0-2) ...\\r\\nSetting up gcc-10 (10.2.1-6) ...\\r\\nSetting up gnupg (2.2.27-2+deb11u2) ...\\r\\nSetting up libc-devtools (2.31-13+deb11u6) ...\\r\\nSetting up g++-10 (10.2.1-6) ...\\r\\nSetting up gcc (4:10.2.1-1) ...\\r\\nSetting up g++ (4:10.2.1-1) ...\\r\\nupdate-alternatives: using /usr/bin/g++ to provide /usr/bin/c++ (c++) in auto mode\\r\\nSetting up build-essential (12.9) ...\\r\\nProcessing triggers for libc-bin (2.31-13+deb11u3) ...\\r\\n\\x1b[36mINFO\\x1b[0m[0027] Taking snapshot of files...                  \\n\\x1b[36mINFO\\x1b[0m[0033] ENV CONDA_ENV chassis-env                    \\n\\x1b[36mINFO\\x1b[0m[0033] COPY flavours/${MODEL_CLASS}/${MODEL_DIR}/conda.yaml ./conda.yaml \\n\\x1b[36mINFO\\x1b[0m[0033] Taking snapshot of files...                  \\n\\x1b[36mINFO\\x1b[0m[0033] RUN conda env create --name $CONDA_ENV --file ./conda.yaml \\n\\x1b[36mINFO\\x1b[0m[0033] cmd: /bin/sh                                 \\n\\x1b[36mINFO\\x1b[0m[0033] args: [-c conda env create --name $CONDA_ENV --file ./conda.yaml] \\n\\x1b[36mINFO\\x1b[0m[0033] Running: [/bin/sh -c conda env create --name $CONDA_ENV --file ./conda.yaml] \\nCollecting package metadata (repodata.json): ...working... done\\nSolving environment: ...working... done\\n\\n\\n==> WARNING: A newer version of conda exists. <==\\n  current version: 4.12.0\\n  latest version: 23.5.0\\n\\nPlease update conda by running\\n\\n    $ conda update -n base -c defaults conda\\n\\n\\n\\nDownloading and Extracting Packages\\n\\rpip-23.1.2           | 1.3 MB    |            |   0% \\rpip-23.1.2           | 1.3 MB    | ########## | 100% \\rpip-23.1.2           | 1.3 MB    | ########## | 100% \\n\\ropenssl-3.1.1        | 2.5 MB    |            |   0% \\ropenssl-3.1.1        | 2.5 MB    | ########## | 100% \\n\\rwheel-0.40.0         | 54 KB     |            |   0% \\rwheel-0.40.0         | 54 KB     | ########## | 100% \\n\\rbzip2-1.0.8          | 484 KB    |            |   0% \\rbzip2-1.0.8          | 484 KB    | ########## | 100% \\n\\rlibzlib-1.2.13       | 60 KB     |            |   0% \\rlibzlib-1.2.13       | 60 KB     | ########## | 100% \\n\\r_libgcc_mutex-0.1    | 3 KB      |            |   0% \\r_libgcc_mutex-0.1    | 3 KB      | ########## | 100% \\n\\rlibgcc-ng-13.1.0     | 758 KB    |            |   0% \\rlibgcc-ng-13.1.0     | 758 KB    | ########## | 100% \\n\\rncurses-6.4          | 860 KB    |            |   0% \\rncurses-6.4          | 860 KB    | ########## | 100% \\rncurses-6.4          | 860 KB    | ########## | 100% \\n\\rtk-8.6.12            | 3.3 MB    |            |   0% \\rtk-8.6.12            | 3.3 MB    | ########## | 100% \\rtk-8.6.12            | 3.3 MB    | ########## | 100% \\n\\rca-certificates-2023 | 145 KB    |            |   0% \\rca-certificates-2023 | 145 KB    | ########## | 100% \\n\\rsetuptools-68.0.0    | 453 KB    |            |   0% \\rsetuptools-68.0.0    | 453 KB    | ########## | 100% \\n\\rlibnsl-2.0.0         | 31 KB     |            |   0% \\rlibnsl-2.0.0         | 31 KB     | #####2     |  52% \\rlibnsl-2.0.0         | 31 KB     | ########## | 100% \\n\\rlibsqlite-3.42.0     | 809 KB    |            |   0% \\rlibsqlite-3.42.0     | 809 KB    | ########## | 100% \\n\\rlibffi-3.4.2         | 57 KB     |            |   0% \\rlibffi-3.4.2         | 57 KB     | ########## | 100% \\n\\rld_impl_linux-64-2.4 | 688 KB    |            |   0% \\rld_impl_linux-64-2.4 | 688 KB    | ########## | 100% \\n\\rxz-5.2.6             | 409 KB    |            |   0% \\rxz-5.2.6             | 409 KB    | ########## | 100% \\n\\rreadline-8.2         | 275 KB    |            |   0% \\rreadline-8.2         | 275 KB    | ########## | 100% \\n\\rtzdata-2023c         | 115 KB    |            |   0% \\rtzdata-2023c         | 115 KB    | ########## | 100% \\n\\rpython-3.10.12       | 24.4 MB   |            |   0% \\rpython-3.10.12       | 24.4 MB   | #####7     |  57% \\rpython-3.10.12       | 24.4 MB   | ########## | 100% \\n\\rlibgomp-13.1.0       | 409 KB    |            |   0% \\rlibgomp-13.1.0       | 409 KB    | ########## | 100% \\n\\rlibuuid-2.38.1       | 33 KB     |            |   0% \\rlibuuid-2.38.1       | 33 KB     | ########## | 100% \\n\\r_openmp_mutex-4.5    | 23 KB     |            |   0% \\r_openmp_mutex-4.5    | 23 KB     | ########## | 100% \\nPreparing transaction: ...working... done\\nVerifying transaction: ...working... done\\nExecuting transaction: ...working... done\\nInstalling pip dependencies: ...working... Ran pip subprocess with arguments:\\n[\\'/opt/conda/envs/chassis-env/bin/python\\', \\'-m\\', \\'pip\\', \\'install\\', \\'-U\\', \\'-r\\', \\'/app/condaenv.kw0m92ji.requirements.txt\\']\\nPip subprocess output:\\nCollecting mlflow==2.4 (from -r /app/condaenv.kw0m92ji.requirements.txt (line 1))\\n  Downloading mlflow-2.4.0-py3-none-any.whl (18.1 MB)\\n     ━━━━━━━━━━━━━━━━━━━━━━━━━━━━━━━━━━━━━━━━ 18.1/18.1 MB 84.6 MB/s eta 0:00:00\\nCollecting chassisml==1.4.13 (from -r /app/condaenv.kw0m92ji.requirements.txt (line 2))\\n  Downloading chassisml-1.4.13-py3-none-any.whl (35 kB)\\nCollecting cloudpickle==2.2.1 (from -r /app/condaenv.kw0m92ji.requirements.txt (line 3))\\n  Downloading cloudpickle-2.2.1-py3-none-any.whl (25 kB)\\nPip subprocess error:\\nERROR: Cannot install -r /app/condaenv.kw0m92ji.requirements.txt (line 1), -r /app/condaenv.kw0m92ji.requirements.txt (line 2), -r /app/condaenv.kw0m92ji.requirements.txt (line 5) and protobuf==3.19.4 because these package versions have conflicting dependencies.\\nERROR: ResolutionImpossible: for help visit https://pip.pypa.io/en/latest/topics/dependency-resolution/#dealing-with-dependency-conflicts\\n\\nCollecting docker==6.1.3 (from -r /app/condaenv.kw0m92ji.requirements.txt (line 4))\\n  Downloading docker-6.1.3-py3-none-any.whl (148 kB)\\n     ━━━━━━━━━━━━━━━━━━━━━━━━━━━━━━━━━━━━━━ 148.1/148.1 kB 40.1 MB/s eta 0:00:00\\nCollecting google-cloud-bigquery-connection==1.12.0 (from -r /app/condaenv.kw0m92ji.requirements.txt (line 5))\\n  Downloading google_cloud_bigquery_connection-1.12.0-py2.py3-none-any.whl (56 kB)\\n     ━━━━━━━━━━━━━━━━━━━━━━━━━━━━━━━━━━━━━━━━ 56.6/56.6 kB 21.3 MB/s eta 0:00:00\\nCollecting google-cloud-bigquery-storage==2.20.0 (from -r /app/condaenv.kw0m92ji.requirements.txt (line 6))\\n  Downloading google_cloud_bigquery_storage-2.20.0-py2.py3-none-any.whl (190 kB)\\n     ━━━━━━━━━━━━━━━━━━━━━━━━━━━━━━━━━━━━━━ 190.6/190.6 kB 53.8 MB/s eta 0:00:00\\nCollecting google-cloud-bigquery==3.10.0 (from -r /app/condaenv.kw0m92ji.requirements.txt (line 7))\\n  Downloading google_cloud_bigquery-3.10.0-py2.py3-none-any.whl (218 kB)\\n     ━━━━━━━━━━━━━━━━━━━━━━━━━━━━━━━━━━━━━━ 218.4/218.4 kB 55.3 MB/s eta 0:00:00\\nCollecting google-cloud-datastore==2.15.2 (from -r /app/condaenv.kw0m92ji.requirements.txt (line 8))\\n  Downloading google_cloud_datastore-2.15.2-py2.py3-none-any.whl (175 kB)\\n     ━━━━━━━━━━━━━━━━━━━━━━━━━━━━━━━━━━━━━━ 175.4/175.4 kB 48.2 MB/s eta 0:00:00\\nCollecting google-cloud-firestore==2.11.1 (from -r /app/condaenv.kw0m92ji.requirements.txt (line 9))\\n  Downloading google_cloud_firestore-2.11.1-py2.py3-none-any.whl (283 kB)\\n     ━━━━━━━━━━━━━━━━━━━━━━━━━━━━━━━━━━━━━━ 283.8/283.8 kB 61.4 MB/s eta 0:00:00\\nCollecting google-cloud-functions==1.13.0 (from -r /app/condaenv.kw0m92ji.requirements.txt (line 10))\\n  Downloading google_cloud_functions-1.13.0-py2.py3-none-any.whl (129 kB)\\n     ━━━━━━━━━━━━━━━━━━━━━━━━━━━━━━━━━━━━━━ 129.0/129.0 kB 40.6 MB/s eta 0:00:00\\nCollecting google-cloud-language==2.9.1 (from -r /app/condaenv.kw0m92ji.requirements.txt (line 11))\\n  Downloading google_cloud_language-2.9.1-py2.py3-none-any.whl (99 kB)\\n     ━━━━━━━━━━━━━━━━━━━━━━━━━━━━━━━━━━━━━━━━ 99.2/99.2 kB 34.6 MB/s eta 0:00:00\\nCollecting google-cloud-translate==3.11.1 (from -r /app/condaenv.kw0m92ji.requirements.txt (line 12))\\n  Downloading google_cloud_translate-3.11.1-py2.py3-none-any.whl (128 kB)\\n     ━━━━━━━━━━━━━━━━━━━━━━━━━━━━━━━━━━━━━━ 128.4/128.4 kB 33.5 MB/s eta 0:00:00\\nCollecting numpy==1.22.4 (from -r /app/condaenv.kw0m92ji.requirements.txt (line 13))\\n  Downloading numpy-1.22.4-cp310-cp310-manylinux_2_17_x86_64.manylinux2014_x86_64.whl (16.8 MB)\\n     ━━━━━━━━━━━━━━━━━━━━━━━━━━━━━━━━━━━━━━━━ 16.8/16.8 MB 93.1 MB/s eta 0:00:00\\nCollecting packaging==23.1 (from -r /app/condaenv.kw0m92ji.requirements.txt (line 14))\\n  Downloading packaging-23.1-py3-none-any.whl (48 kB)\\n     ━━━━━━━━━━━━━━━━━━━━━━━━━━━━━━━━━━━━━━━━ 48.9/48.9 kB 17.0 MB/s eta 0:00:00\\nCollecting pathlib==1.0.1 (from -r /app/condaenv.kw0m92ji.requirements.txt (line 15))\\n  Downloading pathlib-1.0.1-py3-none-any.whl (14 kB)\\nCollecting protobuf==3.19.4 (from -r /app/condaenv.kw0m92ji.requirements.txt (line 16))\\n  Downloading protobuf-3.19.4-cp310-cp310-manylinux_2_17_x86_64.manylinux2014_x86_64.whl (1.1 MB)\\n     ━━━━━━━━━━━━━━━━━━━━━━━━━━━━━━━━━━━━━━━━ 1.1/1.1 MB 109.1 MB/s eta 0:00:00\\nCollecting pyyaml==6.0 (from -r /app/condaenv.kw0m92ji.requirements.txt (line 17))\\n  Downloading PyYAML-6.0-cp310-cp310-manylinux_2_5_x86_64.manylinux1_x86_64.manylinux_2_12_x86_64.manylinux2010_x86_64.whl (682 kB)\\n     ━━━━━━━━━━━━━━━━━━━━━━━━━━━━━━━━━━━━━━ 682.2/682.2 kB 88.3 MB/s eta 0:00:00\\nCollecting requests==2.27.1 (from -r /app/condaenv.kw0m92ji.requirements.txt (line 18))\\n  Downloading requests-2.27.1-py2.py3-none-any.whl (63 kB)\\n     ━━━━━━━━━━━━━━━━━━━━━━━━━━━━━━━━━━━━━━━━ 63.1/63.1 kB 22.1 MB/s eta 0:00:00\\nCollecting scikit-learn==1.2.2 (from -r /app/condaenv.kw0m92ji.requirements.txt (line 19))\\n  Downloading scikit_learn-1.2.2-cp310-cp310-manylinux_2_17_x86_64.manylinux2014_x86_64.whl (9.6 MB)\\n     ━━━━━━━━━━━━━━━━━━━━━━━━━━━━━━━━━━━━━━━━ 9.6/9.6 MB 139.0 MB/s eta 0:00:00\\nCollecting scipy==1.10.1 (from -r /app/condaenv.kw0m92ji.requirements.txt (line 20))\\n  Downloading scipy-1.10.1-cp310-cp310-manylinux_2_17_x86_64.manylinux2014_x86_64.whl (34.4 MB)\\n     ━━━━━━━━━━━━━━━━━━━━━━━━━━━━━━━━━━━━━━━━ 34.4/34.4 MB 53.0 MB/s eta 0:00:00\\nCollecting click<9,>=7.0 (from mlflow==2.4->-r /app/condaenv.kw0m92ji.requirements.txt (line 1))\\n  Downloading click-8.1.3-py3-none-any.whl (96 kB)\\n     ━━━━━━━━━━━━━━━━━━━━━━━━━━━━━━━━━━━━━━━━ 96.6/96.6 kB 34.4 MB/s eta 0:00:00\\nCollecting databricks-cli<1,>=0.8.7 (from mlflow==2.4->-r /app/condaenv.kw0m92ji.requirements.txt (line 1))\\n  Downloading databricks-cli-0.17.7.tar.gz (83 kB)\\n     ━━━━━━━━━━━━━━━━━━━━━━━━━━━━━━━━━━━━━━━━ 83.5/83.5 kB 30.1 MB/s eta 0:00:00\\n  Preparing metadata (setup.py): started\\n  Preparing metadata (setup.py): finished with status \\'done\\'\\nCollecting entrypoints<1 (from mlflow==2.4->-r /app/condaenv.kw0m92ji.requirements.txt (line 1))\\n  Downloading entrypoints-0.4-py3-none-any.whl (5.3 kB)\\nCollecting gitpython<4,>=2.1.0 (from mlflow==2.4->-r /app/condaenv.kw0m92ji.requirements.txt (line 1))\\n  Downloading GitPython-3.1.31-py3-none-any.whl (184 kB)\\n     ━━━━━━━━━━━━━━━━━━━━━━━━━━━━━━━━━━━━━━ 184.3/184.3 kB 57.6 MB/s eta 0:00:00\\nCollecting pytz<2024 (from mlflow==2.4->-r /app/condaenv.kw0m92ji.requirements.txt (line 1))\\n  Downloading pytz-2023.3-py2.py3-none-any.whl (502 kB)\\n     ━━━━━━━━━━━━━━━━━━━━━━━━━━━━━━━━━━━━━━ 502.3/502.3 kB 86.5 MB/s eta 0:00:00\\nCollecting importlib-metadata!=4.7.0,<7,>=3.7.0 (from mlflow==2.4->-r /app/condaenv.kw0m92ji.requirements.txt (line 1))\\n  Downloading importlib_metadata-6.7.0-py3-none-any.whl (22 kB)\\nCollecting sqlparse<1,>=0.4.0 (from mlflow==2.4->-r /app/condaenv.kw0m92ji.requirements.txt (line 1))\\n  Downloading sqlparse-0.4.4-py3-none-any.whl (41 kB)\\n     ━━━━━━━━━━━━━━━━━━━━━━━━━━━━━━━━━━━━━━━━ 41.2/41.2 kB 14.1 MB/s eta 0:00:00\\nCollecting alembic!=1.10.0,<2 (from mlflow==2.4->-r /app/condaenv.kw0m92ji.requirements.txt (line 1))\\n  Downloading alembic-1.11.1-py3-none-any.whl (224 kB)\\n     ━━━━━━━━━━━━━━━━━━━━━━━━━━━━━━━━━━━━━━ 224.5/224.5 kB 52.3 MB/s eta 0:00:00\\nCollecting Flask<3 (from mlflow==2.4->-r /app/condaenv.kw0m92ji.requirements.txt (line 1))\\n  Downloading Flask-2.3.2-py3-none-any.whl (96 kB)\\n     ━━━━━━━━━━━━━━━━━━━━━━━━━━━━━━━━━━━━━━━━ 96.9/96.9 kB 32.5 MB/s eta 0:00:00\\nCollecting pandas<3 (from mlflow==2.4->-r /app/condaenv.kw0m92ji.requirements.txt (line 1))\\n  Downloading pandas-2.0.3-cp310-cp310-manylinux_2_17_x86_64.manylinux2014_x86_64.whl (12.3 MB)\\n     ━━━━━━━━━━━━━━━━━━━━━━━━━━━━━━━━━━━━━━━ 12.3/12.3 MB 125.3 MB/s eta 0:00:00\\nCollecting querystring-parser<2 (from mlflow==2.4->-r /app/condaenv.kw0m92ji.requirements.txt (line 1))\\n  Downloading querystring_parser-1.2.4-py2.py3-none-any.whl (7.9 kB)\\nCollecting sqlalchemy<3,>=1.4.0 (from mlflow==2.4->-r /app/condaenv.kw0m92ji.requirements.txt (line 1))\\n  Downloading SQLAlchemy-2.0.17-cp310-cp310-manylinux_2_17_x86_64.manylinux2014_x86_64.whl (2.7 MB)\\n     ━━━━━━━━━━━━━━━━━━━━━━━━━━━━━━━━━━━━━━━━ 2.7/2.7 MB 130.8 MB/s eta 0:00:00\\nCollecting pyarrow<13,>=4.0.0 (from mlflow==2.4->-r /app/condaenv.kw0m92ji.requirements.txt (line 1))\\n  Downloading pyarrow-12.0.1-cp310-cp310-manylinux_2_17_x86_64.manylinux2014_x86_64.whl (38.9 MB)\\n     ━━━━━━━━━━━━━━━━━━━━━━━━━━━━━━━━━━━━━━━━ 38.9/38.9 MB 50.8 MB/s eta 0:00:00\\nCollecting markdown<4,>=3.3 (from mlflow==2.4->-r /app/condaenv.kw0m92ji.requirements.txt (line 1))\\n  Downloading Markdown-3.4.3-py3-none-any.whl (93 kB)\\n     ━━━━━━━━━━━━━━━━━━━━━━━━━━━━━━━━━━━━━━━━ 93.9/93.9 kB 31.7 MB/s eta 0:00:00\\nCollecting matplotlib<4 (from mlflow==2.4->-r /app/condaenv.kw0m92ji.requirements.txt (line 1))\\n  Downloading matplotlib-3.7.1-cp310-cp310-manylinux_2_17_x86_64.manylinux2014_x86_64.whl (11.6 MB)\\n     ━━━━━━━━━━━━━━━━━━━━━━━━━━━━━━━━━━━━━━━ 11.6/11.6 MB 127.0 MB/s eta 0:00:00\\nCollecting gunicorn<21 (from mlflow==2.4->-r /app/condaenv.kw0m92ji.requirements.txt (line 1))\\n  Downloading gunicorn-20.1.0-py3-none-any.whl (79 kB)\\n     ━━━━━━━━━━━━━━━━━━━━━━━━━━━━━━━━━━━━━━━━ 79.5/79.5 kB 27.5 MB/s eta 0:00:00\\nCollecting Jinja2<4,>=2.11 (from mlflow==2.4->-r /app/condaenv.kw0m92ji.requirements.txt (line 1))\\n  Downloading Jinja2-3.1.2-py3-none-any.whl (133 kB)\\n     ━━━━━━━━━━━━━━━━━━━━━━━━━━━━━━━━━━━━━━ 133.1/133.1 kB 43.4 MB/s eta 0:00:00\\nCollecting validators (from chassisml==1.4.13->-r /app/condaenv.kw0m92ji.requirements.txt (line 2))\\n  Downloading validators-0.20.0.tar.gz (30 kB)\\n  Preparing metadata (setup.py): started\\n  Preparing metadata (setup.py): finished with status \\'done\\'\\nCollecting grpc-requests (from chassisml==1.4.13->-r /app/condaenv.kw0m92ji.requirements.txt (line 2))\\n  Downloading grpc_requests-0.1.10-py3-none-any.whl (28 kB)\\nCollecting grpcio (from chassisml==1.4.13->-r /app/condaenv.kw0m92ji.requirements.txt (line 2))\\n  Downloading grpcio-1.56.0-cp310-cp310-manylinux_2_17_x86_64.manylinux2014_x86_64.whl (5.2 MB)\\n     ━━━━━━━━━━━━━━━━━━━━━━━━━━━━━━━━━━━━━━━━ 5.2/5.2 MB 80.9 MB/s eta 0:00:00\\nCollecting urllib3>=1.26.0 (from docker==6.1.3->-r /app/condaenv.kw0m92ji.requirements.txt (line 4))\\n  Downloading urllib3-2.0.3-py3-none-any.whl (123 kB)\\n     ━━━━━━━━━━━━━━━━━━━━━━━━━━━━━━━━━━━━━━ 123.6/123.6 kB 36.7 MB/s eta 0:00:00\\nCollecting websocket-client>=0.32.0 (from docker==6.1.3->-r /app/condaenv.kw0m92ji.requirements.txt (line 4))\\n  Downloading websocket_client-1.6.1-py3-none-any.whl (56 kB)\\n     ━━━━━━━━━━━━━━━━━━━━━━━━━━━━━━━━━━━━━━━━ 56.9/56.9 kB 21.7 MB/s eta 0:00:00\\nCollecting google-api-core[grpc]!=2.0.*,!=2.1.*,!=2.10.*,!=2.2.*,!=2.3.*,!=2.4.*,!=2.5.*,!=2.6.*,!=2.7.*,!=2.8.*,!=2.9.*,<3.0.0dev,>=1.34.0 (from google-cloud-bigquery-connection==1.12.0->-r /app/condaenv.kw0m92ji.requirements.txt (line 5))\\n  Downloading google_api_core-2.11.1-py3-none-any.whl (120 kB)\\n     ━━━━━━━━━━━━━━━━━━━━━━━━━━━━━━━━━━━━━━ 120.5/120.5 kB 37.6 MB/s eta 0:00:00\\nCollecting proto-plus<2.0.0dev,>=1.22.0 (from google-cloud-bigquery-connection==1.12.0->-r /app/condaenv.kw0m92ji.requirements.txt (line 5))\\n  Downloading proto_plus-1.22.3-py3-none-any.whl (48 kB)\\n     ━━━━━━━━━━━━━━━━━━━━━━━━━━━━━━━━━━━━━━━━ 48.1/48.1 kB 17.0 MB/s eta 0:00:00\\nINFO: pip is looking at multiple versions of google-cloud-bigquery-connection to determine which version is compatible with other requirements. This could take a while.\\n\\nThe conflict is caused by:\\n    The user requested protobuf==3.19.4\\n    mlflow 2.4.0 depends on protobuf<5 and >=3.12.0\\n    chassisml 1.4.13 depends on protobuf==3.19.4\\n    google-cloud-bigquery-connection 1.12.0 depends on protobuf!=3.20.0, !=3.20.1, !=4.21.0, !=4.21.1, !=4.21.2, !=4.21.3, !=4.21.4, !=4.21.5, <5.0.0dev and >=3.19.5\\n\\nTo fix this you could try to:\\n1. loosen the range of package versions you\\'ve specified\\n2. remove package versions to allow pip attempt to solve the dependency conflict\\n\\n\\nfailed\\n\\nCondaEnvException: Pip failed\\n\\nerror building image: error building stage: failed to execute command: waiting for process to exit: exit status 1\\n', 'result': None, 'status': {'active': None, 'completion_time': None, 'conditions': [{'last_probe_time': 'Fri, 30 Jun 2023 16:51:33 GMT', 'last_transition_time': 'Fri, 30 Jun 2023 16:51:33 GMT', 'message': 'Job has reached the specified backoff limit', 'reason': 'BackoffLimitExceeded', 'status': 'True', 'type': 'Failed'}], 'failed': 1, 'start_time': 'Fri, 30 Jun 2023 16:49:24 GMT', 'succeeded': None}}\n"
          ]
        }
      ]
    },
    {
      "cell_type": "code",
      "source": [
        "!pip install modzy-sdk"
      ],
      "metadata": {
        "colab": {
          "base_uri": "https://localhost:8080/"
        },
        "id": "6mc5YPyTFDi-",
        "outputId": "865a90d7-8530-490a-ce98-cf4811512d83"
      },
      "execution_count": null,
      "outputs": [
        {
          "output_type": "stream",
          "name": "stdout",
          "text": [
            "Looking in indexes: https://pypi.org/simple, https://us-python.pkg.dev/colab-wheels/public/simple/\n",
            "Collecting modzy-sdk\n",
            "  Downloading modzy_sdk-0.11.3-py2.py3-none-any.whl (105 kB)\n",
            "\u001b[2K     \u001b[90m━━━━━━━━━━━━━━━━━━━━━━━━━━━━━━━━━━━━━━━\u001b[0m \u001b[32m105.5/105.5 kB\u001b[0m \u001b[31m4.0 MB/s\u001b[0m eta \u001b[36m0:00:00\u001b[0m\n",
            "\u001b[?25hRequirement already satisfied: requests in /usr/local/lib/python3.10/dist-packages (from modzy-sdk) (2.27.1)\n",
            "Collecting python-dotenv (from modzy-sdk)\n",
            "  Downloading python_dotenv-1.0.0-py3-none-any.whl (19 kB)\n",
            "Collecting deprecation (from modzy-sdk)\n",
            "  Downloading deprecation-2.1.0-py2.py3-none-any.whl (11 kB)\n",
            "Collecting protobuf~=4.21.10 (from modzy-sdk)\n",
            "  Downloading protobuf-4.21.12-cp37-abi3-manylinux2014_x86_64.whl (409 kB)\n",
            "\u001b[2K     \u001b[90m━━━━━━━━━━━━━━━━━━━━━━━━━━━━━━━━━━━━━━\u001b[0m \u001b[32m409.8/409.8 kB\u001b[0m \u001b[31m14.8 MB/s\u001b[0m eta \u001b[36m0:00:00\u001b[0m\n",
            "\u001b[?25hRequirement already satisfied: grpcio in /usr/local/lib/python3.10/dist-packages (from modzy-sdk) (1.54.2)\n",
            "Requirement already satisfied: google-api-python-client in /usr/local/lib/python3.10/dist-packages (from modzy-sdk) (2.84.0)\n",
            "Collecting boto3 (from modzy-sdk)\n",
            "  Downloading boto3-1.26.160-py3-none-any.whl (135 kB)\n",
            "\u001b[2K     \u001b[90m━━━━━━━━━━━━━━━━━━━━━━━━━━━━━━━━━━━━━━\u001b[0m \u001b[32m135.9/135.9 kB\u001b[0m \u001b[31m13.5 MB/s\u001b[0m eta \u001b[36m0:00:00\u001b[0m\n",
            "\u001b[?25hCollecting botocore<1.30.0,>=1.29.160 (from boto3->modzy-sdk)\n",
            "  Downloading botocore-1.29.160-py3-none-any.whl (10.9 MB)\n",
            "\u001b[2K     \u001b[90m━━━━━━━━━━━━━━━━━━━━━━━━━━━━━━━━━━━━━━━━\u001b[0m \u001b[32m10.9/10.9 MB\u001b[0m \u001b[31m26.9 MB/s\u001b[0m eta \u001b[36m0:00:00\u001b[0m\n",
            "\u001b[?25hCollecting jmespath<2.0.0,>=0.7.1 (from boto3->modzy-sdk)\n",
            "  Downloading jmespath-1.0.1-py3-none-any.whl (20 kB)\n",
            "Collecting s3transfer<0.7.0,>=0.6.0 (from boto3->modzy-sdk)\n",
            "  Downloading s3transfer-0.6.1-py3-none-any.whl (79 kB)\n",
            "\u001b[2K     \u001b[90m━━━━━━━━━━━━━━━━━━━━━━━━━━━━━━━━━━━━━━━━\u001b[0m \u001b[32m79.8/79.8 kB\u001b[0m \u001b[31m3.8 MB/s\u001b[0m eta \u001b[36m0:00:00\u001b[0m\n",
            "\u001b[?25hRequirement already satisfied: packaging in /usr/local/lib/python3.10/dist-packages (from deprecation->modzy-sdk) (23.1)\n",
            "Requirement already satisfied: httplib2<1dev,>=0.15.0 in /usr/local/lib/python3.10/dist-packages (from google-api-python-client->modzy-sdk) (0.21.0)\n",
            "Requirement already satisfied: google-auth<3.0.0dev,>=1.19.0 in /usr/local/lib/python3.10/dist-packages (from google-api-python-client->modzy-sdk) (2.17.3)\n",
            "Requirement already satisfied: google-auth-httplib2>=0.1.0 in /usr/local/lib/python3.10/dist-packages (from google-api-python-client->modzy-sdk) (0.1.0)\n",
            "Requirement already satisfied: google-api-core!=2.0.*,!=2.1.*,!=2.2.*,!=2.3.0,<3.0.0dev,>=1.31.5 in /usr/local/lib/python3.10/dist-packages (from google-api-python-client->modzy-sdk) (2.11.1)\n",
            "Requirement already satisfied: uritemplate<5,>=3.0.1 in /usr/local/lib/python3.10/dist-packages (from google-api-python-client->modzy-sdk) (4.1.1)\n",
            "Requirement already satisfied: urllib3<1.27,>=1.21.1 in /usr/local/lib/python3.10/dist-packages (from requests->modzy-sdk) (1.26.16)\n",
            "Requirement already satisfied: certifi>=2017.4.17 in /usr/local/lib/python3.10/dist-packages (from requests->modzy-sdk) (2023.5.7)\n",
            "Requirement already satisfied: charset-normalizer~=2.0.0 in /usr/local/lib/python3.10/dist-packages (from requests->modzy-sdk) (2.0.12)\n",
            "Requirement already satisfied: idna<4,>=2.5 in /usr/local/lib/python3.10/dist-packages (from requests->modzy-sdk) (3.4)\n",
            "Requirement already satisfied: python-dateutil<3.0.0,>=2.1 in /usr/local/lib/python3.10/dist-packages (from botocore<1.30.0,>=1.29.160->boto3->modzy-sdk) (2.8.2)\n",
            "Requirement already satisfied: googleapis-common-protos<2.0.dev0,>=1.56.2 in /usr/local/lib/python3.10/dist-packages (from google-api-core!=2.0.*,!=2.1.*,!=2.2.*,!=2.3.0,<3.0.0dev,>=1.31.5->google-api-python-client->modzy-sdk) (1.59.1)\n",
            "Requirement already satisfied: cachetools<6.0,>=2.0.0 in /usr/local/lib/python3.10/dist-packages (from google-auth<3.0.0dev,>=1.19.0->google-api-python-client->modzy-sdk) (5.3.1)\n",
            "Requirement already satisfied: pyasn1-modules>=0.2.1 in /usr/local/lib/python3.10/dist-packages (from google-auth<3.0.0dev,>=1.19.0->google-api-python-client->modzy-sdk) (0.3.0)\n",
            "Requirement already satisfied: six>=1.9.0 in /usr/local/lib/python3.10/dist-packages (from google-auth<3.0.0dev,>=1.19.0->google-api-python-client->modzy-sdk) (1.16.0)\n",
            "Requirement already satisfied: rsa<5,>=3.1.4 in /usr/local/lib/python3.10/dist-packages (from google-auth<3.0.0dev,>=1.19.0->google-api-python-client->modzy-sdk) (4.9)\n",
            "Requirement already satisfied: pyparsing!=3.0.0,!=3.0.1,!=3.0.2,!=3.0.3,<4,>=2.4.2 in /usr/local/lib/python3.10/dist-packages (from httplib2<1dev,>=0.15.0->google-api-python-client->modzy-sdk) (3.1.0)\n",
            "Requirement already satisfied: pyasn1<0.6.0,>=0.4.6 in /usr/local/lib/python3.10/dist-packages (from pyasn1-modules>=0.2.1->google-auth<3.0.0dev,>=1.19.0->google-api-python-client->modzy-sdk) (0.5.0)\n",
            "Installing collected packages: python-dotenv, protobuf, jmespath, deprecation, botocore, s3transfer, boto3, modzy-sdk\n",
            "  Attempting uninstall: protobuf\n",
            "    Found existing installation: protobuf 3.20.3\n",
            "    Uninstalling protobuf-3.20.3:\n",
            "      Successfully uninstalled protobuf-3.20.3\n",
            "Successfully installed boto3-1.26.160 botocore-1.29.160 deprecation-2.1.0 jmespath-1.0.1 modzy-sdk-0.11.3 protobuf-4.21.12 python-dotenv-1.0.0 s3transfer-0.6.1\n"
          ]
        }
      ]
    },
    {
      "cell_type": "code",
      "source": [
        "\n",
        "from modzy import ApiClient\n",
        "from modzy._util import file_to_bytes\n",
        "client = ApiClient(base_url=\"https://tenant18.bot.5goil.tmobile.com/api\", api_key=\"wZr4nkIAtLFPNUPySOdC\")\n",
        "sources = {}\n",
        "#Add any number of inputs\n",
        "sources[\"my-input\"] = {\n",
        "    \"input.txt\": \"Lorem ipsum dolor sit amet\",\n",
        "}\n",
        "#Once you are ready, submit the job\n",
        "job = client.jobs.submit_text(\"ed542963de\", \"1.0.1\", sources)\n",
        "print(f\"job: {job}\")\n",
        "\n"
      ],
      "metadata": {
        "id": "hgB-wB-KuiaX",
        "colab": {
          "base_uri": "https://localhost:8080/",
          "height": 1000
        },
        "outputId": "ed028930-8b6e-4ba2-aced-42c33de27b5e"
      },
      "execution_count": null,
      "outputs": [
        {
          "output_type": "stream",
          "name": "stderr",
          "text": [
            "ERROR:modzy.http:unable to make network request\n",
            "Traceback (most recent call last):\n",
            "  File \"/usr/local/lib/python3.10/dist-packages/urllib3/connection.py\", line 174, in _new_conn\n",
            "    conn = connection.create_connection(\n",
            "  File \"/usr/local/lib/python3.10/dist-packages/urllib3/util/connection.py\", line 72, in create_connection\n",
            "    for res in socket.getaddrinfo(host, port, family, socket.SOCK_STREAM):\n",
            "  File \"/usr/lib/python3.10/socket.py\", line 955, in getaddrinfo\n",
            "    for res in _socket.getaddrinfo(host, port, family, type, proto, flags):\n",
            "socket.gaierror: [Errno -2] Name or service not known\n",
            "\n",
            "During handling of the above exception, another exception occurred:\n",
            "\n",
            "Traceback (most recent call last):\n",
            "  File \"/usr/local/lib/python3.10/dist-packages/urllib3/connectionpool.py\", line 714, in urlopen\n",
            "    httplib_response = self._make_request(\n",
            "  File \"/usr/local/lib/python3.10/dist-packages/urllib3/connectionpool.py\", line 403, in _make_request\n",
            "    self._validate_conn(conn)\n",
            "  File \"/usr/local/lib/python3.10/dist-packages/urllib3/connectionpool.py\", line 1053, in _validate_conn\n",
            "    conn.connect()\n",
            "  File \"/usr/local/lib/python3.10/dist-packages/urllib3/connection.py\", line 363, in connect\n",
            "    self.sock = conn = self._new_conn()\n",
            "  File \"/usr/local/lib/python3.10/dist-packages/urllib3/connection.py\", line 186, in _new_conn\n",
            "    raise NewConnectionError(\n",
            "urllib3.exceptions.NewConnectionError: <urllib3.connection.HTTPSConnection object at 0x7f14f99bef20>: Failed to establish a new connection: [Errno -2] Name or service not known\n",
            "\n",
            "During handling of the above exception, another exception occurred:\n",
            "\n",
            "Traceback (most recent call last):\n",
            "  File \"/usr/local/lib/python3.10/dist-packages/requests/adapters.py\", line 440, in send\n",
            "    resp = conn.urlopen(\n",
            "  File \"/usr/local/lib/python3.10/dist-packages/urllib3/connectionpool.py\", line 798, in urlopen\n",
            "    retries = retries.increment(\n",
            "  File \"/usr/local/lib/python3.10/dist-packages/urllib3/util/retry.py\", line 592, in increment\n",
            "    raise MaxRetryError(_pool, url, error or ResponseError(cause))\n",
            "urllib3.exceptions.MaxRetryError: HTTPSConnectionPool(host='tenant18.bot.5goil.tmobile.com', port=443): Max retries exceeded with url: /api/models (Caused by NewConnectionError('<urllib3.connection.HTTPSConnection object at 0x7f14f99bef20>: Failed to establish a new connection: [Errno -2] Name or service not known'))\n",
            "\n",
            "During handling of the above exception, another exception occurred:\n",
            "\n",
            "Traceback (most recent call last):\n",
            "  File \"/usr/local/lib/python3.10/dist-packages/modzy/http.py\", line 85, in request\n",
            "    response = self.session.request(method, url, data=data, headers=headers, files=file_data, verify=self._api_client.cert, params=params)\n",
            "  File \"/usr/local/lib/python3.10/dist-packages/requests/sessions.py\", line 529, in request\n",
            "    resp = self.send(prep, **send_kwargs)\n",
            "  File \"/usr/local/lib/python3.10/dist-packages/requests/sessions.py\", line 645, in send\n",
            "    r = adapter.send(request, **kwargs)\n",
            "  File \"/usr/local/lib/python3.10/dist-packages/requests/adapters.py\", line 519, in send\n",
            "    raise ConnectionError(e, request=request)\n",
            "requests.exceptions.ConnectionError: HTTPSConnectionPool(host='tenant18.bot.5goil.tmobile.com', port=443): Max retries exceeded with url: /api/models (Caused by NewConnectionError('<urllib3.connection.HTTPSConnection object at 0x7f14f99bef20>: Failed to establish a new connection: [Errno -2] Name or service not known'))\n"
          ]
        },
        {
          "output_type": "error",
          "ename": "ValueError",
          "evalue": "ignored",
          "traceback": [
            "\u001b[0;31m---------------------------------------------------------------------------\u001b[0m",
            "\u001b[0;31mValueError\u001b[0m                                Traceback (most recent call last)",
            "\u001b[0;32m<ipython-input-2-f69c19fa5a3e>\u001b[0m in \u001b[0;36m<cell line: 3>\u001b[0;34m()\u001b[0m\n\u001b[1;32m      1\u001b[0m \u001b[0;32mfrom\u001b[0m \u001b[0mmodzy\u001b[0m \u001b[0;32mimport\u001b[0m \u001b[0mApiClient\u001b[0m\u001b[0;34m\u001b[0m\u001b[0;34m\u001b[0m\u001b[0m\n\u001b[1;32m      2\u001b[0m \u001b[0;32mfrom\u001b[0m \u001b[0mmodzy\u001b[0m\u001b[0;34m.\u001b[0m\u001b[0m_util\u001b[0m \u001b[0;32mimport\u001b[0m \u001b[0mfile_to_bytes\u001b[0m\u001b[0;34m\u001b[0m\u001b[0;34m\u001b[0m\u001b[0m\n\u001b[0;32m----> 3\u001b[0;31m \u001b[0mclient\u001b[0m \u001b[0;34m=\u001b[0m \u001b[0mApiClient\u001b[0m\u001b[0;34m(\u001b[0m\u001b[0mbase_url\u001b[0m\u001b[0;34m=\u001b[0m\u001b[0;34m\"https://tenant18.bot.5goil.tmobile.com/api\"\u001b[0m\u001b[0;34m,\u001b[0m \u001b[0mapi_key\u001b[0m\u001b[0;34m=\u001b[0m\u001b[0;34m\"wZr4nkIAtLFPNUPySOdC\"\u001b[0m\u001b[0;34m)\u001b[0m\u001b[0;34m\u001b[0m\u001b[0;34m\u001b[0m\u001b[0m\n\u001b[0m\u001b[1;32m      4\u001b[0m \u001b[0msources\u001b[0m \u001b[0;34m=\u001b[0m \u001b[0;34m{\u001b[0m\u001b[0;34m}\u001b[0m\u001b[0;34m\u001b[0m\u001b[0;34m\u001b[0m\u001b[0m\n\u001b[1;32m      5\u001b[0m \u001b[0;31m#Add any number of inputs\u001b[0m\u001b[0;34m\u001b[0m\u001b[0;34m\u001b[0m\u001b[0m\n",
            "\u001b[0;32m/usr/local/lib/python3.10/dist-packages/modzy/client.py\u001b[0m in \u001b[0;36m__init__\u001b[0;34m(self, base_url, api_key, cert)\u001b[0m\n\u001b[1;32m     46\u001b[0m \u001b[0;34m\u001b[0m\u001b[0m\n\u001b[1;32m     47\u001b[0m         \u001b[0mself\u001b[0m\u001b[0;34m.\u001b[0m\u001b[0mhttp\u001b[0m \u001b[0;34m=\u001b[0m \u001b[0mHttpClient\u001b[0m\u001b[0;34m(\u001b[0m\u001b[0mself\u001b[0m\u001b[0;34m)\u001b[0m\u001b[0;34m\u001b[0m\u001b[0;34m\u001b[0m\u001b[0m\n\u001b[0;32m---> 48\u001b[0;31m         \u001b[0mself\u001b[0m\u001b[0;34m.\u001b[0m\u001b[0mcheck_client\u001b[0m\u001b[0;34m(\u001b[0m\u001b[0;34m)\u001b[0m\u001b[0;34m\u001b[0m\u001b[0;34m\u001b[0m\u001b[0m\n\u001b[0m\u001b[1;32m     49\u001b[0m \u001b[0;34m\u001b[0m\u001b[0m\n\u001b[1;32m     50\u001b[0m         \u001b[0mself\u001b[0m\u001b[0;34m.\u001b[0m\u001b[0mmodels\u001b[0m \u001b[0;34m=\u001b[0m \u001b[0mModels\u001b[0m\u001b[0;34m(\u001b[0m\u001b[0mself\u001b[0m\u001b[0;34m)\u001b[0m\u001b[0;34m\u001b[0m\u001b[0;34m\u001b[0m\u001b[0m\n",
            "\u001b[0;32m/usr/local/lib/python3.10/dist-packages/modzy/client.py\u001b[0m in \u001b[0;36mcheck_client\u001b[0;34m(self)\u001b[0m\n\u001b[1;32m     71\u001b[0m \u001b[0;34m\u001b[0m\u001b[0m\n\u001b[1;32m     72\u001b[0m         \u001b[0;32mif\u001b[0m \u001b[0;32mnot\u001b[0m \u001b[0mreq_check\u001b[0m\u001b[0;34m:\u001b[0m\u001b[0;34m\u001b[0m\u001b[0;34m\u001b[0m\u001b[0m\n\u001b[0;32m---> 73\u001b[0;31m             raise ValueError(\"Cannot initialize the modzy client: the base_url param should point to a valid API \"\n\u001b[0m\u001b[1;32m     74\u001b[0m                              \"endpoint and the api_key should be a valid key for the env\")\n\u001b[1;32m     75\u001b[0m \u001b[0;34m\u001b[0m\u001b[0m\n",
            "\u001b[0;31mValueError\u001b[0m: Cannot initialize the modzy client: the base_url param should point to a valid API endpoint and the api_key should be a valid key for the env"
          ]
        }
      ]
    },
    {
      "cell_type": "code",
      "source": [
        "!pip install tinygrad"
      ],
      "metadata": {
        "colab": {
          "base_uri": "https://localhost:8080/"
        },
        "id": "5JxVLW-Krhg7",
        "outputId": "d425d793-5212-4f1c-a618-d51852d19163"
      },
      "execution_count": null,
      "outputs": [
        {
          "output_type": "stream",
          "name": "stdout",
          "text": [
            "Collecting tinygrad\n",
            "  Downloading tinygrad-0.6.0-py3-none-any.whl (67 kB)\n",
            "\u001b[?25l     \u001b[90m━━━━━━━━━━━━━━━━━━━━━━━━━━━━━━━━━━━━━━━━\u001b[0m \u001b[32m0.0/67.1 kB\u001b[0m \u001b[31m?\u001b[0m eta \u001b[36m-:--:--\u001b[0m\r\u001b[2K     \u001b[90m━━━━━━━━━━━━━━━━━━━━━━━━━━━━━━━━━━━━━━━━\u001b[0m \u001b[32m67.1/67.1 kB\u001b[0m \u001b[31m2.5 MB/s\u001b[0m eta \u001b[36m0:00:00\u001b[0m\n",
            "\u001b[?25hRequirement already satisfied: numpy in /usr/local/lib/python3.10/dist-packages (from tinygrad) (1.22.4)\n",
            "Requirement already satisfied: requests in /usr/local/lib/python3.10/dist-packages (from tinygrad) (2.27.1)\n",
            "Requirement already satisfied: pillow in /usr/local/lib/python3.10/dist-packages (from tinygrad) (8.4.0)\n",
            "Requirement already satisfied: tqdm in /usr/local/lib/python3.10/dist-packages (from tinygrad) (4.65.0)\n",
            "Requirement already satisfied: networkx in /usr/local/lib/python3.10/dist-packages (from tinygrad) (3.1)\n",
            "Collecting pyopencl (from tinygrad)\n",
            "  Downloading pyopencl-2023.1.1-cp310-cp310-manylinux_2_17_x86_64.manylinux2014_x86_64.whl (919 kB)\n",
            "\u001b[2K     \u001b[90m━━━━━━━━━━━━━━━━━━━━━━━━━━━━━━━━━━━━━━\u001b[0m \u001b[32m919.2/919.2 kB\u001b[0m \u001b[31m14.0 MB/s\u001b[0m eta \u001b[36m0:00:00\u001b[0m\n",
            "\u001b[?25hCollecting pytools>=2021.2.7 (from pyopencl->tinygrad)\n",
            "  Downloading pytools-2023.1-py2.py3-none-any.whl (70 kB)\n",
            "\u001b[2K     \u001b[90m━━━━━━━━━━━━━━━━━━━━━━━━━━━━━━━━━━━━━━━━\u001b[0m \u001b[32m70.4/70.4 kB\u001b[0m \u001b[31m5.7 MB/s\u001b[0m eta \u001b[36m0:00:00\u001b[0m\n",
            "\u001b[?25hRequirement already satisfied: platformdirs>=2.2.0 in /usr/local/lib/python3.10/dist-packages (from pyopencl->tinygrad) (3.7.0)\n",
            "Requirement already satisfied: urllib3<1.27,>=1.21.1 in /usr/local/lib/python3.10/dist-packages (from requests->tinygrad) (1.26.16)\n",
            "Requirement already satisfied: certifi>=2017.4.17 in /usr/local/lib/python3.10/dist-packages (from requests->tinygrad) (2023.5.7)\n",
            "Requirement already satisfied: charset-normalizer~=2.0.0 in /usr/local/lib/python3.10/dist-packages (from requests->tinygrad) (2.0.12)\n",
            "Requirement already satisfied: idna<4,>=2.5 in /usr/local/lib/python3.10/dist-packages (from requests->tinygrad) (3.4)\n",
            "Requirement already satisfied: typing-extensions>=4.0 in /usr/local/lib/python3.10/dist-packages (from pytools>=2021.2.7->pyopencl->tinygrad) (4.6.3)\n",
            "Installing collected packages: pytools, pyopencl, tinygrad\n",
            "Successfully installed pyopencl-2023.1.1 pytools-2023.1 tinygrad-0.6.0\n"
          ]
        }
      ]
    },
    {
      "cell_type": "code",
      "source": [
        "import requests\n",
        "\n",
        "url = \"http://tenant18.bot.5goil.tmobile.com/api/jobs\"\n",
        "\n",
        "payload = {\n",
        "    \"model\": {\n",
        "        \"identifier\": \"dnaxchyxga\",\n",
        "        \"version\": \"0.0.1\"\n",
        "    },\n",
        "    \"input\": {\n",
        "        \"type\": \"embedded\",\n",
        "        \"sources\": { \"user-defined-input-name\": { \"model-input-item-name\": \"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\" } }\n",
        "    },\n",
        "    \"explain\": \"false\"\n",
        "}\n",
        "headers = {\n",
        "    \"accept\": \"application/json\",\n",
        "    \"content-type\": \"application/json\",\n",
        "    \"Authorization\": \"wZr4nkIAtLFPNUPySOdC.DYqB3325zWPXIDxdrZIH\"\n",
        "}\n",
        "\n",
        "response = requests.post(url, json=payload, headers=headers, verify=False)\n",
        "\n",
        "print(response.text)"
      ],
      "metadata": {
        "id": "m0DZ_11lrj7A",
        "colab": {
          "base_uri": "https://localhost:8080/",
          "height": 693
        },
        "outputId": "73648074-031e-41de-a531-4cc1e4adf5cb"
      },
      "execution_count": null,
      "outputs": [
        {
          "output_type": "error",
          "ename": "ConnectionError",
          "evalue": "ignored",
          "traceback": [
            "\u001b[0;31m---------------------------------------------------------------------------\u001b[0m",
            "\u001b[0;31mgaierror\u001b[0m                                  Traceback (most recent call last)",
            "\u001b[0;32m/usr/local/lib/python3.10/dist-packages/urllib3/connection.py\u001b[0m in \u001b[0;36m_new_conn\u001b[0;34m(self)\u001b[0m\n\u001b[1;32m    173\u001b[0m         \u001b[0;32mtry\u001b[0m\u001b[0;34m:\u001b[0m\u001b[0;34m\u001b[0m\u001b[0;34m\u001b[0m\u001b[0m\n\u001b[0;32m--> 174\u001b[0;31m             conn = connection.create_connection(\n\u001b[0m\u001b[1;32m    175\u001b[0m                 \u001b[0;34m(\u001b[0m\u001b[0mself\u001b[0m\u001b[0;34m.\u001b[0m\u001b[0m_dns_host\u001b[0m\u001b[0;34m,\u001b[0m \u001b[0mself\u001b[0m\u001b[0;34m.\u001b[0m\u001b[0mport\u001b[0m\u001b[0;34m)\u001b[0m\u001b[0;34m,\u001b[0m \u001b[0mself\u001b[0m\u001b[0;34m.\u001b[0m\u001b[0mtimeout\u001b[0m\u001b[0;34m,\u001b[0m \u001b[0;34m**\u001b[0m\u001b[0mextra_kw\u001b[0m\u001b[0;34m\u001b[0m\u001b[0;34m\u001b[0m\u001b[0m\n",
            "\u001b[0;32m/usr/local/lib/python3.10/dist-packages/urllib3/util/connection.py\u001b[0m in \u001b[0;36mcreate_connection\u001b[0;34m(address, timeout, source_address, socket_options)\u001b[0m\n\u001b[1;32m     71\u001b[0m \u001b[0;34m\u001b[0m\u001b[0m\n\u001b[0;32m---> 72\u001b[0;31m     \u001b[0;32mfor\u001b[0m \u001b[0mres\u001b[0m \u001b[0;32min\u001b[0m \u001b[0msocket\u001b[0m\u001b[0;34m.\u001b[0m\u001b[0mgetaddrinfo\u001b[0m\u001b[0;34m(\u001b[0m\u001b[0mhost\u001b[0m\u001b[0;34m,\u001b[0m \u001b[0mport\u001b[0m\u001b[0;34m,\u001b[0m \u001b[0mfamily\u001b[0m\u001b[0;34m,\u001b[0m \u001b[0msocket\u001b[0m\u001b[0;34m.\u001b[0m\u001b[0mSOCK_STREAM\u001b[0m\u001b[0;34m)\u001b[0m\u001b[0;34m:\u001b[0m\u001b[0;34m\u001b[0m\u001b[0;34m\u001b[0m\u001b[0m\n\u001b[0m\u001b[1;32m     73\u001b[0m         \u001b[0maf\u001b[0m\u001b[0;34m,\u001b[0m \u001b[0msocktype\u001b[0m\u001b[0;34m,\u001b[0m \u001b[0mproto\u001b[0m\u001b[0;34m,\u001b[0m \u001b[0mcanonname\u001b[0m\u001b[0;34m,\u001b[0m \u001b[0msa\u001b[0m \u001b[0;34m=\u001b[0m \u001b[0mres\u001b[0m\u001b[0;34m\u001b[0m\u001b[0;34m\u001b[0m\u001b[0m\n",
            "\u001b[0;32m/usr/lib/python3.10/socket.py\u001b[0m in \u001b[0;36mgetaddrinfo\u001b[0;34m(host, port, family, type, proto, flags)\u001b[0m\n\u001b[1;32m    954\u001b[0m     \u001b[0maddrlist\u001b[0m \u001b[0;34m=\u001b[0m \u001b[0;34m[\u001b[0m\u001b[0;34m]\u001b[0m\u001b[0;34m\u001b[0m\u001b[0;34m\u001b[0m\u001b[0m\n\u001b[0;32m--> 955\u001b[0;31m     \u001b[0;32mfor\u001b[0m \u001b[0mres\u001b[0m \u001b[0;32min\u001b[0m \u001b[0m_socket\u001b[0m\u001b[0;34m.\u001b[0m\u001b[0mgetaddrinfo\u001b[0m\u001b[0;34m(\u001b[0m\u001b[0mhost\u001b[0m\u001b[0;34m,\u001b[0m \u001b[0mport\u001b[0m\u001b[0;34m,\u001b[0m \u001b[0mfamily\u001b[0m\u001b[0;34m,\u001b[0m \u001b[0mtype\u001b[0m\u001b[0;34m,\u001b[0m \u001b[0mproto\u001b[0m\u001b[0;34m,\u001b[0m \u001b[0mflags\u001b[0m\u001b[0;34m)\u001b[0m\u001b[0;34m:\u001b[0m\u001b[0;34m\u001b[0m\u001b[0;34m\u001b[0m\u001b[0m\n\u001b[0m\u001b[1;32m    956\u001b[0m         \u001b[0maf\u001b[0m\u001b[0;34m,\u001b[0m \u001b[0msocktype\u001b[0m\u001b[0;34m,\u001b[0m \u001b[0mproto\u001b[0m\u001b[0;34m,\u001b[0m \u001b[0mcanonname\u001b[0m\u001b[0;34m,\u001b[0m \u001b[0msa\u001b[0m \u001b[0;34m=\u001b[0m \u001b[0mres\u001b[0m\u001b[0;34m\u001b[0m\u001b[0;34m\u001b[0m\u001b[0m\n",
            "\u001b[0;31mgaierror\u001b[0m: [Errno -2] Name or service not known",
            "\nDuring handling of the above exception, another exception occurred:\n",
            "\u001b[0;31mNewConnectionError\u001b[0m                        Traceback (most recent call last)",
            "\u001b[0;32m/usr/local/lib/python3.10/dist-packages/urllib3/connectionpool.py\u001b[0m in \u001b[0;36murlopen\u001b[0;34m(self, method, url, body, headers, retries, redirect, assert_same_host, timeout, pool_timeout, release_conn, chunked, body_pos, **response_kw)\u001b[0m\n\u001b[1;32m    713\u001b[0m             \u001b[0;31m# Make the request on the httplib connection object.\u001b[0m\u001b[0;34m\u001b[0m\u001b[0;34m\u001b[0m\u001b[0m\n\u001b[0;32m--> 714\u001b[0;31m             httplib_response = self._make_request(\n\u001b[0m\u001b[1;32m    715\u001b[0m                 \u001b[0mconn\u001b[0m\u001b[0;34m,\u001b[0m\u001b[0;34m\u001b[0m\u001b[0;34m\u001b[0m\u001b[0m\n",
            "\u001b[0;32m/usr/local/lib/python3.10/dist-packages/urllib3/connectionpool.py\u001b[0m in \u001b[0;36m_make_request\u001b[0;34m(self, conn, method, url, timeout, chunked, **httplib_request_kw)\u001b[0m\n\u001b[1;32m    414\u001b[0m             \u001b[0;32melse\u001b[0m\u001b[0;34m:\u001b[0m\u001b[0;34m\u001b[0m\u001b[0;34m\u001b[0m\u001b[0m\n\u001b[0;32m--> 415\u001b[0;31m                 \u001b[0mconn\u001b[0m\u001b[0;34m.\u001b[0m\u001b[0mrequest\u001b[0m\u001b[0;34m(\u001b[0m\u001b[0mmethod\u001b[0m\u001b[0;34m,\u001b[0m \u001b[0murl\u001b[0m\u001b[0;34m,\u001b[0m \u001b[0;34m**\u001b[0m\u001b[0mhttplib_request_kw\u001b[0m\u001b[0;34m)\u001b[0m\u001b[0;34m\u001b[0m\u001b[0;34m\u001b[0m\u001b[0m\n\u001b[0m\u001b[1;32m    416\u001b[0m \u001b[0;34m\u001b[0m\u001b[0m\n",
            "\u001b[0;32m/usr/local/lib/python3.10/dist-packages/urllib3/connection.py\u001b[0m in \u001b[0;36mrequest\u001b[0;34m(self, method, url, body, headers)\u001b[0m\n\u001b[1;32m    243\u001b[0m             \u001b[0mheaders\u001b[0m\u001b[0;34m[\u001b[0m\u001b[0;34m\"User-Agent\"\u001b[0m\u001b[0;34m]\u001b[0m \u001b[0;34m=\u001b[0m \u001b[0m_get_default_user_agent\u001b[0m\u001b[0;34m(\u001b[0m\u001b[0;34m)\u001b[0m\u001b[0;34m\u001b[0m\u001b[0;34m\u001b[0m\u001b[0m\n\u001b[0;32m--> 244\u001b[0;31m         \u001b[0msuper\u001b[0m\u001b[0;34m(\u001b[0m\u001b[0mHTTPConnection\u001b[0m\u001b[0;34m,\u001b[0m \u001b[0mself\u001b[0m\u001b[0;34m)\u001b[0m\u001b[0;34m.\u001b[0m\u001b[0mrequest\u001b[0m\u001b[0;34m(\u001b[0m\u001b[0mmethod\u001b[0m\u001b[0;34m,\u001b[0m \u001b[0murl\u001b[0m\u001b[0;34m,\u001b[0m \u001b[0mbody\u001b[0m\u001b[0;34m=\u001b[0m\u001b[0mbody\u001b[0m\u001b[0;34m,\u001b[0m \u001b[0mheaders\u001b[0m\u001b[0;34m=\u001b[0m\u001b[0mheaders\u001b[0m\u001b[0;34m)\u001b[0m\u001b[0;34m\u001b[0m\u001b[0;34m\u001b[0m\u001b[0m\n\u001b[0m\u001b[1;32m    245\u001b[0m \u001b[0;34m\u001b[0m\u001b[0m\n",
            "\u001b[0;32m/usr/lib/python3.10/http/client.py\u001b[0m in \u001b[0;36mrequest\u001b[0;34m(self, method, url, body, headers, encode_chunked)\u001b[0m\n\u001b[1;32m   1282\u001b[0m         \u001b[0;34m\"\"\"Send a complete request to the server.\"\"\"\u001b[0m\u001b[0;34m\u001b[0m\u001b[0;34m\u001b[0m\u001b[0m\n\u001b[0;32m-> 1283\u001b[0;31m         \u001b[0mself\u001b[0m\u001b[0;34m.\u001b[0m\u001b[0m_send_request\u001b[0m\u001b[0;34m(\u001b[0m\u001b[0mmethod\u001b[0m\u001b[0;34m,\u001b[0m \u001b[0murl\u001b[0m\u001b[0;34m,\u001b[0m \u001b[0mbody\u001b[0m\u001b[0;34m,\u001b[0m \u001b[0mheaders\u001b[0m\u001b[0;34m,\u001b[0m \u001b[0mencode_chunked\u001b[0m\u001b[0;34m)\u001b[0m\u001b[0;34m\u001b[0m\u001b[0;34m\u001b[0m\u001b[0m\n\u001b[0m\u001b[1;32m   1284\u001b[0m \u001b[0;34m\u001b[0m\u001b[0m\n",
            "\u001b[0;32m/usr/lib/python3.10/http/client.py\u001b[0m in \u001b[0;36m_send_request\u001b[0;34m(self, method, url, body, headers, encode_chunked)\u001b[0m\n\u001b[1;32m   1328\u001b[0m             \u001b[0mbody\u001b[0m \u001b[0;34m=\u001b[0m \u001b[0m_encode\u001b[0m\u001b[0;34m(\u001b[0m\u001b[0mbody\u001b[0m\u001b[0;34m,\u001b[0m \u001b[0;34m'body'\u001b[0m\u001b[0;34m)\u001b[0m\u001b[0;34m\u001b[0m\u001b[0;34m\u001b[0m\u001b[0m\n\u001b[0;32m-> 1329\u001b[0;31m         \u001b[0mself\u001b[0m\u001b[0;34m.\u001b[0m\u001b[0mendheaders\u001b[0m\u001b[0;34m(\u001b[0m\u001b[0mbody\u001b[0m\u001b[0;34m,\u001b[0m \u001b[0mencode_chunked\u001b[0m\u001b[0;34m=\u001b[0m\u001b[0mencode_chunked\u001b[0m\u001b[0;34m)\u001b[0m\u001b[0;34m\u001b[0m\u001b[0;34m\u001b[0m\u001b[0m\n\u001b[0m\u001b[1;32m   1330\u001b[0m \u001b[0;34m\u001b[0m\u001b[0m\n",
            "\u001b[0;32m/usr/lib/python3.10/http/client.py\u001b[0m in \u001b[0;36mendheaders\u001b[0;34m(self, message_body, encode_chunked)\u001b[0m\n\u001b[1;32m   1277\u001b[0m             \u001b[0;32mraise\u001b[0m \u001b[0mCannotSendHeader\u001b[0m\u001b[0;34m(\u001b[0m\u001b[0;34m)\u001b[0m\u001b[0;34m\u001b[0m\u001b[0;34m\u001b[0m\u001b[0m\n\u001b[0;32m-> 1278\u001b[0;31m         \u001b[0mself\u001b[0m\u001b[0;34m.\u001b[0m\u001b[0m_send_output\u001b[0m\u001b[0;34m(\u001b[0m\u001b[0mmessage_body\u001b[0m\u001b[0;34m,\u001b[0m \u001b[0mencode_chunked\u001b[0m\u001b[0;34m=\u001b[0m\u001b[0mencode_chunked\u001b[0m\u001b[0;34m)\u001b[0m\u001b[0;34m\u001b[0m\u001b[0;34m\u001b[0m\u001b[0m\n\u001b[0m\u001b[1;32m   1279\u001b[0m \u001b[0;34m\u001b[0m\u001b[0m\n",
            "\u001b[0;32m/usr/lib/python3.10/http/client.py\u001b[0m in \u001b[0;36m_send_output\u001b[0;34m(self, message_body, encode_chunked)\u001b[0m\n\u001b[1;32m   1037\u001b[0m         \u001b[0;32mdel\u001b[0m \u001b[0mself\u001b[0m\u001b[0;34m.\u001b[0m\u001b[0m_buffer\u001b[0m\u001b[0;34m[\u001b[0m\u001b[0;34m:\u001b[0m\u001b[0;34m]\u001b[0m\u001b[0;34m\u001b[0m\u001b[0;34m\u001b[0m\u001b[0m\n\u001b[0;32m-> 1038\u001b[0;31m         \u001b[0mself\u001b[0m\u001b[0;34m.\u001b[0m\u001b[0msend\u001b[0m\u001b[0;34m(\u001b[0m\u001b[0mmsg\u001b[0m\u001b[0;34m)\u001b[0m\u001b[0;34m\u001b[0m\u001b[0;34m\u001b[0m\u001b[0m\n\u001b[0m\u001b[1;32m   1039\u001b[0m \u001b[0;34m\u001b[0m\u001b[0m\n",
            "\u001b[0;32m/usr/lib/python3.10/http/client.py\u001b[0m in \u001b[0;36msend\u001b[0;34m(self, data)\u001b[0m\n\u001b[1;32m    975\u001b[0m             \u001b[0;32mif\u001b[0m \u001b[0mself\u001b[0m\u001b[0;34m.\u001b[0m\u001b[0mauto_open\u001b[0m\u001b[0;34m:\u001b[0m\u001b[0;34m\u001b[0m\u001b[0;34m\u001b[0m\u001b[0m\n\u001b[0;32m--> 976\u001b[0;31m                 \u001b[0mself\u001b[0m\u001b[0;34m.\u001b[0m\u001b[0mconnect\u001b[0m\u001b[0;34m(\u001b[0m\u001b[0;34m)\u001b[0m\u001b[0;34m\u001b[0m\u001b[0;34m\u001b[0m\u001b[0m\n\u001b[0m\u001b[1;32m    977\u001b[0m             \u001b[0;32melse\u001b[0m\u001b[0;34m:\u001b[0m\u001b[0;34m\u001b[0m\u001b[0;34m\u001b[0m\u001b[0m\n",
            "\u001b[0;32m/usr/local/lib/python3.10/dist-packages/urllib3/connection.py\u001b[0m in \u001b[0;36mconnect\u001b[0;34m(self)\u001b[0m\n\u001b[1;32m    204\u001b[0m     \u001b[0;32mdef\u001b[0m \u001b[0mconnect\u001b[0m\u001b[0;34m(\u001b[0m\u001b[0mself\u001b[0m\u001b[0;34m)\u001b[0m\u001b[0;34m:\u001b[0m\u001b[0;34m\u001b[0m\u001b[0;34m\u001b[0m\u001b[0m\n\u001b[0;32m--> 205\u001b[0;31m         \u001b[0mconn\u001b[0m \u001b[0;34m=\u001b[0m \u001b[0mself\u001b[0m\u001b[0;34m.\u001b[0m\u001b[0m_new_conn\u001b[0m\u001b[0;34m(\u001b[0m\u001b[0;34m)\u001b[0m\u001b[0;34m\u001b[0m\u001b[0;34m\u001b[0m\u001b[0m\n\u001b[0m\u001b[1;32m    206\u001b[0m         \u001b[0mself\u001b[0m\u001b[0;34m.\u001b[0m\u001b[0m_prepare_conn\u001b[0m\u001b[0;34m(\u001b[0m\u001b[0mconn\u001b[0m\u001b[0;34m)\u001b[0m\u001b[0;34m\u001b[0m\u001b[0;34m\u001b[0m\u001b[0m\n",
            "\u001b[0;32m/usr/local/lib/python3.10/dist-packages/urllib3/connection.py\u001b[0m in \u001b[0;36m_new_conn\u001b[0;34m(self)\u001b[0m\n\u001b[1;32m    185\u001b[0m         \u001b[0;32mexcept\u001b[0m \u001b[0mSocketError\u001b[0m \u001b[0;32mas\u001b[0m \u001b[0me\u001b[0m\u001b[0;34m:\u001b[0m\u001b[0;34m\u001b[0m\u001b[0;34m\u001b[0m\u001b[0m\n\u001b[0;32m--> 186\u001b[0;31m             raise NewConnectionError(\n\u001b[0m\u001b[1;32m    187\u001b[0m                 \u001b[0mself\u001b[0m\u001b[0;34m,\u001b[0m \u001b[0;34m\"Failed to establish a new connection: %s\"\u001b[0m \u001b[0;34m%\u001b[0m \u001b[0me\u001b[0m\u001b[0;34m\u001b[0m\u001b[0;34m\u001b[0m\u001b[0m\n",
            "\u001b[0;31mNewConnectionError\u001b[0m: <urllib3.connection.HTTPConnection object at 0x7f4bf777ea10>: Failed to establish a new connection: [Errno -2] Name or service not known",
            "\nDuring handling of the above exception, another exception occurred:\n",
            "\u001b[0;31mMaxRetryError\u001b[0m                             Traceback (most recent call last)",
            "\u001b[0;32m/usr/local/lib/python3.10/dist-packages/requests/adapters.py\u001b[0m in \u001b[0;36msend\u001b[0;34m(self, request, stream, timeout, verify, cert, proxies)\u001b[0m\n\u001b[1;32m    439\u001b[0m             \u001b[0;32mif\u001b[0m \u001b[0;32mnot\u001b[0m \u001b[0mchunked\u001b[0m\u001b[0;34m:\u001b[0m\u001b[0;34m\u001b[0m\u001b[0;34m\u001b[0m\u001b[0m\n\u001b[0;32m--> 440\u001b[0;31m                 resp = conn.urlopen(\n\u001b[0m\u001b[1;32m    441\u001b[0m                     \u001b[0mmethod\u001b[0m\u001b[0;34m=\u001b[0m\u001b[0mrequest\u001b[0m\u001b[0;34m.\u001b[0m\u001b[0mmethod\u001b[0m\u001b[0;34m,\u001b[0m\u001b[0;34m\u001b[0m\u001b[0;34m\u001b[0m\u001b[0m\n",
            "\u001b[0;32m/usr/local/lib/python3.10/dist-packages/urllib3/connectionpool.py\u001b[0m in \u001b[0;36murlopen\u001b[0;34m(self, method, url, body, headers, retries, redirect, assert_same_host, timeout, pool_timeout, release_conn, chunked, body_pos, **response_kw)\u001b[0m\n\u001b[1;32m    797\u001b[0m \u001b[0;34m\u001b[0m\u001b[0m\n\u001b[0;32m--> 798\u001b[0;31m             retries = retries.increment(\n\u001b[0m\u001b[1;32m    799\u001b[0m                 \u001b[0mmethod\u001b[0m\u001b[0;34m,\u001b[0m \u001b[0murl\u001b[0m\u001b[0;34m,\u001b[0m \u001b[0merror\u001b[0m\u001b[0;34m=\u001b[0m\u001b[0me\u001b[0m\u001b[0;34m,\u001b[0m \u001b[0m_pool\u001b[0m\u001b[0;34m=\u001b[0m\u001b[0mself\u001b[0m\u001b[0;34m,\u001b[0m \u001b[0m_stacktrace\u001b[0m\u001b[0;34m=\u001b[0m\u001b[0msys\u001b[0m\u001b[0;34m.\u001b[0m\u001b[0mexc_info\u001b[0m\u001b[0;34m(\u001b[0m\u001b[0;34m)\u001b[0m\u001b[0;34m[\u001b[0m\u001b[0;36m2\u001b[0m\u001b[0;34m]\u001b[0m\u001b[0;34m\u001b[0m\u001b[0;34m\u001b[0m\u001b[0m\n",
            "\u001b[0;32m/usr/local/lib/python3.10/dist-packages/urllib3/util/retry.py\u001b[0m in \u001b[0;36mincrement\u001b[0;34m(self, method, url, response, error, _pool, _stacktrace)\u001b[0m\n\u001b[1;32m    591\u001b[0m         \u001b[0;32mif\u001b[0m \u001b[0mnew_retry\u001b[0m\u001b[0;34m.\u001b[0m\u001b[0mis_exhausted\u001b[0m\u001b[0;34m(\u001b[0m\u001b[0;34m)\u001b[0m\u001b[0;34m:\u001b[0m\u001b[0;34m\u001b[0m\u001b[0;34m\u001b[0m\u001b[0m\n\u001b[0;32m--> 592\u001b[0;31m             \u001b[0;32mraise\u001b[0m \u001b[0mMaxRetryError\u001b[0m\u001b[0;34m(\u001b[0m\u001b[0m_pool\u001b[0m\u001b[0;34m,\u001b[0m \u001b[0murl\u001b[0m\u001b[0;34m,\u001b[0m \u001b[0merror\u001b[0m \u001b[0;32mor\u001b[0m \u001b[0mResponseError\u001b[0m\u001b[0;34m(\u001b[0m\u001b[0mcause\u001b[0m\u001b[0;34m)\u001b[0m\u001b[0;34m)\u001b[0m\u001b[0;34m\u001b[0m\u001b[0;34m\u001b[0m\u001b[0m\n\u001b[0m\u001b[1;32m    593\u001b[0m \u001b[0;34m\u001b[0m\u001b[0m\n",
            "\u001b[0;31mMaxRetryError\u001b[0m: HTTPConnectionPool(host='tenant18.bot.5goil.tmobile.com', port=80): Max retries exceeded with url: /api/jobs (Caused by NewConnectionError('<urllib3.connection.HTTPConnection object at 0x7f4bf777ea10>: Failed to establish a new connection: [Errno -2] Name or service not known'))",
            "\nDuring handling of the above exception, another exception occurred:\n",
            "\u001b[0;31mConnectionError\u001b[0m                           Traceback (most recent call last)",
            "\u001b[0;32m<ipython-input-1-e6f7add91012>\u001b[0m in \u001b[0;36m<cell line: 22>\u001b[0;34m()\u001b[0m\n\u001b[1;32m     20\u001b[0m }\n\u001b[1;32m     21\u001b[0m \u001b[0;34m\u001b[0m\u001b[0m\n\u001b[0;32m---> 22\u001b[0;31m \u001b[0mresponse\u001b[0m \u001b[0;34m=\u001b[0m \u001b[0mrequests\u001b[0m\u001b[0;34m.\u001b[0m\u001b[0mpost\u001b[0m\u001b[0;34m(\u001b[0m\u001b[0murl\u001b[0m\u001b[0;34m,\u001b[0m \u001b[0mjson\u001b[0m\u001b[0;34m=\u001b[0m\u001b[0mpayload\u001b[0m\u001b[0;34m,\u001b[0m \u001b[0mheaders\u001b[0m\u001b[0;34m=\u001b[0m\u001b[0mheaders\u001b[0m\u001b[0;34m)\u001b[0m\u001b[0;34m\u001b[0m\u001b[0;34m\u001b[0m\u001b[0m\n\u001b[0m\u001b[1;32m     23\u001b[0m \u001b[0;34m\u001b[0m\u001b[0m\n\u001b[1;32m     24\u001b[0m \u001b[0mprint\u001b[0m\u001b[0;34m(\u001b[0m\u001b[0mresponse\u001b[0m\u001b[0;34m.\u001b[0m\u001b[0mtext\u001b[0m\u001b[0;34m)\u001b[0m\u001b[0;34m\u001b[0m\u001b[0;34m\u001b[0m\u001b[0m\n",
            "\u001b[0;32m/usr/local/lib/python3.10/dist-packages/requests/api.py\u001b[0m in \u001b[0;36mpost\u001b[0;34m(url, data, json, **kwargs)\u001b[0m\n\u001b[1;32m    115\u001b[0m     \"\"\"\n\u001b[1;32m    116\u001b[0m \u001b[0;34m\u001b[0m\u001b[0m\n\u001b[0;32m--> 117\u001b[0;31m     \u001b[0;32mreturn\u001b[0m \u001b[0mrequest\u001b[0m\u001b[0;34m(\u001b[0m\u001b[0;34m'post'\u001b[0m\u001b[0;34m,\u001b[0m \u001b[0murl\u001b[0m\u001b[0;34m,\u001b[0m \u001b[0mdata\u001b[0m\u001b[0;34m=\u001b[0m\u001b[0mdata\u001b[0m\u001b[0;34m,\u001b[0m \u001b[0mjson\u001b[0m\u001b[0;34m=\u001b[0m\u001b[0mjson\u001b[0m\u001b[0;34m,\u001b[0m \u001b[0;34m**\u001b[0m\u001b[0mkwargs\u001b[0m\u001b[0;34m)\u001b[0m\u001b[0;34m\u001b[0m\u001b[0;34m\u001b[0m\u001b[0m\n\u001b[0m\u001b[1;32m    118\u001b[0m \u001b[0;34m\u001b[0m\u001b[0m\n\u001b[1;32m    119\u001b[0m \u001b[0;34m\u001b[0m\u001b[0m\n",
            "\u001b[0;32m/usr/local/lib/python3.10/dist-packages/requests/api.py\u001b[0m in \u001b[0;36mrequest\u001b[0;34m(method, url, **kwargs)\u001b[0m\n\u001b[1;32m     59\u001b[0m     \u001b[0;31m# cases, and look like a memory leak in others.\u001b[0m\u001b[0;34m\u001b[0m\u001b[0;34m\u001b[0m\u001b[0m\n\u001b[1;32m     60\u001b[0m     \u001b[0;32mwith\u001b[0m \u001b[0msessions\u001b[0m\u001b[0;34m.\u001b[0m\u001b[0mSession\u001b[0m\u001b[0;34m(\u001b[0m\u001b[0;34m)\u001b[0m \u001b[0;32mas\u001b[0m \u001b[0msession\u001b[0m\u001b[0;34m:\u001b[0m\u001b[0;34m\u001b[0m\u001b[0;34m\u001b[0m\u001b[0m\n\u001b[0;32m---> 61\u001b[0;31m         \u001b[0;32mreturn\u001b[0m \u001b[0msession\u001b[0m\u001b[0;34m.\u001b[0m\u001b[0mrequest\u001b[0m\u001b[0;34m(\u001b[0m\u001b[0mmethod\u001b[0m\u001b[0;34m=\u001b[0m\u001b[0mmethod\u001b[0m\u001b[0;34m,\u001b[0m \u001b[0murl\u001b[0m\u001b[0;34m=\u001b[0m\u001b[0murl\u001b[0m\u001b[0;34m,\u001b[0m \u001b[0;34m**\u001b[0m\u001b[0mkwargs\u001b[0m\u001b[0;34m)\u001b[0m\u001b[0;34m\u001b[0m\u001b[0;34m\u001b[0m\u001b[0m\n\u001b[0m\u001b[1;32m     62\u001b[0m \u001b[0;34m\u001b[0m\u001b[0m\n\u001b[1;32m     63\u001b[0m \u001b[0;34m\u001b[0m\u001b[0m\n",
            "\u001b[0;32m/usr/local/lib/python3.10/dist-packages/requests/sessions.py\u001b[0m in \u001b[0;36mrequest\u001b[0;34m(self, method, url, params, data, headers, cookies, files, auth, timeout, allow_redirects, proxies, hooks, stream, verify, cert, json)\u001b[0m\n\u001b[1;32m    527\u001b[0m         }\n\u001b[1;32m    528\u001b[0m         \u001b[0msend_kwargs\u001b[0m\u001b[0;34m.\u001b[0m\u001b[0mupdate\u001b[0m\u001b[0;34m(\u001b[0m\u001b[0msettings\u001b[0m\u001b[0;34m)\u001b[0m\u001b[0;34m\u001b[0m\u001b[0;34m\u001b[0m\u001b[0m\n\u001b[0;32m--> 529\u001b[0;31m         \u001b[0mresp\u001b[0m \u001b[0;34m=\u001b[0m \u001b[0mself\u001b[0m\u001b[0;34m.\u001b[0m\u001b[0msend\u001b[0m\u001b[0;34m(\u001b[0m\u001b[0mprep\u001b[0m\u001b[0;34m,\u001b[0m \u001b[0;34m**\u001b[0m\u001b[0msend_kwargs\u001b[0m\u001b[0;34m)\u001b[0m\u001b[0;34m\u001b[0m\u001b[0;34m\u001b[0m\u001b[0m\n\u001b[0m\u001b[1;32m    530\u001b[0m \u001b[0;34m\u001b[0m\u001b[0m\n\u001b[1;32m    531\u001b[0m         \u001b[0;32mreturn\u001b[0m \u001b[0mresp\u001b[0m\u001b[0;34m\u001b[0m\u001b[0;34m\u001b[0m\u001b[0m\n",
            "\u001b[0;32m/usr/local/lib/python3.10/dist-packages/requests/sessions.py\u001b[0m in \u001b[0;36msend\u001b[0;34m(self, request, **kwargs)\u001b[0m\n\u001b[1;32m    643\u001b[0m \u001b[0;34m\u001b[0m\u001b[0m\n\u001b[1;32m    644\u001b[0m         \u001b[0;31m# Send the request\u001b[0m\u001b[0;34m\u001b[0m\u001b[0;34m\u001b[0m\u001b[0m\n\u001b[0;32m--> 645\u001b[0;31m         \u001b[0mr\u001b[0m \u001b[0;34m=\u001b[0m \u001b[0madapter\u001b[0m\u001b[0;34m.\u001b[0m\u001b[0msend\u001b[0m\u001b[0;34m(\u001b[0m\u001b[0mrequest\u001b[0m\u001b[0;34m,\u001b[0m \u001b[0;34m**\u001b[0m\u001b[0mkwargs\u001b[0m\u001b[0;34m)\u001b[0m\u001b[0;34m\u001b[0m\u001b[0;34m\u001b[0m\u001b[0m\n\u001b[0m\u001b[1;32m    646\u001b[0m \u001b[0;34m\u001b[0m\u001b[0m\n\u001b[1;32m    647\u001b[0m         \u001b[0;31m# Total elapsed time of the request (approximately)\u001b[0m\u001b[0;34m\u001b[0m\u001b[0;34m\u001b[0m\u001b[0m\n",
            "\u001b[0;32m/usr/local/lib/python3.10/dist-packages/requests/adapters.py\u001b[0m in \u001b[0;36msend\u001b[0;34m(self, request, stream, timeout, verify, cert, proxies)\u001b[0m\n\u001b[1;32m    517\u001b[0m                 \u001b[0;32mraise\u001b[0m \u001b[0mSSLError\u001b[0m\u001b[0;34m(\u001b[0m\u001b[0me\u001b[0m\u001b[0;34m,\u001b[0m \u001b[0mrequest\u001b[0m\u001b[0;34m=\u001b[0m\u001b[0mrequest\u001b[0m\u001b[0;34m)\u001b[0m\u001b[0;34m\u001b[0m\u001b[0;34m\u001b[0m\u001b[0m\n\u001b[1;32m    518\u001b[0m \u001b[0;34m\u001b[0m\u001b[0m\n\u001b[0;32m--> 519\u001b[0;31m             \u001b[0;32mraise\u001b[0m \u001b[0mConnectionError\u001b[0m\u001b[0;34m(\u001b[0m\u001b[0me\u001b[0m\u001b[0;34m,\u001b[0m \u001b[0mrequest\u001b[0m\u001b[0;34m=\u001b[0m\u001b[0mrequest\u001b[0m\u001b[0;34m)\u001b[0m\u001b[0;34m\u001b[0m\u001b[0;34m\u001b[0m\u001b[0m\n\u001b[0m\u001b[1;32m    520\u001b[0m \u001b[0;34m\u001b[0m\u001b[0m\n\u001b[1;32m    521\u001b[0m         \u001b[0;32mexcept\u001b[0m \u001b[0mClosedPoolError\u001b[0m \u001b[0;32mas\u001b[0m \u001b[0me\u001b[0m\u001b[0;34m:\u001b[0m\u001b[0;34m\u001b[0m\u001b[0;34m\u001b[0m\u001b[0m\n",
            "\u001b[0;31mConnectionError\u001b[0m: HTTPConnectionPool(host='tenant18.bot.5goil.tmobile.com', port=80): Max retries exceeded with url: /api/jobs (Caused by NewConnectionError('<urllib3.connection.HTTPConnection object at 0x7f4bf777ea10>: Failed to establish a new connection: [Errno -2] Name or service not known'))"
          ]
        }
      ]
    }
  ]
}