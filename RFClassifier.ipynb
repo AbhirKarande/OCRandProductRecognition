{
  "nbformat": 4,
  "nbformat_minor": 0,
  "metadata": {
    "colab": {
      "provenance": [],
      "authorship_tag": "ABX9TyOqFZdhrGE36r+cdkiTrhDz",
      "include_colab_link": true
    },
    "kernelspec": {
      "name": "python3",
      "display_name": "Python 3"
    },
    "language_info": {
      "name": "python"
    }
  },
  "cells": [
    {
      "cell_type": "markdown",
      "metadata": {
        "id": "view-in-github",
        "colab_type": "text"
      },
      "source": [
        "<a href=\"https://colab.research.google.com/github/AbhirKarande/OCRandProductRecognition/blob/main/RFClassifier.ipynb\" target=\"_parent\"><img src=\"https://colab.research.google.com/assets/colab-badge.svg\" alt=\"Open In Colab\"/></a>"
      ]
    },
    {
      "cell_type": "code",
      "execution_count": 38,
      "metadata": {
        "colab": {
          "base_uri": "https://localhost:8080/"
        },
        "id": "XtkH0hPaSpT2",
        "outputId": "6bc5c588-b3f3-4934-d88a-5706b9ae3a57"
      },
      "outputs": [
        {
          "output_type": "stream",
          "name": "stdout",
          "text": [
            "fatal: destination path 'OCRandProductRecognition' already exists and is not an empty directory.\n"
          ]
        }
      ],
      "source": [
        "!git clone https://github.com/AbhirKarande/OCRandProductRecognition.git"
      ]
    },
    {
      "cell_type": "code",
      "source": [
        "import shutil\n",
        "\n",
        "# Specify the path of the directory you want to download\n",
        "directory_path = \"/content/OCRandProductRecognition/WholeFoodsTrainingImages/train\"\n",
        "\n",
        "# Create a zip file of the directory\n",
        "shutil.make_archive(\"/content/whole_foods_training_images\", \"zip\", directory_path)\n",
        "\n",
        "# Download the zip file\n",
        "from google.colab import files\n",
        "files.download(\"/content/whole_foods_training_images.zip\")\n"
      ],
      "metadata": {
        "colab": {
          "base_uri": "https://localhost:8080/",
          "height": 17
        },
        "id": "1NJ5f1R-7Rrg",
        "outputId": "3394ff46-cb08-4a31-89d4-a06f80e6a5ae"
      },
      "execution_count": 66,
      "outputs": [
        {
          "output_type": "display_data",
          "data": {
            "text/plain": [
              "<IPython.core.display.Javascript object>"
            ],
            "application/javascript": [
              "\n",
              "    async function download(id, filename, size) {\n",
              "      if (!google.colab.kernel.accessAllowed) {\n",
              "        return;\n",
              "      }\n",
              "      const div = document.createElement('div');\n",
              "      const label = document.createElement('label');\n",
              "      label.textContent = `Downloading \"${filename}\": `;\n",
              "      div.appendChild(label);\n",
              "      const progress = document.createElement('progress');\n",
              "      progress.max = size;\n",
              "      div.appendChild(progress);\n",
              "      document.body.appendChild(div);\n",
              "\n",
              "      const buffers = [];\n",
              "      let downloaded = 0;\n",
              "\n",
              "      const channel = await google.colab.kernel.comms.open(id);\n",
              "      // Send a message to notify the kernel that we're ready.\n",
              "      channel.send({})\n",
              "\n",
              "      for await (const message of channel.messages) {\n",
              "        // Send a message to notify the kernel that we're ready.\n",
              "        channel.send({})\n",
              "        if (message.buffers) {\n",
              "          for (const buffer of message.buffers) {\n",
              "            buffers.push(buffer);\n",
              "            downloaded += buffer.byteLength;\n",
              "            progress.value = downloaded;\n",
              "          }\n",
              "        }\n",
              "      }\n",
              "      const blob = new Blob(buffers, {type: 'application/binary'});\n",
              "      const a = document.createElement('a');\n",
              "      a.href = window.URL.createObjectURL(blob);\n",
              "      a.download = filename;\n",
              "      div.appendChild(a);\n",
              "      a.click();\n",
              "      div.remove();\n",
              "    }\n",
              "  "
            ]
          },
          "metadata": {}
        },
        {
          "output_type": "display_data",
          "data": {
            "text/plain": [
              "<IPython.core.display.Javascript object>"
            ],
            "application/javascript": [
              "download(\"download_1b0acdc9-687f-4243-bded-6e5e8720ccc9\", \"whole_foods_training_images.zip\", 48869666)"
            ]
          },
          "metadata": {}
        }
      ]
    },
    {
      "cell_type": "code",
      "source": [
        "!mkdir basil"
      ],
      "metadata": {
        "colab": {
          "base_uri": "https://localhost:8080/"
        },
        "id": "QZHP3Mr7qnpN",
        "outputId": "5e0253a0-9844-4859-bd37-df5de8ac623e"
      },
      "execution_count": 39,
      "outputs": [
        {
          "output_type": "stream",
          "name": "stdout",
          "text": [
            "mkdir: cannot create directory ‘basil’: File exists\n"
          ]
        }
      ]
    },
    {
      "cell_type": "code",
      "source": [
        "import os\n",
        "import cv2\n",
        "import numpy as np\n",
        "from sklearn.ensemble import RandomForestClassifier\n",
        "from sklearn.model_selection import train_test_split\n",
        "from sklearn.metrics import accuracy_score"
      ],
      "metadata": {
        "id": "RGgYMWkOSsxb"
      },
      "execution_count": 40,
      "outputs": []
    },
    {
      "cell_type": "code",
      "source": [
        "# Define the path to your training images\n",
        "training_path = \"/content/OCRandProductRecognition/WholeFoodsTrainingImages/train\"\n",
        "\n",
        "# Initialize empty lists for images and labels\n",
        "images = []\n",
        "labels = []"
      ],
      "metadata": {
        "id": "Inmh4la4S1n5"
      },
      "execution_count": 47,
      "outputs": []
    },
    {
      "cell_type": "code",
      "source": [
        "print(labels)"
      ],
      "metadata": {
        "colab": {
          "base_uri": "https://localhost:8080/"
        },
        "id": "LdgU8Rmq1Bf0",
        "outputId": "b610d774-79c9-46ea-cc4f-92ae336d436a"
      },
      "execution_count": 48,
      "outputs": [
        {
          "output_type": "stream",
          "name": "stdout",
          "text": [
            "[]\n"
          ]
        }
      ]
    },
    {
      "cell_type": "code",
      "source": [
        "for subdir in os.listdir(training_path):\n",
        "    subdir_path = os.path.join(training_path, subdir)\n",
        "    if os.path.isdir(subdir_path):\n",
        "        # Read and preprocess images within each subdirectory\n",
        "        for filename in os.listdir(subdir_path):\n",
        "            file_path = os.path.join(subdir_path, filename)\n",
        "            if os.path.isfile(file_path):\n",
        "                image = cv2.imread(file_path)\n",
        "                print(file_path)\n",
        "                image = cv2.cvtColor(image, cv2.COLOR_BGR2GRAY)\n",
        "                image = cv2.resize(image, (100, 100))  # Resize images if needed\n",
        "                images.append(image)\n",
        "                labels.append(subdir)"
      ],
      "metadata": {
        "id": "owW1Fq1kS4yk",
        "colab": {
          "base_uri": "https://localhost:8080/"
        },
        "outputId": "b03cfc2e-436d-45b9-d3cc-3d1020e29836"
      },
      "execution_count": 49,
      "outputs": [
        {
          "output_type": "stream",
          "name": "stdout",
          "text": [
            "/content/OCRandProductRecognition/WholeFoodsTrainingImages/train/s1/2.jpg\n",
            "/content/OCRandProductRecognition/WholeFoodsTrainingImages/train/s1/6.jpg\n",
            "/content/OCRandProductRecognition/WholeFoodsTrainingImages/train/s1/7.jpg\n",
            "/content/OCRandProductRecognition/WholeFoodsTrainingImages/train/s1/1.jpg\n",
            "/content/OCRandProductRecognition/WholeFoodsTrainingImages/train/s1/3.jpg\n",
            "/content/OCRandProductRecognition/WholeFoodsTrainingImages/train/s1/12.jpg\n",
            "/content/OCRandProductRecognition/WholeFoodsTrainingImages/train/s1/10.jpg\n",
            "/content/OCRandProductRecognition/WholeFoodsTrainingImages/train/s1/5.jpg\n",
            "/content/OCRandProductRecognition/WholeFoodsTrainingImages/train/s1/9.jpg\n",
            "/content/OCRandProductRecognition/WholeFoodsTrainingImages/train/s1/4.jpg\n",
            "/content/OCRandProductRecognition/WholeFoodsTrainingImages/train/s1/11.jpg\n",
            "/content/OCRandProductRecognition/WholeFoodsTrainingImages/train/s1/8.jpg\n",
            "/content/OCRandProductRecognition/WholeFoodsTrainingImages/train/s1/13.jpg\n",
            "/content/OCRandProductRecognition/WholeFoodsTrainingImages/train/s2/2.jpg\n",
            "/content/OCRandProductRecognition/WholeFoodsTrainingImages/train/s2/6.jpg\n",
            "/content/OCRandProductRecognition/WholeFoodsTrainingImages/train/s2/7.jpg\n",
            "/content/OCRandProductRecognition/WholeFoodsTrainingImages/train/s2/1.jpg\n",
            "/content/OCRandProductRecognition/WholeFoodsTrainingImages/train/s2/3.jpg\n",
            "/content/OCRandProductRecognition/WholeFoodsTrainingImages/train/s2/12.jpg\n",
            "/content/OCRandProductRecognition/WholeFoodsTrainingImages/train/s2/10.jpg\n",
            "/content/OCRandProductRecognition/WholeFoodsTrainingImages/train/s2/5.jpg\n",
            "/content/OCRandProductRecognition/WholeFoodsTrainingImages/train/s2/9.jpg\n",
            "/content/OCRandProductRecognition/WholeFoodsTrainingImages/train/s2/4.jpg\n",
            "/content/OCRandProductRecognition/WholeFoodsTrainingImages/train/s2/11.jpg\n",
            "/content/OCRandProductRecognition/WholeFoodsTrainingImages/train/s2/8.jpg\n",
            "/content/OCRandProductRecognition/WholeFoodsTrainingImages/train/s2/13.jpg\n",
            "/content/OCRandProductRecognition/WholeFoodsTrainingImages/train/s4/2.jpg\n",
            "/content/OCRandProductRecognition/WholeFoodsTrainingImages/train/s4/6.jpg\n",
            "/content/OCRandProductRecognition/WholeFoodsTrainingImages/train/s4/7.jpg\n",
            "/content/OCRandProductRecognition/WholeFoodsTrainingImages/train/s4/1.jpg\n",
            "/content/OCRandProductRecognition/WholeFoodsTrainingImages/train/s4/3.jpg\n",
            "/content/OCRandProductRecognition/WholeFoodsTrainingImages/train/s4/12.jpg\n",
            "/content/OCRandProductRecognition/WholeFoodsTrainingImages/train/s4/10.jpg\n",
            "/content/OCRandProductRecognition/WholeFoodsTrainingImages/train/s4/5.jpg\n",
            "/content/OCRandProductRecognition/WholeFoodsTrainingImages/train/s4/9.jpg\n",
            "/content/OCRandProductRecognition/WholeFoodsTrainingImages/train/s4/4.jpg\n",
            "/content/OCRandProductRecognition/WholeFoodsTrainingImages/train/s4/11.jpg\n",
            "/content/OCRandProductRecognition/WholeFoodsTrainingImages/train/s4/8.jpg\n",
            "/content/OCRandProductRecognition/WholeFoodsTrainingImages/train/s4/13.jpg\n",
            "/content/OCRandProductRecognition/WholeFoodsTrainingImages/train/s3/2.jpg\n",
            "/content/OCRandProductRecognition/WholeFoodsTrainingImages/train/s3/6.jpg\n",
            "/content/OCRandProductRecognition/WholeFoodsTrainingImages/train/s3/7.jpg\n",
            "/content/OCRandProductRecognition/WholeFoodsTrainingImages/train/s3/1.jpg\n",
            "/content/OCRandProductRecognition/WholeFoodsTrainingImages/train/s3/3.jpg\n",
            "/content/OCRandProductRecognition/WholeFoodsTrainingImages/train/s3/12.jpg\n",
            "/content/OCRandProductRecognition/WholeFoodsTrainingImages/train/s3/10.jpg\n",
            "/content/OCRandProductRecognition/WholeFoodsTrainingImages/train/s3/5.jpg\n",
            "/content/OCRandProductRecognition/WholeFoodsTrainingImages/train/s3/9.jpg\n",
            "/content/OCRandProductRecognition/WholeFoodsTrainingImages/train/s3/4.jpg\n",
            "/content/OCRandProductRecognition/WholeFoodsTrainingImages/train/s3/11.jpg\n",
            "/content/OCRandProductRecognition/WholeFoodsTrainingImages/train/s3/8.jpg\n",
            "/content/OCRandProductRecognition/WholeFoodsTrainingImages/train/s3/13.jpg\n"
          ]
        }
      ]
    },
    {
      "cell_type": "code",
      "source": [
        "# Convert lists to numpy arrays\n",
        "images = np.array(images)\n",
        "labels = np.array(labels)\n"
      ],
      "metadata": {
        "id": "VbS8qihYS8X_"
      },
      "execution_count": 50,
      "outputs": []
    },
    {
      "cell_type": "code",
      "source": [
        "# Flatten the image arrays\n",
        "images = images.reshape(images.shape[0], -1)\n"
      ],
      "metadata": {
        "id": "UF-UABjUS-oR"
      },
      "execution_count": 51,
      "outputs": []
    },
    {
      "cell_type": "code",
      "source": [
        "# Split the data into training and testing sets\n",
        "X_train, X_test, y_train, y_test = train_test_split(images, labels, test_size=0.1, random_state=42)\n"
      ],
      "metadata": {
        "id": "zu9gPKD9TB1y"
      },
      "execution_count": 52,
      "outputs": []
    },
    {
      "cell_type": "code",
      "source": [
        "# Create and train the Random Forest classifier\n",
        "rf_classifier = RandomForestClassifier(n_estimators=200)\n",
        "rf_classifier.fit(images, labels)\n"
      ],
      "metadata": {
        "colab": {
          "base_uri": "https://localhost:8080/",
          "height": 75
        },
        "id": "SZq4h9hiTEPs",
        "outputId": "650bc8af-9f4c-45eb-a25a-c46e7495c76d"
      },
      "execution_count": 53,
      "outputs": [
        {
          "output_type": "execute_result",
          "data": {
            "text/plain": [
              "RandomForestClassifier(n_estimators=200)"
            ],
            "text/html": [
              "<style>#sk-container-id-1 {color: black;background-color: white;}#sk-container-id-1 pre{padding: 0;}#sk-container-id-1 div.sk-toggleable {background-color: white;}#sk-container-id-1 label.sk-toggleable__label {cursor: pointer;display: block;width: 100%;margin-bottom: 0;padding: 0.3em;box-sizing: border-box;text-align: center;}#sk-container-id-1 label.sk-toggleable__label-arrow:before {content: \"▸\";float: left;margin-right: 0.25em;color: #696969;}#sk-container-id-1 label.sk-toggleable__label-arrow:hover:before {color: black;}#sk-container-id-1 div.sk-estimator:hover label.sk-toggleable__label-arrow:before {color: black;}#sk-container-id-1 div.sk-toggleable__content {max-height: 0;max-width: 0;overflow: hidden;text-align: left;background-color: #f0f8ff;}#sk-container-id-1 div.sk-toggleable__content pre {margin: 0.2em;color: black;border-radius: 0.25em;background-color: #f0f8ff;}#sk-container-id-1 input.sk-toggleable__control:checked~div.sk-toggleable__content {max-height: 200px;max-width: 100%;overflow: auto;}#sk-container-id-1 input.sk-toggleable__control:checked~label.sk-toggleable__label-arrow:before {content: \"▾\";}#sk-container-id-1 div.sk-estimator input.sk-toggleable__control:checked~label.sk-toggleable__label {background-color: #d4ebff;}#sk-container-id-1 div.sk-label input.sk-toggleable__control:checked~label.sk-toggleable__label {background-color: #d4ebff;}#sk-container-id-1 input.sk-hidden--visually {border: 0;clip: rect(1px 1px 1px 1px);clip: rect(1px, 1px, 1px, 1px);height: 1px;margin: -1px;overflow: hidden;padding: 0;position: absolute;width: 1px;}#sk-container-id-1 div.sk-estimator {font-family: monospace;background-color: #f0f8ff;border: 1px dotted black;border-radius: 0.25em;box-sizing: border-box;margin-bottom: 0.5em;}#sk-container-id-1 div.sk-estimator:hover {background-color: #d4ebff;}#sk-container-id-1 div.sk-parallel-item::after {content: \"\";width: 100%;border-bottom: 1px solid gray;flex-grow: 1;}#sk-container-id-1 div.sk-label:hover label.sk-toggleable__label {background-color: #d4ebff;}#sk-container-id-1 div.sk-serial::before {content: \"\";position: absolute;border-left: 1px solid gray;box-sizing: border-box;top: 0;bottom: 0;left: 50%;z-index: 0;}#sk-container-id-1 div.sk-serial {display: flex;flex-direction: column;align-items: center;background-color: white;padding-right: 0.2em;padding-left: 0.2em;position: relative;}#sk-container-id-1 div.sk-item {position: relative;z-index: 1;}#sk-container-id-1 div.sk-parallel {display: flex;align-items: stretch;justify-content: center;background-color: white;position: relative;}#sk-container-id-1 div.sk-item::before, #sk-container-id-1 div.sk-parallel-item::before {content: \"\";position: absolute;border-left: 1px solid gray;box-sizing: border-box;top: 0;bottom: 0;left: 50%;z-index: -1;}#sk-container-id-1 div.sk-parallel-item {display: flex;flex-direction: column;z-index: 1;position: relative;background-color: white;}#sk-container-id-1 div.sk-parallel-item:first-child::after {align-self: flex-end;width: 50%;}#sk-container-id-1 div.sk-parallel-item:last-child::after {align-self: flex-start;width: 50%;}#sk-container-id-1 div.sk-parallel-item:only-child::after {width: 0;}#sk-container-id-1 div.sk-dashed-wrapped {border: 1px dashed gray;margin: 0 0.4em 0.5em 0.4em;box-sizing: border-box;padding-bottom: 0.4em;background-color: white;}#sk-container-id-1 div.sk-label label {font-family: monospace;font-weight: bold;display: inline-block;line-height: 1.2em;}#sk-container-id-1 div.sk-label-container {text-align: center;}#sk-container-id-1 div.sk-container {/* jupyter's `normalize.less` sets `[hidden] { display: none; }` but bootstrap.min.css set `[hidden] { display: none !important; }` so we also need the `!important` here to be able to override the default hidden behavior on the sphinx rendered scikit-learn.org. See: https://github.com/scikit-learn/scikit-learn/issues/21755 */display: inline-block !important;position: relative;}#sk-container-id-1 div.sk-text-repr-fallback {display: none;}</style><div id=\"sk-container-id-1\" class=\"sk-top-container\"><div class=\"sk-text-repr-fallback\"><pre>RandomForestClassifier(n_estimators=200)</pre><b>In a Jupyter environment, please rerun this cell to show the HTML representation or trust the notebook. <br />On GitHub, the HTML representation is unable to render, please try loading this page with nbviewer.org.</b></div><div class=\"sk-container\" hidden><div class=\"sk-item\"><div class=\"sk-estimator sk-toggleable\"><input class=\"sk-toggleable__control sk-hidden--visually\" id=\"sk-estimator-id-1\" type=\"checkbox\" checked><label for=\"sk-estimator-id-1\" class=\"sk-toggleable__label sk-toggleable__label-arrow\">RandomForestClassifier</label><div class=\"sk-toggleable__content\"><pre>RandomForestClassifier(n_estimators=200)</pre></div></div></div></div></div>"
            ]
          },
          "metadata": {},
          "execution_count": 53
        }
      ]
    },
    {
      "cell_type": "code",
      "source": [
        "# Predict the labels for the test set\n",
        "y_pred = rf_classifier.predict(X_test)"
      ],
      "metadata": {
        "id": "Y-5RuxQ4THsz"
      },
      "execution_count": 54,
      "outputs": []
    },
    {
      "cell_type": "code",
      "source": [
        "print(images)"
      ],
      "metadata": {
        "colab": {
          "base_uri": "https://localhost:8080/"
        },
        "id": "e1K0PwFgdss4",
        "outputId": "8c67b195-59b3-45d8-f1d3-73f76aa9ad71"
      },
      "execution_count": 55,
      "outputs": [
        {
          "output_type": "stream",
          "name": "stdout",
          "text": [
            "[[247 247 247 ... 247 247 247]\n",
            " [155 151 156 ... 198 188 185]\n",
            " [160 162 166 ... 182 178 172]\n",
            " ...\n",
            " [190 189 184 ...  31  69  86]\n",
            " [177 182 192 ... 107  53 101]\n",
            " [ 53  57  37 ... 159 157 154]]\n"
          ]
        }
      ]
    },
    {
      "cell_type": "code",
      "source": [
        "print(y_pred)"
      ],
      "metadata": {
        "colab": {
          "base_uri": "https://localhost:8080/"
        },
        "id": "0VvV0moCdm0s",
        "outputId": "13de23ec-1c7f-4c46-8e54-a834affa2d4a"
      },
      "execution_count": 56,
      "outputs": [
        {
          "output_type": "stream",
          "name": "stdout",
          "text": [
            "['s2' 's3' 's3' 's1' 's3' 's1']\n"
          ]
        }
      ]
    },
    {
      "cell_type": "code",
      "source": [
        "# Calculate and print the accuracy of the classifier\n",
        "accuracy = accuracy_score(y_test, y_pred)\n",
        "print(\"Accuracy:\", accuracy)"
      ],
      "metadata": {
        "colab": {
          "base_uri": "https://localhost:8080/"
        },
        "id": "khi7grmQTJgd",
        "outputId": "e791878f-6e30-4dd2-91d0-b20e54d8602f"
      },
      "execution_count": 57,
      "outputs": [
        {
          "output_type": "stream",
          "name": "stdout",
          "text": [
            "Accuracy: 1.0\n"
          ]
        }
      ]
    },
    {
      "cell_type": "code",
      "source": [
        "print(y_test)"
      ],
      "metadata": {
        "colab": {
          "base_uri": "https://localhost:8080/"
        },
        "id": "UJDTa6P7gRdj",
        "outputId": "622d0d1f-8224-48e4-f7d3-e21d2045be54"
      },
      "execution_count": 58,
      "outputs": [
        {
          "output_type": "stream",
          "name": "stdout",
          "text": [
            "['s2' 's3' 's3' 's1' 's3' 's1']\n"
          ]
        }
      ]
    },
    {
      "cell_type": "code",
      "source": [
        "print(y_pred)"
      ],
      "metadata": {
        "colab": {
          "base_uri": "https://localhost:8080/"
        },
        "id": "1XEDLYaPgT87",
        "outputId": "073f24ad-c125-4fb5-fe04-80d58c224c48"
      },
      "execution_count": 59,
      "outputs": [
        {
          "output_type": "stream",
          "name": "stdout",
          "text": [
            "['s2' 's3' 's3' 's1' 's3' 's1']\n"
          ]
        }
      ]
    },
    {
      "cell_type": "code",
      "source": [
        "import joblib\n",
        "model_filename = \"rfmodelnew2.pkl\"\n",
        "joblib.dump(rf_classifier, model_filename)"
      ],
      "metadata": {
        "colab": {
          "base_uri": "https://localhost:8080/"
        },
        "id": "IE8tVLMVtfRl",
        "outputId": "40a3c0b5-aac7-4c67-b3c2-a63ee5c23339"
      },
      "execution_count": 60,
      "outputs": [
        {
          "output_type": "execute_result",
          "data": {
            "text/plain": [
              "['rfmodelnew2.pkl']"
            ]
          },
          "metadata": {},
          "execution_count": 60
        }
      ]
    },
    {
      "cell_type": "code",
      "source": [
        "import joblib\n",
        "model_filename = \"/content/rfmodelnew2.pkl\"\n",
        "\n",
        "loaded_model = joblib.load(model_filename)"
      ],
      "metadata": {
        "id": "hEQS-v_Rtwlp"
      },
      "execution_count": 61,
      "outputs": []
    },
    {
      "cell_type": "code",
      "source": [
        "!pip install pyheif"
      ],
      "metadata": {
        "colab": {
          "base_uri": "https://localhost:8080/"
        },
        "id": "V4F59giQUFKo",
        "outputId": "a195d47c-3acd-4fe4-eac9-724e1cdce7a4"
      },
      "execution_count": 6,
      "outputs": [
        {
          "output_type": "stream",
          "name": "stdout",
          "text": [
            "Looking in indexes: https://pypi.org/simple, https://us-python.pkg.dev/colab-wheels/public/simple/\n",
            "Collecting pyheif\n",
            "  Downloading pyheif-0.7.1-cp310-cp310-manylinux_2_17_x86_64.manylinux2014_x86_64.whl (9.8 MB)\n",
            "\u001b[2K     \u001b[90m━━━━━━━━━━━━━━━━━━━━━━━━━━━━━━━━━━━━━━━━\u001b[0m \u001b[32m9.8/9.8 MB\u001b[0m \u001b[31m43.5 MB/s\u001b[0m eta \u001b[36m0:00:00\u001b[0m\n",
            "\u001b[?25hRequirement already satisfied: cffi>=1.0.0 in /usr/local/lib/python3.10/dist-packages (from pyheif) (1.15.1)\n",
            "Requirement already satisfied: pycparser in /usr/local/lib/python3.10/dist-packages (from cffi>=1.0.0->pyheif) (2.21)\n",
            "Installing collected packages: pyheif\n",
            "Successfully installed pyheif-0.7.1\n"
          ]
        }
      ]
    },
    {
      "cell_type": "code",
      "source": [
        "import os\n",
        "from PIL import Image\n",
        "import pyheif\n",
        "\n",
        "\n",
        "def convert_heic_to_jpg(heic_file, output_folder):\n",
        "    # Load the HEIC image\n",
        "    heif_file = pyheif.read(heic_file)\n",
        "    image = Image.frombytes(\n",
        "        heif_file.mode,\n",
        "        heif_file.size,\n",
        "        heif_file.data,\n",
        "        \"raw\",\n",
        "        heif_file.mode,\n",
        "        heif_file.stride,\n",
        "    )\n",
        "\n",
        "    # Generate the output file path\n",
        "    filename = os.path.splitext(os.path.basename(heic_file))[0]\n",
        "    output_file = os.path.join(output_folder, f\"{filename}.jpg\")\n",
        "\n",
        "    # Save the image as JPG\n",
        "    image.save(output_file, \"JPEG\")\n",
        "\n",
        "\n",
        "def batch_convert_heic_to_jpg(input_folder, output_folder):\n",
        "    # Create the output folder if it doesn't exist\n",
        "    os.makedirs(output_folder, exist_ok=True)\n",
        "\n",
        "    # Get a list of HEIC files in the input folder\n",
        "    heic_files = [\n",
        "        file for file in os.listdir(input_folder)\n",
        "        if file.lower().endswith(\".heic\")\n",
        "    ]\n",
        "\n",
        "    # Convert each HEIC file to JPG\n",
        "    for heic_file in heic_files:\n",
        "        heic_path = os.path.join(input_folder, heic_file)\n",
        "        convert_heic_to_jpg(heic_path, output_folder)\n",
        "\n",
        "\n",
        "# Specify the input and output folders\n",
        "input_folder = \"/content/basil\"\n",
        "output_folder = \"/content/basil_test_images\"\n",
        "\n",
        "# Convert HEIC files to JPG\n",
        "batch_convert_heic_to_jpg(input_folder, output_folder)\n"
      ],
      "metadata": {
        "id": "RmITnm1aTrQQ"
      },
      "execution_count": 26,
      "outputs": []
    },
    {
      "cell_type": "code",
      "source": [
        "import cv2\n",
        "import numpy as np\n",
        "import joblib\n",
        "\n",
        "# Load the saved model from the file\n",
        "loaded_model = joblib.load(model_filename)\n",
        "\n",
        "# Preprocess the test image\n",
        "test_image_path = \"/content/test_images/IMG_3864.jpg\"\n",
        "test_image = cv2.imread(test_image_path)\n",
        "test_image = cv2.cvtColor(test_image, cv2.COLOR_BGR2GRAY)\n",
        "test_image = cv2.resize(test_image, (100, 100))  # Resize if needed\n",
        "test_image = test_image.reshape(1, -1)  # Flatten the image array\n",
        "\n",
        "# Make predictions on the test image\n",
        "predicted_class = loaded_model.predict(test_image)\n",
        "\n",
        "# Print the predicted class\n",
        "print(\"Predicted class:\", predicted_class[0])"
      ],
      "metadata": {
        "colab": {
          "base_uri": "https://localhost:8080/"
        },
        "id": "7SArZRkWt17n",
        "outputId": "666c88b5-4a89-44b8-95bd-46032fddfeff"
      },
      "execution_count": 65,
      "outputs": [
        {
          "output_type": "stream",
          "name": "stdout",
          "text": [
            "Predicted class: s3\n"
          ]
        }
      ]
    },
    {
      "cell_type": "code",
      "source": [
        "!pip install modzy-sdk"
      ],
      "metadata": {
        "colab": {
          "base_uri": "https://localhost:8080/"
        },
        "id": "6mc5YPyTFDi-",
        "outputId": "865a90d7-8530-490a-ce98-cf4811512d83"
      },
      "execution_count": 1,
      "outputs": [
        {
          "output_type": "stream",
          "name": "stdout",
          "text": [
            "Looking in indexes: https://pypi.org/simple, https://us-python.pkg.dev/colab-wheels/public/simple/\n",
            "Collecting modzy-sdk\n",
            "  Downloading modzy_sdk-0.11.3-py2.py3-none-any.whl (105 kB)\n",
            "\u001b[2K     \u001b[90m━━━━━━━━━━━━━━━━━━━━━━━━━━━━━━━━━━━━━━━\u001b[0m \u001b[32m105.5/105.5 kB\u001b[0m \u001b[31m4.0 MB/s\u001b[0m eta \u001b[36m0:00:00\u001b[0m\n",
            "\u001b[?25hRequirement already satisfied: requests in /usr/local/lib/python3.10/dist-packages (from modzy-sdk) (2.27.1)\n",
            "Collecting python-dotenv (from modzy-sdk)\n",
            "  Downloading python_dotenv-1.0.0-py3-none-any.whl (19 kB)\n",
            "Collecting deprecation (from modzy-sdk)\n",
            "  Downloading deprecation-2.1.0-py2.py3-none-any.whl (11 kB)\n",
            "Collecting protobuf~=4.21.10 (from modzy-sdk)\n",
            "  Downloading protobuf-4.21.12-cp37-abi3-manylinux2014_x86_64.whl (409 kB)\n",
            "\u001b[2K     \u001b[90m━━━━━━━━━━━━━━━━━━━━━━━━━━━━━━━━━━━━━━\u001b[0m \u001b[32m409.8/409.8 kB\u001b[0m \u001b[31m14.8 MB/s\u001b[0m eta \u001b[36m0:00:00\u001b[0m\n",
            "\u001b[?25hRequirement already satisfied: grpcio in /usr/local/lib/python3.10/dist-packages (from modzy-sdk) (1.54.2)\n",
            "Requirement already satisfied: google-api-python-client in /usr/local/lib/python3.10/dist-packages (from modzy-sdk) (2.84.0)\n",
            "Collecting boto3 (from modzy-sdk)\n",
            "  Downloading boto3-1.26.160-py3-none-any.whl (135 kB)\n",
            "\u001b[2K     \u001b[90m━━━━━━━━━━━━━━━━━━━━━━━━━━━━━━━━━━━━━━\u001b[0m \u001b[32m135.9/135.9 kB\u001b[0m \u001b[31m13.5 MB/s\u001b[0m eta \u001b[36m0:00:00\u001b[0m\n",
            "\u001b[?25hCollecting botocore<1.30.0,>=1.29.160 (from boto3->modzy-sdk)\n",
            "  Downloading botocore-1.29.160-py3-none-any.whl (10.9 MB)\n",
            "\u001b[2K     \u001b[90m━━━━━━━━━━━━━━━━━━━━━━━━━━━━━━━━━━━━━━━━\u001b[0m \u001b[32m10.9/10.9 MB\u001b[0m \u001b[31m26.9 MB/s\u001b[0m eta \u001b[36m0:00:00\u001b[0m\n",
            "\u001b[?25hCollecting jmespath<2.0.0,>=0.7.1 (from boto3->modzy-sdk)\n",
            "  Downloading jmespath-1.0.1-py3-none-any.whl (20 kB)\n",
            "Collecting s3transfer<0.7.0,>=0.6.0 (from boto3->modzy-sdk)\n",
            "  Downloading s3transfer-0.6.1-py3-none-any.whl (79 kB)\n",
            "\u001b[2K     \u001b[90m━━━━━━━━━━━━━━━━━━━━━━━━━━━━━━━━━━━━━━━━\u001b[0m \u001b[32m79.8/79.8 kB\u001b[0m \u001b[31m3.8 MB/s\u001b[0m eta \u001b[36m0:00:00\u001b[0m\n",
            "\u001b[?25hRequirement already satisfied: packaging in /usr/local/lib/python3.10/dist-packages (from deprecation->modzy-sdk) (23.1)\n",
            "Requirement already satisfied: httplib2<1dev,>=0.15.0 in /usr/local/lib/python3.10/dist-packages (from google-api-python-client->modzy-sdk) (0.21.0)\n",
            "Requirement already satisfied: google-auth<3.0.0dev,>=1.19.0 in /usr/local/lib/python3.10/dist-packages (from google-api-python-client->modzy-sdk) (2.17.3)\n",
            "Requirement already satisfied: google-auth-httplib2>=0.1.0 in /usr/local/lib/python3.10/dist-packages (from google-api-python-client->modzy-sdk) (0.1.0)\n",
            "Requirement already satisfied: google-api-core!=2.0.*,!=2.1.*,!=2.2.*,!=2.3.0,<3.0.0dev,>=1.31.5 in /usr/local/lib/python3.10/dist-packages (from google-api-python-client->modzy-sdk) (2.11.1)\n",
            "Requirement already satisfied: uritemplate<5,>=3.0.1 in /usr/local/lib/python3.10/dist-packages (from google-api-python-client->modzy-sdk) (4.1.1)\n",
            "Requirement already satisfied: urllib3<1.27,>=1.21.1 in /usr/local/lib/python3.10/dist-packages (from requests->modzy-sdk) (1.26.16)\n",
            "Requirement already satisfied: certifi>=2017.4.17 in /usr/local/lib/python3.10/dist-packages (from requests->modzy-sdk) (2023.5.7)\n",
            "Requirement already satisfied: charset-normalizer~=2.0.0 in /usr/local/lib/python3.10/dist-packages (from requests->modzy-sdk) (2.0.12)\n",
            "Requirement already satisfied: idna<4,>=2.5 in /usr/local/lib/python3.10/dist-packages (from requests->modzy-sdk) (3.4)\n",
            "Requirement already satisfied: python-dateutil<3.0.0,>=2.1 in /usr/local/lib/python3.10/dist-packages (from botocore<1.30.0,>=1.29.160->boto3->modzy-sdk) (2.8.2)\n",
            "Requirement already satisfied: googleapis-common-protos<2.0.dev0,>=1.56.2 in /usr/local/lib/python3.10/dist-packages (from google-api-core!=2.0.*,!=2.1.*,!=2.2.*,!=2.3.0,<3.0.0dev,>=1.31.5->google-api-python-client->modzy-sdk) (1.59.1)\n",
            "Requirement already satisfied: cachetools<6.0,>=2.0.0 in /usr/local/lib/python3.10/dist-packages (from google-auth<3.0.0dev,>=1.19.0->google-api-python-client->modzy-sdk) (5.3.1)\n",
            "Requirement already satisfied: pyasn1-modules>=0.2.1 in /usr/local/lib/python3.10/dist-packages (from google-auth<3.0.0dev,>=1.19.0->google-api-python-client->modzy-sdk) (0.3.0)\n",
            "Requirement already satisfied: six>=1.9.0 in /usr/local/lib/python3.10/dist-packages (from google-auth<3.0.0dev,>=1.19.0->google-api-python-client->modzy-sdk) (1.16.0)\n",
            "Requirement already satisfied: rsa<5,>=3.1.4 in /usr/local/lib/python3.10/dist-packages (from google-auth<3.0.0dev,>=1.19.0->google-api-python-client->modzy-sdk) (4.9)\n",
            "Requirement already satisfied: pyparsing!=3.0.0,!=3.0.1,!=3.0.2,!=3.0.3,<4,>=2.4.2 in /usr/local/lib/python3.10/dist-packages (from httplib2<1dev,>=0.15.0->google-api-python-client->modzy-sdk) (3.1.0)\n",
            "Requirement already satisfied: pyasn1<0.6.0,>=0.4.6 in /usr/local/lib/python3.10/dist-packages (from pyasn1-modules>=0.2.1->google-auth<3.0.0dev,>=1.19.0->google-api-python-client->modzy-sdk) (0.5.0)\n",
            "Installing collected packages: python-dotenv, protobuf, jmespath, deprecation, botocore, s3transfer, boto3, modzy-sdk\n",
            "  Attempting uninstall: protobuf\n",
            "    Found existing installation: protobuf 3.20.3\n",
            "    Uninstalling protobuf-3.20.3:\n",
            "      Successfully uninstalled protobuf-3.20.3\n",
            "Successfully installed boto3-1.26.160 botocore-1.29.160 deprecation-2.1.0 jmespath-1.0.1 modzy-sdk-0.11.3 protobuf-4.21.12 python-dotenv-1.0.0 s3transfer-0.6.1\n"
          ]
        }
      ]
    },
    {
      "cell_type": "code",
      "source": [
        "\n",
        "from modzy import ApiClient\n",
        "from modzy._util import file_to_bytes\n",
        "client = ApiClient(base_url=\"https://tenant18.bot.5goil.tmobile.com/api\", api_key=\"wZr4nkIAtLFPNUPySOdC\")\n",
        "sources = {}\n",
        "#Add any number of inputs\n",
        "sources[\"my-input\"] = {\n",
        "    \"input.txt\": \"Lorem ipsum dolor sit amet\",\n",
        "}\n",
        "#Once you are ready, submit the job\n",
        "job = client.jobs.submit_text(\"ed542963de\", \"1.0.1\", sources)\n",
        "print(f\"job: {job}\")\n",
        "\n"
      ],
      "metadata": {
        "id": "hgB-wB-KuiaX",
        "colab": {
          "base_uri": "https://localhost:8080/",
          "height": 1000
        },
        "outputId": "ed028930-8b6e-4ba2-aced-42c33de27b5e"
      },
      "execution_count": 2,
      "outputs": [
        {
          "output_type": "stream",
          "name": "stderr",
          "text": [
            "ERROR:modzy.http:unable to make network request\n",
            "Traceback (most recent call last):\n",
            "  File \"/usr/local/lib/python3.10/dist-packages/urllib3/connection.py\", line 174, in _new_conn\n",
            "    conn = connection.create_connection(\n",
            "  File \"/usr/local/lib/python3.10/dist-packages/urllib3/util/connection.py\", line 72, in create_connection\n",
            "    for res in socket.getaddrinfo(host, port, family, socket.SOCK_STREAM):\n",
            "  File \"/usr/lib/python3.10/socket.py\", line 955, in getaddrinfo\n",
            "    for res in _socket.getaddrinfo(host, port, family, type, proto, flags):\n",
            "socket.gaierror: [Errno -2] Name or service not known\n",
            "\n",
            "During handling of the above exception, another exception occurred:\n",
            "\n",
            "Traceback (most recent call last):\n",
            "  File \"/usr/local/lib/python3.10/dist-packages/urllib3/connectionpool.py\", line 714, in urlopen\n",
            "    httplib_response = self._make_request(\n",
            "  File \"/usr/local/lib/python3.10/dist-packages/urllib3/connectionpool.py\", line 403, in _make_request\n",
            "    self._validate_conn(conn)\n",
            "  File \"/usr/local/lib/python3.10/dist-packages/urllib3/connectionpool.py\", line 1053, in _validate_conn\n",
            "    conn.connect()\n",
            "  File \"/usr/local/lib/python3.10/dist-packages/urllib3/connection.py\", line 363, in connect\n",
            "    self.sock = conn = self._new_conn()\n",
            "  File \"/usr/local/lib/python3.10/dist-packages/urllib3/connection.py\", line 186, in _new_conn\n",
            "    raise NewConnectionError(\n",
            "urllib3.exceptions.NewConnectionError: <urllib3.connection.HTTPSConnection object at 0x7f14f99bef20>: Failed to establish a new connection: [Errno -2] Name or service not known\n",
            "\n",
            "During handling of the above exception, another exception occurred:\n",
            "\n",
            "Traceback (most recent call last):\n",
            "  File \"/usr/local/lib/python3.10/dist-packages/requests/adapters.py\", line 440, in send\n",
            "    resp = conn.urlopen(\n",
            "  File \"/usr/local/lib/python3.10/dist-packages/urllib3/connectionpool.py\", line 798, in urlopen\n",
            "    retries = retries.increment(\n",
            "  File \"/usr/local/lib/python3.10/dist-packages/urllib3/util/retry.py\", line 592, in increment\n",
            "    raise MaxRetryError(_pool, url, error or ResponseError(cause))\n",
            "urllib3.exceptions.MaxRetryError: HTTPSConnectionPool(host='tenant18.bot.5goil.tmobile.com', port=443): Max retries exceeded with url: /api/models (Caused by NewConnectionError('<urllib3.connection.HTTPSConnection object at 0x7f14f99bef20>: Failed to establish a new connection: [Errno -2] Name or service not known'))\n",
            "\n",
            "During handling of the above exception, another exception occurred:\n",
            "\n",
            "Traceback (most recent call last):\n",
            "  File \"/usr/local/lib/python3.10/dist-packages/modzy/http.py\", line 85, in request\n",
            "    response = self.session.request(method, url, data=data, headers=headers, files=file_data, verify=self._api_client.cert, params=params)\n",
            "  File \"/usr/local/lib/python3.10/dist-packages/requests/sessions.py\", line 529, in request\n",
            "    resp = self.send(prep, **send_kwargs)\n",
            "  File \"/usr/local/lib/python3.10/dist-packages/requests/sessions.py\", line 645, in send\n",
            "    r = adapter.send(request, **kwargs)\n",
            "  File \"/usr/local/lib/python3.10/dist-packages/requests/adapters.py\", line 519, in send\n",
            "    raise ConnectionError(e, request=request)\n",
            "requests.exceptions.ConnectionError: HTTPSConnectionPool(host='tenant18.bot.5goil.tmobile.com', port=443): Max retries exceeded with url: /api/models (Caused by NewConnectionError('<urllib3.connection.HTTPSConnection object at 0x7f14f99bef20>: Failed to establish a new connection: [Errno -2] Name or service not known'))\n"
          ]
        },
        {
          "output_type": "error",
          "ename": "ValueError",
          "evalue": "ignored",
          "traceback": [
            "\u001b[0;31m---------------------------------------------------------------------------\u001b[0m",
            "\u001b[0;31mValueError\u001b[0m                                Traceback (most recent call last)",
            "\u001b[0;32m<ipython-input-2-f69c19fa5a3e>\u001b[0m in \u001b[0;36m<cell line: 3>\u001b[0;34m()\u001b[0m\n\u001b[1;32m      1\u001b[0m \u001b[0;32mfrom\u001b[0m \u001b[0mmodzy\u001b[0m \u001b[0;32mimport\u001b[0m \u001b[0mApiClient\u001b[0m\u001b[0;34m\u001b[0m\u001b[0;34m\u001b[0m\u001b[0m\n\u001b[1;32m      2\u001b[0m \u001b[0;32mfrom\u001b[0m \u001b[0mmodzy\u001b[0m\u001b[0;34m.\u001b[0m\u001b[0m_util\u001b[0m \u001b[0;32mimport\u001b[0m \u001b[0mfile_to_bytes\u001b[0m\u001b[0;34m\u001b[0m\u001b[0;34m\u001b[0m\u001b[0m\n\u001b[0;32m----> 3\u001b[0;31m \u001b[0mclient\u001b[0m \u001b[0;34m=\u001b[0m \u001b[0mApiClient\u001b[0m\u001b[0;34m(\u001b[0m\u001b[0mbase_url\u001b[0m\u001b[0;34m=\u001b[0m\u001b[0;34m\"https://tenant18.bot.5goil.tmobile.com/api\"\u001b[0m\u001b[0;34m,\u001b[0m \u001b[0mapi_key\u001b[0m\u001b[0;34m=\u001b[0m\u001b[0;34m\"wZr4nkIAtLFPNUPySOdC\"\u001b[0m\u001b[0;34m)\u001b[0m\u001b[0;34m\u001b[0m\u001b[0;34m\u001b[0m\u001b[0m\n\u001b[0m\u001b[1;32m      4\u001b[0m \u001b[0msources\u001b[0m \u001b[0;34m=\u001b[0m \u001b[0;34m{\u001b[0m\u001b[0;34m}\u001b[0m\u001b[0;34m\u001b[0m\u001b[0;34m\u001b[0m\u001b[0m\n\u001b[1;32m      5\u001b[0m \u001b[0;31m#Add any number of inputs\u001b[0m\u001b[0;34m\u001b[0m\u001b[0;34m\u001b[0m\u001b[0m\n",
            "\u001b[0;32m/usr/local/lib/python3.10/dist-packages/modzy/client.py\u001b[0m in \u001b[0;36m__init__\u001b[0;34m(self, base_url, api_key, cert)\u001b[0m\n\u001b[1;32m     46\u001b[0m \u001b[0;34m\u001b[0m\u001b[0m\n\u001b[1;32m     47\u001b[0m         \u001b[0mself\u001b[0m\u001b[0;34m.\u001b[0m\u001b[0mhttp\u001b[0m \u001b[0;34m=\u001b[0m \u001b[0mHttpClient\u001b[0m\u001b[0;34m(\u001b[0m\u001b[0mself\u001b[0m\u001b[0;34m)\u001b[0m\u001b[0;34m\u001b[0m\u001b[0;34m\u001b[0m\u001b[0m\n\u001b[0;32m---> 48\u001b[0;31m         \u001b[0mself\u001b[0m\u001b[0;34m.\u001b[0m\u001b[0mcheck_client\u001b[0m\u001b[0;34m(\u001b[0m\u001b[0;34m)\u001b[0m\u001b[0;34m\u001b[0m\u001b[0;34m\u001b[0m\u001b[0m\n\u001b[0m\u001b[1;32m     49\u001b[0m \u001b[0;34m\u001b[0m\u001b[0m\n\u001b[1;32m     50\u001b[0m         \u001b[0mself\u001b[0m\u001b[0;34m.\u001b[0m\u001b[0mmodels\u001b[0m \u001b[0;34m=\u001b[0m \u001b[0mModels\u001b[0m\u001b[0;34m(\u001b[0m\u001b[0mself\u001b[0m\u001b[0;34m)\u001b[0m\u001b[0;34m\u001b[0m\u001b[0;34m\u001b[0m\u001b[0m\n",
            "\u001b[0;32m/usr/local/lib/python3.10/dist-packages/modzy/client.py\u001b[0m in \u001b[0;36mcheck_client\u001b[0;34m(self)\u001b[0m\n\u001b[1;32m     71\u001b[0m \u001b[0;34m\u001b[0m\u001b[0m\n\u001b[1;32m     72\u001b[0m         \u001b[0;32mif\u001b[0m \u001b[0;32mnot\u001b[0m \u001b[0mreq_check\u001b[0m\u001b[0;34m:\u001b[0m\u001b[0;34m\u001b[0m\u001b[0;34m\u001b[0m\u001b[0m\n\u001b[0;32m---> 73\u001b[0;31m             raise ValueError(\"Cannot initialize the modzy client: the base_url param should point to a valid API \"\n\u001b[0m\u001b[1;32m     74\u001b[0m                              \"endpoint and the api_key should be a valid key for the env\")\n\u001b[1;32m     75\u001b[0m \u001b[0;34m\u001b[0m\u001b[0m\n",
            "\u001b[0;31mValueError\u001b[0m: Cannot initialize the modzy client: the base_url param should point to a valid API endpoint and the api_key should be a valid key for the env"
          ]
        }
      ]
    }
  ]
}