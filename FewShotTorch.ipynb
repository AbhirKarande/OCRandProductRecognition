{
  "nbformat": 4,
  "nbformat_minor": 0,
  "metadata": {
    "colab": {
      "provenance": [],
      "authorship_tag": "ABX9TyMymSmStQJ2XVCZQte1qYF1",
      "include_colab_link": true
    },
    "kernelspec": {
      "name": "python3",
      "display_name": "Python 3"
    },
    "language_info": {
      "name": "python"
    }
  },
  "cells": [
    {
      "cell_type": "markdown",
      "metadata": {
        "id": "view-in-github",
        "colab_type": "text"
      },
      "source": [
        "<a href=\"https://colab.research.google.com/github/AbhirKarande/OCRandProductRecognition/blob/main/FewShotTorch.ipynb\" target=\"_parent\"><img src=\"https://colab.research.google.com/assets/colab-badge.svg\" alt=\"Open In Colab\"/></a>"
      ]
    },
    {
      "cell_type": "code",
      "source": [
        "!git clone https://github.com/AbhirKarande/OCRandProductRecognition.git"
      ],
      "metadata": {
        "colab": {
          "base_uri": "https://localhost:8080/"
        },
        "id": "D5BEmV6DSxOV",
        "outputId": "7e7fe179-61c2-42b9-fef3-127b2b0edfdb"
      },
      "execution_count": 1,
      "outputs": [
        {
          "output_type": "stream",
          "name": "stdout",
          "text": [
            "Cloning into 'OCRandProductRecognition'...\n",
            "remote: Enumerating objects: 43, done.\u001b[K\n",
            "remote: Counting objects: 100% (43/43), done.\u001b[K\n",
            "remote: Compressing objects: 100% (41/41), done.\u001b[K\n",
            "remote: Total 43 (delta 8), reused 0 (delta 0), pack-reused 0\u001b[K\n",
            "Unpacking objects: 100% (43/43), 5.77 MiB | 14.26 MiB/s, done.\n"
          ]
        }
      ]
    },
    {
      "cell_type": "code",
      "execution_count": 5,
      "metadata": {
        "id": "ndcd8k4DpZK1"
      },
      "outputs": [],
      "source": [
        "import torch\n",
        "import torch.nn as nn\n",
        "import torch.optim as optim\n",
        "from torchvision.models import resnet18\n",
        "from torchvision.transforms import transforms\n",
        "from torch.utils.data import DataLoader\n",
        "from torch.autograd import Variable\n",
        "from PIL import Image"
      ]
    },
    {
      "cell_type": "code",
      "source": [
        "class PrototypicalNetwork(nn.Module):\n",
        "    def __init__(self, num_classes, feature_dim):\n",
        "        super(PrototypicalNetwork, self).__init__()\n",
        "        self.encoder = nn.Linear(feature_dim, num_classes)\n",
        "        \n",
        "    def forward(self, support, query):\n",
        "        prototypes = torch.mean(support, dim=1)\n",
        "        logits = self.encoder(query)\n",
        "        return logits, prototypes"
      ],
      "metadata": {
        "id": "YYDgv2RaXY4l"
      },
      "execution_count": 6,
      "outputs": []
    },
    {
      "cell_type": "code",
      "source": [
        "!pip install keras"
      ],
      "metadata": {
        "colab": {
          "base_uri": "https://localhost:8080/"
        },
        "id": "7YkKDFacTHWf",
        "outputId": "ba8d2cf9-592a-440e-ba29-a7865454d4fc"
      },
      "execution_count": 3,
      "outputs": [
        {
          "output_type": "stream",
          "name": "stdout",
          "text": [
            "Looking in indexes: https://pypi.org/simple, https://us-python.pkg.dev/colab-wheels/public/simple/\n",
            "Requirement already satisfied: keras in /usr/local/lib/python3.10/dist-packages (2.12.0)\n"
          ]
        }
      ]
    },
    {
      "cell_type": "code",
      "source": [
        "train_dir = '/content/OCRandProductRecognition/WholeFoodsTrainingImages/train'\n",
        "batch_size = 2\n",
        "image_size = (224, 224)\n",
        "num_classes = 4\n",
        "label_names = [\"DavesKillerBread\", \"GothamGreensBasil\", \"LabellePatrimoineHeritageEggs\", \"WholeFoodsMarketBrownButterChocolateChunk\"]\n",
        "num_epochs = 10\n",
        "num_classes = len(label_names)\n",
        "feature_dim = 512\n",
        "num_support = 2\n",
        "num_query = 2\n",
        "learning_rate = 0.001"
      ],
      "metadata": {
        "id": "6GJVy0H9TK-h"
      },
      "execution_count": 20,
      "outputs": []
    },
    {
      "cell_type": "code",
      "source": [
        "# Define the few-shot learning model\n",
        "class PrototypicalNetwork(nn.Module):\n",
        "    def __init__(self, num_classes, feature_dim):\n",
        "        super(PrototypicalNetwork, self).__init__()\n",
        "        self.encoder = nn.Linear(feature_dim, num_classes)\n",
        "        \n",
        "    def forward(self, support, query):\n",
        "        prototypes = torch.mean(support, dim=1)\n",
        "        logits = self.encoder(query)\n",
        "        return logits, prototypes"
      ],
      "metadata": {
        "id": "8cIsqdS1XfUp"
      },
      "execution_count": 21,
      "outputs": []
    },
    {
      "cell_type": "code",
      "source": [
        "transform = transforms.Compose([\n",
        "    transforms.Resize((224, 224)),\n",
        "    transforms.ToTensor(),\n",
        "])"
      ],
      "metadata": {
        "id": "8J9eBEp_X2S6"
      },
      "execution_count": 22,
      "outputs": []
    },
    {
      "cell_type": "code",
      "source": [
        "device = torch.device(\"cuda\" if torch.cuda.is_available() else \"cpu\")\n"
      ],
      "metadata": {
        "id": "xcNeOG0WX6Rs"
      },
      "execution_count": 23,
      "outputs": []
    },
    {
      "cell_type": "code",
      "source": [
        "# Load the pre-trained CNN model\n",
        "cnn = resnet18(pretrained=True)\n",
        "cnn = nn.Sequential(*list(cnn.children())[:-1])  # Remove the last classification layer\n",
        "cnn.to(device)\n",
        "\n",
        "# Create the few-shot learning model\n",
        "model = PrototypicalNetwork(num_classes, feature_dim)\n",
        "model.to(device)\n",
        "\n",
        "# Define the optimizer and loss function\n",
        "optimizer = optim.Adam(model.parameters(), lr=learning_rate)\n",
        "criterion = nn.CrossEntropyLoss()"
      ],
      "metadata": {
        "id": "7ZmsdkYQX4r-"
      },
      "execution_count": 24,
      "outputs": []
    },
    {
      "cell_type": "code",
      "source": [
        "\n",
        "import os\n",
        "for epoch in range(num_epochs):\n",
        "    # Iterate over each class\n",
        "    for class_idx, label_name in enumerate(label_names):\n",
        "        class_dir = os.path.join(train_dir, label_name)\n",
        "        image_files = os.listdir(class_dir)\n",
        "        support_images = []\n",
        "        query_images = []\n",
        "        \n",
        "        # Load support and query images for the current class\n",
        "        for i, image_file in enumerate(image_files):\n",
        "            image_path = os.path.join(class_dir, image_file)\n",
        "            image = Image.open(image_path).convert(\"RGB\")\n",
        "            image = transform(image).unsqueeze(0)\n",
        "            if i < num_support:\n",
        "                support_images.append(image)\n",
        "            else:\n",
        "                query_images.append(image)\n",
        "        \n",
        "        # Prepare support and query tensors\n",
        "        support_images = torch.cat(support_images, dim=0).to(device)\n",
        "        query_images = torch.cat(query_images, dim=0).to(device)\n",
        "        \n",
        "        # Extract features using the pre-trained CNN\n",
        "        support_features = cnn(Variable(support_images)).squeeze()\n",
        "        query_features = cnn(Variable(query_images)).squeeze()\n",
        "        \n",
        "        # Forward pass\n",
        "        logits, prototypes = model(support_features, query_features)\n",
        "        \n",
        "        # Compute loss\n",
        "        num_query_samples = query_features.size(0)  # Get the actual number of query samples\n",
        "        labels = torch.tensor([class_idx] * num_query_samples).to(device)  # Adjust the labels tensor size\n",
        "        loss = criterion(logits, labels)\n",
        "        \n",
        "        # Backward pass and optimization\n",
        "        optimizer.zero_grad()\n",
        "        loss.backward()\n",
        "        optimizer.step()\n",
        "        \n",
        "        # Print loss\n",
        "        print(f\"Epoch [{epoch+1}/{num_epochs}], Class {label_name}, Loss: {loss.item():.4f}\")\n"
      ],
      "metadata": {
        "colab": {
          "base_uri": "https://localhost:8080/"
        },
        "id": "-uuiIFxPYTgh",
        "outputId": "360c78fe-4ba2-4eda-9407-79d09077fa78"
      },
      "execution_count": 27,
      "outputs": [
        {
          "output_type": "stream",
          "name": "stdout",
          "text": [
            "Epoch [1/10], Class DavesKillerBread, Loss: 1.3567\n",
            "Epoch [1/10], Class GothamGreensBasil, Loss: 1.5450\n",
            "Epoch [1/10], Class LabellePatrimoineHeritageEggs, Loss: 2.1043\n",
            "Epoch [1/10], Class WholeFoodsMarketBrownButterChocolateChunk, Loss: 3.0192\n",
            "Epoch [2/10], Class DavesKillerBread, Loss: 0.8479\n",
            "Epoch [2/10], Class GothamGreensBasil, Loss: 1.2347\n",
            "Epoch [2/10], Class LabellePatrimoineHeritageEggs, Loss: 1.6904\n",
            "Epoch [2/10], Class WholeFoodsMarketBrownButterChocolateChunk, Loss: 2.3781\n",
            "Epoch [3/10], Class DavesKillerBread, Loss: 1.2057\n",
            "Epoch [3/10], Class GothamGreensBasil, Loss: 1.2237\n",
            "Epoch [3/10], Class LabellePatrimoineHeritageEggs, Loss: 1.3709\n",
            "Epoch [3/10], Class WholeFoodsMarketBrownButterChocolateChunk, Loss: 1.7780\n",
            "Epoch [4/10], Class DavesKillerBread, Loss: 1.5638\n",
            "Epoch [4/10], Class GothamGreensBasil, Loss: 1.3716\n",
            "Epoch [4/10], Class LabellePatrimoineHeritageEggs, Loss: 1.2718\n",
            "Epoch [4/10], Class WholeFoodsMarketBrownButterChocolateChunk, Loss: 1.3902\n",
            "Epoch [5/10], Class DavesKillerBread, Loss: 1.7752\n",
            "Epoch [5/10], Class GothamGreensBasil, Loss: 1.5125\n",
            "Epoch [5/10], Class LabellePatrimoineHeritageEggs, Loss: 1.2975\n",
            "Epoch [5/10], Class WholeFoodsMarketBrownButterChocolateChunk, Loss: 1.2210\n",
            "Epoch [6/10], Class DavesKillerBread, Loss: 1.8018\n",
            "Epoch [6/10], Class GothamGreensBasil, Loss: 1.5540\n",
            "Epoch [6/10], Class LabellePatrimoineHeritageEggs, Loss: 1.3441\n",
            "Epoch [6/10], Class WholeFoodsMarketBrownButterChocolateChunk, Loss: 1.2225\n",
            "Epoch [7/10], Class DavesKillerBread, Loss: 1.6919\n",
            "Epoch [7/10], Class GothamGreensBasil, Loss: 1.5112\n",
            "Epoch [7/10], Class LabellePatrimoineHeritageEggs, Loss: 1.3807\n",
            "Epoch [7/10], Class WholeFoodsMarketBrownButterChocolateChunk, Loss: 1.3274\n",
            "Epoch [8/10], Class DavesKillerBread, Loss: 1.5367\n",
            "Epoch [8/10], Class GothamGreensBasil, Loss: 1.4443\n",
            "Epoch [8/10], Class LabellePatrimoineHeritageEggs, Loss: 1.4114\n",
            "Epoch [8/10], Class WholeFoodsMarketBrownButterChocolateChunk, Loss: 1.4618\n",
            "Epoch [9/10], Class DavesKillerBread, Loss: 1.4089\n",
            "Epoch [9/10], Class GothamGreensBasil, Loss: 1.3937\n",
            "Epoch [9/10], Class LabellePatrimoineHeritageEggs, Loss: 1.4326\n",
            "Epoch [9/10], Class WholeFoodsMarketBrownButterChocolateChunk, Loss: 1.5629\n",
            "Epoch [10/10], Class DavesKillerBread, Loss: 1.3388\n",
            "Epoch [10/10], Class GothamGreensBasil, Loss: 1.3683\n",
            "Epoch [10/10], Class LabellePatrimoineHeritageEggs, Loss: 1.4362\n",
            "Epoch [10/10], Class WholeFoodsMarketBrownButterChocolateChunk, Loss: 1.6012\n"
          ]
        }
      ]
    },
    {
      "cell_type": "code",
      "source": [
        "import torch\n",
        "\n",
        "# Save the entire model\n",
        "torch.save(model.state_dict(), 'few_shot_model.pth')\n"
      ],
      "metadata": {
        "id": "YyrcakE4ds5b"
      },
      "execution_count": 28,
      "outputs": []
    },
    {
      "cell_type": "code",
      "source": [
        "# Once the model is trained, you can use it for inference on new, unseen images\n",
        "# Extract features from the new image using the pre-trained CNN\n",
        "new_image = Image.open(\"path_to_new_image.jpg\").convert(\"RGB\")\n",
        "new_image = transform(new_image).unsqueeze(0).to(device)\n",
        "new_features = cnn(Variable(new_image)).squeeze()"
      ],
      "metadata": {
        "id": "zwe81VQiYbRu"
      },
      "execution_count": null,
      "outputs": []
    },
    {
      "cell_type": "code",
      "source": [
        "# Calculate distances to class prototypes\n",
        "with torch.no_grad():\n",
        "    new_features = new_features.unsqueeze(0)\n",
        "    _, prototypes = model(None, new_features)\n",
        "    distances = torch.cdist(new_features, prototypes)"
      ],
      "metadata": {
        "id": "1nBbMXTXYcWu"
      },
      "execution_count": null,
      "outputs": []
    },
    {
      "cell_type": "code",
      "source": [
        "# Get the predicted class label\n",
        "predicted_class = torch.argmin(distances).item()\n",
        "predicted_label = label_names[predicted_class]\n",
        "\n",
        "print(\"Predicted Label:\", predicted_label)"
      ],
      "metadata": {
        "id": "uebz0MeUYfT_"
      },
      "execution_count": null,
      "outputs": []
    }
  ]
}