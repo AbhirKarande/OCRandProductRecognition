{
  "nbformat": 4,
  "nbformat_minor": 0,
  "metadata": {
    "colab": {
      "provenance": [],
      "authorship_tag": "ABX9TyPFQXiy20fRJTsn29tucOoz",
      "include_colab_link": true
    },
    "kernelspec": {
      "name": "python3",
      "display_name": "Python 3"
    },
    "language_info": {
      "name": "python"
    }
  },
  "cells": [
    {
      "cell_type": "markdown",
      "metadata": {
        "id": "view-in-github",
        "colab_type": "text"
      },
      "source": [
        "<a href=\"https://colab.research.google.com/github/AbhirKarande/OCRandProductRecognition/blob/main/MetaLearning.ipynb\" target=\"_parent\"><img src=\"https://colab.research.google.com/assets/colab-badge.svg\" alt=\"Open In Colab\"/></a>"
      ]
    },
    {
      "cell_type": "code",
      "execution_count": 1,
      "metadata": {
        "id": "IvjgU0BbwwrU"
      },
      "outputs": [],
      "source": [
        "import os\n",
        "import numpy as np\n",
        "from tensorflow import keras\n",
        "from tensorflow.keras.preprocessing.image import load_img, img_to_array\n",
        "from tensorflow.keras.layers import Conv2D, MaxPooling2D, Flatten, Dense\n",
        "from tensorflow.keras.models import Model\n",
        "from tensorflow.keras.optimizers import Adam"
      ]
    },
    {
      "cell_type": "code",
      "source": [
        "# Set the directories containing the image samples\n",
        "data_dir = \"<path_to_directory_containing_sample_images>\"\n",
        "class_names = [\"class1\", \"class2\", \"class3\", \"class4\"]\n",
        "num_classes = len(class_names)\n",
        "num_samples_per_class = 5\n",
        "num_support_samples = 3  # Number of support samples per class\n",
        "num_query_samples = 2  # Number of query samples per class"
      ],
      "metadata": {
        "id": "2cyWgF9Cw46A"
      },
      "execution_count": null,
      "outputs": []
    },
    {
      "cell_type": "code",
      "source": [
        "# Create empty lists for storing support set and query set\n",
        "x_support = []\n",
        "y_support = []\n",
        "x_query = []\n",
        "y_query = []"
      ],
      "metadata": {
        "id": "7JF-uEK2w7s9"
      },
      "execution_count": null,
      "outputs": []
    },
    {
      "cell_type": "code",
      "source": [
        "# Load the image samples and assign labels\n",
        "for i, class_name in enumerate(class_names):\n",
        "    class_dir = os.path.join(data_dir, class_name)\n",
        "    for j in range(num_samples_per_class):\n",
        "        img_path = os.path.join(class_dir, f\"{class_name}_{j+1}.jpg\")\n",
        "        img = load_img(img_path, target_size=(224, 224))  # Adjust target_size as needed\n",
        "        img_array = img_to_array(img)\n",
        "        \n",
        "        if j < num_support_samples:\n",
        "            x_support.append(img_array)\n",
        "            y_support.append(i)\n",
        "        else:\n",
        "            x_query.append(img_array)\n",
        "            y_query.append(i)\n"
      ],
      "metadata": {
        "id": "eWWlBHDOw9Hd"
      },
      "execution_count": null,
      "outputs": []
    },
    {
      "cell_type": "code",
      "source": [
        "# Convert lists to numpy arrays\n",
        "x_support = np.array(x_support)\n",
        "y_support = np.array(y_support)\n",
        "x_query = np.array(x_query)\n",
        "y_query = np.array(y_query)\n",
        "\n",
        "# Normalize pixel values to [0, 1]\n",
        "x_support = x_support / 255.0\n",
        "x_query = x_query / 255.0"
      ],
      "metadata": {
        "id": "2cAs_eufw_qw"
      },
      "execution_count": null,
      "outputs": []
    },
    {
      "cell_type": "code",
      "source": [
        "# Define the Prototypical Networks model\n",
        "def prototypical_networks(input_shape):\n",
        "    inputs = keras.Input(shape=input_shape)\n",
        "    x = Conv2D(64, (3, 3), activation='relu')(inputs)\n",
        "    x = MaxPooling2D((2, 2))(x)\n",
        "    x = Conv2D(64, (3, 3), activation='relu')(x)\n",
        "    x = MaxPooling2D((2, 2))(x)\n",
        "    x = Flatten()(x)\n",
        "    x = Dense(64, activation='relu')(x)\n",
        "    outputs = Dense(num_classes, activation='softmax')(x)\n",
        "    model = Model(inputs, outputs)\n",
        "    return model"
      ],
      "metadata": {
        "id": "iIc3gYtWxBLi"
      },
      "execution_count": null,
      "outputs": []
    },
    {
      "cell_type": "code",
      "source": [
        "# Define the loss function\n",
        "def prototypical_loss(y_true, y_pred):\n",
        "    support_labels = y_true[:, :num_support_samples]\n",
        "    query_labels = y_true[:, num_support_samples:]\n",
        "    support_predictions = y_pred[:, :num_support_samples, :]\n",
        "    query_predictions = y_pred[:, num_support_samples:, :]\n",
        "    \n",
        "    # Compute prototypes by taking the mean of support set embeddings\n",
        "    prototypes = keras.backend.mean(support_predictions, axis=1)\n",
        "    \n",
        "    # Calculate distances between query embeddings and prototypes\n",
        "    distances = keras.backend.sum(keras.backend.square(query_predictions - prototypes), axis=-1)\n",
        "    \n",
        "    # Compute cross-entropy loss\n",
        "    query_loss = keras.backend.sparse_categorical_crossentropy(query_labels, -distances)\n",
        "    \n",
        "    return keras.backend.mean(query_loss)"
      ],
      "metadata": {
        "id": "Ote51pQvxEGE"
      },
      "execution_count": null,
      "outputs": []
    },
    {
      "cell_type": "code",
      "source": [
        "# Create the Prototypical Networks model\n",
        "input_shape = x_support.shape[1:]\n",
        "model = prototypical_networks(input_shape)"
      ],
      "metadata": {
        "id": "5OFuf1PsxJrG"
      },
      "execution_count": null,
      "outputs": []
    },
    {
      "cell_type": "code",
      "source": [
        "model.compile(optimizer=Adam(), loss=prototypical_loss)\n"
      ],
      "metadata": {
        "id": "Zt_ewdIOxFdL"
      },
      "execution_count": null,
      "outputs": []
    },
    {
      "cell_type": "code",
      "source": [
        "model.fit(x_support, y_support, epochs=10, batch_size=num_classes)\n"
      ],
      "metadata": {
        "id": "P6lA61C0xF5C"
      },
      "execution_count": null,
      "outputs": []
    },
    {
      "cell_type": "code",
      "source": [
        "# Evaluate the model on query set\n",
        "_, accuracy = model.evaluate(x_query, y_query)\n",
        "print(\"Accuracy:\", accuracy)"
      ],
      "metadata": {
        "id": "OaGo2dbdxH09"
      },
      "execution_count": null,
      "outputs": []
    }
  ]
}